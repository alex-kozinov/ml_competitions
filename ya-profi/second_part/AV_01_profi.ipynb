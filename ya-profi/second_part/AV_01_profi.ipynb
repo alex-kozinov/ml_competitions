{
  "nbformat": 4,
  "nbformat_minor": 0,
  "metadata": {
    "kernelspec": {
      "display_name": "Python 3",
      "language": "python",
      "name": "python3"
    },
    "language_info": {
      "codemirror_mode": {
        "name": "ipython",
        "version": 3
      },
      "file_extension": ".py",
      "mimetype": "text/x-python",
      "name": "python",
      "nbconvert_exporter": "python",
      "pygments_lexer": "ipython3",
      "version": "3.7.4"
    },
    "colab": {
      "name": "AV_01_profi.ipynb",
      "provenance": []
    }
  },
  "cells": [
    {
      "cell_type": "markdown",
      "metadata": {
        "id": "PONe8W3pmWlL",
        "colab_type": "text"
      },
      "source": [
        "# Title\n",
        "\n",
        "\n",
        "## Problem statement\n",
        "\n",
        "\n",
        "## Methodology\n",
        "Quickly describe assumptions and processing steps.\n",
        "\n",
        "## WIP - improvements\n",
        "Use this section only if the notebook is not final.\n",
        "\n",
        "Notable TODOs:\n",
        "- todo 1;\n",
        "- todo 2;\n",
        "- todo 3.\n",
        "\n",
        "## Results\n",
        "Describe and comment the most important results."
      ]
    },
    {
      "cell_type": "markdown",
      "metadata": {
        "id": "Q4LqdgsLmWlM",
        "colab_type": "text"
      },
      "source": [
        "# Setup\n",
        "\n",
        "## Library import\n",
        "We import all the required Python libraries"
      ]
    },
    {
      "cell_type": "code",
      "metadata": {
        "id": "QTximvRDmWlO",
        "colab_type": "code",
        "colab": {}
      },
      "source": [
        "# Data manipulation\n",
        "import pandas as pd\n",
        "import numpy as np\n",
        "\n",
        "# Options for pandas\n",
        "pd.options.display.max_columns = 50\n",
        "pd.options.display.max_rows = 30\n",
        "\n",
        "# Visualisation\n",
        "import matplotlib as plt"
      ],
      "execution_count": 0,
      "outputs": []
    },
    {
      "cell_type": "markdown",
      "metadata": {
        "id": "VpD8gI-TmWlR",
        "colab_type": "text"
      },
      "source": [
        "## Local library import\n",
        "We import all the required local libraries libraries"
      ]
    },
    {
      "cell_type": "code",
      "metadata": {
        "id": "LoIEOqyImWlS",
        "colab_type": "code",
        "colab": {
          "base_uri": "https://localhost:8080/",
          "height": 35
        },
        "outputId": "63b273ab-94d5-4250-c254-09c8a40ed208"
      },
      "source": [
        "# Mount Google Drive\n",
        "from google.colab import drive\n",
        "drive.mount('/content/drive/')\n",
        "WORK_DIR = \"/content/drive/My Drive/datasets/ya-profi/\""
      ],
      "execution_count": 4,
      "outputs": [
        {
          "output_type": "stream",
          "text": [
            "Drive already mounted at /content/drive/; to attempt to forcibly remount, call drive.mount(\"/content/drive/\", force_remount=True).\n"
          ],
          "name": "stdout"
        }
      ]
    },
    {
      "cell_type": "markdown",
      "metadata": {
        "id": "ddWIyJeFmWlV",
        "colab_type": "text"
      },
      "source": [
        "# Parameter definition\n",
        "We set all relevant parameters for our notebook. By convention, parameters are uppercase, while all the \n",
        "other variables follow Python's guidelines."
      ]
    },
    {
      "cell_type": "markdown",
      "metadata": {
        "id": "z_XqePZOmWlW",
        "colab_type": "text"
      },
      "source": [
        "\n",
        "# Data import\n",
        "We retrieve all the required data for the analysis."
      ]
    },
    {
      "cell_type": "markdown",
      "metadata": {
        "id": "GkY6VZQWmWlX",
        "colab_type": "text"
      },
      "source": [
        "# Data processing\n",
        "Put here the core of the notebook. Feel free di further split this section into subsections."
      ]
    },
    {
      "cell_type": "code",
      "metadata": {
        "id": "_CfG-Gi4mWlY",
        "colab_type": "code",
        "colab": {}
      },
      "source": [
        ""
      ],
      "execution_count": 0,
      "outputs": []
    }
  ]
}