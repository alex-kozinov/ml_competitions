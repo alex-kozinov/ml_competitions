{
 "cells": [
  {
   "cell_type": "markdown",
   "metadata": {
    "colab_type": "text",
    "id": "PONe8W3pmWlL"
   },
   "source": [
    "# Title\n",
    "\n",
    "\n",
    "## Problem statement\n",
    "\n",
    "\n",
    "## Methodology\n",
    "Quickly describe assumptions and processing steps.\n",
    "\n",
    "## WIP - improvements\n",
    "Use this section only if the notebook is not final.\n",
    "\n",
    "Notable TODOs:\n",
    "- todo 1;\n",
    "- todo 2;\n",
    "- todo 3.\n",
    "\n",
    "## Results\n",
    "Describe and comment the most important results."
   ]
  },
  {
   "cell_type": "markdown",
   "metadata": {
    "colab_type": "text",
    "id": "Q4LqdgsLmWlM"
   },
   "source": [
    "# Setup\n",
    "\n",
    "## Library import\n",
    "We import all the required Python libraries"
   ]
  },
  {
   "cell_type": "code",
   "execution_count": 0,
   "metadata": {
    "colab": {},
    "colab_type": "code",
    "id": "QTximvRDmWlO"
   },
   "outputs": [],
   "source": [
    "# Data manipulation\n",
    "import pandas as pd\n",
    "import numpy as np\n",
    "\n",
    "# Options for pandas\n",
    "pd.options.display.max_columns = 50\n",
    "pd.options.display.max_rows = 30\n",
    "\n",
    "# Visualisation\n",
    "import matplotlib as plt"
   ]
  },
  {
   "cell_type": "markdown",
   "metadata": {
    "colab_type": "text",
    "id": "VpD8gI-TmWlR"
   },
   "source": [
    "## Local library import\n",
    "We import all the required local libraries libraries"
   ]
  },
  {
   "cell_type": "code",
   "execution_count": 4,
   "metadata": {
    "colab": {
     "base_uri": "https://localhost:8080/",
     "height": 35
    },
    "colab_type": "code",
    "id": "LoIEOqyImWlS",
    "outputId": "63b273ab-94d5-4250-c254-09c8a40ed208"
   },
   "outputs": [
    {
     "name": "stdout",
     "output_type": "stream",
     "text": [
      "Drive already mounted at /content/drive/; to attempt to forcibly remount, call drive.mount(\"/content/drive/\", force_remount=True).\n"
     ]
    }
   ],
   "source": [
    "# Mount Google Drive\n",
    "from google.colab import drive\n",
    "drive.mount('/content/drive/')\n",
    "WORK_DIR = \"/content/drive/My Drive/datasets/ya-profi/\""
   ]
  },
  {
   "cell_type": "markdown",
   "metadata": {
    "colab_type": "text",
    "id": "ddWIyJeFmWlV"
   },
   "source": [
    "# Parameter definition\n",
    "We set all relevant parameters for our notebook. By convention, parameters are uppercase, while all the \n",
    "other variables follow Python's guidelines."
   ]
  },
  {
   "cell_type": "code",
   "execution_count": 1,
   "metadata": {},
   "outputs": [],
   "source": [
    "languages = ['bg', 'cs', 'da', 'de', 'el', 'es',\n",
    "             'et', 'ﬁ', 'fr', 'hu', 'it', 'lt',\n",
    "             'lv', 'nl', 'pl', 'pt', 'ro', 'sk', 'sl', 'sv']"
   ]
  },
  {
   "cell_type": "markdown",
   "metadata": {
    "colab_type": "text",
    "id": "z_XqePZOmWlW"
   },
   "source": [
    "\n",
    "# Data import"
   ]
  },
  {
   "cell_type": "code",
   "execution_count": 20,
   "metadata": {},
   "outputs": [],
   "source": [
    "lan2words = {}\n",
    "for language in languages:\n",
    "    with open('data/train_' + language, 'r', encoding='utf-8') as f:\n",
    "        lan2words[language] = []\n",
    "        for line in f:\n",
    "            lan2words[language] += [word.strip('.,;-:!?1234567890').lower() for word in line.split()]"
   ]
  },
  {
   "cell_type": "markdown",
   "metadata": {
    "colab_type": "text",
    "id": "GkY6VZQWmWlX"
   },
   "source": [
    "# Data processing"
   ]
  },
  {
   "cell_type": "markdown",
   "metadata": {},
   "source": [
    "## Подсчёт употреблений каждой пары соседних символов\n"
   ]
  },
  {
   "cell_type": "code",
   "execution_count": 35,
   "metadata": {},
   "outputs": [],
   "source": [
    "sym2lan = {}\n",
    "for language in languages:\n",
    "    for word in lan2words[language]:\n",
    "        if len(word) == 0:\n",
    "            continue\n",
    "        for i in range(len(word) - 1):\n",
    "            sym = word[i:i+2]\n",
    "            if not sym in sym2lan.keys():\n",
    "                sym2lan[sym] = {}\n",
    "            if not language in sym2lan[sym]:\n",
    "                sym2lan[sym][language] = 0\n",
    "        \n",
    "            sym2lan[sym][language] += 1        "
   ]
  },
  {
   "cell_type": "markdown",
   "metadata": {},
   "source": [
    "## Обработка тестовой выборки"
   ]
  },
  {
   "cell_type": "code",
   "execution_count": 39,
   "metadata": {},
   "outputs": [],
   "source": [
    "res = []\n",
    "with open('data/test', 'r', encoding='utf-8') as f_test:\n",
    "    for line in f_test:\n",
    "        n, word = line.split()\n",
    "        predictions = {}\n",
    "        for language in languages:\n",
    "            predictions[language] = 0\n",
    "\n",
    "        for i in range(len(word) - 1):\n",
    "            sym = word[i:i+2]\n",
    "            for language in languages:\n",
    "                if sym in sym2lan.keys() and language in sym2lan[sym].keys():\n",
    "                    predictions[language] += sym2lan[sym][language]\n",
    "        \n",
    "        max_proba = 0\n",
    "        ans = 'sl'\n",
    "        for language in languages:\n",
    "            if predictions[language] > max_proba:\n",
    "                max_proba = predictions[language]\n",
    "                ans = language\n",
    "                \n",
    "        res.append(' '.join([n, ans]))"
   ]
  },
  {
   "cell_type": "markdown",
   "metadata": {},
   "source": [
    "## Сохранение результата"
   ]
  },
  {
   "cell_type": "code",
   "execution_count": 41,
   "metadata": {},
   "outputs": [],
   "source": [
    "with open('data/test_submission', 'w', encoding='utf-8') as f:\n",
    "    f.write('\\n'.join(res))"
   ]
  },
  {
   "cell_type": "code",
   "execution_count": null,
   "metadata": {},
   "outputs": [],
   "source": []
  }
 ],
 "metadata": {
  "colab": {
   "name": "AV_01_profi.ipynb",
   "provenance": []
  },
  "kernelspec": {
   "display_name": "Python 3",
   "language": "python",
   "name": "python3"
  },
  "language_info": {
   "codemirror_mode": {
    "name": "ipython",
    "version": 3
   },
   "file_extension": ".py",
   "mimetype": "text/x-python",
   "name": "python",
   "nbconvert_exporter": "python",
   "pygments_lexer": "ipython3",
   "version": "3.7.4"
  }
 },
 "nbformat": 4,
 "nbformat_minor": 1
}
