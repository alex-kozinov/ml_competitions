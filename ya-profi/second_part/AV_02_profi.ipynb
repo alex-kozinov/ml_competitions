{
  "nbformat": 4,
  "nbformat_minor": 0,
  "metadata": {
    "kernelspec": {
      "display_name": "Python 3",
      "language": "python",
      "name": "python3"
    },
    "language_info": {
      "codemirror_mode": {
        "name": "ipython",
        "version": 3
      },
      "file_extension": ".py",
      "mimetype": "text/x-python",
      "name": "python",
      "nbconvert_exporter": "python",
      "pygments_lexer": "ipython3",
      "version": "3.7.4"
    },
    "colab": {
      "name": "AV_02_profi.ipynb",
      "provenance": []
    }
  },
  "cells": [
    {
      "cell_type": "markdown",
      "metadata": {
        "id": "npjXO0xMvrmm",
        "colab_type": "text"
      },
      "source": [
        "# Title\n",
        "The title of the notebook should be coherent with file name. Namely, file name should be:    \n",
        "*author's initials_progressive number_title.ipynb*    \n",
        "For example:    \n",
        "*EF_01_Data Exploration.ipynb*\n",
        "\n",
        "## Purpose\n",
        "State the purpose of the notebook.\n",
        "\n",
        "## Methodology\n",
        "Quickly describe assumptions and processing steps.\n",
        "\n",
        "## WIP - improvements\n",
        "Use this section only if the notebook is not final.\n",
        "\n",
        "Notable TODOs:\n",
        "- todo 1;\n",
        "- todo 2;\n",
        "- todo 3.\n",
        "\n",
        "## Results\n",
        "Describe and comment the most important results.\n",
        "\n",
        "## Suggested next steps\n",
        "State suggested next steps, based on results obtained in this notebook."
      ]
    },
    {
      "cell_type": "markdown",
      "metadata": {
        "id": "Y-I57Ndwvrmp",
        "colab_type": "text"
      },
      "source": [
        "# Setup\n",
        "\n",
        "## Library import\n",
        "We import all the required Python libraries"
      ]
    },
    {
      "cell_type": "code",
      "metadata": {
        "id": "cNh2iX0rvrmq",
        "colab_type": "code",
        "colab": {}
      },
      "source": [
        "# Data manipulation\n",
        "import pandas as pd\n",
        "import numpy as np\n",
        "import cv2\n",
        "from google.colab.patches import cv2_imshow\n",
        "\n",
        "# Options for pandas\n",
        "pd.options.display.max_columns = 50\n",
        "pd.options.display.max_rows = 30\n",
        "\n",
        "# Visualisation\n",
        "import matplotlib.pyplot as plt"
      ],
      "execution_count": 0,
      "outputs": []
    },
    {
      "cell_type": "markdown",
      "metadata": {
        "id": "BtkPzXmsvrmw",
        "colab_type": "text"
      },
      "source": [
        "## Local library import\n",
        "We import all the required local libraries libraries"
      ]
    },
    {
      "cell_type": "code",
      "metadata": {
        "id": "zvJgGsRxvrmx",
        "colab_type": "code",
        "colab": {
          "base_uri": "https://localhost:8080/",
          "height": 35
        },
        "outputId": "93aff593-c73a-4924-83ac-13c2ab3abc72"
      },
      "source": [
        "# Mount Google Drive\n",
        "from google.colab import drive\n",
        "drive.mount('/content/drive/')\n",
        "WORK_DIR = \"/content/drive/My Drive/datasets/ya-profi/train/\""
      ],
      "execution_count": 4,
      "outputs": [
        {
          "output_type": "stream",
          "text": [
            "Drive already mounted at /content/drive/; to attempt to forcibly remount, call drive.mount(\"/content/drive/\", force_remount=True).\n"
          ],
          "name": "stdout"
        }
      ]
    },
    {
      "cell_type": "markdown",
      "metadata": {
        "id": "7FR0Ifyovrm0",
        "colab_type": "text"
      },
      "source": [
        "# Parameter definition\n",
        "We set all relevant parameters for our notebook. By convention, parameters are uppercase, while all the \n",
        "other variables follow Python's guidelines."
      ]
    },
    {
      "cell_type": "code",
      "metadata": {
        "id": "_43QLARsxtJE",
        "colab_type": "code",
        "colab": {}
      },
      "source": [
        "date_types = ['simple', 'normal', 'hard', 'random']"
      ],
      "execution_count": 0,
      "outputs": []
    },
    {
      "cell_type": "markdown",
      "metadata": {
        "id": "hkYhK1VPvrm1",
        "colab_type": "text"
      },
      "source": [
        "\n",
        "# Data import\n",
        "We retrieve all the required data for the analysis."
      ]
    },
    {
      "cell_type": "code",
      "metadata": {
        "id": "u1T9e02Ox2co",
        "colab_type": "code",
        "colab": {}
      },
      "source": [
        "data = {}\n",
        "for data_type in date_types:\n",
        "  data[data_type] = []\n",
        "  for i in range(1000):\n",
        "      name = ('00000' + str(i))[-5:] + '.png'\n",
        "      image = cv2.imread(WORK_DIR + data_tipe + '/+name)\n",
        "      data[data_type].append(image)"
      ],
      "execution_count": 0,
      "outputs": []
    },
    {
      "cell_type": "markdown",
      "metadata": {
        "id": "9O8-2-movrm2",
        "colab_type": "text"
      },
      "source": [
        "# Data processing\n",
        "Put here the core of the notebook. Feel free di further split this section into subsections."
      ]
    },
    {
      "cell_type": "code",
      "metadata": {
        "id": "jXv5ZO9Tzthm",
        "colab_type": "code",
        "colab": {}
      },
      "source": [
        "def detect_circles(image):\n",
        "    # cv2_imshow(image)\n",
        "    t = 100\n",
        "    h, w, depth = image.shape\n",
        "\n",
        "    # Apply filters\n",
        "    grey = cv2.cvtColor(image, cv2.COLOR_BGR2GRAY)\n",
        "    canny = cv2.Canny(grey, t / 2, t)\n",
        "    inversed = 255 - canny\n",
        "\n",
        "    return blured"
      ],
      "execution_count": 0,
      "outputs": []
    },
    {
      "cell_type": "code",
      "metadata": {
        "id": "gHSXaQuS1Ugy",
        "colab_type": "code",
        "colab": {}
      },
      "source": [
        "img = detect_circles(simple[0])"
      ],
      "execution_count": 0,
      "outputs": []
    },
    {
      "cell_type": "code",
      "metadata": {
        "id": "e6Vt5SZX5OeI",
        "colab_type": "code",
        "colab": {
          "base_uri": "https://localhost:8080/",
          "height": 497
        },
        "outputId": "b70a853c-12d6-4da2-e9ca-69e4748eb1be"
      },
      "source": [
        "cv2_imshow(img)"
      ],
      "execution_count": 120,
      "outputs": [
        {
          "output_type": "display_data",
          "data": {
            "image/png": "[encoded data removed]",
            "text/plain": [
              "<PIL.Image.Image image mode=L size=620x480 at 0x7FA64D57FF28>"
            ]
          },
          "metadata": {
            "tags": []
          }
        }
      ]
    },
    {
      "cell_type": "markdown",
      "metadata": {
        "id": "P6GB0w31vrm3",
        "colab_type": "text"
      },
      "source": [
        "# References\n",
        "We report here relevant references:\n",
        "1. author1, article1, journal1, year1, url1\n",
        "2. author2, article2, journal2, year2, url2"
      ]
    },
    {
      "cell_type": "code",
      "metadata": {
        "id": "VAIRpsLUvrm4",
        "colab_type": "code",
        "colab": {}
      },
      "source": [
        ""
      ],
      "execution_count": 0,
      "outputs": []
    },
    {
      "cell_type": "code",
      "metadata": {
        "id": "ITvWm8T1vrm7",
        "colab_type": "code",
        "colab": {}
      },
      "source": [
        ""
      ],
      "execution_count": 0,
      "outputs": []
    }
  ]
}