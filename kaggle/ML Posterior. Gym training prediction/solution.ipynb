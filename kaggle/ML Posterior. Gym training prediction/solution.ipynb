{
  "nbformat": 4,
  "nbformat_minor": 0,
  "metadata": {
    "kernelspec": {
      "display_name": "Python 3",
      "language": "python",
      "name": "python3"
    },
    "language_info": {
      "codemirror_mode": {
        "name": "ipython",
        "version": 3
      },
      "file_extension": ".py",
      "mimetype": "text/x-python",
      "name": "python",
      "nbconvert_exporter": "python",
      "pygments_lexer": "ipython3",
      "version": "3.6.10"
    },
    "colab": {
      "name": "solution.ipynb",
      "provenance": []
    }
  },
  "cells": [
    {
      "cell_type": "markdown",
      "metadata": {
        "id": "fPWzgA5pirVo",
        "colab_type": "text"
      },
      "source": [
        "# Введение"
      ]
    },
    {
      "cell_type": "markdown",
      "metadata": {
        "id": "CybclLK6ijga",
        "colab_type": "text"
      },
      "source": [
        "## Описание задачи"
      ]
    },
    {
      "cell_type": "markdown",
      "metadata": {
        "id": "D8sINhZyjdL7",
        "colab_type": "text"
      },
      "source": [
        "### EN"
      ]
    },
    {
      "cell_type": "markdown",
      "metadata": {
        "id": "CKOjPGgCjWX2",
        "colab_type": "text"
      },
      "source": [
        "A network of sports clubs tracks training sessions conducted by its coaches for clients. If a client wants to sign up for a training session, he/she calls the reception or come in person. The GYM’s staff appoints the appropriate time, the coach and the club. At your disposal, you have a database of several GYMs with this data. The data contains a log of training sessions for 2017 and 2018 in a trainset, and training sessions for 2019 in a testset. There is a boolean target flag for each training session: whether a training session had been.\n",
        "\n",
        "You face the task of reducing the number of training process skips by identifying factors that affect the skip. For this purpose, you have to build a model that predicts the probability of the client going to the GYM training.\n",
        "\n",
        "Optional question:\n",
        "\n",
        "* How could we enrich the data to improve the model quality?"
      ]
    },
    {
      "cell_type": "markdown",
      "metadata": {
        "id": "9Bn7vUi_jirs",
        "colab_type": "text"
      },
      "source": [
        "## Описание датасета"
      ]
    },
    {
      "cell_type": "markdown",
      "metadata": {
        "id": "8K1Llc2PkRQw",
        "colab_type": "text"
      },
      "source": [
        "### EN"
      ]
    },
    {
      "cell_type": "markdown",
      "metadata": {
        "id": "cyNr9jFHj8va",
        "colab_type": "text"
      },
      "source": [
        "* Id: index of training session\n",
        "* ClientID: Client who signed up for a training session\n",
        "* CoachID: Сoach to whom the client signed up\n",
        "* GymID: GYM center where the training will take place. One client can have trainings in different gyms. Also one coach can have trrainings in different gyms.\n",
        "* TrainingID: Training type: strength training, cardio, swimming pool, etc\n",
        "* Time: Scheduled time\n",
        "* Target: Whether a training session had been: Yes(1) or No(0)"
      ]
    },
    {
      "cell_type": "markdown",
      "metadata": {
        "id": "DfJMbHB1j3qT",
        "colab_type": "text"
      },
      "source": [
        "# Подготовка ноутбука"
      ]
    },
    {
      "cell_type": "markdown",
      "metadata": {
        "id": "DRtEggw5mMcU",
        "colab_type": "text"
      },
      "source": [
        "## Библиотеки"
      ]
    },
    {
      "cell_type": "code",
      "metadata": {
        "id": "PdJYo2EcmRZR",
        "colab_type": "code",
        "colab": {}
      },
      "source": [
        "import numpy as np"
      ],
      "execution_count": 3,
      "outputs": []
    },
    {
      "cell_type": "markdown",
      "metadata": {
        "id": "fTALJ4H5mVr4",
        "colab_type": "text"
      },
      "source": [
        "## Обработка случая работы в Google.Colab"
      ]
    },
    {
      "cell_type": "code",
      "metadata": {
        "id": "TeUXiI4RmxoL",
        "colab_type": "code",
        "colab": {
          "base_uri": "https://localhost:8080/",
          "height": 179
        },
        "outputId": "5dd4ed8b-f91e-4199-eab6-386895764a87"
      },
      "source": [
        "try:\n",
        "    import google.colab\n",
        "    USE_COLAB = True\n",
        "except:\n",
        "    USE_COLAB = False\n",
        "\n",
        "if USE_COLAB:\n",
        "    print(\"Don't forget to avoid disconnections:\")\n",
        "    print(\"\"\"\n",
        "function ClickConnect(){\n",
        "    console.log(\"Clicking\"); \n",
        "    document.querySelector(\"colab-connect-button\").click() \n",
        "}\n",
        "setInterval(ClickConnect,60000)\n",
        "    \"\"\")"
      ],
      "execution_count": 6,
      "outputs": [
        {
          "output_type": "stream",
          "text": [
            "Don't forget to avoid disconnections:\n",
            "\n",
            "function ClickConnect(){\n",
            "    console.log(\"Clicking\"); \n",
            "    document.querySelector(\"colab-connect-button\").click() \n",
            "}\n",
            "setInterval(ClickConnect,60000)\n",
            "    \n",
            "    \n"
          ],
          "name": "stdout"
        }
      ]
    },
    {
      "cell_type": "markdown",
      "metadata": {
        "id": "U7rfkVWfnF-S",
        "colab_type": "text"
      },
      "source": [
        "# Юнит тестирование"
      ]
    },
    {
      "cell_type": "markdown",
      "metadata": {
        "id": "FXQBH20aoTZH",
        "colab_type": "text"
      },
      "source": [
        "## Подключение библиотек"
      ]
    },
    {
      "cell_type": "code",
      "metadata": {
        "id": "wDe_sqoLoWYg",
        "colab_type": "code",
        "colab": {}
      },
      "source": [
        "import unittest"
      ],
      "execution_count": 7,
      "outputs": []
    },
    {
      "cell_type": "markdown",
      "metadata": {
        "id": "yQSf1SvuoYHP",
        "colab_type": "text"
      },
      "source": [
        "## Объявление тестирующего класса"
      ]
    },
    {
      "cell_type": "code",
      "metadata": {
        "id": "Qz4myBWbomDN",
        "colab_type": "code",
        "colab": {}
      },
      "source": [
        "class TestNotebook(unittest.TestCase):\n",
        "    def test_add(self):\n",
        "        self.assertEqual(2 + 2, 4)"
      ],
      "execution_count": 8,
      "outputs": []
    },
    {
      "cell_type": "markdown",
      "metadata": {
        "id": "CO-Nl-0tor6W",
        "colab_type": "text"
      },
      "source": [
        "## Запуск тестов"
      ]
    },
    {
      "cell_type": "code",
      "metadata": {
        "id": "PQyyW4jHowk6",
        "colab_type": "code",
        "colab": {
          "base_uri": "https://localhost:8080/",
          "height": 143
        },
        "outputId": "beb89ea3-6f43-4aa2-936f-6e22d0ad3e9f"
      },
      "source": [
        "unittest.main(argv=[''], verbosity=2, exit=False)"
      ],
      "execution_count": 10,
      "outputs": [
        {
          "output_type": "stream",
          "text": [
            "test_add (__main__.TestNotebook) ... ok\n",
            "\n",
            "----------------------------------------------------------------------\n",
            "Ran 1 test in 0.002s\n",
            "\n",
            "OK\n"
          ],
          "name": "stderr"
        },
        {
          "output_type": "execute_result",
          "data": {
            "text/plain": [
              "<unittest.main.TestProgram at 0x7f929c006dd8>"
            ]
          },
          "metadata": {
            "tags": []
          },
          "execution_count": 10
        }
      ]
    }
  ]
}