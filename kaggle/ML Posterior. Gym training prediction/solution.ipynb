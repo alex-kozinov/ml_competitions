{
  "nbformat": 4,
  "nbformat_minor": 0,
  "metadata": {
    "colab": {
      "name": "solution.ipynb",
      "provenance": [],
      "toc_visible": true
    },
    "kernelspec": {
      "display_name": "Python 3",
      "language": "python",
      "name": "python3"
    },
    "language_info": {
      "codemirror_mode": {
        "name": "ipython",
        "version": 3
      },
      "file_extension": ".py",
      "mimetype": "text/x-python",
      "name": "python",
      "nbconvert_exporter": "python",
      "pygments_lexer": "ipython3",
      "version": "3.6.10"
    }
  },
  "cells": [
    {
      "cell_type": "markdown",
      "metadata": {
        "colab_type": "text",
        "id": "fPWzgA5pirVo"
      },
      "source": [
        "# Введение"
      ]
    },
    {
      "cell_type": "markdown",
      "metadata": {
        "colab_type": "text",
        "id": "CybclLK6ijga"
      },
      "source": [
        "## Описание задачи\n",
        "[источник](https://www.kaggle.com/c/ml-posterior-gym-training-prediction)"
      ]
    },
    {
      "cell_type": "markdown",
      "metadata": {
        "colab_type": "text",
        "id": "D8sINhZyjdL7"
      },
      "source": [
        "### EN"
      ]
    },
    {
      "cell_type": "markdown",
      "metadata": {
        "colab_type": "text",
        "id": "CKOjPGgCjWX2"
      },
      "source": [
        "A network of sports clubs tracks training sessions conducted by its coaches for clients. If a client wants to sign up for a training session, he/she calls the reception or come in person. The GYM’s staff appoints the appropriate time, the coach and the club. At your disposal, you have a database of several GYMs with this data. The data contains a log of training sessions for 2017 and 2018 in a trainset, and training sessions for 2019 in a testset. There is a boolean target flag for each training session: whether a training session had been.\n",
        "\n",
        "You face the task of reducing the number of training process skips by identifying factors that affect the skip. For this purpose, you have to build a model that predicts the probability of the client going to the GYM training.\n",
        "\n",
        "Optional question:\n",
        "\n",
        "* How could we enrich the data to improve the model quality?"
      ]
    },
    {
      "cell_type": "markdown",
      "metadata": {
        "colab_type": "text",
        "id": "9Bn7vUi_jirs"
      },
      "source": [
        "## Описание датасета"
      ]
    },
    {
      "cell_type": "markdown",
      "metadata": {
        "colab_type": "text",
        "id": "8K1Llc2PkRQw"
      },
      "source": [
        "### EN"
      ]
    },
    {
      "cell_type": "markdown",
      "metadata": {
        "colab_type": "text",
        "id": "cyNr9jFHj8va"
      },
      "source": [
        "* Id: index of training session\n",
        "* ClientID: Client who signed up for a training session\n",
        "* CoachID: Сoach to whom the client signed up\n",
        "* GymID: GYM center where the training will take place. One client can have trainings in different gyms. Also one coach can have trrainings in different gyms.\n",
        "* TrainingID: Training type: strength training, cardio, swimming pool, etc\n",
        "* Time: Scheduled time\n",
        "* Target: Whether a training session had been: Yes(1) or No(0)"
      ]
    },
    {
      "cell_type": "markdown",
      "metadata": {
        "id": "aCF9gEOA0TWz",
        "colab_type": "text"
      },
      "source": [
        "## Идеи"
      ]
    },
    {
      "cell_type": "code",
      "metadata": {
        "id": "DVnx0t6B0WGB",
        "colab_type": "code",
        "colab": {}
      },
      "source": [
        "Можно было бы улучшить прогнозы, если добавить новые фичи. Например:\n",
        "* Географическое положение \n",
        "* Погоду (Можно узнать по времени и положению)\n",
        "* Возраст клиента\n",
        "* Пол (Сильно повлиять не должно)"
      ],
      "execution_count": null,
      "outputs": []
    },
    {
      "cell_type": "markdown",
      "metadata": {
        "colab_type": "text",
        "id": "DfJMbHB1j3qT"
      },
      "source": [
        "# Подготовка ноутбука"
      ]
    },
    {
      "cell_type": "markdown",
      "metadata": {
        "colab_type": "text",
        "id": "eBJOdy5g-7Vf"
      },
      "source": [
        "## Первичные константы "
      ]
    },
    {
      "cell_type": "code",
      "metadata": {
        "colab_type": "code",
        "id": "04FyTcMy-_y-",
        "colab": {}
      },
      "source": [
        "PROJECT_NAME = \"Kaggle. ML Posterior. Gym training prediction\"\n",
        "MOUNT_DIR = '/content/drive' # In case Colab Usage\n",
        "VALIDATE_RATIO = 0.2"
      ],
      "execution_count": 1,
      "outputs": []
    },
    {
      "cell_type": "markdown",
      "metadata": {
        "colab_type": "text",
        "id": "dbeCUdVpLISo"
      },
      "source": [
        "## Дополнительные установки"
      ]
    },
    {
      "cell_type": "code",
      "metadata": {
        "colab_type": "code",
        "id": "QYUv2A8ZLW9S",
        "colab": {
          "base_uri": "https://localhost:8080/",
          "height": 361
        },
        "outputId": "1936892b-98a7-41ae-a0d1-4dadc1c3b8ba"
      },
      "source": [
        "!pip install catboost"
      ],
      "execution_count": 2,
      "outputs": [
        {
          "output_type": "stream",
          "text": [
            "Collecting catboost\n",
            "\u001b[?25l  Downloading https://files.pythonhosted.org/packages/b2/aa/e61819d04ef2bbee778bf4b3a748db1f3ad23512377e43ecfdc3211437a0/catboost-0.23.2-cp36-none-manylinux1_x86_64.whl (64.8MB)\n",
            "\u001b[K     |████████████████████████████████| 64.8MB 56kB/s \n",
            "\u001b[?25hRequirement already satisfied: matplotlib in /usr/local/lib/python3.6/dist-packages (from catboost) (3.2.2)\n",
            "Requirement already satisfied: numpy>=1.16.0 in /usr/local/lib/python3.6/dist-packages (from catboost) (1.18.5)\n",
            "Requirement already satisfied: scipy in /usr/local/lib/python3.6/dist-packages (from catboost) (1.4.1)\n",
            "Requirement already satisfied: six in /usr/local/lib/python3.6/dist-packages (from catboost) (1.15.0)\n",
            "Requirement already satisfied: plotly in /usr/local/lib/python3.6/dist-packages (from catboost) (4.4.1)\n",
            "Requirement already satisfied: pandas>=0.24.0 in /usr/local/lib/python3.6/dist-packages (from catboost) (1.0.5)\n",
            "Requirement already satisfied: graphviz in /usr/local/lib/python3.6/dist-packages (from catboost) (0.10.1)\n",
            "Requirement already satisfied: python-dateutil>=2.1 in /usr/local/lib/python3.6/dist-packages (from matplotlib->catboost) (2.8.1)\n",
            "Requirement already satisfied: pyparsing!=2.0.4,!=2.1.2,!=2.1.6,>=2.0.1 in /usr/local/lib/python3.6/dist-packages (from matplotlib->catboost) (2.4.7)\n",
            "Requirement already satisfied: kiwisolver>=1.0.1 in /usr/local/lib/python3.6/dist-packages (from matplotlib->catboost) (1.2.0)\n",
            "Requirement already satisfied: cycler>=0.10 in /usr/local/lib/python3.6/dist-packages (from matplotlib->catboost) (0.10.0)\n",
            "Requirement already satisfied: retrying>=1.3.3 in /usr/local/lib/python3.6/dist-packages (from plotly->catboost) (1.3.3)\n",
            "Requirement already satisfied: pytz>=2017.2 in /usr/local/lib/python3.6/dist-packages (from pandas>=0.24.0->catboost) (2018.9)\n",
            "Installing collected packages: catboost\n",
            "Successfully installed catboost-0.23.2\n"
          ],
          "name": "stdout"
        }
      ]
    },
    {
      "cell_type": "markdown",
      "metadata": {
        "colab_type": "text",
        "id": "DRtEggw5mMcU"
      },
      "source": [
        "## Библиотеки"
      ]
    },
    {
      "cell_type": "code",
      "metadata": {
        "colab_type": "code",
        "id": "PdJYo2EcmRZR",
        "colab": {}
      },
      "source": [
        "import os\n",
        "\n",
        "from datetime import datetime\n",
        "\n",
        "from collections import Counter\n",
        "\n",
        "import numpy as np\n",
        "\n",
        "import pandas as pd\n",
        "\n",
        "import catboost as ctb\n",
        "from catboost import CatBoostClassifier, Pool\n",
        "from catboost.utils import get_roc_curve\n",
        "\n",
        "from sklearn.naive_bayes import CategoricalNB\n",
        "from sklearn.metrics import roc_auc_score, roc_curve, auc\n",
        "\n",
        "from plotly.subplots import make_subplots\n",
        "import plotly.graph_objects as go\n",
        "\n",
        "import matplotlib.pyplot as plt\n",
        "\n",
        "%matplotlib inline"
      ],
      "execution_count": 63,
      "outputs": []
    },
    {
      "cell_type": "markdown",
      "metadata": {
        "colab_type": "text",
        "id": "fTALJ4H5mVr4"
      },
      "source": [
        "## Обработка случая работы в Google.Colab"
      ]
    },
    {
      "cell_type": "markdown",
      "metadata": {
        "colab_type": "text",
        "id": "b0OMb3oiBZDv"
      },
      "source": [
        "### Подключение библиотек"
      ]
    },
    {
      "cell_type": "code",
      "metadata": {
        "colab_type": "code",
        "id": "TeUXiI4RmxoL",
        "colab": {
          "base_uri": "https://localhost:8080/",
          "height": 161
        },
        "outputId": "f363305a-47be-40b1-bab7-2ec9b5274054"
      },
      "source": [
        "try:\n",
        "    from google.colab import files, drive\n",
        "    \n",
        "    USE_COLAB = True\n",
        "except:\n",
        "    USE_COLAB = False\n",
        "\n",
        "if USE_COLAB:\n",
        "    print(\"Don't forget to avoid disconnections:\")\n",
        "    print(\"\"\"\n",
        "function ClickConnect(){\n",
        "    console.log(\"Clicking\"); \n",
        "    document.querySelector(\"colab-connect-button\").click() \n",
        "}\n",
        "setInterval(ClickConnect,60000)\n",
        "    \"\"\")"
      ],
      "execution_count": 4,
      "outputs": [
        {
          "output_type": "stream",
          "text": [
            "Don't forget to avoid disconnections:\n",
            "\n",
            "function ClickConnect(){\n",
            "    console.log(\"Clicking\"); \n",
            "    document.querySelector(\"colab-connect-button\").click() \n",
            "}\n",
            "setInterval(ClickConnect,60000)\n",
            "    \n"
          ],
          "name": "stdout"
        }
      ]
    },
    {
      "cell_type": "markdown",
      "metadata": {
        "colab_type": "text",
        "id": "7GAT7jD_Bf3t"
      },
      "source": [
        "### Подключение к Google.Drive"
      ]
    },
    {
      "cell_type": "code",
      "metadata": {
        "colab_type": "code",
        "id": "hv47CJ8cBknH",
        "colab": {
          "base_uri": "https://localhost:8080/",
          "height": 145
        },
        "outputId": "2b353cf9-064a-4a33-fcfd-a5b24555f186"
      },
      "source": [
        "if USE_COLAB:\n",
        "    drive.mount(MOUNT_DIR)\n",
        "    DRIVE_DIR = os.path.join(MOUNT_DIR, 'My Drive')\n",
        "    print(f\"Drive directory is {DRIVE_DIR}\")"
      ],
      "execution_count": 5,
      "outputs": [
        {
          "output_type": "stream",
          "text": [
            "Go to this URL in a browser: https://accounts.google.com/o/oauth2/auth?client_id=947318989803-6bn6qk8qdgf4n4g3pfee6491hc0brc4i.apps.googleusercontent.com&redirect_uri=urn%3aietf%3awg%3aoauth%3a2.0%3aoob&response_type=code&scope=email%20https%3a%2f%2fwww.googleapis.com%2fauth%2fdocs.test%20https%3a%2f%2fwww.googleapis.com%2fauth%2fdrive%20https%3a%2f%2fwww.googleapis.com%2fauth%2fdrive.photos.readonly%20https%3a%2f%2fwww.googleapis.com%2fauth%2fpeopleapi.readonly\n",
            "\n",
            "Enter your authorization code:\n",
            "··········\n",
            "Mounted at /content/drive\n",
            "Drive directory is /content/drive/My Drive\n"
          ],
          "name": "stdout"
        }
      ]
    },
    {
      "cell_type": "markdown",
      "metadata": {
        "colab_type": "text",
        "id": "ninPXIH2DPCQ"
      },
      "source": [
        "### Установка соединения с Kaggle"
      ]
    },
    {
      "cell_type": "code",
      "metadata": {
        "colab_type": "code",
        "id": "CvGz4ynfDvJi",
        "colab": {}
      },
      "source": [
        "if USE_COLAB:\n",
        "    !pip install -q kaggle\n",
        "    !mkdir ~/.kaggle\n",
        "    kaggle_file = os.path.join(DRIVE_DIR, 'kaggle.json')\n",
        "    !cp \"$kaggle_file\" ~/.kaggle/\n",
        "    !chmod 600 ~/.kaggle/kaggle.json"
      ],
      "execution_count": 6,
      "outputs": []
    },
    {
      "cell_type": "markdown",
      "metadata": {
        "colab_type": "text",
        "id": "ANBUdV7E97S3"
      },
      "source": [
        "## Объявление рабочей директории"
      ]
    },
    {
      "cell_type": "markdown",
      "metadata": {
        "colab_type": "text",
        "id": "3lMtcGAx-VTG"
      },
      "source": [
        "Подключение к Google.Drive в случае работы c Google.Colab"
      ]
    },
    {
      "cell_type": "code",
      "metadata": {
        "colab_type": "code",
        "id": "fCs60MoO96na",
        "colab": {
          "base_uri": "https://localhost:8080/",
          "height": 53
        },
        "outputId": "7e82a5ab-7be9-44e9-b851-2279e66270ae"
      },
      "source": [
        "PROJECT_DIR = os.path.join(DRIVE_DIR, 'projects', PROJECT_NAME) if USE_COLAB else './'\n",
        "WORK_DIR = '/content' if USE_COLAB else PROJECT_DIR\n",
        "print(f\"Project directory is {PROJECT_DIR}\")\n",
        "print(f\"Working directory is {WORK_DIR}\")"
      ],
      "execution_count": 7,
      "outputs": [
        {
          "output_type": "stream",
          "text": [
            "Project directory is /content/drive/My Drive/projects/Kaggle. ML Posterior. Gym training prediction\n",
            "Working directory is /content\n"
          ],
          "name": "stdout"
        }
      ]
    },
    {
      "cell_type": "markdown",
      "metadata": {
        "colab_type": "text",
        "id": "nBZbmTJtyro3"
      },
      "source": [
        "# Обработка данных"
      ]
    },
    {
      "cell_type": "markdown",
      "metadata": {
        "colab_type": "text",
        "id": "8v10jmWh7ZEq"
      },
      "source": [
        "На выходе должны быть объявлены переменные:\n",
        "\n",
        "* **X_train**: pd.DataFrame\\\n",
        "Id | ClientID | ClientType | CoachID | GymID | TrainingID | Month | Day\n",
        "* **y_train**: pd.Series\\\n",
        "Id | Target\n",
        "* **X_valid**: pd.DataFrame\\\n",
        "Id | ClientID | ClientType | CoachID | GymID | TrainingID | Month | Day\n",
        "* **y_valid**: pd.Series\\\n",
        "Id | Target\n",
        "* **X_test**: pd.DataFrame\\\n",
        "Id | ClientID | ClientType | CoachID | GymID | TrainingID | Month | Day\n",
        "\n",
        "TODO: Обновить"
      ]
    },
    {
      "cell_type": "markdown",
      "metadata": {
        "colab_type": "text",
        "id": "PIApOaBJ6Jvn"
      },
      "source": [
        "## Загрузка"
      ]
    },
    {
      "cell_type": "markdown",
      "metadata": {
        "colab_type": "text",
        "id": "VnrI6EYm7Bo2"
      },
      "source": [
        "Загрузка train/test датасета в датафреймы\n",
        "\n",
        "На выходе должны быть объявлены две переменные:\n",
        "* train_dataset: pd.Dataframe\n",
        "* test_dataset: pd.Dataframe"
      ]
    },
    {
      "cell_type": "markdown",
      "metadata": {
        "id": "eAVvGRwiWPoJ",
        "colab_type": "text"
      },
      "source": [
        "### Объявление путей"
      ]
    },
    {
      "cell_type": "code",
      "metadata": {
        "id": "H3Y9EgKWWPoJ",
        "colab_type": "code",
        "colab": {}
      },
      "source": [
        "src_data_dir_path = os.path.join(PROJECT_DIR, 'data')\n",
        "\n",
        "src_train_file_path = os.path.join(src_data_dir_path, 'train.csv.zip')\n",
        "src_test_file_path = os.path.join(src_data_dir_path, 'test.csv.zip')\n",
        "\n",
        "dist_data_dir = os.path.join(WORK_DIR, 'data')"
      ],
      "execution_count": 8,
      "outputs": []
    },
    {
      "cell_type": "markdown",
      "metadata": {
        "colab_type": "text",
        "id": "V-JF8VXJE_dW"
      },
      "source": [
        "### Скачивание архива\n"
      ]
    },
    {
      "cell_type": "code",
      "metadata": {
        "colab_type": "code",
        "id": "Kf9z7X7BE_C4",
        "colab": {
          "base_uri": "https://localhost:8080/",
          "height": 89
        },
        "outputId": "df611597-63b3-4054-bce5-c711decc6418"
      },
      "source": [
        "!kaggle competitions download -c ml-posterior-gym-training-prediction  -p \"$src_data_dir_path\""
      ],
      "execution_count": 9,
      "outputs": [
        {
          "output_type": "stream",
          "text": [
            "Warning: Looks like you're using an outdated API Version, please consider updating (server 1.5.6 / client 1.5.4)\n",
            "train.csv.zip: Skipping, found more recently modified local copy (use --force to force download)\n",
            "test.csv.zip: Skipping, found more recently modified local copy (use --force to force download)\n",
            "sample_submission.csv: Skipping, found more recently modified local copy (use --force to force download)\n"
          ],
          "name": "stdout"
        }
      ]
    },
    {
      "cell_type": "markdown",
      "metadata": {
        "colab_type": "text",
        "id": "ahegeQtfPM3B"
      },
      "source": [
        "### Разархивация"
      ]
    },
    {
      "cell_type": "code",
      "metadata": {
        "colab_type": "code",
        "id": "ndOKGc8lQ7YX",
        "colab": {}
      },
      "source": [
        "!unzip -o \"$src_train_file_path\" -d \"$dist_data_dir\" > /dev/null\n",
        "!unzip -o \"$src_test_file_path\" -d \"$dist_data_dir\" > /dev/null"
      ],
      "execution_count": 10,
      "outputs": []
    },
    {
      "cell_type": "markdown",
      "metadata": {
        "colab_type": "text",
        "id": "c3cEAgZrT0PZ"
      },
      "source": [
        "### Считывание"
      ]
    },
    {
      "cell_type": "code",
      "metadata": {
        "colab_type": "code",
        "id": "SlgGaj1qT5QJ",
        "colab": {}
      },
      "source": [
        "train_file_path = os.path.join(dist_data_dir, 'train.csv')\n",
        "test_file_path = os.path.join(dist_data_dir, 'test.csv')\n",
        "\n",
        "train_dataset = pd.read_csv(train_file_path, index_col='Id')\n",
        "test_dataset = pd.read_csv(test_file_path, index_col='Id')"
      ],
      "execution_count": 11,
      "outputs": []
    },
    {
      "cell_type": "markdown",
      "metadata": {
        "colab_type": "text",
        "id": "rYp375o3sABY"
      },
      "source": [
        "## Визуализация"
      ]
    },
    {
      "cell_type": "markdown",
      "metadata": {
        "colab_type": "text",
        "id": "j2aBvQjjsB6S"
      },
      "source": [
        "### Просмотр первых строк"
      ]
    },
    {
      "cell_type": "code",
      "metadata": {
        "colab_type": "code",
        "id": "__PnCfkPsMUE",
        "colab": {
          "base_uri": "https://localhost:8080/",
          "height": 235
        },
        "outputId": "26352aa1-2d6d-4197-ca69-6ffd4a865ae0"
      },
      "source": [
        "train_dataset.head()"
      ],
      "execution_count": 12,
      "outputs": [
        {
          "output_type": "execute_result",
          "data": {
            "text/html": [
              "<div>\n",
              "<style scoped>\n",
              "    .dataframe tbody tr th:only-of-type {\n",
              "        vertical-align: middle;\n",
              "    }\n",
              "\n",
              "    .dataframe tbody tr th {\n",
              "        vertical-align: top;\n",
              "    }\n",
              "\n",
              "    .dataframe thead th {\n",
              "        text-align: right;\n",
              "    }\n",
              "</style>\n",
              "<table border=\"1\" class=\"dataframe\">\n",
              "  <thead>\n",
              "    <tr style=\"text-align: right;\">\n",
              "      <th></th>\n",
              "      <th>Time</th>\n",
              "      <th>ClientID</th>\n",
              "      <th>ClientType</th>\n",
              "      <th>CoachID</th>\n",
              "      <th>GymID</th>\n",
              "      <th>TrainingID</th>\n",
              "      <th>Target</th>\n",
              "    </tr>\n",
              "    <tr>\n",
              "      <th>Id</th>\n",
              "      <th></th>\n",
              "      <th></th>\n",
              "      <th></th>\n",
              "      <th></th>\n",
              "      <th></th>\n",
              "      <th></th>\n",
              "      <th></th>\n",
              "    </tr>\n",
              "  </thead>\n",
              "  <tbody>\n",
              "    <tr>\n",
              "      <th>0</th>\n",
              "      <td>2018-07-02 09:40:00</td>\n",
              "      <td>1</td>\n",
              "      <td>1</td>\n",
              "      <td>780</td>\n",
              "      <td>0</td>\n",
              "      <td>694</td>\n",
              "      <td>0</td>\n",
              "    </tr>\n",
              "    <tr>\n",
              "      <th>1</th>\n",
              "      <td>2018-07-20 11:50:00</td>\n",
              "      <td>1</td>\n",
              "      <td>1</td>\n",
              "      <td>567</td>\n",
              "      <td>0</td>\n",
              "      <td>655</td>\n",
              "      <td>0</td>\n",
              "    </tr>\n",
              "    <tr>\n",
              "      <th>2</th>\n",
              "      <td>2018-11-01 11:25:00</td>\n",
              "      <td>1</td>\n",
              "      <td>1</td>\n",
              "      <td>622</td>\n",
              "      <td>0</td>\n",
              "      <td>2523</td>\n",
              "      <td>0</td>\n",
              "    </tr>\n",
              "    <tr>\n",
              "      <th>3</th>\n",
              "      <td>2017-01-18 13:05:00</td>\n",
              "      <td>60</td>\n",
              "      <td>1</td>\n",
              "      <td>105</td>\n",
              "      <td>0</td>\n",
              "      <td>719</td>\n",
              "      <td>1</td>\n",
              "    </tr>\n",
              "    <tr>\n",
              "      <th>4</th>\n",
              "      <td>2017-05-17 07:40:00</td>\n",
              "      <td>60</td>\n",
              "      <td>1</td>\n",
              "      <td>622</td>\n",
              "      <td>0</td>\n",
              "      <td>2523</td>\n",
              "      <td>1</td>\n",
              "    </tr>\n",
              "  </tbody>\n",
              "</table>\n",
              "</div>"
            ],
            "text/plain": [
              "                   Time  ClientID  ClientType  ...  GymID  TrainingID  Target\n",
              "Id                                             ...                           \n",
              "0   2018-07-02 09:40:00         1           1  ...      0         694       0\n",
              "1   2018-07-20 11:50:00         1           1  ...      0         655       0\n",
              "2   2018-11-01 11:25:00         1           1  ...      0        2523       0\n",
              "3   2017-01-18 13:05:00        60           1  ...      0         719       1\n",
              "4   2017-05-17 07:40:00        60           1  ...      0        2523       1\n",
              "\n",
              "[5 rows x 7 columns]"
            ]
          },
          "metadata": {
            "tags": []
          },
          "execution_count": 12
        }
      ]
    },
    {
      "cell_type": "code",
      "metadata": {
        "colab_type": "code",
        "id": "KScgn2FtsQON",
        "colab": {
          "base_uri": "https://localhost:8080/",
          "height": 235
        },
        "outputId": "af19c87a-3060-46b4-9287-63634efadea8"
      },
      "source": [
        "test_dataset.head()"
      ],
      "execution_count": 13,
      "outputs": [
        {
          "output_type": "execute_result",
          "data": {
            "text/html": [
              "<div>\n",
              "<style scoped>\n",
              "    .dataframe tbody tr th:only-of-type {\n",
              "        vertical-align: middle;\n",
              "    }\n",
              "\n",
              "    .dataframe tbody tr th {\n",
              "        vertical-align: top;\n",
              "    }\n",
              "\n",
              "    .dataframe thead th {\n",
              "        text-align: right;\n",
              "    }\n",
              "</style>\n",
              "<table border=\"1\" class=\"dataframe\">\n",
              "  <thead>\n",
              "    <tr style=\"text-align: right;\">\n",
              "      <th></th>\n",
              "      <th>Time</th>\n",
              "      <th>ClientID</th>\n",
              "      <th>ClientType</th>\n",
              "      <th>CoachID</th>\n",
              "      <th>GymID</th>\n",
              "      <th>TrainingID</th>\n",
              "    </tr>\n",
              "    <tr>\n",
              "      <th>Id</th>\n",
              "      <th></th>\n",
              "      <th></th>\n",
              "      <th></th>\n",
              "      <th></th>\n",
              "      <th></th>\n",
              "      <th></th>\n",
              "    </tr>\n",
              "  </thead>\n",
              "  <tbody>\n",
              "    <tr>\n",
              "      <th>0</th>\n",
              "      <td>2019-06-21 10:30:00</td>\n",
              "      <td>1</td>\n",
              "      <td>1</td>\n",
              "      <td>463</td>\n",
              "      <td>3</td>\n",
              "      <td>692</td>\n",
              "    </tr>\n",
              "    <tr>\n",
              "      <th>1</th>\n",
              "      <td>2019-05-19 15:25:00</td>\n",
              "      <td>1</td>\n",
              "      <td>1</td>\n",
              "      <td>728</td>\n",
              "      <td>6</td>\n",
              "      <td>2523</td>\n",
              "    </tr>\n",
              "    <tr>\n",
              "      <th>2</th>\n",
              "      <td>2019-05-24 18:20:00</td>\n",
              "      <td>1</td>\n",
              "      <td>1</td>\n",
              "      <td>622</td>\n",
              "      <td>0</td>\n",
              "      <td>434</td>\n",
              "    </tr>\n",
              "    <tr>\n",
              "      <th>3</th>\n",
              "      <td>2019-05-24 18:25:00</td>\n",
              "      <td>1</td>\n",
              "      <td>1</td>\n",
              "      <td>622</td>\n",
              "      <td>0</td>\n",
              "      <td>2523</td>\n",
              "    </tr>\n",
              "    <tr>\n",
              "      <th>4</th>\n",
              "      <td>2019-06-21 08:00:00</td>\n",
              "      <td>1</td>\n",
              "      <td>1</td>\n",
              "      <td>565</td>\n",
              "      <td>3</td>\n",
              "      <td>2523</td>\n",
              "    </tr>\n",
              "  </tbody>\n",
              "</table>\n",
              "</div>"
            ],
            "text/plain": [
              "                   Time  ClientID  ClientType  CoachID  GymID  TrainingID\n",
              "Id                                                                       \n",
              "0   2019-06-21 10:30:00         1           1      463      3         692\n",
              "1   2019-05-19 15:25:00         1           1      728      6        2523\n",
              "2   2019-05-24 18:20:00         1           1      622      0         434\n",
              "3   2019-05-24 18:25:00         1           1      622      0        2523\n",
              "4   2019-06-21 08:00:00         1           1      565      3        2523"
            ]
          },
          "metadata": {
            "tags": []
          },
          "execution_count": 13
        }
      ]
    },
    {
      "cell_type": "markdown",
      "metadata": {
        "colab_type": "text",
        "id": "3npuEMZ5XAFB"
      },
      "source": [
        "## Финальная обработка"
      ]
    },
    {
      "cell_type": "markdown",
      "metadata": {
        "colab_type": "text",
        "id": "gp-RiW4tXbxW"
      },
      "source": [
        "### Извлечение выборки и таргета\n",
        "\n",
        "На выходе должны быть объявлены переменные:\n",
        "\n",
        "* **X_train_pure**: pd.DataFrame\\\n",
        "Id | Time | ClientID | ClientType | CoachID | GymID | TrainingID\n",
        "* **y_train**: pd.Series\\\n",
        "Id | Target\n",
        "* **X_valid_pure**: pd.DataFrame\\\n",
        "Id | Time | ClientID | ClientType | CoachID | GymID | TrainingID\n",
        "* **y_valid**: pd.Series\\\n",
        "Id | Target\n",
        "* **X_test_pure**: pd.DataFrame\\\n",
        "Id | Time | ClientID | ClientType | CoachID | GymID | TrainingID"
      ]
    },
    {
      "cell_type": "code",
      "metadata": {
        "colab_type": "code",
        "id": "XTx9aq_Gql0l",
        "colab": {}
      },
      "source": [
        "train_dataset = train_dataset.sort_values(by='Time')\n",
        "\n",
        "partition = int(len(train_dataset) * (1 - VALIDATE_RATIO))\n",
        "train_train_dataset = train_dataset.iloc[:partition]\n",
        "train_valid_dataset = train_dataset.iloc[partition:]\n",
        "\n",
        "X_train_train_pure = train_train_dataset.drop('Target', axis=1)\n",
        "y_train_train = train_train_dataset['Target']\n",
        "\n",
        "X_train_valid_pure = train_valid_dataset.drop('Target', axis=1)\n",
        "y_train_valid = train_valid_dataset['Target']\n",
        "X_test_pure = test_dataset"
      ],
      "execution_count": 14,
      "outputs": []
    },
    {
      "cell_type": "markdown",
      "metadata": {
        "colab_type": "text",
        "id": "BD6LbHoswfKh"
      },
      "source": [
        "### Добавление дополнительных признаков\n",
        "\n",
        "* **X_train**: pd.DataFrame\\\n",
        "Id | ClientID | ClientType | CoachID | GymID | TrainingID | Month | Day | DayOfWeek | Season\n",
        "* **y_train**: pd.Series\\\n",
        "Id | Target\n",
        "* **X_valid**: pd.DataFrame\\\n",
        "Id | ClientID | ClientType | CoachID | GymID | TrainingID | Month | Day | DayOfWeek | Season\n",
        "* **y_valid**: pd.Series\\\n",
        "Id | Target\n",
        "* **X_test**: pd.DataFrame\\\n",
        "Id | ClientID | ClientType | CoachID | GymID | TrainingID | Month | Day | DayOfWeek | Season"
      ]
    },
    {
      "cell_type": "code",
      "metadata": {
        "colab_type": "code",
        "id": "zrWgxyiDwj9p",
        "colab": {}
      },
      "source": [
        "def add_time_features(X):\n",
        "    datetime_series = pd.to_datetime(X['Time'], format='%Y-%m-%d %H:%M:%S')\n",
        "    X['Month'] = pd.DatetimeIndex(datetime_series).month\n",
        "    X['Day'] = pd.DatetimeIndex(datetime_series).day\n",
        "    X['DayOfWeek'] = pd.DatetimeIndex(datetime_series).dayofweek\n",
        "    X['Season'] = (X['Month'] % 12 + 3) // 3\n",
        "    return X\n",
        "\n",
        "def prepare_sample(X):\n",
        "    X = X.copy()\n",
        "    X = add_time_features(X)\n",
        "    return X.drop('Time', axis=1)"
      ],
      "execution_count": 15,
      "outputs": []
    },
    {
      "cell_type": "code",
      "metadata": {
        "colab_type": "code",
        "id": "u-m9DEy40Ykh",
        "colab": {}
      },
      "source": [
        "X_train_train = prepare_sample(X_train_train_pure)\n",
        "X_train_valid = prepare_sample(X_train_valid_pure)\n",
        "X_test = prepare_sample(X_test_pure)"
      ],
      "execution_count": 16,
      "outputs": []
    },
    {
      "cell_type": "markdown",
      "metadata": {
        "colab_type": "text",
        "id": "YV16B-nOFVRf"
      },
      "source": [
        "# Эксперименты с обучением\n",
        "\n",
        "На выходе должны быть объявлены переменные\n",
        "\n",
        "* **y_test_predicted**: pd.Series \\\n",
        "Id | Target\n",
        "* **SUBMISSTION_FILE_NAME**: string\\\n",
        "Названия файла для сохранения"
      ]
    },
    {
      "cell_type": "markdown",
      "metadata": {
        "colab_type": "text",
        "id": "aYb4oyryFYiC"
      },
      "source": [
        "## Catboost"
      ]
    },
    {
      "cell_type": "markdown",
      "metadata": {
        "colab_type": "text",
        "id": "AYEJHFb6cGo3"
      },
      "source": [
        "### Объявление пула и параметров"
      ]
    },
    {
      "cell_type": "code",
      "metadata": {
        "colab_type": "code",
        "id": "yBK-GPNbFa3M",
        "colab": {}
      },
      "source": [
        "cat_features = [\n",
        "    'ClientID',\n",
        "    'ClientType',\n",
        "    'CoachID',\n",
        "    'GymID',\n",
        "    'TrainingID',\n",
        "    'Month',\n",
        "    'Day',\n",
        "    'DayOfWeek',\n",
        "    'Season'\n",
        "]\n",
        "ignored_features = [\n",
        "]\n",
        "train_train_pool = Pool(\n",
        "    X_train_train,\n",
        "    y_train_train,\n",
        "    cat_features=cat_features\n",
        ")\n",
        "train_valid_pool = Pool(\n",
        "    X_train_valid,\n",
        "    y_train_valid,\n",
        "    cat_features=cat_features\n",
        ")\n",
        "params = {\n",
        "    'iterations': 400,\n",
        "    'learning_rate': 0.08,\n",
        "    'eval_metric': 'AUC',\n",
        "#     'random_seed': 113,\n",
        "    'logging_level': 'Silent',\n",
        "    'use_best_model': False,\n",
        "    'ignored_features': ignored_features\n",
        "}"
      ],
      "execution_count": 76,
      "outputs": []
    },
    {
      "cell_type": "markdown",
      "metadata": {
        "colab_type": "text",
        "id": "DtsY2ubtcRFh"
      },
      "source": [
        "### Обучение с валидацией"
      ]
    },
    {
      "cell_type": "code",
      "metadata": {
        "colab_type": "code",
        "id": "P2b66TLUeWqK",
        "colab": {
          "base_uri": "https://localhost:8080/",
          "height": 53
        },
        "outputId": "264f79d1-64fe-4ab1-d907-38550761a9be"
      },
      "source": [
        "%%time\n",
        "model = CatBoostClassifier(**params)\n",
        "model.fit(train_train_pool, eval_set=train_valid_pool)"
      ],
      "execution_count": 77,
      "outputs": [
        {
          "output_type": "stream",
          "text": [
            "CPU times: user 6min 47s, sys: 24.4 s, total: 7min 12s\n",
            "Wall time: 3min 41s\n"
          ],
          "name": "stdout"
        }
      ]
    },
    {
      "cell_type": "markdown",
      "metadata": {
        "colab_type": "text",
        "id": "tTFp7opGcaSm"
      },
      "source": [
        "### Визуализация результатов"
      ]
    },
    {
      "cell_type": "code",
      "metadata": {
        "colab_type": "code",
        "id": "keVce6fG_uH0",
        "colab": {}
      },
      "source": [
        "def visualize_learning_results(metrics):\n",
        "    \"\"\"\n",
        "    Plot one graph for each metric\n",
        "\n",
        "    :param metrics: dict of metrics\n",
        "    \"\"\"\n",
        "\n",
        "    n = len(metrics)\n",
        "    \n",
        "    fig = make_subplots(\n",
        "        rows=n,\n",
        "        cols=1,\n",
        "        subplot_titles=list(metrics.keys())\n",
        "    )\n",
        "\n",
        "    for i, (metric_name, curves) in enumerate(metrics.items()):\n",
        "        for dataset_type, curve in curves.items():\n",
        "            m = len(curve)\n",
        "            fig.add_trace(\n",
        "                go.Scatter(\n",
        "                    x=np.arange(m),\n",
        "                    y=curve,\n",
        "                    mode='lines',\n",
        "                    name=f'{dataset_type} {metric_name}'\n",
        "                ),\n",
        "                row=i + 1,\n",
        "                col=1\n",
        "            )\n",
        "\n",
        "    fig.update_layout(\n",
        "        title_text=\"Learning results\",\n",
        "        width=297. * 3,\n",
        "        height=210. * 3 * n\n",
        "    )\n",
        "    fig.show()"
      ],
      "execution_count": 78,
      "outputs": []
    },
    {
      "cell_type": "code",
      "metadata": {
        "colab_type": "code",
        "id": "lKxIfG4ZBXCc",
        "colab": {}
      },
      "source": [
        "eval_results = model.get_evals_result()\n",
        "metrics = dict(\n",
        "    Logloss=dict(\n",
        "        validation=eval_results['validation']['Logloss'],\n",
        "        learn=eval_results['learn']['Logloss']\n",
        "    ),\n",
        "    AUC=dict(\n",
        "        validation=eval_results['validation']['AUC']\n",
        "    )\n",
        ")"
      ],
      "execution_count": 79,
      "outputs": []
    },
    {
      "cell_type": "code",
      "metadata": {
        "colab_type": "code",
        "id": "QiAI_GyDB2Tr",
        "colab": {
          "base_uri": "https://localhost:8080/",
          "height": 1000
        },
        "outputId": "b8919cf0-e7cd-4340-a905-0bb1c454a53b"
      },
      "source": [
        "visualize_learning_results(metrics)"
      ],
      "execution_count": 80,
      "outputs": [
        {
          "output_type": "display_data",
          "data": {
            "text/html": [
              "<html>\n",
              "<head><meta charset=\"utf-8\" /></head>\n",
              "<body>\n",
              "    <div>\n",
              "            <script src=\"https://cdnjs.cloudflare.com/ajax/libs/mathjax/2.7.5/MathJax.js?config=TeX-AMS-MML_SVG\"></script><script type=\"text/javascript\">if (window.MathJax) {MathJax.Hub.Config({SVG: {font: \"STIX-Web\"}});}</script>\n",
              "                <script type=\"text/javascript\">window.PlotlyConfig = {MathJaxConfig: 'local'};</script>\n",
              "        <script src=\"https://cdn.plot.ly/plotly-latest.min.js\"></script>    \n",
              "            <div id=\"2437d850-dff2-4f05-8c9e-211a3e208b8a\" class=\"plotly-graph-div\" style=\"height:1260.0px; width:891.0px;\"></div>\n",
              "            <script type=\"text/javascript\">\n",
              "                \n",
              "                    window.PLOTLYENV=window.PLOTLYENV || {};\n",
              "                    \n",
              "                if (document.getElementById(\"2437d850-dff2-4f05-8c9e-211a3e208b8a\")) {\n",
              "                    Plotly.newPlot(\n",
              "                        '2437d850-dff2-4f05-8c9e-211a3e208b8a',\n",
              "                        [{\"mode\": \"lines\", \"name\": \"validation Logloss\", \"type\": \"scatter\", \"x\": [0, 1, 2, 3, 4, 5, 6, 7, 8, 9, 10, 11, 12, 13, 14, 15, 16, 17, 18, 19, 20, 21, 22, 23, 24, 25, 26, 27, 28, 29, 30, 31, 32, 33, 34, 35, 36, 37, 38, 39, 40, 41, 42, 43, 44, 45, 46, 47, 48, 49, 50, 51, 52, 53, 54, 55, 56, 57, 58, 59, 60, 61, 62, 63, 64, 65, 66, 67, 68, 69, 70, 71, 72, 73, 74, 75, 76, 77, 78, 79, 80, 81, 82, 83, 84, 85, 86, 87, 88, 89, 90, 91, 92, 93, 94, 95, 96, 97, 98, 99, 100, 101, 102, 103, 104, 105, 106, 107, 108, 109, 110, 111, 112, 113, 114, 115, 116, 117, 118, 119, 120, 121, 122, 123, 124, 125, 126, 127, 128, 129, 130, 131, 132, 133, 134, 135, 136, 137, 138, 139, 140, 141, 142, 143, 144, 145, 146, 147, 148, 149, 150, 151, 152, 153, 154, 155, 156, 157, 158, 159, 160, 161, 162, 163, 164, 165, 166, 167, 168, 169, 170, 171, 172, 173, 174, 175, 176, 177, 178, 179, 180, 181, 182, 183, 184, 185, 186, 187, 188, 189, 190, 191, 192, 193, 194, 195, 196, 197, 198, 199, 200, 201, 202, 203, 204, 205, 206, 207, 208, 209, 210, 211, 212, 213, 214, 215, 216, 217, 218, 219, 220, 221, 222, 223, 224, 225, 226, 227, 228, 229, 230, 231, 232, 233, 234, 235, 236, 237, 238, 239, 240, 241, 242, 243, 244, 245, 246, 247, 248, 249, 250, 251, 252, 253, 254, 255, 256, 257, 258, 259, 260, 261, 262, 263, 264, 265, 266, 267, 268, 269, 270, 271, 272, 273, 274, 275, 276, 277, 278, 279, 280, 281, 282, 283, 284, 285, 286, 287, 288, 289, 290, 291, 292, 293, 294, 295, 296, 297, 298, 299, 300, 301, 302, 303, 304, 305, 306, 307, 308, 309, 310, 311, 312, 313, 314, 315, 316, 317, 318, 319, 320, 321, 322, 323, 324, 325, 326, 327, 328, 329, 330, 331, 332, 333, 334, 335, 336, 337, 338, 339, 340, 341, 342, 343, 344, 345, 346, 347, 348, 349, 350, 351, 352, 353, 354, 355, 356, 357, 358, 359, 360, 361, 362, 363, 364, 365, 366, 367, 368, 369, 370, 371, 372, 373, 374, 375, 376, 377, 378, 379, 380, 381, 382, 383, 384, 385, 386, 387, 388, 389, 390, 391, 392, 393, 394, 395, 396, 397, 398, 399], \"xaxis\": \"x\", \"y\": [0.5848791077355985, 0.49525766637861085, 0.4263315563483249, 0.3722178868966282, 0.3300719062825098, 0.29694471274902184, 0.2700475122267755, 0.24895100960039604, 0.23342483960559493, 0.21928189477889257, 0.208311941519052, 0.19860058502976813, 0.1898669760552866, 0.18259270319422516, 0.17762051510521526, 0.17414603426192923, 0.17114617123516354, 0.16779527585460435, 0.16565648638620634, 0.1638368512987886, 0.16306619219365445, 0.1622182007411091, 0.16157695445957654, 0.16098086234952463, 0.16030577509655233, 0.1601098347518012, 0.15965837533190833, 0.1591932250218321, 0.1587873402090638, 0.15853732287787892, 0.15820829921342083, 0.15799484822762705, 0.15760788193960532, 0.15743127487312858, 0.1572844908455845, 0.15713998443108826, 0.15704166419997392, 0.15693832036185573, 0.15675670614776335, 0.15659013969472915, 0.15632988144878548, 0.1560875511398694, 0.15601311465594425, 0.15594553261122132, 0.15601117921369634, 0.15587511163904114, 0.15584841363120866, 0.15568177037581013, 0.15546400493322213, 0.1555945311397945, 0.15546132642612373, 0.15556407916645576, 0.1554912583083523, 0.1554412433026401, 0.15529442327918158, 0.15528482629085266, 0.1551290436562795, 0.15527317508243776, 0.15539569987254764, 0.15535847376707357, 0.1552517233943788, 0.15510476857932656, 0.15504455067348596, 0.15513978513580434, 0.15514923578442824, 0.1552377540326471, 0.1552602089434584, 0.15518212184214514, 0.15531351104317298, 0.15533971641835206, 0.15541774591089977, 0.15556788239679478, 0.1556617206305801, 0.1556668384536386, 0.15571129598016267, 0.15585973881078205, 0.15589812970150624, 0.1557688745090931, 0.15584951149394918, 0.15600937766264303, 0.15611699170592316, 0.15626583643589012, 0.15639975898318345, 0.1565016140276022, 0.1565483496489069, 0.15663319097642733, 0.15668027393612466, 0.15671074913697453, 0.15672659572861286, 0.1568204334957159, 0.15687381629967617, 0.15685268833152663, 0.15675284977814072, 0.1568105928299892, 0.15686545101118946, 0.15694677887468175, 0.157011366419939, 0.15710922620206336, 0.15717863871741092, 0.15724619161047781, 0.15727325864250763, 0.157302069064999, 0.1572920999285006, 0.15730364584155432, 0.157489991404287, 0.1575207117884785, 0.15763650227926523, 0.15766095554516296, 0.15768613081625343, 0.15767067285382136, 0.15780419647163382, 0.15783436398968104, 0.15789771125139404, 0.1578936710359064, 0.15790305690328674, 0.15789940491288978, 0.15798298541493888, 0.15800025242592527, 0.15795224794460616, 0.158055797457673, 0.15811914004707883, 0.15823440028290664, 0.15832179252900597, 0.15827700977580803, 0.1583463482668443, 0.15834651608756276, 0.15843029068865314, 0.15845864212065613, 0.15861307226847926, 0.15868316328762774, 0.15869603078450562, 0.15860173989178958, 0.15872525142482255, 0.1588152017569712, 0.15893038110488986, 0.1589185642135393, 0.15896852575371054, 0.15899064413102157, 0.1589748625520395, 0.15898026366060236, 0.15894706370907513, 0.15891647648379745, 0.15896597804920223, 0.15895130204403338, 0.15892790023910403, 0.15890490744555824, 0.1589282756711687, 0.1590284655463095, 0.1589626845789709, 0.15896817291763707, 0.15901317619905384, 0.15903755101691813, 0.15909939119435426, 0.1590954838285744, 0.15914457876577776, 0.15917286040847733, 0.15924171500882403, 0.15926006074105808, 0.15932053403491592, 0.15932038526070766, 0.1593821508921192, 0.159411454007829, 0.15941163304039235, 0.1594508900335048, 0.1594352791221647, 0.15943424285404148, 0.15944123703153792, 0.15948808156234143, 0.1594949884970559, 0.1594764641054887, 0.15953005103310217, 0.1595543886016583, 0.15950761637025382, 0.159593301950852, 0.1596489167362607, 0.15964052769532988, 0.15968391714944058, 0.15968107799093145, 0.15968586955445388, 0.15975935661862664, 0.15977227807480254, 0.1598613117673477, 0.15986194214053073, 0.15989838289849304, 0.15988968762303482, 0.1598897231387001, 0.1598817170870298, 0.15989368006957064, 0.15988397815963173, 0.15996003125444253, 0.1599259746254181, 0.15992596179715068, 0.15994028626187898, 0.15994061964767958, 0.15997036188470337, 0.16000192903551225, 0.15995953217693887, 0.15994077213625524, 0.15995763287287457, 0.15995361122526797, 0.15995451376604808, 0.1599761071910038, 0.15997611552276753, 0.16001090895929934, 0.16005426830420788, 0.16003886299210285, 0.16000933625556826, 0.16002328348653833, 0.16006804525602866, 0.16006056874051788, 0.16013968543002194, 0.16023725520409735, 0.16023991948330155, 0.1602336873535468, 0.16020732621447534, 0.1602169387012005, 0.16021881257199522, 0.16030267616754199, 0.1602713316964932, 0.16027570999052138, 0.16027966266882687, 0.16027967316354222, 0.16027975105967235, 0.16027979207887247, 0.16029026816375452, 0.16033066661753656, 0.16032818724339193, 0.16036681352519894, 0.16038274429669555, 0.16035200511912298, 0.1604550306946705, 0.16043652915283793, 0.1604801220512504, 0.1605103579590973, 0.16051254784220648, 0.16065897459523168, 0.16065069193697834, 0.16067858557856138, 0.16065979851295353, 0.1606998393307178, 0.16069204652916233, 0.1606899095051653, 0.1607421499352404, 0.1607846248368889, 0.16078719862807933, 0.16085322457841034, 0.1608573169148101, 0.16086717563745975, 0.1609194874658836, 0.16092455327356112, 0.16098463181325437, 0.1609848051517621, 0.16103868836277185, 0.1611267065904539, 0.1611358033741735, 0.16108620790635442, 0.1610665711314574, 0.16105235392818978, 0.16105708883791653, 0.16105716624219227, 0.16106182080860518, 0.16105576627116222, 0.16106089392189402, 0.16105488279934244, 0.16110572766642497, 0.16116472142170155, 0.16115108216427906, 0.16118051614696535, 0.16118058633706187, 0.161193324856227, 0.161194016819426, 0.16119597524262447, 0.16122761626550383, 0.16123986314103908, 0.1613258535341944, 0.16132692141336497, 0.16132855232944282, 0.16132883252168354, 0.16135534423644413, 0.16135362333483597, 0.16134437713906274, 0.16134691135959273, 0.16135188216929935, 0.16135932513566162, 0.16136014694323933, 0.1613612438049814, 0.16136166928330908, 0.16133897040288125, 0.16134360801718786, 0.16139666769443198, 0.1613978490197333, 0.16139795021416384, 0.1614030155143923, 0.16141365944009672, 0.16141669050205804, 0.16141720607192236, 0.16141755544232736, 0.1614269221368401, 0.1614269424947771, 0.16142779104859076, 0.1614341780911013, 0.16152499628517275, 0.1615148837204301, 0.1614487988441128, 0.1614495622769737, 0.16145043599785516, 0.16145152406376728, 0.16145348022863143, 0.1614553762439038, 0.16145555191200145, 0.1614740808368248, 0.16151096576549032, 0.16151301638752508, 0.16147548921464197, 0.16148009873155797, 0.16148650556635852, 0.16157235203278936, 0.16157621699120023, 0.16157633696349757, 0.1615389714306828, 0.16163228105740757, 0.1616884076341172, 0.16171095698436821, 0.16175521169342508, 0.16175985976589227, 0.16179465594062334, 0.16178342641876756, 0.16174170886040432, 0.16175323250952853, 0.1617339711535268, 0.16172656515017012, 0.16175319878697755, 0.16179683820075227, 0.1617852043885713, 0.1617854431721906, 0.16192743398099865, 0.161927503694262, 0.16191933844497272, 0.16191182632741008, 0.16196757424299418, 0.1619336983517778, 0.16207622191975338, 0.16213212127707352, 0.1621601633115445, 0.16228541582205727, 0.162324401356815, 0.16234348755917627, 0.16235592905017018, 0.16231567419470108, 0.1623569051222548, 0.162349919686518, 0.1623455456184432, 0.16229864468701763, 0.16229653888280673, 0.16226798517752103, 0.16226881890535796, 0.16222473772515097, 0.16224544096293675, 0.1622445776115083, 0.1622649833820228, 0.16227076469350082, 0.1622825512392905, 0.16231637912989427, 0.16236151404569316, 0.1623765740058646, 0.16236262024314524, 0.16233802821520918, 0.1623077855515271, 0.16227392200615134, 0.16235915725029804, 0.1623636304725252, 0.16236907283881494, 0.16237042453136175, 0.1623422043634609, 0.16236193550617958, 0.16232886548483458, 0.16230800295355774, 0.16230803741134345, 0.1623244871239347, 0.16237529079945157, 0.1623767343584345, 0.16239073820665756, 0.1623908468517418, 0.16238283572059212, 0.16239686698127248, 0.16246756089783979, 0.16248837640701042, 0.16240630086343052, 0.1624064966249671, 0.1624169400340752, 0.16243508703114015, 0.1624735165692778, 0.1624805379323979, 0.16248237594789036, 0.16237559837694673, 0.16235801461161628, 0.1623637707114348, 0.1624084208975129, 0.16240858556812626, 0.16240568159296684], \"yaxis\": \"y\"}, {\"mode\": \"lines\", \"name\": \"learn Logloss\", \"type\": \"scatter\", \"x\": [0, 1, 2, 3, 4, 5, 6, 7, 8, 9, 10, 11, 12, 13, 14, 15, 16, 17, 18, 19, 20, 21, 22, 23, 24, 25, 26, 27, 28, 29, 30, 31, 32, 33, 34, 35, 36, 37, 38, 39, 40, 41, 42, 43, 44, 45, 46, 47, 48, 49, 50, 51, 52, 53, 54, 55, 56, 57, 58, 59, 60, 61, 62, 63, 64, 65, 66, 67, 68, 69, 70, 71, 72, 73, 74, 75, 76, 77, 78, 79, 80, 81, 82, 83, 84, 85, 86, 87, 88, 89, 90, 91, 92, 93, 94, 95, 96, 97, 98, 99, 100, 101, 102, 103, 104, 105, 106, 107, 108, 109, 110, 111, 112, 113, 114, 115, 116, 117, 118, 119, 120, 121, 122, 123, 124, 125, 126, 127, 128, 129, 130, 131, 132, 133, 134, 135, 136, 137, 138, 139, 140, 141, 142, 143, 144, 145, 146, 147, 148, 149, 150, 151, 152, 153, 154, 155, 156, 157, 158, 159, 160, 161, 162, 163, 164, 165, 166, 167, 168, 169, 170, 171, 172, 173, 174, 175, 176, 177, 178, 179, 180, 181, 182, 183, 184, 185, 186, 187, 188, 189, 190, 191, 192, 193, 194, 195, 196, 197, 198, 199, 200, 201, 202, 203, 204, 205, 206, 207, 208, 209, 210, 211, 212, 213, 214, 215, 216, 217, 218, 219, 220, 221, 222, 223, 224, 225, 226, 227, 228, 229, 230, 231, 232, 233, 234, 235, 236, 237, 238, 239, 240, 241, 242, 243, 244, 245, 246, 247, 248, 249, 250, 251, 252, 253, 254, 255, 256, 257, 258, 259, 260, 261, 262, 263, 264, 265, 266, 267, 268, 269, 270, 271, 272, 273, 274, 275, 276, 277, 278, 279, 280, 281, 282, 283, 284, 285, 286, 287, 288, 289, 290, 291, 292, 293, 294, 295, 296, 297, 298, 299, 300, 301, 302, 303, 304, 305, 306, 307, 308, 309, 310, 311, 312, 313, 314, 315, 316, 317, 318, 319, 320, 321, 322, 323, 324, 325, 326, 327, 328, 329, 330, 331, 332, 333, 334, 335, 336, 337, 338, 339, 340, 341, 342, 343, 344, 345, 346, 347, 348, 349, 350, 351, 352, 353, 354, 355, 356, 357, 358, 359, 360, 361, 362, 363, 364, 365, 366, 367, 368, 369, 370, 371, 372, 373, 374, 375, 376, 377, 378, 379, 380, 381, 382, 383, 384, 385, 386, 387, 388, 389, 390, 391, 392, 393, 394, 395, 396, 397, 398, 399], \"xaxis\": \"x\", \"y\": [0.5835230317284822, 0.4931548383712647, 0.4230503920902147, 0.36790019010064734, 0.32476338556874446, 0.2910658247194607, 0.2638735693537997, 0.24227744362426684, 0.22572033378107714, 0.21103501989607953, 0.19977556442929945, 0.19016357801397368, 0.1809597007082903, 0.17321281888833745, 0.16701315715125253, 0.16257629262080386, 0.15920066748467407, 0.15541401091619897, 0.15264612311376285, 0.15035309959327234, 0.14809780853695942, 0.14500889173678946, 0.14252178119559314, 0.14045791992147652, 0.13861206861700165, 0.13732158306888673, 0.135986451600008, 0.13481327565431572, 0.13380403435320445, 0.13300266360535026, 0.13223134159911, 0.1317734710787332, 0.1312584528261414, 0.13073139504087034, 0.13019622871633915, 0.12967386141038226, 0.12926294253831, 0.12894527644572734, 0.12868221938485103, 0.1284087797737644, 0.12814625160769402, 0.12793260014280824, 0.12770335547134481, 0.12745708252157878, 0.12720464686434, 0.12705681488116374, 0.12684321932168055, 0.12669633847194264, 0.12653451830557982, 0.12628151351326686, 0.12611462081647606, 0.12579771347497098, 0.12562407600622907, 0.12555221116662318, 0.1254501516109293, 0.12535986946626496, 0.12524459112749034, 0.12508106758946475, 0.12491959197787204, 0.12482559215872904, 0.12473146404239775, 0.12464343209622084, 0.12441895816830412, 0.12427041012617632, 0.12420578295472437, 0.12411359363094837, 0.12405714164771522, 0.12398030743009916, 0.12388684013180018, 0.12382794646635245, 0.12371184788127744, 0.12360434737242429, 0.12351029821275193, 0.12345911886748451, 0.12335349968864039, 0.1232432476662325, 0.1231937509332224, 0.12313848302157754, 0.12304464964936049, 0.1229236961877888, 0.12280249303051549, 0.12272663553235523, 0.12266517405760625, 0.12255462013052353, 0.122499971666535, 0.12240500637524028, 0.1223875519815875, 0.12231629630349483, 0.12229451670197092, 0.12224086564461216, 0.12220424385965506, 0.12218416906040246, 0.12214059175241104, 0.12209219747552358, 0.12207089534325245, 0.12200174776873514, 0.12196205542806501, 0.12190748418334235, 0.12185195792489137, 0.12177701425914288, 0.12176029951842876, 0.12173011987252874, 0.12172071839380884, 0.1216688828571151, 0.12159742843428978, 0.12154414412390552, 0.12149080203095619, 0.12143787233393487, 0.12139800337916283, 0.1213744335887833, 0.1212538365065147, 0.12123017172733727, 0.12115491359031597, 0.12114347009437196, 0.12108218450769961, 0.12097463260674099, 0.12087722461067546, 0.12083439520460436, 0.12078879669355079, 0.12074752040761423, 0.12071346514974912, 0.1206511789429491, 0.12060204696924343, 0.12058052138772468, 0.12052113608498646, 0.12052113439270419, 0.12047839359765598, 0.12043363216573558, 0.12034258526631322, 0.12032594917674244, 0.1203241606726772, 0.12028456042486538, 0.12023027740621689, 0.12016000336804972, 0.12013295459985018, 0.12007467261533139, 0.12006501658333835, 0.12005496956575566, 0.12002288958940717, 0.12000646541676217, 0.11994622717606819, 0.11988145178364584, 0.11983983310765298, 0.11983037577870594, 0.1197796862941686, 0.11976955891658836, 0.11973190988249414, 0.11969783196131573, 0.11967416806358935, 0.11962435915583426, 0.11960594836144059, 0.11956777751572299, 0.11954398364915546, 0.11948423837983911, 0.1194476608048611, 0.11942190486083967, 0.11938391640258712, 0.11937092150663198, 0.11936346471596264, 0.11935002761951248, 0.11932267343162349, 0.11931549755144051, 0.11931542540887914, 0.11929397244379122, 0.11928666122349543, 0.11926941645646012, 0.11923177213921841, 0.11918521537026878, 0.11918403877143874, 0.11917674535674389, 0.11914086701184798, 0.11910581343863061, 0.11905990276410426, 0.11903654984328846, 0.11898235182590756, 0.11896670378924669, 0.1189530911848093, 0.11894541123575658, 0.11893180670961305, 0.11890097208118212, 0.1188850262557277, 0.11885373248131578, 0.11884864382982785, 0.11883669604601302, 0.11877075381392177, 0.118770745044446, 0.1187359854166532, 0.11872960564756493, 0.11872207224552936, 0.11870249038494561, 0.11868494521538588, 0.11868493173149754, 0.118672557187475, 0.1186725350059439, 0.1186310666780154, 0.1186222400410375, 0.11860992078880915, 0.1185878174327607, 0.11855546011891073, 0.11853338606217678, 0.11853336178038976, 0.11852464818670912, 0.118524646844424, 0.1185010316266934, 0.11847634342699319, 0.11845305899647901, 0.11844555296225384, 0.11842306106497563, 0.11841401657092161, 0.11839846310088606, 0.11838904301168689, 0.11833417142897894, 0.11832790538553535, 0.11831133545791168, 0.11828798057808783, 0.11826009135409729, 0.11826006081048476, 0.1181957409683934, 0.11814287392707792, 0.11813798457758821, 0.11811694591357265, 0.11811694582897589, 0.11811694450960598, 0.1181169441382271, 0.11808466324295669, 0.11804085609931789, 0.11800602438376637, 0.11798323066314598, 0.11796263130680719, 0.11789168466463591, 0.11784068287490793, 0.11781761379998608, 0.11781061428150538, 0.11776787244161566, 0.11774474957056816, 0.11772926219734779, 0.11769646407654223, 0.11766645232143158, 0.11764651303105918, 0.11763355489372794, 0.1176159337074217, 0.11760661836040692, 0.11757630361239442, 0.11756948261534962, 0.11756770992349536, 0.11754277920090847, 0.11752453475913865, 0.11751183261639273, 0.11747833134195453, 0.11747275655208332, 0.1174575414443367, 0.11745752133572207, 0.11743216813491723, 0.11739992981585488, 0.11738941608151572, 0.11735966349605804, 0.11732786159962284, 0.11729999898259365, 0.11729746826293282, 0.11729744358619046, 0.1172950160685163, 0.11723471826146926, 0.11723302262118364, 0.1172252533755996, 0.11720099657406048, 0.11713400863346736, 0.11710547523903461, 0.11708488464589537, 0.11708487493999228, 0.11707423826049228, 0.1170742289263893, 0.11707420340893863, 0.1170631710418966, 0.1170600351692537, 0.11704325392705649, 0.11704324110179365, 0.11704294255717725, 0.11704289882629612, 0.11700950689970645, 0.11697707692592499, 0.11696190325069107, 0.11696186949358639, 0.11696037280021515, 0.11695342256118034, 0.11695323194689887, 0.11695322524654893, 0.11695242106923363, 0.11692986336489083, 0.11692824883994658, 0.11691177349552577, 0.11691176543340447, 0.1169117638802567, 0.1169060005584191, 0.11688977894778169, 0.11688875673623228, 0.11688861321760445, 0.11688861072333107, 0.11687965702537148, 0.11687965683541643, 0.11687958087278767, 0.11687814230905294, 0.11683258011070968, 0.11680565704120267, 0.1167814393399292, 0.11678128728918576, 0.11678127659241336, 0.11678107285908816, 0.11678052473141562, 0.1167805034058983, 0.1167805006198663, 0.11676332160546961, 0.11675003653149882, 0.1167494765166473, 0.11673388376287755, 0.11673045556349587, 0.11671502533321056, 0.11669524571408313, 0.1166945305306687, 0.11669451173310319, 0.11667862159577366, 0.11663423394084131, 0.11661990789542209, 0.11659839299686355, 0.11657294587283919, 0.11657205211343903, 0.11655583014904289, 0.11653149444694473, 0.1165170806192516, 0.11649805692158231, 0.11649287080593847, 0.11648693134081492, 0.1164830579414555, 0.11645298162191971, 0.11641194148929643, 0.11639477408433488, 0.11638139636741147, 0.11638139455560059, 0.11635890887081093, 0.11633725059723198, 0.11633468108283272, 0.1163235900904089, 0.11631871551253004, 0.11631034473814271, 0.11630547544936129, 0.11630059866520333, 0.11629259635169974, 0.11627815603095318, 0.11626916787928229, 0.11622039915381217, 0.11621599313695023, 0.116202881575159, 0.11618646585656542, 0.11616832236227055, 0.11616261243315083, 0.11615485308800357, 0.11615484806287905, 0.11612319362215996, 0.11611489486723421, 0.11610162437905108, 0.11609319525881927, 0.11607696169840308, 0.11607529024550856, 0.11606658154623589, 0.11606313522476101, 0.1160383595392741, 0.11602758231607153, 0.11597206697325173, 0.1159552438939321, 0.11594840631722064, 0.11593494538565573, 0.11593476751166223, 0.11593338978141894, 0.11592416935086837, 0.11589595354386105, 0.11588353636543754, 0.1158466635829015, 0.11582253757933401, 0.11582253717354807, 0.1158029122925849, 0.11578568009388984, 0.11578564502140182, 0.11577831595147153, 0.11577830347310888, 0.11576860651625226, 0.11575314513085425, 0.1157231303642983, 0.1156811863103479, 0.11564428756789145, 0.11564426397951441, 0.11563937942498054, 0.11559560597275578, 0.11555577735492602, 0.11555515244136402, 0.11555498191702604, 0.11554330160286982, 0.115510587890338, 0.11550784933412479, 0.11550132926122049, 0.11550131373624233, 0.11550072150568663], \"yaxis\": \"y\"}, {\"mode\": \"lines\", \"name\": \"validation AUC\", \"type\": \"scatter\", \"x\": [0, 1, 2, 3, 4, 5, 6, 7, 8, 9, 10, 11, 12, 13, 14, 15, 16, 17, 18, 19, 20, 21, 22, 23, 24, 25, 26, 27, 28, 29, 30, 31, 32, 33, 34, 35, 36, 37, 38, 39, 40, 41, 42, 43, 44, 45, 46, 47, 48, 49, 50, 51, 52, 53, 54, 55, 56, 57, 58, 59, 60, 61, 62, 63, 64, 65, 66, 67, 68, 69, 70, 71, 72, 73, 74, 75, 76, 77, 78, 79, 80, 81, 82, 83, 84, 85, 86, 87, 88, 89, 90, 91, 92, 93, 94, 95, 96, 97, 98, 99, 100, 101, 102, 103, 104, 105, 106, 107, 108, 109, 110, 111, 112, 113, 114, 115, 116, 117, 118, 119, 120, 121, 122, 123, 124, 125, 126, 127, 128, 129, 130, 131, 132, 133, 134, 135, 136, 137, 138, 139, 140, 141, 142, 143, 144, 145, 146, 147, 148, 149, 150, 151, 152, 153, 154, 155, 156, 157, 158, 159, 160, 161, 162, 163, 164, 165, 166, 167, 168, 169, 170, 171, 172, 173, 174, 175, 176, 177, 178, 179, 180, 181, 182, 183, 184, 185, 186, 187, 188, 189, 190, 191, 192, 193, 194, 195, 196, 197, 198, 199, 200, 201, 202, 203, 204, 205, 206, 207, 208, 209, 210, 211, 212, 213, 214, 215, 216, 217, 218, 219, 220, 221, 222, 223, 224, 225, 226, 227, 228, 229, 230, 231, 232, 233, 234, 235, 236, 237, 238, 239, 240, 241, 242, 243, 244, 245, 246, 247, 248, 249, 250, 251, 252, 253, 254, 255, 256, 257, 258, 259, 260, 261, 262, 263, 264, 265, 266, 267, 268, 269, 270, 271, 272, 273, 274, 275, 276, 277, 278, 279, 280, 281, 282, 283, 284, 285, 286, 287, 288, 289, 290, 291, 292, 293, 294, 295, 296, 297, 298, 299, 300, 301, 302, 303, 304, 305, 306, 307, 308, 309, 310, 311, 312, 313, 314, 315, 316, 317, 318, 319, 320, 321, 322, 323, 324, 325, 326, 327, 328, 329, 330, 331, 332, 333, 334, 335, 336, 337, 338, 339, 340, 341, 342, 343, 344, 345, 346, 347, 348, 349, 350, 351, 352, 353, 354, 355, 356, 357, 358, 359, 360, 361, 362, 363, 364, 365, 366, 367, 368, 369, 370, 371, 372, 373, 374, 375, 376, 377, 378, 379, 380, 381, 382, 383, 384, 385, 386, 387, 388, 389, 390, 391, 392, 393, 394, 395, 396, 397, 398, 399], \"xaxis\": \"x2\", \"y\": [0.5, 0.5745382627630504, 0.5760391904500595, 0.5511912755264547, 0.5511909998630266, 0.5511909998630266, 0.6326193534971905, 0.6345637156483653, 0.6344132943570633, 0.667734514793063, 0.6690823242341989, 0.6965654337533635, 0.7149658311770438, 0.73324554769887, 0.7349694842574271, 0.7326748363038095, 0.7326200332775207, 0.7395692354816982, 0.7387611068276551, 0.7395220316719773, 0.7394014928646738, 0.7391713139021006, 0.7388654525399683, 0.7378970383909181, 0.7372796944062303, 0.7364671863981367, 0.7361798427978431, 0.7375075714370833, 0.7390328313949429, 0.7388347174886659, 0.7398364840706411, 0.7390094767346006, 0.7406388181089092, 0.7416834659843748, 0.7424891335608009, 0.7423636356536804, 0.7416425626470291, 0.7417120156214884, 0.7422502498860558, 0.7422153855671121, 0.7435877233695786, 0.7443789996099164, 0.7439714241265486, 0.7436120670079933, 0.7431653899461819, 0.7435615211344415, 0.7428679860517033, 0.7435198760635415, 0.7452668603582117, 0.7445903823053317, 0.7450194851131205, 0.7445731405525576, 0.7449229773362204, 0.7449959002596062, 0.7457535597711548, 0.7455005263210575, 0.7466032823420596, 0.7464176812819115, 0.745819880981718, 0.7461412334917606, 0.7468757372753377, 0.7478451006159861, 0.748532761510001, 0.7483110456988636, 0.7482098914301577, 0.7480010408596347, 0.7479305562787378, 0.7486001086432199, 0.7484550954705151, 0.7482416751392437, 0.7481730321037231, 0.7479974515512857, 0.74819249905716, 0.747997522598561, 0.7480603028129225, 0.7477332523113995, 0.7476469213462158, 0.7486662763916685, 0.7483809874785771, 0.7479845891525623, 0.747969763007149, 0.7477157547884343, 0.7474268566737567, 0.7469954291991194, 0.746833464146524, 0.7468621871389892, 0.74679385671148, 0.7470594996320007, 0.7470128300977902, 0.74685183413003, 0.7469588057496389, 0.747171041012358, 0.7477853782763544, 0.7476744422187828, 0.7474800284546043, 0.7475219094024583, 0.747216258340261, 0.7471112163646497, 0.7470204463657042, 0.7467359162375132, 0.7467169096704203, 0.7465878707670979, 0.7466637208382266, 0.7467634570033173, 0.7466224992090875, 0.746690659123136, 0.7466959109377275, 0.7467918077080599, 0.7467830518418498, 0.746923910169894, 0.7467752991631671, 0.7467289024504938, 0.7465457198395975, 0.7466566843160792, 0.7469826435314534, 0.747096268017923, 0.7472426509820959, 0.7472920771505887, 0.7475216621579402, 0.7471047539044868, 0.7470462280009714, 0.7470610569882756, 0.7471080220791515, 0.7474146507518572, 0.7474587739517203, 0.7474587739517203, 0.7474285760178194, 0.7474213689822112, 0.7473154176014759, 0.7471969675840668, 0.7471955466385605, 0.7477131175135745, 0.7477099601726594, 0.7475679906652293, 0.7475282581869808, 0.7474897164610665, 0.7474506234082959, 0.7474549203475072, 0.7475103571154917, 0.747647847802686, 0.7477543846129698, 0.7478440434325294, 0.7479295843520115, 0.7479952092992767, 0.7479871695896018, 0.7479981733916029, 0.7479830602151974, 0.7479210217343902, 0.7483042734725803, 0.748362640230199, 0.7483278043301654, 0.7485143290048927, 0.7485526519051989, 0.7484957856660349, 0.7483477259861645, 0.7483111849515233, 0.7484412696707383, 0.748437620682678, 0.7483608526807521, 0.7483902150986953, 0.748374942776393, 0.7483223791602223, 0.748323010060027, 0.7484817921946884, 0.7484774014730737, 0.7484940606381901, 0.7486086854702962, 0.7485121180136848, 0.74850769887316, 0.7484967490670882, 0.7485507279449833, 0.7485345803202492, 0.748704434462296, 0.7487859398965401, 0.7486919415094041, 0.7487837345891142, 0.7487065601967734, 0.7487446443782346, 0.7487479978096295, 0.7487350302609386, 0.7487607095881293, 0.7487336547856884, 0.7487344789340822, 0.7487134887270624, 0.7488952844951445, 0.7488952816532535, 0.7488654162206011, 0.7489087436909806, 0.7489490530731047, 0.7488788100529439, 0.7491775439524164, 0.7491775240591794, 0.7491877832857352, 0.749187510464198, 0.7491375102337205, 0.7491107055176889, 0.749280866583965, 0.7493714518599947, 0.7494261014241688, 0.7494547363180127, 0.7494547363180127, 0.7494792987820355, 0.7494792987820355, 0.7494193263559945, 0.7493374514759188, 0.7492826370820659, 0.7493152790422377, 0.749362562424907, 0.749484348822365, 0.749471361380437, 0.7493685588149437, 0.7491547747216227, 0.749149920771773, 0.7492264813156551, 0.7493330408610671, 0.749356998002304, 0.749356998002304, 0.7493716223734554, 0.7494271131373693, 0.7494256637729528, 0.7494930165899537, 0.7494930279575177, 0.7494930279575177, 0.7494930279575177, 0.7497029982330997, 0.7498158269900858, 0.7497786152691656, 0.7497311500054715, 0.7497644797032684, 0.749904511041028, 0.749807608241277, 0.749874313107127, 0.7498181800758442, 0.7498506458387733, 0.7497849470023418, 0.7491950727361827, 0.7492240713920763, 0.7491870870224371, 0.7493740720835084, 0.749322508812974, 0.7493654441023938, 0.7494106045924765, 0.7493340554161586, 0.7492792978601259, 0.7492797809815981, 0.749108068242829, 0.7490891298811204, 0.7491119502659525, 0.7491198166202755, 0.7491084547400068, 0.7490605035129496, 0.7490602704778866, 0.748980686161967, 0.7488113492440845, 0.7488277242200997, 0.7488669821025491, 0.7489401835312541, 0.7490257756047745, 0.7490240363674747, 0.7490242239322815, 0.7490240136323466, 0.749063515917423, 0.7490642434415223, 0.7491136809775791, 0.748946441375264, 0.7489888367053914, 0.7490020060283442, 0.749019188101407, 0.749019409768906, 0.7490409967730385, 0.7490409967730385, 0.7490409967730385, 0.749026804369321, 0.7490081047264575, 0.748967039401324, 0.7489671417094005, 0.7489663743988271, 0.748966806366261, 0.7487874375731037, 0.7487445079674659, 0.748811894887159, 0.748811894887159, 0.7488121847600423, 0.748803613616748, 0.7488037670788626, 0.7488037670788626, 0.7487902908316805, 0.748863620145481, 0.748863830445416, 0.7488496891957368, 0.7488496891957368, 0.7488496891957368, 0.7488443407568509, 0.7488747774095968, 0.7488729131290925, 0.7488734871910772, 0.7488734871910772, 0.7488911751207401, 0.7488911751207401, 0.7488905214858073, 0.7488849797983325, 0.7487366217199057, 0.7487780223881787, 0.7488950400925174, 0.7488951424005938, 0.7488951424005938, 0.7488960404381539, 0.7488957221463605, 0.7488957221463605, 0.7488957221463605, 0.7488710744256074, 0.7488298897410514, 0.7488301966652807, 0.7488972766607445, 0.7488966912311958, 0.7489056005595206, 0.7487941756966948, 0.7487966310905299, 0.7487963525852106, 0.7489583119540241, 0.7488610965462618, 0.7488763177145258, 0.7488868724977469, 0.7489015366553724, 0.7489022073416515, 0.7488803247808536, 0.7488623981323456, 0.748989203309332, 0.748995677137059, 0.7489841504271115, 0.7490463878402895, 0.7490389989236566, 0.7490515600819326, 0.7491523392210249, 0.7491287287904913, 0.7485361746211073, 0.7485361632535432, 0.7486629172764915, 0.7486681634073009, 0.7486225908430213, 0.7486571652890818, 0.7484525377686037, 0.7483916701468938, 0.7483530488480312, 0.7482421127904597, 0.7481990979280915, 0.7482240667825291, 0.7482180306060181, 0.7482823767023276, 0.7482298415050669, 0.7482241747743875, 0.7482129379373234, 0.7482316318964048, 0.7482502690176661, 0.7482253115307926, 0.7482253115307926, 0.7484388000674483, 0.748438498827001, 0.7484122227026976, 0.7483401864493078, 0.7483432130632363, 0.7483312714372009, 0.7483028184243818, 0.7482452985502849, 0.7482397398114641, 0.7482408652003051, 0.7483133561562569, 0.7484094575427422, 0.7484761965112844, 0.748037596103731, 0.7480375392659108, 0.7480372550768095, 0.748093785972834, 0.7482018630880468, 0.7481288776430588, 0.7481527125829823, 0.7481796252908726, 0.7481796252908726, 0.7481683600348982, 0.7481142447462344, 0.7481141140192479, 0.7481517236049099, 0.7481518941183707, 0.7482093685222114, 0.7482164107281408, 0.7483327691137647, 0.7481620737719781, 0.7483513380296416, 0.7483510481567583, 0.7484195036274721, 0.7485489347117543, 0.7485564316202458, 0.7485554994799937, 0.7485565055094121, 0.7486148324805567, 0.7486410602927128, 0.7486400428957303, 0.7485887581305152, 0.7485886160359646, 0.7486036269042936], \"yaxis\": \"y2\"}],\n",
              "                        {\"annotations\": [{\"font\": {\"size\": 16}, \"showarrow\": false, \"text\": \"Logloss\", \"x\": 0.5, \"xanchor\": \"center\", \"xref\": \"paper\", \"y\": 1.0, \"yanchor\": \"bottom\", \"yref\": \"paper\"}, {\"font\": {\"size\": 16}, \"showarrow\": false, \"text\": \"AUC\", \"x\": 0.5, \"xanchor\": \"center\", \"xref\": \"paper\", \"y\": 0.375, \"yanchor\": \"bottom\", \"yref\": \"paper\"}], \"height\": 1260.0, \"template\": {\"data\": {\"bar\": [{\"error_x\": {\"color\": \"#2a3f5f\"}, \"error_y\": {\"color\": \"#2a3f5f\"}, \"marker\": {\"line\": {\"color\": \"#E5ECF6\", \"width\": 0.5}}, \"type\": \"bar\"}], \"barpolar\": [{\"marker\": {\"line\": {\"color\": \"#E5ECF6\", \"width\": 0.5}}, \"type\": \"barpolar\"}], \"carpet\": [{\"aaxis\": {\"endlinecolor\": \"#2a3f5f\", \"gridcolor\": \"white\", \"linecolor\": \"white\", \"minorgridcolor\": \"white\", \"startlinecolor\": \"#2a3f5f\"}, \"baxis\": {\"endlinecolor\": \"#2a3f5f\", \"gridcolor\": \"white\", \"linecolor\": \"white\", \"minorgridcolor\": \"white\", \"startlinecolor\": \"#2a3f5f\"}, \"type\": \"carpet\"}], \"choropleth\": [{\"colorbar\": {\"outlinewidth\": 0, \"ticks\": \"\"}, \"type\": \"choropleth\"}], \"contour\": [{\"colorbar\": {\"outlinewidth\": 0, \"ticks\": \"\"}, \"colorscale\": [[0.0, \"#0d0887\"], [0.1111111111111111, \"#46039f\"], [0.2222222222222222, \"#7201a8\"], [0.3333333333333333, \"#9c179e\"], [0.4444444444444444, \"#bd3786\"], [0.5555555555555556, \"#d8576b\"], [0.6666666666666666, \"#ed7953\"], [0.7777777777777778, \"#fb9f3a\"], [0.8888888888888888, \"#fdca26\"], [1.0, \"#f0f921\"]], \"type\": \"contour\"}], \"contourcarpet\": [{\"colorbar\": {\"outlinewidth\": 0, \"ticks\": \"\"}, \"type\": \"contourcarpet\"}], \"heatmap\": [{\"colorbar\": {\"outlinewidth\": 0, \"ticks\": \"\"}, \"colorscale\": [[0.0, \"#0d0887\"], [0.1111111111111111, \"#46039f\"], [0.2222222222222222, \"#7201a8\"], [0.3333333333333333, \"#9c179e\"], [0.4444444444444444, \"#bd3786\"], [0.5555555555555556, \"#d8576b\"], [0.6666666666666666, \"#ed7953\"], [0.7777777777777778, \"#fb9f3a\"], [0.8888888888888888, \"#fdca26\"], [1.0, \"#f0f921\"]], \"type\": \"heatmap\"}], \"heatmapgl\": [{\"colorbar\": {\"outlinewidth\": 0, \"ticks\": \"\"}, \"colorscale\": [[0.0, \"#0d0887\"], [0.1111111111111111, \"#46039f\"], [0.2222222222222222, \"#7201a8\"], [0.3333333333333333, \"#9c179e\"], [0.4444444444444444, \"#bd3786\"], [0.5555555555555556, \"#d8576b\"], [0.6666666666666666, \"#ed7953\"], [0.7777777777777778, \"#fb9f3a\"], [0.8888888888888888, \"#fdca26\"], [1.0, \"#f0f921\"]], \"type\": \"heatmapgl\"}], \"histogram\": [{\"marker\": {\"colorbar\": {\"outlinewidth\": 0, \"ticks\": \"\"}}, \"type\": \"histogram\"}], \"histogram2d\": [{\"colorbar\": {\"outlinewidth\": 0, \"ticks\": \"\"}, \"colorscale\": [[0.0, \"#0d0887\"], [0.1111111111111111, \"#46039f\"], [0.2222222222222222, \"#7201a8\"], [0.3333333333333333, \"#9c179e\"], [0.4444444444444444, \"#bd3786\"], [0.5555555555555556, \"#d8576b\"], [0.6666666666666666, \"#ed7953\"], [0.7777777777777778, \"#fb9f3a\"], [0.8888888888888888, \"#fdca26\"], [1.0, \"#f0f921\"]], \"type\": \"histogram2d\"}], \"histogram2dcontour\": [{\"colorbar\": {\"outlinewidth\": 0, \"ticks\": \"\"}, \"colorscale\": [[0.0, \"#0d0887\"], [0.1111111111111111, \"#46039f\"], [0.2222222222222222, \"#7201a8\"], [0.3333333333333333, \"#9c179e\"], [0.4444444444444444, \"#bd3786\"], [0.5555555555555556, \"#d8576b\"], [0.6666666666666666, \"#ed7953\"], [0.7777777777777778, \"#fb9f3a\"], [0.8888888888888888, \"#fdca26\"], [1.0, \"#f0f921\"]], \"type\": \"histogram2dcontour\"}], \"mesh3d\": [{\"colorbar\": {\"outlinewidth\": 0, \"ticks\": \"\"}, \"type\": \"mesh3d\"}], \"parcoords\": [{\"line\": {\"colorbar\": {\"outlinewidth\": 0, \"ticks\": \"\"}}, \"type\": \"parcoords\"}], \"pie\": [{\"automargin\": true, \"type\": \"pie\"}], \"scatter\": [{\"marker\": {\"colorbar\": {\"outlinewidth\": 0, \"ticks\": \"\"}}, \"type\": \"scatter\"}], \"scatter3d\": [{\"line\": {\"colorbar\": {\"outlinewidth\": 0, \"ticks\": \"\"}}, \"marker\": {\"colorbar\": {\"outlinewidth\": 0, \"ticks\": \"\"}}, \"type\": \"scatter3d\"}], \"scattercarpet\": [{\"marker\": {\"colorbar\": {\"outlinewidth\": 0, \"ticks\": \"\"}}, \"type\": \"scattercarpet\"}], \"scattergeo\": [{\"marker\": {\"colorbar\": {\"outlinewidth\": 0, \"ticks\": \"\"}}, \"type\": \"scattergeo\"}], \"scattergl\": [{\"marker\": {\"colorbar\": {\"outlinewidth\": 0, \"ticks\": \"\"}}, \"type\": \"scattergl\"}], \"scattermapbox\": [{\"marker\": {\"colorbar\": {\"outlinewidth\": 0, \"ticks\": \"\"}}, \"type\": \"scattermapbox\"}], \"scatterpolar\": [{\"marker\": {\"colorbar\": {\"outlinewidth\": 0, \"ticks\": \"\"}}, \"type\": \"scatterpolar\"}], \"scatterpolargl\": [{\"marker\": {\"colorbar\": {\"outlinewidth\": 0, \"ticks\": \"\"}}, \"type\": \"scatterpolargl\"}], \"scatterternary\": [{\"marker\": {\"colorbar\": {\"outlinewidth\": 0, \"ticks\": \"\"}}, \"type\": \"scatterternary\"}], \"surface\": [{\"colorbar\": {\"outlinewidth\": 0, \"ticks\": \"\"}, \"colorscale\": [[0.0, \"#0d0887\"], [0.1111111111111111, \"#46039f\"], [0.2222222222222222, \"#7201a8\"], [0.3333333333333333, \"#9c179e\"], [0.4444444444444444, \"#bd3786\"], [0.5555555555555556, \"#d8576b\"], [0.6666666666666666, \"#ed7953\"], [0.7777777777777778, \"#fb9f3a\"], [0.8888888888888888, \"#fdca26\"], [1.0, \"#f0f921\"]], \"type\": \"surface\"}], \"table\": [{\"cells\": {\"fill\": {\"color\": \"#EBF0F8\"}, \"line\": {\"color\": \"white\"}}, \"header\": {\"fill\": {\"color\": \"#C8D4E3\"}, \"line\": {\"color\": \"white\"}}, \"type\": \"table\"}]}, \"layout\": {\"annotationdefaults\": {\"arrowcolor\": \"#2a3f5f\", \"arrowhead\": 0, \"arrowwidth\": 1}, \"coloraxis\": {\"colorbar\": {\"outlinewidth\": 0, \"ticks\": \"\"}}, \"colorscale\": {\"diverging\": [[0, \"#8e0152\"], [0.1, \"#c51b7d\"], [0.2, \"#de77ae\"], [0.3, \"#f1b6da\"], [0.4, \"#fde0ef\"], [0.5, \"#f7f7f7\"], [0.6, \"#e6f5d0\"], [0.7, \"#b8e186\"], [0.8, \"#7fbc41\"], [0.9, \"#4d9221\"], [1, \"#276419\"]], \"sequential\": [[0.0, \"#0d0887\"], [0.1111111111111111, \"#46039f\"], [0.2222222222222222, \"#7201a8\"], [0.3333333333333333, \"#9c179e\"], [0.4444444444444444, \"#bd3786\"], [0.5555555555555556, \"#d8576b\"], [0.6666666666666666, \"#ed7953\"], [0.7777777777777778, \"#fb9f3a\"], [0.8888888888888888, \"#fdca26\"], [1.0, \"#f0f921\"]], \"sequentialminus\": [[0.0, \"#0d0887\"], [0.1111111111111111, \"#46039f\"], [0.2222222222222222, \"#7201a8\"], [0.3333333333333333, \"#9c179e\"], [0.4444444444444444, \"#bd3786\"], [0.5555555555555556, \"#d8576b\"], [0.6666666666666666, \"#ed7953\"], [0.7777777777777778, \"#fb9f3a\"], [0.8888888888888888, \"#fdca26\"], [1.0, \"#f0f921\"]]}, \"colorway\": [\"#636efa\", \"#EF553B\", \"#00cc96\", \"#ab63fa\", \"#FFA15A\", \"#19d3f3\", \"#FF6692\", \"#B6E880\", \"#FF97FF\", \"#FECB52\"], \"font\": {\"color\": \"#2a3f5f\"}, \"geo\": {\"bgcolor\": \"white\", \"lakecolor\": \"white\", \"landcolor\": \"#E5ECF6\", \"showlakes\": true, \"showland\": true, \"subunitcolor\": \"white\"}, \"hoverlabel\": {\"align\": \"left\"}, \"hovermode\": \"closest\", \"mapbox\": {\"style\": \"light\"}, \"paper_bgcolor\": \"white\", \"plot_bgcolor\": \"#E5ECF6\", \"polar\": {\"angularaxis\": {\"gridcolor\": \"white\", \"linecolor\": \"white\", \"ticks\": \"\"}, \"bgcolor\": \"#E5ECF6\", \"radialaxis\": {\"gridcolor\": \"white\", \"linecolor\": \"white\", \"ticks\": \"\"}}, \"scene\": {\"xaxis\": {\"backgroundcolor\": \"#E5ECF6\", \"gridcolor\": \"white\", \"gridwidth\": 2, \"linecolor\": \"white\", \"showbackground\": true, \"ticks\": \"\", \"zerolinecolor\": \"white\"}, \"yaxis\": {\"backgroundcolor\": \"#E5ECF6\", \"gridcolor\": \"white\", \"gridwidth\": 2, \"linecolor\": \"white\", \"showbackground\": true, \"ticks\": \"\", \"zerolinecolor\": \"white\"}, \"zaxis\": {\"backgroundcolor\": \"#E5ECF6\", \"gridcolor\": \"white\", \"gridwidth\": 2, \"linecolor\": \"white\", \"showbackground\": true, \"ticks\": \"\", \"zerolinecolor\": \"white\"}}, \"shapedefaults\": {\"line\": {\"color\": \"#2a3f5f\"}}, \"ternary\": {\"aaxis\": {\"gridcolor\": \"white\", \"linecolor\": \"white\", \"ticks\": \"\"}, \"baxis\": {\"gridcolor\": \"white\", \"linecolor\": \"white\", \"ticks\": \"\"}, \"bgcolor\": \"#E5ECF6\", \"caxis\": {\"gridcolor\": \"white\", \"linecolor\": \"white\", \"ticks\": \"\"}}, \"title\": {\"x\": 0.05}, \"xaxis\": {\"automargin\": true, \"gridcolor\": \"white\", \"linecolor\": \"white\", \"ticks\": \"\", \"title\": {\"standoff\": 15}, \"zerolinecolor\": \"white\", \"zerolinewidth\": 2}, \"yaxis\": {\"automargin\": true, \"gridcolor\": \"white\", \"linecolor\": \"white\", \"ticks\": \"\", \"title\": {\"standoff\": 15}, \"zerolinecolor\": \"white\", \"zerolinewidth\": 2}}}, \"title\": {\"text\": \"Learning results\"}, \"width\": 891.0, \"xaxis\": {\"anchor\": \"y\", \"domain\": [0.0, 1.0]}, \"xaxis2\": {\"anchor\": \"y2\", \"domain\": [0.0, 1.0]}, \"yaxis\": {\"anchor\": \"x\", \"domain\": [0.625, 1.0]}, \"yaxis2\": {\"anchor\": \"x2\", \"domain\": [0.0, 0.375]}},\n",
              "                        {\"responsive\": true}\n",
              "                    ).then(function(){\n",
              "                            \n",
              "var gd = document.getElementById('2437d850-dff2-4f05-8c9e-211a3e208b8a');\n",
              "var x = new MutationObserver(function (mutations, observer) {{\n",
              "        var display = window.getComputedStyle(gd).display;\n",
              "        if (!display || display === 'none') {{\n",
              "            console.log([gd, 'removed!']);\n",
              "            Plotly.purge(gd);\n",
              "            observer.disconnect();\n",
              "        }}\n",
              "}});\n",
              "\n",
              "// Listen for the removal of the full notebook cells\n",
              "var notebookContainer = gd.closest('#notebook-container');\n",
              "if (notebookContainer) {{\n",
              "    x.observe(notebookContainer, {childList: true});\n",
              "}}\n",
              "\n",
              "// Listen for the clearing of the current output cell\n",
              "var outputEl = gd.closest('.output');\n",
              "if (outputEl) {{\n",
              "    x.observe(outputEl, {childList: true});\n",
              "}}\n",
              "\n",
              "                        })\n",
              "                };\n",
              "                \n",
              "            </script>\n",
              "        </div>\n",
              "</body>\n",
              "</html>"
            ]
          },
          "metadata": {
            "tags": []
          }
        }
      ]
    },
    {
      "cell_type": "markdown",
      "metadata": {
        "colab_type": "text",
        "id": "e01TOmuiWdTG"
      },
      "source": [
        "### Объявление финальных параметров"
      ]
    },
    {
      "cell_type": "code",
      "metadata": {
        "colab_type": "code",
        "id": "NeVaRFJRWomK",
        "colab": {}
      },
      "source": [
        "cat_features = [\n",
        "    'ClientID',\n",
        "    'ClientType',\n",
        "    'CoachID',\n",
        "    'GymID',\n",
        "    'TrainingID',\n",
        "    'Month',\n",
        "    'Day',\n",
        "    'DayOfWeek',\n",
        "    'Season'\n",
        "]\n",
        "ignored_features = [\n",
        "]\n",
        "train_pool = Pool(\n",
        "    pd.concat([X_train_train, X_train_valid]),\n",
        "    pd.concat([y_train_train, y_train_valid]),\n",
        "    cat_features=cat_features\n",
        ")\n",
        "params = {\n",
        "    'iterations': 300,\n",
        "    'learning_rate': 0.08,\n",
        "    'logging_level': 'Silent',\n",
        "    'use_best_model': False,\n",
        "    'ignored_features': ignored_features\n",
        "}\n",
        "n_models = 10"
      ],
      "execution_count": 81,
      "outputs": []
    },
    {
      "cell_type": "markdown",
      "metadata": {
        "colab_type": "text",
        "id": "zkt3iCbEFhGy"
      },
      "source": [
        "### Обучение"
      ]
    },
    {
      "cell_type": "code",
      "metadata": {
        "colab_type": "code",
        "id": "jsIALaQFFi0R",
        "colab": {
          "base_uri": "https://localhost:8080/",
          "height": 53
        },
        "outputId": "84922815-2aab-4d33-c417-fee86fac9f04"
      },
      "source": [
        "%%time\n",
        "catboost_models = []\n",
        "for i in range(n_models):\n",
        "    model = CatBoostClassifier(**params)\n",
        "    model.fit(train_pool)\n",
        "    catboost_models.append(model)"
      ],
      "execution_count": 83,
      "outputs": [
        {
          "output_type": "stream",
          "text": [
            "CPU times: user 59min 18s, sys: 3min 15s, total: 1h 2min 33s\n",
            "Wall time: 31min 59s\n"
          ],
          "name": "stdout"
        }
      ]
    },
    {
      "cell_type": "markdown",
      "metadata": {
        "colab_type": "text",
        "id": "YXvaGP6UF613"
      },
      "source": [
        "### Получение предсказаний"
      ]
    },
    {
      "cell_type": "code",
      "metadata": {
        "colab_type": "code",
        "id": "3Ol4xaCkGA1p",
        "colab": {}
      },
      "source": [
        "def get_catboost_predictions():\n",
        "    y_test_predicted = None\n",
        "    for model in catboost_models:\n",
        "        predicted_probas = model.predict_proba(X_test)\n",
        "        y_test_cur_predicted = pd.Series(\n",
        "            predicted_probas[:, 1],\n",
        "            index=X_test.index,\n",
        "            name='Target'\n",
        "        ).sort_index()\n",
        "        \n",
        "        if y_test_predicted is None:\n",
        "            y_test_predicted = y_test_cur_predicted\n",
        "        else:\n",
        "            y_test_predicted += y_test_cur_predicted\n",
        "\n",
        "    y_test_predicted /= n_models\n",
        "    return y_test_predicted \n",
        "\n",
        "y_test_predicted = get_catboost_predictions()\n",
        "\n",
        "SUBMISSTION_FILE_NAME = 'Catboost_3_attemp_10_models_300_iters_0.8_lr.csv'"
      ],
      "execution_count": 84,
      "outputs": []
    },
    {
      "cell_type": "markdown",
      "metadata": {
        "id": "8hpBYNwzWPo5",
        "colab_type": "text"
      },
      "source": [
        "## Naive Bayes"
      ]
    },
    {
      "cell_type": "markdown",
      "metadata": {
        "id": "3229XGPWl68z",
        "colab_type": "text"
      },
      "source": [
        "### Объявление параметров"
      ]
    },
    {
      "cell_type": "code",
      "metadata": {
        "id": "m46i-wAFl9Dl",
        "colab_type": "code",
        "colab": {}
      },
      "source": [
        "N_REPETITIONS = 1  # required feature repetitions"
      ],
      "execution_count": 123,
      "outputs": []
    },
    {
      "cell_type": "markdown",
      "metadata": {
        "id": "oUMSg6YMWuMt",
        "colab_type": "text"
      },
      "source": [
        "### Модификация валидационной выборки \n",
        "Оставляем только те строки, для которых ClientID, CoachID и TrainingID встречаются в обучающей выборке\n"
      ]
    },
    {
      "cell_type": "code",
      "metadata": {
        "id": "qdxGeKttebnq",
        "colab_type": "code",
        "colab": {}
      },
      "source": [
        "def filter_new_features(X_train, X_test, y_test=None, n_repetitions=1):\n",
        "    client_counter = Counter(X_train.ClientID.values)\n",
        "    coach_counter = Counter(X_train.CoachID.values)\n",
        "    training_counter = Counter(X_train.TrainingID.values)\n",
        "    X_test_filtered_mask = X_test.apply(\n",
        "        lambda x:\n",
        "            client_counter[x.ClientID] >= n_repetitions and\n",
        "            coach_counter[x.CoachID] >= n_repetitions and\n",
        "            training_counter[x.TrainingID] >= n_repetitions,\n",
        "        axis=1\n",
        "    )\n",
        "    return X_test[X_test_filtered_mask], y_test[X_test_filtered_mask] if y_test is not None else y_test"
      ],
      "execution_count": 86,
      "outputs": []
    },
    {
      "cell_type": "code",
      "metadata": {
        "id": "6IvWWjtJgZPv",
        "colab_type": "code",
        "colab": {}
      },
      "source": [
        "X_train_valid_existed, y_train_valid_existed = filter_new_features(\n",
        "    X_train_train,\n",
        "    X_train_valid,\n",
        "    y_train_valid,\n",
        "    n_repetitions=N_REPETITIONS\n",
        ")"
      ],
      "execution_count": 87,
      "outputs": []
    },
    {
      "cell_type": "markdown",
      "metadata": {
        "id": "4QSGXwGCg-Cb",
        "colab_type": "text"
      },
      "source": [
        "### Обучим модель и предскажим вероятности на валидационном датасете"
      ]
    },
    {
      "cell_type": "code",
      "metadata": {
        "id": "s8rFWvxwWPo5",
        "colab_type": "code",
        "colab": {}
      },
      "source": [
        "model = CategoricalNB()"
      ],
      "execution_count": 89,
      "outputs": []
    },
    {
      "cell_type": "code",
      "metadata": {
        "id": "06weDwomWPo_",
        "colab_type": "code",
        "colab": {}
      },
      "source": [
        "model = model.fit(X_train_train.values, y_train_train.values)"
      ],
      "execution_count": 90,
      "outputs": []
    },
    {
      "cell_type": "code",
      "metadata": {
        "id": "uDdKpfryWPpC",
        "colab_type": "code",
        "colab": {}
      },
      "source": [
        "y_train_valid_probas = model.predict_proba(X_train_valid_existed.values)"
      ],
      "execution_count": 91,
      "outputs": []
    },
    {
      "cell_type": "code",
      "metadata": {
        "id": "x_te_lD0WPpG",
        "colab_type": "code",
        "colab": {
          "base_uri": "https://localhost:8080/",
          "height": 35
        },
        "outputId": "83ad9c68-90e0-458a-dc05-ba58014643fb"
      },
      "source": [
        "roc_auc_score(y_train_valid_existed.values, y_train_valid_probas[:,1])"
      ],
      "execution_count": 92,
      "outputs": [
        {
          "output_type": "execute_result",
          "data": {
            "text/plain": [
              "0.7873626517964328"
            ]
          },
          "metadata": {
            "tags": []
          },
          "execution_count": 92
        }
      ]
    },
    {
      "cell_type": "markdown",
      "metadata": {
        "id": "7F67O73SWPpI",
        "colab_type": "text"
      },
      "source": [
        "### Визуализация"
      ]
    },
    {
      "cell_type": "code",
      "metadata": {
        "id": "MVx436FDi9Z3",
        "colab_type": "code",
        "colab": {}
      },
      "source": [
        "def draw_roc_auc(y_true, y_prob):\n",
        "    fpr, tpr, _ = roc_curve(y_true, y_prob)\n",
        "    roc_auc = auc(fpr, tpr)\n",
        "\n",
        "    fig = go.Figure()\n",
        "\n",
        "\n",
        "    fig.add_trace(\n",
        "        go.Scatter(\n",
        "            x=fpr,\n",
        "            y=tpr, \n",
        "            mode='lines', \n",
        "            line=dict(color='darkorange', width=2),\n",
        "            name='ROC curve (area = %0.2f)' % roc_auc\n",
        "        )\n",
        "    )\n",
        "\n",
        "    fig.add_trace(\n",
        "        go.Scatter(\n",
        "            x=[0, 1],\n",
        "            y=[0, 1], \n",
        "            mode='lines', \n",
        "            line=dict(color='navy', width=2),\n",
        "            showlegend=False\n",
        "        )\n",
        "    )\n",
        "\n",
        "    fig.update_layout(\n",
        "        title_text=\"ROC curve on validation sample\",\n",
        "        width=297. * 3,\n",
        "        height=210. * 3\n",
        "    )\n",
        "    fig.show()"
      ],
      "execution_count": 93,
      "outputs": []
    },
    {
      "cell_type": "code",
      "metadata": {
        "id": "0EmI2_Rdk6dy",
        "colab_type": "code",
        "colab": {
          "base_uri": "https://localhost:8080/",
          "height": 647
        },
        "outputId": "a120fa64-f08f-48a1-a97a-553d4fc86558"
      },
      "source": [
        "draw_roc_auc(y_train_valid_existed.values, y_train_valid_probas[:,1])"
      ],
      "execution_count": 94,
      "outputs": [
        {
          "output_type": "display_data",
          "data": {
            "text/html": [
              "<html>\n",
              "<head><meta charset=\"utf-8\" /></head>\n",
              "<body>\n",
              "    <div>\n",
              "            <script src=\"https://cdnjs.cloudflare.com/ajax/libs/mathjax/2.7.5/MathJax.js?config=TeX-AMS-MML_SVG\"></script><script type=\"text/javascript\">if (window.MathJax) {MathJax.Hub.Config({SVG: {font: \"STIX-Web\"}});}</script>\n",
              "                <script type=\"text/javascript\">window.PlotlyConfig = {MathJaxConfig: 'local'};</script>\n",
              "        <script src=\"https://cdn.plot.ly/plotly-latest.min.js\"></script>    \n",
              "            <div id=\"5ca40efa-9112-4e79-95e2-989042c38710\" class=\"plotly-graph-div\" style=\"height:630.0px; width:891.0px;\"></div>\n",
              "            <script type=\"text/javascript\">\n",
              "                \n",
              "                    window.PLOTLYENV=window.PLOTLYENV || {};\n",
              "                    \n",
              "                if (document.getElementById(\"5ca40efa-9112-4e79-95e2-989042c38710\")) {\n",
              "                    Plotly.newPlot(\n",
              "                        '5ca40efa-9112-4e79-95e2-989042c38710',\n",
              "                        [{\"line\": {\"color\": \"darkorange\", \"width\": 2}, \"mode\": \"lines\", \"name\": \"ROC curve (area = 0.79)\", \"type\": \"scatter\", \"x\": [0.0, 0.0, 0.0, 0.0, 0.0, 0.0, 0.0, 0.0, 0.0, 0.0, 0.0, 0.0, 0.0, 0.0, 0.0, 0.0, 0.0, 0.0, 0.0, 0.0, 0.0, 0.0, 0.0, 0.0, 0.0, 0.0, 0.0, 0.0, 0.0, 0.0, 0.0, 0.0, 0.0, 0.0, 0.0, 0.0004710315591144607, 0.0004710315591144607, 0.0009420631182289214, 0.0009420631182289214, 0.001413094677343382, 0.001413094677343382, 0.0018841262364578427, 0.0018841262364578427, 0.0023551577955723034, 0.0023551577955723034, 0.002826189354686764, 0.002826189354686764, 0.003297220913801225, 0.003297220913801225, 0.003297220913801225, 0.003297220913801225, 0.003297220913801225, 0.003297220913801225, 0.003297220913801225, 0.003297220913801225, 0.003297220913801225, 0.0037682524729156855, 0.0037682524729156855, 0.0037682524729156855, 0.0037682524729156855, 0.0037682524729156855, 0.0037682524729156855, 0.004239284032030146, 0.004239284032030146, 0.004239284032030146, 0.004239284032030146, 0.004710315591144607, 0.004710315591144607, 0.0051813471502590676, 0.0051813471502590676, 0.0051813471502590676, 0.0051813471502590676, 0.0051813471502590676, 0.0051813471502590676, 0.0051813471502590676, 0.0051813471502590676, 0.0051813471502590676, 0.0051813471502590676, 0.0051813471502590676, 0.0051813471502590676, 0.005652378709373528, 0.005652378709373528, 0.005652378709373528, 0.005652378709373528, 0.005652378709373528, 0.005652378709373528, 0.005652378709373528, 0.005652378709373528, 0.005652378709373528, 0.005652378709373528, 0.005652378709373528, 0.005652378709373528, 0.005652378709373528, 0.005652378709373528, 0.005652378709373528, 0.005652378709373528, 0.005652378709373528, 0.005652378709373528, 0.005652378709373528, 0.005652378709373528, 0.005652378709373528, 0.005652378709373528, 0.005652378709373528, 0.005652378709373528, 0.005652378709373528, 0.005652378709373528, 0.005652378709373528, 0.005652378709373528, 0.005652378709373528, 0.005652378709373528, 0.006123410268487989, 0.006123410268487989, 0.006123410268487989, 0.006123410268487989, 0.006123410268487989, 0.006123410268487989, 0.006123410268487989, 0.006123410268487989, 0.006123410268487989, 0.006123410268487989, 0.006123410268487989, 0.006123410268487989, 0.006123410268487989, 0.006123410268487989, 0.006123410268487989, 0.006123410268487989, 0.006123410268487989, 0.006123410268487989, 0.006123410268487989, 0.006123410268487989, 0.006123410268487989, 0.006123410268487989, 0.006123410268487989, 0.006123410268487989, 0.006123410268487989, 0.006123410268487989, 0.006123410268487989, 0.006123410268487989, 0.006123410268487989, 0.006123410268487989, 0.006123410268487989, 0.006123410268487989, 0.006123410268487989, 0.006123410268487989, 0.006123410268487989, 0.006123410268487989, 0.006123410268487989, 0.00659444182760245, 0.00659444182760245, 0.00659444182760245, 0.00659444182760245, 0.00659444182760245, 0.00659444182760245, 0.00659444182760245, 0.00659444182760245, 0.00706547338671691, 0.00706547338671691, 0.00706547338671691, 0.00706547338671691, 0.00706547338671691, 0.00706547338671691, 0.007536504945831371, 0.007536504945831371, 0.007536504945831371, 0.007536504945831371, 0.007536504945831371, 0.007536504945831371, 0.007536504945831371, 0.007536504945831371, 0.007536504945831371, 0.007536504945831371, 0.00800753650494583, 0.00800753650494583, 0.00800753650494583, 0.00800753650494583, 0.00800753650494583, 0.00800753650494583, 0.00800753650494583, 0.00800753650494583, 0.00800753650494583, 0.00800753650494583, 0.00800753650494583, 0.00800753650494583, 0.00800753650494583, 0.00800753650494583, 0.00800753650494583, 0.00800753650494583, 0.00800753650494583, 0.00800753650494583, 0.00800753650494583, 0.00800753650494583, 0.00800753650494583, 0.00800753650494583, 0.008478568064060292, 0.008478568064060292, 0.008478568064060292, 0.008478568064060292, 0.008478568064060292, 0.008478568064060292, 0.008478568064060292, 0.008478568064060292, 0.008478568064060292, 0.008478568064060292, 0.008478568064060292, 0.008949599623174752, 0.008949599623174752, 0.008949599623174752, 0.008949599623174752, 0.008949599623174752, 0.008949599623174752, 0.008949599623174752, 0.008949599623174752, 0.008949599623174752, 0.008949599623174752, 0.009420631182289214, 0.009420631182289214, 0.009420631182289214, 0.009420631182289214, 0.009420631182289214, 0.009420631182289214, 0.009420631182289214, 0.009420631182289214, 0.009420631182289214, 0.009420631182289214, 0.009420631182289214, 0.009420631182289214, 0.009420631182289214, 0.009420631182289214, 0.009420631182289214, 0.009420631182289214, 0.009891662741403674, 0.009891662741403674, 0.009891662741403674, 0.009891662741403674, 0.010362694300518135, 0.010362694300518135, 0.010833725859632595, 0.010833725859632595, 0.010833725859632595, 0.010833725859632595, 0.010833725859632595, 0.010833725859632595, 0.010833725859632595, 0.010833725859632595, 0.010833725859632595, 0.010833725859632595, 0.010833725859632595, 0.010833725859632595, 0.010833725859632595, 0.010833725859632595, 0.010833725859632595, 0.010833725859632595, 0.010833725859632595, 0.010833725859632595, 0.010833725859632595, 0.010833725859632595, 0.011304757418747056, 0.011304757418747056, 0.011304757418747056, 0.011304757418747056, 0.011304757418747056, 0.011304757418747056, 0.011304757418747056, 0.011304757418747056, 0.011304757418747056, 0.011304757418747056, 0.011304757418747056, 0.011304757418747056, 0.011304757418747056, 0.011304757418747056, 0.011304757418747056, 0.011304757418747056, 0.011304757418747056, 0.011304757418747056, 0.011775788977861516, 0.011775788977861516, 0.011775788977861516, 0.011775788977861516, 0.011775788977861516, 0.011775788977861516, 0.011775788977861516, 0.011775788977861516, 0.011775788977861516, 0.011775788977861516, 0.011775788977861516, 0.011775788977861516, 0.011775788977861516, 0.011775788977861516, 0.011775788977861516, 0.011775788977861516, 0.011775788977861516, 0.011775788977861516, 0.011775788977861516, 0.011775788977861516, 0.011775788977861516, 0.011775788977861516, 0.011775788977861516, 0.011775788977861516, 0.011775788977861516, 0.012246820536975978, 0.012246820536975978, 0.012246820536975978, 0.012246820536975978, 0.012246820536975978, 0.012246820536975978, 0.012246820536975978, 0.012246820536975978, 0.012246820536975978, 0.012246820536975978, 0.012246820536975978, 0.012246820536975978, 0.012246820536975978, 0.012246820536975978, 0.012246820536975978, 0.012246820536975978, 0.012246820536975978, 0.012246820536975978, 0.012246820536975978, 0.012246820536975978, 0.012246820536975978, 0.012246820536975978, 0.012246820536975978, 0.012246820536975978, 0.012246820536975978, 0.012246820536975978, 0.012246820536975978, 0.012246820536975978, 0.012246820536975978, 0.012246820536975978, 0.012246820536975978, 0.012246820536975978, 0.012246820536975978, 0.012246820536975978, 0.012246820536975978, 0.012246820536975978, 0.0131888836552049, 0.0131888836552049, 0.0131888836552049, 0.0131888836552049, 0.0131888836552049, 0.0131888836552049, 0.0131888836552049, 0.0131888836552049, 0.0131888836552049, 0.0131888836552049, 0.0131888836552049, 0.0131888836552049, 0.0131888836552049, 0.01413094677343382, 0.01413094677343382, 0.01413094677343382, 0.01413094677343382, 0.01413094677343382, 0.01413094677343382, 0.01413094677343382, 0.01413094677343382, 0.01413094677343382, 0.01413094677343382, 0.01413094677343382, 0.01413094677343382, 0.01413094677343382, 0.01413094677343382, 0.01413094677343382, 0.01413094677343382, 0.01413094677343382, 0.01413094677343382, 0.01413094677343382, 0.01413094677343382, 0.01413094677343382, 0.01413094677343382, 0.01413094677343382, 0.01413094677343382, 0.01413094677343382, 0.01413094677343382, 0.01413094677343382, 0.01413094677343382, 0.01413094677343382, 0.01413094677343382, 0.01413094677343382, 0.01413094677343382, 0.01413094677343382, 0.01413094677343382, 0.01413094677343382, 0.01413094677343382, 0.01413094677343382, 0.01413094677343382, 0.01413094677343382, 0.01413094677343382, 0.01413094677343382, 0.01413094677343382, 0.01413094677343382, 0.01413094677343382, 0.01413094677343382, 0.01413094677343382, 0.01413094677343382, 0.01413094677343382, 0.01413094677343382, 0.01413094677343382, 0.01413094677343382, 0.01413094677343382, 0.01413094677343382, 0.01413094677343382, 0.01413094677343382, 0.01413094677343382, 0.01413094677343382, 0.01413094677343382, 0.01413094677343382, 0.01413094677343382, 0.01413094677343382, 0.01413094677343382, 0.01413094677343382, 0.01413094677343382, 0.01413094677343382, 0.01413094677343382, 0.01413094677343382, 0.01413094677343382, 0.01413094677343382, 0.01413094677343382, 0.01413094677343382, 0.01413094677343382, 0.01413094677343382, 0.01413094677343382, 0.01413094677343382, 0.01413094677343382, 0.01460197833254828, 0.01460197833254828, 0.01460197833254828, 0.01460197833254828, 0.01460197833254828, 0.01460197833254828, 0.01460197833254828, 0.01460197833254828, 0.01460197833254828, 0.01460197833254828, 0.01460197833254828, 0.01460197833254828, 0.01460197833254828, 0.01460197833254828, 0.015073009891662742, 0.015073009891662742, 0.015073009891662742, 0.015073009891662742, 0.015073009891662742, 0.015073009891662742, 0.015073009891662742, 0.015073009891662742, 0.015073009891662742, 0.015073009891662742, 0.015073009891662742, 0.015073009891662742, 0.015073009891662742, 0.015073009891662742, 0.015073009891662742, 0.015073009891662742, 0.015073009891662742, 0.015073009891662742, 0.015544041450777202, 0.015544041450777202, 0.01601507300989166, 0.01601507300989166, 0.01601507300989166, 0.01601507300989166, 0.01601507300989166, 0.01601507300989166, 0.01601507300989166, 0.01601507300989166, 0.01601507300989166, 0.01601507300989166, 0.01601507300989166, 0.01601507300989166, 0.01601507300989166, 0.01601507300989166, 0.01601507300989166, 0.01601507300989166, 0.01601507300989166, 0.01601507300989166, 0.01601507300989166, 0.01601507300989166, 0.01601507300989166, 0.01601507300989166, 0.01601507300989166, 0.01601507300989166, 0.01601507300989166, 0.01601507300989166, 0.01601507300989166, 0.01601507300989166, 0.01601507300989166, 0.01601507300989166, 0.01601507300989166, 0.01601507300989166, 0.01601507300989166, 0.01601507300989166, 0.01601507300989166, 0.01601507300989166, 0.01601507300989166, 0.01601507300989166, 0.01601507300989166, 0.01601507300989166, 0.01601507300989166, 0.01601507300989166, 0.01601507300989166, 0.01601507300989166, 0.01601507300989166, 0.01601507300989166, 0.01601507300989166, 0.01601507300989166, 0.01601507300989166, 0.01601507300989166, 0.01601507300989166, 0.01601507300989166, 0.01601507300989166, 0.01601507300989166, 0.01601507300989166, 0.01601507300989166, 0.016486104569006125, 0.016486104569006125, 0.016486104569006125, 0.016486104569006125, 0.016486104569006125, 0.016486104569006125, 0.016486104569006125, 0.016486104569006125, 0.016486104569006125, 0.016486104569006125, 0.016957136128120585, 0.016957136128120585, 0.016957136128120585, 0.016957136128120585, 0.016957136128120585, 0.016957136128120585, 0.016957136128120585, 0.016957136128120585, 0.016957136128120585, 0.016957136128120585, 0.016957136128120585, 0.016957136128120585, 0.016957136128120585, 0.016957136128120585, 0.016957136128120585, 0.016957136128120585, 0.016957136128120585, 0.016957136128120585, 0.016957136128120585, 0.016957136128120585, 0.016957136128120585, 0.016957136128120585, 0.016957136128120585, 0.016957136128120585, 0.016957136128120585, 0.016957136128120585, 0.016957136128120585, 0.016957136128120585, 0.016957136128120585, 0.016957136128120585, 0.016957136128120585, 0.016957136128120585, 0.016957136128120585, 0.016957136128120585, 0.016957136128120585, 0.016957136128120585, 0.016957136128120585, 0.016957136128120585, 0.016957136128120585, 0.016957136128120585, 0.016957136128120585, 0.016957136128120585, 0.016957136128120585, 0.016957136128120585, 0.016957136128120585, 0.016957136128120585, 0.016957136128120585, 0.016957136128120585, 0.016957136128120585, 0.016957136128120585, 0.016957136128120585, 0.016957136128120585, 0.016957136128120585, 0.016957136128120585, 0.016957136128120585, 0.016957136128120585, 0.016957136128120585, 0.016957136128120585, 0.016957136128120585, 0.016957136128120585, 0.016957136128120585, 0.016957136128120585, 0.016957136128120585, 0.016957136128120585, 0.016957136128120585, 0.016957136128120585, 0.016957136128120585, 0.016957136128120585, 0.016957136128120585, 0.016957136128120585, 0.017428167687235045, 0.017428167687235045, 0.017428167687235045, 0.017428167687235045, 0.017899199246349504, 0.017899199246349504, 0.017899199246349504, 0.017899199246349504, 0.018370230805463968, 0.018370230805463968, 0.018370230805463968, 0.018370230805463968, 0.018370230805463968, 0.018370230805463968, 0.018370230805463968, 0.018370230805463968, 0.018841262364578427, 0.018841262364578427, 0.018841262364578427, 0.018841262364578427, 0.018841262364578427, 0.018841262364578427, 0.018841262364578427, 0.018841262364578427, 0.018841262364578427, 0.018841262364578427, 0.018841262364578427, 0.018841262364578427, 0.018841262364578427, 0.018841262364578427, 0.018841262364578427, 0.018841262364578427, 0.018841262364578427, 0.018841262364578427, 0.019312293923692887, 0.019312293923692887, 0.019312293923692887, 0.019312293923692887, 0.019312293923692887, 0.019312293923692887, 0.019783325482807347, 0.019783325482807347, 0.019783325482807347, 0.019783325482807347, 0.019783325482807347, 0.019783325482807347, 0.019783325482807347, 0.019783325482807347, 0.019783325482807347, 0.019783325482807347, 0.02025435704192181, 0.02025435704192181, 0.02025435704192181, 0.02025435704192181, 0.02072538860103627, 0.02072538860103627, 0.02072538860103627, 0.02072538860103627, 0.02072538860103627, 0.02072538860103627, 0.02119642016015073, 0.02119642016015073, 0.02119642016015073, 0.02119642016015073, 0.02119642016015073, 0.02119642016015073, 0.02119642016015073, 0.02119642016015073, 0.02119642016015073, 0.02119642016015073, 0.02119642016015073, 0.02119642016015073, 0.02119642016015073, 0.02119642016015073, 0.02119642016015073, 0.02119642016015073, 0.02119642016015073, 0.02119642016015073, 0.02119642016015073, 0.02119642016015073, 0.02119642016015073, 0.02119642016015073, 0.02119642016015073, 0.02119642016015073, 0.02119642016015073, 0.02119642016015073, 0.02119642016015073, 0.02119642016015073, 0.02119642016015073, 0.02119642016015073, 0.02119642016015073, 0.02119642016015073, 0.02119642016015073, 0.02119642016015073, 0.02119642016015073, 0.02119642016015073, 0.02166745171926519, 0.02166745171926519, 0.02166745171926519, 0.02166745171926519, 0.02166745171926519, 0.02166745171926519, 0.02166745171926519, 0.02166745171926519, 0.02166745171926519, 0.02166745171926519, 0.02166745171926519, 0.02166745171926519, 0.02166745171926519, 0.02166745171926519, 0.02166745171926519, 0.02166745171926519, 0.02166745171926519, 0.02166745171926519, 0.02166745171926519, 0.022138483278379653, 0.022138483278379653, 0.022138483278379653, 0.022609514837494113, 0.022609514837494113, 0.022609514837494113, 0.022609514837494113, 0.022609514837494113, 0.022609514837494113, 0.023080546396608573, 0.023080546396608573, 0.023080546396608573, 0.023080546396608573, 0.023080546396608573, 0.023080546396608573, 0.023551577955723033, 0.023551577955723033, 0.023551577955723033, 0.023551577955723033, 0.023551577955723033, 0.023551577955723033, 0.023551577955723033, 0.023551577955723033, 0.023551577955723033, 0.023551577955723033, 0.023551577955723033, 0.023551577955723033, 0.024022609514837492, 0.024022609514837492, 0.024022609514837492, 0.024022609514837492, 0.024493641073951956, 0.024493641073951956, 0.024493641073951956, 0.024493641073951956, 0.024493641073951956, 0.024493641073951956, 0.024493641073951956, 0.024493641073951956, 0.024493641073951956, 0.024493641073951956, 0.024964672633066416, 0.024964672633066416, 0.024964672633066416, 0.024964672633066416, 0.024964672633066416, 0.024964672633066416, 0.024964672633066416, 0.024964672633066416, 0.024964672633066416, 0.024964672633066416, 0.024964672633066416, 0.024964672633066416, 0.024964672633066416, 0.024964672633066416, 0.025435704192180875, 0.025435704192180875, 0.025435704192180875, 0.025435704192180875, 0.025435704192180875, 0.025435704192180875, 0.025435704192180875, 0.025435704192180875, 0.025435704192180875, 0.025435704192180875, 0.025435704192180875, 0.025435704192180875, 0.025435704192180875, 0.025435704192180875, 0.025435704192180875, 0.025435704192180875, 0.025435704192180875, 0.025435704192180875, 0.025435704192180875, 0.025435704192180875, 0.025906735751295335, 0.025906735751295335, 0.025906735751295335, 0.025906735751295335, 0.025906735751295335, 0.025906735751295335, 0.025906735751295335, 0.0263777673104098, 0.0263777673104098, 0.0263777673104098, 0.0263777673104098, 0.0263777673104098, 0.0263777673104098, 0.0263777673104098, 0.0263777673104098, 0.0263777673104098, 0.0263777673104098, 0.0263777673104098, 0.0263777673104098, 0.0263777673104098, 0.0263777673104098, 0.0263777673104098, 0.0263777673104098, 0.0263777673104098, 0.0263777673104098, 0.0263777673104098, 0.026848798869524258, 0.026848798869524258, 0.026848798869524258, 0.026848798869524258, 0.026848798869524258, 0.026848798869524258, 0.026848798869524258, 0.026848798869524258, 0.026848798869524258, 0.026848798869524258, 0.026848798869524258, 0.026848798869524258, 0.026848798869524258, 0.026848798869524258, 0.026848798869524258, 0.026848798869524258, 0.026848798869524258, 0.026848798869524258, 0.026848798869524258, 0.026848798869524258, 0.026848798869524258, 0.026848798869524258, 0.026848798869524258, 0.026848798869524258, 0.026848798869524258, 0.026848798869524258, 0.026848798869524258, 0.026848798869524258, 0.026848798869524258, 0.026848798869524258, 0.026848798869524258, 0.026848798869524258, 0.026848798869524258, 0.026848798869524258, 0.026848798869524258, 0.026848798869524258, 0.026848798869524258, 0.027319830428638718, 0.027319830428638718, 0.027319830428638718, 0.027319830428638718, 0.027319830428638718, 0.027319830428638718, 0.02826189354686764, 0.02826189354686764, 0.0287329251059821, 0.0287329251059821, 0.0287329251059821, 0.0287329251059821, 0.02920395666509656, 0.02920395666509656, 0.02967498822421102, 0.02967498822421102, 0.02967498822421102, 0.02967498822421102, 0.030146019783325484, 0.030146019783325484, 0.030146019783325484, 0.030146019783325484, 0.030146019783325484, 0.030146019783325484, 0.030146019783325484, 0.030146019783325484, 0.030146019783325484, 0.030146019783325484, 0.030146019783325484, 0.030617051342439944, 0.030617051342439944, 0.030617051342439944, 0.030617051342439944, 0.030617051342439944, 0.030617051342439944, 0.030617051342439944, 0.030617051342439944, 0.030617051342439944, 0.030617051342439944, 0.030617051342439944, 0.030617051342439944, 0.030617051342439944, 0.030617051342439944, 0.030617051342439944, 0.030617051342439944, 0.030617051342439944, 0.030617051342439944, 0.030617051342439944, 0.030617051342439944, 0.030617051342439944, 0.030617051342439944, 0.030617051342439944, 0.030617051342439944, 0.030617051342439944, 0.030617051342439944, 0.030617051342439944, 0.030617051342439944, 0.030617051342439944, 0.030617051342439944, 0.030617051342439944, 0.030617051342439944, 0.030617051342439944, 0.030617051342439944, 0.031088082901554404, 0.031088082901554404, 0.031088082901554404, 0.031088082901554404, 0.031088082901554404, 0.031088082901554404, 0.031088082901554404, 0.031088082901554404, 0.03203014601978332, 0.03203014601978332, 0.03250117757889778, 0.03250117757889778, 0.03250117757889778, 0.03250117757889778, 0.03297220913801225, 0.03297220913801225, 0.03297220913801225, 0.03297220913801225, 0.03297220913801225, 0.03297220913801225, 0.03297220913801225, 0.03297220913801225, 0.03297220913801225, 0.03297220913801225, 0.03297220913801225, 0.03297220913801225, 0.03297220913801225, 0.03297220913801225, 0.03297220913801225, 0.03297220913801225, 0.03344324069712671, 0.03344324069712671, 0.03344324069712671, 0.03344324069712671, 0.03344324069712671, 0.03344324069712671, 0.03344324069712671, 0.03344324069712671, 0.03391427225624117, 0.03391427225624117, 0.03438530381535563, 0.03438530381535563, 0.03438530381535563, 0.03438530381535563, 0.03438530381535563, 0.03438530381535563, 0.03485633537447009, 0.03485633537447009, 0.03485633537447009, 0.03485633537447009, 0.03485633537447009, 0.03485633537447009, 0.03485633537447009, 0.03485633537447009, 0.03485633537447009, 0.03485633537447009, 0.03485633537447009, 0.03485633537447009, 0.03532736693358455, 0.03532736693358455, 0.03579839849269901, 0.03579839849269901, 0.03579839849269901, 0.03579839849269901, 0.03579839849269901, 0.03579839849269901, 0.03579839849269901, 0.03579839849269901, 0.03579839849269901, 0.03579839849269901, 0.03579839849269901, 0.03579839849269901, 0.03579839849269901, 0.03579839849269901, 0.03579839849269901, 0.03579839849269901, 0.03626943005181347, 0.03626943005181347, 0.03626943005181347, 0.03626943005181347, 0.03626943005181347, 0.03626943005181347, 0.03626943005181347, 0.03626943005181347, 0.03626943005181347, 0.03626943005181347, 0.03626943005181347, 0.03626943005181347, 0.036740461610927935, 0.036740461610927935, 0.036740461610927935, 0.036740461610927935, 0.036740461610927935, 0.036740461610927935, 0.036740461610927935, 0.036740461610927935, 0.037211493170042395, 0.037211493170042395, 0.038153556288271315, 0.038153556288271315, 0.038153556288271315, 0.038153556288271315, 0.038153556288271315, 0.038153556288271315, 0.038153556288271315, 0.038624587847385775, 0.038624587847385775, 0.038624587847385775, 0.038624587847385775, 0.038624587847385775, 0.038624587847385775, 0.038624587847385775, 0.038624587847385775, 0.038624587847385775, 0.038624587847385775, 0.038624587847385775, 0.038624587847385775, 0.038624587847385775, 0.038624587847385775, 0.038624587847385775, 0.038624587847385775, 0.038624587847385775, 0.038624587847385775, 0.039095619406500234, 0.039095619406500234, 0.039566650965614694, 0.039566650965614694, 0.039566650965614694, 0.039566650965614694, 0.040037682524729154, 0.040037682524729154, 0.04050871408384362, 0.04050871408384362, 0.04097974564295808, 0.04097974564295808, 0.04097974564295808, 0.04097974564295808, 0.04097974564295808, 0.04097974564295808, 0.04097974564295808, 0.04097974564295808, 0.04145077720207254, 0.04145077720207254, 0.04145077720207254, 0.04145077720207254, 0.041921808761187, 0.041921808761187, 0.041921808761187, 0.041921808761187, 0.041921808761187, 0.041921808761187, 0.041921808761187, 0.041921808761187, 0.041921808761187, 0.041921808761187, 0.041921808761187, 0.041921808761187, 0.041921808761187, 0.041921808761187, 0.041921808761187, 0.041921808761187, 0.04239284032030146, 0.04239284032030146, 0.04239284032030146, 0.04239284032030146, 0.04239284032030146, 0.04239284032030146, 0.04239284032030146, 0.04239284032030146, 0.04239284032030146, 0.04239284032030146, 0.04286387187941592, 0.04286387187941592, 0.04286387187941592, 0.04286387187941592, 0.04333490343853038, 0.04333490343853038, 0.04333490343853038, 0.04333490343853038, 0.04333490343853038, 0.04333490343853038, 0.04380593499764484, 0.04380593499764484, 0.04380593499764484, 0.04380593499764484, 0.04380593499764484, 0.04380593499764484, 0.04380593499764484, 0.04380593499764484, 0.04380593499764484, 0.04380593499764484, 0.04380593499764484, 0.04380593499764484, 0.044276966556759306, 0.044276966556759306, 0.044276966556759306, 0.044276966556759306, 0.044747998115873766, 0.044747998115873766, 0.044747998115873766, 0.044747998115873766, 0.044747998115873766, 0.044747998115873766, 0.044747998115873766, 0.044747998115873766, 0.045219029674988226, 0.045219029674988226, 0.045219029674988226, 0.045219029674988226, 0.045219029674988226, 0.045219029674988226, 0.045219029674988226, 0.045219029674988226, 0.045690061234102686, 0.045690061234102686, 0.045690061234102686, 0.045690061234102686, 0.045690061234102686, 0.045690061234102686, 0.045690061234102686, 0.045690061234102686, 0.045690061234102686, 0.045690061234102686, 0.045690061234102686, 0.045690061234102686, 0.045690061234102686, 0.045690061234102686, 0.045690061234102686, 0.045690061234102686, 0.045690061234102686, 0.045690061234102686, 0.045690061234102686, 0.045690061234102686, 0.045690061234102686, 0.045690061234102686, 0.045690061234102686, 0.045690061234102686, 0.045690061234102686, 0.045690061234102686, 0.045690061234102686, 0.045690061234102686, 0.045690061234102686, 0.046161092793217146, 0.046161092793217146, 0.046161092793217146, 0.046161092793217146, 0.046161092793217146, 0.046161092793217146, 0.046632124352331605, 0.046632124352331605, 0.046632124352331605, 0.046632124352331605, 0.046632124352331605, 0.046632124352331605, 0.046632124352331605, 0.046632124352331605, 0.046632124352331605, 0.047103155911446065, 0.047103155911446065, 0.047103155911446065, 0.047103155911446065, 0.047103155911446065, 0.047103155911446065, 0.047103155911446065, 0.047103155911446065, 0.047103155911446065, 0.047103155911446065, 0.047103155911446065, 0.047103155911446065, 0.047103155911446065, 0.047103155911446065, 0.047103155911446065, 0.047103155911446065, 0.047103155911446065, 0.047103155911446065, 0.047103155911446065, 0.047103155911446065, 0.047103155911446065, 0.047103155911446065, 0.047103155911446065, 0.047574187470560525, 0.047574187470560525, 0.048045219029674985, 0.048045219029674985, 0.048045219029674985, 0.048045219029674985, 0.048045219029674985, 0.048045219029674985, 0.04851625058878945, 0.04851625058878945, 0.04851625058878945, 0.04851625058878945, 0.04851625058878945, 0.04851625058878945, 0.04851625058878945, 0.04851625058878945, 0.04851625058878945, 0.04851625058878945, 0.04898728214790391, 0.04898728214790391, 0.04898728214790391, 0.04898728214790391, 0.04898728214790391, 0.04898728214790391, 0.04898728214790391, 0.04898728214790391, 0.04898728214790391, 0.04898728214790391, 0.04898728214790391, 0.04898728214790391, 0.04898728214790391, 0.04898728214790391, 0.04945831370701837, 0.04945831370701837, 0.04945831370701837, 0.04945831370701837, 0.04992934526613283, 0.04992934526613283, 0.04992934526613283, 0.04992934526613283, 0.05040037682524729, 0.05040037682524729, 0.05040037682524729, 0.05040037682524729, 0.05040037682524729, 0.05040037682524729, 0.05040037682524729, 0.05040037682524729, 0.05040037682524729, 0.05040037682524729, 0.05040037682524729, 0.05040037682524729, 0.05087140838436175, 0.05087140838436175, 0.05087140838436175, 0.05087140838436175, 0.05087140838436175, 0.05087140838436175, 0.05087140838436175, 0.05087140838436175, 0.05087140838436175, 0.05087140838436175, 0.05134243994347621, 0.05134243994347621, 0.05134243994347621, 0.05134243994347621, 0.05134243994347621, 0.05134243994347621, 0.05181347150259067, 0.05181347150259067, 0.05181347150259067, 0.05181347150259067, 0.05181347150259067, 0.05181347150259067, 0.05181347150259067, 0.05181347150259067, 0.05228450306170514, 0.05228450306170514, 0.05228450306170514, 0.05228450306170514, 0.0527555346208196, 0.0527555346208196, 0.0527555346208196, 0.0527555346208196, 0.0527555346208196, 0.0527555346208196, 0.0527555346208196, 0.0527555346208196, 0.0527555346208196, 0.0527555346208196, 0.0527555346208196, 0.0527555346208196, 0.05322656617993406, 0.05322656617993406, 0.053697597739048517, 0.053697597739048517, 0.053697597739048517, 0.053697597739048517, 0.053697597739048517, 0.053697597739048517, 0.053697597739048517, 0.053697597739048517, 0.054168629298162976, 0.054168629298162976, 0.054168629298162976, 0.054168629298162976, 0.054168629298162976, 0.054168629298162976, 0.054639660857277436, 0.054639660857277436, 0.054639660857277436, 0.054639660857277436, 0.055110692416391896, 0.055110692416391896, 0.055110692416391896, 0.055110692416391896, 0.055110692416391896, 0.055110692416391896, 0.055110692416391896, 0.055110692416391896, 0.055110692416391896, 0.055110692416391896, 0.055581723975506356, 0.055581723975506356, 0.055581723975506356, 0.055581723975506356, 0.055581723975506356, 0.055581723975506356, 0.055581723975506356, 0.055581723975506356, 0.055581723975506356, 0.055581723975506356, 0.05605275553462082, 0.05605275553462082, 0.05699481865284974, 0.05699481865284974, 0.05699481865284974, 0.05699481865284974, 0.05699481865284974, 0.05699481865284974, 0.0574658502119642, 0.0574658502119642, 0.0574658502119642, 0.0574658502119642, 0.05793688177107866, 0.05793688177107866, 0.05793688177107866, 0.05793688177107866, 0.05793688177107866, 0.05793688177107866, 0.05793688177107866, 0.05793688177107866, 0.05793688177107866, 0.05793688177107866, 0.05793688177107866, 0.05793688177107866, 0.05840791333019312, 0.05840791333019312, 0.05887894488930758, 0.05887894488930758, 0.05934997644842204, 0.05934997644842204, 0.05934997644842204, 0.05934997644842204, 0.05982100800753651, 0.05982100800753651, 0.05982100800753651, 0.05982100800753651, 0.05982100800753651, 0.05982100800753651, 0.05982100800753651, 0.05982100800753651, 0.06029203956665097, 0.06029203956665097, 0.06029203956665097, 0.06029203956665097, 0.06029203956665097, 0.06029203956665097, 0.06029203956665097, 0.06029203956665097, 0.06029203956665097, 0.06029203956665097, 0.06076307112576543, 0.06076307112576543, 0.06076307112576543, 0.06076307112576543, 0.06123410268487989, 0.06123410268487989, 0.06123410268487989, 0.06123410268487989, 0.06123410268487989, 0.06123410268487989, 0.06170513424399435, 0.06170513424399435, 0.06217616580310881, 0.06217616580310881, 0.06264719736222327, 0.06264719736222327, 0.06264719736222327, 0.06264719736222327, 0.06311822892133773, 0.06311822892133773, 0.06311822892133773, 0.06311822892133773, 0.06311822892133773, 0.06311822892133773, 0.06311822892133773, 0.06311822892133773, 0.06311822892133773, 0.06311822892133773, 0.06311822892133773, 0.06311822892133773, 0.06358926048045219, 0.06358926048045219, 0.06406029203956665, 0.06406029203956665, 0.06406029203956665, 0.06406029203956665, 0.06406029203956665, 0.06406029203956665, 0.0645313235986811, 0.0645313235986811, 0.06500235515779557, 0.06500235515779557, 0.06547338671691004, 0.06547338671691004, 0.06547338671691004, 0.06547338671691004, 0.06547338671691004, 0.06547338671691004, 0.06547338671691004, 0.0659444182760245, 0.0659444182760245, 0.0659444182760245, 0.0659444182760245, 0.06641544983513896, 0.06641544983513896, 0.06641544983513896, 0.06641544983513896, 0.06688648139425342, 0.06688648139425342, 0.06782854451248234, 0.06782854451248234, 0.06782854451248234, 0.06782854451248234, 0.06782854451248234, 0.06782854451248234, 0.06782854451248234, 0.06782854451248234, 0.0682995760715968, 0.0682995760715968, 0.0682995760715968, 0.0682995760715968, 0.0682995760715968, 0.0682995760715968, 0.0682995760715968, 0.0682995760715968, 0.06877060763071126, 0.06877060763071126, 0.06924163918982572, 0.06924163918982572, 0.06924163918982572, 0.06924163918982572, 0.06971267074894018, 0.06971267074894018, 0.07018370230805464, 0.07018370230805464, 0.07018370230805464, 0.07018370230805464, 0.07018370230805464, 0.07018370230805464, 0.07018370230805464, 0.07018370230805464, 0.0706547338671691, 0.0706547338671691, 0.0706547338671691, 0.0706547338671691, 0.07112576542628356, 0.07112576542628356, 0.07159679698539802, 0.07159679698539802, 0.07206782854451248, 0.07206782854451248, 0.07206782854451248, 0.07206782854451248, 0.07253886010362694, 0.07253886010362694, 0.07253886010362694, 0.07253886010362694, 0.07253886010362694, 0.07253886010362694, 0.07253886010362694, 0.07253886010362694, 0.0730098916627414, 0.0730098916627414, 0.07348092322185587, 0.07348092322185587, 0.07348092322185587, 0.07348092322185587, 0.07348092322185587, 0.07348092322185587, 0.07348092322185587, 0.07348092322185587, 0.07348092322185587, 0.07348092322185587, 0.07348092322185587, 0.07348092322185587, 0.07348092322185587, 0.07348092322185587, 0.07395195478097033, 0.07395195478097033, 0.07442298634008479, 0.07442298634008479, 0.07442298634008479, 0.07442298634008479, 0.07442298634008479, 0.07442298634008479, 0.07442298634008479, 0.07442298634008479, 0.07489401789919925, 0.07489401789919925, 0.07489401789919925, 0.07489401789919925, 0.07489401789919925, 0.07489401789919925, 0.07536504945831371, 0.07536504945831371, 0.07583608101742817, 0.07583608101742817, 0.07583608101742817, 0.07583608101742817, 0.07630711257654263, 0.07630711257654263, 0.07630711257654263, 0.07630711257654263, 0.07630711257654263, 0.07630711257654263, 0.07630711257654263, 0.07630711257654263, 0.07630711257654263, 0.07630711257654263, 0.07677814413565709, 0.07677814413565709, 0.07677814413565709, 0.07677814413565709, 0.07724917569477155, 0.07724917569477155, 0.07772020725388601, 0.07772020725388601, 0.07819123881300047, 0.07819123881300047, 0.07819123881300047, 0.07819123881300047, 0.07866227037211493, 0.07866227037211493, 0.07866227037211493, 0.07866227037211493, 0.07913330193122939, 0.07913330193122939, 0.07913330193122939, 0.07913330193122939, 0.07960433349034385, 0.07960433349034385, 0.08007536504945831, 0.08007536504945831, 0.08007536504945831, 0.08007536504945831, 0.08007536504945831, 0.08007536504945831, 0.08007536504945831, 0.08007536504945831, 0.08054639660857277, 0.08054639660857277, 0.08054639660857277, 0.08054639660857277, 0.08054639660857277, 0.08054639660857277, 0.08101742816768724, 0.08101742816768724, 0.0814884597268017, 0.0814884597268017, 0.0814884597268017, 0.0814884597268017, 0.0814884597268017, 0.0814884597268017, 0.08195949128591616, 0.08195949128591616, 0.08243052284503062, 0.08243052284503062, 0.08243052284503062, 0.08243052284503062, 0.08243052284503062, 0.08243052284503062, 0.08243052284503062, 0.08243052284503062, 0.08243052284503062, 0.08243052284503062, 0.08290155440414508, 0.08290155440414508, 0.08290155440414508, 0.08290155440414508, 0.08337258596325954, 0.08337258596325954, 0.08337258596325954, 0.08337258596325954, 0.083843617522374, 0.083843617522374, 0.08431464908148846, 0.08431464908148846, 0.08431464908148846, 0.08431464908148846, 0.08431464908148846, 0.08431464908148846, 0.08431464908148846, 0.08431464908148846, 0.08431464908148846, 0.08431464908148846, 0.08431464908148846, 0.08431464908148846, 0.08431464908148846, 0.08431464908148846, 0.08431464908148846, 0.08431464908148846, 0.08431464908148846, 0.08431464908148846, 0.08431464908148846, 0.08431464908148846, 0.08478568064060292, 0.08478568064060292, 0.08478568064060292, 0.08478568064060292, 0.08478568064060292, 0.08478568064060292, 0.08525671219971738, 0.08525671219971738, 0.08525671219971738, 0.08525671219971738, 0.08525671219971738, 0.08525671219971738, 0.08525671219971738, 0.08525671219971738, 0.08572774375883184, 0.08572774375883184, 0.0861987753179463, 0.0861987753179463, 0.08666980687706076, 0.08666980687706076, 0.08666980687706076, 0.08666980687706076, 0.08666980687706076, 0.08666980687706076, 0.08666980687706076, 0.08666980687706076, 0.08666980687706076, 0.08666980687706076, 0.08666980687706076, 0.08666980687706076, 0.08714083843617522, 0.08714083843617522, 0.08761186999528968, 0.08761186999528968, 0.08808290155440414, 0.08808290155440414, 0.08808290155440414, 0.08808290155440414, 0.08808290155440414, 0.08808290155440414, 0.08808290155440414, 0.08808290155440414, 0.08855393311351861, 0.08855393311351861, 0.08855393311351861, 0.08855393311351861, 0.08855393311351861, 0.08855393311351861, 0.08855393311351861, 0.08855393311351861, 0.08902496467263307, 0.08902496467263307, 0.08949599623174753, 0.08949599623174753, 0.08949599623174753, 0.08949599623174753, 0.08949599623174753, 0.08949599623174753, 0.08949599623174753, 0.08949599623174753, 0.08949599623174753, 0.08949599623174753, 0.08949599623174753, 0.08949599623174753, 0.08949599623174753, 0.08949599623174753, 0.08949599623174753, 0.08949599623174753, 0.08949599623174753, 0.08996702779086199, 0.08996702779086199, 0.08996702779086199, 0.08996702779086199, 0.08996702779086199, 0.08996702779086199, 0.08996702779086199, 0.08996702779086199, 0.08996702779086199, 0.08996702779086199, 0.08996702779086199, 0.08996702779086199, 0.09043805934997645, 0.09043805934997645, 0.09043805934997645, 0.09043805934997645, 0.09043805934997645, 0.09043805934997645, 0.09090909090909091, 0.09090909090909091, 0.09138012246820537, 0.09138012246820537, 0.09138012246820537, 0.09138012246820537, 0.09138012246820537, 0.09138012246820537, 0.09138012246820537, 0.09138012246820537, 0.09138012246820537, 0.09138012246820537, 0.09138012246820537, 0.09185115402731983, 0.09185115402731983, 0.09185115402731983, 0.09185115402731983, 0.09185115402731983, 0.09185115402731983, 0.09185115402731983, 0.09185115402731983, 0.09185115402731983, 0.09185115402731983, 0.09232218558643429, 0.09232218558643429, 0.09232218558643429, 0.09232218558643429, 0.09279321714554875, 0.09279321714554875, 0.09326424870466321, 0.09326424870466321, 0.09326424870466321, 0.09326424870466321, 0.09326424870466321, 0.09326424870466321, 0.09326424870466321, 0.09326424870466321, 0.09326424870466321, 0.09326424870466321, 0.09373528026377767, 0.09373528026377767, 0.09420631182289213, 0.09420631182289213, 0.09420631182289213, 0.09420631182289213, 0.09467734338200659, 0.09467734338200659, 0.09467734338200659, 0.09467734338200659, 0.09514837494112105, 0.09514837494112105, 0.09514837494112105, 0.09514837494112105, 0.09514837494112105, 0.09514837494112105, 0.09561940650023551, 0.09561940650023551, 0.09561940650023551, 0.09561940650023551, 0.09561940650023551, 0.09561940650023551, 0.09561940650023551, 0.09561940650023551, 0.09561940650023551, 0.09609043805934997, 0.09609043805934997, 0.09656146961846444, 0.09656146961846444, 0.09656146961846444, 0.09656146961846444, 0.09656146961846444, 0.09656146961846444, 0.0970325011775789, 0.0970325011775789, 0.0970325011775789, 0.0970325011775789, 0.0970325011775789, 0.0970325011775789, 0.09750353273669336, 0.09750353273669336, 0.09797456429580782, 0.09797456429580782, 0.09797456429580782, 0.09797456429580782, 0.09797456429580782, 0.09797456429580782, 0.09797456429580782, 0.09797456429580782, 0.09844559585492228, 0.09844559585492228, 0.09891662741403674, 0.09891662741403674, 0.09891662741403674, 0.09891662741403674, 0.09891662741403674, 0.09891662741403674, 0.0993876589731512, 0.0993876589731512, 0.09985869053226566, 0.09985869053226566, 0.10032972209138012, 0.10032972209138012, 0.10032972209138012, 0.10032972209138012, 0.10032972209138012, 0.10032972209138012, 0.10080075365049458, 0.10080075365049458, 0.10080075365049458, 0.10080075365049458, 0.10080075365049458, 0.10080075365049458, 0.10127178520960904, 0.10127178520960904, 0.10127178520960904, 0.10127178520960904, 0.1017428167687235, 0.1017428167687235, 0.10221384832783796, 0.10221384832783796, 0.10268487988695242, 0.10268487988695242, 0.10268487988695242, 0.10268487988695242, 0.10315591144606688, 0.10315591144606688, 0.10315591144606688, 0.10315591144606688, 0.10315591144606688, 0.10315591144606688, 0.10315591144606688, 0.10315591144606688, 0.10362694300518134, 0.10362694300518134, 0.10362694300518134, 0.10362694300518134, 0.10409797456429581, 0.10409797456429581, 0.10409797456429581, 0.10409797456429581, 0.10409797456429581, 0.10409797456429581, 0.10409797456429581, 0.10409797456429581, 0.10409797456429581, 0.10409797456429581, 0.10504003768252473, 0.10504003768252473, 0.10504003768252473, 0.10504003768252473, 0.1055110692416392, 0.1055110692416392, 0.1055110692416392, 0.1055110692416392, 0.10598210080075365, 0.10598210080075365, 0.10598210080075365, 0.10598210080075365, 0.10598210080075365, 0.10598210080075365, 0.10598210080075365, 0.10598210080075365, 0.10598210080075365, 0.10645313235986811, 0.10645313235986811, 0.10692416391898257, 0.10692416391898257, 0.10739519547809703, 0.10739519547809703, 0.10739519547809703, 0.10739519547809703, 0.10786622703721149, 0.10786622703721149, 0.10786622703721149, 0.10786622703721149, 0.10833725859632595, 0.10833725859632595, 0.10833725859632595, 0.10833725859632595, 0.10880829015544041, 0.10880829015544041, 0.10927932171455487, 0.10927932171455487, 0.10927932171455487, 0.10927932171455487, 0.10975035327366933, 0.10975035327366933, 0.11022138483278379, 0.11022138483278379, 0.11022138483278379, 0.11022138483278379, 0.11069241639189825, 0.11069241639189825, 0.11116344795101271, 0.11116344795101271, 0.11116344795101271, 0.11116344795101271, 0.11163447951012719, 0.11163447951012719, 0.11163447951012719, 0.11163447951012719, 0.11210551106924165, 0.11210551106924165, 0.11210551106924165, 0.11210551106924165, 0.11210551106924165, 0.11210551106924165, 0.11210551106924165, 0.11210551106924165, 0.1125765426283561, 0.1125765426283561, 0.11304757418747056, 0.11304757418747056, 0.11304757418747056, 0.11304757418747056, 0.11304757418747056, 0.11304757418747056, 0.11351860574658502, 0.11351860574658502, 0.11398963730569948, 0.11398963730569948, 0.11446066886481394, 0.11446066886481394, 0.1149317004239284, 0.1149317004239284, 0.11540273198304286, 0.11540273198304286, 0.11540273198304286, 0.11540273198304286, 0.11540273198304286, 0.11540273198304286, 0.11587376354215732, 0.11587376354215732, 0.11587376354215732, 0.11587376354215732, 0.11587376354215732, 0.11587376354215732, 0.11634479510127178, 0.11634479510127178, 0.11681582666038624, 0.11681582666038624, 0.11681582666038624, 0.11681582666038624, 0.11681582666038624, 0.11681582666038624, 0.11681582666038624, 0.11681582666038624, 0.1172868582195007, 0.1172868582195007, 0.1172868582195007, 0.1172868582195007, 0.11775788977861516, 0.11775788977861516, 0.11775788977861516, 0.11775788977861516, 0.11775788977861516, 0.11775788977861516, 0.11775788977861516, 0.11775788977861516, 0.11775788977861516, 0.11775788977861516, 0.11775788977861516, 0.11775788977861516, 0.11775788977861516, 0.11775788977861516, 0.11775788977861516, 0.11775788977861516, 0.11822892133772962, 0.11822892133772962, 0.11822892133772962, 0.11822892133772962, 0.11822892133772962, 0.11822892133772962, 0.11822892133772962, 0.11822892133772962, 0.11869995289684408, 0.11869995289684408, 0.11917098445595854, 0.11917098445595854, 0.11917098445595854, 0.11917098445595854, 0.11964201601507302, 0.11964201601507302, 0.11964201601507302, 0.11964201601507302, 0.12011304757418748, 0.12011304757418748, 0.12011304757418748, 0.12011304757418748, 0.12058407913330194, 0.12058407913330194, 0.1210551106924164, 0.1210551106924164, 0.12152614225153086, 0.12152614225153086, 0.12199717381064532, 0.12199717381064532, 0.12246820536975978, 0.12246820536975978, 0.12293923692887423, 0.12293923692887423, 0.1234102684879887, 0.1234102684879887, 0.1234102684879887, 0.1234102684879887, 0.12388130004710315, 0.12388130004710315, 0.12388130004710315, 0.12388130004710315, 0.12388130004710315, 0.12388130004710315, 0.12388130004710315, 0.12388130004710315, 0.12388130004710315, 0.12388130004710315, 0.12388130004710315, 0.12388130004710315, 0.12435233160621761, 0.12435233160621761, 0.12435233160621761, 0.12435233160621761, 0.12482336316533207, 0.12482336316533207, 0.12482336316533207, 0.12482336316533207, 0.12482336316533207, 0.12482336316533207, 0.12482336316533207, 0.12482336316533207, 0.12482336316533207, 0.12482336316533207, 0.12482336316533207, 0.12482336316533207, 0.12529439472444653, 0.12529439472444653, 0.125765426283561, 0.125765426283561, 0.12623645784267545, 0.12623645784267545, 0.12623645784267545, 0.12623645784267545, 0.12623645784267545, 0.12623645784267545, 0.12623645784267545, 0.12623645784267545, 0.12623645784267545, 0.12623645784267545, 0.1267074894017899, 0.1267074894017899, 0.1267074894017899, 0.1267074894017899, 0.12717852096090437, 0.12717852096090437, 0.12764955252001883, 0.12764955252001883, 0.12764955252001883, 0.12764955252001883, 0.1281205840791333, 0.1281205840791333, 0.1281205840791333, 0.1281205840791333, 0.1281205840791333, 0.1281205840791333, 0.12859161563824775, 0.12859161563824775, 0.12859161563824775, 0.12859161563824775, 0.12859161563824775, 0.12859161563824775, 0.12859161563824775, 0.12859161563824775, 0.1290626471973622, 0.1290626471973622, 0.1290626471973622, 0.1290626471973622, 0.12953367875647667, 0.12953367875647667, 0.12953367875647667, 0.13000471031559113, 0.13000471031559113, 0.13000471031559113, 0.1304757418747056, 0.1304757418747056, 0.1304757418747056, 0.1304757418747056, 0.1304757418747056, 0.1304757418747056, 0.1304757418747056, 0.1304757418747056, 0.13094677343382008, 0.13094677343382008, 0.13094677343382008, 0.13094677343382008, 0.13094677343382008, 0.13094677343382008, 0.13094677343382008, 0.13094677343382008, 0.13094677343382008, 0.13094677343382008, 0.13141780499293454, 0.13141780499293454, 0.13141780499293454, 0.13141780499293454, 0.13141780499293454, 0.131888836552049, 0.131888836552049, 0.131888836552049, 0.131888836552049, 0.131888836552049, 0.131888836552049, 0.131888836552049, 0.13235986811116346, 0.13235986811116346, 0.13235986811116346, 0.13235986811116346, 0.13235986811116346, 0.13235986811116346, 0.13235986811116346, 0.13235986811116346, 0.13283089967027792, 0.13283089967027792, 0.13377296278850684, 0.13377296278850684, 0.13377296278850684, 0.13377296278850684, 0.13377296278850684, 0.13377296278850684, 0.13377296278850684, 0.13377296278850684, 0.13377296278850684, 0.13377296278850684, 0.13377296278850684, 0.13377296278850684, 0.1342439943476213, 0.1342439943476213, 0.13471502590673576, 0.13471502590673576, 0.13471502590673576, 0.13518605746585022, 0.13518605746585022, 0.13565708902496468, 0.13565708902496468, 0.13565708902496468, 0.13565708902496468, 0.13565708902496468, 0.13565708902496468, 0.13565708902496468, 0.13565708902496468, 0.13612812058407914, 0.13612812058407914, 0.1365991521431936, 0.1365991521431936, 0.1365991521431936, 0.1365991521431936, 0.1365991521431936, 0.13707018370230806, 0.13707018370230806, 0.13707018370230806, 0.13707018370230806, 0.13754121526142252, 0.13754121526142252, 0.13801224682053698, 0.13801224682053698, 0.1389543099387659, 0.1389543099387659, 0.1389543099387659, 0.1389543099387659, 0.1389543099387659, 0.1389543099387659, 0.13942534149788036, 0.13942534149788036, 0.13942534149788036, 0.13942534149788036, 0.13942534149788036, 0.13942534149788036, 0.13989637305699482, 0.13989637305699482, 0.13989637305699482, 0.13989637305699482, 0.13989637305699482, 0.13989637305699482, 0.13989637305699482, 0.13989637305699482, 0.13989637305699482, 0.13989637305699482, 0.14036740461610928, 0.14036740461610928, 0.14036740461610928, 0.14036740461610928, 0.14036740461610928, 0.14036740461610928, 0.14083843617522374, 0.14083843617522374, 0.1413094677343382, 0.1413094677343382, 0.14178049929345266, 0.14178049929345266, 0.14272256241168157, 0.14272256241168157, 0.14272256241168157, 0.14272256241168157, 0.14272256241168157, 0.14272256241168157, 0.1436646255299105, 0.1436646255299105, 0.14413565708902495, 0.14413565708902495, 0.14460668864813941, 0.14460668864813941, 0.14460668864813941, 0.14460668864813941, 0.14460668864813941, 0.14460668864813941, 0.14460668864813941, 0.14460668864813941, 0.14507772020725387, 0.14507772020725387, 0.14507772020725387, 0.14507772020725387, 0.14507772020725387, 0.14507772020725387, 0.14507772020725387, 0.14507772020725387, 0.14507772020725387, 0.14507772020725387, 0.14507772020725387, 0.14507772020725387, 0.14507772020725387, 0.14507772020725387, 0.14507772020725387, 0.14507772020725387, 0.14554875176636833, 0.14554875176636833, 0.1460197833254828, 0.1460197833254828, 0.1460197833254828, 0.1460197833254828, 0.14649081488459728, 0.14649081488459728, 0.14696184644371174, 0.14696184644371174, 0.14696184644371174, 0.14696184644371174, 0.14696184644371174, 0.14696184644371174, 0.1474328780028262, 0.1474328780028262, 0.14790390956194066, 0.14790390956194066, 0.14837494112105512, 0.14837494112105512, 0.14884597268016958, 0.14884597268016958, 0.14884597268016958, 0.14884597268016958, 0.14931700423928404, 0.14931700423928404, 0.14931700423928404, 0.14931700423928404, 0.15073009891662742, 0.15073009891662742, 0.15120113047574188, 0.15120113047574188, 0.15167216203485634, 0.15167216203485634, 0.1521431935939708, 0.1521431935939708, 0.1521431935939708, 0.1521431935939708, 0.1521431935939708, 0.1521431935939708, 0.15261422515308526, 0.15261422515308526, 0.15261422515308526, 0.15261422515308526, 0.15308525671219972, 0.15308525671219972, 0.15308525671219972, 0.15308525671219972, 0.15355628827131418, 0.15355628827131418, 0.15355628827131418, 0.15355628827131418, 0.15355628827131418, 0.15355628827131418, 0.15402731983042864, 0.15402731983042864, 0.1544983513895431, 0.1544983513895431, 0.15496938294865756, 0.15496938294865756, 0.15544041450777202, 0.15544041450777202, 0.15544041450777202, 0.15544041450777202, 0.15544041450777202, 0.15544041450777202, 0.15544041450777202, 0.15544041450777202, 0.15544041450777202, 0.15544041450777202, 0.15544041450777202, 0.15544041450777202, 0.15544041450777202, 0.15544041450777202, 0.15544041450777202, 0.15544041450777202, 0.15544041450777202, 0.15544041450777202, 0.15591144606688648, 0.15591144606688648, 0.15638247762600094, 0.15638247762600094, 0.15638247762600094, 0.15638247762600094, 0.1568535091851154, 0.1568535091851154, 0.15732454074422986, 0.15732454074422986, 0.15732454074422986, 0.15732454074422986, 0.15732454074422986, 0.15732454074422986, 0.15779557230334432, 0.15779557230334432, 0.15779557230334432, 0.15779557230334432, 0.15826660386245878, 0.15826660386245878, 0.15826660386245878, 0.15873763542157324, 0.15873763542157324, 0.1592086669806877, 0.1592086669806877, 0.1592086669806877, 0.1592086669806877, 0.15967969853980216, 0.15967969853980216, 0.15967969853980216, 0.15967969853980216, 0.16015073009891662, 0.16015073009891662, 0.16015073009891662, 0.16015073009891662, 0.16015073009891662, 0.16015073009891662, 0.16062176165803108, 0.16062176165803108, 0.16109279321714554, 0.16109279321714554, 0.16156382477626002, 0.16156382477626002, 0.16203485633537448, 0.16203485633537448, 0.16250588789448894, 0.16250588789448894, 0.16250588789448894, 0.16250588789448894, 0.1629769194536034, 0.1629769194536034, 0.1629769194536034, 0.1629769194536034, 0.1629769194536034, 0.1629769194536034, 0.1629769194536034, 0.16344795101271786, 0.16344795101271786, 0.16391898257183232, 0.16391898257183232, 0.16439001413094678, 0.16439001413094678, 0.16486104569006124, 0.16486104569006124, 0.16486104569006124, 0.16486104569006124, 0.16486104569006124, 0.16486104569006124, 0.16486104569006124, 0.16486104569006124, 0.1653320772491757, 0.1653320772491757, 0.16580310880829016, 0.16580310880829016, 0.16580310880829016, 0.16580310880829016, 0.16627414036740462, 0.16627414036740462, 0.16627414036740462, 0.16627414036740462, 0.16627414036740462, 0.16627414036740462, 0.16627414036740462, 0.16627414036740462, 0.16627414036740462, 0.16674517192651908, 0.16674517192651908, 0.16674517192651908, 0.16674517192651908, 0.16721620348563354, 0.16721620348563354, 0.16721620348563354, 0.16721620348563354, 0.16721620348563354, 0.16721620348563354, 0.167687235044748, 0.167687235044748, 0.16815826660386246, 0.16815826660386246, 0.16815826660386246, 0.16815826660386246, 0.16815826660386246, 0.16815826660386246, 0.16862929816297692, 0.16862929816297692, 0.16910032972209138, 0.16910032972209138, 0.16957136128120584, 0.16957136128120584, 0.1700423928403203, 0.1700423928403203, 0.1700423928403203, 0.1700423928403203, 0.1700423928403203, 0.1700423928403203, 0.17051342439943476, 0.17051342439943476, 0.17098445595854922, 0.17098445595854922, 0.17145548751766368, 0.17145548751766368, 0.17192651907677814, 0.17192651907677814, 0.1723975506358926, 0.1723975506358926, 0.17286858219500706, 0.17286858219500706, 0.17333961375412152, 0.17333961375412152, 0.17381064531323598, 0.17381064531323598, 0.17428167687235044, 0.17428167687235044, 0.1747527084314649, 0.1747527084314649, 0.17522373999057936, 0.17522373999057936, 0.17522373999057936, 0.17522373999057936, 0.17522373999057936, 0.17522373999057936, 0.17569477154969382, 0.17569477154969382, 0.17616580310880828, 0.17616580310880828, 0.17663683466792274, 0.17663683466792274, 0.17757889778615168, 0.17757889778615168, 0.17757889778615168, 0.17757889778615168, 0.17757889778615168, 0.17757889778615168, 0.17757889778615168, 0.17757889778615168, 0.17804992934526614, 0.17804992934526614, 0.1785209609043806, 0.1785209609043806, 0.1785209609043806, 0.1785209609043806, 0.17899199246349506, 0.17899199246349506, 0.17899199246349506, 0.17899199246349506, 0.17899199246349506, 0.17899199246349506, 0.17946302402260952, 0.17946302402260952, 0.17946302402260952, 0.17946302402260952, 0.17993405558172398, 0.17993405558172398, 0.18040508714083844, 0.18040508714083844, 0.18040508714083844, 0.18040508714083844, 0.18040508714083844, 0.18040508714083844, 0.18040508714083844, 0.18040508714083844, 0.1808761186999529, 0.1808761186999529, 0.1808761186999529, 0.1808761186999529, 0.18134715025906736, 0.18134715025906736, 0.18181818181818182, 0.18181818181818182, 0.18228921337729628, 0.18228921337729628, 0.18228921337729628, 0.18276024493641074, 0.18276024493641074, 0.18276024493641074, 0.18276024493641074, 0.1832312764955252, 0.1832312764955252, 0.18370230805463966, 0.18370230805463966, 0.18370230805463966, 0.18370230805463966, 0.18370230805463966, 0.18370230805463966, 0.18417333961375412, 0.18417333961375412, 0.18464437117286858, 0.18464437117286858, 0.18511540273198304, 0.18511540273198304, 0.18511540273198304, 0.18511540273198304, 0.1855864342910975, 0.1855864342910975, 0.1855864342910975, 0.1855864342910975, 0.18605746585021196, 0.18605746585021196, 0.18605746585021196, 0.18605746585021196, 0.18652849740932642, 0.18652849740932642, 0.18652849740932642, 0.18652849740932642, 0.18652849740932642, 0.18652849740932642, 0.18699952896844088, 0.18699952896844088, 0.18747056052755534, 0.18747056052755534, 0.18747056052755534, 0.18747056052755534, 0.18747056052755534, 0.18747056052755534, 0.1879415920866698, 0.1879415920866698, 0.1879415920866698, 0.1879415920866698, 0.18841262364578426, 0.18841262364578426, 0.18888365520489872, 0.18888365520489872, 0.18935468676401318, 0.18935468676401318, 0.18982571832312764, 0.18982571832312764, 0.18982571832312764, 0.18982571832312764, 0.18982571832312764, 0.18982571832312764, 0.1902967498822421, 0.19076778144135656, 0.19076778144135656, 0.19123881300047102, 0.19123881300047102, 0.19123881300047102, 0.19123881300047102, 0.19170984455958548, 0.19170984455958548, 0.19170984455958548, 0.19170984455958548, 0.19218087611869994, 0.19218087611869994, 0.19265190767781443, 0.19265190767781443, 0.1931229392369289, 0.1931229392369289, 0.19359397079604335, 0.19359397079604335, 0.1940650023551578, 0.1940650023551578, 0.1940650023551578, 0.1940650023551578, 0.19453603391427227, 0.19453603391427227, 0.19500706547338673, 0.19500706547338673, 0.19500706547338673, 0.19500706547338673, 0.19547809703250119, 0.19547809703250119, 0.19547809703250119, 0.19547809703250119, 0.1964201601507301, 0.1964201601507301, 0.19689119170984457, 0.19689119170984457, 0.19736222326895903, 0.19736222326895903, 0.19783325482807348, 0.19783325482807348, 0.19830428638718794, 0.19830428638718794, 0.19830428638718794, 0.19830428638718794, 0.1987753179463024, 0.1987753179463024, 0.1987753179463024, 0.1987753179463024, 0.19924634950541686, 0.19924634950541686, 0.19924634950541686, 0.19924634950541686, 0.19971738106453132, 0.19971738106453132, 0.20018841262364578, 0.20018841262364578, 0.20018841262364578, 0.20018841262364578, 0.20065944418276024, 0.20065944418276024, 0.2011304757418747, 0.2011304757418747, 0.2011304757418747, 0.2011304757418747, 0.20160150730098916, 0.20160150730098916, 0.20207253886010362, 0.20207253886010362, 0.20207253886010362, 0.20207253886010362, 0.20254357041921808, 0.20254357041921808, 0.20254357041921808, 0.20254357041921808, 0.20254357041921808, 0.20254357041921808, 0.20301460197833254, 0.20301460197833254, 0.203485633537447, 0.203485633537447, 0.20395666509656146, 0.20395666509656146, 0.20442769665567592, 0.20442769665567592, 0.20489872821479038, 0.20489872821479038, 0.20536975977390484, 0.20536975977390484, 0.20631182289213376, 0.20631182289213376, 0.20678285445124822, 0.20678285445124822, 0.20725388601036268, 0.20725388601036268, 0.20772491756947717, 0.20772491756947717, 0.2086669806877061, 0.2086669806877061, 0.20913801224682055, 0.20913801224682055, 0.209609043805935, 0.209609043805935, 0.209609043805935, 0.209609043805935, 0.209609043805935, 0.209609043805935, 0.21008007536504947, 0.21008007536504947, 0.21008007536504947, 0.21055110692416393, 0.21055110692416393, 0.21149317004239285, 0.21149317004239285, 0.2119642016015073, 0.2119642016015073, 0.21243523316062177, 0.21243523316062177, 0.21290626471973623, 0.21290626471973623, 0.2133772962788507, 0.2133772962788507, 0.21384832783796515, 0.21384832783796515, 0.21384832783796515, 0.21384832783796515, 0.21384832783796515, 0.21384832783796515, 0.2143193593970796, 0.2143193593970796, 0.21479039095619407, 0.21479039095619407, 0.21573245407442299, 0.21573245407442299, 0.21620348563353745, 0.21620348563353745, 0.21620348563353745, 0.21620348563353745, 0.21620348563353745, 0.21620348563353745, 0.2166745171926519, 0.2166745171926519, 0.2166745171926519, 0.2166745171926519, 0.21714554875176637, 0.21714554875176637, 0.21714554875176637, 0.21714554875176637, 0.21761658031088082, 0.21761658031088082, 0.21808761186999528, 0.21808761186999528, 0.21855864342910974, 0.21855864342910974, 0.21855864342910974, 0.21855864342910974, 0.2190296749882242, 0.2190296749882242, 0.2190296749882242, 0.2190296749882242, 0.21950070654733866, 0.21950070654733866, 0.21950070654733866, 0.21950070654733866, 0.21950070654733866, 0.21950070654733866, 0.21997173810645312, 0.21997173810645312, 0.22091380122468204, 0.22091380122468204, 0.2213848327837965, 0.2213848327837965, 0.22185586434291096, 0.22185586434291096, 0.22232689590202542, 0.22232689590202542, 0.22279792746113988, 0.22279792746113988, 0.22326895902025437, 0.22326895902025437, 0.22373999057936883, 0.22373999057936883, 0.22373999057936883, 0.22373999057936883, 0.22373999057936883, 0.22373999057936883, 0.22373999057936883, 0.22373999057936883, 0.22373999057936883, 0.22373999057936883, 0.2242110221384833, 0.2242110221384833, 0.22468205369759775, 0.22468205369759775, 0.22468205369759775, 0.22468205369759775, 0.2251530852567122, 0.2251530852567122, 0.22562411681582667, 0.22562411681582667, 0.22609514837494113, 0.22609514837494113, 0.22609514837494113, 0.22609514837494113, 0.22703721149317005, 0.22703721149317005, 0.2275082430522845, 0.2275082430522845, 0.2275082430522845, 0.2275082430522845, 0.22797927461139897, 0.22797927461139897, 0.22797927461139897, 0.22797927461139897, 0.22845030617051343, 0.22845030617051343, 0.2289213377296279, 0.2289213377296279, 0.22939236928874235, 0.22939236928874235, 0.2298634008478568, 0.2298634008478568, 0.23033443240697127, 0.23033443240697127, 0.23033443240697127, 0.23033443240697127, 0.23033443240697127, 0.23033443240697127, 0.23033443240697127, 0.23033443240697127, 0.23033443240697127, 0.23033443240697127, 0.23033443240697127, 0.23033443240697127, 0.23080546396608573, 0.23080546396608573, 0.2312764955252002, 0.2312764955252002, 0.23174752708431465, 0.23174752708431465, 0.2322185586434291, 0.2322185586434291, 0.23268959020254357, 0.23268959020254357, 0.23316062176165803, 0.23316062176165803, 0.23316062176165803, 0.2336316533207725, 0.2336316533207725, 0.23410268487988695, 0.23410268487988695, 0.2345737164390014, 0.2345737164390014, 0.2345737164390014, 0.2345737164390014, 0.2345737164390014, 0.2345737164390014, 0.23504474799811587, 0.23504474799811587, 0.23551577955723033, 0.23551577955723033, 0.23551577955723033, 0.23551577955723033, 0.23598681111634479, 0.23598681111634479, 0.23645784267545925, 0.23645784267545925, 0.2369288742345737, 0.2369288742345737, 0.2369288742345737, 0.2369288742345737, 0.2369288742345737, 0.2369288742345737, 0.2369288742345737, 0.2369288742345737, 0.2369288742345737, 0.2369288742345737, 0.23739990579368817, 0.23739990579368817, 0.23739990579368817, 0.23739990579368817, 0.23787093735280262, 0.23787093735280262, 0.23834196891191708, 0.23834196891191708, 0.23834196891191708, 0.23834196891191708, 0.23834196891191708, 0.23834196891191708, 0.23834196891191708, 0.23834196891191708, 0.23834196891191708, 0.23834196891191708, 0.23881300047103157, 0.23881300047103157, 0.23928403203014603, 0.23928403203014603, 0.2397550635892605, 0.2397550635892605, 0.24022609514837495, 0.24022609514837495, 0.2406971267074894, 0.2406971267074894, 0.24116815826660387, 0.24116815826660387, 0.24163918982571833, 0.24163918982571833, 0.2421102213848328, 0.2421102213848328, 0.24258125294394725, 0.24258125294394725, 0.2430522845030617, 0.2430522845030617, 0.2430522845030617, 0.2430522845030617, 0.2430522845030617, 0.2430522845030617, 0.24352331606217617, 0.24352331606217617, 0.24399434762129063, 0.24399434762129063, 0.24399434762129063, 0.24399434762129063, 0.2444653791804051, 0.2444653791804051, 0.24493641073951955, 0.24493641073951955, 0.245407442298634, 0.245407442298634, 0.24587847385774847, 0.24587847385774847, 0.24587847385774847, 0.24634950541686293, 0.24634950541686293, 0.24729156853509185, 0.24729156853509185, 0.24870466321243523, 0.24870466321243523, 0.2491756947715497, 0.2491756947715497, 0.24964672633066415, 0.24964672633066415, 0.24964672633066415, 0.24964672633066415, 0.25011775788977864, 0.25011775788977864, 0.25058878944889307, 0.25058878944889307, 0.25058878944889307, 0.25058878944889307, 0.25105982100800756, 0.25105982100800756, 0.251530852567122, 0.251530852567122, 0.251530852567122, 0.251530852567122, 0.2520018841262365, 0.2520018841262365, 0.2520018841262365, 0.2524729156853509, 0.2524729156853509, 0.2529439472444654, 0.2529439472444654, 0.2534149788035798, 0.2534149788035798, 0.2538860103626943, 0.2538860103626943, 0.25435704192180875, 0.25435704192180875, 0.25482807348092323, 0.25482807348092323, 0.25482807348092323, 0.25482807348092323, 0.25529910504003767, 0.25529910504003767, 0.25577013659915215, 0.25577013659915215, 0.25577013659915215, 0.25577013659915215, 0.25577013659915215, 0.25577013659915215, 0.2562411681582666, 0.2562411681582666, 0.2562411681582666, 0.2562411681582666, 0.2567121997173811, 0.2567121997173811, 0.2571832312764955, 0.2571832312764955, 0.25765426283561, 0.25765426283561, 0.2581252943947244, 0.2581252943947244, 0.2585963259538389, 0.2585963259538389, 0.25906735751295334, 0.25906735751295334, 0.25953838907206783, 0.25953838907206783, 0.26000942063118226, 0.26000942063118226, 0.26048045219029675, 0.26048045219029675, 0.2609514837494112, 0.2609514837494112, 0.2609514837494112, 0.2609514837494112, 0.26142251530852567, 0.26142251530852567, 0.26142251530852567, 0.26142251530852567, 0.26189354686764016, 0.26189354686764016, 0.2623645784267546, 0.2623645784267546, 0.2633066415449835, 0.2633066415449835, 0.2633066415449835, 0.2633066415449835, 0.263777673104098, 0.263777673104098, 0.263777673104098, 0.263777673104098, 0.26424870466321243, 0.26424870466321243, 0.26424870466321243, 0.26424870466321243, 0.2647197362223269, 0.2647197362223269, 0.26519076778144135, 0.26519076778144135, 0.26566179934055584, 0.26566179934055584, 0.26566179934055584, 0.26566179934055584, 0.26613283089967027, 0.26613283089967027, 0.2670748940178992, 0.2670748940178992, 0.2670748940178992, 0.2670748940178992, 0.2670748940178992, 0.2670748940178992, 0.2675459255770137, 0.2675459255770137, 0.2675459255770137, 0.2675459255770137, 0.2675459255770137, 0.2675459255770137, 0.2680169571361281, 0.2680169571361281, 0.2680169571361281, 0.2680169571361281, 0.2684879886952426, 0.2684879886952426, 0.2694300518134715, 0.2694300518134715, 0.26990108337258595, 0.26990108337258595, 0.27037211493170044, 0.27037211493170044, 0.27084314649081487, 0.27084314649081487, 0.27131417804992936, 0.27131417804992936, 0.27131417804992936, 0.27131417804992936, 0.2717852096090438, 0.2717852096090438, 0.2722562411681583, 0.2722562411681583, 0.2722562411681583, 0.2722562411681583, 0.2727272727272727, 0.2727272727272727, 0.2731983042863872, 0.2731983042863872, 0.2731983042863872, 0.2731983042863872, 0.2731983042863872, 0.2731983042863872, 0.2731983042863872, 0.2731983042863872, 0.2731983042863872, 0.2731983042863872, 0.2736693358455016, 0.2736693358455016, 0.27461139896373055, 0.27461139896373055, 0.27508243052284503, 0.27508243052284503, 0.27508243052284503, 0.27508243052284503, 0.27555346208195947, 0.27555346208195947, 0.2764955252001884, 0.2764955252001884, 0.2769665567593029, 0.2769665567593029, 0.27743758831841736, 0.27743758831841736, 0.2783796514366463, 0.2783796514366463, 0.2788506829957607, 0.2788506829957607, 0.2788506829957607, 0.2788506829957607, 0.2793217145548752, 0.2793217145548752, 0.27979274611398963, 0.27979274611398963, 0.27979274611398963, 0.27979274611398963, 0.2802637776731041, 0.2802637776731041, 0.28073480923221855, 0.28073480923221855, 0.28120584079133304, 0.28120584079133304, 0.28167687235044747, 0.28167687235044747, 0.28214790390956196, 0.28214790390956196, 0.2826189354686764, 0.2826189354686764, 0.2826189354686764, 0.2826189354686764, 0.2830899670277909, 0.2830899670277909, 0.2830899670277909, 0.2830899670277909, 0.2835609985869053, 0.2835609985869053, 0.2835609985869053, 0.2835609985869053, 0.28450306170513423, 0.28450306170513423, 0.28544512482336315, 0.28544512482336315, 0.28591615638247764, 0.28591615638247764, 0.28591615638247764, 0.28591615638247764, 0.28638718794159207, 0.28638718794159207, 0.28685821950070656, 0.28685821950070656, 0.287329251059821, 0.287329251059821, 0.2878002826189355, 0.2878002826189355, 0.2882713141780499, 0.2882713141780499, 0.2887423457371644, 0.2887423457371644, 0.28921337729627883, 0.28921337729627883, 0.2896844088553933, 0.2896844088553933, 0.29015544041450775, 0.29015544041450775, 0.29015544041450775, 0.29015544041450775, 0.29062647197362224, 0.29062647197362224, 0.29062647197362224, 0.29062647197362224, 0.29109750353273667, 0.29109750353273667, 0.29156853509185116, 0.29156853509185116, 0.2920395666509656, 0.2920395666509656, 0.2920395666509656, 0.2920395666509656, 0.2925105982100801, 0.2925105982100801, 0.29298162976919456, 0.29298162976919456, 0.293452661328309, 0.293452661328309, 0.2943947244465379, 0.2943947244465379, 0.2943947244465379, 0.2943947244465379, 0.2948657560056524, 0.2948657560056524, 0.2948657560056524, 0.2948657560056524, 0.29533678756476683, 0.29533678756476683, 0.29533678756476683, 0.2958078191238813, 0.2958078191238813, 0.2958078191238813, 0.29627885068299575, 0.29627885068299575, 0.29627885068299575, 0.29627885068299575, 0.29674988224211024, 0.29674988224211024, 0.2972209138012247, 0.2972209138012247, 0.2972209138012247, 0.2972209138012247, 0.29769194536033916, 0.29769194536033916, 0.2981629769194536, 0.2981629769194536, 0.2986340084785681, 0.2986340084785681, 0.2986340084785681, 0.2986340084785681, 0.2986340084785681, 0.2991050400376825, 0.2991050400376825, 0.299576071596797, 0.299576071596797, 0.30004710315591143, 0.30004710315591143, 0.30004710315591143, 0.30004710315591143, 0.3005181347150259, 0.3005181347150259, 0.3005181347150259, 0.3005181347150259, 0.30098916627414035, 0.30098916627414035, 0.30193122939236927, 0.30193122939236927, 0.30240226095148376, 0.30240226095148376, 0.3028732925105982, 0.3028732925105982, 0.3033443240697127, 0.3033443240697127, 0.3038153556288271, 0.3038153556288271, 0.3042863871879416, 0.3042863871879416, 0.30475741874705603, 0.30475741874705603, 0.3052284503061705, 0.3052284503061705, 0.30569948186528495, 0.30569948186528495, 0.30617051342439944, 0.30617051342439944, 0.30664154498351387, 0.30664154498351387, 0.30711257654262836, 0.30711257654262836, 0.3075836081017428, 0.3075836081017428, 0.3075836081017428, 0.3075836081017428, 0.3080546396608573, 0.3080546396608573, 0.30852567121997176, 0.30852567121997176, 0.3089967027790862, 0.3089967027790862, 0.3089967027790862, 0.3089967027790862, 0.3089967027790862, 0.3089967027790862, 0.3089967027790862, 0.3089967027790862, 0.3089967027790862, 0.3089967027790862, 0.3089967027790862, 0.3089967027790862, 0.3094677343382007, 0.3094677343382007, 0.3104097974564296, 0.3104097974564296, 0.31088082901554404, 0.31088082901554404, 0.31088082901554404, 0.31088082901554404, 0.31088082901554404, 0.31088082901554404, 0.31088082901554404, 0.31088082901554404, 0.3113518605746585, 0.3113518605746585, 0.3113518605746585, 0.3113518605746585, 0.3113518605746585, 0.3113518605746585, 0.3113518605746585, 0.3113518605746585, 0.31182289213377296, 0.31182289213377296, 0.31229392369288744, 0.31229392369288744, 0.3127649552520019, 0.3127649552520019, 0.31323598681111636, 0.31323598681111636, 0.3137070183702308, 0.3137070183702308, 0.3141780499293453, 0.3141780499293453, 0.3141780499293453, 0.3141780499293453, 0.3146490814884597, 0.3146490814884597, 0.3151201130475742, 0.3151201130475742, 0.31559114460668863, 0.31559114460668863, 0.3160621761658031, 0.3160621761658031, 0.31653320772491755, 0.31653320772491755, 0.3174752708431465, 0.3174752708431465, 0.31794630240226096, 0.31794630240226096, 0.3184173339613754, 0.3184173339613754, 0.3184173339613754, 0.3184173339613754, 0.3184173339613754, 0.3188883655204899, 0.3188883655204899, 0.3188883655204899, 0.3188883655204899, 0.3193593970796043, 0.3193593970796043, 0.3193593970796043, 0.3193593970796043, 0.3198304286387188, 0.3198304286387188, 0.32030146019783323, 0.32030146019783323, 0.3207724917569477, 0.3207724917569477, 0.32124352331606215, 0.32124352331606215, 0.32124352331606215, 0.32171455487517664, 0.32171455487517664, 0.32218558643429107, 0.32218558643429107, 0.32265661799340556, 0.32265661799340556, 0.32312764955252005, 0.32312764955252005, 0.3235986811116345, 0.3235986811116345, 0.32406971267074897, 0.32406971267074897, 0.3245407442298634, 0.3245407442298634, 0.3245407442298634, 0.3245407442298634, 0.3250117757889779, 0.3250117757889779, 0.3254828073480923, 0.3254828073480923, 0.3254828073480923, 0.3254828073480923, 0.3259538389072068, 0.3259538389072068, 0.3259538389072068, 0.3259538389072068, 0.3259538389072068, 0.32642487046632124, 0.32642487046632124, 0.32783796514366464, 0.32783796514366464, 0.32783796514366464, 0.32783796514366464, 0.3283089967027791, 0.3283089967027791, 0.32878002826189356, 0.32878002826189356, 0.32878002826189356, 0.32878002826189356, 0.329251059821008, 0.329251059821008, 0.3297220913801225, 0.3297220913801225, 0.3301931229392369, 0.3301931229392369, 0.3306641544983514, 0.3306641544983514, 0.33113518605746584, 0.33113518605746584, 0.3316062176165803, 0.3316062176165803, 0.33207724917569476, 0.33207724917569476, 0.33207724917569476, 0.33207724917569476, 0.33254828073480924, 0.33254828073480924, 0.3330193122939237, 0.3330193122939237, 0.33349034385303816, 0.33349034385303816, 0.3339613754121526, 0.3339613754121526, 0.3339613754121526, 0.3339613754121526, 0.3339613754121526, 0.3339613754121526, 0.3339613754121526, 0.3339613754121526, 0.3344324069712671, 0.3344324069712671, 0.3349034385303815, 0.3349034385303815, 0.335374470089496, 0.335374470089496, 0.33584550164861043, 0.33584550164861043, 0.3363165332077249, 0.3363165332077249, 0.33678756476683935, 0.33678756476683935, 0.33678756476683935, 0.33678756476683935, 0.33678756476683935, 0.33678756476683935, 0.33725859632595384, 0.33725859632595384, 0.3377296278850683, 0.3377296278850683, 0.33820065944418276, 0.33820065944418276, 0.33867169100329725, 0.33867169100329725, 0.3391427225624117, 0.3391427225624117, 0.33961375412152617, 0.33961375412152617, 0.33961375412152617, 0.33961375412152617, 0.3400847856806406, 0.3400847856806406, 0.3405558172397551, 0.3405558172397551, 0.3405558172397551, 0.3405558172397551, 0.3410268487988695, 0.3410268487988695, 0.341497880357984, 0.341497880357984, 0.3424399434762129, 0.3424399434762129, 0.34291097503532736, 0.34291097503532736, 0.34338200659444185, 0.34338200659444185, 0.3438530381535563, 0.3438530381535563, 0.3438530381535563, 0.3438530381535563, 0.34432406971267077, 0.34432406971267077, 0.3447951012717852, 0.3447951012717852, 0.3452661328308997, 0.3452661328308997, 0.3452661328308997, 0.3452661328308997, 0.3457371643900141, 0.3457371643900141, 0.3462081959491286, 0.3462081959491286, 0.3462081959491286, 0.3462081959491286, 0.34667922750824304, 0.34667922750824304, 0.34667922750824304, 0.34667922750824304, 0.3471502590673575, 0.3471502590673575, 0.3471502590673575, 0.3471502590673575, 0.3471502590673575, 0.3471502590673575, 0.34762129062647196, 0.34762129062647196, 0.34809232218558644, 0.34809232218558644, 0.34903438530381536, 0.34903438530381536, 0.3495054168629298, 0.3495054168629298, 0.3499764484220443, 0.3499764484220443, 0.3504474799811587, 0.3504474799811587, 0.3504474799811587, 0.3504474799811587, 0.3509185115402732, 0.3509185115402732, 0.35138954309938764, 0.35138954309938764, 0.3518605746585021, 0.3518605746585021, 0.3518605746585021, 0.3518605746585021, 0.35233160621761656, 0.35233160621761656, 0.35280263777673104, 0.35280263777673104, 0.3532736693358455, 0.3532736693358455, 0.35374470089495996, 0.35374470089495996, 0.35421573245407445, 0.35421573245407445, 0.35421573245407445, 0.35421573245407445, 0.35421573245407445, 0.35421573245407445, 0.35421573245407445, 0.3546867640131889, 0.3546867640131889, 0.35515779557230337, 0.35515779557230337, 0.3556288271314178, 0.3556288271314178, 0.3560998586905323, 0.3560998586905323, 0.3570419218087612, 0.3570419218087612, 0.35751295336787564, 0.35751295336787564, 0.35798398492699013, 0.35798398492699013, 0.35845501648610456, 0.35845501648610456, 0.35845501648610456, 0.35845501648610456, 0.35845501648610456, 0.35845501648610456, 0.35892604804521905, 0.35892604804521905, 0.3593970796043335, 0.3593970796043335, 0.35986811116344797, 0.35986811116344797, 0.35986811116344797, 0.35986811116344797, 0.35986811116344797, 0.35986811116344797, 0.3603391427225624, 0.3603391427225624, 0.3608101742816769, 0.3608101742816769, 0.3612812058407913, 0.3612812058407913, 0.3617522373999058, 0.3617522373999058, 0.36222326895902024, 0.36222326895902024, 0.3626943005181347, 0.3626943005181347, 0.36316533207724916, 0.36316533207724916, 0.36363636363636365, 0.36363636363636365, 0.3641073951954781, 0.3641073951954781, 0.3641073951954781, 0.3641073951954781, 0.36457842675459257, 0.36457842675459257, 0.365049458313707, 0.365049458313707, 0.365049458313707, 0.365049458313707, 0.3655204898728215, 0.3655204898728215, 0.3655204898728215, 0.3655204898728215, 0.3659915214319359, 0.3659915214319359, 0.3664625529910504, 0.3664625529910504, 0.36693358455016484, 0.36693358455016484, 0.3674046161092793, 0.3674046161092793, 0.36834667922750824, 0.36834667922750824, 0.3688177107866227, 0.3688177107866227, 0.36928874234573716, 0.36928874234573716, 0.36975977390485165, 0.36975977390485165, 0.3702308054639661, 0.3702308054639661, 0.37070183702308057, 0.37070183702308057, 0.371172868582195, 0.371172868582195, 0.3716439001413095, 0.3716439001413095, 0.3721149317004239, 0.3721149317004239, 0.3725859632595384, 0.3725859632595384, 0.3725859632595384, 0.3725859632595384, 0.3725859632595384, 0.3725859632595384, 0.37305699481865284, 0.37305699481865284, 0.37352802637776733, 0.37352802637776733, 0.37352802637776733, 0.37352802637776733, 0.37352802637776733, 0.37352802637776733, 0.37352802637776733, 0.37352802637776733, 0.37399905793688176, 0.37399905793688176, 0.37399905793688176, 0.37399905793688176, 0.37399905793688176, 0.37399905793688176, 0.37447008949599625, 0.37447008949599625, 0.3749411210551107, 0.3749411210551107, 0.3749411210551107, 0.3749411210551107, 0.37541215261422517, 0.37541215261422517, 0.37541215261422517, 0.37541215261422517, 0.37541215261422517, 0.37541215261422517, 0.3758831841733396, 0.3758831841733396, 0.3763542157324541, 0.3763542157324541, 0.3768252472915685, 0.3768252472915685, 0.377296278850683, 0.377296278850683, 0.37776731040979744, 0.37776731040979744, 0.37823834196891193, 0.37823834196891193, 0.37870937352802636, 0.37870937352802636, 0.37870937352802636, 0.37870937352802636, 0.37870937352802636, 0.37870937352802636, 0.37918040508714085, 0.37918040508714085, 0.3796514366462553, 0.3796514366462553, 0.38012246820536977, 0.38012246820536977, 0.3805934997644842, 0.3805934997644842, 0.3810645313235987, 0.3810645313235987, 0.3815355628827131, 0.3815355628827131, 0.3820065944418276, 0.3820065944418276, 0.38247762600094204, 0.38247762600094204, 0.3829486575600565, 0.3829486575600565, 0.38341968911917096, 0.38341968911917096, 0.38389072067828545, 0.38389072067828545, 0.3843617522373999, 0.3843617522373999, 0.3843617522373999, 0.3843617522373999, 0.38483278379651437, 0.38483278379651437, 0.38530381535562885, 0.38530381535562885, 0.38530381535562885, 0.38530381535562885, 0.3862458784738578, 0.3862458784738578, 0.3867169100329722, 0.3867169100329722, 0.3867169100329722, 0.3867169100329722, 0.3871879415920867, 0.3871879415920867, 0.3876589731512011, 0.3876589731512011, 0.3876589731512011, 0.3876589731512011, 0.3876589731512011, 0.3876589731512011, 0.3881300047103156, 0.3881300047103156, 0.38860103626943004, 0.38860103626943004, 0.38860103626943004, 0.38860103626943004, 0.38860103626943004, 0.38860103626943004, 0.38907206782854453, 0.38907206782854453, 0.38954309938765896, 0.38954309938765896, 0.38954309938765896, 0.38954309938765896, 0.39001413094677345, 0.39001413094677345, 0.3904851625058879, 0.3904851625058879, 0.39095619406500237, 0.39095619406500237, 0.3914272256241168, 0.3914272256241168, 0.3918982571832313, 0.3918982571832313, 0.3923692887423457, 0.3923692887423457, 0.3928403203014602, 0.3928403203014602, 0.39331135186057464, 0.39331135186057464, 0.39378238341968913, 0.39378238341968913, 0.39425341497880356, 0.39425341497880356, 0.39472444653791805, 0.39472444653791805, 0.3951954780970325, 0.3951954780970325, 0.3951954780970325, 0.3951954780970325, 0.3961375412152614, 0.3961375412152614, 0.3961375412152614, 0.3966085727743759, 0.3966085727743759, 0.3970796043334903, 0.3970796043334903, 0.3975506358926048, 0.3975506358926048, 0.3975506358926048, 0.39802166745171924, 0.39802166745171924, 0.39849269901083373, 0.39849269901083373, 0.39943476212906265, 0.39943476212906265, 0.39943476212906265, 0.39943476212906265, 0.3999057936881771, 0.3999057936881771, 0.40037682524729157, 0.40037682524729157, 0.40084785680640606, 0.40084785680640606, 0.4013188883655205, 0.4013188883655205, 0.401789919924635, 0.401789919924635, 0.4022609514837494, 0.4022609514837494, 0.4027319830428639, 0.4027319830428639, 0.4032030146019783, 0.4032030146019783, 0.40414507772020725, 0.40414507772020725, 0.40461610927932173, 0.40461610927932173, 0.40508714083843617, 0.40508714083843617, 0.40555817239755065, 0.40555817239755065, 0.4060292039566651, 0.4060292039566651, 0.4060292039566651, 0.4060292039566651, 0.4065002355157796, 0.4065002355157796, 0.406971267074894, 0.406971267074894, 0.406971267074894, 0.406971267074894, 0.4074422986340085, 0.4074422986340085, 0.4079133301931229, 0.4079133301931229, 0.4083843617522374, 0.4083843617522374, 0.40932642487046633, 0.40932642487046633, 0.40979745642958076, 0.40979745642958076, 0.41026848798869525, 0.41026848798869525, 0.4107395195478097, 0.4107395195478097, 0.41121055110692417, 0.41121055110692417, 0.4116815826660386, 0.4116815826660386, 0.4121526142251531, 0.4121526142251531, 0.4126236457842675, 0.4126236457842675, 0.413094677343382, 0.413094677343382, 0.413094677343382, 0.413094677343382, 0.41450777202072536, 0.41450777202072536, 0.41497880357983985, 0.41497880357983985, 0.41544983513895434, 0.41544983513895434, 0.41592086669806877, 0.41592086669806877, 0.41639189825718326, 0.41639189825718326, 0.4168629298162977, 0.4168629298162977, 0.4173339613754122, 0.4173339613754122, 0.4182760244936411, 0.4182760244936411, 0.41874705605275553, 0.41874705605275553, 0.41921808761187, 0.41921808761187, 0.41968911917098445, 0.41968911917098445, 0.42016015073009894, 0.42016015073009894, 0.42063118228921337, 0.42063118228921337, 0.42063118228921337, 0.42063118228921337, 0.42063118228921337, 0.42063118228921337, 0.42110221384832786, 0.42110221384832786, 0.42110221384832786, 0.42110221384832786, 0.4215732454074423, 0.4215732454074423, 0.4220442769665568, 0.4220442769665568, 0.4229863400847857, 0.4229863400847857, 0.4229863400847857, 0.4229863400847857, 0.4234573716439001, 0.4234573716439001, 0.4239284032030146, 0.4239284032030146, 0.4239284032030146, 0.4239284032030146, 0.4239284032030146, 0.42439943476212905, 0.42439943476212905, 0.42487046632124353, 0.42487046632124353, 0.42534149788035797, 0.42534149788035797, 0.42581252943947245, 0.42581252943947245, 0.4262835609985869, 0.4262835609985869, 0.4262835609985869, 0.4262835609985869, 0.4267545925577014, 0.4267545925577014, 0.4272256241168158, 0.4272256241168158, 0.4276966556759303, 0.4276966556759303, 0.4281676872350447, 0.4281676872350447, 0.4286387187941592, 0.4286387187941592, 0.42910975035327364, 0.42910975035327364, 0.42958078191238813, 0.42958078191238813, 0.43005181347150256, 0.43005181347150256, 0.43052284503061705, 0.43052284503061705, 0.43099387658973154, 0.43099387658973154, 0.43099387658973154, 0.43099387658973154, 0.43146490814884597, 0.43146490814884597, 0.4324069712670749, 0.4324069712670749, 0.4324069712670749, 0.4324069712670749, 0.4328780028261894, 0.4328780028261894, 0.4333490343853038, 0.4333490343853038, 0.4338200659444183, 0.4338200659444183, 0.43429109750353273, 0.43429109750353273, 0.4347621290626472, 0.4347621290626472, 0.4347621290626472, 0.4347621290626472, 0.43523316062176165, 0.43523316062176165, 0.43570419218087614, 0.43570419218087614, 0.43617522373999057, 0.43617522373999057, 0.43664625529910506, 0.43664625529910506, 0.4371172868582195, 0.4371172868582195, 0.4371172868582195, 0.4371172868582195, 0.437588318417334, 0.437588318417334, 0.4380593499764484, 0.4380593499764484, 0.4385303815355629, 0.4385303815355629, 0.43900141309467733, 0.43900141309467733, 0.4394724446537918, 0.4394724446537918, 0.43994347621290625, 0.43994347621290625, 0.44041450777202074, 0.44041450777202074, 0.44088553933113517, 0.44088553933113517, 0.44135657089024966, 0.44135657089024966, 0.44135657089024966, 0.44135657089024966, 0.44135657089024966, 0.44135657089024966, 0.4418276024493641, 0.4418276024493641, 0.442769665567593, 0.442769665567593, 0.4432406971267075, 0.4432406971267075, 0.4437117286858219, 0.4437117286858219, 0.4441827602449364, 0.4441827602449364, 0.4441827602449364, 0.4441827602449364, 0.44465379180405085, 0.44465379180405085, 0.44512482336316533, 0.44512482336316533, 0.44559585492227977, 0.44559585492227977, 0.44606688648139425, 0.44606688648139425, 0.44653791804050874, 0.44653791804050874, 0.4470089495996232, 0.4470089495996232, 0.44747998115873766, 0.44747998115873766, 0.4479510127178521, 0.4479510127178521, 0.4484220442769666, 0.4484220442769666, 0.448893075836081, 0.448893075836081, 0.4493641073951955, 0.4493641073951955, 0.4493641073951955, 0.4493641073951955, 0.4493641073951955, 0.4493641073951955, 0.4503061705134244, 0.4503061705134244, 0.45077720207253885, 0.45077720207253885, 0.45077720207253885, 0.45077720207253885, 0.45077720207253885, 0.45077720207253885, 0.45124823363165334, 0.45124823363165334, 0.45219029674988226, 0.45219029674988226, 0.4526613283089967, 0.4526613283089967, 0.4536033914272256, 0.4536033914272256, 0.4540744229863401, 0.4540744229863401, 0.4540744229863401, 0.4540744229863401, 0.45454545454545453, 0.45454545454545453, 0.455016486104569, 0.455016486104569, 0.45548751766368345, 0.45548751766368345, 0.45595854922279794, 0.45690061234102686, 0.45690061234102686, 0.4573716439001413, 0.4573716439001413, 0.4578426754592558, 0.4578426754592558, 0.4578426754592558, 0.4578426754592558, 0.4578426754592558, 0.4578426754592558, 0.4578426754592558, 0.4583137070183702, 0.4583137070183702, 0.4587847385774847, 0.4587847385774847, 0.45925577013659913, 0.45925577013659913, 0.4597268016957136, 0.4597268016957136, 0.46019783325482805, 0.46019783325482805, 0.46066886481394254, 0.46066886481394254, 0.46113989637305697, 0.46113989637305697, 0.46161092793217146, 0.46161092793217146, 0.46208195949128594, 0.46208195949128594, 0.4625529910504004, 0.4625529910504004, 0.46302402260951486, 0.46302402260951486, 0.4634950541686293, 0.4634950541686293, 0.4639660857277438, 0.4639660857277438, 0.4644371172868582, 0.4644371172868582, 0.4644371172868582, 0.4649081488459727, 0.4649081488459727, 0.4658502119642016, 0.4658502119642016, 0.46632124352331605, 0.46632124352331605, 0.46679227508243054, 0.46679227508243054, 0.467263306641545, 0.467263306641545, 0.467263306641545, 0.46773433820065946, 0.46773433820065946, 0.4682053697597739, 0.4682053697597739, 0.4691474328780028, 0.4691474328780028, 0.4696184644371173, 0.4696184644371173, 0.4696184644371173, 0.4696184644371173, 0.47008949599623173, 0.47008949599623173, 0.4705605275553462, 0.4705605275553462, 0.47103155911446065, 0.47103155911446065, 0.47197362223268957, 0.47197362223268957, 0.47244465379180406, 0.47244465379180406, 0.4729156853509185, 0.4729156853509185, 0.4729156853509185, 0.4729156853509185, 0.473386716910033, 0.473386716910033, 0.4738577484691474, 0.4738577484691474, 0.4743287800282619, 0.4743287800282619, 0.4743287800282619, 0.4743287800282619, 0.47479981158737633, 0.47479981158737633, 0.4752708431464908, 0.4752708431464908, 0.47574187470560525, 0.47574187470560525, 0.47621290626471974, 0.47621290626471974, 0.47621290626471974, 0.47621290626471974, 0.47715496938294866, 0.47715496938294866, 0.47762600094206314, 0.47762600094206314, 0.4780970325011776, 0.4780970325011776, 0.4780970325011776, 0.4780970325011776, 0.47856806406029206, 0.47856806406029206, 0.47856806406029206, 0.47856806406029206, 0.47856806406029206, 0.47856806406029206, 0.47856806406029206, 0.47856806406029206, 0.47856806406029206, 0.47856806406029206, 0.4790390956194065, 0.4790390956194065, 0.4790390956194065, 0.4790390956194065, 0.4790390956194065, 0.4790390956194065, 0.479510127178521, 0.479510127178521, 0.4799811587376354, 0.4799811587376354, 0.4804521902967499, 0.4804521902967499, 0.48092322185586434, 0.48092322185586434, 0.4813942534149788, 0.4813942534149788, 0.48186528497409326, 0.48186528497409326, 0.48233631653320774, 0.48233631653320774, 0.48233631653320774, 0.48233631653320774, 0.4828073480923222, 0.4828073480923222, 0.48327837965143666, 0.48327837965143666, 0.48327837965143666, 0.48327837965143666, 0.4837494112105511, 0.4837494112105511, 0.4842204427696656, 0.4842204427696656, 0.48469147432878, 0.48469147432878, 0.4851625058878945, 0.4851625058878945, 0.48563353744700893, 0.48563353744700893, 0.4861045690061234, 0.4861045690061234, 0.48657560056523785, 0.48657560056523785, 0.48704663212435234, 0.48704663212435234, 0.48704663212435234, 0.48704663212435234, 0.4875176636834668, 0.4875176636834668, 0.48798869524258126, 0.48798869524258126, 0.4884597268016957, 0.4884597268016957, 0.4889307583608102, 0.4889307583608102, 0.4894017899199246, 0.4894017899199246, 0.4898728214790391, 0.4898728214790391, 0.4898728214790391, 0.4898728214790391, 0.4898728214790391, 0.4898728214790391, 0.4898728214790391, 0.4898728214790391, 0.4898728214790391, 0.4898728214790391, 0.49128591615638245, 0.49128591615638245, 0.49175694771549694, 0.49175694771549694, 0.49222797927461137, 0.49222797927461137, 0.49269901083372586, 0.49269901083372586, 0.49317004239284035, 0.49317004239284035, 0.4936410739519548, 0.4936410739519548, 0.4936410739519548, 0.4936410739519548, 0.49411210551106927, 0.49411210551106927, 0.49411210551106927, 0.49411210551106927, 0.4945831370701837, 0.4945831370701837, 0.4950541686292982, 0.4950541686292982, 0.4950541686292982, 0.4950541686292982, 0.4955252001884126, 0.4955252001884126, 0.4959962317475271, 0.4959962317475271, 0.49646726330664154, 0.49646726330664154, 0.496938294865756, 0.496938294865756, 0.49740932642487046, 0.49740932642487046, 0.49788035798398494, 0.49788035798398494, 0.49788035798398494, 0.4983513895430994, 0.4983513895430994, 0.4992934526613283, 0.4992934526613283, 0.4992934526613283, 0.4992934526613283, 0.4992934526613283, 0.4992934526613283, 0.4992934526613283, 0.4992934526613283, 0.4992934526613283, 0.4992934526613283, 0.4997644842204428, 0.4997644842204428, 0.5002355157795573, 0.5002355157795573, 0.5007065473386717, 0.5007065473386717, 0.5011775788977861, 0.5011775788977861, 0.5011775788977861, 0.5011775788977861, 0.5016486104569006, 0.5016486104569006, 0.5025906735751295, 0.5025906735751295, 0.503061705134244, 0.503061705134244, 0.5035327366933584, 0.5035327366933584, 0.504003768252473, 0.504003768252473, 0.5044747998115874, 0.5044747998115874, 0.5049458313707018, 0.5049458313707018, 0.5054168629298162, 0.5054168629298162, 0.5058878944889308, 0.5058878944889308, 0.5063589260480452, 0.5063589260480452, 0.5063589260480452, 0.5063589260480452, 0.5068299576071597, 0.5068299576071597, 0.5073009891662741, 0.5073009891662741, 0.5073009891662741, 0.5073009891662741, 0.5082430522845031, 0.5082430522845031, 0.5082430522845031, 0.5082430522845031, 0.5087140838436175, 0.5087140838436175, 0.509185115402732, 0.509185115402732, 0.5101271785209609, 0.5101271785209609, 0.5105982100800753, 0.5105982100800753, 0.5115402731983043, 0.5115402731983043, 0.5120113047574187, 0.5120113047574187, 0.5124823363165332, 0.5124823363165332, 0.5129533678756477, 0.5129533678756477, 0.5134243994347621, 0.5134243994347621, 0.5138954309938766, 0.5138954309938766, 0.514366462552991, 0.514366462552991, 0.514366462552991, 0.5148374941121056, 0.5148374941121056, 0.5148374941121056, 0.5148374941121056, 0.5157795572303344, 0.5157795572303344, 0.5162505887894488, 0.5162505887894488, 0.5162505887894488, 0.5162505887894488, 0.5167216203485634, 0.5167216203485634, 0.5167216203485634, 0.5167216203485634, 0.5171926519076778, 0.5171926519076778, 0.5176636834667923, 0.5176636834667923, 0.5181347150259067, 0.5181347150259067, 0.5186057465850212, 0.5186057465850212, 0.5190767781441357, 0.5190767781441357, 0.5190767781441357, 0.5195478097032501, 0.5195478097032501, 0.5200188412623645, 0.5200188412623645, 0.5200188412623645, 0.5200188412623645, 0.5204898728214791, 0.5204898728214791, 0.5209609043805935, 0.5209609043805935, 0.5214319359397079, 0.5214319359397079, 0.5219029674988224, 0.5219029674988224, 0.5223739990579369, 0.5223739990579369, 0.5233160621761658, 0.5233160621761658, 0.5237870937352803, 0.5237870937352803, 0.5242581252943948, 0.5242581252943948, 0.5247291568535092, 0.5247291568535092, 0.5252001884126236, 0.5252001884126236, 0.5256712199717382, 0.5256712199717382, 0.5261422515308526, 0.5261422515308526, 0.526613283089967, 0.526613283089967, 0.5270843146490815, 0.5270843146490815, 0.527555346208196, 0.527555346208196, 0.5280263777673104, 0.5280263777673104, 0.5284974093264249, 0.5284974093264249, 0.5289684408855393, 0.5289684408855393, 0.5294394724446538, 0.5294394724446538, 0.5299105040037683, 0.5299105040037683, 0.5303815355628827, 0.5303815355628827, 0.5303815355628827, 0.5303815355628827, 0.5308525671219971, 0.5308525671219971, 0.5313235986811117, 0.5313235986811117, 0.5317946302402261, 0.5317946302402261, 0.532736693358455, 0.532736693358455, 0.5332077249175695, 0.5332077249175695, 0.533678756476684, 0.533678756476684, 0.5341497880357984, 0.5341497880357984, 0.5346208195949128, 0.5346208195949128, 0.5350918511540274, 0.5350918511540274, 0.5355628827131418, 0.5355628827131418, 0.5360339142722562, 0.5360339142722562, 0.5369759773904852, 0.5369759773904852, 0.5374470089495996, 0.5374470089495996, 0.5379180405087141, 0.5379180405087141, 0.5379180405087141, 0.5379180405087141, 0.5383890720678285, 0.5383890720678285, 0.5393311351860575, 0.5393311351860575, 0.5398021667451719, 0.5398021667451719, 0.5402731983042864, 0.5402731983042864, 0.5407442298634009, 0.5407442298634009, 0.5412152614225153, 0.5412152614225153, 0.5416862929816297, 0.5416862929816297, 0.5421573245407443, 0.5421573245407443, 0.5421573245407443, 0.5421573245407443, 0.5430993876589731, 0.5430993876589731, 0.5430993876589731, 0.5430993876589731, 0.5430993876589731, 0.5430993876589731, 0.5435704192180876, 0.5435704192180876, 0.5440414507772021, 0.5440414507772021, 0.5445124823363166, 0.5445124823363166, 0.544983513895431, 0.544983513895431, 0.5454545454545454, 0.5454545454545454, 0.54592557701366, 0.54592557701366, 0.5463966085727744, 0.5463966085727744, 0.5463966085727744, 0.5463966085727744, 0.5468676401318888, 0.5468676401318888, 0.5473386716910033, 0.5473386716910033, 0.5473386716910033, 0.5478097032501178, 0.5482807348092322, 0.5482807348092322, 0.5482807348092322, 0.5482807348092322, 0.5487517663683467, 0.5487517663683467, 0.5492227979274611, 0.5492227979274611, 0.5492227979274611, 0.5492227979274611, 0.5501648610456901, 0.5501648610456901, 0.5501648610456901, 0.5501648610456901, 0.5506358926048045, 0.5506358926048045, 0.5511069241639189, 0.5511069241639189, 0.5515779557230335, 0.5515779557230335, 0.5520489872821479, 0.5520489872821479, 0.5525200188412623, 0.5525200188412623, 0.5529910504003768, 0.5529910504003768, 0.5534620819594913, 0.5534620819594913, 0.5539331135186057, 0.5539331135186057, 0.5544041450777202, 0.5544041450777202, 0.5548751766368347, 0.5548751766368347, 0.5553462081959492, 0.5553462081959492, 0.5558172397550636, 0.5558172397550636, 0.556288271314178, 0.556288271314178, 0.5567593028732926, 0.5567593028732926, 0.5567593028732926, 0.5567593028732926, 0.5567593028732926, 0.5567593028732926, 0.5577013659915214, 0.5577013659915214, 0.5581723975506359, 0.5581723975506359, 0.5586434291097504, 0.5586434291097504, 0.5591144606688648, 0.5591144606688648, 0.5591144606688648, 0.5591144606688648, 0.5591144606688648, 0.5591144606688648, 0.5600565237870937, 0.5600565237870937, 0.5605275553462082, 0.5614696184644371, 0.5614696184644371, 0.5619406500235515, 0.5619406500235515, 0.5624116815826661, 0.5624116815826661, 0.5628827131417805, 0.5628827131417805, 0.5633537447008949, 0.5633537447008949, 0.5633537447008949, 0.5633537447008949, 0.5638247762600094, 0.5638247762600094, 0.5642958078191239, 0.5642958078191239, 0.5647668393782384, 0.5647668393782384, 0.5657089024964672, 0.5657089024964672, 0.5661799340555818, 0.5661799340555818, 0.5666509656146962, 0.5666509656146962, 0.5671219971738106, 0.5671219971738106, 0.5671219971738106, 0.5671219971738106, 0.5671219971738106, 0.5671219971738106, 0.567593028732925, 0.567593028732925, 0.568535091851154, 0.568535091851154, 0.5690061234102685, 0.5690061234102685, 0.5690061234102685, 0.569477154969383, 0.569477154969383, 0.569477154969383, 0.5699481865284974, 0.5699481865284974, 0.5704192180876119, 0.5704192180876119, 0.5708902496467263, 0.5708902496467263, 0.5713612812058408, 0.5713612812058408, 0.5713612812058408, 0.5713612812058408, 0.5713612812058408, 0.5713612812058408, 0.5713612812058408, 0.5713612812058408, 0.5718323127649553, 0.5718323127649553, 0.5723033443240697, 0.5723033443240697, 0.5723033443240697, 0.5723033443240697, 0.5723033443240697, 0.5723033443240697, 0.5727743758831841, 0.5727743758831841, 0.5727743758831841, 0.5727743758831841, 0.5732454074422987, 0.5732454074422987, 0.5737164390014131, 0.5737164390014131, 0.5741874705605275, 0.5741874705605275, 0.574658502119642, 0.574658502119642, 0.5751295336787565, 0.5751295336787565, 0.575600565237871, 0.575600565237871, 0.575600565237871, 0.575600565237871, 0.575600565237871, 0.575600565237871, 0.5760715967969854, 0.5760715967969854, 0.5765426283560998, 0.5765426283560998, 0.5770136599152144, 0.5770136599152144, 0.5770136599152144, 0.5770136599152144, 0.5774846914743288, 0.5774846914743288, 0.5779557230334432, 0.5779557230334432, 0.5784267545925577, 0.5784267545925577, 0.5784267545925577, 0.5784267545925577, 0.5788977861516722, 0.5788977861516722, 0.5793688177107866, 0.5793688177107866, 0.5798398492699011, 0.5798398492699011, 0.5798398492699011, 0.5798398492699011, 0.5803108808290155, 0.5803108808290155, 0.58078191238813, 0.58078191238813, 0.5812529439472445, 0.5812529439472445, 0.5817239755063589, 0.5817239755063589, 0.5817239755063589, 0.5817239755063589, 0.5821950070654733, 0.5821950070654733, 0.5821950070654733, 0.5821950070654733, 0.5826660386245879, 0.5826660386245879, 0.5831370701837023, 0.5831370701837023, 0.5836081017428167, 0.5836081017428167, 0.5845501648610457, 0.5845501648610457, 0.5850211964201601, 0.5850211964201601, 0.5850211964201601, 0.5850211964201601, 0.5850211964201601, 0.5850211964201601, 0.5854922279792746, 0.5854922279792746, 0.5859632595383891, 0.5859632595383891, 0.5864342910975036, 0.5864342910975036, 0.586905322656618, 0.586905322656618, 0.5873763542157324, 0.5873763542157324, 0.587847385774847, 0.587847385774847, 0.5883184173339614, 0.5883184173339614, 0.5887894488930758, 0.5887894488930758, 0.5892604804521903, 0.5892604804521903, 0.5897315120113048, 0.5897315120113048, 0.5906735751295337, 0.5916156382477626, 0.5916156382477626, 0.5920866698068771, 0.5920866698068771, 0.5925577013659915, 0.5925577013659915, 0.5930287329251059, 0.5930287329251059, 0.5930287329251059, 0.5930287329251059, 0.5934997644842205, 0.5934997644842205, 0.5939707960433349, 0.5939707960433349, 0.5944418276024493, 0.5944418276024493, 0.5949128591615638, 0.5949128591615638, 0.5949128591615638, 0.5949128591615638, 0.5953838907206783, 0.5953838907206783, 0.5958549222797928, 0.5958549222797928, 0.5958549222797928, 0.5963259538389072, 0.5963259538389072, 0.5963259538389072, 0.5963259538389072, 0.5967969853980216, 0.5967969853980216, 0.5972680169571362, 0.5972680169571362, 0.5977390485162506, 0.5977390485162506, 0.5977390485162506, 0.598210080075365, 0.598210080075365, 0.5986811116344795, 0.5986811116344795, 0.5996231747527084, 0.5996231747527084, 0.6000942063118229, 0.6000942063118229, 0.6005652378709374, 0.6005652378709374, 0.6010362694300518, 0.6010362694300518, 0.6010362694300518, 0.6010362694300518, 0.6015073009891663, 0.6015073009891663, 0.6019783325482807, 0.6019783325482807, 0.6019783325482807, 0.6019783325482807, 0.6019783325482807, 0.6024493641073952, 0.6024493641073952, 0.6029203956665097, 0.6029203956665097, 0.6033914272256241, 0.6033914272256241, 0.6038624587847385, 0.6038624587847385, 0.6043334903438531, 0.6043334903438531, 0.6048045219029675, 0.6048045219029675, 0.605275553462082, 0.605275553462082, 0.605275553462082, 0.605275553462082, 0.605275553462082, 0.605275553462082, 0.605275553462082, 0.605275553462082, 0.6057465850211964, 0.6057465850211964, 0.6062176165803109, 0.6062176165803109, 0.6066886481394254, 0.6066886481394254, 0.6071596796985398, 0.6071596796985398, 0.6076307112576542, 0.6076307112576542, 0.6081017428167688, 0.6081017428167688, 0.6085727743758832, 0.6085727743758832, 0.6090438059349976, 0.6090438059349976, 0.6095148374941121, 0.6095148374941121, 0.610456900612341, 0.610456900612341, 0.6109279321714555, 0.6109279321714555, 0.6113989637305699, 0.6113989637305699, 0.6118699952896844, 0.6118699952896844, 0.6123410268487989, 0.6123410268487989, 0.6128120584079133, 0.6128120584079133, 0.6132830899670277, 0.6132830899670277, 0.6137541215261423, 0.6137541215261423, 0.6137541215261423, 0.6137541215261423, 0.6142251530852567, 0.6142251530852567, 0.6146961846443711, 0.6146961846443711, 0.6146961846443711, 0.6146961846443711, 0.6156382477626001, 0.6156382477626001, 0.6161092793217146, 0.6161092793217146, 0.616580310880829, 0.616580310880829, 0.6170513424399435, 0.6170513424399435, 0.617522373999058, 0.617522373999058, 0.617522373999058, 0.617522373999058, 0.6179934055581724, 0.6179934055581724, 0.6184644371172868, 0.6184644371172868, 0.6189354686764014, 0.6189354686764014, 0.6194065002355158, 0.6194065002355158, 0.6198775317946302, 0.6198775317946302, 0.6203485633537447, 0.6203485633537447, 0.6208195949128592, 0.6208195949128592, 0.6212906264719736, 0.6212906264719736, 0.6222326895902025, 0.6222326895902025, 0.622703721149317, 0.622703721149317, 0.6231747527084315, 0.6231747527084315, 0.6231747527084315, 0.6231747527084315, 0.6236457842675459, 0.6236457842675459, 0.6241168158266603, 0.6241168158266603, 0.6245878473857749, 0.6245878473857749, 0.6250588789448893, 0.6250588789448893, 0.6255299105040037, 0.6255299105040037, 0.6260009420631182, 0.6260009420631182, 0.6264719736222327, 0.6264719736222327, 0.6264719736222327, 0.6269430051813472, 0.6269430051813472, 0.6274140367404616, 0.6274140367404616, 0.627885068299576, 0.627885068299576, 0.628827131417805, 0.628827131417805, 0.6292981629769194, 0.6292981629769194, 0.6302402260951484, 0.6302402260951484, 0.6307112576542628, 0.6307112576542628, 0.6311822892133773, 0.6311822892133773, 0.6316533207724918, 0.6316533207724918, 0.6316533207724918, 0.6316533207724918, 0.6321243523316062, 0.6321243523316062, 0.6325953838907207, 0.6325953838907207, 0.6330664154498351, 0.6330664154498351, 0.6330664154498351, 0.6330664154498351, 0.6330664154498351, 0.6330664154498351, 0.6330664154498351, 0.6335374470089497, 0.6335374470089497, 0.6335374470089497, 0.6335374470089497, 0.6340084785680641, 0.6340084785680641, 0.634950541686293, 0.634950541686293, 0.6354215732454075, 0.6354215732454075, 0.6358926048045219, 0.6358926048045219, 0.6363636363636364, 0.6363636363636364, 0.6368346679227508, 0.6368346679227508, 0.6373056994818653, 0.6373056994818653, 0.6377767310409798, 0.6377767310409798, 0.6382477626000942, 0.6382477626000942, 0.6387187941592086, 0.6387187941592086, 0.6391898257183232, 0.6391898257183232, 0.6396608572774376, 0.6396608572774376, 0.640131888836552, 0.640131888836552, 0.6406029203956665, 0.6406029203956665, 0.641073951954781, 0.641073951954781, 0.6420160150730099, 0.6420160150730099, 0.6424870466321243, 0.6424870466321243, 0.6429580781912388, 0.6429580781912388, 0.6434291097503533, 0.6434291097503533, 0.6439001413094677, 0.6439001413094677, 0.6443711728685821, 0.6443711728685821, 0.6448422044276967, 0.6448422044276967, 0.6453132359868111, 0.6453132359868111, 0.6457842675459255, 0.6457842675459255, 0.6467263306641545, 0.6467263306641545, 0.647197362223269, 0.647197362223269, 0.6476683937823834, 0.6476683937823834, 0.6481394253414979, 0.6481394253414979, 0.6486104569006124, 0.6486104569006124, 0.6490814884597268, 0.6490814884597268, 0.6504945831370702, 0.6504945831370702, 0.6504945831370702, 0.6504945831370702, 0.6509656146961846, 0.6509656146961846, 0.6519076778144136, 0.6519076778144136, 0.652378709373528, 0.652378709373528, 0.6528497409326425, 0.6528497409326425, 0.6528497409326425, 0.6533207724917569, 0.6533207724917569, 0.6537918040508715, 0.6537918040508715, 0.6542628356099859, 0.6542628356099859, 0.6547338671691003, 0.6547338671691003, 0.6552048987282147, 0.6552048987282147, 0.6556759302873293, 0.6556759302873293, 0.6561469618464437, 0.6561469618464437, 0.6566179934055582, 0.6566179934055582, 0.6570890249646726, 0.6570890249646726, 0.6575600565237871, 0.6575600565237871, 0.6580310880829016, 0.6580310880829016, 0.658502119642016, 0.658502119642016, 0.6589731512011304, 0.6589731512011304, 0.659444182760245, 0.659444182760245, 0.6599152143193594, 0.6599152143193594, 0.6599152143193594, 0.6599152143193594, 0.6603862458784738, 0.6603862458784738, 0.6608572774375883, 0.6608572774375883, 0.6613283089967028, 0.6613283089967028, 0.6622703721149317, 0.6622703721149317, 0.6627414036740462, 0.6627414036740462, 0.6632124352331606, 0.6632124352331606, 0.6636834667922751, 0.6636834667922751, 0.6641544983513895, 0.664625529910504, 0.664625529910504, 0.6650965614696185, 0.6650965614696185, 0.6660386245878473, 0.6660386245878473, 0.6665096561469619, 0.6665096561469619, 0.6669806877060763, 0.6669806877060763, 0.6679227508243052, 0.6679227508243052, 0.6688648139425342, 0.6688648139425342, 0.669806877060763, 0.669806877060763, 0.669806877060763, 0.669806877060763, 0.669806877060763, 0.6702779086198776, 0.6702779086198776, 0.670748940178992, 0.670748940178992, 0.6712199717381064, 0.6712199717381064, 0.6721620348563354, 0.6721620348563354, 0.6731040979745643, 0.6731040979745643, 0.6735751295336787, 0.6735751295336787, 0.6740461610927933, 0.6740461610927933, 0.6745171926519077, 0.6745171926519077, 0.6745171926519077, 0.6745171926519077, 0.6745171926519077, 0.6745171926519077, 0.6749882242110221, 0.6749882242110221, 0.6754592557701365, 0.6754592557701365, 0.6759302873292511, 0.6759302873292511, 0.67687235044748, 0.67687235044748, 0.6773433820065945, 0.6773433820065945, 0.6778144135657089, 0.6778144135657089, 0.6782854451248234, 0.6782854451248234, 0.6787564766839378, 0.6787564766839378, 0.6792275082430523, 0.6792275082430523, 0.6796985398021668, 0.6796985398021668, 0.6801695713612812, 0.6801695713612812, 0.6806406029203956, 0.6806406029203956, 0.6811116344795102, 0.6811116344795102, 0.6811116344795102, 0.6811116344795102, 0.6815826660386246, 0.6815826660386246, 0.682053697597739, 0.682053697597739, 0.682053697597739, 0.682053697597739, 0.6825247291568535, 0.6825247291568535, 0.682995760715968, 0.682995760715968, 0.6839378238341969, 0.6839378238341969, 0.6848798869524259, 0.6848798869524259, 0.6853509185115403, 0.6853509185115403, 0.6858219500706547, 0.6858219500706547, 0.6862929816297691, 0.6862929816297691, 0.6867640131888837, 0.6867640131888837, 0.6872350447479981, 0.6872350447479981, 0.6877060763071126, 0.6877060763071126, 0.688177107866227, 0.688177107866227, 0.689119170984456, 0.689119170984456, 0.6895902025435704, 0.6895902025435704, 0.6895902025435704, 0.6895902025435704, 0.6900612341026848, 0.6900612341026848, 0.6900612341026848, 0.6900612341026848, 0.6905322656617994, 0.6905322656617994, 0.6905322656617994, 0.6910032972209138, 0.6910032972209138, 0.6914743287800282, 0.6914743287800282, 0.6919453603391427, 0.6919453603391427, 0.6924163918982572, 0.6924163918982572, 0.6928874234573716, 0.6928874234573716, 0.6933584550164861, 0.6933584550164861, 0.6938294865756006, 0.6938294865756006, 0.694300518134715, 0.694300518134715, 0.6947715496938295, 0.6947715496938295, 0.6947715496938295, 0.6947715496938295, 0.6952425812529439, 0.6952425812529439, 0.6957136128120585, 0.6957136128120585, 0.6966556759302873, 0.6966556759302873, 0.6966556759302873, 0.6966556759302873, 0.6971267074894018, 0.6971267074894018, 0.6975977390485163, 0.6975977390485163, 0.6980687706076307, 0.6980687706076307, 0.6985398021667452, 0.6985398021667452, 0.6990108337258596, 0.6990108337258596, 0.6994818652849741, 0.6994818652849741, 0.6999528968440886, 0.6999528968440886, 0.700423928403203, 0.700423928403203, 0.7008949599623174, 0.7008949599623174, 0.7008949599623174, 0.7018370230805464, 0.7018370230805464, 0.7023080546396608, 0.7023080546396608, 0.7027790861987753, 0.7027790861987753, 0.7027790861987753, 0.7027790861987753, 0.7032501177578898, 0.7032501177578898, 0.7037211493170042, 0.7037211493170042, 0.7041921808761187, 0.7041921808761187, 0.7046632124352331, 0.7046632124352331, 0.7051342439943477, 0.7051342439943477, 0.7056052755534621, 0.7056052755534621, 0.7060763071125765, 0.7060763071125765, 0.706547338671691, 0.706547338671691, 0.706547338671691, 0.706547338671691, 0.7070183702308055, 0.7070183702308055, 0.7070183702308055, 0.7070183702308055, 0.7074894017899199, 0.7074894017899199, 0.7079604333490344, 0.7079604333490344, 0.7084314649081489, 0.7084314649081489, 0.7084314649081489, 0.7084314649081489, 0.7089024964672633, 0.7089024964672633, 0.7093735280263778, 0.7093735280263778, 0.7098445595854922, 0.7098445595854922, 0.7103155911446067, 0.7103155911446067, 0.7103155911446067, 0.7103155911446067, 0.7107866227037212, 0.7107866227037212, 0.7107866227037212, 0.7107866227037212, 0.7112576542628356, 0.7112576542628356, 0.71172868582195, 0.71172868582195, 0.7121997173810646, 0.7121997173810646, 0.712670748940179, 0.712670748940179, 0.7131417804992934, 0.7131417804992934, 0.7136128120584079, 0.7136128120584079, 0.7145548751766369, 0.7145548751766369, 0.7145548751766369, 0.7150259067357513, 0.7150259067357513, 0.7154969382948657, 0.7154969382948657, 0.7159679698539803, 0.7159679698539803, 0.7164390014130947, 0.7164390014130947, 0.7169100329722091, 0.7169100329722091, 0.7169100329722091, 0.7169100329722091, 0.7173810645313236, 0.7173810645313236, 0.7178520960904381, 0.7178520960904381, 0.7183231276495525, 0.7183231276495525, 0.7183231276495525, 0.7183231276495525, 0.7192651907677814, 0.7192651907677814, 0.7197362223268959, 0.7197362223268959, 0.7202072538860104, 0.7202072538860104, 0.7206782854451248, 0.7206782854451248, 0.7211493170042392, 0.7211493170042392, 0.7216203485633538, 0.7216203485633538, 0.7220913801224682, 0.7220913801224682, 0.7230334432406971, 0.7230334432406971, 0.7235044747998116, 0.7235044747998116, 0.723975506358926, 0.723975506358926, 0.7244465379180405, 0.7244465379180405, 0.724917569477155, 0.724917569477155, 0.7253886010362695, 0.7253886010362695, 0.7258596325953839, 0.7258596325953839, 0.7263306641544983, 0.7263306641544983, 0.7263306641544983, 0.7263306641544983, 0.7268016957136129, 0.7268016957136129, 0.7272727272727273, 0.7272727272727273, 0.7277437588318417, 0.7277437588318417, 0.7282147903909562, 0.7282147903909562, 0.7286858219500707, 0.7286858219500707, 0.7296278850682996, 0.7296278850682996, 0.730098916627414, 0.730098916627414, 0.731040979745643, 0.731040979745643, 0.731040979745643, 0.731040979745643, 0.7315120113047574, 0.7315120113047574, 0.7319830428638718, 0.7319830428638718, 0.7324540744229864, 0.7324540744229864, 0.7329251059821008, 0.7329251059821008, 0.7329251059821008, 0.7329251059821008, 0.7333961375412152, 0.7333961375412152, 0.7338671691003297, 0.7338671691003297, 0.7343382006594442, 0.7343382006594442, 0.7357512953367875, 0.7357512953367875, 0.7362223268959021, 0.7362223268959021, 0.7366933584550165, 0.7366933584550165, 0.7371643900141309, 0.7371643900141309, 0.7371643900141309, 0.7371643900141309, 0.7376354215732454, 0.7376354215732454, 0.7381064531323599, 0.7381064531323599, 0.7381064531323599, 0.7385774846914743, 0.7385774846914743, 0.7385774846914743, 0.7385774846914743, 0.7390485162505888, 0.7390485162505888, 0.7395195478097033, 0.7395195478097033, 0.7399905793688177, 0.7399905793688177, 0.7404616109279322, 0.7404616109279322, 0.7414036740461611, 0.7414036740461611, 0.7418747056052756, 0.74234573716439, 0.74234573716439, 0.7428167687235044, 0.7428167687235044, 0.743287800282619, 0.743287800282619, 0.7442298634008478, 0.7442298634008478, 0.7447008949599623, 0.7447008949599623, 0.7447008949599623, 0.7447008949599623, 0.7451719265190768, 0.7451719265190768, 0.7456429580781913, 0.7456429580781913, 0.7456429580781913, 0.7456429580781913, 0.7461139896373057, 0.7461139896373057, 0.7465850211964201, 0.7465850211964201, 0.7470560527555347, 0.7470560527555347, 0.7475270843146491, 0.7475270843146491, 0.7475270843146491, 0.7479981158737635, 0.7479981158737635, 0.748469147432878, 0.748469147432878, 0.7489401789919925, 0.7489401789919925, 0.7494112105511069, 0.7494112105511069, 0.7498822421102214, 0.7498822421102214, 0.7503532736693358, 0.7503532736693358, 0.7508243052284503, 0.7508243052284503, 0.7508243052284503, 0.7508243052284503, 0.7508243052284503, 0.7508243052284503, 0.7512953367875648, 0.7512953367875648, 0.7517663683466792, 0.7517663683466792, 0.7522373999057936, 0.7522373999057936, 0.7522373999057936, 0.7522373999057936, 0.7527084314649082, 0.7527084314649082, 0.7531794630240226, 0.7531794630240226, 0.7531794630240226, 0.7531794630240226, 0.7541215261422516, 0.7541215261422516, 0.7555346208195949, 0.7555346208195949, 0.7560056523787094, 0.7560056523787094, 0.7564766839378239, 0.7564766839378239, 0.7574187470560527, 0.7574187470560527, 0.7583608101742817, 0.7583608101742817, 0.7593028732925106, 0.7593028732925106, 0.7597739048516251, 0.7597739048516251, 0.7602449364107395, 0.7602449364107395, 0.760715967969854, 0.760715967969854, 0.7616580310880829, 0.7616580310880829, 0.7621290626471974, 0.7621290626471974, 0.7626000942063118, 0.7626000942063118, 0.7630711257654262, 0.7630711257654262, 0.7635421573245408, 0.7635421573245408, 0.7640131888836552, 0.7640131888836552, 0.7644842204427696, 0.7644842204427696, 0.7649552520018841, 0.7649552520018841, 0.7654262835609986, 0.7654262835609986, 0.765897315120113, 0.7663683466792275, 0.7663683466792275, 0.7668393782383419, 0.7668393782383419, 0.7673104097974565, 0.7673104097974565, 0.7677814413565709, 0.7677814413565709, 0.7682524729156853, 0.7682524729156853, 0.7687235044747998, 0.7687235044747998, 0.7691945360339143, 0.7691945360339143, 0.7691945360339143, 0.7696655675930287, 0.7696655675930287, 0.7701365991521432, 0.7701365991521432, 0.7706076307112577, 0.7706076307112577, 0.7710786622703721, 0.7710786622703721, 0.7715496938294866, 0.7715496938294866, 0.772020725388601, 0.772020725388601, 0.7724917569477155, 0.7724917569477155, 0.7734338200659444, 0.7734338200659444, 0.7739048516250588, 0.7739048516250588, 0.7743758831841734, 0.7743758831841734, 0.7748469147432878, 0.7748469147432878, 0.7757889778615167, 0.7757889778615167, 0.7767310409797457, 0.7767310409797457, 0.7772020725388601, 0.7772020725388601, 0.7776731040979745, 0.7781441356570891, 0.7781441356570891, 0.7786151672162035, 0.7786151672162035, 0.7786151672162035, 0.7786151672162035, 0.7795572303344324, 0.7795572303344324, 0.7804992934526613, 0.7804992934526613, 0.7809703250117758, 0.7809703250117758, 0.7819123881300047, 0.7819123881300047, 0.7819123881300047, 0.7819123881300047, 0.7823834196891192, 0.7823834196891192, 0.783325482807348, 0.783325482807348, 0.7837965143664626, 0.7837965143664626, 0.784267545925577, 0.784267545925577, 0.7856806406029204, 0.7856806406029204, 0.7870937352802638, 0.7870937352802638, 0.7875647668393783, 0.7875647668393783, 0.7875647668393783, 0.7875647668393783, 0.7880357983984927, 0.7880357983984927, 0.7885068299576071, 0.7885068299576071, 0.7889778615167217, 0.7889778615167217, 0.7894488930758361, 0.7894488930758361, 0.7899199246349505, 0.7899199246349505, 0.790390956194065, 0.790390956194065, 0.7908619877531795, 0.7908619877531795, 0.7913330193122939, 0.7913330193122939, 0.7918040508714084, 0.7918040508714084, 0.7922750824305228, 0.7922750824305228, 0.7927461139896373, 0.7927461139896373, 0.7932171455487518, 0.7932171455487518, 0.7936881771078662, 0.7936881771078662, 0.7936881771078662, 0.7941592086669806, 0.7941592086669806, 0.7946302402260952, 0.7946302402260952, 0.7951012717852096, 0.7951012717852096, 0.795572303344324, 0.795572303344324, 0.7960433349034385, 0.7960433349034385, 0.796514366462553, 0.796514366462553, 0.7974564295807819, 0.7974564295807819, 0.7998115873763542, 0.7998115873763542, 0.8002826189354687, 0.8002826189354687, 0.8007536504945831, 0.8007536504945831, 0.8012246820536976, 0.8012246820536976, 0.802637776731041, 0.802637776731041, 0.8031088082901554, 0.8031088082901554, 0.80357983984927, 0.80357983984927, 0.80357983984927, 0.80357983984927, 0.8040508714083844, 0.8040508714083844, 0.8045219029674988, 0.8045219029674988, 0.8049929345266132, 0.8049929345266132, 0.8054639660857278, 0.8054639660857278, 0.8059349976448422, 0.8059349976448422, 0.8059349976448422, 0.8059349976448422, 0.8064060292039567, 0.8064060292039567, 0.8068770607630711, 0.8068770607630711, 0.8073480923221856, 0.8073480923221856, 0.8082901554404145, 0.8082901554404145, 0.8087611869995289, 0.8087611869995289, 0.8092322185586435, 0.8092322185586435, 0.8097032501177579, 0.8097032501177579, 0.8101742816768723, 0.8101742816768723, 0.8106453132359868, 0.8106453132359868, 0.8111163447951013, 0.8111163447951013, 0.8115873763542157, 0.8115873763542157, 0.8120584079133302, 0.8120584079133302, 0.8125294394724446, 0.8130004710315591, 0.8130004710315591, 0.8134715025906736, 0.8134715025906736, 0.813942534149788, 0.813942534149788, 0.8144135657089024, 0.8144135657089024, 0.8153556288271314, 0.8153556288271314, 0.8158266603862458, 0.8158266603862458, 0.8167687235044748, 0.8167687235044748, 0.8172397550635893, 0.8172397550635893, 0.8177107866227037, 0.8177107866227037, 0.8181818181818182, 0.8181818181818182, 0.8186528497409327, 0.8186528497409327, 0.8200659444182761, 0.8200659444182761, 0.8205369759773905, 0.8205369759773905, 0.8210080075365049, 0.8210080075365049, 0.8214790390956194, 0.8214790390956194, 0.8214790390956194, 0.8219500706547339, 0.8219500706547339, 0.8224211022138483, 0.8224211022138483, 0.8233631653320772, 0.8233631653320772, 0.8238341968911918, 0.8238341968911918, 0.8243052284503062, 0.8243052284503062, 0.8247762600094206, 0.8247762600094206, 0.825247291568535, 0.825247291568535, 0.825247291568535, 0.825247291568535, 0.8257183231276496, 0.8257183231276496, 0.8266603862458785, 0.8266603862458785, 0.8271314178049929, 0.8271314178049929, 0.8276024493641074, 0.8276024493641074, 0.8280734809232219, 0.8280734809232219, 0.8285445124823363, 0.8285445124823363, 0.8290155440414507, 0.8290155440414507, 0.8299576071596797, 0.8299576071596797, 0.8304286387187941, 0.8304286387187941, 0.8308996702779087, 0.8308996702779087, 0.8313707018370231, 0.8313707018370231, 0.8313707018370231, 0.8313707018370231, 0.8318417333961375, 0.8318417333961375, 0.8318417333961375, 0.8318417333961375, 0.832312764955252, 0.832312764955252, 0.8327837965143665, 0.8327837965143665, 0.833254828073481, 0.833254828073481, 0.8337258596325954, 0.8337258596325954, 0.8346679227508244, 0.8346679227508244, 0.8351389543099388, 0.8351389543099388, 0.8360810174281676, 0.8360810174281676, 0.8365520489872822, 0.8365520489872822, 0.8370230805463966, 0.8370230805463966, 0.8374941121055111, 0.8374941121055111, 0.8379651436646255, 0.8379651436646255, 0.8379651436646255, 0.8379651436646255, 0.83843617522374, 0.83843617522374, 0.8389072067828545, 0.8389072067828545, 0.8398492699010833, 0.8398492699010833, 0.8403203014601979, 0.8403203014601979, 0.8407913330193123, 0.8407913330193123, 0.8412623645784267, 0.8412623645784267, 0.8417333961375412, 0.8417333961375412, 0.8422044276966557, 0.8422044276966557, 0.8426754592557701, 0.8426754592557701, 0.8431464908148846, 0.8431464908148846, 0.843617522373999, 0.843617522373999, 0.8440885539331136, 0.8440885539331136, 0.844559585492228, 0.844559585492228, 0.8455016486104568, 0.8455016486104568, 0.8459726801695714, 0.8459726801695714, 0.8464437117286858, 0.8464437117286858, 0.8473857748469148, 0.8473857748469148, 0.8478568064060292, 0.8478568064060292, 0.8483278379651437, 0.8483278379651437, 0.8487988695242581, 0.8487988695242581, 0.8492699010833726, 0.8492699010833726, 0.8502119642016015, 0.8502119642016015, 0.8511540273198305, 0.8511540273198305, 0.8516250588789449, 0.8516250588789449, 0.8516250588789449, 0.8520960904380593, 0.8520960904380593, 0.8535091851154027, 0.8535091851154027, 0.8539802166745172, 0.8539802166745172, 0.8553933113518606, 0.8553933113518606, 0.855864342910975, 0.856806406029204, 0.856806406029204, 0.856806406029204, 0.856806406029204, 0.8572774375883184, 0.8572774375883184, 0.8577484691474329, 0.8577484691474329, 0.8582195007065473, 0.8582195007065473, 0.8586905322656618, 0.8586905322656618, 0.8591615638247763, 0.8591615638247763, 0.8601036269430051, 0.8601036269430051, 0.8610456900612341, 0.8610456900612341, 0.8619877531794631, 0.8619877531794631, 0.8619877531794631, 0.8619877531794631, 0.8634008478568064, 0.8634008478568064, 0.8638718794159209, 0.8638718794159209, 0.8643429109750354, 0.8643429109750354, 0.8648139425341498, 0.8648139425341498, 0.8652849740932642, 0.8652849740932642, 0.8662270372114932, 0.8662270372114932, 0.8666980687706076, 0.8666980687706076, 0.867169100329722, 0.867169100329722, 0.8676401318888366, 0.8676401318888366, 0.8685821950070655, 0.8685821950070655, 0.8695242581252944, 0.8695242581252944, 0.8699952896844089, 0.8699952896844089, 0.8709373528026377, 0.8709373528026377, 0.8714083843617523, 0.8714083843617523, 0.8718794159208667, 0.8718794159208667, 0.8723504474799811, 0.8723504474799811, 0.8728214790390956, 0.8728214790390956, 0.8732925105982101, 0.8732925105982101, 0.8737635421573245, 0.8737635421573245, 0.874234573716439, 0.874234573716439, 0.8747056052755534, 0.8747056052755534, 0.875176636834668, 0.875176636834668, 0.8761186999528968, 0.8761186999528968, 0.8765897315120112, 0.8765897315120112, 0.8770607630711258, 0.8770607630711258, 0.8784738577484692, 0.8784738577484692, 0.8784738577484692, 0.8789448893075836, 0.8789448893075836, 0.8794159208666981, 0.8794159208666981, 0.8798869524258125, 0.8798869524258125, 0.880357983984927, 0.880357983984927, 0.8808290155440415, 0.8808290155440415, 0.8813000471031559, 0.8813000471031559, 0.8817710786622703, 0.8817710786622703, 0.8822421102213849, 0.8822421102213849, 0.8827131417804993, 0.8827131417804993, 0.8831841733396137, 0.8831841733396137, 0.8836552048987282, 0.8836552048987282, 0.8841262364578427, 0.8841262364578427, 0.8888365520489873, 0.8888365520489873, 0.8907206782854451, 0.8916627414036741, 0.8944889307583608, 0.8954309938765898, 0.9232218558643429, 0.9241639189825719, 0.9269901083372586, 0.928403203014602, 1.0], \"y\": [0.0, 2.3131549119844555e-05, 0.0013878929471906733, 0.0014341560454303624, 0.007471490365709791, 0.007517753463949481, 0.007656542758668548, 0.007702805856908237, 0.00832735768314404, 0.008373620781383729, 0.008512410076102797, 0.008558673174342486, 0.008766857116421087, 0.008813120214660776, 0.010131618514491916, 0.010177881612731605, 0.0114732483634429, 0.01151951146168259, 0.012213457935277925, 0.012259721033517615, 0.012421641877356527, 0.012467904975596215, 0.014688533691101293, 0.014734796789340983, 0.017857555920519998, 0.017903819018759686, 0.01873655478707409, 0.01878281788531378, 0.019962526890425852, 0.02000878998866554, 0.02153547223057528, 0.02158173532881497, 0.023131549119844556, 0.023177812218084244, 0.030950012722352017, 0.030950012722352017, 0.03159769609770766, 0.03159769609770766, 0.03261548425898082, 0.03261548425898082, 0.032939325946658646, 0.032962457495778495, 0.03465106058152714, 0.03465106058152714, 0.035576322546320926, 0.035576322546320926, 0.0363396636672758, 0.0363396636672758, 0.03680229464967269, 0.036848557747912375, 0.03791260900742523, 0.03798200365478476, 0.03814392449862367, 0.038190187596863365, 0.040526474057967665, 0.04057273715620735, 0.04057273715620735, 0.041081631236843934, 0.04112789433508362, 0.04115102588420347, 0.04119728898244315, 0.04172931461219958, 0.04172931461219958, 0.04302468136291088, 0.04307094446115056, 0.043094076010270405, 0.043094076010270405, 0.04566167796257315, 0.04566167796257315, 0.04619370359232958, 0.04623996669056927, 0.04667946612384631, 0.04691078161504476, 0.046933913164164606, 0.04698017626240429, 0.04767412273599963, 0.04772038583423932, 0.04887696329023155, 0.048969489486710926, 0.049085147232310146, 0.049085147232310146, 0.04913141033054984, 0.049362725821748284, 0.04945525201822766, 0.04950151511646735, 0.04984848835326502, 0.04989475145150471, 0.05028798778654207, 0.05033425088478175, 0.050403645532141286, 0.05044990863038098, 0.05051930327774051, 0.05058869792510005, 0.05079688186717864, 0.05086627651453818, 0.05107446045661678, 0.05130577594781523, 0.051398302144294604, 0.051444565242534296, 0.05267053734588605, 0.052716800444125744, 0.054174088038675954, 0.05422035113691564, 0.0558626911244246, 0.055908954222664294, 0.056232795910342116, 0.0562790590085818, 0.05641784830330087, 0.05646411140154056, 0.05685734773657792, 0.05685734773657792, 0.05690361083481761, 0.05697300548217714, 0.05704240012953667, 0.05706553167865652, 0.0571580578751359, 0.057389373366334345, 0.05743563646457403, 0.0575744257592931, 0.05762068885753279, 0.05856908237144642, 0.0586153454696861, 0.05907797645208299, 0.059124239550322685, 0.06051213249751336, 0.060581527144872895, 0.06118294742198885, 0.061414262913187294, 0.06196942009206356, 0.062015683190303254, 0.06229326177974139, 0.06238578797622077, 0.06351923388309315, 0.06356549698133283, 0.06412065416020911, 0.06419004880756864, 0.06469894288820523, 0.06474520598644491, 0.06502278457588305, 0.06506904767412273, 0.0662950197774745, 0.06634128287571418, 0.06687330850547062, 0.0669195716037103, 0.06719715019314844, 0.06724341329138812, 0.06846938539473989, 0.06846938539473989, 0.06881635863153755, 0.06886262172977724, 0.06930212116305429, 0.06934838426129399, 0.0712220397400014, 0.07126830283824108, 0.0718465915662372, 0.0718465915662372, 0.07265619578543175, 0.07272559043279128, 0.07302630057134926, 0.07307256366958895, 0.07332701070990724, 0.07332701070990724, 0.0737202470449446, 0.07376651014318429, 0.0739284309870232, 0.07397469408526289, 0.07450671971501932, 0.074552982813259, 0.07462237746061853, 0.07466864055885823, 0.07471490365709792, 0.07471490365709792, 0.07517753463949481, 0.0752237977377345, 0.07533945548333372, 0.0753857185815734, 0.07550137632717263, 0.07559390252365202, 0.0762647174481275, 0.07631098054636719, 0.07661169068492517, 0.07665795378316485, 0.07721311096204113, 0.07730563715852051, 0.07848534616363258, 0.07853160926187226, 0.07864726700747149, 0.07869353010571117, 0.07924868728458745, 0.07929495038282713, 0.07961879207050496, 0.07966505516874466, 0.07975758136522403, 0.07975758136522403, 0.07980384446346372, 0.08065971178089797, 0.0807291064282575, 0.08086789572297656, 0.08091415882121626, 0.0809372903703361, 0.08102981656681547, 0.08165436839305128, 0.08170063149129098, 0.08211699937544817, 0.08211699937544817, 0.0822326571210474, 0.08227892021928708, 0.08246397261224585, 0.08251023571048553, 0.0826490250052046, 0.08269528810344429, 0.08341236612615947, 0.08345862922439916, 0.08359741851911823, 0.08359741851911823, 0.08399065485415558, 0.08403691795239528, 0.08412944414887465, 0.08417570724711435, 0.08440702273831278, 0.08445328583655247, 0.08449954893479217, 0.08454581203303185, 0.0849853114663089, 0.08503157456454859, 0.0851934954083875, 0.08523975850662718, 0.08591057343110269, 0.08595683652934237, 0.0860724942749416, 0.0860724942749416, 0.08614188892230112, 0.08618815202054081, 0.08646573060997895, 0.08646573060997895, 0.08755291341861164, 0.08755291341861164, 0.08824685989220699, 0.08829312299044667, 0.08854757003076497, 0.08859383312900465, 0.08875575397284356, 0.08880201707108325, 0.08917212185700077, 0.0892415165043603, 0.08956535819203812, 0.0896116212902778, 0.09053688325507159, 0.09058314635331129, 0.09081446184450973, 0.09086072494274941, 0.09106890888482802, 0.0911151719830677, 0.09150840831810507, 0.09155467141634475, 0.09201730239874165, 0.09201730239874165, 0.09236427563553931, 0.092410538733779, 0.09386782632832921, 0.0939140894265689, 0.09560269251231755, 0.09567208715967708, 0.09629663898591288, 0.09634290208415258, 0.09659734912447086, 0.09664361222271055, 0.0977539265804631, 0.09780018967870278, 0.09872545164349657, 0.09877171474173625, 0.09962758205917051, 0.09967384515741019, 0.10020587078716661, 0.10020587078716661, 0.10032152853276584, 0.10036779163100552, 0.10039092318012538, 0.10043718627836506, 0.10062223867132382, 0.10089981726076196, 0.10101547500636118, 0.10106173810460087, 0.10108486965372071, 0.1011311327519604, 0.10147810598875806, 0.10152436908699776, 0.10177881612731604, 0.10182507922555574, 0.10207952626587402, 0.10212578936411372, 0.10231084175707247, 0.10235710485531216, 0.10332862991834563, 0.10355994540954408, 0.10411510258842034, 0.10416136568666004, 0.10423076033401957, 0.10446207582521802, 0.10446207582521802, 0.10467025976729662, 0.10501723300409428, 0.10508662765145382, 0.10513289074969351, 0.10589623187064838, 0.10594249496888807, 0.10615067891096666, 0.10619694200920636, 0.10696028313016123, 0.10702967777752076, 0.1070528093266406, 0.1070990724248803, 0.10746917721079781, 0.1075154403090375, 0.10753857185815734, 0.10758483495639704, 0.10786241354583516, 0.10790867664407486, 0.1079318081931947, 0.10797807129143439, 0.10804746593879393, 0.10809372903703361, 0.10834817607735191, 0.10839443917559159, 0.10853322847031066, 0.10857949156855035, 0.10869514931414957, 0.10874141241238926, 0.10936596423862506, 0.10941222733686475, 0.10943535888598459, 0.10952788508246397, 0.11024496310517916, 0.11029122620341884, 0.11142467211029122, 0.11142467211029122, 0.11149406675765076, 0.11154032985589045, 0.11160972450324998, 0.11174851379796905, 0.11181790844532859, 0.11204922393652703, 0.11209548703476672, 0.11216488168212625, 0.11221114478036594, 0.11239619717332469, 0.11246559182068423, 0.1125581180171636, 0.1125581180171636, 0.1128125650574819, 0.11285882815572158, 0.11292822280308112, 0.11297448590132081, 0.11329832758899863, 0.11334459068723833, 0.11341398533459786, 0.11346024843283754, 0.11482500983090838, 0.11487127292914806, 0.11505632532210683, 0.11510258842034651, 0.11521824616594574, 0.11526450926418542, 0.11572714024658232, 0.115773403344822, 0.11579653489394184, 0.11584279799218154, 0.1159815872869006, 0.1160278503851403, 0.1163979551710578, 0.11644421826929749, 0.11653674446577687, 0.11658300756401656, 0.11679119150609517, 0.11683745460433485, 0.11702250699729361, 0.11706877009553329, 0.11716129629201268, 0.11720755939025236, 0.1172306909393722, 0.1172769540376119, 0.1187342416321621, 0.11878050473040179, 0.11905808331983993, 0.11915060951631931, 0.11949758275311698, 0.11954384585135666, 0.12039971316879092, 0.12046910781615044, 0.12072355485646874, 0.12076981795470842, 0.1209086072494275, 0.12097800189678702, 0.12118618583886563, 0.12123244893710532, 0.12125558048622516, 0.1213249751335847, 0.12160255372302282, 0.12164881682126252, 0.1232448937105318, 0.12329115680877148, 0.12331428835789132, 0.1234068145543707, 0.12380005088940807, 0.12384631398764775, 0.1240776294788462, 0.12412389257708589, 0.12447086581388356, 0.12451712891212324, 0.12472531285420184, 0.12477157595244154, 0.12500289144364, 0.12504915454187968, 0.1253267331313178, 0.1253729962295575, 0.12551178552427655, 0.12555804862251624, 0.12560431172075595, 0.12569683791723532, 0.125743101015475, 0.1257893641137147, 0.12655270523466958, 0.12664523143114895, 0.12696907311882677, 0.12696907311882677, 0.1272466517082649, 0.1272929148065046, 0.12759362494506257, 0.12794059818186024, 0.12851888690985636, 0.12856515000809604, 0.12893525479401355, 0.12898151789225323, 0.12923596493257153, 0.1292822280308112, 0.12939788577641045, 0.12944414887465014, 0.12969859591496843, 0.12969859591496843, 0.12976799056232796, 0.12981425366056765, 0.13023062154472484, 0.13027688464296455, 0.13062385787976222, 0.1306701209780019, 0.13099396266567973, 0.1310864888621591, 0.13117901505863847, 0.13122527815687818, 0.1315028567463163, 0.131549119844556, 0.13194235617959335, 0.13198861927783304, 0.1322199347690315, 0.13226619786727117, 0.13235872406375054, 0.13235872406375054, 0.13268256575142837, 0.13268256575142837, 0.1327982234970276, 0.13312206518470543, 0.1340473271494992, 0.1340935902477389, 0.13501885221253268, 0.13511137840901205, 0.1352501677037311, 0.13529643080197082, 0.13536582544933035, 0.13541208854757003, 0.13548148319492956, 0.13555087784228909, 0.13712382318243851, 0.13754019106659574, 0.13925192570146422, 0.1392981887997039, 0.13950637274178251, 0.1395526358400222, 0.1397608197821008, 0.13983021442946034, 0.14029284541185724, 0.14033910851009693, 0.1404316347065763, 0.14047789780481598, 0.14154194906432885, 0.14161134371168838, 0.14177326455552727, 0.14181952765376699, 0.14186579075200667, 0.14191205385024636, 0.14265226342208137, 0.14274478961856074, 0.14283731581504014, 0.14290671046239967, 0.14390136707455298, 0.14394763017279266, 0.14540491776734288, 0.14545118086558256, 0.14558997016030165, 0.14563623325854133, 0.14663088987069464, 0.14693160000925262, 0.1472323101478106, 0.1473942309916495, 0.14866646619324095, 0.14871272929148066, 0.14945293886331568, 0.14949920196155536, 0.1496611228053943, 0.14970738590363397, 0.1499849644930721, 0.1500312275913118, 0.1504013323772293, 0.150447595475469, 0.15063264786842775, 0.1506557794175476, 0.1510258842034651, 0.1510721473017048, 0.15111841039994447, 0.15116467349818416, 0.15162730448058107, 0.15167356757882075, 0.15236751405241608, 0.15241377715065577, 0.15308459207513128, 0.15308459207513128, 0.1531539867224908, 0.15333903911544955, 0.1534546968610488, 0.15396359094168535, 0.15400985403992506, 0.15493511600471885, 0.15498137910295853, 0.15518956304503712, 0.1552820892415165, 0.1554440100853554, 0.1554902731835951, 0.15717887626934376, 0.15722513936758345, 0.15997779371284496, 0.16002405681108464, 0.16152760750387454, 0.16157387060211423, 0.16164326524947376, 0.1622909486248294, 0.16233721172306909, 0.1627073165089866, 0.1627535796072263, 0.1633318683352224, 0.1633781314334621, 0.16347065762994148, 0.16351692072818116, 0.16393328861233836, 0.16397955171057807, 0.1640489463579376, 0.16411834100529712, 0.16453470888945432, 0.164580971987694, 0.1647891559297726, 0.1648354190280123, 0.16495107677361154, 0.16499733987185122, 0.16603825958224422, 0.1660845226804839, 0.16636210126992204, 0.16640836436816173, 0.16666281140848002, 0.1667090745067197, 0.16714857393999677, 0.16719483703823645, 0.16853646688718743, 0.1686289930836668, 0.1687215192801462, 0.16876778237838588, 0.16879091392750573, 0.1688371770257454, 0.16932293955726216, 0.16936920265550184, 0.1698780967361384, 0.16992435983437812, 0.16994749138349796, 0.16999375448173765, 0.17098841109389096, 0.17103467419213064, 0.17119659503596957, 0.17124285813420925, 0.17149730517452755, 0.17154356827276723, 0.17212185700076335, 0.17216812009900304, 0.17258448798316023, 0.1726770141796396, 0.1727232772778793, 0.172769540376119, 0.17323217135851587, 0.17323217135851587, 0.17325530290763572, 0.1733015660058754, 0.17332469755499527, 0.17332469755499527, 0.17346348684971433, 0.173509749947954, 0.1736485392426731, 0.1736485392426731, 0.17496703754250423, 0.1750133006407439, 0.17716453470888946, 0.17721079780712914, 0.177233929356249, 0.17728019245448867, 0.17732645555272836, 0.17732645555272836, 0.17771969188776574, 0.17776595498600542, 0.17889940089287779, 0.1789456639911175, 0.17901505863847703, 0.1790613217367167, 0.17917697948231592, 0.1792232425805556, 0.17950082116999375, 0.17954708426823343, 0.1797321366611922, 0.17977839975943188, 0.17991718905415097, 0.18000971525063034, 0.1801485045453494, 0.1801947676435891, 0.18021789919270895, 0.18021789919270895, 0.1802410307418288, 0.18028729384006847, 0.18058800397862645, 0.18063426707686614, 0.1809812403136638, 0.1809812403136638, 0.1818602391802179, 0.1819065022784576, 0.18192963382757743, 0.18197589692581712, 0.18213781776965604, 0.18218408086789573, 0.1826467118502926, 0.18271610649765216, 0.18329439522564825, 0.18329439522564825, 0.18387268395364437, 0.18394207860100392, 0.1840346047974833, 0.18405773634660313, 0.18426592028868174, 0.18431218338692143, 0.18445097268164048, 0.18449723577988017, 0.18498299831139692, 0.18498299831139692, 0.1850292614096366, 0.1850755245078763, 0.18512178760611597, 0.18516805070435566, 0.18535310309731443, 0.1853993661955541, 0.18558441858851288, 0.18563068168675256, 0.18623210196386852, 0.1862783650621082, 0.18639402280770742, 0.18644028590594713, 0.18752746871457981, 0.1875737318128195, 0.18759686336193934, 0.18764312646017903, 0.18775878420577827, 0.18780504730401795, 0.1884527306793736, 0.18849899377761328, 0.18852212532673313, 0.1885683884249728, 0.18884596701441095, 0.18889223011265063, 0.18891536166177048, 0.1889616247600102, 0.18905415095648956, 0.18910041405472924, 0.18979436052832457, 0.18984062362656426, 0.18986375517568413, 0.18993314982304366, 0.1900719391177627, 0.1901182022160024, 0.19014133376512224, 0.19014133376512224, 0.19016446531424208, 0.1902107284124818, 0.1912516481228748, 0.191367305868474, 0.19173741065439154, 0.19178367375263122, 0.19192246304735028, 0.19196872614558996, 0.19254701487358608, 0.19259327797182577, 0.19263954107006545, 0.19268580416830516, 0.1929171196595036, 0.19296338275774327, 0.19340288219102034, 0.19344914528926002, 0.1936341976822188, 0.19368046078045847, 0.19368046078045847, 0.19472138049085147, 0.19476764358909116, 0.19476764358909116, 0.19601674724156276, 0.19610927343804216, 0.19627119428188106, 0.19631745738012074, 0.1965025097730795, 0.1965025097730795, 0.19657190442043904, 0.19661816751867872, 0.19682635146075733, 0.19687261455899702, 0.19715019314843515, 0.19715019314843515, 0.19726585089403437, 0.1973352455413939, 0.19765908722907172, 0.19770535032731143, 0.1977978765237908, 0.19784413962203048, 0.19823737595706784, 0.19828363905530752, 0.19832990215354723, 0.19837616525178692, 0.19856121764474566, 0.19856121764474566, 0.19872313848858458, 0.19876940158682427, 0.19950961115865928, 0.19950961115865928, 0.19990284749369666, 0.1999722421410562, 0.20027295227961417, 0.20031921537785385, 0.2003423469269737, 0.20038861002521338, 0.20050426777081262, 0.2005505308690523, 0.20057366241817215, 0.20057366241817215, 0.20073558326201105, 0.20078184636025076, 0.20082810945849044, 0.20087437255673013, 0.20191529226712313, 0.2019615553653628, 0.20290994887927644, 0.20295621197751612, 0.20316439591959473, 0.20321065901783442, 0.20344197450903287, 0.20348823760727255, 0.20378894774583053, 0.20381207929495038, 0.204020263237029, 0.20406652633526867, 0.20568573477365779, 0.20573199787189747, 0.2058939187157364, 0.20594018181397608, 0.20621776040341422, 0.20628715505077375, 0.20670352293493094, 0.20679604913141034, 0.20744373250676598, 0.20748999560500567, 0.20853091531539866, 0.20857717841363835, 0.2092711248872337, 0.2093173879854734, 0.20938678263283292, 0.2094330457310726, 0.20950244037843213, 0.20950244037843213, 0.20954870347667184, 0.21086720177650298, 0.21091346487474266, 0.21100599107122203, 0.21105225416946172, 0.21114478036594111, 0.21116791191506096, 0.2114454905044991, 0.21153801670097847, 0.21209317387985474, 0.21213943697809443, 0.21230135782193332, 0.2124864102148921, 0.21253267331313178, 0.21271772570609054, 0.21276398880433023, 0.2131109620411279, 0.21315722513936758, 0.21355046147440493, 0.21359672457264464, 0.21361985612176448, 0.21366611922000417, 0.21417501330064073, 0.21422127639888044, 0.21510027526543452, 0.21512340681455436, 0.21547038005135205, 0.21551664314959174, 0.21570169554255048, 0.21579422173902987, 0.21621058962318707, 0.21625685272142675, 0.21660382595822442, 0.21667322060558394, 0.21681200990030303, 0.2168582729985427, 0.2172746408826999, 0.21732090398093962, 0.21757535102125788, 0.21762161411949757, 0.21838495524045246, 0.21843121833869214, 0.21896324396844857, 0.2190326386158081, 0.21907890171404779, 0.21961092734380422, 0.2196571904420439, 0.21968032199116375, 0.21972658508940343, 0.220536189308598, 0.2205824524068377, 0.22139205662603226, 0.22143831972427194, 0.22148458282251163, 0.2215308459207513, 0.221577109018991, 0.22164650366635053, 0.22222479239434664, 0.22227105549258633, 0.2229650019661817, 0.22301126506442137, 0.22335823830121904, 0.22335823830121904, 0.2238671323818556, 0.2239133954800953, 0.2244916842080914, 0.22453794730633111, 0.22516249913256692, 0.22518563068168676, 0.22597210335176146, 0.2259952349008813, 0.2265041289815179, 0.22655039207975758, 0.22657352362887742, 0.22657352362887742, 0.22717494390599338, 0.22717494390599338, 0.22779949573222918, 0.22784575883046887, 0.2279614165760681, 0.2279614165760681, 0.2280076796743078, 0.2282621267146261, 0.22830838981286578, 0.22835465291110546, 0.22840091600934515, 0.22847031065670467, 0.22851657375494436, 0.22870162614790313, 0.22877102079526265, 0.22884041544262218, 0.22884041544262218, 0.2290023362864611, 0.2290485993847008, 0.22909486248294048, 0.22914112558118016, 0.22955749346533738, 0.22965001966181675, 0.22971941430917628, 0.22976567740741596, 0.2300432559968541, 0.2300895190950938, 0.23018204529157318, 0.23022830838981287, 0.2306678078230899, 0.2307140709213296, 0.23099164951076773, 0.2310379126090074, 0.23136175429668526, 0.23147741204228447, 0.231546806689644, 0.2315930697878837, 0.2319169114755615, 0.2319631745738012, 0.23274964724387592, 0.2327959103421156, 0.2328421734403553, 0.23291156808771482, 0.23311975202979343, 0.23316601512803312, 0.23594180102241447, 0.23598806412065415, 0.23603432721889384, 0.23612685341537323, 0.2367282736924892, 0.2367282736924892, 0.23702898383104717, 0.2370983784784067, 0.23783858805024172, 0.2378848511484814, 0.2385094029747172, 0.23855566607295692, 0.2397585066271888, 0.2397585066271888, 0.2398510328236682, 0.2398510328236682, 0.23992042747102774, 0.23996669056926742, 0.24049871619902385, 0.24049871619902385, 0.24153963590941685, 0.24158589900765653, 0.24246489787421063, 0.24251116097245032, 0.24260368716892972, 0.24269621336540909, 0.2434364229372441, 0.2434826860354838, 0.24362147533020287, 0.24371400152668224, 0.24401471166524022, 0.2440609747634799, 0.24445421109851725, 0.24450047419675697, 0.24461613194235618, 0.24461613194235618, 0.24489371053179432, 0.244939973630034, 0.24517128912123246, 0.24524068376859198, 0.24537947306331104, 0.24542573616155075, 0.24757697022969627, 0.24757697022969627, 0.2477388910735352, 0.2477388910735352, 0.24803960121209317, 0.24808586431033286, 0.2485716268418496, 0.2486178899400893, 0.2487798107839282, 0.2487798107839282, 0.24884920543128775, 0.24889546852952743, 0.24905738937336633, 0.249103652471606, 0.24926557331544494, 0.24931183641368462, 0.24963567810136245, 0.24972820429784182, 0.24995951978904027, 0.25000578288728, 0.25009830908375935, 0.25009830908375935, 0.25035275612407765, 0.25035275612407765, 0.25046841386967683, 0.2505146769679165, 0.25083851865559437, 0.25088478175383405, 0.25137054428535077, 0.25141680738359046, 0.25160185977654925, 0.25167125442390875, 0.25181004371862786, 0.25185630681686755, 0.252527121741343, 0.2525733848395827, 0.25259651638870256, 0.25264277948694225, 0.25266591103606206, 0.25266591103606206, 0.2530360158219796, 0.2530822789202193, 0.25310541046933915, 0.25315167356757884, 0.25322106821493834, 0.253267331313178, 0.25363743609909556, 0.25368369919733524, 0.2548634082024473, 0.254909671300687, 0.25541856538132357, 0.25544169693044344, 0.25618190650227846, 0.2562744326987578, 0.25710716846707227, 0.25717656311443177, 0.2578705095880271, 0.2579167726862668, 0.25796303578450647, 0.25796303578450647, 0.2581018250792256, 0.2581018250792256, 0.2586569822581018, 0.25870324535634154, 0.2592121394369781, 0.25925840253521776, 0.2593046656334575, 0.2593509287316972, 0.259374060280817, 0.259674770419375, 0.25974416506673453, 0.2599060859105734, 0.25995234900881314, 0.26002174365617264, 0.2600911383035322, 0.2603224537947306, 0.26041497999121, 0.2606462954824085, 0.26069255858064816, 0.26078508477712753, 0.2608313478753672, 0.2614327681524832, 0.26147903125072286, 0.26203418842959914, 0.2621035830769587, 0.2621267146260785, 0.2621267146260785, 0.26226550392079756, 0.26226550392079756, 0.26240429321551667, 0.26245055631375636, 0.2625893456084754, 0.2625893456084754, 0.26282066109967384, 0.2628437926487937, 0.2632138974347112, 0.2632138974347112, 0.26323702898383106, 0.26330642363119056, 0.26353773912238904, 0.2635840022206287, 0.2639309754574264, 0.26397723855566607, 0.264439869538063, 0.264439869538063, 0.26453239573454235, 0.26457865883278203, 0.2647174481275011, 0.26474057967662096, 0.26476371122574077, 0.26480997432398046, 0.26536513150285673, 0.2654113946010964, 0.265480789248456, 0.26552705234669566, 0.265920288681733, 0.2659665517799727, 0.26631352501677036, 0.26635978811501004, 0.2669843399412459, 0.26703060303948556, 0.2674238393745229, 0.2674701024727626, 0.26784020725868013, 0.26784020725868013, 0.26811778584811824, 0.2681640489463579, 0.26858041683051515, 0.26862667992875483, 0.26885799541995326, 0.26890425851819294, 0.271425597372256, 0.2714718604704957, 0.2718188337072934, 0.2718188337072934, 0.27211954384585135, 0.27216580694409104, 0.2722814646896903, 0.2722814646896903, 0.2725590432791284, 0.2726053063773681, 0.27316046355624435, 0.27320672665448403, 0.2742245148157572, 0.2742245148157572, 0.27471027734727393, 0.2747565404455136, 0.2755661446647082, 0.2756124077629479, 0.27570493395942725, 0.27575119705766693, 0.2759825125488654, 0.2760287756471051, 0.27621382804006384, 0.2762600911383035, 0.27695403761189885, 0.27695403761189885, 0.27716222155397746, 0.27720848465221715, 0.2780643519696514, 0.2780643519696514, 0.27843445675556894, 0.2784807198538086, 0.2785501145011681, 0.2785963775994078, 0.2790590085818047, 0.2791052716800444, 0.27949850801508175, 0.27949850801508175, 0.27954477111332143, 0.279614165760681, 0.2801461913904374, 0.2802387175869168, 0.28026184913603663, 0.2803081122342763, 0.2808170063149129, 0.2808401378640328, 0.28146468969026855, 0.2815340843376281, 0.2820892415165044, 0.28213550461474407, 0.28218176771298376, 0.28222803081122344, 0.28276005644097985, 0.2828294510883394, 0.2828757141865791, 0.2831301612268974, 0.28317642432513707, 0.28324581897249657, 0.28329208207073625, 0.2833846082672157, 0.2834540029145752, 0.2839166338969721, 0.28396289699521177, 0.28442552797760867, 0.28449492262496817, 0.28454118572320786, 0.2845874488214476, 0.2846105803705674, 0.2846568434688071, 0.2847031065670468, 0.28474936966528647, 0.2854895792371215, 0.28555897388448104, 0.2859290786703986, 0.2859290786703986, 0.286461104300155, 0.28650736739839466, 0.28803404964030443, 0.2881265758367838, 0.2887511276630196, 0.2887511276630196, 0.2891212324489371, 0.2891674955471768, 0.2893988110383752, 0.29131872961532235, 0.29136499271356203, 0.2914343873609216, 0.2914806504591613, 0.29303046425019086, 0.29303046425019086, 0.29335430593786865, 0.29340056903610834, 0.2952048298674562, 0.2952510929656959, 0.2956674608498531, 0.2957137239480928, 0.2959913025375309, 0.2960375656357706, 0.2960606971848905, 0.29610696028313016, 0.29663898591288657, 0.29668524901112625, 0.29698595914968423, 0.2970322222479239, 0.2972404061900025, 0.2972866692882422, 0.2975411163285605, 0.2975873794268002, 0.29807314195831697, 0.29811940505655665, 0.29869769378455274, 0.2987439568827924, 0.2987439568827924, 0.2988364830792718, 0.2988364830792718, 0.29918345631606946, 0.2992297194143092, 0.2993453771599084, 0.2993916402581481, 0.2997154819458259, 0.2997154819458259, 0.29990053433878466, 0.29999306053526403, 0.3003862968703014, 0.3004788230667808, 0.3023987416437279, 0.30246813629108743, 0.3033240036085217, 0.30337026670676137, 0.30353218755060024, 0.3035553190997201, 0.30362471374707967, 0.30367097684531935, 0.3060535264046633, 0.306099789502903, 0.3066780782308991, 0.30672434132913884, 0.306839999074738, 0.3068862621729777, 0.30771899794129215, 0.30776526103953183, 0.30855173370960653, 0.3085979968078462, 0.3091300224376026, 0.3091300224376026, 0.30926881173232174, 0.3093150748305614, 0.30959265341999953, 0.3096389165182392, 0.3106335731303925, 0.3106798362286322, 0.31125812495662836, 0.31125812495662836, 0.31202146607758324, 0.3120677291758229, 0.3122759131179015, 0.31232217621614117, 0.3126691494529389, 0.3127154125511786, 0.31412643704748905, 0.31417270014572873, 0.31442714718604703, 0.3144734102842867, 0.31463533112812564, 0.31463533112812564, 0.31479725197196456, 0.31484351507020425, 0.3152367514052416, 0.31530614605260116, 0.31537554069996065, 0.31542180379820034, 0.31567625083851863, 0.3157225139367583, 0.3161157502717957, 0.3161157502717957, 0.3166940389997918, 0.3167403020980315, 0.3172723277277879, 0.31731859082602765, 0.3174805116698665, 0.3174805116698665, 0.31805880039786266, 0.31810506349610235, 0.3184057736346603, 0.3184520367329, 0.3184982998311397, 0.3185445629293794, 0.3189609308135366, 0.3189840623626564, 0.31981679813097086, 0.31986306122921054, 0.31993245587657004, 0.31993245587657004, 0.3205107446045662, 0.3205570077028059, 0.32097337558696304, 0.3210427702343226, 0.3217135851587981, 0.3217598482570378, 0.321875506002637, 0.32192176910087666, 0.3220142952973561, 0.3220605583955958, 0.3225000578288728, 0.3225000578288728, 0.3225463209271125, 0.3225463209271125, 0.32370289838310473, 0.3237491614813444, 0.32377229303046423, 0.3238185561287039, 0.3238648192269436, 0.32391108232518334, 0.3240498716199024, 0.3240498716199024, 0.3243737133075802, 0.3244199764058199, 0.32476694964261754, 0.3248132127408573, 0.3250445282320557, 0.3250445282320557, 0.32520644907589463, 0.3252527121741343, 0.32622423723716776, 0.32622423723716776, 0.3265480789248456, 0.326640605121325, 0.32798223497027595, 0.32802849806851564, 0.3286299183456316, 0.3286761814438713, 0.3288381022877102, 0.3289306284841896, 0.32920820707362775, 0.32923133862274756, 0.32925447017186743, 0.3293007332701071, 0.3293932594665865, 0.32948578566306586, 0.3312206518470542, 0.33126691494529387, 0.33228470310656705, 0.33233096620480673, 0.3323540977539266, 0.3323540977539266, 0.33378825379935695, 0.33378825379935695, 0.3343896740764729, 0.3344359371747126, 0.3344590687238324, 0.33450533182207215, 0.33455159492031183, 0.33455159492031183, 0.3348523050588698, 0.3348985681571095, 0.33499109435358887, 0.3350142259027087, 0.33529180449214685, 0.33533806759038653, 0.33556938308158496, 0.33561564617982464, 0.33661030279197796, 0.33665656589021764, 0.33707293377437486, 0.33711919687261455, 0.33783627489532975, 0.33790566954268925, 0.3384376951724457, 0.3384376951724457, 0.33954800953019826, 0.33954800953019826, 0.3396867988249173, 0.3396867988249173, 0.33991811431611574, 0.3399643774143554, 0.34017256135643403, 0.34017256135643403, 0.3402188244546737, 0.3402882191020333, 0.3405195345932317, 0.3405657976914714, 0.3420230852860216, 0.3420693483842613, 0.34230066387545977, 0.34230066387545977, 0.3429946103490551, 0.3430640049964146, 0.34317966274201384, 0.3432953204876131, 0.3444750294927251, 0.3445212925909648, 0.3450533182207212, 0.34509958131896096, 0.34514584441720064, 0.34516897596632046, 0.3458629224399158, 0.3459091855381555, 0.3464874742661516, 0.3464874742661516, 0.34651060581527143, 0.3465568689135111, 0.346580000462631, 0.34671878975735004, 0.3472970784853462, 0.347320210034466, 0.3474127362309454, 0.3474127362309454, 0.34750526242742474, 0.34750526242742474, 0.34817607735190026, 0.34822234045013994, 0.34880062917813603, 0.34880062917813603, 0.34914760241493376, 0.3492863917096528, 0.3493557863570123, 0.349402049455252, 0.3494945756517314, 0.3495639702990909, 0.34967962804469016, 0.3497952857902894, 0.3498415488885291, 0.34988781198676877, 0.3500959959288474, 0.3500959959288474, 0.3510906525410007, 0.3510906525410007, 0.35150702042515786, 0.35155328352339754, 0.35171520436723647, 0.35176146746547615, 0.3521315722513937, 0.3521315722513937, 0.3523166246443524, 0.3523397561934723, 0.3537507806897828, 0.3537507806897828, 0.35402835927922094, 0.3540746223774606, 0.3541208854757003, 0.35416714857394, 0.35504614744049406, 0.3550924105387338, 0.3550924105387338, 0.3559714094052879, 0.35601767250352756, 0.35654969813328397, 0.35654969813328397, 0.3566190927806435, 0.3566653558788832, 0.35703546066480074, 0.35703546066480074, 0.35710485531216024, 0.35710485531216024, 0.3576600124910365, 0.3577062755892762, 0.35798385417871437, 0.35803011727695405, 0.35814577502255324, 0.358192038120793, 0.3582151696699128, 0.35823830121903266, 0.3586546691031898, 0.3587009322014295, 0.3589091161435081, 0.3589553792417478, 0.3599500358539011, 0.3601350882468599, 0.36032014063981865, 0.36034327218893847, 0.3611297448590132, 0.3611297448590132, 0.361453586546691, 0.3615229811940506, 0.36212440147116653, 0.36214753302028635, 0.3622400592167657, 0.3622400592167657, 0.3624251116097245, 0.3625407693553237, 0.36256390090444357, 0.36261016400268326, 0.3626795586500428, 0.3627489532974023, 0.36281834794476187, 0.3628414794938817, 0.36365108371307625, 0.36369734681131594, 0.36464574032522956, 0.36466887187434943, 0.36494645046378754, 0.36494645046378754, 0.3659642386250607, 0.3659642386250607, 0.3660567648215401, 0.3661030279197798, 0.36617242256713933, 0.36617242256713933, 0.3665887904512965, 0.36663505354953624, 0.3667738428442553, 0.366820105942495, 0.3672827369248919, 0.36732900002313157, 0.36749092086697044, 0.36749092086697044, 0.3683467881844047, 0.3683467881844047, 0.36892507691240084, 0.3689713400106405, 0.36943397099303743, 0.3694802340912771, 0.3695958918368763, 0.369642154935116, 0.37042862760519074, 0.3704748907034304, 0.3707756008419884, 0.3708218639402281, 0.37128449492262494, 0.3713538895699845, 0.3716083366103028, 0.3716083366103028, 0.37163146815942266, 0.37163146815942266, 0.37193217829798064, 0.3719784413962203, 0.37216349378917907, 0.37220975688741875, 0.37246420392773705, 0.37251046702597673, 0.37267238786981566, 0.3726955194189355, 0.3730193611066133, 0.3731118873030927, 0.37320441349957206, 0.37325067659781175, 0.373805833776688, 0.373805833776688, 0.374407254053804, 0.37443038560292385, 0.3747773588397215, 0.374846753487081, 0.37505493742915963, 0.37505493742915963, 0.3753093844694779, 0.3753556475677176, 0.3754019106659573, 0.37547130531331685, 0.3755638315097962, 0.3756100946080359, 0.37621151488515187, 0.37625777798339155, 0.3766510143184289, 0.3766510143184289, 0.3768129351622678, 0.3768591982605075, 0.37729869769378455, 0.37729869769378455, 0.3774143554393838, 0.3774143554393838, 0.37803890726561956, 0.37803890726561956, 0.3787791168374546, 0.3788253799356943, 0.37901043232865306, 0.37903356387777287, 0.3791492216233721, 0.3791954847216118, 0.37926487936897135, 0.37926487936897135, 0.37931114246721104, 0.3793574055654507, 0.3800282204899262, 0.3800282204899262, 0.3803751937267239, 0.3803751937267239, 0.3806990354144017, 0.3807452985126414, 0.3825032962457496, 0.38254955934398926, 0.3827114801878282, 0.3827577432860679, 0.3846545303138951, 0.3846545303138951, 0.3847239249612547, 0.38477018805949437, 0.386019291711966, 0.38606555481020566, 0.3869676852258796, 0.3869676852258796, 0.3880317364853924, 0.3880317364853924, 0.3880779995836321, 0.3881242626818718, 0.3882630519765909, 0.3883093150748306, 0.3895352871781823, 0.3895584187273022, 0.389581550276422, 0.389581550276422, 0.3896278133746617, 0.38967407647290137, 0.3905993384376952, 0.39069186463417455, 0.39117762716569127, 0.39122389026393095, 0.39189470518840647, 0.39194096828664615, 0.3921028891304851, 0.3921722837778446, 0.3922185468760843, 0.392264809974324, 0.3923573361708034, 0.3923573361708034, 0.3930512826443987, 0.3930975457426384, 0.3935833082741551, 0.3935833082741551, 0.39374522911799403, 0.39374522911799403, 0.3938377553144734, 0.3938840184127131, 0.3939302815109528, 0.39397654460919246, 0.39446230714070923, 0.3945085702389489, 0.3948092803775069, 0.3948555434757466, 0.3961509102264579, 0.39619717332469756, 0.3968911197982929, 0.3969373828965326, 0.39707617219125163, 0.397168698387731, 0.3976081978210081, 0.3976544609192478, 0.3976775924683676, 0.3977238555666073, 0.39777011866484696, 0.39777011866484696, 0.39827901274548355, 0.3983715389419629, 0.39853345978580185, 0.3986028544331614, 0.39957437949619484, 0.39957437949619484, 0.39975943188915364, 0.3998056949873933, 0.3999444842821124, 0.39999074738035206, 0.40003701047859175, 0.40008327357683143, 0.40054590455922834, 0.40054590455922834, 0.40075408850130695, 0.40075408850130695, 0.4009160093451458, 0.4009160093451458, 0.4009854039925054, 0.40103166709074506, 0.4011473248363443, 0.401193587934584, 0.40126298258194354, 0.4013092456801832, 0.4033910851009692, 0.4034373481992089, 0.4036455321412875, 0.4036917952395272, 0.40461705720432095, 0.40461705720432095, 0.4051953459323171, 0.4051953459323171, 0.4052184774814369, 0.4052184774814369, 0.4069533436654253, 0.406999606763665, 0.40709213296014435, 0.40713839605838403, 0.40716152760750385, 0.4072540538039833, 0.40730031690222296, 0.40730031690222296, 0.4083181050634961, 0.40836436816173577, 0.40854942055469456, 0.40859568365293425, 0.4088269991441327, 0.40887326224237236, 0.4093127616756494, 0.4093127616756494, 0.40942841942124863, 0.40942841942124863, 0.40968286646156693, 0.4097291295598066, 0.4097522611089265, 0.40979852420716617, 0.41042307603340195, 0.4104924706807615, 0.4107931808193195, 0.41083944391755917, 0.4109782332122782, 0.4110244963105179, 0.4112326802525965, 0.4112789433508362, 0.41146399574379494, 0.4115333903911545, 0.4115796534893942, 0.4116953112349934, 0.41171844278411324, 0.41185723207883235, 0.41190349517707203, 0.41268996784714673, 0.4127362309453864, 0.41384654530313897, 0.41389280840137865, 0.41467928107145335, 0.41472554416969304, 0.41551201683976774, 0.4155582799380074, 0.41694617288519814, 0.41694617288519814, 0.4181721449885499, 0.41821840808678956, 0.4189123545603849, 0.4189586176586246, 0.4193749855427818, 0.4193749855427818, 0.4196294325831001, 0.4196294325831001, 0.4196756956813398, 0.419791353426939, 0.4198376165251787, 0.420092063565497, 0.4201383266637367, 0.4201614582128565, 0.4202077213110962, 0.42023085286021605, 0.42027711595845574, 0.420392773704055, 0.420392773704055, 0.4214105618653281, 0.4214568249635678, 0.42152621961092734, 0.42157248270916703, 0.4216418773565266, 0.42168814045476627, 0.42219703453540286, 0.42224329763364254, 0.4223820869283616, 0.4223820869283616, 0.4231454280493165, 0.42319169114755617, 0.423654322129953, 0.423654322129953, 0.4236774536790729, 0.4236774536790729, 0.42381624297379195, 0.42386250607203163, 0.423955032268511, 0.4240012953667507, 0.4247183733894659, 0.42476463648770557, 0.42580555619809857, 0.42585181929633825, 0.4268464759084916, 0.4268464759084916, 0.42712405449792973, 0.42712405449792973, 0.42758668548032663, 0.427679211676806, 0.428419421248641, 0.4284425527977609, 0.42987670884319124, 0.4299229719414309, 0.43003862968703016, 0.43003862968703016, 0.43006176123615, 0.43010802433438966, 0.4302236820799889, 0.43031620827646827, 0.43087136545534455, 0.43087136545534455, 0.43133399643774145, 0.43138025953598114, 0.4320279429113368, 0.43207420600957647, 0.4322592584025352, 0.4323055215007749, 0.43242117924637413, 0.4324674423446138, 0.4324674423446138, 0.43265249473757256, 0.43265249473757256, 0.43283754713053135, 0.43288381022877104, 0.4329763364252504, 0.4330225995234901, 0.43336957276028776, 0.43336957276028776, 0.43415604543036246, 0.43420230852860214, 0.434225440077722, 0.4342717031759617, 0.4347343341583586, 0.4347343341583586, 0.43487312345307766, 0.43487312345307766, 0.4367930420300247, 0.43683930512826447, 0.4371168837177026, 0.43716314681594226, 0.43746385695450024, 0.4375101200527399, 0.4376026462492193, 0.4376026462492193, 0.437648909347459, 0.437648909347459, 0.4377645670930582, 0.4378108301912979, 0.43813467187897576, 0.43820406652633526, 0.43850477666489324, 0.43850477666489324, 0.4398695380629641, 0.4398695380629641, 0.43993893271032364, 0.43993893271032364, 0.4405866160856793, 0.44063287918391897, 0.4413268256575143, 0.441373088755754, 0.4416044042469524, 0.4416044042469524, 0.4423908769170271, 0.44243714001526685, 0.4426684555064653, 0.44271471860470496, 0.4427841132520645, 0.4427841132520645, 0.443894427609817, 0.4439406907080567, 0.4440794800027758, 0.4440794800027758, 0.4442414008466147, 0.44426453239573455, 0.4446346371816521, 0.4446346371816521, 0.4447040318290116, 0.44477342647637114, 0.44525918900788786, 0.44525918900788786, 0.4453285836552474, 0.4454211098517268, 0.4456524253429252, 0.4456986884411649, 0.4474335546251533, 0.44747981772339296, 0.44805810645138905, 0.44805810645138905, 0.448659526728505, 0.4487057898267447, 0.44882144757234393, 0.44882144757234393, 0.4490064999653027, 0.44905276306354236, 0.44907589461266223, 0.4491221577109019, 0.4496773148897782, 0.4497235779880179, 0.45027873516689415, 0.45032499826513384, 0.4509726816404895, 0.4509726816404895, 0.4511808655825681, 0.45127339177904746, 0.4516203650158451, 0.4516203650158451, 0.4516666281140848, 0.4517360227614443, 0.45236057458768014, 0.45236057458768014, 0.4524068376859198, 0.4526612847262381, 0.4527538109227175, 0.45360967824015175, 0.45365594133839143, 0.45407230922254865, 0.45411857232078834, 0.4552751497767806, 0.4552982813259004, 0.4557840438574171, 0.4557840438574171, 0.4559922277994957, 0.4559922277994957, 0.4561772801924545, 0.4562235432906942, 0.45638546413453307, 0.45638546413453307, 0.4564779903310125, 0.4565242534292522, 0.45710254215724827, 0.45710254215724827, 0.4590687238324351, 0.4591381184797946, 0.4600865119937082, 0.4600865119937082, 0.46020216973930744, 0.46020216973930744, 0.4602946959357868, 0.4603409590340265, 0.4608035900164234, 0.4608035900164234, 0.4615206680391386, 0.4615206680391386, 0.46165945733385766, 0.46170572043209734, 0.46221461451273393, 0.46221461451273393, 0.46244593000393236, 0.46244593000393236, 0.46270037704425065, 0.46274664014249034, 0.46346371816520554, 0.46346371816520554, 0.4636025074599246, 0.4636487705581643, 0.46378755985288334, 0.46378755985288334, 0.46450463787559854, 0.4645509009738382, 0.4646434271703176, 0.4646896902685573, 0.46492100575975576, 0.46496726885799544, 0.4656843468807106, 0.4656843468807106, 0.46626263560870673, 0.46626263560870673, 0.46704910827878143, 0.4670953713770211, 0.467118502926141, 0.4671647660243807, 0.46751173926117834, 0.46751173926117834, 0.4679743702435752, 0.46802063334181493, 0.46809002798917443, 0.46809002798917443, 0.46901528995396824, 0.46901528995396824, 0.4694085262890056, 0.4694316578381254, 0.46970923642756357, 0.46975549952580326, 0.46987115727140244, 0.4699174203696422, 0.47000994656612155, 0.47000994656612155, 0.47003307811524137, 0.47012560431172074, 0.4711433924729939, 0.4711896555712336, 0.47162915500451064, 0.47162915500451064, 0.47229996992898615, 0.47229996992898615, 0.47267007471490363, 0.4727163378131434, 0.4729245217552219, 0.4729707848534616, 0.47301704795170135, 0.47306331104994104, 0.47387291526913555, 0.47387291526913555, 0.4745668617427309, 0.4746131248409706, 0.4748213087830492, 0.4748213087830492, 0.47489070343040873, 0.4749369665286484, 0.47533020286368577, 0.47537646596192545, 0.47542272906016514, 0.4754689921584048, 0.4760010177881613, 0.47604728088640097, 0.476486780319678, 0.4765330434179177, 0.4774814369318313, 0.47755083157919087, 0.47764335777567024, 0.4777127524230298, 0.4782447780527862, 0.4782447780527862, 0.4788230667807823, 0.47889246142814185, 0.4797020656473364, 0.4797483287455761, 0.4798408549420555, 0.47988711804029516, 0.4800027757858944, 0.4800027757858944, 0.4811130901436469, 0.4811130901436469, 0.4814138002822049, 0.4814600633804446, 0.4817607735190026, 0.4817607735190026, 0.4825703777381971, 0.4826166408364368, 0.48268603548379635, 0.48268603548379635, 0.48342624505563137, 0.48347250815387105, 0.48365756054682985, 0.48365756054682985, 0.4845828225116236, 0.4845828225116236, 0.48460595406074347, 0.48460595406074347, 0.48502232194490064, 0.48502232194490064, 0.4850454534940205, 0.4850454534940205, 0.48569313686937615, 0.48569313686937615, 0.48597071545881426, 0.48597071545881426, 0.4860401101061738, 0.4860863732044135, 0.4863176886956119, 0.4863176886956119, 0.4865490041868104, 0.4865952672850501, 0.48756679234808353, 0.4876593185445629, 0.48826073882167886, 0.4883070019199186, 0.48856144896023684, 0.48860771205847653, 0.48872336980407577, 0.48876963290231545, 0.48907034304087343, 0.48907034304087343, 0.4894635793759108, 0.48950984247415047, 0.4897180264162291, 0.4897180264162291, 0.4899724734565474, 0.49001873655478706, 0.4914066295019777, 0.49145289260021746, 0.4918461289352548, 0.4918923920334945, 0.491961786680854, 0.4920080497790937, 0.4924244176632509, 0.49249381231061046, 0.49304896948948673, 0.49304896948948673, 0.49355786357012327, 0.49355786357012327, 0.49358099511924314, 0.49358099511924314, 0.49383544215956143, 0.4939279683560408, 0.49411302074899954, 0.49415928384723923, 0.49436746778931784, 0.4944137308875575, 0.4944368624366774, 0.4944831255349171, 0.49457565173139645, 0.49457565173139645, 0.494645046378756, 0.4946913094769957, 0.49510767736115285, 0.49510767736115285, 0.4952695982049918, 0.4952695982049918, 0.49554717679442994, 0.49559343989266963, 0.4961948601697856, 0.4961948601697856, 0.49628738636626496, 0.49633364946450464, 0.4964493072101039, 0.4965187018574634, 0.49716638523281903, 0.49716638523281903, 0.4972589114292984, 0.49732830607665796, 0.4974208322731373, 0.4974902269204969, 0.497767805509935, 0.4978140686081747, 0.49887811986768754, 0.49887811986768754, 0.4990169091624066, 0.4990631722606463, 0.4999421711272004, 0.4999653026763202, 0.5005667229534362, 0.5006129860516759, 0.5006592491499156, 0.5007055122481553, 0.5009136961902338, 0.5009136961902338, 0.5009830908375934, 0.501029353935833, 0.5011681432305521, 0.5012144063287919, 0.5019546159006268, 0.5020008789988666, 0.5030880618074992, 0.5030880618074992, 0.503573824339016, 0.5036200874372557, 0.5038282713793343, 0.5038745344775739, 0.5039670606740534, 0.504013323772293, 0.5042677708126113, 0.5043140339108511, 0.5051236381300456, 0.5051236381300456, 0.5052161643265249, 0.5057250584071615, 0.5057713215054012, 0.5058175846036409, 0.5058175846036409, 0.5060489000948394, 0.506095163193079, 0.5068353727649141, 0.5068816358631537, 0.507598713885869, 0.5076449769841086, 0.5076449769841086, 0.508639633596262, 0.5086858966945016, 0.5091485276768986, 0.5091947907751382, 0.5110221831556059, 0.5110915778029654, 0.5113922879415235, 0.5113922879415235, 0.511461682588883, 0.511461682588883, 0.5125951284957554, 0.512641391593995, 0.5128495755360737, 0.5128958386343133, 0.5131502856746316, 0.5131965487728714, 0.515185861997178, 0.5152321250954176, 0.515324651291897, 0.5153709143901367, 0.5154171774883763, 0.5154171774883763, 0.5155097036848558, 0.5155097036848558, 0.5155559667830955, 0.5155790983322153, 0.5155790983322153, 0.5160417293146122, 0.5160417293146122, 0.5161342555110916, 0.5161805186093312, 0.5164349656496495, 0.5164812287478893, 0.5175915431056418, 0.5176378062038814, 0.5181235687353982, 0.5181235687353982, 0.5182623580301173, 0.5182623580301173, 0.5183548842265967, 0.5184936735213157, 0.5185399366195554, 0.5188406467581134, 0.5188406467581134, 0.5189794360528325, 0.5193264092896301, 0.5199509611158659, 0.5199509611158659, 0.5202979343526636, 0.5202979343526636, 0.5204829867456223, 0.5204829867456223, 0.5207143022368208, 0.5207605653350605, 0.5210844070227383, 0.521130670120978, 0.5215007749068955, 0.5215007749068955, 0.5216626957507344, 0.5217089588489742, 0.5218477481436932, 0.5218940112419329, 0.5221021951840115, 0.5221021951840115, 0.5221947213804908, 0.5223103791260901, 0.5224722999699289, 0.5225185630681687, 0.5229580625014457, 0.5230043255996855, 0.5230737202470449, 0.5231199833452846, 0.5237445351715204, 0.5237445351715204, 0.5250630334713515, 0.5251092965695913, 0.5251324281187111, 0.5251786912169508, 0.525733848395827, 0.525733848395827, 0.5258726376905462, 0.5258726376905462, 0.5259882954361453, 0.5259882954361453, 0.5261733478291041, 0.526196479378224, 0.5264509264185423, 0.5264971895167819, 0.5265434526150217, 0.5265897157132613, 0.5267285050079804, 0.5267285050079804, 0.5267516365571002, 0.5267516365571002, 0.52677476810622, 0.52677476810622, 0.5274687145798154, 0.5275149776780551, 0.5280932664060513, 0.5281395295042909, 0.5289028706252458, 0.5289491337234855, 0.5298975272373991, 0.5298975272373991, 0.529920658786519, 0.5299669218847586, 0.5302445004741968, 0.5306377368092341, 0.5309153153986722, 0.530961578496912, 0.5311003677916311, 0.5311466308898707, 0.5322338136985034, 0.532303208345863, 0.5326270500335407, 0.5326733131317805, 0.5332284703106567, 0.5332978649580162, 0.5336448381948139, 0.5336448381948139, 0.5337604959404131, 0.5337604959404131, 0.533783627489533, 0.5338298905877726, 0.5346857579052069, 0.5346857579052069, 0.5348708102981656, 0.5348708102981656, 0.534963336494645, 0.5350095995928847, 0.5353103097314427, 0.5353565728296824, 0.5361430454997571, 0.5361430454997571, 0.5366750711295135, 0.5366750711295135, 0.5367213342277533, 0.5367213342277533, 0.5367444657768731, 0.5367444657768731, 0.5369295181698318, 0.5369757812680716, 0.5372996229557494, 0.5372996229557494, 0.5377391223890264, 0.5377853854872661, 0.5379241747819852, 0.5379241747819852, 0.5379935694293447, 0.5379935694293447, 0.5385024635099812, 0.5385024635099812, 0.5387569105502995, 0.5387569105502995, 0.5393120677291758, 0.5393583308274155, 0.5399134880062918, 0.5399597511045314, 0.5406305660290069, 0.5406305660290069, 0.5410238023640443, 0.541070065462284, 0.5411394601096435, 0.5411394601096435, 0.5412319863061229, 0.5412782494043626, 0.5418796696814786, 0.5418796696814786, 0.5422729060165159, 0.5423191691147556, 0.5425967477041937, 0.5426430108024335, 0.5427818000971525, 0.5427818000971525, 0.542851194744512, 0.542851194744512, 0.5432444310795495, 0.5432444310795495, 0.5439152460040249, 0.5439152460040249, 0.5441696930443432, 0.5442159561425829, 0.5442853507899424, 0.5443316138881821, 0.5444241400846614, 0.5445629293793806, 0.5452800074020957, 0.5453262705003354, 0.5465059795054474, 0.5465522426036872, 0.5466679003492864, 0.5467141634475261, 0.5478476093543985, 0.5478938724526381, 0.5486109504753534, 0.548657213573593, 0.5496750017348662, 0.5496750017348662, 0.5511091577802966, 0.5511091577802966, 0.5514329994679744, 0.551479262566214, 0.5516180518609332, 0.5516180518609332, 0.5527514977678055, 0.5527514977678055, 0.5539543383220374, 0.5540931276167564, 0.5542087853623557, 0.5542550484605954, 0.5542781800097153, 0.5543013115588351, 0.5549721264833106, 0.5550183895815503, 0.5553422312692281, 0.5553422312692281, 0.5553884943674678, 0.5564294140778608, 0.5564294140778608, 0.5566144664708196, 0.5566144664708196, 0.5566838611181791, 0.5567301242164188, 0.5573546760426545, 0.5573546760426545, 0.5573778075917745, 0.5574240706900141, 0.5575165968864935, 0.5575165968864935, 0.5580948856144896, 0.5581411487127292, 0.5582799380074484, 0.5583262011056881, 0.5584187273021675, 0.5584187273021675, 0.5591820684231223, 0.5591820684231223, 0.5592514630704818, 0.5592514630704818, 0.559667830954639, 0.559667830954639, 0.5607318822141519, 0.5607318822141519, 0.562050380513983, 0.5620966436122227, 0.5624667483981403, 0.5624667483981403, 0.5625130114963799, 0.5627443269875784, 0.562790590085818, 0.5628599847331776, 0.5629062478314173, 0.563091300224376, 0.563091300224376, 0.5634845365594133, 0.5634845365594133, 0.5636695889523722, 0.5636695889523722, 0.5640396937382897, 0.5640396937382897, 0.5645023247206865, 0.5645485878189263, 0.5647105086627652, 0.5647567717610048, 0.5648724295066041, 0.5649649557030835, 0.5651500080960422, 0.5651500080960422, 0.5653581920381208, 0.5653581920381208, 0.5654738497837201, 0.5655201128819597, 0.5658208230205177, 0.5658208230205177, 0.5658670861187574, 0.5659133492169971, 0.5661677962573154, 0.566214059355555, 0.5664453748467535, 0.5664916379449931, 0.5671393213203488, 0.5671855844185885, 0.5671855844185885, 0.5673475052624274, 0.5673937683606671, 0.568295898776341, 0.568295898776341, 0.5688279244060975, 0.5689204506025769, 0.5691748976428952, 0.5692211607411348, 0.5694293446832135, 0.5694293446832135, 0.5696837917235317, 0.5696837917235317, 0.5702620804515278, 0.5703083435497676, 0.5705627905900859, 0.5706090536883255, 0.5714880525548796, 0.5714880525548796, 0.5715574472022391, 0.5715574472022391, 0.571881288889917, 0.571881288889917, 0.5719044204390368, 0.5719044204390368, 0.5719738150863963, 0.5720200781846361, 0.5720663412828757, 0.5721126043811154, 0.5723901829705536, 0.5723901829705536, 0.5734311026809465, 0.5734311026809465, 0.5734773657791862, 0.5734773657791862, 0.574263838449261, 0.574263838449261, 0.5778492285628368, 0.5778492285628368, 0.5779186232101964, 0.5779417547593162, 0.5779648863084361, 0.5779648863084361, 0.5779880178575559, 0.5780111494066758, 0.5780342809557956, 0.5780342809557956, 0.5789826744697092, 0.5789826744697092, 0.5791214637644283, 0.5791908584117879, 0.5795609631977053, 0.5796072262959451, 0.5810876454396151, 0.5811339085378547, 0.5821979597973677, 0.5821979597973677, 0.5822210913464875, 0.5822210913464875, 0.5834239319007194, 0.5834239319007194, 0.5844417200619926, 0.5844417200619926, 0.5848118248479101, 0.5848580879461498, 0.5856908237144641, 0.5857370868127039, 0.5865929541301381, 0.5866392172283778, 0.5867086118757373, 0.5867086118757373, 0.586754874973977, 0.586754874973977, 0.5886285304526844, 0.5886747935509241, 0.5888829774930027, 0.5888829774930027, 0.5896694501630774, 0.5897388448104369, 0.5900626864981148, 0.5901089495963545, 0.5904327912840323, 0.5904327912840323, 0.590617843676991, 0.5906872383243505, 0.5908260276190697, 0.5908260276190697, 0.591959473525942, 0.591959473525942, 0.5926302884504175, 0.5926765515486572, 0.5927459461960167, 0.5927922092942565, 0.5930697878836946, 0.5931160509819342, 0.5933011033748931, 0.5933011033748931, 0.593463024218732, 0.5935092873169716, 0.593601813513451, 0.593601813513451, 0.594342023085286, 0.594342023085286, 0.594503943929125, 0.594503943929125, 0.5946889963220837, 0.5947352594203233, 0.5947352594203233, 0.5950359695588814, 0.595082232657121, 0.5953366796974393, 0.5953366796974393, 0.595544863639518, 0.595544863639518, 0.5963082047604729, 0.5963544678587125, 0.5968864934884689, 0.5969327565867086, 0.5970484143323078, 0.5970484143323078, 0.5972565982743865, 0.5972565982743865, 0.5974416506673452, 0.5974416506673452, 0.5979736762971016, 0.5980199393953413, 0.5985288334759779, 0.5985288334759779, 0.5985519650250978, 0.5985982281233374, 0.5988295436145359, 0.5988295436145359, 0.5990608591057343, 0.599107122203974, 0.5992227799495732, 0.5992227799495732, 0.5996391478337304, 0.5996854109319701, 0.5997548055793297, 0.5998010686775693, 0.6003562258564457, 0.6003562258564457, 0.6018366450001157, 0.6018366450001157, 0.6020448289421942, 0.602091092040434, 0.6025999861210706, 0.60266938076843, 0.602970090906988, 0.602970090906988, 0.6031551432999468, 0.6032245379473063, 0.6040572737156208, 0.6040572737156208, 0.60417293146122, 0.60417293146122, 0.6044273785015383, 0.6044273785015383, 0.6047743517383359, 0.6047743517383359, 0.6048900094839351, 0.6049362725821749, 0.6053295089172122, 0.6053757720154519, 0.6060697184890472, 0.6060697184890472, 0.606092850038167, 0.6062316393328862, 0.6062316393328862, 0.6064398232749647, 0.6064860863732044, 0.6065092179223243, 0.6065092179223243, 0.6067174018644028, 0.6067636649626426, 0.6068099280608822, 0.6068099280608822, 0.6068561911591219, 0.6068561911591219, 0.6075038745344776, 0.6075038745344776, 0.6084753995975111, 0.6084753995975111, 0.6097707663482224, 0.6097707663482224, 0.6099789502903009, 0.6100252133885407, 0.6102333973306192, 0.6102333973306192, 0.6106728967638962, 0.6106728967638962, 0.6107422914112558, 0.6115287640813305, 0.6115750271795702, 0.6115750271795702, 0.6123846313987648, 0.6124771575952441, 0.6127084730864426, 0.6127084730864426, 0.6131248409705998, 0.6131248409705998, 0.6133330249126784, 0.6133330249126784, 0.6137493927968356, 0.6137493927968356, 0.6140732344845135, 0.6140732344845135, 0.6143276815248317, 0.6143739446230714, 0.6146515232125095, 0.6146515232125095, 0.6148134440563484, 0.6148597071545882, 0.6150216279984271, 0.6150216279984271, 0.6155305220790637, 0.6155767851773033, 0.6162707316508986, 0.6162707316508986, 0.616363257847378, 0.616363257847378, 0.6164789155929773, 0.6165251786912169, 0.6166177048876963, 0.6166177048876963, 0.6167102310841757, 0.6167102310841757, 0.6168952834771345, 0.6169415465753741, 0.6177974138928084, 0.6177974138928084, 0.6178205454419282, 0.6178205454419282, 0.6179130716384076, 0.6179593347366473, 0.6183294395225648, 0.6183294395225648, 0.6195091485276769, 0.6195554116259165, 0.6197635955679952, 0.6198098586662348, 0.6198561217644746, 0.6198561217644746, 0.6203418842959914, 0.6203418842959914, 0.6205500682380699, 0.6205500682380699, 0.621128356966066, 0.621128356966066, 0.6211746200643057, 0.6211746200643057, 0.621267146260785, 0.621267146260785, 0.6222155397746987, 0.6222155397746987, 0.622331197520298, 0.622331197520298, 0.6223543290694178, 0.6223543290694178, 0.622909486248294, 0.622909486248294, 0.623811616663968, 0.623811616663968, 0.6241123268025259, 0.6241123268025259, 0.6244824315884435, 0.6244824315884435, 0.6246443524322823, 0.6246906155305221, 0.6247137470796419, 0.6247600101778816, 0.6247831417270014, 0.6247831417270014, 0.6249219310217206, 0.6249681941199602, 0.6249681941199602, 0.6250607203164396, 0.6250607203164396, 0.6251995096111587, 0.6251995096111587, 0.625453956651477, 0.625453956651477, 0.6255464828479563, 0.6255464828479563, 0.6256621405935555, 0.6256621405935555, 0.6257546667900349, 0.6257546667900349, 0.6261016400268326, 0.6261710346741921, 0.6263792186162708, 0.6264254817145104, 0.6269806388933867, 0.6269806388933867, 0.6271425597372255, 0.6271425597372255, 0.6274432698757836, 0.6274432698757836, 0.6278596377599408, 0.6278596377599408, 0.6281140848002591, 0.6281603478984987, 0.6286692419791353, 0.6287155050773751, 0.6293400569036108, 0.6293400569036108, 0.6293631884527306, 0.6294094515509704, 0.6295945039439291, 0.6295945039439291, 0.6297795563368879, 0.6298258194351276, 0.6301727926719253, 0.6301727926719253, 0.6310055284402396, 0.6310055284402396, 0.631098054636719, 0.631098054636719, 0.6314912909717564, 0.6315375540699961, 0.6322777636418311, 0.6322777636418311, 0.6325553422312692, 0.6326016053295089, 0.6327172630751081, 0.6327172630751081, 0.6327635261733479, 0.6328097892715875, 0.632879183918947, 0.6329254470171868, 0.6333418149013439, 0.6333418149013439, 0.6335499988434226, 0.6335499988434226, 0.6338044458837409, 0.6338044458837409, 0.6350072864379728, 0.6350072864379728, 0.6350998126344521, 0.6350998126344521, 0.6356781013624483, 0.6356781013624483, 0.6357012329115681, 0.6357012329115681, 0.6358168906571673, 0.6358168906571673, 0.6359325484027666, 0.6359788115010062, 0.6368346788184405, 0.6368809419166802, 0.6369272050149198, 0.6369965996622794, 0.637644283037635, 0.6376905461358747, 0.6379218616270732, 0.6379218616270732, 0.6379681247253128, 0.6379681247253128, 0.6382225717656311, 0.6382688348638709, 0.6399343064004996, 0.6399574379496195, 0.6406051213249752, 0.6406051213249752, 0.6411834100529712, 0.6411834100529712, 0.6418542249774467, 0.6419004880756864, 0.6422937244107237, 0.6422937244107237, 0.6423862506072031, 0.6423862506072031, 0.6430801970807986, 0.6431264601790382, 0.6432189863755176, 0.6432189863755176, 0.6432883810228771, 0.6433346441211167, 0.6455784043857418, 0.6455784043857418, 0.64583285142606, 0.64583285142606, 0.6464111401540561, 0.6464111401540561, 0.6465499294487752, 0.6465499294487752, 0.646734981841734, 0.646734981841734, 0.6467812449399736, 0.6468275080382133, 0.6474057967662095, 0.6474520598644491, 0.6475445860609285, 0.6475908491591682, 0.6478684277486063, 0.647914690846846, 0.6480072170433254, 0.648053480141565, 0.6480997432398048, 0.6480997432398048, 0.6488168212625199, 0.6488168212625199, 0.6488630843607597, 0.6488630843607597, 0.6491637944993176, 0.6491637944993176, 0.649695820129074, 0.649695820129074, 0.6499040040711527, 0.6499271356202725, 0.6502047142097106, 0.6502509773079503, 0.6502509773079503, 0.6503897666026693, 0.6503897666026693, 0.6504360297009091, 0.6504360297009091, 0.6513844232148227, 0.6514306863130623, 0.6515694756077814, 0.6516157387060212, 0.6517313964516204, 0.6517313964516204, 0.652078369688418, 0.652078369688418, 0.6530961578496912, 0.6531424209479308, 0.6533043417917698, 0.6533506048900095, 0.6534662626356087, 0.6534662626356087, 0.6541139460109644, 0.6541139460109644, 0.654160209109204, 0.6542064722074438, 0.6546922347389604, 0.6549235502301589, 0.6551779972704772, 0.6552242603687168, 0.6556406282528741, 0.6556868913511138, 0.655802549096713, 0.655802549096713, 0.6567509426106266, 0.6567972057088663, 0.6575374152807013, 0.6575374152807013, 0.6578149938701395, 0.6578149938701395, 0.6581388355578173, 0.6583007564016562, 0.6583932825981356, 0.6584626772454951, 0.6585783349910943, 0.658624598089334, 0.6587633873840532, 0.6588096504822928, 0.6590872290717309, 0.6590872290717309, 0.65922601836645, 0.65922601836645, 0.6593879392102889, 0.6593879392102889, 0.6594573338576485, 0.6594573338576485, 0.6594804654067683, 0.6594804654067683, 0.659827438643566, 0.659827438643566, 0.6599893594874049, 0.6599893594874049, 0.6600124910365247, 0.6600124910365247, 0.6601281487821239, 0.6601281487821239, 0.6604519904698017, 0.6604519904698017, 0.6605907797645209, 0.6606370428627605, 0.6610071476486781, 0.6610534107469177, 0.6620480673590711, 0.6620480673590711, 0.6630427239712243, 0.6630427239712243, 0.6635978811501007, 0.66369040734658, 0.6639448543868983, 0.663991117485138, 0.6641993014272166, 0.6641993014272166, 0.6642224329763364, 0.6642455645254562, 0.6643612222710555, 0.6643612222710555, 0.6644074853692952, 0.6651476949411302, 0.6651476949411302, 0.6652864842358492, 0.6653096157849692, 0.665332747334089, 0.665332747334089, 0.6667669033795193, 0.6667669033795193, 0.6678772177372718, 0.6678772177372718, 0.6684786380143878, 0.6685249011126275, 0.6691263213897435, 0.6691263213897435, 0.669357636880942, 0.669357636880942, 0.6694501630774213, 0.669496426175661, 0.6699127940598182, 0.6699127940598182, 0.669935925608938, 0.669935925608938, 0.6701903726492563, 0.670236635747496, 0.6704448196895746, 0.6704679512386944, 0.6704910827878143, 0.670537345886054, 0.670537345886054, 0.6706992667298929, 0.6706992667298929, 0.6713932132034882, 0.6713932132034882, 0.6714857393999676, 0.6714857393999676, 0.6720640281279637, 0.6720640281279637, 0.6723416067174018, 0.6723416067174018, 0.6725266591103606, 0.6725729222086003, 0.6727117115033194, 0.6727117115033194, 0.672919895445398, 0.672919895445398, 0.6741689990978695, 0.6742152621961093, 0.6743540514908284, 0.674400314589068, 0.6753718396521015, 0.6753718396521015, 0.675441234299461, 0.6754874973977008, 0.6761583123221763, 0.6761583123221763, 0.6767134695010525, 0.6767134695010525, 0.6773611528764081, 0.6773611528764081, 0.677523073720247, 0.677523073720247, 0.6775462052693669, 0.6775693368184867, 0.6779394416044042, 0.6779394416044042, 0.6781013624482432, 0.6781013624482432, 0.6782864148412019, 0.6782864148412019, 0.6788878351183179, 0.6788878351183179, 0.6789109666674377, 0.6789109666674377, 0.6797899655339918, 0.6798362286322315, 0.6798824917304712, 0.679905623279591, 0.6801600703199093, 0.6802063334181491, 0.6802525965163887, 0.6802525965163887, 0.6809696745391038, 0.6809696745391038, 0.6813629108741412, 0.6813629108741412, 0.6815017001688604, 0.6815479632671, 0.6816867525618191, 0.6817098841109389, 0.6825194883301334, 0.6826120145266128, 0.682889593116051, 0.682889593116051, 0.6831440401563693, 0.6831903032546089, 0.6833522240984479, 0.6833522240984479, 0.6842543545141219, 0.6842543545141219, 0.6848789063403576, 0.6848789063403576, 0.685110221831556, 0.6851564849297958, 0.6855959843630728, 0.6855959843630728, 0.6856885105595522, 0.6856885105595522, 0.6866600356225856, 0.6867062987208253, 0.6868913511137841, 0.6869376142120238, 0.6870995350558627, 0.6870995350558627, 0.6873771136453009, 0.6874233767435405, 0.6874465082926604, 0.6874927713909, 0.6881867178644954, 0.6881867178644954, 0.6882792440609747, 0.6883255071592145, 0.6888575327889709, 0.6888575327889709, 0.6891119798292892, 0.6891119798292892, 0.6892276375748884, 0.6892276375748884, 0.6895283477134464, 0.6895283477134464, 0.6897827947537647, 0.6897827947537647, 0.6898753209502441, 0.6898753209502441, 0.6903148203835211, 0.6903610834817607, 0.6914482662903935, 0.6914482662903935, 0.6922347389604682, 0.6922347389604682, 0.6929055538849437, 0.6929518169831833, 0.6934144479655803, 0.6934144479655803, 0.6935069741620596, 0.6935069741620596, 0.6936688950058986, 0.6937151581041382, 0.6938539473988573, 0.6939002104970969, 0.6939233420462169, 0.6939927366935764, 0.694038999791816, 0.6941315259882954, 0.6944091045777335, 0.6944091045777335, 0.6949179986583701, 0.6949179986583701, 0.6956119451319654, 0.6956119451319654, 0.695681339779325, 0.6957276028775647, 0.6960051814670029, 0.6960051814670029, 0.6962364969582013, 0.6962364969582013, 0.6963290231546807, 0.6963290231546807, 0.6966991279405982, 0.6966991279405982, 0.697763179200111, 0.697763179200111, 0.6977863107492309, 0.6977863107492309, 0.6979482315930697, 0.6979944946913095, 0.6985496518701857, 0.6985496518701857, 0.6988272304596239, 0.6988272304596239, 0.6988734935578635, 0.6989197566561033, 0.6990816774999422, 0.6990816774999422, 0.6995211769332192, 0.6995211769332192, 0.6995443084823391, 0.6995443084823391, 0.6997524924244176, 0.6997524924244176, 0.700747149036571, 0.700747149036571, 0.7019268580416831, 0.7019268580416831, 0.7028752515555967, 0.7029215146538363, 0.7030834354976753, 0.7030834354976753, 0.7034766718327127, 0.7035229349309523, 0.703731118873031, 0.703731118873031, 0.7039855659133493, 0.7040318290115889, 0.7041243552080683, 0.7041243552080683, 0.704772038583424, 0.704772038583424, 0.7050727487219819, 0.7050727487219819, 0.7055122481552589, 0.7055585112534987, 0.7057898267446971, 0.7057898267446971, 0.7060674053341353, 0.7060674053341353, 0.7061367999814948, 0.7061367999814948, 0.7063218523744536, 0.7063218523744536, 0.7063449839235734, 0.7063449839235734, 0.7065531678656519, 0.7065531678656519, 0.7069464042006893, 0.7069464042006893, 0.7073627720848465, 0.7073627720848465, 0.7089819805232357, 0.7089819805232357, 0.7091901644653142, 0.7092595591126738, 0.7100922948809881, 0.710115426430108, 0.7110406883949018, 0.7110869514931415, 0.7112257407878606, 0.7112257407878606, 0.7113645300825796, 0.7113645300825796, 0.7115495824755383, 0.7115495824755383, 0.7116652402211376, 0.7117115033193773, 0.7119428188105758, 0.7119428188105758, 0.7125442390876917, 0.7125442390876917, 0.7131225278156879, 0.7131225278156879, 0.7133538433068862, 0.7133538433068862, 0.7134232379542458, 0.7134695010524855, 0.7136082903472045, 0.7136082903472045, 0.7149036570979158, 0.7149499201961556, 0.7150887094908746, 0.7150887094908746, 0.7151349725891143, 0.7157595244153501, 0.7157595244153501, 0.7158057875135898, 0.7160371030047882, 0.7160602345539081, 0.7166385232819041, 0.7166847863801439, 0.7173324697554996, 0.7173324697554996, 0.7175406536975781, 0.7175406536975781, 0.717864495385256, 0.7179107584834956, 0.7185353103097314, 0.7185353103097314, 0.719044204390368, 0.719044204390368, 0.720085124100761, 0.720085124100761, 0.7207559390252365, 0.7208022021234762, 0.7212185700076335, 0.7212648331058731, 0.7212648331058731, 0.7216812009900303, 0.7216812009900303, 0.7219125164812288, 0.7219125164812288, 0.7219819111285882, 0.7220744373250677, 0.7221669635215471, 0.7221669635215471, 0.7224214105618654, 0.722467673660105, 0.7230459623881011, 0.7230459623881011, 0.723369804075779, 0.723369804075779, 0.7234391987231384, 0.7234391987231384, 0.7236936457634567, 0.7236936457634567, 0.723809303509056, 0.723809303509056, 0.7238555666072957, 0.7238555666072957, 0.7243181975896926, 0.7243181975896926, 0.7243875922370521, 0.7243875922370521, 0.7245263815317712, 0.7245263815317712, 0.7253822488492054, 0.7253822488492054, 0.7257060905368833, 0.7257060905368833, 0.7258217482824825, 0.7258217482824825, 0.726029932224561, 0.726029932224561, 0.7264231685595984, 0.7264231685595984, 0.7266776155999167, 0.7271402465823136, 0.7277879299576693, 0.7277879299576693, 0.7280886400962272, 0.7280886400962272, 0.7284356133330249, 0.7284356133330249, 0.7285050079803844, 0.7285512710786242, 0.7289907705119012, 0.7290370336101408, 0.7295227961416576, 0.7295690592398973, 0.7296615854363767, 0.7297078485346163, 0.7297772431819759, 0.7298235062802156, 0.7298929009275751, 0.7298929009275751, 0.729916032476695, 0.729916032476695, 0.7303092688117323, 0.7303092688117323, 0.7304480581064514, 0.7305405843029308, 0.731535240915084, 0.7315815040133238, 0.7319284772501214, 0.7319747403483611, 0.7321597927413199, 0.7321597927413199, 0.7322291873886794, 0.7322754504869191, 0.7327612130184359, 0.7328074761166755, 0.7333626332955518, 0.7334088963937915, 0.7336170803358701, 0.7336170803358701, 0.7337558696305891, 0.7337558696305891, 0.7344266845550647, 0.7344266845550647, 0.7344729476533043, 0.7344729476533043, 0.7348199208901021, 0.7348199208901021, 0.7350743679304202, 0.7350743679304202, 0.7362309453864125, 0.7362772084846522, 0.7363003400337721, 0.7363003400337721, 0.7363466031320117, 0.7363466031320117, 0.7369711549582475, 0.7369711549582475, 0.7379658115704009, 0.7379658115704009, 0.7379889431195207, 0.7379889431195207, 0.7385209687492771, 0.7385209687492771, 0.738682889593116, 0.738682889593116, 0.7392611783211122, 0.7392611783211122, 0.7393074414193519, 0.7395387569105503, 0.73958502000879, 0.7400013878929472, 0.7400013878929472, 0.740024519442067, 0.7400707825403067, 0.7405565450718234, 0.7405565450718234, 0.740625939719183, 0.7406722028174226, 0.7408572552103815, 0.7408572552103815, 0.7413661492910181, 0.7413661492910181, 0.7415512016839768, 0.7415512016839768, 0.7416437278804562, 0.7416437278804562, 0.7416899909786958, 0.741967569568134, 0.741967569568134, 0.7419907011172538, 0.7419907011172538, 0.7425227267470103, 0.7425227267470103, 0.7426846475908492, 0.7426846475908492, 0.7428003053364484, 0.7428003053364484, 0.7432398047697254, 0.7432398047697254, 0.7434711202609239, 0.7434711202609239, 0.7437255673012422, 0.7437718303994818, 0.7441419351853994, 0.7441419351853994, 0.7446739608151558, 0.7446739608151558, 0.7446970923642756, 0.7447433554625154, 0.7448358816589947, 0.7448358816589947, 0.7458536698202679, 0.7458999329185075, 0.7460618537623465, 0.7461081168605862, 0.7461081168605862, 0.7462469061553052, 0.7462469061553052, 0.7478429830445745, 0.7478892461428142, 0.7489070343040873, 0.7489070343040873, 0.7493234021882446, 0.7493234021882446, 0.7494621914829637, 0.7495315861303231, 0.750294927251278, 0.750294927251278, 0.7508269528810344, 0.7508269528810344, 0.7513821100599107, 0.7513821100599107, 0.751636557100229, 0.751636557100229, 0.7520297934352663, 0.7520297934352663, 0.7521223196317457, 0.7521223196317457, 0.7523305035738244, 0.7523305035738244, 0.7524230297703037, 0.7524692928685434, 0.7527006083597418, 0.7527006083597418, 0.7531863708912586, 0.7531863708912586, 0.7535796072262959, 0.7535796072262959, 0.7542272906016516, 0.7542272906016516, 0.7543660798963706, 0.7544123429946104, 0.7544817376419699, 0.7545280007402095, 0.7552682103120446, 0.7553144734102842, 0.7556383150979621, 0.7556383150979621, 0.7558927621382804, 0.7558927621382804, 0.7559158936874002, 0.7559158936874002, 0.7560546829821193, 0.7560546829821193, 0.7563091300224376, 0.7563091300224376, 0.7565173139645162, 0.7565173139645162, 0.7565404455136361, 0.7565867086118757, 0.7567717610048345, 0.7568180241030742, 0.7572112604381115, 0.7572112604381115, 0.7576507598713886, 0.7576507598713886, 0.7578589438134672, 0.7578589438134672, 0.7581133908537855, 0.7581133908537855, 0.7581365224029053, 0.7581365224029053, 0.7582059170502649, 0.7582059170502649, 0.758321574795864, 0.7583678378941038, 0.758483495639703, 0.758483495639703, 0.7587148111309014, 0.7587148111309014, 0.7594781522518563, 0.759524415350096, 0.7597094677430547, 0.7597094677430547, 0.7598482570377738, 0.7598482570377738, 0.7600101778816127, 0.7600101778816127, 0.7602183618236913, 0.7602183618236913, 0.7604728088640096, 0.7604728088640096, 0.7607041243552081, 0.7607041243552081, 0.7607966505516874, 0.7608429136499272, 0.7612361499849645, 0.7612361499849645, 0.7614212023779232, 0.7614212023779232, 0.7614905970252828, 0.7614905970252828, 0.761606254770882, 0.7616525178691217, 0.7618375702620804, 0.7618375702620804, 0.762508385186556, 0.762508385186556, 0.7626240429321551, 0.7626703060303949, 0.7629247530707132, 0.7629247530707132, 0.763688094191668, 0.7637343572899077, 0.7638037519372672, 0.7638037519372672, 0.763850015035507, 0.7638962781337466, 0.764729013902061, 0.7647752770003007, 0.7649834609423793, 0.7649834609423793, 0.7654229603756564, 0.7654229603756564, 0.7657236705142143, 0.7657236705142143, 0.7663944854386898, 0.7663944854386898, 0.7665795378316486, 0.7665795378316486, 0.7667414586754875, 0.7667414586754875, 0.7668802479702066, 0.7669265110684462, 0.7676204575420416, 0.7676204575420416, 0.7678055099350003, 0.7678055099350003, 0.7679442992297194, 0.7679674307788392, 0.7680368254261988, 0.7680830885244385, 0.7681987462700377, 0.7681987462700377, 0.7685688510559552, 0.7685688510559552, 0.7688232980962735, 0.7688232980962735, 0.7691934028821911, 0.7691934028821911, 0.7694478499225094, 0.7694478499225094, 0.769494113020749, 0.7702805856908237, 0.7703268487890634, 0.7706506904767412, 0.7706969535749809, 0.7707894797714603, 0.7707894797714603, 0.7709282690661794, 0.7709282690661794, 0.771136453008258, 0.771136453008258, 0.7716222155397747, 0.7716222155397747, 0.7719460572274526, 0.7719460572274526, 0.7722930304642502, 0.7722930304642502, 0.7727787929957669, 0.7727787929957669, 0.7728019245448867, 0.7728019245448867, 0.7728250560940066, 0.7728713191922463, 0.7728944507413662, 0.7729407138396058, 0.7730795031343249, 0.7730795031343249, 0.7734496079202424, 0.7734496079202424, 0.7734727394693622, 0.7734727394693622, 0.7735883972149615, 0.7736346603132012, 0.7737040549605607, 0.7737503180588003, 0.7742592121394369, 0.7742592121394369, 0.7750688163586316, 0.7750688163586316, 0.7751382110059911, 0.7751382110059911, 0.7752770003007101, 0.7752770003007101, 0.7757396312831071, 0.7757396312831071, 0.7762947884619833, 0.7762947884619833, 0.7765029724040619, 0.7765029724040619, 0.7768499456408595, 0.7768499456408595, 0.7768730771899794, 0.7768730771899794, 0.7769193402882191, 0.7769656033864588, 0.7770581295829382, 0.7770581295829382, 0.7772431819758969, 0.7772431819758969, 0.7778446022530129, 0.7778908653512526, 0.7780759177442114, 0.7780759177442114, 0.7785385487266082, 0.778584811824848, 0.7788623904142861, 0.7788623904142861, 0.7789549166107654, 0.7789549166107654, 0.7793712844949227, 0.7793712844949227, 0.7795332053387616, 0.7795332053387616, 0.779602599986121, 0.779602599986121, 0.7798107839281997, 0.7798107839281997, 0.7800189678702782, 0.7800189678702782, 0.7801114940667576, 0.7801114940667576, 0.7810367560315514, 0.7810367560315514, 0.781106150678911, 0.781106150678911, 0.78124493997363, 0.78124493997363, 0.7814299923665888, 0.7814299923665888, 0.7816381763086674, 0.7816381763086674, 0.7819620179963452, 0.7819620179963452, 0.7820082810945849, 0.7820545441928246, 0.7821239388401842, 0.7821702019384238, 0.7825171751752215, 0.7825171751752215, 0.7827716222155398, 0.7827716222155398, 0.7829335430593787, 0.7829798061576184, 0.7833730424926557, 0.7834655686891351, 0.7838819365732923, 0.783928199671532, 0.7840438574171312, 0.7840438574171312, 0.7841363836136106, 0.7841826467118503, 0.7843676991048091, 0.7844139622030487, 0.784529619948648, 0.784529619948648, 0.7846221461451274, 0.7846221461451274, 0.7846915407924868, 0.7847378038907266, 0.7856399343064004, 0.7856399343064004, 0.7860331706414379, 0.7860794337396776, 0.7867039855659134, 0.786750248664153, 0.7868659064097523, 0.7868659064097523, 0.7869815641553515, 0.7869815641553515, 0.7870046957044713, 0.7870046957044713, 0.7871434849991904, 0.7871434849991904, 0.7873285373921491, 0.7873285373921491, 0.7878605630219055, 0.7878605630219055, 0.7879993523166247, 0.7879993523166247, 0.7881844047095834, 0.7882306678078231, 0.7884388517499017, 0.7884851148481414, 0.7887626934375795, 0.7887626934375795, 0.7890171404778978, 0.7890171404778978, 0.7895029030094145, 0.7895029030094145, 0.7898730077953321, 0.7898730077953321, 0.7905206911706877, 0.7905206911706877, 0.7921630311581966, 0.7921630311581966, 0.7922092942564364, 0.7922092942564364, 0.7928107145335523, 0.7928107145335523, 0.7929957669265111, 0.7929957669265111, 0.7930188984756309, 0.7930188984756309, 0.7933196086141889, 0.7933196086141889, 0.7937822395965858, 0.7937822395965858, 0.7938053711457056, 0.7938516342439453, 0.7940135550877843, 0.7940135550877843, 0.7940598181860239, 0.7940598181860239, 0.7944299229719415, 0.7944761860701811, 0.7945224491684209, 0.7945224491684209, 0.7946843700122597, 0.7946843700122597, 0.7947537646596192, 0.794800027757859, 0.7949156855034581, 0.7949156855034581, 0.7951007378964169, 0.7951007378964169, 0.7954014480349749, 0.7954477111332146, 0.7959797367629711, 0.7960259998612107, 0.7963729730980084, 0.7963729730980084, 0.7964423677453679, 0.7964423677453679, 0.796581157040087, 0.7966505516874465, 0.7968124725312854, 0.7968587356295251, 0.7970206564733641, 0.7970206564733641, 0.7970900511207235, 0.7970900511207235, 0.7972751035136824, 0.797321366611922, 0.7975064190048807, 0.7975064190048807, 0.7979690499872777, 0.7979690499872777, 0.7980384446346371, 0.7980384446346371, 0.7987555226573524, 0.7987555226573524, 0.7994957322291874, 0.7994957322291874, 0.7995419953274271, 0.7995419953274271, 0.7996113899747866, 0.7996113899747866, 0.7997964423677454, 0.7997964423677454, 0.8000508894080637, 0.8000508894080637, 0.8001665471536629, 0.8001665471536629, 0.8003515995466216, 0.8003515995466216, 0.800883625176378, 0.800883625176378, 0.8009298882746178, 0.8009992829219773, 0.8010918091184567, 0.8010918091184567, 0.8012537299622956, 0.8012999930605352, 0.8012999930605352, 0.8013231246096552, 0.8013231246096552, 0.8017394924938123, 0.8017394924938123, 0.8017626240429322, 0.8018088871411718, 0.8018088871411718, 0.8018320186902916, 0.8018320186902916, 0.8021095972797299, 0.8021095972797299, 0.8024334389674076, 0.8024797020656473, 0.8039369896601976, 0.8039369896601976, 0.8039832527584372, 0.8039832527584372, 0.8041451736022761, 0.8041451736022761, 0.8043533575443548, 0.8043533575443548, 0.8043764890934746, 0.8043764890934746, 0.8044458837408341, 0.8044458837408341, 0.804469015289954, 0.804469015289954, 0.8047234623302723, 0.8047234623302723, 0.8050241724688303, 0.8050241724688303, 0.8051398302144295, 0.8051398302144295, 0.805371145705628, 0.805371145705628, 0.8057412504915454, 0.8057412504915454, 0.8057643820406653, 0.8057643820406653, 0.8059263028845042, 0.8059725659827439, 0.8061576183757027, 0.8061576183757027, 0.8062964076704217, 0.8062964076704217, 0.8064351969651408, 0.8064814600633804, 0.8066665124563392, 0.8066665124563392, 0.8067359071036987, 0.8067359071036987, 0.8067590386528186, 0.8067590386528186, 0.8077768268140917, 0.8077768268140917, 0.8081931946982489, 0.8081931946982489, 0.8083551155420878, 0.8083551155420878, 0.8091647197612825, 0.8091647197612825, 0.8093497721542412, 0.8093497721542412, 0.8100205870787167, 0.8100205870787167, 0.8101825079225555, 0.8101825079225555, 0.8103212972172746, 0.8103212972172746, 0.8105294811593532, 0.8105294811593532, 0.8107607966505517, 0.8108070597487914, 0.810853322847031, 0.810853322847031, 0.8109689805926303, 0.8109689805926303, 0.8111309014364692, 0.8111309014364692, 0.8111771645347089, 0.8111771645347089, 0.8116397955171057, 0.8116397955171057, 0.8117785848118249, 0.8117785848118249, 0.8118711110083042, 0.8118711110083042, 0.8122180842451019, 0.8122180842451019, 0.8131664777590155, 0.8131664777590155, 0.81397608197821, 0.81397608197821, 0.8141611343711689, 0.8141611343711689, 0.8149013439430038, 0.8149013439430038, 0.8151095278850825, 0.8151095278850825, 0.8154565011218802, 0.8155027642201198, 0.8160347898498762, 0.816081052948116, 0.8161504475954755, 0.8161504475954755, 0.8161735791445953, 0.816219842242835, 0.8163123684393144, 0.8163123684393144, 0.8167056047743517, 0.8167056047743517, 0.8167749994217113, 0.8167749994217113, 0.8169137887164304, 0.81696005181467, 0.8171451042076288, 0.8171451042076288, 0.8176308667391455, 0.8176308667391455, 0.8176771298373852, 0.8181628923689019, 0.8182091554671417, 0.819481390668733, 0.819481390668733, 0.8195739168652124, 0.8195739168652124, 0.8201522055932086, 0.8201522055932086, 0.8208230205176841, 0.8208230205176841, 0.8209386782632833, 0.8209386782632833, 0.8217020193842381, 0.8217482824824779, 0.8218870717771969, 0.8218870717771969, 0.8223265712104739, 0.8223265712104739, 0.8225116236034328, 0.8225116236034328, 0.8226966759963915, 0.8226966759963915, 0.8227198075455113, 0.8227198075455113, 0.8229511230367098, 0.8229511230367098, 0.8232518331752677, 0.8232518331752677, 0.8235525433138258, 0.8235525433138258, 0.8240383058453424, 0.8240383058453424, 0.8241770951400615, 0.8241770951400615, 0.8246628576715783, 0.824709120769818, 0.8247322523189378, 0.8247322523189378, 0.8250560940066156, 0.8250560940066156, 0.8250792255557354, 0.8251254886539752, 0.8257963035784507, 0.8257963035784507, 0.8259119613240499, 0.8259119613240499, 0.826027619069649, 0.826027619069649, 0.8261201452661284, 0.8261201452661284, 0.8262126714626079, 0.8262126714626079, 0.8263051976590873, 0.8263514607573269, 0.8263745923064467, 0.8263745923064467, 0.8265365131502856, 0.8265365131502856, 0.8265596446994056, 0.8265596446994056, 0.8267215655432444, 0.8267215655432444, 0.8272073280747612, 0.8272073280747612, 0.8274155120168397, 0.8275080382133192, 0.8277856168027573, 0.8277856168027573, 0.8281788531377946, 0.8281788531377946, 0.8283407739816335, 0.8283407739816335, 0.8283639055307533, 0.8283639055307533, 0.8287802734149106, 0.8287802734149106, 0.8288265365131503, 0.8288265365131503, 0.8291041151025884, 0.8291041151025884, 0.8291503782008282, 0.8291503782008282, 0.8293354305937869, 0.8293354305937869, 0.829613009183225, 0.8296592722814647, 0.8300756401656219, 0.8301219032638616, 0.8303763503041799, 0.8303763503041799, 0.8304688765006593, 0.8304688765006593, 0.8304920080497791, 0.8304920080497791, 0.8306770604427378, 0.8306770604427378, 0.8308852443848165, 0.8308852443848165, 0.8318567694478499, 0.8319030325460897, 0.8320186902916888, 0.8320186902916888, 0.8320418218408087, 0.8320418218408087, 0.8321806111355278, 0.8321806111355278, 0.8322500057828873, 0.8322500057828873, 0.8323656635284865, 0.8323656635284865, 0.8325275843723254, 0.8325275843723254, 0.8325507159214453, 0.8325507159214453, 0.8331290046494414, 0.8331290046494414, 0.8331521361985612, 0.8331521361985612, 0.8337304249265574, 0.8337304249265574, 0.8340311350651153, 0.8340311350651153, 0.8347944761860702, 0.8348407392843099, 0.8350026601281488, 0.8350489232263885, 0.8353958964631861, 0.8353958964631861, 0.8354884226596655, 0.8354884226596655, 0.8357428696999838, 0.8357891327982235, 0.8359047905438227, 0.8359510536420625, 0.8361823691332608, 0.8361823691332608, 0.8362055006823808, 0.8362055006823808, 0.8371538941962944, 0.8371538941962944, 0.8372464203927737, 0.8372464203927737, 0.8372926834910134, 0.8372926834910134, 0.8374546043348523, 0.837500867433092, 0.8376859198260508, 0.8376859198260508, 0.8378478406698897, 0.8378478406698897, 0.8380097615137285, 0.8380097615137285, 0.8384029978487659, 0.8384029978487659, 0.8384029978487659, 0.8385186555943651, 0.8385186555943651, 0.8388193657329232, 0.8388193657329232, 0.8388656288311628, 0.8389350234785223, 0.8389812865767621, 0.8391200758714811, 0.8392126020679604, 0.8393051282644398, 0.8393051282644398, 0.8395595753047581, 0.8395595753047581, 0.8396752330503574, 0.8396752330503574, 0.8396983645994772, 0.8396983645994772, 0.8398140223450764, 0.8398140223450764, 0.8399296800906757, 0.8399296800906757, 0.8402303902292336, 0.8402303902292336, 0.840623626564271, 0.840623626564271, 0.8412713099396266, 0.8412713099396266, 0.8415257569799449, 0.8415257569799449, 0.841664546274664, 0.841664546274664, 0.8418727302167426, 0.8418727302167426, 0.8421503088061808, 0.8421503088061808, 0.8421965719044204, 0.8421965719044204, 0.842404755846499, 0.8424510189447387, 0.8424510189447387, 0.8424972820429785, 0.8424972820429785, 0.843006176123615, 0.843006176123615, 0.8430293076727349, 0.8430293076727349, 0.8430524392218547, 0.8430524392218547, 0.8433300178112928, 0.8433994124586524, 0.8433994124586524, 0.8434456755568921, 0.8434688071060119, 0.8435613333024913, 0.8435613333024913, 0.8437232541463302, 0.8437232541463302, 0.8437926487936898, 0.8438389118919294, 0.8438620434410492, 0.8438620434410492, 0.8441164904813675, 0.8441164904813675, 0.844648516111124, 0.844648516111124, 0.8449029631514422, 0.8449029631514422, 0.8454118572320788, 0.8454118572320788, 0.8461058037056741, 0.8461058037056741, 0.846429645393352, 0.8464759084915917, 0.84673035553191, 0.84673035553191, 0.846869144826629, 0.846869144826629, 0.8469154079248687, 0.8469154079248687, 0.8471929865143069, 0.8472392496125466, 0.847331775809026, 0.8473549073581458, 0.8476556174967037, 0.8476556174967037, 0.8478638014387824, 0.8478638014387824, 0.8481182484791007, 0.8481182484791007, 0.8488353265018158, 0.8488815896000556, 0.848950984247415, 0.848950984247415, 0.849853114663089, 0.849853114663089, 0.8499687724086882, 0.8499687724086882, 0.8503851402928454, 0.8504314033910851, 0.8506164557840439, 0.8506164557840439, 0.8507321135296431, 0.8507783766278828, 0.8512641391593995, 0.8513104022576392, 0.8517036385926765, 0.8517499016909162, 0.8519118225347552, 0.8519580856329948, 0.8523975850662718, 0.8523975850662718, 0.8525132428118711, 0.8525595059101108, 0.8530452684416275, 0.8530915315398673, 0.8532534523837061, 0.8532534523837061, 0.8533459785801855, 0.8533459785801855, 0.8536929518169832, 0.8536929518169832, 0.8546182137817769, 0.8546182137817769, 0.8546644768800167, 0.8546644768800167, 0.8548495292729754, 0.8548495292729754, 0.8551039763132937, 0.8551039763132937, 0.8551271078624135, 0.8551733709606533, 0.8554046864518516, 0.8554046864518516, 0.8554278180009716, 0.8554278180009716, 0.8555203441974509, 0.8555666072956906, 0.8558210543360089, 0.8558210543360089, 0.8561680275728065, 0.8561680275728065, 0.8563530799657653, 0.8563530799657653, 0.8566537901043233, 0.8566537901043233, 0.8566769216534431, 0.8566769216534431, 0.8569776317920011, 0.8569776317920011, 0.8570932895376003, 0.8570932895376003, 0.8571395526358401, 0.8571395526358401, 0.8572552103814393, 0.8573014734796789, 0.8573246050287988, 0.8573246050287988, 0.8575790520691171, 0.8575790520691171, 0.8576253151673567, 0.8576253151673567, 0.8585274455830307, 0.8585274455830307, 0.8586431033286299, 0.8586431033286299, 0.858920681918068, 0.858920681918068, 0.8592213920566261, 0.8592676551548657, 0.859984733177581, 0.8600772593740603, 0.8606786796511763, 0.8607249427494159, 0.860863732044135, 0.8609331266914946, 0.8614882838703708, 0.8614882838703708, 0.8615345469686105, 0.8615345469686105, 0.86160394161597, 0.86160394161597, 0.8619277833036478, 0.8619277833036478, 0.8622053618930859, 0.8622053618930859, 0.8624366773842844, 0.8624366773842844, 0.8629224399158012, 0.8629687030140408, 0.8629918345631606, 0.8629918345631606, 0.8630843607596401, 0.8631306238578798, 0.8632000185052393, 0.8632000185052393, 0.8633388077999584, 0.8633388077999584, 0.8638014387823553, 0.8638477018805949, 0.8640327542735537, 0.8640327542735537, 0.8641252804700331, 0.8641252804700331, 0.8645416483541902, 0.8645416483541902, 0.8646341745506697, 0.8646341745506697, 0.8649580162383474, 0.8649580162383474, 0.8656056996137032, 0.8656056996137032, 0.8660683305961, 0.8661145936943397, 0.8661145936943397, 0.8667160139714557, 0.8667160139714557, 0.8668316717170549, 0.8668779348152946, 0.8671555134047327, 0.8672017765029724, 0.8672480396012121, 0.8672943026994517, 0.8678263283292083, 0.8678725914274479, 0.8680345122712868, 0.8680345122712868, 0.868450880155444, 0.8684740117045638, 0.868612800999283, 0.868612800999283, 0.8686359325484028, 0.8686359325484028, 0.8688672480396012, 0.8689135111378409, 0.8690985635307996, 0.8690985635307996, 0.8691679581781592, 0.8691679581781592, 0.8697693784552751, 0.8697693784552751, 0.8698156415535149, 0.8698156415535149, 0.8703476671832713, 0.8703476671832713, 0.87053271957623, 0.87053271957623, 0.8705789826744698, 0.8705789826744698, 0.8712960606971849, 0.8712960606971849, 0.8718049547778215, 0.8718049547778215, 0.8718512178760611, 0.8718512178760611, 0.8720131387199, 0.8720594018181398, 0.8721981911128588, 0.8721981911128588, 0.8722907173093382, 0.8722907173093382, 0.8726608220952558, 0.8727302167426153, 0.8727996113899747, 0.8727996113899747, 0.8728690060373343, 0.872915269135574, 0.873077189979413, 0.873077189979413, 0.8732622423723717, 0.8732622423723717, 0.8735398209618098, 0.8735398209618098, 0.8744188198283639, 0.8744188198283639, 0.8745113460248433, 0.8745113460248433, 0.8747657930651616, 0.8747657930651616, 0.8748351877125211, 0.8748351877125211, 0.8750433716545997, 0.8750433716545997, 0.875159029400199, 0.875159029400199, 0.8753672133422775, 0.8753672133422775, 0.8755291341861164, 0.8755291341861164, 0.8755753972843562, 0.8757835812264347, 0.8757835812264347, 0.8759917651685133, 0.876038028266753, 0.8761536860123522, 0.8761536860123522, 0.8765006592491499, 0.8765006592491499, 0.8766163169947492, 0.8766625800929888, 0.8767088431912285, 0.8767088431912285, 0.8768245009368277, 0.8768707640350675, 0.8771252110753858, 0.8771252110753858, 0.8773333950174643, 0.8773333950174643, 0.8774953158613032, 0.8774953158613032, 0.8777497629016215, 0.8777497629016215, 0.8777960259998612, 0.8777960259998612, 0.8778191575489811, 0.8778654206472207, 0.8778654206472207, 0.8779810783928199, 0.8779810783928199, 0.8781892623348986, 0.8782355254331382, 0.8786518933172954, 0.8786518933172954, 0.8786981564155352, 0.8786981564155352, 0.8789757350049733, 0.8789757350049733, 0.8792533135944114, 0.8792533135944114, 0.879322708241771, 0.879322708241771, 0.8793921028891305, 0.8793921028891305, 0.8794152344382503, 0.8794152344382503, 0.8794846290856099, 0.8794846290856099, 0.879762207675048, 0.879762207675048, 0.8799009969697671, 0.8799009969697671, 0.8799472600680067, 0.8799472600680067, 0.8800397862644861, 0.8800397862644861, 0.8801323124609655, 0.8801323124609655, 0.8801785755592052, 0.8801785755592052, 0.8802942333048044, 0.8802942333048044, 0.8808493904836807, 0.8808493904836807, 0.8809187851310403, 0.8809187851310403, 0.8810575744257593, 0.8810575744257593, 0.8810807059748791, 0.8810807059748791, 0.8813351530151974, 0.8813351530151974, 0.8817283893502348, 0.8817283893502348, 0.8817515208993546, 0.8817977839975943, 0.881844047095834, 0.881844047095834, 0.8820753625870325, 0.8820753625870325, 0.8821216256852722, 0.8821216256852722, 0.8823298096273507, 0.8823298096273507, 0.8824223358238301, 0.8824223358238301, 0.8824917304711897, 0.8824917304711897, 0.8825148620203095, 0.8825148620203095, 0.882584256667669, 0.8826073882167889, 0.8826767828641484, 0.8826767828641484, 0.8829774930027063, 0.8829774930027063, 0.8830006245518263, 0.8830006245518263, 0.8832550715921446, 0.8832550715921446, 0.8833475977886239, 0.8833475977886239, 0.8833707293377437, 0.8833707293377437, 0.8834169924359835, 0.8834632555342231, 0.8835557817307025, 0.8835557817307025, 0.8836020448289422, 0.8836020448289422, 0.8838796234183803, 0.8838796234183803, 0.8842728597534177, 0.8842728597534177, 0.8842959913025376, 0.8842959913025376, 0.8843885174990169, 0.8843885174990169, 0.8845273067937359, 0.8845273067937359, 0.8850593324234924, 0.8850593324234924, 0.885267516365571, 0.8853137794638107, 0.8853831741111702, 0.8853831741111702, 0.8857301473479678, 0.8857764104462076, 0.8858226735444473, 0.885868936642687, 0.8858920681918068, 0.8858920681918068, 0.8863778307233235, 0.8863778307233235, 0.8864703569198029, 0.8864703569198029, 0.8865166200180427, 0.8865166200180427, 0.8866322777636418, 0.8866322777636418, 0.8867016724110014, 0.8867016724110014, 0.8869561194513197, 0.8869561194513197, 0.8871180402951586, 0.8871643033933982, 0.8873262242372372, 0.8873262242372372, 0.8873724873354769, 0.8873724873354769, 0.8874418819828364, 0.8874881450810761, 0.8875112766301959, 0.8875112766301959, 0.8875806712775555, 0.8876269343757951, 0.8879739076125928, 0.8879739076125928, 0.8882283546529111, 0.8882283546529111, 0.8882746177511508, 0.8883208808493905, 0.8885290647914691, 0.8885290647914691, 0.8887835118317874, 0.888829774930027, 0.8889916957738659, 0.8889916957738659, 0.8891767481668247, 0.8891767481668247, 0.8900326154842589, 0.8900326154842589, 0.8900557470333789, 0.8900557470333789, 0.8901482732298582, 0.8901482732298582, 0.8902870625245772, 0.8902870625245772, 0.890333325622817, 0.890333325622817, 0.8905877726631353, 0.8905877726631353, 0.8906571673104948, 0.8906571673104948, 0.8909347458999329, 0.8909347458999329, 0.8919294025120862, 0.8919294025120862, 0.8922069811015244, 0.8922069811015244, 0.8924614281418427, 0.8924614281418427, 0.8925076912400823, 0.8925076912400823, 0.8927621382804006, 0.8928084013786404, 0.8929009275751197, 0.8929471906733594, 0.8937799264416738, 0.8937799264416738, 0.8939187157363929, 0.8939187157363929, 0.8940575050311119, 0.8940575050311119, 0.8943813467187898, 0.8943813467187898, 0.894497004464389, 0.8945432675626287, 0.8946357937591081, 0.8946820568573477, 0.8948902407994264, 0.8948902407994264, 0.894936503897666, 0.894936503897666, 0.894936503897666, 0.8950521616432653, 0.8950521616432653, 0.8951446878397447, 0.8951446878397447, 0.8952140824871042, 0.8952140824871042, 0.8955610557239019, 0.8955610557239019, 0.8961393444518979, 0.8961856075501377, 0.8965557123360551, 0.8965557123360551, 0.8970877379658115, 0.8970877379658115, 0.8971108695149315, 0.8971108695149315, 0.8972265272605306, 0.8972265272605306, 0.8973653165552498, 0.8973653165552498, 0.8974578427517291, 0.8974578427517291, 0.8975966320464481, 0.8975966320464481, 0.8978973421850062, 0.8979436052832458, 0.8981980523235641, 0.8982443154218038, 0.8985681571094816, 0.8985681571094816, 0.8986838148550809, 0.8986838148550809, 0.8990307880918785, 0.8990307880918785, 0.8990770511901182, 0.8991001827392381, 0.8991001827392381, 0.8991464458374777, 0.8992389720339571, 0.8992389720339571, 0.899400892877796, 0.899400892877796, 0.8994471559760358, 0.8994471559760358, 0.8995165506233952, 0.8995396821725151, 0.8996784714672341, 0.8997247345654739, 0.8997478661145937, 0.8997941292128334, 0.8999097869584326, 0.8999560500566723, 0.900002313154912, 0.900002313154912, 0.9001642339987509, 0.9001642339987509, 0.9002104970969906, 0.9002567601952303, 0.9003492863917096, 0.9003955494899494, 0.900441812588189, 0.900441812588189, 0.9005112072355486, 0.9005574703337883, 0.9006499965302677, 0.9006499965302677, 0.900742522726747, 0.900742522726747, 0.9015752584950614, 0.9015752584950614, 0.9018759686336194, 0.9018759686336194, 0.902084152575698, 0.902084152575698, 0.9021535472230575, 0.9021535472230575, 0.9024773889107354, 0.9025467835580949, 0.9026161782054544, 0.9026624413036941, 0.9026855728528139, 0.9026855728528139, 0.9029400198931322, 0.9029400198931322, 0.902963151442252, 0.902963151442252, 0.902986282991372, 0.9030325460896116, 0.9031482038352109, 0.9031482038352109, 0.9031944669334505, 0.9031944669334505, 0.9035183086211284, 0.9035183086211284, 0.9036108348176077, 0.9036570979158475, 0.9037727556614467, 0.9037727556614467, 0.9038884134070458, 0.9038884134070458, 0.9043047812912031, 0.9043047812912031, 0.9043510443894428, 0.9043973074876824, 0.9047674122735999, 0.9047674122735999, 0.9047905438227198, 0.9047905438227198, 0.9048368069209595, 0.9048368069209595, 0.9048830700191992, 0.9048830700191992, 0.9049293331174388, 0.9049755962156786, 0.9053457010015961, 0.9053457010015961, 0.9054844902963152, 0.9055307533945548, 0.9056232795910342, 0.9056232795910342, 0.9059239897295922, 0.9059239897295922, 0.9060396474751914, 0.9060396474751914, 0.9071268302838241, 0.9071268302838241, 0.9074044088732622, 0.9074044088732622, 0.9074738035206218, 0.9075200666188614, 0.9080520922486179, 0.9080983553468576, 0.9082602761906965, 0.9082602761906965, 0.908329670838056, 0.908329670838056, 0.9083990654854156, 0.9083990654854156, 0.908468460132775, 0.908468460132775, 0.9085378547801346, 0.9085378547801346, 0.9086997756239735, 0.9086997756239735, 0.9087923018204529, 0.9087923018204529, 0.9088154333695727, 0.9088154333695727, 0.9088848280169323, 0.9088848280169323, 0.9090236173116514, 0.9090236173116514, 0.909069880409891, 0.909069880409891, 0.909069880409891, 0.9094399851958086, 0.9094399851958086, 0.909509379843168, 0.909509379843168, 0.9095556429414078, 0.9095556429414078, 0.9096250375887673, 0.909671300687007, 0.9096944322361269, 0.9096944322361269, 0.9098100899817261, 0.9098100899817261, 0.9099488792764452, 0.9099488792764452, 0.9100414054729246, 0.9100414054729246, 0.9101801947676436, 0.9102264578658833, 0.9104346418079619, 0.9104346418079619, 0.9105271680044412, 0.9105271680044412, 0.9106890888482801, 0.9107353519465199, 0.9107353519465199, 0.9115912192639541, 0.9116374823621938, 0.9117068770095533, 0.9117068770095533, 0.9119613240498716, 0.9119613240498716, 0.9119844555989914, 0.9119844555989914, 0.912053850246351, 0.9121001133445907, 0.9121001133445907, 0.9122157710901899, 0.9122157710901899, 0.9122620341884295, 0.9122620341884295, 0.9125627443269876, 0.9125627443269876, 0.9127940598181861, 0.9127940598181861, 0.9130716384076242, 0.9130716384076242, 0.9132104277023432, 0.9132566908005829, 0.9132798223497027, 0.9132798223497027, 0.9134186116444218, 0.9134186116444218, 0.9134648747426615, 0.9135805324882608, 0.9136267955865004, 0.9138118479794591, 0.9138118479794591, 0.9138349795285791, 0.9138349795285791, 0.9138581110776989, 0.9138581110776989, 0.913996900372418, 0.913996900372418, 0.9150146885336911, 0.9150146885336911, 0.9151534778284102, 0.9151534778284102, 0.9154079248687285, 0.9154079248687285, 0.915916818949365, 0.9159630820476047, 0.9159862135967246, 0.9160324766949642, 0.916217529087923, 0.9162637921861627, 0.9163794499317619, 0.9163794499317619, 0.9169114755615183, 0.9169114755615183, 0.9174203696421549, 0.9174203696421549, 0.9177904744280725, 0.9177904744280725, 0.9178598690754319, 0.9178598690754319, 0.9179523952719114, 0.9179523952719114, 0.9180217899192709, 0.9180217899192709, 0.9185538155490273, 0.9185538155490273, 0.9186232101963868, 0.9186232101963868, 0.9187619994911059, 0.9187619994911059, 0.918900788785825, 0.918900788785825, 0.919039578080544, 0.919039578080544, 0.9193634197682219, 0.9193634197682219, 0.919502209062941, 0.919502209062941, 0.9197103930050196, 0.9197103930050196, 0.9197797876523791, 0.9197797876523791, 0.9199185769470981, 0.9199185769470981, 0.9200111031435775, 0.9200573662418172, 0.9210751544030904, 0.9210751544030904, 0.9210982859522102, 0.9210982859522102, 0.9216071800328468, 0.9216534431310864, 0.9219078901714047, 0.9219078901714047, 0.9219541532696445, 0.9219541532696445, 0.9221392056626032, 0.9221392056626032, 0.922162337211723, 0.922162337211723, 0.9224167842520413, 0.9224167842520413, 0.9225787050958802, 0.92262496819412, 0.9228331521361985, 0.9228331521361985, 0.9231338622747566, 0.9231338622747566, 0.9233883093150749, 0.9233883093150749, 0.9235502301589137, 0.9235502301589137, 0.9237121510027526, 0.9237121510027526, 0.92410538733779, 0.92410538733779, 0.9243829659272281, 0.9243829659272281, 0.9244292290254679, 0.9244292290254679, 0.9245911498693068, 0.9245911498693068, 0.9246374129675464, 0.9246374129675464, 0.9250769124008235, 0.9250769124008235, 0.9258633850708982, 0.9259096481691379, 0.9260021743656173, 0.9260021743656173, 0.9260947005620966, 0.9260947005620966, 0.9263028845041752, 0.9263028845041752, 0.926788647035692, 0.926788647035692, 0.9272975411163286, 0.9272975411163286, 0.927829566746085, 0.927829566746085, 0.9278758298443247, 0.9278758298443247, 0.9280146191390437, 0.9280608822372834, 0.9280608822372834, 0.9280840137864033, 0.9280840137864033, 0.9282459346302422, 0.9282459346302422, 0.9283153292776017, 0.9283153292776017, 0.9284309870232009, 0.9284309870232009, 0.9287548287108788, 0.9287548287108788, 0.9288242233582383, 0.9288242233582383, 0.9292174596932756, 0.9292174596932756, 0.9294025120862344, 0.9294025120862344, 0.9294487751844741, 0.9294950382827138, 0.9295644329300733, 0.9295644329300733, 0.9296338275774328, 0.9296338275774328, 0.9298188799703916, 0.9298188799703916, 0.9298651430686313, 0.9300039323633503, 0.9300501954615901, 0.9300733270107099, 0.9301195901089496, 0.930212116305429, 0.930212116305429, 0.9302583794036686, 0.9303046425019084, 0.9304434317966275, 0.9304434317966275, 0.9305128264439869, 0.9305128264439869, 0.9306284841895862, 0.9306284841895862, 0.930651615738706, 0.930651615738706, 0.9307210103860656, 0.9307210103860656, 0.9309985889755037, 0.9309985889755037, 0.9311142467211029, 0.9311142467211029, 0.9312299044667022, 0.9312299044667022, 0.9315306146052601, 0.9315306146052601, 0.9316231408017395, 0.9316231408017395, 0.9322245610788554, 0.9322245610788554, 0.9323402188244547, 0.9323402188244547, 0.9323633503735745, 0.9323633503735745, 0.9324096134718142, 0.9324096134718142, 0.9324790081191737, 0.9324790081191737, 0.932733455159492, 0.932733455159492, 0.9327797182577318, 0.9327797182577318, 0.9328259813559714, 0.9328259813559714, 0.9329185075524508, 0.9329185075524508, 0.9329879021998103, 0.9329879021998103, 0.9333117438874882, 0.9333117438874882, 0.9333811385348477, 0.9333811385348477, 0.9335199278295667, 0.9335199278295667, 0.9335893224769263, 0.9335893224769263, 0.9336124540260461, 0.9336124540260461, 0.9337281117716454, 0.9337281117716454, 0.9337975064190048, 0.9337975064190048, 0.9340056903610835, 0.9340056903610835, 0.9341444796558025, 0.9341444796558025, 0.9342601374014018, 0.9342601374014018, 0.9343989266961208, 0.9343989266961208, 0.9344451897943605, 0.9344914528926003, 0.9353241886609146, 0.9353241886609146, 0.9356017672503527, 0.9356017672503527, 0.935717424995952, 0.935717424995952, 0.9360875297818695, 0.9360875297818695, 0.9361337928801092, 0.9361800559783489, 0.9361800559783489, 0.9367352131572252, 0.936758344706345, 0.9368508709028244, 0.9368508709028244, 0.9371053179431427, 0.9371053179431427, 0.9375216858272999, 0.9375216858272999, 0.9375679489255395, 0.9375679489255395, 0.9377298697693784, 0.9377298697693784, 0.9378223959658578, 0.9378223959658578, 0.9380305799079365, 0.9380305799079365, 0.9380999745552959, 0.9380999745552959, 0.9382618953991348, 0.9382618953991348, 0.9383544215956142, 0.9383544215956142, 0.9383775531447341, 0.9383775531447341, 0.9385626055376929, 0.9385626055376929, 0.9386551317341723, 0.9386551317341723, 0.9386782632832921, 0.9387245263815318, 0.9387707894797714, 0.9387707894797714, 0.9390252365200897, 0.9390252365200897, 0.9390946311674493, 0.9390946311674493, 0.9393722097568874, 0.9393722097568874, 0.9394184728551271, 0.9394184728551271, 0.9396960514445653, 0.9396960514445653, 0.9397423145428049, 0.9397423145428049, 0.9397654460919248, 0.9397654460919248, 0.9397885776410446, 0.9399273669357637, 0.9399273669357637, 0.9408757604496774, 0.9408757604496774, 0.9410376812935163, 0.9410376812935163, 0.9413383914320742, 0.9413383914320742, 0.9415003122759131, 0.9415003122759131, 0.9416622331197521, 0.9416622331197521, 0.9417084962179917, 0.9417084962179917, 0.9417547593162314, 0.9418935486109504, 0.9419398117091902, 0.9420323379056695, 0.9420323379056695, 0.9421711272003886, 0.9421711272003886, 0.9421942587495085, 0.9421942587495085, 0.9423561795933474, 0.9423561795933474, 0.942402442691587, 0.942402442691587, 0.9424718373389466, 0.9424718373389466, 0.9424949688880664, 0.9424949688880664, 0.9425412319863061, 0.9425412319863061, 0.9427494159283847, 0.9427956790266244, 0.9429575998704633, 0.9430269945178229, 0.9430501260669427, 0.9430501260669427, 0.9434202308528602, 0.9434202308528602, 0.9439753880317365, 0.9439753880317365, 0.9441604404246953, 0.9441604404246953, 0.9441835719738151, 0.9441835719738151, 0.9442760981702945, 0.9442760981702945, 0.9443686243667738, 0.9443686243667738, 0.9444380190141334, 0.9444380190141334, 0.9445305452106127, 0.9445305452106127, 0.9446924660544517, 0.9446924660544517, 0.9447387291526913, 0.9447387291526913, 0.9451550970368485, 0.9451550970368485, 0.9452013601350883, 0.9452013601350883, 0.9455714649210057, 0.9456177280192455, 0.9457796488630844, 0.9457796488630844, 0.9462191482963614, 0.9462191482963614, 0.9470518840646758, 0.9470981471629155, 0.9471675418102751, 0.9471675418102751, 0.9472369364576345, 0.9472369364576345, 0.9473525942032338, 0.9473525942032338, 0.9475145150470727, 0.9475145150470727, 0.9476070412435521, 0.9476070412435521, 0.9476764358909117, 0.9476764358909117, 0.9477226989891513, 0.9477226989891513, 0.9478152251856307, 0.9478152251856307, 0.94790775138211, 0.94790775138211, 0.948370382364507, 0.948370382364507, 0.9484860401101062, 0.9484860401101062, 0.9487173556013047, 0.9487173556013047, 0.9494344336240198, 0.9494344336240198, 0.9494575651731396, 0.9495038282713794, 0.9495269598204992, 0.9495269598204992, 0.9501746431958549, 0.9502209062940945, 0.9502903009414541, 0.9502903009414541, 0.9503828271379334, 0.9504290902361732, 0.9504290902361732, 0.9504984848835326, 0.9504984848835326, 0.9505216164326525, 0.9505216164326525, 0.9506835372764914, 0.9506835372764914, 0.9507529319238509, 0.9507529319238509, 0.9509842474150494, 0.9509842474150494, 0.9510305105132891, 0.9510305105132891, 0.9511924313571279, 0.9511924313571279, 0.9512155629062479, 0.9512155629062479, 0.9512386944553677, 0.9512849575536073, 0.9513774837500868, 0.9513774837500868, 0.951631930790405, 0.951631930790405, 0.9518632462816035, 0.9518632462816035, 0.9519789040272028, 0.9520251671254424, 0.9521176933219218, 0.9521176933219218, 0.9522102195184011, 0.9522102195184011, 0.9525109296569592, 0.9525109296569592, 0.9525571927551988, 0.9525571927551988, 0.9527422451481575, 0.9527422451481575, 0.9527653766972775, 0.9527653766972775, 0.952973560639356, 0.952973560639356, 0.9530198237375958, 0.9530198237375958, 0.9530429552867156, 0.9530429552867156, 0.9530892183849552, 0.9531354814831949, 0.9531354814831949, 0.9531586130323147, 0.9531586130323147, 0.9532511392287941, 0.9532511392287941, 0.9532974023270339, 0.9533436654252735, 0.9533899285235132, 0.9533899285235132, 0.9536443755638315, 0.9536443755638315, 0.9541070065462284, 0.9541070065462284, 0.9544308482339062, 0.9544308482339062, 0.954453979783026, 0.954453979783026, 0.954477111332146, 0.954477111332146, 0.9545465059795054, 0.9545465059795054, 0.9549628738636626, 0.9549628738636626, 0.955055400060142, 0.9551016631583817, 0.9554255048460596, 0.9554255048460596, 0.9556105572390183, 0.955656820337258, 0.9558881358284564, 0.9558881358284564, 0.9561657144178946, 0.9561657144178946, 0.9565126876546922, 0.9565126876546922, 0.9566052138511716, 0.9566514769494113, 0.9568827924406097, 0.9568827924406097, 0.9569059239897296, 0.9569059239897296, 0.9573916865212463, 0.9573916865212463, 0.9578080544054035, 0.9578080544054035, 0.9578311859545233, 0.9578774490527631, 0.9579005806018829, 0.9579005806018829, 0.9579931067983622, 0.958039369896602, 0.958178159191321, 0.958178159191321, 0.9583863431333997, 0.9583863431333997, 0.9585945270754782, 0.9585945270754782, 0.958640790173718, 0.958640790173718, 0.9587564479193171, 0.9587564479193171, 0.9594503943929125, 0.9594503943929125, 0.9595891836876316, 0.9595891836876316, 0.959681709884111, 0.9597279729823506, 0.9597279729823506, 0.9597742360805903, 0.9597742360805903, 0.9599130253753094, 0.9599130253753094, 0.9599361569244292, 0.9599361569244292, 0.959959288473549, 0.959959288473549, 0.9608151557909833, 0.960861418889223, 0.961000208183942, 0.961000208183942, 0.9610696028313016, 0.9610696028313016, 0.9612315236751405, 0.9612315236751405, 0.9613471814207397, 0.9613934445189795, 0.9614397076172191, 0.9614397076172191, 0.961462839166339, 0.961462839166339, 0.9615091022645786, 0.9615091022645786, 0.9617635493048969, 0.9617635493048969, 0.962041127894335, 0.962041127894335, 0.9624112326802526, 0.9624112326802526, 0.9625962850732114, 0.9625962850732114, 0.9629663898591289, 0.9629663898591289, 0.9632208368994472, 0.9632208368994472, 0.963243968448567, 0.963243968448567, 0.9637065994309639, 0.9637065994309639, 0.9637759940783234, 0.9637759940783234, 0.963984178020402, 0.963984178020402, 0.964146098864241, 0.964146098864241, 0.9641692304133608, 0.9641692304133608, 0.9642154935116005, 0.9642617566098401, 0.9646087298466378, 0.9646087298466378, 0.9646318613957576, 0.9646318613957576, 0.9647012560431172, 0.9647012560431172, 0.9650482292799148, 0.9650482292799148, 0.9650713608290348, 0.9650713608290348, 0.9651638870255141, 0.9651638870255141, 0.9654183340658324, 0.9654183340658324, 0.9656959126552705, 0.9656959126552705, 0.9658115704008697, 0.9658578334991095, 0.9660197543429484, 0.9660197543429484, 0.9661354120885476, 0.9661354120885476, 0.9663204644815063, 0.9663204644815063, 0.9665055168744651, 0.9665055168744651, 0.9665517799727048, 0.9665980430709444, 0.9666211746200644, 0.9666211746200644, 0.966667437718304, 0.9666905692674238, 0.9670375425042215, 0.9670375425042215, 0.9671532002498208, 0.9671532002498208, 0.9675464365848581, 0.9675464365848581, 0.9675926996830978, 0.9675926996830978, 0.9676389627813374, 0.9676389627813374, 0.9679628044690153, 0.968009067567255, 0.9680321991163748, 0.9680321991163748, 0.9680553306654947, 0.9680553306654947, 0.9682172515093336, 0.9682635146075733, 0.9682635146075733, 0.9684254354514121, 0.9684716985496519, 0.9688418033355694, 0.9688418033355694, 0.9688880664338091, 0.9688880664338091, 0.9689805926302885, 0.9689805926302885, 0.9690731188267678, 0.9690731188267678, 0.9691193819250076, 0.9691193819250076, 0.969188776572367, 0.969188776572367, 0.9692119081214869, 0.9692813027688464, 0.9692813027688464, 0.9694663551618052, 0.9694663551618052, 0.9695126182600449, 0.9695126182600449, 0.9695588813582846, 0.9695588813582846, 0.9698595914968425, 0.9699058545950823, 0.9699521176933219, 0.9699521176933219, 0.9699983807915616, 0.9699983807915616, 0.9700215123406815, 0.9700677754389212, 0.9701371700862806, 0.9701371700862806, 0.9701834331845204, 0.9701834331845204, 0.9703222224792394, 0.9703222224792394, 0.9704147486757189, 0.9704147486757189, 0.9704610117739585, 0.970530406421318, 0.970530406421318, 0.9705766695195577, 0.9705766695195577, 0.9706460641669172, 0.9706460641669172, 0.9707154588142768, 0.9707154588142768, 0.9708079850107562, 0.9708079850107562, 0.9712012213457936, 0.9712012213457936, 0.9715944576808309, 0.9715944576808309, 0.9717101154264302, 0.9717563785246698, 0.9718026416229095, 0.9718489047211492, 0.9719876940158683, 0.9719876940158683, 0.9721958779579468, 0.9721958779579468, 0.9722190095070666, 0.9722190095070666, 0.9727047720385834, 0.972774166685943, 0.9729823506280215, 0.9729823506280215, 0.9731674030209804, 0.9731674030209804, 0.9732367976683398, 0.9732830607665796, 0.9733755869630589, 0.9733755869630589, 0.9734912447086581, 0.9734912447086581, 0.973653165552497, 0.973653165552497, 0.9736762971016168, 0.9736762971016168, 0.9737919548472161, 0.9737919548472161, 0.9739076125928153, 0.9739076125928153, 0.974115796534894, 0.974115796534894, 0.9741389280840138, 0.9741389280840138, 0.9745090328699313, 0.9745090328699313, 0.9746015590664107, 0.9746015590664107, 0.9747172168120098, 0.9747172168120098, 0.9747403483611298, 0.9747403483611298, 0.9747866114593694, 0.9747866114593694, 0.9748097430084893, 0.9748097430084893, 0.9749022692049687, 0.9749022692049687, 0.9750641900488076, 0.9750641900488076, 0.9751335846961671, 0.9751335846961671, 0.975156716245287, 0.975156716245287, 0.9754342948347251, 0.9754342948347251, 0.9756656103259236, 0.9756656103259236, 0.9756887418750434, 0.975735004973283, 0.975735004973283, 0.9758737942680021, 0.975896925817122, 0.9759431889153617, 0.9759431889153617, 0.9761513728574402, 0.9761513728574402, 0.9762901621521594, 0.9762901621521594, 0.9764520829959983, 0.9764520829959983, 0.9765908722907173, 0.976637135388957, 0.976637135388957, 0.9770303717239943, 0.9770303717239943, 0.9774467396081515, 0.9774467396081515, 0.9774930027063913, 0.9774930027063913, 0.9775161342555111, 0.9775161342555111, 0.9776086604519905, 0.9776086604519905, 0.9776317920011103, 0.9776317920011103, 0.9777243181975896, 0.9777243181975896, 0.9780481598852675, 0.9780481598852675, 0.9782332122782262, 0.9782332122782262, 0.9783257384747056, 0.9783257384747056, 0.9786264486132636, 0.9786264486132636, 0.9787421063588628, 0.9787421063588628, 0.9791353426939002, 0.9791353426939002, 0.9792510004394994, 0.9792741319886192, 0.9792741319886192, 0.9793897897342185, 0.9793897897342185, 0.9794129212833383, 0.9794591843815781, 0.9795054474798177, 0.9795054474798177, 0.9795517105780575, 0.9795517105780575, 0.9795748421271773, 0.9795748421271773, 0.9795979736762971, 0.9795979736762971, 0.9798755522657352, 0.9799218153639749, 0.9799912100113345, 0.9799912100113345, 0.9800143415604543, 0.9800143415604543, 0.9800837362078139, 0.9800837362078139, 0.9803150516990122, 0.9803150516990122, 0.9805463671902107, 0.9805463671902107, 0.98066202493581, 0.98066202493581, 0.9808933404270084, 0.9808933404270084, 0.9809164719761282, 0.9809627350743679, 0.9809858666234877, 0.9809858666234877, 0.9812865767620458, 0.9812865767620458, 0.9813097083111656, 0.9813097083111656, 0.9813559714094053, 0.9813559714094053, 0.9816335499988434, 0.9816335499988434, 0.9818186023918022, 0.9818186023918022, 0.9819111285882816, 0.9819111285882816, 0.9819573916865213, 0.9819573916865213, 0.9819805232356411, 0.9819805232356411, 0.9820961809812403, 0.9820961809812403, 0.9821193125303601, 0.9821193125303601, 0.982443154218038, 0.982443154218038, 0.9826744697092364, 0.9826744697092364, 0.9827901274548356, 0.9828363905530754, 0.9828363905530754, 0.9829983113969143, 0.9829983113969143, 0.9831139691425135, 0.9831139691425135, 0.9831371006916333, 0.9831371006916333, 0.983183363789873, 0.9832064953389928, 0.9832758899863524, 0.9832758899863524, 0.983484073928431, 0.983484073928431, 0.9835303370266707, 0.9835303370266707, 0.9835534685757905, 0.9835534685757905, 0.983784784066989, 0.983784784066989, 0.9838541787143485, 0.9838541787143485, 0.9839004418125882, 0.9839004418125882, 0.9839467049108279, 0.9839467049108279, 0.9840392311073073, 0.9840392311073073, 0.9841086257546668, 0.9841548888529065, 0.9842011519511462, 0.9842011519511462, 0.9842474150493858, 0.9842474150493858, 0.9845018620897041, 0.9845018620897041, 0.9846869144826629, 0.9846869144826629, 0.9847100460317827, 0.9847100460317827, 0.9847331775809026, 0.9847794406791422, 0.9848488353265018, 0.9848488353265018, 0.9848719668756216, 0.9848719668756216, 0.9849876246212209, 0.9849876246212209, 0.9850570192685805, 0.9850570192685805, 0.9851264139159399, 0.9851264139159399, 0.9851958085632995, 0.9851958085632995, 0.9852189401124193, 0.9852189401124193, 0.985265203210659, 0.985265203210659, 0.9856353079965765, 0.9856353079965765, 0.9858897550368948, 0.9858897550368948, 0.9859822812333742, 0.9859822812333742, 0.9860979389789735, 0.9860979389789735, 0.9861673336263329, 0.9861673336263329, 0.9861904651754528, 0.9863292544701718, 0.9863292544701718, 0.986468043764891, 0.986468043764891, 0.9866530961578497, 0.9866530961578497, 0.9866762277069695, 0.9866762277069695, 0.9867918854525688, 0.9867918854525688, 0.9869538062964077, 0.9869538062964077, 0.9870463324928871, 0.9870463324928871, 0.9870925955911267, 0.9870925955911267, 0.987208253336726, 0.987208253336726, 0.9872545164349656, 0.9872545164349656, 0.9873239110823252, 0.9873239110823252, 0.9874164372788046, 0.9874164372788046, 0.9874858319261641, 0.9874858319261641, 0.9875089634752839, 0.9875089634752839, 0.9875552265735237, 0.9875783581226435, 0.9875783581226435, 0.9877171474173625, 0.9877171474173625, 0.9877402789664824, 0.9877402789664824, 0.9878328051629618, 0.9878328051629618, 0.9878559367120816, 0.9878559367120816, 0.9879021998103213, 0.9879021998103213, 0.9880178575559205, 0.9880178575559205, 0.9880872522032801, 0.9881335153015197, 0.9882260414979991, 0.9882260414979991, 0.9882954361453586, 0.9882954361453586, 0.988387962341838, 0.988387962341838, 0.9885961462839167, 0.9885961462839167, 0.988688672480396, 0.988688672480396, 0.9887118040295159, 0.9887118040295159, 0.9888043302259952, 0.9888043302259952, 0.9888968564224746, 0.9888968564224746, 0.9889199879715944, 0.9889199879715944, 0.9889662510698342, 0.9889662510698342, 0.9891975665610326, 0.9891975665610326, 0.9893594874048715, 0.9894057505031112, 0.989868381485508, 0.989868381485508, 0.989891513034628, 0.9899377761328676, 0.9900765654275867, 0.9900765654275867, 0.9901228285258263, 0.9901228285258263, 0.9902384862714256, 0.9902384862714256, 0.9903772755661446, 0.9903772755661446, 0.9904929333117439, 0.9904929333117439, 0.9906085910573431, 0.9906085910573431, 0.9906317226064629, 0.9906317226064629, 0.9906548541555829, 0.9906548541555829, 0.9906779857047027, 0.9906779857047027, 0.9910018273923805, 0.9910018273923805, 0.9910249589415003, 0.9910249589415003, 0.9911868797853393, 0.9912331428835789, 0.9912562744326987, 0.9912562744326987, 0.991510721473017, 0.991510721473017, 0.991811431611575, 0.991811431611575, 0.9918808262589346, 0.9918808262589346, 0.9920890102010131, 0.9920890102010131, 0.9922509310448521, 0.9922509310448521, 0.992412851888691, 0.992412851888691, 0.9925285096342902, 0.9925285096342902, 0.9927598251254887, 0.9927598251254887, 0.9927829566746085, 0.9927829566746085, 0.9928754828710878, 0.9928754828710878, 0.9933149823043649, 0.9933149823043649, 0.9933381138534848, 0.9933381138534848, 0.9933843769517244, 0.9933843769517244, 0.9938470079341214, 0.9938701394832412, 0.9939626656797206, 0.9939626656797206, 0.9940551918762, 0.9940551918762, 0.9941014549744397, 0.9941014549744397, 0.9943327704656381, 0.9943327704656381, 0.9945409544077167, 0.9945409544077167, 0.9945640859568365, 0.9945640859568365, 0.9945872175059564, 0.9945872175059564, 0.9946797437024357, 0.9946797437024357, 0.9947028752515557, 0.9947028752515557, 0.9947260068006755, 0.9947722698989151, 0.9947722698989151, 0.9948647960953945, 0.9948647960953945, 0.994934190742754, 0.994934190742754, 0.9949573222918738, 0.9949573222918738, 0.9949804538409938, 0.9949804538409938, 0.9949804538409938, 0.9950267169392334, 0.9950729800374731, 0.995096111586593, 0.9951192431357128, 0.9953042955286715, 0.9953042955286715, 0.9953274270777914, 0.9953274270777914, 0.9953736901760311, 0.9953736901760311, 0.9954430848233906, 0.9954430848233906, 0.9955818741181097, 0.9955818741181097, 0.9959057158057875, 0.9959057158057875, 0.9959519789040272, 0.9959519789040272, 0.9960445051005066, 0.9960907681987463, 0.9961138997478661, 0.9961138997478661, 0.9961370312969859, 0.9961370312969859, 0.9963452152390646, 0.9963452152390646, 0.9963914783373042, 0.9963914783373042, 0.996877240868821, 0.996877240868821, 0.9969697670653004, 0.9969697670653004, 0.9970391617126599, 0.9970391617126599, 0.997316740302098, 0.997316740302098, 0.9973861349494576, 0.9973861349494576, 0.9975017926950568, 0.9975017926950568, 0.9975480557932965, 0.9975480557932965, 0.9976405819897759, 0.9976405819897759, 0.9976868450880155, 0.9976868450880155, 0.9978256343827346, 0.9978256343827346, 0.9978950290300942, 0.997918160579214, 0.9980338183248132, 0.9980338183248132, 0.9981494760704125, 0.9981494760704125, 0.9981957391686521, 0.9981957391686521, 0.9983113969142513, 0.9983113969142513, 0.998357660012491, 0.998357660012491, 0.9984270546598506, 0.9984270546598506, 0.9984964493072102, 0.9984964493072102, 0.9987277647984085, 0.9987277647984085, 0.9988896856422474, 0.9988896856422474, 0.9989359487404872, 0.9989359487404872, 0.9990284749369666, 0.9990284749369666, 0.9990747380352062, 0.9990978695843261, 0.9990978695843261, 0.9991672642316856, 0.9991672642316856, 0.9991903957808055, 0.9991903957808055, 0.9992135273299253, 0.9992135273299253, 0.9992597904281649, 0.9992597904281649, 0.9992829219772849, 0.9992829219772849, 0.9993291850755245, 0.9993291850755245, 0.999560500566723, 0.999560500566723, 0.9997918160579214, 0.9997918160579214, 0.9999074738035206, 0.9999074738035206, 0.9999306053526404, 0.9999306053526404, 0.9999537369017603, 0.9999537369017603, 0.9999768684508802, 0.9999768684508802, 1.0, 1.0, 1.0, 1.0, 1.0, 1.0, 1.0, 1.0, 1.0, 1.0]}, {\"line\": {\"color\": \"navy\", \"width\": 2}, \"mode\": \"lines\", \"showlegend\": false, \"type\": \"scatter\", \"x\": [0, 1], \"y\": [0, 1]}],\n",
              "                        {\"height\": 630.0, \"template\": {\"data\": {\"bar\": [{\"error_x\": {\"color\": \"#2a3f5f\"}, \"error_y\": {\"color\": \"#2a3f5f\"}, \"marker\": {\"line\": {\"color\": \"#E5ECF6\", \"width\": 0.5}}, \"type\": \"bar\"}], \"barpolar\": [{\"marker\": {\"line\": {\"color\": \"#E5ECF6\", \"width\": 0.5}}, \"type\": \"barpolar\"}], \"carpet\": [{\"aaxis\": {\"endlinecolor\": \"#2a3f5f\", \"gridcolor\": \"white\", \"linecolor\": \"white\", \"minorgridcolor\": \"white\", \"startlinecolor\": \"#2a3f5f\"}, \"baxis\": {\"endlinecolor\": \"#2a3f5f\", \"gridcolor\": \"white\", \"linecolor\": \"white\", \"minorgridcolor\": \"white\", \"startlinecolor\": \"#2a3f5f\"}, \"type\": \"carpet\"}], \"choropleth\": [{\"colorbar\": {\"outlinewidth\": 0, \"ticks\": \"\"}, \"type\": \"choropleth\"}], \"contour\": [{\"colorbar\": {\"outlinewidth\": 0, \"ticks\": \"\"}, \"colorscale\": [[0.0, \"#0d0887\"], [0.1111111111111111, \"#46039f\"], [0.2222222222222222, \"#7201a8\"], [0.3333333333333333, \"#9c179e\"], [0.4444444444444444, \"#bd3786\"], [0.5555555555555556, \"#d8576b\"], [0.6666666666666666, \"#ed7953\"], [0.7777777777777778, \"#fb9f3a\"], [0.8888888888888888, \"#fdca26\"], [1.0, \"#f0f921\"]], \"type\": \"contour\"}], \"contourcarpet\": [{\"colorbar\": {\"outlinewidth\": 0, \"ticks\": \"\"}, \"type\": \"contourcarpet\"}], \"heatmap\": [{\"colorbar\": {\"outlinewidth\": 0, \"ticks\": \"\"}, \"colorscale\": [[0.0, \"#0d0887\"], [0.1111111111111111, \"#46039f\"], [0.2222222222222222, \"#7201a8\"], [0.3333333333333333, \"#9c179e\"], [0.4444444444444444, \"#bd3786\"], [0.5555555555555556, \"#d8576b\"], [0.6666666666666666, \"#ed7953\"], [0.7777777777777778, \"#fb9f3a\"], [0.8888888888888888, \"#fdca26\"], [1.0, \"#f0f921\"]], \"type\": \"heatmap\"}], \"heatmapgl\": [{\"colorbar\": {\"outlinewidth\": 0, \"ticks\": \"\"}, \"colorscale\": [[0.0, \"#0d0887\"], [0.1111111111111111, \"#46039f\"], [0.2222222222222222, \"#7201a8\"], [0.3333333333333333, \"#9c179e\"], [0.4444444444444444, \"#bd3786\"], [0.5555555555555556, \"#d8576b\"], [0.6666666666666666, \"#ed7953\"], [0.7777777777777778, \"#fb9f3a\"], [0.8888888888888888, \"#fdca26\"], [1.0, \"#f0f921\"]], \"type\": \"heatmapgl\"}], \"histogram\": [{\"marker\": {\"colorbar\": {\"outlinewidth\": 0, \"ticks\": \"\"}}, \"type\": \"histogram\"}], \"histogram2d\": [{\"colorbar\": {\"outlinewidth\": 0, \"ticks\": \"\"}, \"colorscale\": [[0.0, \"#0d0887\"], [0.1111111111111111, \"#46039f\"], [0.2222222222222222, \"#7201a8\"], [0.3333333333333333, \"#9c179e\"], [0.4444444444444444, \"#bd3786\"], [0.5555555555555556, \"#d8576b\"], [0.6666666666666666, \"#ed7953\"], [0.7777777777777778, \"#fb9f3a\"], [0.8888888888888888, \"#fdca26\"], [1.0, \"#f0f921\"]], \"type\": \"histogram2d\"}], \"histogram2dcontour\": [{\"colorbar\": {\"outlinewidth\": 0, \"ticks\": \"\"}, \"colorscale\": [[0.0, \"#0d0887\"], [0.1111111111111111, \"#46039f\"], [0.2222222222222222, \"#7201a8\"], [0.3333333333333333, \"#9c179e\"], [0.4444444444444444, \"#bd3786\"], [0.5555555555555556, \"#d8576b\"], [0.6666666666666666, \"#ed7953\"], [0.7777777777777778, \"#fb9f3a\"], [0.8888888888888888, \"#fdca26\"], [1.0, \"#f0f921\"]], \"type\": \"histogram2dcontour\"}], \"mesh3d\": [{\"colorbar\": {\"outlinewidth\": 0, \"ticks\": \"\"}, \"type\": \"mesh3d\"}], \"parcoords\": [{\"line\": {\"colorbar\": {\"outlinewidth\": 0, \"ticks\": \"\"}}, \"type\": \"parcoords\"}], \"pie\": [{\"automargin\": true, \"type\": \"pie\"}], \"scatter\": [{\"marker\": {\"colorbar\": {\"outlinewidth\": 0, \"ticks\": \"\"}}, \"type\": \"scatter\"}], \"scatter3d\": [{\"line\": {\"colorbar\": {\"outlinewidth\": 0, \"ticks\": \"\"}}, \"marker\": {\"colorbar\": {\"outlinewidth\": 0, \"ticks\": \"\"}}, \"type\": \"scatter3d\"}], \"scattercarpet\": [{\"marker\": {\"colorbar\": {\"outlinewidth\": 0, \"ticks\": \"\"}}, \"type\": \"scattercarpet\"}], \"scattergeo\": [{\"marker\": {\"colorbar\": {\"outlinewidth\": 0, \"ticks\": \"\"}}, \"type\": \"scattergeo\"}], \"scattergl\": [{\"marker\": {\"colorbar\": {\"outlinewidth\": 0, \"ticks\": \"\"}}, \"type\": \"scattergl\"}], \"scattermapbox\": [{\"marker\": {\"colorbar\": {\"outlinewidth\": 0, \"ticks\": \"\"}}, \"type\": \"scattermapbox\"}], \"scatterpolar\": [{\"marker\": {\"colorbar\": {\"outlinewidth\": 0, \"ticks\": \"\"}}, \"type\": \"scatterpolar\"}], \"scatterpolargl\": [{\"marker\": {\"colorbar\": {\"outlinewidth\": 0, \"ticks\": \"\"}}, \"type\": \"scatterpolargl\"}], \"scatterternary\": [{\"marker\": {\"colorbar\": {\"outlinewidth\": 0, \"ticks\": \"\"}}, \"type\": \"scatterternary\"}], \"surface\": [{\"colorbar\": {\"outlinewidth\": 0, \"ticks\": \"\"}, \"colorscale\": [[0.0, \"#0d0887\"], [0.1111111111111111, \"#46039f\"], [0.2222222222222222, \"#7201a8\"], [0.3333333333333333, \"#9c179e\"], [0.4444444444444444, \"#bd3786\"], [0.5555555555555556, \"#d8576b\"], [0.6666666666666666, \"#ed7953\"], [0.7777777777777778, \"#fb9f3a\"], [0.8888888888888888, \"#fdca26\"], [1.0, \"#f0f921\"]], \"type\": \"surface\"}], \"table\": [{\"cells\": {\"fill\": {\"color\": \"#EBF0F8\"}, \"line\": {\"color\": \"white\"}}, \"header\": {\"fill\": {\"color\": \"#C8D4E3\"}, \"line\": {\"color\": \"white\"}}, \"type\": \"table\"}]}, \"layout\": {\"annotationdefaults\": {\"arrowcolor\": \"#2a3f5f\", \"arrowhead\": 0, \"arrowwidth\": 1}, \"coloraxis\": {\"colorbar\": {\"outlinewidth\": 0, \"ticks\": \"\"}}, \"colorscale\": {\"diverging\": [[0, \"#8e0152\"], [0.1, \"#c51b7d\"], [0.2, \"#de77ae\"], [0.3, \"#f1b6da\"], [0.4, \"#fde0ef\"], [0.5, \"#f7f7f7\"], [0.6, \"#e6f5d0\"], [0.7, \"#b8e186\"], [0.8, \"#7fbc41\"], [0.9, \"#4d9221\"], [1, \"#276419\"]], \"sequential\": [[0.0, \"#0d0887\"], [0.1111111111111111, \"#46039f\"], [0.2222222222222222, \"#7201a8\"], [0.3333333333333333, \"#9c179e\"], [0.4444444444444444, \"#bd3786\"], [0.5555555555555556, \"#d8576b\"], [0.6666666666666666, \"#ed7953\"], [0.7777777777777778, \"#fb9f3a\"], [0.8888888888888888, \"#fdca26\"], [1.0, \"#f0f921\"]], \"sequentialminus\": [[0.0, \"#0d0887\"], [0.1111111111111111, \"#46039f\"], [0.2222222222222222, \"#7201a8\"], [0.3333333333333333, \"#9c179e\"], [0.4444444444444444, \"#bd3786\"], [0.5555555555555556, \"#d8576b\"], [0.6666666666666666, \"#ed7953\"], [0.7777777777777778, \"#fb9f3a\"], [0.8888888888888888, \"#fdca26\"], [1.0, \"#f0f921\"]]}, \"colorway\": [\"#636efa\", \"#EF553B\", \"#00cc96\", \"#ab63fa\", \"#FFA15A\", \"#19d3f3\", \"#FF6692\", \"#B6E880\", \"#FF97FF\", \"#FECB52\"], \"font\": {\"color\": \"#2a3f5f\"}, \"geo\": {\"bgcolor\": \"white\", \"lakecolor\": \"white\", \"landcolor\": \"#E5ECF6\", \"showlakes\": true, \"showland\": true, \"subunitcolor\": \"white\"}, \"hoverlabel\": {\"align\": \"left\"}, \"hovermode\": \"closest\", \"mapbox\": {\"style\": \"light\"}, \"paper_bgcolor\": \"white\", \"plot_bgcolor\": \"#E5ECF6\", \"polar\": {\"angularaxis\": {\"gridcolor\": \"white\", \"linecolor\": \"white\", \"ticks\": \"\"}, \"bgcolor\": \"#E5ECF6\", \"radialaxis\": {\"gridcolor\": \"white\", \"linecolor\": \"white\", \"ticks\": \"\"}}, \"scene\": {\"xaxis\": {\"backgroundcolor\": \"#E5ECF6\", \"gridcolor\": \"white\", \"gridwidth\": 2, \"linecolor\": \"white\", \"showbackground\": true, \"ticks\": \"\", \"zerolinecolor\": \"white\"}, \"yaxis\": {\"backgroundcolor\": \"#E5ECF6\", \"gridcolor\": \"white\", \"gridwidth\": 2, \"linecolor\": \"white\", \"showbackground\": true, \"ticks\": \"\", \"zerolinecolor\": \"white\"}, \"zaxis\": {\"backgroundcolor\": \"#E5ECF6\", \"gridcolor\": \"white\", \"gridwidth\": 2, \"linecolor\": \"white\", \"showbackground\": true, \"ticks\": \"\", \"zerolinecolor\": \"white\"}}, \"shapedefaults\": {\"line\": {\"color\": \"#2a3f5f\"}}, \"ternary\": {\"aaxis\": {\"gridcolor\": \"white\", \"linecolor\": \"white\", \"ticks\": \"\"}, \"baxis\": {\"gridcolor\": \"white\", \"linecolor\": \"white\", \"ticks\": \"\"}, \"bgcolor\": \"#E5ECF6\", \"caxis\": {\"gridcolor\": \"white\", \"linecolor\": \"white\", \"ticks\": \"\"}}, \"title\": {\"x\": 0.05}, \"xaxis\": {\"automargin\": true, \"gridcolor\": \"white\", \"linecolor\": \"white\", \"ticks\": \"\", \"title\": {\"standoff\": 15}, \"zerolinecolor\": \"white\", \"zerolinewidth\": 2}, \"yaxis\": {\"automargin\": true, \"gridcolor\": \"white\", \"linecolor\": \"white\", \"ticks\": \"\", \"title\": {\"standoff\": 15}, \"zerolinecolor\": \"white\", \"zerolinewidth\": 2}}}, \"title\": {\"text\": \"ROC curve on validation sample\"}, \"width\": 891.0},\n",
              "                        {\"responsive\": true}\n",
              "                    ).then(function(){\n",
              "                            \n",
              "var gd = document.getElementById('5ca40efa-9112-4e79-95e2-989042c38710');\n",
              "var x = new MutationObserver(function (mutations, observer) {{\n",
              "        var display = window.getComputedStyle(gd).display;\n",
              "        if (!display || display === 'none') {{\n",
              "            console.log([gd, 'removed!']);\n",
              "            Plotly.purge(gd);\n",
              "            observer.disconnect();\n",
              "        }}\n",
              "}});\n",
              "\n",
              "// Listen for the removal of the full notebook cells\n",
              "var notebookContainer = gd.closest('#notebook-container');\n",
              "if (notebookContainer) {{\n",
              "    x.observe(notebookContainer, {childList: true});\n",
              "}}\n",
              "\n",
              "// Listen for the clearing of the current output cell\n",
              "var outputEl = gd.closest('.output');\n",
              "if (outputEl) {{\n",
              "    x.observe(outputEl, {childList: true});\n",
              "}}\n",
              "\n",
              "                        })\n",
              "                };\n",
              "                \n",
              "            </script>\n",
              "        </div>\n",
              "</body>\n",
              "</html>"
            ]
          },
          "metadata": {
            "tags": []
          }
        }
      ]
    },
    {
      "cell_type": "markdown",
      "metadata": {
        "id": "V-UpM0QjlPel",
        "colab_type": "text"
      },
      "source": [
        "### Объявление финальной выборки для обучения"
      ]
    },
    {
      "cell_type": "code",
      "metadata": {
        "id": "_F_j5ghKlZTx",
        "colab_type": "code",
        "colab": {}
      },
      "source": [
        "X_train = pd.concat([X_train_train, X_train_valid])\n",
        "y_train = pd.concat([y_train_train, y_train_valid])\n",
        "\n",
        "X_test_existed, _ = filter_new_features(\n",
        "    X_train,\n",
        "    X_test,\n",
        "    n_repetitions=N_REPETITIONS\n",
        ")"
      ],
      "execution_count": 124,
      "outputs": []
    },
    {
      "cell_type": "markdown",
      "metadata": {
        "id": "M1lZ6eWnmdTB",
        "colab_type": "text"
      },
      "source": [
        "### Обучение"
      ]
    },
    {
      "cell_type": "code",
      "metadata": {
        "id": "ze8vrzDfpMRD",
        "colab_type": "code",
        "colab": {}
      },
      "source": [
        "nb_model = CategoricalNB()\n",
        "nb_model = nb_model.fit(X_train.values, y_train.values)"
      ],
      "execution_count": 125,
      "outputs": []
    },
    {
      "cell_type": "markdown",
      "metadata": {
        "id": "pKEwA7pFmt9R",
        "colab_type": "text"
      },
      "source": [
        "### Получение предсказание"
      ]
    },
    {
      "cell_type": "code",
      "metadata": {
        "id": "fPMn50lBpVdL",
        "colab_type": "code",
        "colab": {}
      },
      "source": [
        "def get_nb_predictions():\n",
        "    predicted_probas = nb_model.predict_proba(X_test_existed)\n",
        "    y_test_nb_predicted = pd.Series(\n",
        "        predicted_probas[:, 1],\n",
        "        index=X_test_existed.index,\n",
        "        name='Target'\n",
        "    )\n",
        "\n",
        "    y_test_catboost_predicted = get_catboost_predictions()\n",
        "    absense_mask = ~y_test_catboost_predicted.index.isin(list(y_test_nb_predicted.index))\n",
        "    \n",
        "    return pd.concat([y_test_catboost_predicted[absense_mask], y_test_nb_predicted]).sort_index()\n",
        "\n",
        "y_test_predicted = get_nb_predictions()\n",
        "\n",
        "SUBMISSTION_FILE_NAME = 'NB_with_Catboost_1_attemp_10_n_repetitions_10_models_300_iters_0.8_lr.csv'"
      ],
      "execution_count": 126,
      "outputs": []
    },
    {
      "cell_type": "markdown",
      "metadata": {
        "colab_type": "text",
        "id": "Ih6-PdgRPke5"
      },
      "source": [
        "# Отправка результатов"
      ]
    },
    {
      "cell_type": "markdown",
      "metadata": {
        "colab_type": "text",
        "id": "SqRyENOXMsHQ"
      },
      "source": [
        "## Определение пути"
      ]
    },
    {
      "cell_type": "code",
      "metadata": {
        "colab_type": "code",
        "id": "Saiyu_K_LR2S",
        "colab": {
          "base_uri": "https://localhost:8080/",
          "height": 55
        },
        "outputId": "f03a47d6-a6ff-482d-c73f-5efc2f39e2f0"
      },
      "source": [
        "submission_folder_path = os.path.join(PROJECT_DIR, 'submissions')\n",
        "file_path = os.path.join(submission_folder_path, SUBMISSTION_FILE_NAME)\n",
        "print(f\"File will be saved to {file_path}\")"
      ],
      "execution_count": 127,
      "outputs": [
        {
          "output_type": "stream",
          "text": [
            "File will be saved to /content/drive/My Drive/projects/Kaggle. ML Posterior. Gym training prediction/submissions/NB_with_Catboost_1_attemp_10_n_repetitions_10_models_300_iters_0.8_lr.csv\n"
          ],
          "name": "stdout"
        }
      ]
    },
    {
      "cell_type": "markdown",
      "metadata": {
        "colab_type": "text",
        "id": "bXNqGiZKMuJ-"
      },
      "source": [
        "## Сохранение"
      ]
    },
    {
      "cell_type": "code",
      "metadata": {
        "colab_type": "code",
        "id": "PsyUIyS4NL1e",
        "colab": {}
      },
      "source": [
        "y_test_predicted.to_csv(file_path)"
      ],
      "execution_count": 128,
      "outputs": []
    },
    {
      "cell_type": "markdown",
      "metadata": {
        "colab_type": "text",
        "id": "D8wDwY_NN5tL"
      },
      "source": [
        "## Отправка на кагл"
      ]
    },
    {
      "cell_type": "code",
      "metadata": {
        "colab_type": "code",
        "id": "84xj5IdMN8-H",
        "colab": {
          "base_uri": "https://localhost:8080/",
          "height": 71
        },
        "outputId": "8ea9b510-1401-43f0-fe0e-921172f40867"
      },
      "source": [
        "!kaggle competitions submit -c ml-posterior-gym-training-prediction -f \"$file_path\" -m \"send $SUBMISSTION_FILE_NAME\""
      ],
      "execution_count": 129,
      "outputs": [
        {
          "output_type": "stream",
          "text": [
            "Warning: Looks like you're using an outdated API Version, please consider updating (server 1.5.6 / client 1.5.4)\n",
            "\r  0% 0.00/1.09M [00:00<?, ?B/s]\r100% 1.09M/1.09M [00:00<00:00, 5.32MB/s]\n",
            "Successfully submitted to ML Posterior. Gym training prediction"
          ],
          "name": "stdout"
        }
      ]
    },
    {
      "cell_type": "markdown",
      "metadata": {
        "colab_type": "text",
        "id": "U7rfkVWfnF-S"
      },
      "source": [
        "# Юнит тестирование\n"
      ]
    },
    {
      "cell_type": "markdown",
      "metadata": {
        "colab_type": "text",
        "id": "FXQBH20aoTZH"
      },
      "source": [
        "## Подключение библиотек"
      ]
    },
    {
      "cell_type": "code",
      "metadata": {
        "colab_type": "code",
        "id": "wDe_sqoLoWYg",
        "colab": {}
      },
      "source": [
        "import unittest"
      ],
      "execution_count": null,
      "outputs": []
    },
    {
      "cell_type": "markdown",
      "metadata": {
        "colab_type": "text",
        "id": "yQSf1SvuoYHP"
      },
      "source": [
        "## Объявление тестирующего класса"
      ]
    },
    {
      "cell_type": "code",
      "metadata": {
        "colab_type": "code",
        "id": "Qz4myBWbomDN",
        "colab": {}
      },
      "source": [
        "class TestNotebook(unittest.TestCase):\n",
        "    def test_add(self):\n",
        "        self.assertEqual(2 + 2, 4)"
      ],
      "execution_count": null,
      "outputs": []
    },
    {
      "cell_type": "markdown",
      "metadata": {
        "colab_type": "text",
        "id": "CO-Nl-0tor6W"
      },
      "source": [
        "## Запуск тестов"
      ]
    },
    {
      "cell_type": "code",
      "metadata": {
        "colab_type": "code",
        "id": "PQyyW4jHowk6",
        "colab": {
          "base_uri": "https://localhost:8080/",
          "height": 143
        },
        "outputId": "beb89ea3-6f43-4aa2-936f-6e22d0ad3e9f"
      },
      "source": [
        "unittest.main(argv=[''], verbosity=2, exit=False)"
      ],
      "execution_count": null,
      "outputs": [
        {
          "output_type": "stream",
          "text": [
            "test_add (__main__.TestNotebook) ... ok\n",
            "\n",
            "----------------------------------------------------------------------\n",
            "Ran 1 test in 0.002s\n",
            "\n",
            "OK\n"
          ],
          "name": "stderr"
        },
        {
          "output_type": "execute_result",
          "data": {
            "text/plain": [
              "<unittest.main.TestProgram at 0x7f929c006dd8>"
            ]
          },
          "metadata": {
            "tags": []
          },
          "execution_count": 10
        }
      ]
    }
  ]
}