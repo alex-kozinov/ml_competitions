{
  "nbformat": 4,
  "nbformat_minor": 0,
  "metadata": {
    "kernelspec": {
      "display_name": "Python 3",
      "language": "python",
      "name": "python3"
    },
    "language_info": {
      "codemirror_mode": {
        "name": "ipython",
        "version": 3
      },
      "file_extension": ".py",
      "mimetype": "text/x-python",
      "name": "python",
      "nbconvert_exporter": "python",
      "pygments_lexer": "ipython3",
      "version": "3.6.10"
    },
    "colab": {
      "name": "solution.ipynb",
      "provenance": [],
      "toc_visible": true
    }
  },
  "cells": [
    {
      "cell_type": "markdown",
      "metadata": {
        "id": "fPWzgA5pirVo",
        "colab_type": "text"
      },
      "source": [
        "# Введение"
      ]
    },
    {
      "cell_type": "markdown",
      "metadata": {
        "id": "CybclLK6ijga",
        "colab_type": "text"
      },
      "source": [
        "## Описание задачи\n",
        "[источник](https://www.kaggle.com/c/ml-posterior-gym-training-prediction)"
      ]
    },
    {
      "cell_type": "markdown",
      "metadata": {
        "id": "D8sINhZyjdL7",
        "colab_type": "text"
      },
      "source": [
        "### EN"
      ]
    },
    {
      "cell_type": "markdown",
      "metadata": {
        "id": "CKOjPGgCjWX2",
        "colab_type": "text"
      },
      "source": [
        "A network of sports clubs tracks training sessions conducted by its coaches for clients. If a client wants to sign up for a training session, he/she calls the reception or come in person. The GYM’s staff appoints the appropriate time, the coach and the club. At your disposal, you have a database of several GYMs with this data. The data contains a log of training sessions for 2017 and 2018 in a trainset, and training sessions for 2019 in a testset. There is a boolean target flag for each training session: whether a training session had been.\n",
        "\n",
        "You face the task of reducing the number of training process skips by identifying factors that affect the skip. For this purpose, you have to build a model that predicts the probability of the client going to the GYM training.\n",
        "\n",
        "Optional question:\n",
        "\n",
        "* How could we enrich the data to improve the model quality?"
      ]
    },
    {
      "cell_type": "markdown",
      "metadata": {
        "id": "9Bn7vUi_jirs",
        "colab_type": "text"
      },
      "source": [
        "## Описание датасета"
      ]
    },
    {
      "cell_type": "markdown",
      "metadata": {
        "id": "8K1Llc2PkRQw",
        "colab_type": "text"
      },
      "source": [
        "### EN"
      ]
    },
    {
      "cell_type": "markdown",
      "metadata": {
        "id": "cyNr9jFHj8va",
        "colab_type": "text"
      },
      "source": [
        "* Id: index of training session\n",
        "* ClientID: Client who signed up for a training session\n",
        "* CoachID: Сoach to whom the client signed up\n",
        "* GymID: GYM center where the training will take place. One client can have trainings in different gyms. Also one coach can have trrainings in different gyms.\n",
        "* TrainingID: Training type: strength training, cardio, swimming pool, etc\n",
        "* Time: Scheduled time\n",
        "* Target: Whether a training session had been: Yes(1) or No(0)"
      ]
    },
    {
      "cell_type": "markdown",
      "metadata": {
        "id": "DfJMbHB1j3qT",
        "colab_type": "text"
      },
      "source": [
        "# Подготовка ноутбука"
      ]
    },
    {
      "cell_type": "markdown",
      "metadata": {
        "id": "eBJOdy5g-7Vf",
        "colab_type": "text"
      },
      "source": [
        "## Первичные константы "
      ]
    },
    {
      "cell_type": "code",
      "metadata": {
        "id": "04FyTcMy-_y-",
        "colab_type": "code",
        "colab": {}
      },
      "source": [
        "PROJECT_NAME = \"Kaggle. ML Posterior. Gym training prediction\"\n",
        "MOUNT_DIR = '/content/drive' # In case Colab Usage\n",
        "VALIDATE_RATIO = 0.2"
      ],
      "execution_count": 216,
      "outputs": []
    },
    {
      "cell_type": "markdown",
      "metadata": {
        "id": "lBmD-gyRrdsr",
        "colab_type": "text"
      },
      "source": [
        ""
      ]
    },
    {
      "cell_type": "markdown",
      "metadata": {
        "id": "dbeCUdVpLISo",
        "colab_type": "text"
      },
      "source": [
        "## Дополнительные установки"
      ]
    },
    {
      "cell_type": "code",
      "metadata": {
        "id": "QYUv2A8ZLW9S",
        "colab_type": "code",
        "colab": {
          "base_uri": "https://localhost:8080/",
          "height": 289
        },
        "outputId": "8b1d0779-fbd3-460a-ef51-f91aca7b5bc0"
      },
      "source": [
        "!pip install catboost"
      ],
      "execution_count": 217,
      "outputs": [
        {
          "output_type": "stream",
          "text": [
            "Requirement already satisfied: catboost in /usr/local/lib/python3.6/dist-packages (0.23.2)\n",
            "Requirement already satisfied: scipy in /usr/local/lib/python3.6/dist-packages (from catboost) (1.4.1)\n",
            "Requirement already satisfied: graphviz in /usr/local/lib/python3.6/dist-packages (from catboost) (0.10.1)\n",
            "Requirement already satisfied: plotly in /usr/local/lib/python3.6/dist-packages (from catboost) (4.4.1)\n",
            "Requirement already satisfied: pandas>=0.24.0 in /usr/local/lib/python3.6/dist-packages (from catboost) (1.0.5)\n",
            "Requirement already satisfied: matplotlib in /usr/local/lib/python3.6/dist-packages (from catboost) (3.2.2)\n",
            "Requirement already satisfied: numpy>=1.16.0 in /usr/local/lib/python3.6/dist-packages (from catboost) (1.18.5)\n",
            "Requirement already satisfied: six in /usr/local/lib/python3.6/dist-packages (from catboost) (1.12.0)\n",
            "Requirement already satisfied: retrying>=1.3.3 in /usr/local/lib/python3.6/dist-packages (from plotly->catboost) (1.3.3)\n",
            "Requirement already satisfied: pytz>=2017.2 in /usr/local/lib/python3.6/dist-packages (from pandas>=0.24.0->catboost) (2018.9)\n",
            "Requirement already satisfied: python-dateutil>=2.6.1 in /usr/local/lib/python3.6/dist-packages (from pandas>=0.24.0->catboost) (2.8.1)\n",
            "Requirement already satisfied: kiwisolver>=1.0.1 in /usr/local/lib/python3.6/dist-packages (from matplotlib->catboost) (1.2.0)\n",
            "Requirement already satisfied: cycler>=0.10 in /usr/local/lib/python3.6/dist-packages (from matplotlib->catboost) (0.10.0)\n",
            "Requirement already satisfied: pyparsing!=2.0.4,!=2.1.2,!=2.1.6,>=2.0.1 in /usr/local/lib/python3.6/dist-packages (from matplotlib->catboost) (2.4.7)\n"
          ],
          "name": "stdout"
        }
      ]
    },
    {
      "cell_type": "markdown",
      "metadata": {
        "id": "DRtEggw5mMcU",
        "colab_type": "text"
      },
      "source": [
        "## Библиотеки"
      ]
    },
    {
      "cell_type": "code",
      "metadata": {
        "id": "PdJYo2EcmRZR",
        "colab_type": "code",
        "colab": {}
      },
      "source": [
        "import os\n",
        "\n",
        "from datetime import datetime\n",
        "\n",
        "from collections import Counter\n",
        "\n",
        "import numpy as np\n",
        "\n",
        "import pandas as pd\n",
        "\n",
        "import catboost as ctb\n",
        "from catboost import CatBoostClassifier, Pool\n",
        "from catboost.utils import get_roc_curve\n",
        "\n",
        "\n",
        "import matplotlib.pyplot as plt\n",
        "matplotlib.rcParams.update({'font.size':14})\n",
        "\n",
        "%matplotlib inline"
      ],
      "execution_count": 218,
      "outputs": []
    },
    {
      "cell_type": "markdown",
      "metadata": {
        "id": "fTALJ4H5mVr4",
        "colab_type": "text"
      },
      "source": [
        "## Обработка случая работы в Google.Colab"
      ]
    },
    {
      "cell_type": "markdown",
      "metadata": {
        "id": "b0OMb3oiBZDv",
        "colab_type": "text"
      },
      "source": [
        "### Подключение библиотек"
      ]
    },
    {
      "cell_type": "code",
      "metadata": {
        "id": "TeUXiI4RmxoL",
        "colab_type": "code",
        "colab": {
          "base_uri": "https://localhost:8080/",
          "height": 161
        },
        "outputId": "29f35ea4-fc88-45af-90a5-7640c620daf4"
      },
      "source": [
        "try:\n",
        "    from google.colab import files, drive\n",
        "    \n",
        "    USE_COLAB = True\n",
        "except:\n",
        "    USE_COLAB = False\n",
        "\n",
        "if USE_COLAB:\n",
        "    print(\"Don't forget to avoid disconnections:\")\n",
        "    print(\"\"\"\n",
        "function ClickConnect(){\n",
        "    console.log(\"Clicking\"); \n",
        "    document.querySelector(\"colab-connect-button\").click() \n",
        "}\n",
        "setInterval(ClickConnect,60000)\n",
        "    \"\"\")"
      ],
      "execution_count": 219,
      "outputs": [
        {
          "output_type": "stream",
          "text": [
            "Don't forget to avoid disconnections:\n",
            "\n",
            "function ClickConnect(){\n",
            "    console.log(\"Clicking\"); \n",
            "    document.querySelector(\"colab-connect-button\").click() \n",
            "}\n",
            "setInterval(ClickConnect,60000)\n",
            "    \n"
          ],
          "name": "stdout"
        }
      ]
    },
    {
      "cell_type": "markdown",
      "metadata": {
        "id": "7GAT7jD_Bf3t",
        "colab_type": "text"
      },
      "source": [
        "### Подключение к Google.Drive"
      ]
    },
    {
      "cell_type": "code",
      "metadata": {
        "id": "hv47CJ8cBknH",
        "colab_type": "code",
        "colab": {
          "base_uri": "https://localhost:8080/",
          "height": 73
        },
        "outputId": "fff5f69c-0bcc-4a30-9be8-24abdf35b5bf"
      },
      "source": [
        "if USE_COLAB:\n",
        "    drive.mount(MOUNT_DIR)\n",
        "    DRIVE_DIR = os.path.join(MOUNT_DIR, 'My Drive')\n",
        "    print(f\"Drive directory is {DRIVE_DIR}\")"
      ],
      "execution_count": 220,
      "outputs": [
        {
          "output_type": "stream",
          "text": [
            "Drive already mounted at /content/drive; to attempt to forcibly remount, call drive.mount(\"/content/drive\", force_remount=True).\n",
            "Drive directory is /content/drive/My Drive\n"
          ],
          "name": "stdout"
        }
      ]
    },
    {
      "cell_type": "markdown",
      "metadata": {
        "id": "ninPXIH2DPCQ",
        "colab_type": "text"
      },
      "source": [
        "### Установка соединения с Kaggle"
      ]
    },
    {
      "cell_type": "code",
      "metadata": {
        "id": "CvGz4ynfDvJi",
        "colab_type": "code",
        "colab": {
          "base_uri": "https://localhost:8080/",
          "height": 35
        },
        "outputId": "281dbe34-b1d9-44e3-9fd4-61e57700b56b"
      },
      "source": [
        "if USE_COLAB:\n",
        "    !pip install -q kaggle\n",
        "    !mkdir ~/.kaggle\n",
        "    kaggle_file = os.path.join(DRIVE_DIR, 'kaggle.json')\n",
        "    !cp \"$kaggle_file\" ~/.kaggle/\n",
        "    !chmod 600 ~/.kaggle/kaggle.json"
      ],
      "execution_count": 221,
      "outputs": [
        {
          "output_type": "stream",
          "text": [
            "mkdir: cannot create directory ‘/root/.kaggle’: File exists\n"
          ],
          "name": "stdout"
        }
      ]
    },
    {
      "cell_type": "markdown",
      "metadata": {
        "id": "ANBUdV7E97S3",
        "colab_type": "text"
      },
      "source": [
        "## Объявление рабочей директории"
      ]
    },
    {
      "cell_type": "markdown",
      "metadata": {
        "id": "3lMtcGAx-VTG",
        "colab_type": "text"
      },
      "source": [
        "Подключение к Google.Drive в случае работы c Google.Colab"
      ]
    },
    {
      "cell_type": "code",
      "metadata": {
        "id": "fCs60MoO96na",
        "colab_type": "code",
        "colab": {
          "base_uri": "https://localhost:8080/",
          "height": 53
        },
        "outputId": "e3865a4d-41f6-4444-9b2e-a33c94956527"
      },
      "source": [
        "PROJECT_DIR = os.path.join(DRIVE_DIR, 'projects', PROJECT_NAME) if USE_COLAB else './'\n",
        "WORK_DIR = '/content' if USE_COLAB else PROJECT_DIR\n",
        "print(f\"Project directory is {PROJECT_DIR}\")\n",
        "print(f\"Working directory is {WORK_DIR}\")"
      ],
      "execution_count": 223,
      "outputs": [
        {
          "output_type": "stream",
          "text": [
            "Project directory is /content/drive/My Drive/projects/Kaggle. ML Posterior. Gym training prediction\n",
            "Working directory is /content\n"
          ],
          "name": "stdout"
        }
      ]
    },
    {
      "cell_type": "markdown",
      "metadata": {
        "id": "nBZbmTJtyro3",
        "colab_type": "text"
      },
      "source": [
        "# Обработка данных"
      ]
    },
    {
      "cell_type": "markdown",
      "metadata": {
        "id": "8v10jmWh7ZEq",
        "colab_type": "text"
      },
      "source": [
        "На выходе должны быть объявлены переменные:\n",
        "\n",
        "* **X_train**: pd.DataFrame\\\n",
        "Id | ClientID | ClientType | CoachID | GymID | TrainingID | Month | Day\n",
        "* **y_train**: pd.Series\\\n",
        "Id | Target\n",
        "* **X_valid**: pd.DataFrame\\\n",
        "Id | ClientID | ClientType | CoachID | GymID | TrainingID | Month | Day\n",
        "* **y_valid**: pd.Series\\\n",
        "Id | Target\n",
        "* **X_test**: pd.DataFrame\\\n",
        "Id | ClientID | ClientType | CoachID | GymID | TrainingID | Month | Day"
      ]
    },
    {
      "cell_type": "markdown",
      "metadata": {
        "id": "PIApOaBJ6Jvn",
        "colab_type": "text"
      },
      "source": [
        "## Загрузка"
      ]
    },
    {
      "cell_type": "markdown",
      "metadata": {
        "id": "VnrI6EYm7Bo2",
        "colab_type": "text"
      },
      "source": [
        "Загрузка train/test датасета в датафреймы\n",
        "\n",
        "На выходе должны быть объявлены две переменные:\n",
        "* train_dataset: pd.Dataframe\n",
        "* test_dataset: pd.Dataframe"
      ]
    },
    {
      "cell_type": "markdown",
      "metadata": {
        "id": "V-JF8VXJE_dW",
        "colab_type": "text"
      },
      "source": [
        "### Скачивание архива\n"
      ]
    },
    {
      "cell_type": "code",
      "metadata": {
        "id": "Kf9z7X7BE_C4",
        "colab_type": "code",
        "colab": {
          "base_uri": "https://localhost:8080/",
          "height": 89
        },
        "outputId": "8fd00646-352c-4272-af56-1db2009f331a"
      },
      "source": [
        "src_data_dir_path = os.path.join(PROJECT_DIR, 'data')\n",
        "!kaggle competitions download -c ml-posterior-gym-training-prediction  -p \"$src_data_dir_path\""
      ],
      "execution_count": 224,
      "outputs": [
        {
          "output_type": "stream",
          "text": [
            "Warning: Looks like you're using an outdated API Version, please consider updating (server 1.5.6 / client 1.5.4)\n",
            "sample_submission.csv: Skipping, found more recently modified local copy (use --force to force download)\n",
            "test.csv.zip: Skipping, found more recently modified local copy (use --force to force download)\n",
            "train.csv.zip: Skipping, found more recently modified local copy (use --force to force download)\n"
          ],
          "name": "stdout"
        }
      ]
    },
    {
      "cell_type": "markdown",
      "metadata": {
        "id": "ahegeQtfPM3B",
        "colab_type": "text"
      },
      "source": [
        "### Разархивация"
      ]
    },
    {
      "cell_type": "code",
      "metadata": {
        "id": "ndOKGc8lQ7YX",
        "colab_type": "code",
        "colab": {}
      },
      "source": [
        "src_train_file_path = os.path.join(data_dir_path, 'train.csv.zip')\n",
        "src_test_file_path = os.path.join(data_dir_path, 'test.csv.zip')\n",
        "dist_data_dir = os.path.join(WORK_DIR, 'data')\n",
        "!unzip -o \"$src_train_file_path\" -d \"$dist_data_dir\" > /dev/null\n",
        "!unzip -o \"$src_test_file_path\" -d \"$dist_data_dir\" > /dev/null"
      ],
      "execution_count": 225,
      "outputs": []
    },
    {
      "cell_type": "markdown",
      "metadata": {
        "id": "c3cEAgZrT0PZ",
        "colab_type": "text"
      },
      "source": [
        "### Считывание"
      ]
    },
    {
      "cell_type": "code",
      "metadata": {
        "id": "SlgGaj1qT5QJ",
        "colab_type": "code",
        "colab": {}
      },
      "source": [
        "train_file_path = os.path.join(dist_data_dir, 'train.csv')\n",
        "test_file_path = os.path.join(dist_data_dir, 'test.csv')\n",
        "\n",
        "train_dataset = pd.read_csv(train_file_path, index_col='Id')\n",
        "test_dataset = pd.read_csv(test_file_path, index_col='Id')"
      ],
      "execution_count": 226,
      "outputs": []
    },
    {
      "cell_type": "markdown",
      "metadata": {
        "id": "rYp375o3sABY",
        "colab_type": "text"
      },
      "source": [
        "## Визуализация"
      ]
    },
    {
      "cell_type": "markdown",
      "metadata": {
        "id": "j2aBvQjjsB6S",
        "colab_type": "text"
      },
      "source": [
        "### Просмотр первых строк"
      ]
    },
    {
      "cell_type": "code",
      "metadata": {
        "id": "__PnCfkPsMUE",
        "colab_type": "code",
        "colab": {
          "base_uri": "https://localhost:8080/",
          "height": 235
        },
        "outputId": "ecaa79c2-4a89-451f-a2d3-782a945dfd5d"
      },
      "source": [
        "train_dataset.head()"
      ],
      "execution_count": 227,
      "outputs": [
        {
          "output_type": "execute_result",
          "data": {
            "text/html": [
              "<div>\n",
              "<style scoped>\n",
              "    .dataframe tbody tr th:only-of-type {\n",
              "        vertical-align: middle;\n",
              "    }\n",
              "\n",
              "    .dataframe tbody tr th {\n",
              "        vertical-align: top;\n",
              "    }\n",
              "\n",
              "    .dataframe thead th {\n",
              "        text-align: right;\n",
              "    }\n",
              "</style>\n",
              "<table border=\"1\" class=\"dataframe\">\n",
              "  <thead>\n",
              "    <tr style=\"text-align: right;\">\n",
              "      <th></th>\n",
              "      <th>Time</th>\n",
              "      <th>ClientID</th>\n",
              "      <th>ClientType</th>\n",
              "      <th>CoachID</th>\n",
              "      <th>GymID</th>\n",
              "      <th>TrainingID</th>\n",
              "      <th>Target</th>\n",
              "    </tr>\n",
              "    <tr>\n",
              "      <th>Id</th>\n",
              "      <th></th>\n",
              "      <th></th>\n",
              "      <th></th>\n",
              "      <th></th>\n",
              "      <th></th>\n",
              "      <th></th>\n",
              "      <th></th>\n",
              "    </tr>\n",
              "  </thead>\n",
              "  <tbody>\n",
              "    <tr>\n",
              "      <th>0</th>\n",
              "      <td>2018-07-02 09:40:00</td>\n",
              "      <td>1</td>\n",
              "      <td>1</td>\n",
              "      <td>780</td>\n",
              "      <td>0</td>\n",
              "      <td>694</td>\n",
              "      <td>0</td>\n",
              "    </tr>\n",
              "    <tr>\n",
              "      <th>1</th>\n",
              "      <td>2018-07-20 11:50:00</td>\n",
              "      <td>1</td>\n",
              "      <td>1</td>\n",
              "      <td>567</td>\n",
              "      <td>0</td>\n",
              "      <td>655</td>\n",
              "      <td>0</td>\n",
              "    </tr>\n",
              "    <tr>\n",
              "      <th>2</th>\n",
              "      <td>2018-11-01 11:25:00</td>\n",
              "      <td>1</td>\n",
              "      <td>1</td>\n",
              "      <td>622</td>\n",
              "      <td>0</td>\n",
              "      <td>2523</td>\n",
              "      <td>0</td>\n",
              "    </tr>\n",
              "    <tr>\n",
              "      <th>3</th>\n",
              "      <td>2017-01-18 13:05:00</td>\n",
              "      <td>60</td>\n",
              "      <td>1</td>\n",
              "      <td>105</td>\n",
              "      <td>0</td>\n",
              "      <td>719</td>\n",
              "      <td>1</td>\n",
              "    </tr>\n",
              "    <tr>\n",
              "      <th>4</th>\n",
              "      <td>2017-05-17 07:40:00</td>\n",
              "      <td>60</td>\n",
              "      <td>1</td>\n",
              "      <td>622</td>\n",
              "      <td>0</td>\n",
              "      <td>2523</td>\n",
              "      <td>1</td>\n",
              "    </tr>\n",
              "  </tbody>\n",
              "</table>\n",
              "</div>"
            ],
            "text/plain": [
              "                   Time  ClientID  ClientType  ...  GymID  TrainingID  Target\n",
              "Id                                             ...                           \n",
              "0   2018-07-02 09:40:00         1           1  ...      0         694       0\n",
              "1   2018-07-20 11:50:00         1           1  ...      0         655       0\n",
              "2   2018-11-01 11:25:00         1           1  ...      0        2523       0\n",
              "3   2017-01-18 13:05:00        60           1  ...      0         719       1\n",
              "4   2017-05-17 07:40:00        60           1  ...      0        2523       1\n",
              "\n",
              "[5 rows x 7 columns]"
            ]
          },
          "metadata": {
            "tags": []
          },
          "execution_count": 227
        }
      ]
    },
    {
      "cell_type": "code",
      "metadata": {
        "id": "KScgn2FtsQON",
        "colab_type": "code",
        "colab": {
          "base_uri": "https://localhost:8080/",
          "height": 235
        },
        "outputId": "14cf2ccf-b149-49ea-dbdf-b9ccc782c3b4"
      },
      "source": [
        "test_dataset.head()"
      ],
      "execution_count": 228,
      "outputs": [
        {
          "output_type": "execute_result",
          "data": {
            "text/html": [
              "<div>\n",
              "<style scoped>\n",
              "    .dataframe tbody tr th:only-of-type {\n",
              "        vertical-align: middle;\n",
              "    }\n",
              "\n",
              "    .dataframe tbody tr th {\n",
              "        vertical-align: top;\n",
              "    }\n",
              "\n",
              "    .dataframe thead th {\n",
              "        text-align: right;\n",
              "    }\n",
              "</style>\n",
              "<table border=\"1\" class=\"dataframe\">\n",
              "  <thead>\n",
              "    <tr style=\"text-align: right;\">\n",
              "      <th></th>\n",
              "      <th>Time</th>\n",
              "      <th>ClientID</th>\n",
              "      <th>ClientType</th>\n",
              "      <th>CoachID</th>\n",
              "      <th>GymID</th>\n",
              "      <th>TrainingID</th>\n",
              "    </tr>\n",
              "    <tr>\n",
              "      <th>Id</th>\n",
              "      <th></th>\n",
              "      <th></th>\n",
              "      <th></th>\n",
              "      <th></th>\n",
              "      <th></th>\n",
              "      <th></th>\n",
              "    </tr>\n",
              "  </thead>\n",
              "  <tbody>\n",
              "    <tr>\n",
              "      <th>0</th>\n",
              "      <td>2019-06-21 10:30:00</td>\n",
              "      <td>1</td>\n",
              "      <td>1</td>\n",
              "      <td>463</td>\n",
              "      <td>3</td>\n",
              "      <td>692</td>\n",
              "    </tr>\n",
              "    <tr>\n",
              "      <th>1</th>\n",
              "      <td>2019-05-19 15:25:00</td>\n",
              "      <td>1</td>\n",
              "      <td>1</td>\n",
              "      <td>728</td>\n",
              "      <td>6</td>\n",
              "      <td>2523</td>\n",
              "    </tr>\n",
              "    <tr>\n",
              "      <th>2</th>\n",
              "      <td>2019-05-24 18:20:00</td>\n",
              "      <td>1</td>\n",
              "      <td>1</td>\n",
              "      <td>622</td>\n",
              "      <td>0</td>\n",
              "      <td>434</td>\n",
              "    </tr>\n",
              "    <tr>\n",
              "      <th>3</th>\n",
              "      <td>2019-05-24 18:25:00</td>\n",
              "      <td>1</td>\n",
              "      <td>1</td>\n",
              "      <td>622</td>\n",
              "      <td>0</td>\n",
              "      <td>2523</td>\n",
              "    </tr>\n",
              "    <tr>\n",
              "      <th>4</th>\n",
              "      <td>2019-06-21 08:00:00</td>\n",
              "      <td>1</td>\n",
              "      <td>1</td>\n",
              "      <td>565</td>\n",
              "      <td>3</td>\n",
              "      <td>2523</td>\n",
              "    </tr>\n",
              "  </tbody>\n",
              "</table>\n",
              "</div>"
            ],
            "text/plain": [
              "                   Time  ClientID  ClientType  CoachID  GymID  TrainingID\n",
              "Id                                                                       \n",
              "0   2019-06-21 10:30:00         1           1      463      3         692\n",
              "1   2019-05-19 15:25:00         1           1      728      6        2523\n",
              "2   2019-05-24 18:20:00         1           1      622      0         434\n",
              "3   2019-05-24 18:25:00         1           1      622      0        2523\n",
              "4   2019-06-21 08:00:00         1           1      565      3        2523"
            ]
          },
          "metadata": {
            "tags": []
          },
          "execution_count": 228
        }
      ]
    },
    {
      "cell_type": "markdown",
      "metadata": {
        "id": "3npuEMZ5XAFB",
        "colab_type": "text"
      },
      "source": [
        "## Финальная обработка"
      ]
    },
    {
      "cell_type": "markdown",
      "metadata": {
        "id": "gp-RiW4tXbxW",
        "colab_type": "text"
      },
      "source": [
        "### Извлечение выборки и таргета\n",
        "\n",
        "На выходе должны быть объявлены переменные:\n",
        "\n",
        "* **X_train_pure**: pd.DataFrame\\\n",
        "Id | Time | ClientID | ClientType | CoachID | GymID | TrainingID\n",
        "* **y_train**: pd.Series\\\n",
        "Id | Target\n",
        "* **X_valid_pure**: pd.DataFrame\\\n",
        "Id | Time | ClientID | ClientType | CoachID | GymID | TrainingID\n",
        "* **y_valid**: pd.Series\\\n",
        "Id | Target\n",
        "* **X_test_pure**: pd.DataFrame\\\n",
        "Id | Time | ClientID | ClientType | CoachID | GymID | TrainingID"
      ]
    },
    {
      "cell_type": "code",
      "metadata": {
        "id": "XTx9aq_Gql0l",
        "colab_type": "code",
        "colab": {}
      },
      "source": [
        "train_dataset = train_dataset.sort_values(by='Time')\n",
        "\n",
        "partition = int(len(train_dataset) * (1 - VALIDATE_RATIO))\n",
        "train_train_dataset = train_dataset.iloc[:partition]\n",
        "train_validation_dataset = train_dataset.iloc[partition:]\n",
        "\n",
        "X_train_pure = train_train_dataset.drop('Target', axis=1)\n",
        "y_train = train_train_dataset['Target']\n",
        "X_valid_pure = train_validation_dataset.drop('Target', axis=1)\n",
        "y_valid = train_validation_dataset['Target']\n",
        "X_test_pure = test_dataset"
      ],
      "execution_count": 229,
      "outputs": []
    },
    {
      "cell_type": "markdown",
      "metadata": {
        "id": "BD6LbHoswfKh",
        "colab_type": "text"
      },
      "source": [
        "### Добавление дополнительных признаков\n",
        "\n",
        "* **X_train**: pd.DataFrame\\\n",
        "Id | ClientID | ClientType | CoachID | GymID | TrainingID | Month | Day | Season\n",
        "* **y_train**: pd.Series\\\n",
        "Id | Target\n",
        "* **X_valid**: pd.DataFrame\\\n",
        "Id | ClientID | ClientType | CoachID | GymID | TrainingID | Month | Day | Season\n",
        "* **y_valid**: pd.Series\\\n",
        "Id | Target\n",
        "* **X_test**: pd.DataFrame\\\n",
        "Id | ClientID | ClientType | CoachID | GymID | TrainingID | Month | Day | Season"
      ]
    },
    {
      "cell_type": "code",
      "metadata": {
        "id": "zrWgxyiDwj9p",
        "colab_type": "code",
        "colab": {}
      },
      "source": [
        "def add_time_features(X):\n",
        "    datetime_series = pd.to_datetime(X['Time'], format='%Y-%m-%d %H:%M:%S')\n",
        "    X['Month'] = pd.DatetimeIndex(datetime_series).month\n",
        "    X['Day'] = pd.DatetimeIndex(datetime_series).day\n",
        "    X['Season'] = (X['Month'] % 12 + 3) // 3\n",
        "    return X\n",
        "\n",
        "def prepare_sample(X):\n",
        "    X = X.copy()\n",
        "    X = add_time_features(X)\n",
        "    return X.drop('Time', axis=1)"
      ],
      "execution_count": 232,
      "outputs": []
    },
    {
      "cell_type": "code",
      "metadata": {
        "id": "u-m9DEy40Ykh",
        "colab_type": "code",
        "colab": {}
      },
      "source": [
        "X_train = prepare_sample(X_train_pure)\n",
        "X_valid = prepare_sample(X_valid_pure)\n",
        "X_test = prepare_sample(X_train_pure)"
      ],
      "execution_count": 231,
      "outputs": []
    },
    {
      "cell_type": "markdown",
      "metadata": {
        "id": "YV16B-nOFVRf",
        "colab_type": "text"
      },
      "source": [
        "# Эксперименты с обучением"
      ]
    },
    {
      "cell_type": "markdown",
      "metadata": {
        "id": "aYb4oyryFYiC",
        "colab_type": "text"
      },
      "source": [
        "## Catboost"
      ]
    },
    {
      "cell_type": "markdown",
      "metadata": {
        "id": "AYEJHFb6cGo3",
        "colab_type": "text"
      },
      "source": [
        "### Объявление пула и параметров"
      ]
    },
    {
      "cell_type": "code",
      "metadata": {
        "id": "yBK-GPNbFa3M",
        "colab_type": "code",
        "colab": {}
      },
      "source": [
        "cat_features = [\n",
        "    'ClientID',\n",
        "    'ClientType',\n",
        "    'CoachID',\n",
        "    'GymID',\n",
        "    'TrainingID',\n",
        "    'Month',\n",
        "    'Day'\n",
        "    'Season'\n",
        "]\n",
        "train_pool = Pool(X_train, y_train, cat_features=cat_features)\n",
        "valid_pool = Pool(X_valid, y_valid, cat_features=cat_features)\n",
        "params = {\n",
        "    'iterations': 300,\n",
        "    'learning_rate': 0.05,\n",
        "    'eval_metric': 'AUC',\n",
        "    'random_seed': 42,\n",
        "    'logging_level': 'Silent',\n",
        "    'use_best_model': False\n",
        "}"
      ],
      "execution_count": null,
      "outputs": []
    },
    {
      "cell_type": "markdown",
      "metadata": {
        "id": "DtsY2ubtcRFh",
        "colab_type": "text"
      },
      "source": [
        "### Обучение с валидацией"
      ]
    },
    {
      "cell_type": "code",
      "metadata": {
        "id": "P2b66TLUeWqK",
        "colab_type": "code",
        "colab": {
          "base_uri": "https://localhost:8080/",
          "height": 53
        },
        "outputId": "a65dc12d-eaf2-48b5-c7f4-695a1c3db0ee"
      },
      "source": [
        "%%time\n",
        "model = CatBoostClassifier(**params)\n",
        "model.fit(train_pool, eval_set=valid_pool)"
      ],
      "execution_count": null,
      "outputs": [
        {
          "output_type": "stream",
          "text": [
            "CPU times: user 4min 34s, sys: 22.2 s, total: 4min 56s\n",
            "Wall time: 2min 32s\n"
          ],
          "name": "stdout"
        }
      ]
    },
    {
      "cell_type": "markdown",
      "metadata": {
        "id": "tTFp7opGcaSm",
        "colab_type": "text"
      },
      "source": [
        "### Визуализация результатов"
      ]
    },
    {
      "cell_type": "code",
      "metadata": {
        "id": "wJNvkuM9cfi6",
        "colab_type": "code",
        "colab": {
          "base_uri": "https://localhost:8080/",
          "height": 1000
        },
        "outputId": "58adb3d3-7277-4b1b-ccbe-4c03282a6a12"
      },
      "source": [
        "eval_results = model.get_evals_result()\n",
        "valid_loss_min_iter = np.argmin(eval_results['validation']['Logloss'])\n",
        "\n",
        "fig = plt.figure(figsize=(29.7/2, 21.))\n",
        "\n",
        "loss_ax = fig.add_subplot(2, 1, 1)\n",
        "auc_ax = fig.add_subplot(2, 1, 2)\n",
        "\n",
        "loss_ax.set_title('Logloss')\n",
        "loss_ax.set_xlabel('Iter num')\n",
        "loss_ax.set_ylabel('LogLoss')\n",
        "loss_ax.plot(eval_results['learn']['Logloss'])\n",
        "loss_ax.plot(eval_results['validation']['Logloss'])\n",
        "loss_ax.scatter(\n",
        "    valid_loss_min_iter,\n",
        "    eval_results['validation']['Logloss'][valid_loss_min_iter],\n",
        "    )"
      ],
      "execution_count": null,
      "outputs": [
        {
          "output_type": "execute_result",
          "data": {
            "text/plain": [
              "<matplotlib.collections.PathCollection at 0x7f804cf9ccf8>"
            ]
          },
          "metadata": {
            "tags": []
          },
          "execution_count": 185
        },
        {
          "output_type": "display_data",
          "data": {
            "image/png": "[encoded data removed]",
            "text/plain": [
              "<Figure size 1069.2x1512 with 2 Axes>"
            ]
          },
          "metadata": {
            "tags": [],
            "needs_background": "light"
          }
        }
      ]
    },
    {
      "cell_type": "code",
      "metadata": {
        "id": "ttfDaflxNE2k",
        "colab_type": "code",
        "colab": {
          "base_uri": "https://localhost:8080/",
          "height": 35
        },
        "outputId": "4a6ec1ce-bc6d-4e71-f698-ffb7d618ded0"
      },
      "source": [
        "model = CatBoostClassifier(**params)\n",
        "model.fit(train_pool, eval_set=valid_pool)\n"
      ],
      "execution_count": null,
      "outputs": [
        {
          "output_type": "execute_result",
          "data": {
            "text/plain": [
              "<catboost.core.CatBoostClassifier at 0x7f804dd409b0>"
            ]
          },
          "metadata": {
            "tags": []
          },
          "execution_count": 158
        }
      ]
    },
    {
      "cell_type": "code",
      "metadata": {
        "id": "f5x6AuDuPd_W",
        "colab_type": "code",
        "colab": {}
      },
      "source": [
        "y_pred = model.predict(X_test)"
      ],
      "execution_count": null,
      "outputs": []
    },
    {
      "cell_type": "markdown",
      "metadata": {
        "id": "Ih6-PdgRPke5",
        "colab_type": "text"
      },
      "source": [
        "# Отправка результатов"
      ]
    },
    {
      "cell_type": "code",
      "metadata": {
        "id": "WLJgZ96hPn6p",
        "colab_type": "code",
        "colab": {
          "base_uri": "https://localhost:8080/",
          "height": 35
        },
        "outputId": "213cc9e3-377e-4591-ccaa-b3cb6c30d724"
      },
      "source": [
        "y_pred"
      ],
      "execution_count": null,
      "outputs": [
        {
          "output_type": "execute_result",
          "data": {
            "text/plain": [
              "array([1, 0, 1, ..., 1, 1, 1])"
            ]
          },
          "metadata": {
            "tags": []
          },
          "execution_count": 161
        }
      ]
    },
    {
      "cell_type": "markdown",
      "metadata": {
        "id": "U7rfkVWfnF-S",
        "colab_type": "text"
      },
      "source": [
        "# Юнит тестирование\n"
      ]
    },
    {
      "cell_type": "markdown",
      "metadata": {
        "id": "FXQBH20aoTZH",
        "colab_type": "text"
      },
      "source": [
        "## Подключение библиотек"
      ]
    },
    {
      "cell_type": "code",
      "metadata": {
        "id": "wDe_sqoLoWYg",
        "colab_type": "code",
        "colab": {}
      },
      "source": [
        "import unittest"
      ],
      "execution_count": null,
      "outputs": []
    },
    {
      "cell_type": "markdown",
      "metadata": {
        "id": "yQSf1SvuoYHP",
        "colab_type": "text"
      },
      "source": [
        "## Объявление тестирующего класса"
      ]
    },
    {
      "cell_type": "code",
      "metadata": {
        "id": "Qz4myBWbomDN",
        "colab_type": "code",
        "colab": {}
      },
      "source": [
        "class TestNotebook(unittest.TestCase):\n",
        "    def test_add(self):\n",
        "        self.assertEqual(2 + 2, 4)"
      ],
      "execution_count": null,
      "outputs": []
    },
    {
      "cell_type": "markdown",
      "metadata": {
        "id": "CO-Nl-0tor6W",
        "colab_type": "text"
      },
      "source": [
        "## Запуск тестов"
      ]
    },
    {
      "cell_type": "code",
      "metadata": {
        "id": "PQyyW4jHowk6",
        "colab_type": "code",
        "colab": {
          "base_uri": "https://localhost:8080/",
          "height": 143
        },
        "outputId": "beb89ea3-6f43-4aa2-936f-6e22d0ad3e9f"
      },
      "source": [
        "unittest.main(argv=[''], verbosity=2, exit=False)"
      ],
      "execution_count": null,
      "outputs": [
        {
          "output_type": "stream",
          "text": [
            "test_add (__main__.TestNotebook) ... ok\n",
            "\n",
            "----------------------------------------------------------------------\n",
            "Ran 1 test in 0.002s\n",
            "\n",
            "OK\n"
          ],
          "name": "stderr"
        },
        {
          "output_type": "execute_result",
          "data": {
            "text/plain": [
              "<unittest.main.TestProgram at 0x7f929c006dd8>"
            ]
          },
          "metadata": {
            "tags": []
          },
          "execution_count": 10
        }
      ]
    }
  ]
}