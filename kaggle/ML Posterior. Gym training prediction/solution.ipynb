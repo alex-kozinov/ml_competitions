{
  "nbformat": 4,
  "nbformat_minor": 0,
  "metadata": {
    "kernelspec": {
      "display_name": "Python 3",
      "language": "python",
      "name": "python3"
    },
    "language_info": {
      "codemirror_mode": {
        "name": "ipython",
        "version": 3
      },
      "file_extension": ".py",
      "mimetype": "text/x-python",
      "name": "python",
      "nbconvert_exporter": "python",
      "pygments_lexer": "ipython3",
      "version": "3.6.10"
    },
    "colab": {
      "name": "solution.ipynb",
      "provenance": [],
      "toc_visible": true
    }
  },
  "cells": [
    {
      "cell_type": "markdown",
      "metadata": {
        "id": "fPWzgA5pirVo",
        "colab_type": "text"
      },
      "source": [
        "# Введение"
      ]
    },
    {
      "cell_type": "markdown",
      "metadata": {
        "id": "CybclLK6ijga",
        "colab_type": "text"
      },
      "source": [
        "## Описание задачи\n",
        "[источник](https://www.kaggle.com/c/ml-posterior-gym-training-prediction)"
      ]
    },
    {
      "cell_type": "markdown",
      "metadata": {
        "id": "D8sINhZyjdL7",
        "colab_type": "text"
      },
      "source": [
        "### EN"
      ]
    },
    {
      "cell_type": "markdown",
      "metadata": {
        "id": "CKOjPGgCjWX2",
        "colab_type": "text"
      },
      "source": [
        "A network of sports clubs tracks training sessions conducted by its coaches for clients. If a client wants to sign up for a training session, he/she calls the reception or come in person. The GYM’s staff appoints the appropriate time, the coach and the club. At your disposal, you have a database of several GYMs with this data. The data contains a log of training sessions for 2017 and 2018 in a trainset, and training sessions for 2019 in a testset. There is a boolean target flag for each training session: whether a training session had been.\n",
        "\n",
        "You face the task of reducing the number of training process skips by identifying factors that affect the skip. For this purpose, you have to build a model that predicts the probability of the client going to the GYM training.\n",
        "\n",
        "Optional question:\n",
        "\n",
        "* How could we enrich the data to improve the model quality?"
      ]
    },
    {
      "cell_type": "markdown",
      "metadata": {
        "id": "9Bn7vUi_jirs",
        "colab_type": "text"
      },
      "source": [
        "## Описание датасета"
      ]
    },
    {
      "cell_type": "markdown",
      "metadata": {
        "id": "8K1Llc2PkRQw",
        "colab_type": "text"
      },
      "source": [
        "### EN"
      ]
    },
    {
      "cell_type": "markdown",
      "metadata": {
        "id": "cyNr9jFHj8va",
        "colab_type": "text"
      },
      "source": [
        "* Id: index of training session\n",
        "* ClientID: Client who signed up for a training session\n",
        "* CoachID: Сoach to whom the client signed up\n",
        "* GymID: GYM center where the training will take place. One client can have trainings in different gyms. Also one coach can have trrainings in different gyms.\n",
        "* TrainingID: Training type: strength training, cardio, swimming pool, etc\n",
        "* Time: Scheduled time\n",
        "* Target: Whether a training session had been: Yes(1) or No(0)"
      ]
    },
    {
      "cell_type": "markdown",
      "metadata": {
        "id": "DfJMbHB1j3qT",
        "colab_type": "text"
      },
      "source": [
        "# Подготовка ноутбука"
      ]
    },
    {
      "cell_type": "markdown",
      "metadata": {
        "id": "eBJOdy5g-7Vf",
        "colab_type": "text"
      },
      "source": [
        "## Первичные константы "
      ]
    },
    {
      "cell_type": "code",
      "metadata": {
        "id": "04FyTcMy-_y-",
        "colab_type": "code",
        "colab": {}
      },
      "source": [
        "PROJECT_NAME = \"Kaggle. ML Posterior. Gym training prediction\"\n",
        "MOUNT_DIR = '/content/drive' # In case Colab Usage\n",
        "VALIDATE_RATIO = 0.2"
      ],
      "execution_count": 1,
      "outputs": []
    },
    {
      "cell_type": "markdown",
      "metadata": {
        "id": "lBmD-gyRrdsr",
        "colab_type": "text"
      },
      "source": [
        ""
      ]
    },
    {
      "cell_type": "markdown",
      "metadata": {
        "id": "dbeCUdVpLISo",
        "colab_type": "text"
      },
      "source": [
        "## Дополнительные установки"
      ]
    },
    {
      "cell_type": "code",
      "metadata": {
        "id": "QYUv2A8ZLW9S",
        "colab_type": "code",
        "colab": {
          "base_uri": "https://localhost:8080/",
          "height": 361
        },
        "outputId": "e28fd47f-6788-425d-d6c7-cae09e8a5462"
      },
      "source": [
        "!pip install catboost"
      ],
      "execution_count": 2,
      "outputs": [
        {
          "output_type": "stream",
          "text": [
            "Collecting catboost\n",
            "\u001b[?25l  Downloading https://files.pythonhosted.org/packages/b2/aa/e61819d04ef2bbee778bf4b3a748db1f3ad23512377e43ecfdc3211437a0/catboost-0.23.2-cp36-none-manylinux1_x86_64.whl (64.8MB)\n",
            "\u001b[K     |████████████████████████████████| 64.8MB 58kB/s \n",
            "\u001b[?25hRequirement already satisfied: graphviz in /usr/local/lib/python3.6/dist-packages (from catboost) (0.10.1)\n",
            "Requirement already satisfied: pandas>=0.24.0 in /usr/local/lib/python3.6/dist-packages (from catboost) (1.0.5)\n",
            "Requirement already satisfied: six in /usr/local/lib/python3.6/dist-packages (from catboost) (1.12.0)\n",
            "Requirement already satisfied: matplotlib in /usr/local/lib/python3.6/dist-packages (from catboost) (3.2.2)\n",
            "Requirement already satisfied: scipy in /usr/local/lib/python3.6/dist-packages (from catboost) (1.4.1)\n",
            "Requirement already satisfied: numpy>=1.16.0 in /usr/local/lib/python3.6/dist-packages (from catboost) (1.18.5)\n",
            "Requirement already satisfied: plotly in /usr/local/lib/python3.6/dist-packages (from catboost) (4.4.1)\n",
            "Requirement already satisfied: pytz>=2017.2 in /usr/local/lib/python3.6/dist-packages (from pandas>=0.24.0->catboost) (2018.9)\n",
            "Requirement already satisfied: python-dateutil>=2.6.1 in /usr/local/lib/python3.6/dist-packages (from pandas>=0.24.0->catboost) (2.8.1)\n",
            "Requirement already satisfied: kiwisolver>=1.0.1 in /usr/local/lib/python3.6/dist-packages (from matplotlib->catboost) (1.2.0)\n",
            "Requirement already satisfied: cycler>=0.10 in /usr/local/lib/python3.6/dist-packages (from matplotlib->catboost) (0.10.0)\n",
            "Requirement already satisfied: pyparsing!=2.0.4,!=2.1.2,!=2.1.6,>=2.0.1 in /usr/local/lib/python3.6/dist-packages (from matplotlib->catboost) (2.4.7)\n",
            "Requirement already satisfied: retrying>=1.3.3 in /usr/local/lib/python3.6/dist-packages (from plotly->catboost) (1.3.3)\n",
            "Installing collected packages: catboost\n",
            "Successfully installed catboost-0.23.2\n"
          ],
          "name": "stdout"
        }
      ]
    },
    {
      "cell_type": "markdown",
      "metadata": {
        "id": "DRtEggw5mMcU",
        "colab_type": "text"
      },
      "source": [
        "## Библиотеки"
      ]
    },
    {
      "cell_type": "code",
      "metadata": {
        "id": "PdJYo2EcmRZR",
        "colab_type": "code",
        "colab": {}
      },
      "source": [
        "import os\n",
        "\n",
        "from datetime import datetime\n",
        "\n",
        "from collections import Counter\n",
        "\n",
        "import numpy as np\n",
        "\n",
        "import pandas as pd\n",
        "\n",
        "import catboost as ctb\n",
        "from catboost import CatBoostClassifier, Pool\n",
        "from catboost.utils import get_roc_curve\n",
        "\n",
        "from sklearn.naive_bayes import CategoricalNB\n",
        "\n",
        "from plotly.subplots import make_subplots\n",
        "import plotly.graph_objects as go\n",
        "\n",
        "import matplotlib.pyplot as plt\n",
        "\n",
        "%matplotlib inline"
      ],
      "execution_count": 124,
      "outputs": []
    },
    {
      "cell_type": "markdown",
      "metadata": {
        "id": "fTALJ4H5mVr4",
        "colab_type": "text"
      },
      "source": [
        "## Обработка случая работы в Google.Colab"
      ]
    },
    {
      "cell_type": "markdown",
      "metadata": {
        "id": "b0OMb3oiBZDv",
        "colab_type": "text"
      },
      "source": [
        "### Подключение библиотек"
      ]
    },
    {
      "cell_type": "code",
      "metadata": {
        "id": "TeUXiI4RmxoL",
        "colab_type": "code",
        "colab": {
          "base_uri": "https://localhost:8080/",
          "height": 161
        },
        "outputId": "a1f0949c-3828-418a-f33d-736aa71af7d4"
      },
      "source": [
        "try:\n",
        "    from google.colab import files, drive\n",
        "    \n",
        "    USE_COLAB = True\n",
        "except:\n",
        "    USE_COLAB = False\n",
        "\n",
        "if USE_COLAB:\n",
        "    print(\"Don't forget to avoid disconnections:\")\n",
        "    print(\"\"\"\n",
        "function ClickConnect(){\n",
        "    console.log(\"Clicking\"); \n",
        "    document.querySelector(\"colab-connect-button\").click() \n",
        "}\n",
        "setInterval(ClickConnect,60000)\n",
        "    \"\"\")"
      ],
      "execution_count": 5,
      "outputs": [
        {
          "output_type": "stream",
          "text": [
            "Don't forget to avoid disconnections:\n",
            "\n",
            "function ClickConnect(){\n",
            "    console.log(\"Clicking\"); \n",
            "    document.querySelector(\"colab-connect-button\").click() \n",
            "}\n",
            "setInterval(ClickConnect,60000)\n",
            "    \n"
          ],
          "name": "stdout"
        }
      ]
    },
    {
      "cell_type": "markdown",
      "metadata": {
        "id": "7GAT7jD_Bf3t",
        "colab_type": "text"
      },
      "source": [
        "### Подключение к Google.Drive"
      ]
    },
    {
      "cell_type": "code",
      "metadata": {
        "id": "hv47CJ8cBknH",
        "colab_type": "code",
        "colab": {
          "base_uri": "https://localhost:8080/",
          "height": 145
        },
        "outputId": "524afc2a-73ee-4dfe-fad5-944e0840b9eb"
      },
      "source": [
        "if USE_COLAB:\n",
        "    drive.mount(MOUNT_DIR)\n",
        "    DRIVE_DIR = os.path.join(MOUNT_DIR, 'My Drive')\n",
        "    print(f\"Drive directory is {DRIVE_DIR}\")"
      ],
      "execution_count": 6,
      "outputs": [
        {
          "output_type": "stream",
          "text": [
            "Go to this URL in a browser: https://accounts.google.com/o/oauth2/auth?client_id=947318989803-6bn6qk8qdgf4n4g3pfee6491hc0brc4i.apps.googleusercontent.com&redirect_uri=urn%3aietf%3awg%3aoauth%3a2.0%3aoob&response_type=code&scope=email%20https%3a%2f%2fwww.googleapis.com%2fauth%2fdocs.test%20https%3a%2f%2fwww.googleapis.com%2fauth%2fdrive%20https%3a%2f%2fwww.googleapis.com%2fauth%2fdrive.photos.readonly%20https%3a%2f%2fwww.googleapis.com%2fauth%2fpeopleapi.readonly\n",
            "\n",
            "Enter your authorization code:\n",
            "··········\n",
            "Mounted at /content/drive\n",
            "Drive directory is /content/drive/My Drive\n"
          ],
          "name": "stdout"
        }
      ]
    },
    {
      "cell_type": "markdown",
      "metadata": {
        "id": "ninPXIH2DPCQ",
        "colab_type": "text"
      },
      "source": [
        "### Установка соединения с Kaggle"
      ]
    },
    {
      "cell_type": "code",
      "metadata": {
        "id": "CvGz4ynfDvJi",
        "colab_type": "code",
        "colab": {}
      },
      "source": [
        "if USE_COLAB:\n",
        "    !pip install -q kaggle\n",
        "    !mkdir ~/.kaggle\n",
        "    kaggle_file = os.path.join(DRIVE_DIR, 'kaggle.json')\n",
        "    !cp \"$kaggle_file\" ~/.kaggle/\n",
        "    !chmod 600 ~/.kaggle/kaggle.json"
      ],
      "execution_count": 7,
      "outputs": []
    },
    {
      "cell_type": "markdown",
      "metadata": {
        "id": "ANBUdV7E97S3",
        "colab_type": "text"
      },
      "source": [
        "## Объявление рабочей директории"
      ]
    },
    {
      "cell_type": "markdown",
      "metadata": {
        "id": "3lMtcGAx-VTG",
        "colab_type": "text"
      },
      "source": [
        "Подключение к Google.Drive в случае работы c Google.Colab"
      ]
    },
    {
      "cell_type": "code",
      "metadata": {
        "id": "fCs60MoO96na",
        "colab_type": "code",
        "colab": {
          "base_uri": "https://localhost:8080/",
          "height": 53
        },
        "outputId": "cc6dd405-00a8-4c48-d7ad-aa7106629786"
      },
      "source": [
        "PROJECT_DIR = os.path.join(DRIVE_DIR, 'projects', PROJECT_NAME) if USE_COLAB else './'\n",
        "WORK_DIR = '/content' if USE_COLAB else PROJECT_DIR\n",
        "print(f\"Project directory is {PROJECT_DIR}\")\n",
        "print(f\"Working directory is {WORK_DIR}\")"
      ],
      "execution_count": 8,
      "outputs": [
        {
          "output_type": "stream",
          "text": [
            "Project directory is /content/drive/My Drive/projects/Kaggle. ML Posterior. Gym training prediction\n",
            "Working directory is /content\n"
          ],
          "name": "stdout"
        }
      ]
    },
    {
      "cell_type": "markdown",
      "metadata": {
        "id": "nBZbmTJtyro3",
        "colab_type": "text"
      },
      "source": [
        "# Обработка данных"
      ]
    },
    {
      "cell_type": "markdown",
      "metadata": {
        "id": "8v10jmWh7ZEq",
        "colab_type": "text"
      },
      "source": [
        "На выходе должны быть объявлены переменные:\n",
        "\n",
        "* **X_train**: pd.DataFrame\\\n",
        "Id | ClientID | ClientType | CoachID | GymID | TrainingID | Month | Day\n",
        "* **y_train**: pd.Series\\\n",
        "Id | Target\n",
        "* **X_valid**: pd.DataFrame\\\n",
        "Id | ClientID | ClientType | CoachID | GymID | TrainingID | Month | Day\n",
        "* **y_valid**: pd.Series\\\n",
        "Id | Target\n",
        "* **X_test**: pd.DataFrame\\\n",
        "Id | ClientID | ClientType | CoachID | GymID | TrainingID | Month | Day\n",
        "\n",
        "TODO: Обновить"
      ]
    },
    {
      "cell_type": "markdown",
      "metadata": {
        "id": "PIApOaBJ6Jvn",
        "colab_type": "text"
      },
      "source": [
        "## Загрузка"
      ]
    },
    {
      "cell_type": "markdown",
      "metadata": {
        "id": "VnrI6EYm7Bo2",
        "colab_type": "text"
      },
      "source": [
        "Загрузка train/test датасета в датафреймы\n",
        "\n",
        "На выходе должны быть объявлены две переменные:\n",
        "* train_dataset: pd.Dataframe\n",
        "* test_dataset: pd.Dataframe"
      ]
    },
    {
      "cell_type": "markdown",
      "metadata": {
        "id": "V-JF8VXJE_dW",
        "colab_type": "text"
      },
      "source": [
        "### Скачивание архива\n"
      ]
    },
    {
      "cell_type": "code",
      "metadata": {
        "id": "Kf9z7X7BE_C4",
        "colab_type": "code",
        "colab": {
          "base_uri": "https://localhost:8080/",
          "height": 89
        },
        "outputId": "31e15386-4e57-41de-e66c-34babaa5f259"
      },
      "source": [
        "src_data_dir_path = os.path.join(PROJECT_DIR, 'data')\n",
        "!kaggle competitions download -c ml-posterior-gym-training-prediction  -p \"$src_data_dir_path\""
      ],
      "execution_count": 9,
      "outputs": [
        {
          "output_type": "stream",
          "text": [
            "Warning: Looks like you're using an outdated API Version, please consider updating (server 1.5.6 / client 1.5.4)\n",
            "sample_submission.csv: Skipping, found more recently modified local copy (use --force to force download)\n",
            "train.csv.zip: Skipping, found more recently modified local copy (use --force to force download)\n",
            "test.csv.zip: Skipping, found more recently modified local copy (use --force to force download)\n"
          ],
          "name": "stdout"
        }
      ]
    },
    {
      "cell_type": "markdown",
      "metadata": {
        "id": "ahegeQtfPM3B",
        "colab_type": "text"
      },
      "source": [
        "### Разархивация"
      ]
    },
    {
      "cell_type": "code",
      "metadata": {
        "id": "ndOKGc8lQ7YX",
        "colab_type": "code",
        "colab": {}
      },
      "source": [
        "src_train_file_path = os.path.join(src_data_dir_path, 'train.csv.zip')\n",
        "src_test_file_path = os.path.join(src_data_dir_path, 'test.csv.zip')\n",
        "dist_data_dir = os.path.join(WORK_DIR, 'data')\n",
        "!unzip -o \"$src_train_file_path\" -d \"$dist_data_dir\" > /dev/null\n",
        "!unzip -o \"$src_test_file_path\" -d \"$dist_data_dir\" > /dev/null"
      ],
      "execution_count": 11,
      "outputs": []
    },
    {
      "cell_type": "markdown",
      "metadata": {
        "id": "c3cEAgZrT0PZ",
        "colab_type": "text"
      },
      "source": [
        "### Считывание"
      ]
    },
    {
      "cell_type": "code",
      "metadata": {
        "id": "SlgGaj1qT5QJ",
        "colab_type": "code",
        "colab": {}
      },
      "source": [
        "train_file_path = os.path.join(dist_data_dir, 'train.csv')\n",
        "test_file_path = os.path.join(dist_data_dir, 'test.csv')\n",
        "\n",
        "train_dataset = pd.read_csv(train_file_path, index_col='Id')\n",
        "test_dataset = pd.read_csv(test_file_path, index_col='Id')"
      ],
      "execution_count": 12,
      "outputs": []
    },
    {
      "cell_type": "markdown",
      "metadata": {
        "id": "rYp375o3sABY",
        "colab_type": "text"
      },
      "source": [
        "## Визуализация"
      ]
    },
    {
      "cell_type": "markdown",
      "metadata": {
        "id": "j2aBvQjjsB6S",
        "colab_type": "text"
      },
      "source": [
        "### Просмотр первых строк"
      ]
    },
    {
      "cell_type": "code",
      "metadata": {
        "id": "__PnCfkPsMUE",
        "colab_type": "code",
        "colab": {
          "base_uri": "https://localhost:8080/",
          "height": 235
        },
        "outputId": "6e98988a-a711-4b9c-ebaf-37f1b8cf554c"
      },
      "source": [
        "train_dataset.head()"
      ],
      "execution_count": 13,
      "outputs": [
        {
          "output_type": "execute_result",
          "data": {
            "text/html": [
              "<div>\n",
              "<style scoped>\n",
              "    .dataframe tbody tr th:only-of-type {\n",
              "        vertical-align: middle;\n",
              "    }\n",
              "\n",
              "    .dataframe tbody tr th {\n",
              "        vertical-align: top;\n",
              "    }\n",
              "\n",
              "    .dataframe thead th {\n",
              "        text-align: right;\n",
              "    }\n",
              "</style>\n",
              "<table border=\"1\" class=\"dataframe\">\n",
              "  <thead>\n",
              "    <tr style=\"text-align: right;\">\n",
              "      <th></th>\n",
              "      <th>Time</th>\n",
              "      <th>ClientID</th>\n",
              "      <th>ClientType</th>\n",
              "      <th>CoachID</th>\n",
              "      <th>GymID</th>\n",
              "      <th>TrainingID</th>\n",
              "      <th>Target</th>\n",
              "    </tr>\n",
              "    <tr>\n",
              "      <th>Id</th>\n",
              "      <th></th>\n",
              "      <th></th>\n",
              "      <th></th>\n",
              "      <th></th>\n",
              "      <th></th>\n",
              "      <th></th>\n",
              "      <th></th>\n",
              "    </tr>\n",
              "  </thead>\n",
              "  <tbody>\n",
              "    <tr>\n",
              "      <th>0</th>\n",
              "      <td>2018-07-02 09:40:00</td>\n",
              "      <td>1</td>\n",
              "      <td>1</td>\n",
              "      <td>780</td>\n",
              "      <td>0</td>\n",
              "      <td>694</td>\n",
              "      <td>0</td>\n",
              "    </tr>\n",
              "    <tr>\n",
              "      <th>1</th>\n",
              "      <td>2018-07-20 11:50:00</td>\n",
              "      <td>1</td>\n",
              "      <td>1</td>\n",
              "      <td>567</td>\n",
              "      <td>0</td>\n",
              "      <td>655</td>\n",
              "      <td>0</td>\n",
              "    </tr>\n",
              "    <tr>\n",
              "      <th>2</th>\n",
              "      <td>2018-11-01 11:25:00</td>\n",
              "      <td>1</td>\n",
              "      <td>1</td>\n",
              "      <td>622</td>\n",
              "      <td>0</td>\n",
              "      <td>2523</td>\n",
              "      <td>0</td>\n",
              "    </tr>\n",
              "    <tr>\n",
              "      <th>3</th>\n",
              "      <td>2017-01-18 13:05:00</td>\n",
              "      <td>60</td>\n",
              "      <td>1</td>\n",
              "      <td>105</td>\n",
              "      <td>0</td>\n",
              "      <td>719</td>\n",
              "      <td>1</td>\n",
              "    </tr>\n",
              "    <tr>\n",
              "      <th>4</th>\n",
              "      <td>2017-05-17 07:40:00</td>\n",
              "      <td>60</td>\n",
              "      <td>1</td>\n",
              "      <td>622</td>\n",
              "      <td>0</td>\n",
              "      <td>2523</td>\n",
              "      <td>1</td>\n",
              "    </tr>\n",
              "  </tbody>\n",
              "</table>\n",
              "</div>"
            ],
            "text/plain": [
              "                   Time  ClientID  ClientType  ...  GymID  TrainingID  Target\n",
              "Id                                             ...                           \n",
              "0   2018-07-02 09:40:00         1           1  ...      0         694       0\n",
              "1   2018-07-20 11:50:00         1           1  ...      0         655       0\n",
              "2   2018-11-01 11:25:00         1           1  ...      0        2523       0\n",
              "3   2017-01-18 13:05:00        60           1  ...      0         719       1\n",
              "4   2017-05-17 07:40:00        60           1  ...      0        2523       1\n",
              "\n",
              "[5 rows x 7 columns]"
            ]
          },
          "metadata": {
            "tags": []
          },
          "execution_count": 13
        }
      ]
    },
    {
      "cell_type": "code",
      "metadata": {
        "id": "KScgn2FtsQON",
        "colab_type": "code",
        "colab": {
          "base_uri": "https://localhost:8080/",
          "height": 235
        },
        "outputId": "d8554194-4c12-4be2-8d9e-cb7c269b4c8f"
      },
      "source": [
        "test_dataset.head()"
      ],
      "execution_count": 14,
      "outputs": [
        {
          "output_type": "execute_result",
          "data": {
            "text/html": [
              "<div>\n",
              "<style scoped>\n",
              "    .dataframe tbody tr th:only-of-type {\n",
              "        vertical-align: middle;\n",
              "    }\n",
              "\n",
              "    .dataframe tbody tr th {\n",
              "        vertical-align: top;\n",
              "    }\n",
              "\n",
              "    .dataframe thead th {\n",
              "        text-align: right;\n",
              "    }\n",
              "</style>\n",
              "<table border=\"1\" class=\"dataframe\">\n",
              "  <thead>\n",
              "    <tr style=\"text-align: right;\">\n",
              "      <th></th>\n",
              "      <th>Time</th>\n",
              "      <th>ClientID</th>\n",
              "      <th>ClientType</th>\n",
              "      <th>CoachID</th>\n",
              "      <th>GymID</th>\n",
              "      <th>TrainingID</th>\n",
              "    </tr>\n",
              "    <tr>\n",
              "      <th>Id</th>\n",
              "      <th></th>\n",
              "      <th></th>\n",
              "      <th></th>\n",
              "      <th></th>\n",
              "      <th></th>\n",
              "      <th></th>\n",
              "    </tr>\n",
              "  </thead>\n",
              "  <tbody>\n",
              "    <tr>\n",
              "      <th>0</th>\n",
              "      <td>2019-06-21 10:30:00</td>\n",
              "      <td>1</td>\n",
              "      <td>1</td>\n",
              "      <td>463</td>\n",
              "      <td>3</td>\n",
              "      <td>692</td>\n",
              "    </tr>\n",
              "    <tr>\n",
              "      <th>1</th>\n",
              "      <td>2019-05-19 15:25:00</td>\n",
              "      <td>1</td>\n",
              "      <td>1</td>\n",
              "      <td>728</td>\n",
              "      <td>6</td>\n",
              "      <td>2523</td>\n",
              "    </tr>\n",
              "    <tr>\n",
              "      <th>2</th>\n",
              "      <td>2019-05-24 18:20:00</td>\n",
              "      <td>1</td>\n",
              "      <td>1</td>\n",
              "      <td>622</td>\n",
              "      <td>0</td>\n",
              "      <td>434</td>\n",
              "    </tr>\n",
              "    <tr>\n",
              "      <th>3</th>\n",
              "      <td>2019-05-24 18:25:00</td>\n",
              "      <td>1</td>\n",
              "      <td>1</td>\n",
              "      <td>622</td>\n",
              "      <td>0</td>\n",
              "      <td>2523</td>\n",
              "    </tr>\n",
              "    <tr>\n",
              "      <th>4</th>\n",
              "      <td>2019-06-21 08:00:00</td>\n",
              "      <td>1</td>\n",
              "      <td>1</td>\n",
              "      <td>565</td>\n",
              "      <td>3</td>\n",
              "      <td>2523</td>\n",
              "    </tr>\n",
              "  </tbody>\n",
              "</table>\n",
              "</div>"
            ],
            "text/plain": [
              "                   Time  ClientID  ClientType  CoachID  GymID  TrainingID\n",
              "Id                                                                       \n",
              "0   2019-06-21 10:30:00         1           1      463      3         692\n",
              "1   2019-05-19 15:25:00         1           1      728      6        2523\n",
              "2   2019-05-24 18:20:00         1           1      622      0         434\n",
              "3   2019-05-24 18:25:00         1           1      622      0        2523\n",
              "4   2019-06-21 08:00:00         1           1      565      3        2523"
            ]
          },
          "metadata": {
            "tags": []
          },
          "execution_count": 14
        }
      ]
    },
    {
      "cell_type": "markdown",
      "metadata": {
        "id": "3npuEMZ5XAFB",
        "colab_type": "text"
      },
      "source": [
        "## Финальная обработка"
      ]
    },
    {
      "cell_type": "markdown",
      "metadata": {
        "id": "gp-RiW4tXbxW",
        "colab_type": "text"
      },
      "source": [
        "### Извлечение выборки и таргета\n",
        "\n",
        "На выходе должны быть объявлены переменные:\n",
        "\n",
        "* **X_train_pure**: pd.DataFrame\\\n",
        "Id | Time | ClientID | ClientType | CoachID | GymID | TrainingID\n",
        "* **y_train**: pd.Series\\\n",
        "Id | Target\n",
        "* **X_valid_pure**: pd.DataFrame\\\n",
        "Id | Time | ClientID | ClientType | CoachID | GymID | TrainingID\n",
        "* **y_valid**: pd.Series\\\n",
        "Id | Target\n",
        "* **X_test_pure**: pd.DataFrame\\\n",
        "Id | Time | ClientID | ClientType | CoachID | GymID | TrainingID"
      ]
    },
    {
      "cell_type": "code",
      "metadata": {
        "id": "XTx9aq_Gql0l",
        "colab_type": "code",
        "colab": {}
      },
      "source": [
        "train_dataset = train_dataset.sort_values(by='Time')\n",
        "\n",
        "partition = int(len(train_dataset) * (1 - VALIDATE_RATIO))\n",
        "train_train_dataset = train_dataset.iloc[:partition]\n",
        "train_validation_dataset = train_dataset.iloc[partition:]\n",
        "\n",
        "X_train_pure = train_train_dataset.drop('Target', axis=1)\n",
        "y_train = train_train_dataset['Target']\n",
        "X_valid_pure = train_validation_dataset.drop('Target', axis=1)\n",
        "y_valid = train_validation_dataset['Target']\n",
        "X_test_pure = test_dataset"
      ],
      "execution_count": 15,
      "outputs": []
    },
    {
      "cell_type": "markdown",
      "metadata": {
        "id": "BD6LbHoswfKh",
        "colab_type": "text"
      },
      "source": [
        "### Добавление дополнительных признаков\n",
        "\n",
        "* **X_train**: pd.DataFrame\\\n",
        "Id | ClientID | ClientType | CoachID | GymID | TrainingID | Month | Day | DayOfWeek | Season\n",
        "* **y_train**: pd.Series\\\n",
        "Id | Target\n",
        "* **X_valid**: pd.DataFrame\\\n",
        "Id | ClientID | ClientType | CoachID | GymID | TrainingID | Month | Day | DayOfWeek | Season\n",
        "* **y_valid**: pd.Series\\\n",
        "Id | Target\n",
        "* **X_test**: pd.DataFrame\\\n",
        "Id | ClientID | ClientType | CoachID | GymID | TrainingID | Month | Day | DayOfWeek | Season"
      ]
    },
    {
      "cell_type": "code",
      "metadata": {
        "id": "zrWgxyiDwj9p",
        "colab_type": "code",
        "colab": {}
      },
      "source": [
        "def add_time_features(X):\n",
        "    datetime_series = pd.to_datetime(X['Time'], format='%Y-%m-%d %H:%M:%S')\n",
        "    X['Month'] = pd.DatetimeIndex(datetime_series).month\n",
        "    X['Day'] = pd.DatetimeIndex(datetime_series).day\n",
        "    X['DayOfWeek'] = pd.DatetimeIndex(datetime_series).dayofweek\n",
        "    X['Season'] = (X['Month'] % 12 + 3) // 3\n",
        "    return X\n",
        "\n",
        "def prepare_sample(X):\n",
        "    X = X.copy()\n",
        "    X = add_time_features(X)\n",
        "    return X.drop('Time', axis=1)"
      ],
      "execution_count": 16,
      "outputs": []
    },
    {
      "cell_type": "code",
      "metadata": {
        "id": "u-m9DEy40Ykh",
        "colab_type": "code",
        "colab": {}
      },
      "source": [
        "X_train = prepare_sample(X_train_pure)\n",
        "X_valid = prepare_sample(X_valid_pure)\n",
        "X_test = prepare_sample(X_test_pure)"
      ],
      "execution_count": 110,
      "outputs": []
    },
    {
      "cell_type": "markdown",
      "metadata": {
        "id": "YV16B-nOFVRf",
        "colab_type": "text"
      },
      "source": [
        "# Эксперименты с обучением\n",
        "\n",
        "На выходе должны быть объявлены переменные\n",
        "\n",
        "* **y_test_predicted**: pd.Series \\\n",
        "Id | Target\n",
        "* **SUBMISSTION_FILE_NAME**: string\\\n",
        "Названия файла для сохранения"
      ]
    },
    {
      "cell_type": "markdown",
      "metadata": {
        "id": "aYb4oyryFYiC",
        "colab_type": "text"
      },
      "source": [
        "## Catboost"
      ]
    },
    {
      "cell_type": "markdown",
      "metadata": {
        "id": "AYEJHFb6cGo3",
        "colab_type": "text"
      },
      "source": [
        "### Объявление пула и параметров"
      ]
    },
    {
      "cell_type": "code",
      "metadata": {
        "id": "yBK-GPNbFa3M",
        "colab_type": "code",
        "colab": {}
      },
      "source": [
        "cat_features = [\n",
        "    'ClientID',\n",
        "    'ClientType',\n",
        "    'CoachID',\n",
        "    'GymID',\n",
        "    'TrainingID',\n",
        "    'Month',\n",
        "    'Day',\n",
        "    'DayOfWeek',\n",
        "    'Season'\n",
        "]\n",
        "ignored_features = [\n",
        "]\n",
        "train_train_pool = Pool(\n",
        "    X_train,\n",
        "    y_train,\n",
        "    cat_features=cat_features\n",
        ")\n",
        "valid_pool = Pool(\n",
        "    X_valid,\n",
        "    y_valid,\n",
        "    cat_features=cat_features\n",
        ")\n",
        "params = {\n",
        "    'iterations': 400,\n",
        "    'learning_rate': 0.08,\n",
        "    'eval_metric': 'AUC',\n",
        "    'random_seed': 113,\n",
        "    'logging_level': 'Silent',\n",
        "    'use_best_model': False,\n",
        "    'ignored_features': ignored_features\n",
        "}"
      ],
      "execution_count": 19,
      "outputs": []
    },
    {
      "cell_type": "markdown",
      "metadata": {
        "id": "DtsY2ubtcRFh",
        "colab_type": "text"
      },
      "source": [
        "### Обучение с валидацией"
      ]
    },
    {
      "cell_type": "code",
      "metadata": {
        "id": "P2b66TLUeWqK",
        "colab_type": "code",
        "colab": {
          "base_uri": "https://localhost:8080/",
          "height": 53
        },
        "outputId": "36be239f-b9ea-4404-d76b-c876ce4c721b"
      },
      "source": [
        "%%time\n",
        "model = CatBoostClassifier(**params)\n",
        "model.fit(train_train_pool, eval_set=valid_pool)"
      ],
      "execution_count": 20,
      "outputs": [
        {
          "output_type": "stream",
          "text": [
            "CPU times: user 8min, sys: 26.4 s, total: 8min 26s\n",
            "Wall time: 4min 19s\n"
          ],
          "name": "stdout"
        }
      ]
    },
    {
      "cell_type": "markdown",
      "metadata": {
        "id": "tTFp7opGcaSm",
        "colab_type": "text"
      },
      "source": [
        "### Визуализация результатов"
      ]
    },
    {
      "cell_type": "code",
      "metadata": {
        "id": "keVce6fG_uH0",
        "colab_type": "code",
        "colab": {}
      },
      "source": [
        "def visualize_learning_results(metrics):\n",
        "    \"\"\"\n",
        "    Plot one graph for each metric\n",
        "\n",
        "    :param metrics: dic of metrics\n",
        "    \"\"\"\n",
        "\n",
        "    n = len(metrics)\n",
        "    \n",
        "    fig = make_subplots(\n",
        "        rows=n,\n",
        "        cols=1,\n",
        "        subplot_titles=list(metrics.keys())\n",
        "    )\n",
        "\n",
        "    for i, (metric_name, curves) in enumerate(metrics.items()):\n",
        "        for dataset_type, curve in curves.items():\n",
        "            m = len(curve)\n",
        "            fig.add_trace(\n",
        "                go.Scatter(\n",
        "                    x=np.arange(m),\n",
        "                    y=curve,\n",
        "                    mode='lines',\n",
        "                    name=f'{dataset_type} {metric_name}'\n",
        "                ),\n",
        "                row=i + 1,\n",
        "                col=1\n",
        "            )\n",
        "\n",
        "    fig.update_layout(\n",
        "        title_text=\"Learning results\",\n",
        "        width=297. * 3,\n",
        "        height=210. * 3 * n\n",
        "    )\n",
        "    fig.show()"
      ],
      "execution_count": 58,
      "outputs": []
    },
    {
      "cell_type": "code",
      "metadata": {
        "id": "lKxIfG4ZBXCc",
        "colab_type": "code",
        "colab": {}
      },
      "source": [
        "metrics = dict(\n",
        "    Logloss=dict(\n",
        "        validation=eval_results['validation']['Logloss'],\n",
        "        learn=eval_results['learn']['Logloss']\n",
        "    ),\n",
        "    AUC=dict(\n",
        "        validation=eval_results['validation']['AUC']\n",
        "    )\n",
        ")"
      ],
      "execution_count": 59,
      "outputs": []
    },
    {
      "cell_type": "code",
      "metadata": {
        "id": "QiAI_GyDB2Tr",
        "colab_type": "code",
        "colab": {
          "base_uri": "https://localhost:8080/",
          "height": 1000
        },
        "outputId": "58a7e375-543f-4e4f-d67b-fb65c05502df"
      },
      "source": [
        "visualize_learning_results(metrics)"
      ],
      "execution_count": 60,
      "outputs": [
        {
          "output_type": "display_data",
          "data": {
            "text/html": [
              "<html>\n",
              "<head><meta charset=\"utf-8\" /></head>\n",
              "<body>\n",
              "    <div>\n",
              "            <script src=\"https://cdnjs.cloudflare.com/ajax/libs/mathjax/2.7.5/MathJax.js?config=TeX-AMS-MML_SVG\"></script><script type=\"text/javascript\">if (window.MathJax) {MathJax.Hub.Config({SVG: {font: \"STIX-Web\"}});}</script>\n",
              "                <script type=\"text/javascript\">window.PlotlyConfig = {MathJaxConfig: 'local'};</script>\n",
              "        <script src=\"https://cdn.plot.ly/plotly-latest.min.js\"></script>    \n",
              "            <div id=\"fece2e59-3f1a-4962-b6db-422d03b3ba70\" class=\"plotly-graph-div\" style=\"height:1260.0px; width:891.0px;\"></div>\n",
              "            <script type=\"text/javascript\">\n",
              "                \n",
              "                    window.PLOTLYENV=window.PLOTLYENV || {};\n",
              "                    \n",
              "                if (document.getElementById(\"fece2e59-3f1a-4962-b6db-422d03b3ba70\")) {\n",
              "                    Plotly.newPlot(\n",
              "                        'fece2e59-3f1a-4962-b6db-422d03b3ba70',\n",
              "                        [{\"mode\": \"lines\", \"name\": \"validation Logloss\", \"type\": \"scatter\", \"x\": [0, 1, 2, 3, 4, 5, 6, 7, 8, 9, 10, 11, 12, 13, 14, 15, 16, 17, 18, 19, 20, 21, 22, 23, 24, 25, 26, 27, 28, 29, 30, 31, 32, 33, 34, 35, 36, 37, 38, 39, 40, 41, 42, 43, 44, 45, 46, 47, 48, 49, 50, 51, 52, 53, 54, 55, 56, 57, 58, 59, 60, 61, 62, 63, 64, 65, 66, 67, 68, 69, 70, 71, 72, 73, 74, 75, 76, 77, 78, 79, 80, 81, 82, 83, 84, 85, 86, 87, 88, 89, 90, 91, 92, 93, 94, 95, 96, 97, 98, 99, 100, 101, 102, 103, 104, 105, 106, 107, 108, 109, 110, 111, 112, 113, 114, 115, 116, 117, 118, 119, 120, 121, 122, 123, 124, 125, 126, 127, 128, 129, 130, 131, 132, 133, 134, 135, 136, 137, 138, 139, 140, 141, 142, 143, 144, 145, 146, 147, 148, 149, 150, 151, 152, 153, 154, 155, 156, 157, 158, 159, 160, 161, 162, 163, 164, 165, 166, 167, 168, 169, 170, 171, 172, 173, 174, 175, 176, 177, 178, 179, 180, 181, 182, 183, 184, 185, 186, 187, 188, 189, 190, 191, 192, 193, 194, 195, 196, 197, 198, 199, 200, 201, 202, 203, 204, 205, 206, 207, 208, 209, 210, 211, 212, 213, 214, 215, 216, 217, 218, 219, 220, 221, 222, 223, 224, 225, 226, 227, 228, 229, 230, 231, 232, 233, 234, 235, 236, 237, 238, 239, 240, 241, 242, 243, 244, 245, 246, 247, 248, 249, 250, 251, 252, 253, 254, 255, 256, 257, 258, 259, 260, 261, 262, 263, 264, 265, 266, 267, 268, 269, 270, 271, 272, 273, 274, 275, 276, 277, 278, 279, 280, 281, 282, 283, 284, 285, 286, 287, 288, 289, 290, 291, 292, 293, 294, 295, 296, 297, 298, 299, 300, 301, 302, 303, 304, 305, 306, 307, 308, 309, 310, 311, 312, 313, 314, 315, 316, 317, 318, 319, 320, 321, 322, 323, 324, 325, 326, 327, 328, 329, 330, 331, 332, 333, 334, 335, 336, 337, 338, 339, 340, 341, 342, 343, 344, 345, 346, 347, 348, 349, 350, 351, 352, 353, 354, 355, 356, 357, 358, 359, 360, 361, 362, 363, 364, 365, 366, 367, 368, 369, 370, 371, 372, 373, 374, 375, 376, 377, 378, 379, 380, 381, 382, 383, 384, 385, 386, 387, 388, 389, 390, 391, 392, 393, 394, 395, 396, 397, 398, 399], \"xaxis\": \"x\", \"y\": [0.5809781362008728, 0.495663203709284, 0.4263440481024444, 0.37231635617014563, 0.3299100752904033, 0.2968718966162438, 0.2703745671516144, 0.2500095243636257, 0.23300035377941228, 0.21863870372386246, 0.20750076582142596, 0.1994671162634583, 0.1917087457812703, 0.18444391775651925, 0.17987043215691387, 0.1752423461977105, 0.17190280823744764, 0.168729079955357, 0.16666538144848772, 0.16561997034453887, 0.16490719540373416, 0.16386757149383693, 0.1632915224014599, 0.16240409592080135, 0.16173320433047925, 0.16137242606784002, 0.1604266374108234, 0.15994836267568174, 0.1593984668515093, 0.1590933775772875, 0.15865100052791767, 0.15846296266256002, 0.15794115161633374, 0.15781971888164575, 0.15756277026639165, 0.15749860126646165, 0.1571153029791312, 0.15693348937343224, 0.15679632458789283, 0.15654606813453506, 0.15644144723276462, 0.156199677883213, 0.15609651629010507, 0.15593156908456313, 0.15589645500286076, 0.1559538418082535, 0.15574148484743602, 0.15578672965787624, 0.15587537578118632, 0.1558470307419834, 0.15559110088173184, 0.15548319469823646, 0.15557261369301992, 0.15547528178576073, 0.15553308294475282, 0.15544880788163243, 0.15556157656312009, 0.1556376381178953, 0.1555193681292286, 0.1554495196904237, 0.15533112592382814, 0.15543593862978675, 0.15543944149537678, 0.15527440812066187, 0.15533955651779993, 0.15543408367507935, 0.1553058415948224, 0.15529525072918918, 0.15534914016671264, 0.15547789295540257, 0.15536388583878522, 0.15547472059017337, 0.15554594597493968, 0.15559490110039306, 0.1556683267293619, 0.1556418822967145, 0.15562994152969264, 0.1556302734403933, 0.15567849557342145, 0.15574887087246522, 0.1557760904685457, 0.15577723241700814, 0.15577177416793775, 0.15583656980171545, 0.155762656834411, 0.15573456681605521, 0.155795600932984, 0.15581058447478913, 0.15588855844374036, 0.1559116830084565, 0.1560974875924614, 0.15615662048756337, 0.15617351370956978, 0.15623446843819944, 0.15623424162082006, 0.156421864066527, 0.1565328238736616, 0.1565769591651801, 0.15661203459987547, 0.15673969202601207, 0.15678532553140992, 0.15669112068948782, 0.15671357627574228, 0.15674457367058314, 0.15678952024801987, 0.1567902449139919, 0.1567624715786454, 0.15686678678178428, 0.15691531303828343, 0.15694729897935172, 0.15688911709614456, 0.15691463730600705, 0.15692753594214276, 0.15694759827213262, 0.15686980601029968, 0.15701009220347886, 0.15696505357726392, 0.15697425868420642, 0.1569757691417669, 0.15697009854820576, 0.15698538198071563, 0.1570375897550223, 0.157052835067494, 0.1570315217759047, 0.15701280044685223, 0.15703626411092808, 0.1571196444988642, 0.1571194283887675, 0.15711058580576004, 0.15715535443798764, 0.15722789352153257, 0.15721194523595072, 0.15720753941594878, 0.15734240196348123, 0.15734933298536893, 0.15737649092360992, 0.15741917662409116, 0.15745804720951276, 0.15752088678515863, 0.15758692589064702, 0.15757836724929225, 0.15763455865302095, 0.15759791195734893, 0.15758053035153763, 0.15763586011214512, 0.157684420094976, 0.15771984230705358, 0.15772502378445274, 0.15772024198299783, 0.1577662821651609, 0.1577733164438228, 0.15782068135937732, 0.1578428834561703, 0.15784857501486527, 0.15792604661245066, 0.158002475193201, 0.1579907122154531, 0.15802551077793706, 0.15809040769778684, 0.15811115711078588, 0.15811049624033227, 0.1582316948839762, 0.15837383950445935, 0.15836519424867795, 0.1583651700995752, 0.15845531300699045, 0.15852994619212007, 0.15851105369165627, 0.1585407554696059, 0.15851701538927893, 0.15848982761185038, 0.1585009664446926, 0.15847975262308236, 0.15847214298574291, 0.15847430881747215, 0.15858662582699373, 0.15856603787324655, 0.15858657316478825, 0.15866140659769115, 0.1586928734779622, 0.15872841854607037, 0.15876835468693853, 0.15873864487139094, 0.1589915723034494, 0.15899470941504365, 0.1589941175166335, 0.1590173073694668, 0.1590684782897245, 0.15908905915170138, 0.15914820104414165, 0.15912630863372004, 0.1591384220389168, 0.15920697707995007, 0.1592225765198993, 0.15923822595794332, 0.15921345846361196, 0.15921962879453455, 0.15925662646766098, 0.15926663773787017, 0.1592546419786084, 0.15930177480136132, 0.15930206266481695, 0.15931288446625788, 0.15949365602886406, 0.1594959119199549, 0.159575793472655, 0.15955498507493282, 0.15956572704047048, 0.1596025604937064, 0.1596181627692033, 0.15967099898544485, 0.159690555413924, 0.15970235214077338, 0.1597406244867656, 0.15974073932107064, 0.1597147721963504, 0.15971792800222148, 0.15968835437253961, 0.15972687964166463, 0.15975446830928394, 0.15973226189290662, 0.15973006728509306, 0.15968603575481113, 0.15962611399912108, 0.15971551533548967, 0.15978781955103302, 0.1597811476258255, 0.15974683213827393, 0.1597893278682912, 0.15975025296904716, 0.15974214031133974, 0.1597515987199373, 0.15976201717332633, 0.15978644519456536, 0.15986172755356914, 0.15986183451173586, 0.1598136685982492, 0.15977720469938497, 0.15978497677291312, 0.15978511689278777, 0.1598316877909146, 0.1598215650960407, 0.15980982648044056, 0.15982645909445117, 0.15982712015700395, 0.15982320069202485, 0.16001436169731958, 0.16003895229340068, 0.16006725611371744, 0.16007124474638748, 0.16008352944817145, 0.16007874101978453, 0.1600796875221641, 0.16007326527658192, 0.16005917380282172, 0.16015289742861463, 0.1601529053624216, 0.16014752672950655, 0.1601759295411126, 0.16014451864910537, 0.16016130653635632, 0.1601782648849031, 0.16021129754815058, 0.16025797211728435, 0.16023204258044413, 0.1602512531696042, 0.16026193045358014, 0.16025888068543742, 0.16026922086016568, 0.16026752379321987, 0.16031958602274266, 0.16028694921299616, 0.16030212347036196, 0.16030688779771796, 0.1603034088047486, 0.16030509692813877, 0.1603012283936946, 0.16029654067493337, 0.16028331170729523, 0.16029094095599805, 0.16045433292576164, 0.16045832425761453, 0.16045923432461848, 0.16050490629584954, 0.16050478432166398, 0.160519998397888, 0.16050513224726703, 0.160565751676096, 0.16057596640713098, 0.16058514025906864, 0.16056492238699863, 0.1605580183649179, 0.16051117334834017, 0.16051820243993506, 0.1605195488601057, 0.16052918339406197, 0.1604895731824215, 0.16049280692899281, 0.16050116628296573, 0.1605094377473375, 0.1605098700751894, 0.1605638866713938, 0.16055811684200552, 0.16056639701650696, 0.16062883955962698, 0.1606173437793805, 0.16060739295251397, 0.16061255342109623, 0.1606196910499862, 0.16060142797729154, 0.1605939828652378, 0.16058893665042673, 0.1606778648072342, 0.16070053415661242, 0.1607511021799812, 0.16075942580296088, 0.16076409629484928, 0.1607355338241467, 0.16063926042862287, 0.16067899731720287, 0.16068042514595893, 0.1606936907075557, 0.1606843028391756, 0.1606743367032025, 0.16067195602251685, 0.16060925517839833, 0.16060528088755915, 0.16062749939294357, 0.16064979921740702, 0.16064926318832495, 0.1606643958594084, 0.16066648407285275, 0.1607395901228466, 0.16078986859086408, 0.1608133886198896, 0.160813047310798, 0.16081442327968137, 0.1608010627295786, 0.16075234392726398, 0.16071940620170122, 0.16071941824247896, 0.16072015061190117, 0.16072577306732588, 0.1606906050900945, 0.1607316183506857, 0.1607320633266316, 0.16071287638083717, 0.16074924277179445, 0.16073219192405339, 0.16076706290802764, 0.16074331871810218, 0.16074924815889857, 0.16074989151172173, 0.16073894674588132, 0.16074501494937585, 0.16070651520045728, 0.16068925599262374, 0.1606923553244848, 0.16075527357080927, 0.1607547940132812, 0.16076721995696017, 0.1608548406840331, 0.1608844912210452, 0.16086698485886666, 0.16088950891586248, 0.16093338707576407, 0.16095653227167458, 0.16097955946081327, 0.16092369112886953, 0.1609844536542582, 0.1609902248440148, 0.1609940417490913, 0.1609999826678686, 0.16099318694403905, 0.16099323855736963, 0.16112898746130258, 0.1610998001059744, 0.1614034604556431, 0.16138994348080862, 0.1613988683257111, 0.1614031211863973, 0.16140717275884914, 0.16141948045119298, 0.161449081694688, 0.16144980446351642, 0.16144914545563, 0.16146614934374695, 0.16147271387707782, 0.1614746881659129, 0.1614576390313607, 0.16145748031611576, 0.16147388470709684, 0.16153423333532616, 0.16153639341449186, 0.1614989612636584, 0.1615050016362995, 0.16150498117025988, 0.16150019599067292, 0.16152702402472452, 0.16153079132715228], \"yaxis\": \"y\"}, {\"mode\": \"lines\", \"name\": \"learn Logloss\", \"type\": \"scatter\", \"x\": [0, 1, 2, 3, 4, 5, 6, 7, 8, 9, 10, 11, 12, 13, 14, 15, 16, 17, 18, 19, 20, 21, 22, 23, 24, 25, 26, 27, 28, 29, 30, 31, 32, 33, 34, 35, 36, 37, 38, 39, 40, 41, 42, 43, 44, 45, 46, 47, 48, 49, 50, 51, 52, 53, 54, 55, 56, 57, 58, 59, 60, 61, 62, 63, 64, 65, 66, 67, 68, 69, 70, 71, 72, 73, 74, 75, 76, 77, 78, 79, 80, 81, 82, 83, 84, 85, 86, 87, 88, 89, 90, 91, 92, 93, 94, 95, 96, 97, 98, 99, 100, 101, 102, 103, 104, 105, 106, 107, 108, 109, 110, 111, 112, 113, 114, 115, 116, 117, 118, 119, 120, 121, 122, 123, 124, 125, 126, 127, 128, 129, 130, 131, 132, 133, 134, 135, 136, 137, 138, 139, 140, 141, 142, 143, 144, 145, 146, 147, 148, 149, 150, 151, 152, 153, 154, 155, 156, 157, 158, 159, 160, 161, 162, 163, 164, 165, 166, 167, 168, 169, 170, 171, 172, 173, 174, 175, 176, 177, 178, 179, 180, 181, 182, 183, 184, 185, 186, 187, 188, 189, 190, 191, 192, 193, 194, 195, 196, 197, 198, 199, 200, 201, 202, 203, 204, 205, 206, 207, 208, 209, 210, 211, 212, 213, 214, 215, 216, 217, 218, 219, 220, 221, 222, 223, 224, 225, 226, 227, 228, 229, 230, 231, 232, 233, 234, 235, 236, 237, 238, 239, 240, 241, 242, 243, 244, 245, 246, 247, 248, 249, 250, 251, 252, 253, 254, 255, 256, 257, 258, 259, 260, 261, 262, 263, 264, 265, 266, 267, 268, 269, 270, 271, 272, 273, 274, 275, 276, 277, 278, 279, 280, 281, 282, 283, 284, 285, 286, 287, 288, 289, 290, 291, 292, 293, 294, 295, 296, 297, 298, 299, 300, 301, 302, 303, 304, 305, 306, 307, 308, 309, 310, 311, 312, 313, 314, 315, 316, 317, 318, 319, 320, 321, 322, 323, 324, 325, 326, 327, 328, 329, 330, 331, 332, 333, 334, 335, 336, 337, 338, 339, 340, 341, 342, 343, 344, 345, 346, 347, 348, 349, 350, 351, 352, 353, 354, 355, 356, 357, 358, 359, 360, 361, 362, 363, 364, 365, 366, 367, 368, 369, 370, 371, 372, 373, 374, 375, 376, 377, 378, 379, 380, 381, 382, 383, 384, 385, 386, 387, 388, 389, 390, 391, 392, 393, 394, 395, 396, 397, 398, 399], \"xaxis\": \"x\", \"y\": [0.5801556271505538, 0.4917539407188851, 0.4218927855690336, 0.3672850619643818, 0.324249947844625, 0.29027679000506657, 0.26325567108944137, 0.2417157832329323, 0.22480813225007987, 0.21026869011017008, 0.19885011967911626, 0.1904726129256184, 0.18146654178290894, 0.17387265849040273, 0.16887953853944987, 0.16336736365681082, 0.1591251644279015, 0.15557356035660475, 0.15281379735477074, 0.15007540448566273, 0.14703998799244095, 0.14407375916048784, 0.14182401538377065, 0.1397197517029297, 0.13802678051403325, 0.13676583237295234, 0.13554360831612336, 0.13442207287348568, 0.13340919396773576, 0.13265363276205527, 0.13213807288832946, 0.13149462819519622, 0.1309981675012457, 0.1305127489675663, 0.13024773377599638, 0.1298099212494443, 0.12944729772936936, 0.12916716640904846, 0.1287783957237281, 0.1285626318880938, 0.1282249839975441, 0.1279041387092668, 0.12772882888343345, 0.12747590411085183, 0.12733760879410994, 0.12701559490668538, 0.12678736202264798, 0.126489325290077, 0.12623393589019088, 0.12599421751752465, 0.12583286386287723, 0.1257383547180497, 0.12548013392006496, 0.12532755193907225, 0.12520605386288544, 0.12513325568441158, 0.12495234031398922, 0.12478220366857279, 0.1246904460606638, 0.1245364095848828, 0.12439319031749196, 0.12424840983251946, 0.12405177611906987, 0.12395686979399906, 0.12387790231386134, 0.1237806136234894, 0.12368557975466711, 0.12359647153839545, 0.12352391717352024, 0.12337744528774103, 0.1233097236540636, 0.1232240385939793, 0.12312105544940088, 0.12306803779716839, 0.12298615210683983, 0.12292661109618695, 0.12281783940213255, 0.12281781781726826, 0.1227224050235445, 0.12263228880821431, 0.12252656532512421, 0.12249723315796669, 0.12242646021644028, 0.12234245812073452, 0.1222420204813965, 0.12220201557041889, 0.12210819653286308, 0.12205360306129942, 0.12197718391880073, 0.12194021162953518, 0.1217814526307591, 0.12174367613209522, 0.12165331456943507, 0.12161433089409245, 0.12153190843706002, 0.12145243720398909, 0.12139591919698063, 0.12135898160962613, 0.12132356379949548, 0.12126860490178719, 0.1211814250809892, 0.12114155785374194, 0.12111432298555584, 0.12102556681003394, 0.12093140218398889, 0.12088821475576905, 0.12083846807922861, 0.12080552231491604, 0.12075870193754244, 0.12067835490730609, 0.12064105207008059, 0.12062621656019575, 0.12058138024644853, 0.12050171397234846, 0.1204819891807746, 0.12043624050406614, 0.12040405982994364, 0.12034393339243481, 0.12027928640287383, 0.12026635100978367, 0.1202276966311296, 0.12017144820593559, 0.12014011000431807, 0.12012554435398941, 0.12011201855890775, 0.12008716808738172, 0.12003796491010991, 0.1200024047399171, 0.11998870829592048, 0.11992741304128547, 0.11987218392896044, 0.11983087121191906, 0.1198147575591845, 0.11977700751611389, 0.11974925419138124, 0.11972857236182827, 0.11970282468055211, 0.11965063714371008, 0.11960762978149336, 0.11957775122590153, 0.1195449106763114, 0.11952620974152063, 0.11951614914771137, 0.11948051649888551, 0.11943841312179591, 0.11937275884087678, 0.11933546014679593, 0.11930983140526538, 0.1192918065454084, 0.11928242202111068, 0.1192568674583333, 0.11919082072932545, 0.11914387681209222, 0.1191208188101758, 0.11910872944302718, 0.11904163469810658, 0.11902314139286654, 0.11899248483842002, 0.11897287301226972, 0.11895498465342924, 0.11893168926120079, 0.11890030018413077, 0.11882544470290145, 0.11880240842177581, 0.11879480884269207, 0.11876108753458864, 0.11874312761326876, 0.11870051144723053, 0.11868769627527623, 0.1186470496747781, 0.11862016446528167, 0.11860844951663468, 0.11857868303087934, 0.11853516033298611, 0.11853502143028592, 0.11850275756842334, 0.1184750368104077, 0.1184537260161914, 0.11841778379978199, 0.11839480095432729, 0.11836863743638337, 0.11834063258007958, 0.11830205348063569, 0.11828778246695351, 0.11827168186318177, 0.11827161893917257, 0.11826500122170777, 0.11824000196467432, 0.11822703061094925, 0.11819798992853324, 0.11816948833330043, 0.11814791671319619, 0.11808967690344604, 0.11808656207576404, 0.11805919027757282, 0.11804072492101733, 0.11803664710639672, 0.11802659177948248, 0.11801550723463608, 0.11797391873734131, 0.117935395621279, 0.11793527093087104, 0.1179053689866757, 0.1178943839302665, 0.11788509396567297, 0.11786231635851802, 0.1178476012939505, 0.11781579533162172, 0.11775307846148084, 0.11773745769815476, 0.1176968709377162, 0.11769149718957955, 0.1176580515814538, 0.11763864530558739, 0.11763861505862785, 0.11761237768116548, 0.11760962158106518, 0.11760565996641814, 0.11758107735542522, 0.11757205436660158, 0.11755927162486329, 0.11755043591983577, 0.1175247967984753, 0.11749721841832382, 0.11745576895477235, 0.11744168127265571, 0.11741711769224507, 0.11737443431310486, 0.11735983213455818, 0.11729309692533914, 0.11728244324578732, 0.11725715938025189, 0.11723864800523731, 0.11721458972662346, 0.11719156217779592, 0.11719144704172332, 0.1171277163617409, 0.11710445979617286, 0.11710067436734613, 0.11710050793274378, 0.11709608938137875, 0.11708269682290001, 0.11708074746192486, 0.11706990275243433, 0.11706981463268999, 0.11705046521692618, 0.11703369116092963, 0.11701484218070389, 0.1169566786696603, 0.1169486626596157, 0.1169392003574736, 0.11691958295191456, 0.11691953080431249, 0.11689438159916804, 0.11684059734706788, 0.11681123684349541, 0.116811230415044, 0.11679159190321149, 0.11677248547705009, 0.1167350968385039, 0.11670956814327346, 0.11668807304946725, 0.11666700543113656, 0.11664777590960904, 0.11662330664634299, 0.11657828376311775, 0.11656410393092216, 0.11656067105147636, 0.1165485092570805, 0.11653859338700526, 0.11651969213512045, 0.11650985271492194, 0.11650655866273969, 0.11649981254642394, 0.1164882003365491, 0.1164856567516695, 0.11645502434990541, 0.11643660810486192, 0.11641943943954194, 0.11639444814506118, 0.11637491861055681, 0.11635010733312878, 0.11634089344954673, 0.11628100684964571, 0.11626541827118717, 0.1162522720890495, 0.11624259549699079, 0.11623047258969907, 0.11618595434275174, 0.11616278602600374, 0.11613319585832295, 0.11612014509169302, 0.11607181748958985, 0.11605562045718383, 0.11605179511161574, 0.11601354105022076, 0.11601029172674054, 0.11599027519488958, 0.11598357660473695, 0.11597777351617711, 0.11597769657731749, 0.11596433969684343, 0.11593607586621787, 0.11593104483689343, 0.11590723991855376, 0.11589612015491062, 0.1158866581458623, 0.11588358313825955, 0.11587657097451243, 0.1158667389006122, 0.11585046552311178, 0.11584316828539687, 0.11582355833232603, 0.11580278171832459, 0.11575122285925102, 0.11574662738922263, 0.11573631910287545, 0.11570296371334238, 0.11569405025328569, 0.11567313832923425, 0.11565548581392225, 0.11564582559394308, 0.11563612914696508, 0.1156174289270927, 0.11559136871868625, 0.11557202692088824, 0.11555193656159168, 0.11553800928091211, 0.11550866986282878, 0.115501983054103, 0.11548424115452383, 0.1154711690809908, 0.11544116918509663, 0.11542027239914303, 0.11538465867422278, 0.11538463044145576, 0.11537742014978111, 0.11536202695009315, 0.1153489206475155, 0.11532719613693244, 0.11531288996042904, 0.11530397480009683, 0.11529239776264398, 0.11527554753330267, 0.11527473184289183, 0.11527279643194621, 0.11523909881440211, 0.11522015070662935, 0.11519491750839093, 0.1151812280386535, 0.1151668232485303, 0.11516263324034187, 0.11516016204824159, 0.11515244830328417, 0.11514046423090021, 0.11513620711266155, 0.11512876943106877, 0.11511569470423236, 0.11504241972151054, 0.11504238261418584, 0.11503917767601672, 0.11499843575399596, 0.11498009617336724, 0.11496986669295214, 0.11495041385305187, 0.11492915211299597, 0.11491310549499963, 0.11489935815897451, 0.11488985165387085, 0.1148795655277873, 0.11487071185380723, 0.11485680467138387, 0.1148534779127459, 0.11481912601012158, 0.11481912271931959, 0.114790494570629, 0.11477956995521212, 0.11476835059018659, 0.11475683551183914, 0.11474326311441883, 0.11473498979567662, 0.11473267540602126, 0.11471932959242737, 0.11469813055117145, 0.11469810338495619, 0.11468260304056879, 0.11465086486525158, 0.11463723394993847, 0.114629326320807, 0.11462302175064329, 0.1146229782200427, 0.11461596044760562, 0.11460189583480558, 0.11459844358092801, 0.11457373241590836, 0.114572461963749, 0.114572449766769, 0.11454678546717927, 0.1145322954221927, 0.11452661431255612], \"yaxis\": \"y\"}, {\"mode\": \"lines\", \"name\": \"validation AUC\", \"type\": \"scatter\", \"x\": [0, 1, 2, 3, 4, 5, 6, 7, 8, 9, 10, 11, 12, 13, 14, 15, 16, 17, 18, 19, 20, 21, 22, 23, 24, 25, 26, 27, 28, 29, 30, 31, 32, 33, 34, 35, 36, 37, 38, 39, 40, 41, 42, 43, 44, 45, 46, 47, 48, 49, 50, 51, 52, 53, 54, 55, 56, 57, 58, 59, 60, 61, 62, 63, 64, 65, 66, 67, 68, 69, 70, 71, 72, 73, 74, 75, 76, 77, 78, 79, 80, 81, 82, 83, 84, 85, 86, 87, 88, 89, 90, 91, 92, 93, 94, 95, 96, 97, 98, 99, 100, 101, 102, 103, 104, 105, 106, 107, 108, 109, 110, 111, 112, 113, 114, 115, 116, 117, 118, 119, 120, 121, 122, 123, 124, 125, 126, 127, 128, 129, 130, 131, 132, 133, 134, 135, 136, 137, 138, 139, 140, 141, 142, 143, 144, 145, 146, 147, 148, 149, 150, 151, 152, 153, 154, 155, 156, 157, 158, 159, 160, 161, 162, 163, 164, 165, 166, 167, 168, 169, 170, 171, 172, 173, 174, 175, 176, 177, 178, 179, 180, 181, 182, 183, 184, 185, 186, 187, 188, 189, 190, 191, 192, 193, 194, 195, 196, 197, 198, 199, 200, 201, 202, 203, 204, 205, 206, 207, 208, 209, 210, 211, 212, 213, 214, 215, 216, 217, 218, 219, 220, 221, 222, 223, 224, 225, 226, 227, 228, 229, 230, 231, 232, 233, 234, 235, 236, 237, 238, 239, 240, 241, 242, 243, 244, 245, 246, 247, 248, 249, 250, 251, 252, 253, 254, 255, 256, 257, 258, 259, 260, 261, 262, 263, 264, 265, 266, 267, 268, 269, 270, 271, 272, 273, 274, 275, 276, 277, 278, 279, 280, 281, 282, 283, 284, 285, 286, 287, 288, 289, 290, 291, 292, 293, 294, 295, 296, 297, 298, 299, 300, 301, 302, 303, 304, 305, 306, 307, 308, 309, 310, 311, 312, 313, 314, 315, 316, 317, 318, 319, 320, 321, 322, 323, 324, 325, 326, 327, 328, 329, 330, 331, 332, 333, 334, 335, 336, 337, 338, 339, 340, 341, 342, 343, 344, 345, 346, 347, 348, 349, 350, 351, 352, 353, 354, 355, 356, 357, 358, 359, 360, 361, 362, 363, 364, 365, 366, 367, 368, 369, 370, 371, 372, 373, 374, 375, 376, 377, 378, 379, 380, 381, 382, 383, 384, 385, 386, 387, 388, 389, 390, 391, 392, 393, 394, 395, 396, 397, 398, 399], \"xaxis\": \"x2\", \"y\": [0.5739372397584486, 0.5773014561298222, 0.5773014561298222, 0.5773014561298222, 0.5806436506877385, 0.5989663536530226, 0.6556258452458821, 0.6308399716449756, 0.64423815776484, 0.6730375573119187, 0.6788111885635667, 0.6786788246477594, 0.6958148988625837, 0.7160446328987, 0.7169271992040386, 0.72293328293107, 0.7270195783385133, 0.7294222863559977, 0.7307968351496721, 0.72993477308799, 0.7293324257621763, 0.7330021226822866, 0.7318545727751422, 0.7314419927217012, 0.7323216546144248, 0.7313932827097436, 0.733090423077942, 0.7344909524392544, 0.7368932142798499, 0.736812214702206, 0.7375556931776013, 0.7377061713067234, 0.7394206102655162, 0.7392872630554186, 0.7394377781291239, 0.7385981471132052, 0.7404574827271712, 0.7404146355363728, 0.7406857576227659, 0.7416350117426084, 0.7414163765413287, 0.7418991314095463, 0.7419457213708084, 0.7422631264942343, 0.7421158454925014, 0.7413100102445056, 0.742761136633408, 0.742274908974373, 0.7421788956865091, 0.7420319187671145, 0.7437881932035051, 0.7442933848012679, 0.7439315779726596, 0.7444415752081249, 0.7440663546539367, 0.7446572917873345, 0.7440640527222164, 0.7436175575414299, 0.7441259405827999, 0.7447985224031014, 0.7454625558152368, 0.7453392149033948, 0.7455477358145604, 0.7467327049006688, 0.7467376128464478, 0.7463084134143645, 0.7471951459319276, 0.7472520008035276, 0.7471122905994525, 0.746897509002386, 0.7476769175058549, 0.7473680693162681, 0.7474748590548522, 0.7473654746697735, 0.7473229145099675, 0.7476723733221255, 0.7478731614478454, 0.7478731614478454, 0.7479440609448302, 0.7478715955658974, 0.7479622632567665, 0.747952748605656, 0.7483296913457979, 0.7486895742141906, 0.7491609700440304, 0.7495029859436262, 0.7494235835087315, 0.7494252858014482, 0.7491555960281254, 0.7489848040620444, 0.7487435673015408, 0.7486791160552638, 0.7487600332180683, 0.7486214768217444, 0.748761297859569, 0.7485928760305925, 0.7483287393123086, 0.7482151404028582, 0.7482309242655427, 0.7480377239888266, 0.7478291519236229, 0.7485316901170893, 0.748502515263953, 0.7484015542438359, 0.7481270730422658, 0.7483303194037118, 0.7484582670208852, 0.7483777789836237, 0.7481657454951666, 0.7481965544356352, 0.7486606409217903, 0.7486037519474982, 0.7486279421237982, 0.7485245995990126, 0.7490097018692067, 0.7489916388099299, 0.7492118825215228, 0.7492805710272996, 0.7492722158677223, 0.7493111213556861, 0.7494610197390418, 0.7493584871531948, 0.749567192787276, 0.7496791576093942, 0.7497520464300879, 0.7496652664461242, 0.7496500736967703, 0.74974357759487, 0.749844973424312, 0.7496105742535849, 0.7493691158255822, 0.7495597413490408, 0.7496352901797223, 0.7494856589341219, 0.7495228308685679, 0.7494457360491755, 0.7494240524207486, 0.7494816973380501, 0.7495846306305299, 0.7495345877716874, 0.7496121628706609, 0.7495925566645644, 0.749751640039673, 0.7498945814738296, 0.7496385270935857, 0.7494988367827478, 0.7495148593642773, 0.7495449350968646, 0.7496389732704747, 0.7495728822530835, 0.7495041965891976, 0.7494557139285211, 0.7493834275887221, 0.7494594368057477, 0.7492116295932227, 0.7491670204299964, 0.7491950528429456, 0.7490498208446329, 0.7490375438754581, 0.7490354550855637, 0.7490942935970906, 0.7490148115892474, 0.7488871311098291, 0.7489893397201006, 0.7489916700707311, 0.7490023044269006, 0.7488155126144181, 0.7490299219237619, 0.7491245909971769, 0.7493405121925394, 0.7493816599325123, 0.7493871334146027, 0.7495350538418135, 0.7497618509540817, 0.7497611689002386, 0.7496641581086292, 0.7499103909135332, 0.7498856153076845, 0.7497817441911705, 0.7498132948651934, 0.7497652157530407, 0.7496861316099394, 0.7498850099848988, 0.7488366079714054, 0.7488738708463638, 0.7488769685075677, 0.7488531648284453, 0.7488806345469741, 0.7488003710191025, 0.7488643817722724, 0.7489937389673883, 0.7489601762345284, 0.7489407320162196, 0.7489042591869626, 0.7488431329531705, 0.7489013462486745, 0.7487554009357176, 0.7486365701049128, 0.7486344358447623, 0.7486094272038505, 0.7487225515175019, 0.7487236541712148, 0.7486977077062689, 0.7477895700655981, 0.7477735759029787, 0.7477806578953823, 0.7478778505680165, 0.7480181490435311, 0.7481811144417632, 0.7481910837954358, 0.7479328411591121, 0.7478810789562068, 0.7480398781422143, 0.7479944760913955, 0.7479939986537053, 0.7480708377029065, 0.7480762259282666, 0.7482763064231244, 0.7481590585256136, 0.7481411318771055, 0.7482537759111758, 0.7482704578114203, 0.7483642970526595, 0.7484823037350706, 0.7484169288742146, 0.7483860659378168, 0.7484123988999404, 0.7486335264396382, 0.748594080992382, 0.7486847657345971, 0.7487065914575746, 0.7488469155101084, 0.748856651828718, 0.7489653086896974, 0.7488901918264498, 0.7488909875559333, 0.749057687198956, 0.7492095408033284, 0.7492147016774074, 0.7492153496285583, 0.7491494007057177, 0.7492037035591883, 0.7492131329535684, 0.7492044168738324, 0.749204757900754, 0.7492646052835903, 0.7485800676277984, 0.7485309142808428, 0.7484539729235651, 0.748457314987396, 0.7484340740026942, 0.7484629220383641, 0.7484630243464405, 0.74860482334041, 0.748647593800151, 0.7486203741680314, 0.7486203286977753, 0.7484460923597869, 0.7484036288242751, 0.7484263071145565, 0.7485369532992447, 0.7485161364475768, 0.7484627771019224, 0.748450807056977, 0.7484260826051665, 0.7483968679655559, 0.7483989198108671, 0.748424167170624, 0.7484766966841025, 0.74847654890577, 0.7484030803393097, 0.7484834433333667, 0.7484430998485505, 0.7484424803163098, 0.7484674093842731, 0.7484763613409631, 0.7485880533415441, 0.7486310454687841, 0.7487072649857446, 0.7487279027982788, 0.7484439183131621, 0.7483980132476341, 0.7483963706346287, 0.7484681624853915, 0.7486060908238016, 0.7486425807044046, 0.7486784908392411, 0.7486262739337738, 0.7485899090963753, 0.7486202604923909, 0.7486623318469429, 0.7487419843682467, 0.7488726260981003, 0.7488706367743914, 0.7488803162551807, 0.7489073653738395, 0.749046271322758, 0.7490484425274917, 0.749018722031281, 0.7489889049107757, 0.7489889390134679, 0.7489761846066029, 0.7490363985933799, 0.7490062631810813, 0.7489282021187446, 0.7489554956400305, 0.7490333520862142, 0.7490324767837824, 0.7490192278878812, 0.7490780266129339, 0.749055893965727, 0.7490606399237182, 0.7490752472435235, 0.749027679671753, 0.7490564452925834, 0.7490678071728522, 0.7490459700823107, 0.7490752927137796, 0.7492085972955121, 0.7491712491638233, 0.7491072611457814, 0.7490603472089439, 0.7491302520440741, 0.7491474113820088, 0.749196252120953, 0.7491675490217248, 0.7491920859087284, 0.7491107794068552, 0.7491150308758102, 0.7491278648556235, 0.7491412956325495, 0.749167605859545, 0.7489296031710139, 0.7488210599856749, 0.7487760614833799, 0.7487778177720258, 0.7487906176491469, 0.7488750559149161, 0.7490898687727837, 0.7491522312291663, 0.7491716811312572, 0.7489800581040532, 0.7489802570364241, 0.749101350012475, 0.7490090112896906, 0.7490236242932778, 0.7491531861045466, 0.7491650652089796, 0.749147894503481, 0.7491320765381043, 0.7492301274618243, 0.7492415234447852, 0.7492370503083312, 0.7492748645101461, 0.749307748031054, 0.7493076116202855, 0.7493401171696886, 0.7493260753861949, 0.7492681803824843, 0.7492695501739525, 0.7492595268243507, 0.7493365761734868, 0.7492825631928995, 0.7492915151495896, 0.7492883435992194, 0.7493226679588707, 0.7493388383187329, 0.7492764758623504, 0.749286251967434, 0.7489957822870265, 0.7490004600396334, 0.7490084969074172, 0.7490020003445622, 0.7490158005673199, 0.749015817618666, 0.7488601956668107, 0.748900550519191, 0.7484683415245252, 0.7484860578730984, 0.7484806810153024, 0.7484823008931797, 0.7484804081937652, 0.7485075937231926, 0.7485063944451853, 0.7485063944451853, 0.7484988691177836, 0.7485158352071294, 0.748526929949643, 0.7485619932009576, 0.7486099074834317, 0.7486112659073357, 0.7485664549698475, 0.7482479358251447, 0.7482581780003544, 0.7483195571624466, 0.7483195230597545, 0.7483190967761025, 0.7482512381025014, 0.7482599229214362, 0.7482732485483947], \"yaxis\": \"y2\"}],\n",
              "                        {\"annotations\": [{\"font\": {\"size\": 16}, \"showarrow\": false, \"text\": \"Logloss\", \"x\": 0.5, \"xanchor\": \"center\", \"xref\": \"paper\", \"y\": 1.0, \"yanchor\": \"bottom\", \"yref\": \"paper\"}, {\"font\": {\"size\": 16}, \"showarrow\": false, \"text\": \"AUC\", \"x\": 0.5, \"xanchor\": \"center\", \"xref\": \"paper\", \"y\": 0.375, \"yanchor\": \"bottom\", \"yref\": \"paper\"}], \"height\": 1260.0, \"template\": {\"data\": {\"bar\": [{\"error_x\": {\"color\": \"#2a3f5f\"}, \"error_y\": {\"color\": \"#2a3f5f\"}, \"marker\": {\"line\": {\"color\": \"#E5ECF6\", \"width\": 0.5}}, \"type\": \"bar\"}], \"barpolar\": [{\"marker\": {\"line\": {\"color\": \"#E5ECF6\", \"width\": 0.5}}, \"type\": \"barpolar\"}], \"carpet\": [{\"aaxis\": {\"endlinecolor\": \"#2a3f5f\", \"gridcolor\": \"white\", \"linecolor\": \"white\", \"minorgridcolor\": \"white\", \"startlinecolor\": \"#2a3f5f\"}, \"baxis\": {\"endlinecolor\": \"#2a3f5f\", \"gridcolor\": \"white\", \"linecolor\": \"white\", \"minorgridcolor\": \"white\", \"startlinecolor\": \"#2a3f5f\"}, \"type\": \"carpet\"}], \"choropleth\": [{\"colorbar\": {\"outlinewidth\": 0, \"ticks\": \"\"}, \"type\": \"choropleth\"}], \"contour\": [{\"colorbar\": {\"outlinewidth\": 0, \"ticks\": \"\"}, \"colorscale\": [[0.0, \"#0d0887\"], [0.1111111111111111, \"#46039f\"], [0.2222222222222222, \"#7201a8\"], [0.3333333333333333, \"#9c179e\"], [0.4444444444444444, \"#bd3786\"], [0.5555555555555556, \"#d8576b\"], [0.6666666666666666, \"#ed7953\"], [0.7777777777777778, \"#fb9f3a\"], [0.8888888888888888, \"#fdca26\"], [1.0, \"#f0f921\"]], \"type\": \"contour\"}], \"contourcarpet\": [{\"colorbar\": {\"outlinewidth\": 0, \"ticks\": \"\"}, \"type\": \"contourcarpet\"}], \"heatmap\": [{\"colorbar\": {\"outlinewidth\": 0, \"ticks\": \"\"}, \"colorscale\": [[0.0, \"#0d0887\"], [0.1111111111111111, \"#46039f\"], [0.2222222222222222, \"#7201a8\"], [0.3333333333333333, \"#9c179e\"], [0.4444444444444444, \"#bd3786\"], [0.5555555555555556, \"#d8576b\"], [0.6666666666666666, \"#ed7953\"], [0.7777777777777778, \"#fb9f3a\"], [0.8888888888888888, \"#fdca26\"], [1.0, \"#f0f921\"]], \"type\": \"heatmap\"}], \"heatmapgl\": [{\"colorbar\": {\"outlinewidth\": 0, \"ticks\": \"\"}, \"colorscale\": [[0.0, \"#0d0887\"], [0.1111111111111111, \"#46039f\"], [0.2222222222222222, \"#7201a8\"], [0.3333333333333333, \"#9c179e\"], [0.4444444444444444, \"#bd3786\"], [0.5555555555555556, \"#d8576b\"], [0.6666666666666666, \"#ed7953\"], [0.7777777777777778, \"#fb9f3a\"], [0.8888888888888888, \"#fdca26\"], [1.0, \"#f0f921\"]], \"type\": \"heatmapgl\"}], \"histogram\": [{\"marker\": {\"colorbar\": {\"outlinewidth\": 0, \"ticks\": \"\"}}, \"type\": \"histogram\"}], \"histogram2d\": [{\"colorbar\": {\"outlinewidth\": 0, \"ticks\": \"\"}, \"colorscale\": [[0.0, \"#0d0887\"], [0.1111111111111111, \"#46039f\"], [0.2222222222222222, \"#7201a8\"], [0.3333333333333333, \"#9c179e\"], [0.4444444444444444, \"#bd3786\"], [0.5555555555555556, \"#d8576b\"], [0.6666666666666666, \"#ed7953\"], [0.7777777777777778, \"#fb9f3a\"], [0.8888888888888888, \"#fdca26\"], [1.0, \"#f0f921\"]], \"type\": \"histogram2d\"}], \"histogram2dcontour\": [{\"colorbar\": {\"outlinewidth\": 0, \"ticks\": \"\"}, \"colorscale\": [[0.0, \"#0d0887\"], [0.1111111111111111, \"#46039f\"], [0.2222222222222222, \"#7201a8\"], [0.3333333333333333, \"#9c179e\"], [0.4444444444444444, \"#bd3786\"], [0.5555555555555556, \"#d8576b\"], [0.6666666666666666, \"#ed7953\"], [0.7777777777777778, \"#fb9f3a\"], [0.8888888888888888, \"#fdca26\"], [1.0, \"#f0f921\"]], \"type\": \"histogram2dcontour\"}], \"mesh3d\": [{\"colorbar\": {\"outlinewidth\": 0, \"ticks\": \"\"}, \"type\": \"mesh3d\"}], \"parcoords\": [{\"line\": {\"colorbar\": {\"outlinewidth\": 0, \"ticks\": \"\"}}, \"type\": \"parcoords\"}], \"pie\": [{\"automargin\": true, \"type\": \"pie\"}], \"scatter\": [{\"marker\": {\"colorbar\": {\"outlinewidth\": 0, \"ticks\": \"\"}}, \"type\": \"scatter\"}], \"scatter3d\": [{\"line\": {\"colorbar\": {\"outlinewidth\": 0, \"ticks\": \"\"}}, \"marker\": {\"colorbar\": {\"outlinewidth\": 0, \"ticks\": \"\"}}, \"type\": \"scatter3d\"}], \"scattercarpet\": [{\"marker\": {\"colorbar\": {\"outlinewidth\": 0, \"ticks\": \"\"}}, \"type\": \"scattercarpet\"}], \"scattergeo\": [{\"marker\": {\"colorbar\": {\"outlinewidth\": 0, \"ticks\": \"\"}}, \"type\": \"scattergeo\"}], \"scattergl\": [{\"marker\": {\"colorbar\": {\"outlinewidth\": 0, \"ticks\": \"\"}}, \"type\": \"scattergl\"}], \"scattermapbox\": [{\"marker\": {\"colorbar\": {\"outlinewidth\": 0, \"ticks\": \"\"}}, \"type\": \"scattermapbox\"}], \"scatterpolar\": [{\"marker\": {\"colorbar\": {\"outlinewidth\": 0, \"ticks\": \"\"}}, \"type\": \"scatterpolar\"}], \"scatterpolargl\": [{\"marker\": {\"colorbar\": {\"outlinewidth\": 0, \"ticks\": \"\"}}, \"type\": \"scatterpolargl\"}], \"scatterternary\": [{\"marker\": {\"colorbar\": {\"outlinewidth\": 0, \"ticks\": \"\"}}, \"type\": \"scatterternary\"}], \"surface\": [{\"colorbar\": {\"outlinewidth\": 0, \"ticks\": \"\"}, \"colorscale\": [[0.0, \"#0d0887\"], [0.1111111111111111, \"#46039f\"], [0.2222222222222222, \"#7201a8\"], [0.3333333333333333, \"#9c179e\"], [0.4444444444444444, \"#bd3786\"], [0.5555555555555556, \"#d8576b\"], [0.6666666666666666, \"#ed7953\"], [0.7777777777777778, \"#fb9f3a\"], [0.8888888888888888, \"#fdca26\"], [1.0, \"#f0f921\"]], \"type\": \"surface\"}], \"table\": [{\"cells\": {\"fill\": {\"color\": \"#EBF0F8\"}, \"line\": {\"color\": \"white\"}}, \"header\": {\"fill\": {\"color\": \"#C8D4E3\"}, \"line\": {\"color\": \"white\"}}, \"type\": \"table\"}]}, \"layout\": {\"annotationdefaults\": {\"arrowcolor\": \"#2a3f5f\", \"arrowhead\": 0, \"arrowwidth\": 1}, \"coloraxis\": {\"colorbar\": {\"outlinewidth\": 0, \"ticks\": \"\"}}, \"colorscale\": {\"diverging\": [[0, \"#8e0152\"], [0.1, \"#c51b7d\"], [0.2, \"#de77ae\"], [0.3, \"#f1b6da\"], [0.4, \"#fde0ef\"], [0.5, \"#f7f7f7\"], [0.6, \"#e6f5d0\"], [0.7, \"#b8e186\"], [0.8, \"#7fbc41\"], [0.9, \"#4d9221\"], [1, \"#276419\"]], \"sequential\": [[0.0, \"#0d0887\"], [0.1111111111111111, \"#46039f\"], [0.2222222222222222, \"#7201a8\"], [0.3333333333333333, \"#9c179e\"], [0.4444444444444444, \"#bd3786\"], [0.5555555555555556, \"#d8576b\"], [0.6666666666666666, \"#ed7953\"], [0.7777777777777778, \"#fb9f3a\"], [0.8888888888888888, \"#fdca26\"], [1.0, \"#f0f921\"]], \"sequentialminus\": [[0.0, \"#0d0887\"], [0.1111111111111111, \"#46039f\"], [0.2222222222222222, \"#7201a8\"], [0.3333333333333333, \"#9c179e\"], [0.4444444444444444, \"#bd3786\"], [0.5555555555555556, \"#d8576b\"], [0.6666666666666666, \"#ed7953\"], [0.7777777777777778, \"#fb9f3a\"], [0.8888888888888888, \"#fdca26\"], [1.0, \"#f0f921\"]]}, \"colorway\": [\"#636efa\", \"#EF553B\", \"#00cc96\", \"#ab63fa\", \"#FFA15A\", \"#19d3f3\", \"#FF6692\", \"#B6E880\", \"#FF97FF\", \"#FECB52\"], \"font\": {\"color\": \"#2a3f5f\"}, \"geo\": {\"bgcolor\": \"white\", \"lakecolor\": \"white\", \"landcolor\": \"#E5ECF6\", \"showlakes\": true, \"showland\": true, \"subunitcolor\": \"white\"}, \"hoverlabel\": {\"align\": \"left\"}, \"hovermode\": \"closest\", \"mapbox\": {\"style\": \"light\"}, \"paper_bgcolor\": \"white\", \"plot_bgcolor\": \"#E5ECF6\", \"polar\": {\"angularaxis\": {\"gridcolor\": \"white\", \"linecolor\": \"white\", \"ticks\": \"\"}, \"bgcolor\": \"#E5ECF6\", \"radialaxis\": {\"gridcolor\": \"white\", \"linecolor\": \"white\", \"ticks\": \"\"}}, \"scene\": {\"xaxis\": {\"backgroundcolor\": \"#E5ECF6\", \"gridcolor\": \"white\", \"gridwidth\": 2, \"linecolor\": \"white\", \"showbackground\": true, \"ticks\": \"\", \"zerolinecolor\": \"white\"}, \"yaxis\": {\"backgroundcolor\": \"#E5ECF6\", \"gridcolor\": \"white\", \"gridwidth\": 2, \"linecolor\": \"white\", \"showbackground\": true, \"ticks\": \"\", \"zerolinecolor\": \"white\"}, \"zaxis\": {\"backgroundcolor\": \"#E5ECF6\", \"gridcolor\": \"white\", \"gridwidth\": 2, \"linecolor\": \"white\", \"showbackground\": true, \"ticks\": \"\", \"zerolinecolor\": \"white\"}}, \"shapedefaults\": {\"line\": {\"color\": \"#2a3f5f\"}}, \"ternary\": {\"aaxis\": {\"gridcolor\": \"white\", \"linecolor\": \"white\", \"ticks\": \"\"}, \"baxis\": {\"gridcolor\": \"white\", \"linecolor\": \"white\", \"ticks\": \"\"}, \"bgcolor\": \"#E5ECF6\", \"caxis\": {\"gridcolor\": \"white\", \"linecolor\": \"white\", \"ticks\": \"\"}}, \"title\": {\"x\": 0.05}, \"xaxis\": {\"automargin\": true, \"gridcolor\": \"white\", \"linecolor\": \"white\", \"ticks\": \"\", \"title\": {\"standoff\": 15}, \"zerolinecolor\": \"white\", \"zerolinewidth\": 2}, \"yaxis\": {\"automargin\": true, \"gridcolor\": \"white\", \"linecolor\": \"white\", \"ticks\": \"\", \"title\": {\"standoff\": 15}, \"zerolinecolor\": \"white\", \"zerolinewidth\": 2}}}, \"title\": {\"text\": \"Learning results\"}, \"width\": 891.0, \"xaxis\": {\"anchor\": \"y\", \"domain\": [0.0, 1.0]}, \"xaxis2\": {\"anchor\": \"y2\", \"domain\": [0.0, 1.0]}, \"yaxis\": {\"anchor\": \"x\", \"domain\": [0.625, 1.0]}, \"yaxis2\": {\"anchor\": \"x2\", \"domain\": [0.0, 0.375]}},\n",
              "                        {\"responsive\": true}\n",
              "                    ).then(function(){\n",
              "                            \n",
              "var gd = document.getElementById('fece2e59-3f1a-4962-b6db-422d03b3ba70');\n",
              "var x = new MutationObserver(function (mutations, observer) {{\n",
              "        var display = window.getComputedStyle(gd).display;\n",
              "        if (!display || display === 'none') {{\n",
              "            console.log([gd, 'removed!']);\n",
              "            Plotly.purge(gd);\n",
              "            observer.disconnect();\n",
              "        }}\n",
              "}});\n",
              "\n",
              "// Listen for the removal of the full notebook cells\n",
              "var notebookContainer = gd.closest('#notebook-container');\n",
              "if (notebookContainer) {{\n",
              "    x.observe(notebookContainer, {childList: true});\n",
              "}}\n",
              "\n",
              "// Listen for the clearing of the current output cell\n",
              "var outputEl = gd.closest('.output');\n",
              "if (outputEl) {{\n",
              "    x.observe(outputEl, {childList: true});\n",
              "}}\n",
              "\n",
              "                        })\n",
              "                };\n",
              "                \n",
              "            </script>\n",
              "        </div>\n",
              "</body>\n",
              "</html>"
            ]
          },
          "metadata": {
            "tags": []
          }
        }
      ]
    },
    {
      "cell_type": "markdown",
      "metadata": {
        "id": "e01TOmuiWdTG",
        "colab_type": "text"
      },
      "source": [
        "### Объявление финальных параметров"
      ]
    },
    {
      "cell_type": "code",
      "metadata": {
        "id": "NeVaRFJRWomK",
        "colab_type": "code",
        "colab": {}
      },
      "source": [
        "cat_features = [\n",
        "    'ClientID',\n",
        "    'ClientType',\n",
        "    'CoachID',\n",
        "    'GymID',\n",
        "    'TrainingID',\n",
        "    'Month',\n",
        "    'Day',\n",
        "    'DayOfWeek',\n",
        "    'Season'\n",
        "]\n",
        "ignored_features = [\n",
        "]\n",
        "train_pool = Pool(\n",
        "    pd.concat([X_train, X_valid]),\n",
        "    pd.concat([y_train, y_valid]),\n",
        "    cat_features=cat_features\n",
        ")\n",
        "params = {\n",
        "    'iterations': 300,\n",
        "    'learning_rate': 0.08,\n",
        "    'logging_level': 'Silent',\n",
        "    'use_best_model': False,\n",
        "    'ignored_features': ignored_features\n",
        "}\n",
        "n_models = 5"
      ],
      "execution_count": 126,
      "outputs": []
    },
    {
      "cell_type": "markdown",
      "metadata": {
        "id": "zkt3iCbEFhGy",
        "colab_type": "text"
      },
      "source": [
        "### Обучение"
      ]
    },
    {
      "cell_type": "code",
      "metadata": {
        "id": "jsIALaQFFi0R",
        "colab_type": "code",
        "colab": {
          "base_uri": "https://localhost:8080/",
          "height": 53
        },
        "outputId": "72680b9b-0377-41fe-a0eb-361b0e1b127c"
      },
      "source": [
        "%%time\n",
        "models = []\n",
        "for i in range(n_models):\n",
        "    model = CatBoostClassifier(**params)\n",
        "    model.fit(train_pool)\n",
        "    models.append(model)"
      ],
      "execution_count": 127,
      "outputs": [
        {
          "output_type": "stream",
          "text": [
            "CPU times: user 33min 14s, sys: 1min 43s, total: 34min 57s\n",
            "Wall time: 17min 53s\n"
          ],
          "name": "stdout"
        }
      ]
    },
    {
      "cell_type": "markdown",
      "metadata": {
        "id": "YXvaGP6UF613",
        "colab_type": "text"
      },
      "source": [
        "### Получение предсказаний"
      ]
    },
    {
      "cell_type": "code",
      "metadata": {
        "id": "3Ol4xaCkGA1p",
        "colab_type": "code",
        "colab": {}
      },
      "source": [
        "y_test_predicted = None\n",
        "for model in models:\n",
        "    predicted_probas = model.predict_proba(X_test)\n",
        "    y_test_cur_predicted = pd.Series(\n",
        "        predicted_probas[:, 1],\n",
        "        index=X_test.index,\n",
        "        name='Target'\n",
        "    ).sort_index()\n",
        "    \n",
        "    if y_test_predicted is None:\n",
        "        y_test_predicted = y_test_cur_predicted\n",
        "    else:\n",
        "        y_test_predicted += y_test_cur_predicted\n",
        "\n",
        "y_test_predicted /= n_models\n",
        "\n",
        "SUBMISSTION_FILE_NAME = 'Catboost_2_attemp_5_models_300_iters_0.8_lr.csv'"
      ],
      "execution_count": 128,
      "outputs": []
    },
    {
      "cell_type": "markdown",
      "metadata": {
        "id": "Ih6-PdgRPke5",
        "colab_type": "text"
      },
      "source": [
        "# Отправка результатов"
      ]
    },
    {
      "cell_type": "markdown",
      "metadata": {
        "id": "SqRyENOXMsHQ",
        "colab_type": "text"
      },
      "source": [
        "## Определение пути"
      ]
    },
    {
      "cell_type": "code",
      "metadata": {
        "id": "Saiyu_K_LR2S",
        "colab_type": "code",
        "colab": {
          "base_uri": "https://localhost:8080/",
          "height": 55
        },
        "outputId": "aad6f7c0-a20c-48be-a796-05d70ed92e87"
      },
      "source": [
        "submission_folder_path = os.path.join(PROJECT_DIR, 'submissions')\n",
        "file_path = os.path.join(submission_folder_path, SUBMISSTION_FILE_NAME)\n",
        "print(f\"File will be saved to {file_path}\")"
      ],
      "execution_count": 131,
      "outputs": [
        {
          "output_type": "stream",
          "text": [
            "File will be saved to /content/drive/My Drive/projects/Kaggle. ML Posterior. Gym training prediction/submissions/Catboost_2_attemp_5_models_300_iters_0.8_lr.csv\n"
          ],
          "name": "stdout"
        }
      ]
    },
    {
      "cell_type": "markdown",
      "metadata": {
        "id": "bXNqGiZKMuJ-",
        "colab_type": "text"
      },
      "source": [
        "## Сохранение"
      ]
    },
    {
      "cell_type": "code",
      "metadata": {
        "id": "PsyUIyS4NL1e",
        "colab_type": "code",
        "colab": {}
      },
      "source": [
        "y_test_predicted.to_csv(file_path)"
      ],
      "execution_count": 132,
      "outputs": []
    },
    {
      "cell_type": "markdown",
      "metadata": {
        "id": "D8wDwY_NN5tL",
        "colab_type": "text"
      },
      "source": [
        "## Отправка на кагл"
      ]
    },
    {
      "cell_type": "code",
      "metadata": {
        "id": "84xj5IdMN8-H",
        "colab_type": "code",
        "colab": {
          "base_uri": "https://localhost:8080/",
          "height": 71
        },
        "outputId": "0d4f5d8d-575a-4938-d3b6-5cfe27f28cb7"
      },
      "source": [
        "!kaggle competitions submit -c ml-posterior-gym-training-prediction -f \"$file_path\" -m \"send $SUBMISSTION_FILE_NAME\""
      ],
      "execution_count": 133,
      "outputs": [
        {
          "output_type": "stream",
          "text": [
            "Warning: Looks like you're using an outdated API Version, please consider updating (server 1.5.6 / client 1.5.4)\n",
            "100% 1.09M/1.09M [00:08<00:00, 134kB/s]\n",
            "Successfully submitted to ML Posterior. Gym training prediction"
          ],
          "name": "stdout"
        }
      ]
    },
    {
      "cell_type": "markdown",
      "metadata": {
        "id": "U7rfkVWfnF-S",
        "colab_type": "text"
      },
      "source": [
        "# Юнит тестирование\n"
      ]
    },
    {
      "cell_type": "markdown",
      "metadata": {
        "id": "FXQBH20aoTZH",
        "colab_type": "text"
      },
      "source": [
        "## Подключение библиотек"
      ]
    },
    {
      "cell_type": "code",
      "metadata": {
        "id": "wDe_sqoLoWYg",
        "colab_type": "code",
        "colab": {}
      },
      "source": [
        "import unittest"
      ],
      "execution_count": null,
      "outputs": []
    },
    {
      "cell_type": "markdown",
      "metadata": {
        "id": "yQSf1SvuoYHP",
        "colab_type": "text"
      },
      "source": [
        "## Объявление тестирующего класса"
      ]
    },
    {
      "cell_type": "code",
      "metadata": {
        "id": "Qz4myBWbomDN",
        "colab_type": "code",
        "colab": {}
      },
      "source": [
        "class TestNotebook(unittest.TestCase):\n",
        "    def test_add(self):\n",
        "        self.assertEqual(2 + 2, 4)"
      ],
      "execution_count": null,
      "outputs": []
    },
    {
      "cell_type": "markdown",
      "metadata": {
        "id": "CO-Nl-0tor6W",
        "colab_type": "text"
      },
      "source": [
        "## Запуск тестов"
      ]
    },
    {
      "cell_type": "code",
      "metadata": {
        "id": "PQyyW4jHowk6",
        "colab_type": "code",
        "colab": {
          "base_uri": "https://localhost:8080/",
          "height": 143
        },
        "outputId": "beb89ea3-6f43-4aa2-936f-6e22d0ad3e9f"
      },
      "source": [
        "unittest.main(argv=[''], verbosity=2, exit=False)"
      ],
      "execution_count": null,
      "outputs": [
        {
          "output_type": "stream",
          "text": [
            "test_add (__main__.TestNotebook) ... ok\n",
            "\n",
            "----------------------------------------------------------------------\n",
            "Ran 1 test in 0.002s\n",
            "\n",
            "OK\n"
          ],
          "name": "stderr"
        },
        {
          "output_type": "execute_result",
          "data": {
            "text/plain": [
              "<unittest.main.TestProgram at 0x7f929c006dd8>"
            ]
          },
          "metadata": {
            "tags": []
          },
          "execution_count": 10
        }
      ]
    }
  ]
}