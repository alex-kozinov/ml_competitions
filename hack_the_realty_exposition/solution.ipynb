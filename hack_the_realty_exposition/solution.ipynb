{
  "nbformat": 4,
  "nbformat_minor": 0,
  "metadata": {
    "colab": {
      "name": "solution.ipynb",
      "provenance": []
    },
    "kernelspec": {
      "display_name": "Python 3",
      "language": "python",
      "name": "python3"
    },
    "language_info": {
      "codemirror_mode": {
        "name": "ipython",
        "version": 3
      },
      "file_extension": ".py",
      "mimetype": "text/x-python",
      "name": "python",
      "nbconvert_exporter": "python",
      "pygments_lexer": "ipython3",
      "version": "3.6.10"
    }
  },
  "cells": [
    {
      "cell_type": "markdown",
      "metadata": {
        "id": "fPWzgA5pirVo"
      },
      "source": [
        "# Введение"
      ]
    },
    {
      "cell_type": "markdown",
      "metadata": {
        "id": "CybclLK6ijga"
      },
      "source": [
        "## Описание задачи\n",
        "[источник](https://contest.yandex.ru/contest/20144/problems/)"
      ]
    },
    {
      "cell_type": "markdown",
      "metadata": {
        "id": "D8sINhZyjdL7"
      },
      "source": [
        "### RUS"
      ]
    },
    {
      "cell_type": "markdown",
      "metadata": {
        "id": "CKOjPGgCjWX2"
      },
      "source": [
        "Каждый пользователь, размещая объявление об аренде квартиры, хочет понимать, сколько времени потребуется для сдачи объекта. В первую очередь такая информация нужна на форме подачи объявлений, что заметно ограничивает набор возможных признаков. Вам предлагается построить модель, прогнозирующую длительность экспозиции объявлений на Яндекс.Недвижимости.\n",
        "Для построения целевой переменной срок экспозиции разбит на несколько классов, каждому из которых соответствует целое число: \"меньше 7 дней\"(1), \"7-14 дней\"(2), \"15-30 дней\"(3), \"30-70 дней\"(4), \"более 70 дней\"(5).\n",
        "Метрика, по которой оцениваются решения, записывается следующим образом:\n",
        "$$\n",
        "metric = -\\frac{1}{l}\\sum\\limits_{i=1}^l \\left(exp^{|prediction_i - target_i|} - 1\\right)\n",
        "$$\n",
        "\n",
        "При отправке решения метрика вычисляется на публичной части тестовой выборки. Финальное значение будет определено по скрытой части тестовой выборки, чтобы исключить переобучение. Это значение будет опубликовано после окончания хакатона.\n",
        "Оценивается только последняя посылка. Убедитесь, что на момент окончания хакатона ваша последняя посылка содержит именно тот прогноз, для которого вы хотите, чтобы было посчитано финальное значение метрики на скрытой части тестовой выборки."
      ]
    },
    {
      "cell_type": "markdown",
      "metadata": {
        "id": "9Bn7vUi_jirs"
      },
      "source": [
        "## Описание датасета"
      ]
    },
    {
      "cell_type": "markdown",
      "metadata": {
        "id": "8K1Llc2PkRQw"
      },
      "source": [
        "### RUS"
      ]
    },
    {
      "cell_type": "markdown",
      "metadata": {
        "id": "cyNr9jFHj8va"
      },
      "source": [
        "* **id** - id объявления про аренду квартиры\n",
        "* **building_id** - id дома\n",
        "* **unified_address** - адрес дома\n",
        "* **building_series_id** - id серии дома\n",
        "* **build_year** - год постройки дома\n",
        "* **site_id** - id жилого комплекса, если у недавно построенных домов\n",
        "* **parking** - тип парковки дома\n",
        "* **expect_demolition** - дом входит в программу реновации и ожидает сноса\n",
        "* **flats_count** - количество квартир в доме\t\n",
        "* **building_type** - тип стен в доме\n",
        "* **main_image** - часть урла главной фотографии в объявлении, добавив \"http:\" можно получить урл (http://avatars.mds.yandex.net/get-realty/1702013/add.d352c435e10b2c47092f43a332bedb13.realty-api-vos/main/)\n",
        "* **latitude, longitude** - координаты дома\n",
        "* **total_area** - площадь квартиры в кв. м.\n",
        "* **ceiling_height** - высота потолков в квартире\n",
        "* **rooms** - количество комнат в квартире\n",
        "* **floors_total** - количество этажей в доме\n",
        "* **floor** - этаж квартиры\n",
        "* **living_area** - жилая площадь в квартире\n",
        "* **kitchen_area** - площадь кухни\n",
        "* **is_apartment** - квартира юридически оформлена как апартаменты\n",
        "* **studio** - квартиры является студией\n",
        "* **has_elevator** - наличие лифта в доме\t\n",
        "* **day** - первый день экспозиции квартиры\n",
        "* **balcony** - тип и наличие балкона\n",
        "* **renovation** - качество ремонта\n",
        "* **locality_name** - имя населенного пункта\n",
        "* **price** - цена аренды квартиры за 1 месяц\n",
        "* **target** - срок экспозиции, который надо научиться предсказывать\n",
        "* **target_string** - строковое представление срока экспозиции"
      ]
    },
    {
      "cell_type": "markdown",
      "metadata": {
        "id": "DfJMbHB1j3qT"
      },
      "source": [
        "# Подготовка ноутбука"
      ]
    },
    {
      "cell_type": "markdown",
      "metadata": {
        "id": "eBJOdy5g-7Vf"
      },
      "source": [
        "## Первичные константы "
      ]
    },
    {
      "cell_type": "code",
      "metadata": {
        "id": "04FyTcMy-_y-"
      },
      "source": [
        "PROJECT_NAME = \"hack_the_realty_exposition\"\n",
        "MOUNT_DIR = '/content/drive' # In case Colab Usage\n",
        "VALIDATE_RATIO = 0.2"
      ],
      "execution_count": 1,
      "outputs": []
    },
    {
      "cell_type": "markdown",
      "metadata": {
        "id": "dbeCUdVpLISo"
      },
      "source": [
        "## Дополнительные установки"
      ]
    },
    {
      "cell_type": "code",
      "metadata": {
        "id": "QYUv2A8ZLW9S",
        "outputId": "e2dbf3f4-af9c-4ff9-b207-6f08e7811fb2",
        "colab": {
          "base_uri": "https://localhost:8080/",
          "height": 281
        }
      },
      "source": [
        "!pip install catboost"
      ],
      "execution_count": 2,
      "outputs": [
        {
          "output_type": "stream",
          "text": [
            "Requirement already satisfied: catboost in /usr/local/lib/python3.6/dist-packages (0.24.1)\n",
            "Requirement already satisfied: pandas>=0.24.0 in /usr/local/lib/python3.6/dist-packages (from catboost) (1.0.5)\n",
            "Requirement already satisfied: matplotlib in /usr/local/lib/python3.6/dist-packages (from catboost) (3.2.2)\n",
            "Requirement already satisfied: graphviz in /usr/local/lib/python3.6/dist-packages (from catboost) (0.10.1)\n",
            "Requirement already satisfied: numpy>=1.16.0 in /usr/local/lib/python3.6/dist-packages (from catboost) (1.18.5)\n",
            "Requirement already satisfied: plotly in /usr/local/lib/python3.6/dist-packages (from catboost) (4.4.1)\n",
            "Requirement already satisfied: scipy in /usr/local/lib/python3.6/dist-packages (from catboost) (1.4.1)\n",
            "Requirement already satisfied: six in /usr/local/lib/python3.6/dist-packages (from catboost) (1.15.0)\n",
            "Requirement already satisfied: pytz>=2017.2 in /usr/local/lib/python3.6/dist-packages (from pandas>=0.24.0->catboost) (2018.9)\n",
            "Requirement already satisfied: python-dateutil>=2.6.1 in /usr/local/lib/python3.6/dist-packages (from pandas>=0.24.0->catboost) (2.8.1)\n",
            "Requirement already satisfied: pyparsing!=2.0.4,!=2.1.2,!=2.1.6,>=2.0.1 in /usr/local/lib/python3.6/dist-packages (from matplotlib->catboost) (2.4.7)\n",
            "Requirement already satisfied: cycler>=0.10 in /usr/local/lib/python3.6/dist-packages (from matplotlib->catboost) (0.10.0)\n",
            "Requirement already satisfied: kiwisolver>=1.0.1 in /usr/local/lib/python3.6/dist-packages (from matplotlib->catboost) (1.2.0)\n",
            "Requirement already satisfied: retrying>=1.3.3 in /usr/local/lib/python3.6/dist-packages (from plotly->catboost) (1.3.3)\n"
          ],
          "name": "stdout"
        }
      ]
    },
    {
      "cell_type": "markdown",
      "metadata": {
        "id": "DRtEggw5mMcU"
      },
      "source": [
        "## Библиотеки"
      ]
    },
    {
      "cell_type": "code",
      "metadata": {
        "id": "PdJYo2EcmRZR"
      },
      "source": [
        "import os\n",
        "\n",
        "from tqdm import tqdm\n",
        "\n",
        "from datetime import datetime\n",
        "\n",
        "from collections import Counter\n",
        "\n",
        "import geopy.distance\n",
        "from geopy.geocoders import Nominatim\n",
        "\n",
        "import math\n",
        "\n",
        "import numpy as np\n",
        "\n",
        "import pandas as pd\n",
        "\n",
        "import catboost as ctb\n",
        "from catboost import CatBoostRegressor, Pool\n",
        "from catboost.utils import get_roc_curve\n",
        "\n",
        "from sklearn.naive_bayes import CategoricalNB\n",
        "from sklearn.metrics import roc_auc_score\n",
        "\n",
        "from plotly.subplots import make_subplots\n",
        "import plotly.graph_objects as go\n",
        "\n",
        "import matplotlib.pyplot as plt\n",
        "\n",
        "%matplotlib inline"
      ],
      "execution_count": 3,
      "outputs": []
    },
    {
      "cell_type": "markdown",
      "metadata": {
        "id": "fTALJ4H5mVr4"
      },
      "source": [
        "## Обработка случая работы в Google.Colab"
      ]
    },
    {
      "cell_type": "markdown",
      "metadata": {
        "id": "b0OMb3oiBZDv"
      },
      "source": [
        "### Подключение библиотек"
      ]
    },
    {
      "cell_type": "code",
      "metadata": {
        "id": "TeUXiI4RmxoL",
        "outputId": "e0e6ed0b-f0d3-4fb2-d73e-f6614ca48655",
        "colab": {
          "base_uri": "https://localhost:8080/",
          "height": 167
        }
      },
      "source": [
        "try:\n",
        "    from google.colab import files, drive\n",
        "    \n",
        "    USE_COLAB = True\n",
        "except:\n",
        "    USE_COLAB = False\n",
        "\n",
        "if USE_COLAB:\n",
        "    print(\"Don't forget to avoid disconnections:\")\n",
        "    print(\"\"\"\n",
        "function ClickConnect(){\n",
        "    console.log(\"Clicking\"); \n",
        "    document.querySelector(\"colab-connect-button\").click() \n",
        "}\n",
        "setInterval(ClickConnect,60000)\n",
        "    \"\"\")"
      ],
      "execution_count": 4,
      "outputs": [
        {
          "output_type": "stream",
          "text": [
            "Don't forget to avoid disconnections:\n",
            "\n",
            "function ClickConnect(){\n",
            "    console.log(\"Clicking\"); \n",
            "    document.querySelector(\"colab-connect-button\").click() \n",
            "}\n",
            "setInterval(ClickConnect,60000)\n",
            "    \n"
          ],
          "name": "stdout"
        }
      ]
    },
    {
      "cell_type": "markdown",
      "metadata": {
        "id": "7GAT7jD_Bf3t"
      },
      "source": [
        "### Подключение к Google.Drive"
      ]
    },
    {
      "cell_type": "code",
      "metadata": {
        "id": "hv47CJ8cBknH",
        "outputId": "9c1a906a-d8c5-478b-9f84-b86cf0a08b8e",
        "colab": {
          "base_uri": "https://localhost:8080/",
          "height": 54
        }
      },
      "source": [
        "if USE_COLAB:\n",
        "    drive.mount(MOUNT_DIR)\n",
        "    DRIVE_DIR = os.path.join(MOUNT_DIR, 'My Drive')\n",
        "    print(f\"Drive directory is {DRIVE_DIR}\")"
      ],
      "execution_count": 5,
      "outputs": [
        {
          "output_type": "stream",
          "text": [
            "Drive already mounted at /content/drive; to attempt to forcibly remount, call drive.mount(\"/content/drive\", force_remount=True).\n",
            "Drive directory is /content/drive/My Drive\n"
          ],
          "name": "stdout"
        }
      ]
    },
    {
      "cell_type": "markdown",
      "metadata": {
        "id": "ANBUdV7E97S3"
      },
      "source": [
        "## Объявление рабочей директории"
      ]
    },
    {
      "cell_type": "markdown",
      "metadata": {
        "id": "3lMtcGAx-VTG"
      },
      "source": [
        "Подключение к Google.Drive в случае работы c Google.Colab"
      ]
    },
    {
      "cell_type": "code",
      "metadata": {
        "id": "fCs60MoO96na",
        "outputId": "7756f998-bb9a-4621-a4e9-5cf8c3aa1373",
        "colab": {
          "base_uri": "https://localhost:8080/",
          "height": 54
        }
      },
      "source": [
        "PROJECT_DIR = os.path.join(DRIVE_DIR, 'projects', PROJECT_NAME) if USE_COLAB else './'\n",
        "WORK_DIR = '/content' if USE_COLAB else PROJECT_DIR\n",
        "print(f\"Project directory is {PROJECT_DIR}\")\n",
        "print(f\"Working directory is {WORK_DIR}\")"
      ],
      "execution_count": 6,
      "outputs": [
        {
          "output_type": "stream",
          "text": [
            "Project directory is /content/drive/My Drive/projects/hack_the_realty_exposition\n",
            "Working directory is /content\n"
          ],
          "name": "stdout"
        }
      ]
    },
    {
      "cell_type": "markdown",
      "metadata": {
        "id": "nBZbmTJtyro3"
      },
      "source": [
        "# Обработка данных"
      ]
    },
    {
      "cell_type": "markdown",
      "metadata": {
        "id": "8v10jmWh7ZEq"
      },
      "source": [
        "На выходе должны быть объявлены переменные:\n",
        "\n",
        "* **X_train_pure**: pd.DataFrame\\\n",
        "id | building_series_id | site_id | parking | build_year | expect_demolition | ~~main_image~~ | latitude | ~~total_area~~ | ceiling_height | rooms | floors_total | living_area | floor | is_apartment | ~~building_id~~ | has_elevator | studio | unified_address | area | kitchen_area | ~~day~~ | longitude | price | flats_count | building_type | balcony | locality_name | renovation | *Month* | *Day* | *DayOfWeek* | *Season* | *District* | *PricePerArea* | *FloorPercantage* | *FloorHeight* | *MainImageNa*\n",
        "\n",
        "* **y_train**: pd.Series\\\n",
        "id | target\n",
        "* **X_valid_pure**: pd.DataFrame\\\n",
        "id | building_series_id | site_id | parking | build_year | expect_demolition | latitude | total_area | ceiling_height | rooms | floors_total | living_area | floor | is_apartment | building_id | has_elevator | studio | unified_address | area | kitchen_area | day | longitude | price | flats_count | building_type | balcony | locality_name | renovation \n",
        "* **y_valid**: pd.Series\\\n",
        "id | target\n",
        "* **X_test_pure**: pd.DataFrame\\\n",
        "id | building_series_id | site_id | parking | build_year | expect_demolition | latitude | total_area | ceiling_height | rooms | floors_total | living_area | floor | is_apartment | building_id | has_elevator | studio | unified_address | area | kitchen_area | day | longitude | price | flats_count | building_type | balcony | locality_name | renovation "
      ]
    },
    {
      "cell_type": "markdown",
      "metadata": {
        "id": "PIApOaBJ6Jvn"
      },
      "source": [
        "## Загрузка"
      ]
    },
    {
      "cell_type": "markdown",
      "metadata": {
        "id": "VnrI6EYm7Bo2"
      },
      "source": [
        "Загрузка train/test датасета в датафреймы\n",
        "\n",
        "На выходе должны быть объявлены две переменные:\n",
        "* train_dataset: pd.Dataframe\n",
        "* test_dataset: pd.Dataframe"
      ]
    },
    {
      "cell_type": "markdown",
      "metadata": {
        "id": "nIGR2HZ6fVFi"
      },
      "source": [
        "### Объявление путей"
      ]
    },
    {
      "cell_type": "code",
      "metadata": {
        "id": "TZygSRNafVFj"
      },
      "source": [
        "src_data_dir_path = os.path.join(PROJECT_DIR, 'data')\n",
        "dist_data_dir = os.path.join(WORK_DIR, 'data')\n",
        "\n",
        "data_archive_path = os.path.join(src_data_dir_path, 'E.zip')"
      ],
      "execution_count": 7,
      "outputs": []
    },
    {
      "cell_type": "markdown",
      "metadata": {
        "id": "ahegeQtfPM3B"
      },
      "source": [
        "### Разархивация"
      ]
    },
    {
      "cell_type": "code",
      "metadata": {
        "id": "ndOKGc8lQ7YX"
      },
      "source": [
        "!unzip -o \"$data_archive_path\" -d \"$dist_data_dir\" > /dev/null"
      ],
      "execution_count": 8,
      "outputs": []
    },
    {
      "cell_type": "markdown",
      "metadata": {
        "id": "c3cEAgZrT0PZ"
      },
      "source": [
        "### Считывание"
      ]
    },
    {
      "cell_type": "code",
      "metadata": {
        "id": "SlgGaj1qT5QJ"
      },
      "source": [
        "train_file_path = os.path.join(dist_data_dir, 'E', 'exposition_train.tsv')\n",
        "test_file_path = os.path.join(dist_data_dir, 'E', 'exposition_test.tsv')\n",
        "\n",
        "train_dataset = pd.read_csv(train_file_path, index_col='id', sep='\\t')\n",
        "test_dataset = pd.read_csv(test_file_path, index_col='id', sep='\\t')"
      ],
      "execution_count": 9,
      "outputs": []
    },
    {
      "cell_type": "markdown",
      "metadata": {
        "id": "rYp375o3sABY"
      },
      "source": [
        "## Визуализация"
      ]
    },
    {
      "cell_type": "markdown",
      "metadata": {
        "id": "j2aBvQjjsB6S"
      },
      "source": [
        "### Просмотр первых строк"
      ]
    },
    {
      "cell_type": "code",
      "metadata": {
        "id": "__PnCfkPsMUE",
        "outputId": "2a6cb68b-f033-499d-977d-ae1eeef94935",
        "colab": {
          "base_uri": "https://localhost:8080/",
          "height": 464
        }
      },
      "source": [
        "train_dataset.head()"
      ],
      "execution_count": 10,
      "outputs": [
        {
          "output_type": "execute_result",
          "data": {
            "text/html": [
              "<div>\n",
              "<style scoped>\n",
              "    .dataframe tbody tr th:only-of-type {\n",
              "        vertical-align: middle;\n",
              "    }\n",
              "\n",
              "    .dataframe tbody tr th {\n",
              "        vertical-align: top;\n",
              "    }\n",
              "\n",
              "    .dataframe thead th {\n",
              "        text-align: right;\n",
              "    }\n",
              "</style>\n",
              "<table border=\"1\" class=\"dataframe\">\n",
              "  <thead>\n",
              "    <tr style=\"text-align: right;\">\n",
              "      <th></th>\n",
              "      <th>building_series_id</th>\n",
              "      <th>site_id</th>\n",
              "      <th>target</th>\n",
              "      <th>parking</th>\n",
              "      <th>target_string</th>\n",
              "      <th>build_year</th>\n",
              "      <th>expect_demolition</th>\n",
              "      <th>main_image</th>\n",
              "      <th>latitude</th>\n",
              "      <th>total_area</th>\n",
              "      <th>ceiling_height</th>\n",
              "      <th>rooms</th>\n",
              "      <th>floors_total</th>\n",
              "      <th>living_area</th>\n",
              "      <th>floor</th>\n",
              "      <th>is_apartment</th>\n",
              "      <th>building_id</th>\n",
              "      <th>has_elevator</th>\n",
              "      <th>studio</th>\n",
              "      <th>unified_address</th>\n",
              "      <th>area</th>\n",
              "      <th>kitchen_area</th>\n",
              "      <th>day</th>\n",
              "      <th>longitude</th>\n",
              "      <th>price</th>\n",
              "      <th>flats_count</th>\n",
              "      <th>building_type</th>\n",
              "      <th>balcony</th>\n",
              "      <th>locality_name</th>\n",
              "      <th>renovation</th>\n",
              "    </tr>\n",
              "    <tr>\n",
              "      <th>id</th>\n",
              "      <th></th>\n",
              "      <th></th>\n",
              "      <th></th>\n",
              "      <th></th>\n",
              "      <th></th>\n",
              "      <th></th>\n",
              "      <th></th>\n",
              "      <th></th>\n",
              "      <th></th>\n",
              "      <th></th>\n",
              "      <th></th>\n",
              "      <th></th>\n",
              "      <th></th>\n",
              "      <th></th>\n",
              "      <th></th>\n",
              "      <th></th>\n",
              "      <th></th>\n",
              "      <th></th>\n",
              "      <th></th>\n",
              "      <th></th>\n",
              "      <th></th>\n",
              "      <th></th>\n",
              "      <th></th>\n",
              "      <th></th>\n",
              "      <th></th>\n",
              "      <th></th>\n",
              "      <th></th>\n",
              "      <th></th>\n",
              "      <th></th>\n",
              "      <th></th>\n",
              "    </tr>\n",
              "  </thead>\n",
              "  <tbody>\n",
              "    <tr>\n",
              "      <th>5677548107212057955</th>\n",
              "      <td>1564812</td>\n",
              "      <td>0</td>\n",
              "      <td>1</td>\n",
              "      <td>OPEN</td>\n",
              "      <td>LESS_7</td>\n",
              "      <td>2005</td>\n",
              "      <td>False</td>\n",
              "      <td>//avatars.mds.yandex.net/get-realty/903734/add...</td>\n",
              "      <td>55.645313</td>\n",
              "      <td>105.000000</td>\n",
              "      <td>3.00</td>\n",
              "      <td>3</td>\n",
              "      <td>20</td>\n",
              "      <td>50.0</td>\n",
              "      <td>14</td>\n",
              "      <td>False</td>\n",
              "      <td>7969879732878112812</td>\n",
              "      <td>True</td>\n",
              "      <td>False</td>\n",
              "      <td>Россия, Москва, Пролетарский проспект, 7</td>\n",
              "      <td>105.000000</td>\n",
              "      <td>15.0</td>\n",
              "      <td>2018-07-15</td>\n",
              "      <td>37.657490</td>\n",
              "      <td>95000</td>\n",
              "      <td>407</td>\n",
              "      <td>MONOLIT</td>\n",
              "      <td>BALCONY</td>\n",
              "      <td>Москва</td>\n",
              "      <td>EURO</td>\n",
              "    </tr>\n",
              "    <tr>\n",
              "      <th>155646401125694364</th>\n",
              "      <td>1564812</td>\n",
              "      <td>0</td>\n",
              "      <td>2</td>\n",
              "      <td>CLOSED</td>\n",
              "      <td>7_14</td>\n",
              "      <td>2010</td>\n",
              "      <td>False</td>\n",
              "      <td>//avatars.mds.yandex.net/get-realty/1702013/ad...</td>\n",
              "      <td>55.537102</td>\n",
              "      <td>40.000000</td>\n",
              "      <td>3.00</td>\n",
              "      <td>1</td>\n",
              "      <td>3</td>\n",
              "      <td>0.0</td>\n",
              "      <td>1</td>\n",
              "      <td>False</td>\n",
              "      <td>7667415960903930340</td>\n",
              "      <td>False</td>\n",
              "      <td>False</td>\n",
              "      <td>Россия, Москва, посёлок Первомайское, Централь...</td>\n",
              "      <td>40.000000</td>\n",
              "      <td>10.0</td>\n",
              "      <td>2019-01-18</td>\n",
              "      <td>37.155632</td>\n",
              "      <td>25000</td>\n",
              "      <td>40</td>\n",
              "      <td>MONOLIT</td>\n",
              "      <td>UNKNOWN</td>\n",
              "      <td>посёлок Первомайское</td>\n",
              "      <td>COSMETIC_DONE</td>\n",
              "    </tr>\n",
              "    <tr>\n",
              "      <th>9186198458182518100</th>\n",
              "      <td>663302</td>\n",
              "      <td>0</td>\n",
              "      <td>2</td>\n",
              "      <td>OPEN</td>\n",
              "      <td>7_14</td>\n",
              "      <td>1995</td>\n",
              "      <td>False</td>\n",
              "      <td>//avatars.mds.yandex.net/get-realty/924080/add...</td>\n",
              "      <td>55.662956</td>\n",
              "      <td>37.599998</td>\n",
              "      <td>2.64</td>\n",
              "      <td>0</td>\n",
              "      <td>17</td>\n",
              "      <td>0.0</td>\n",
              "      <td>4</td>\n",
              "      <td>False</td>\n",
              "      <td>7166215405310646476</td>\n",
              "      <td>True</td>\n",
              "      <td>True</td>\n",
              "      <td>Россия, Москва, улица Намёткина, 13к1</td>\n",
              "      <td>37.599998</td>\n",
              "      <td>0.0</td>\n",
              "      <td>2018-04-24</td>\n",
              "      <td>37.555466</td>\n",
              "      <td>26000</td>\n",
              "      <td>472</td>\n",
              "      <td>PANEL</td>\n",
              "      <td>LOGGIA</td>\n",
              "      <td>Москва</td>\n",
              "      <td>GOOD</td>\n",
              "    </tr>\n",
              "    <tr>\n",
              "      <th>10844743366553352344</th>\n",
              "      <td>1564812</td>\n",
              "      <td>0</td>\n",
              "      <td>2</td>\n",
              "      <td>OPEN</td>\n",
              "      <td>7_14</td>\n",
              "      <td>2018</td>\n",
              "      <td>False</td>\n",
              "      <td>//avatars.mds.yandex.net/get-realty/1521999/ad...</td>\n",
              "      <td>55.669151</td>\n",
              "      <td>80.000000</td>\n",
              "      <td>0.00</td>\n",
              "      <td>3</td>\n",
              "      <td>27</td>\n",
              "      <td>49.0</td>\n",
              "      <td>23</td>\n",
              "      <td>False</td>\n",
              "      <td>2039402855860137453</td>\n",
              "      <td>True</td>\n",
              "      <td>False</td>\n",
              "      <td>Россия, Московская область, Одинцово, Верхне-П...</td>\n",
              "      <td>80.000000</td>\n",
              "      <td>20.0</td>\n",
              "      <td>2019-02-19</td>\n",
              "      <td>37.285000</td>\n",
              "      <td>35000</td>\n",
              "      <td>156</td>\n",
              "      <td>PANEL</td>\n",
              "      <td>UNKNOWN</td>\n",
              "      <td>Одинцово</td>\n",
              "      <td>GOOD</td>\n",
              "    </tr>\n",
              "    <tr>\n",
              "      <th>3712912186792420056</th>\n",
              "      <td>1564812</td>\n",
              "      <td>0</td>\n",
              "      <td>3</td>\n",
              "      <td>UNKNOWN</td>\n",
              "      <td>14_30</td>\n",
              "      <td>2004</td>\n",
              "      <td>False</td>\n",
              "      <td>//avatars.mds.yandex.net/get-realty/50286/f5c8...</td>\n",
              "      <td>55.828518</td>\n",
              "      <td>100.000000</td>\n",
              "      <td>3.00</td>\n",
              "      <td>3</td>\n",
              "      <td>4</td>\n",
              "      <td>0.0</td>\n",
              "      <td>3</td>\n",
              "      <td>False</td>\n",
              "      <td>4638454967482853510</td>\n",
              "      <td>True</td>\n",
              "      <td>False</td>\n",
              "      <td>Россия, Москва, улица Рословка, 12к1</td>\n",
              "      <td>100.000000</td>\n",
              "      <td>0.0</td>\n",
              "      <td>2017-08-08</td>\n",
              "      <td>37.361897</td>\n",
              "      <td>80000</td>\n",
              "      <td>31</td>\n",
              "      <td>MONOLIT</td>\n",
              "      <td>UNKNOWN</td>\n",
              "      <td>Москва</td>\n",
              "      <td>EURO</td>\n",
              "    </tr>\n",
              "  </tbody>\n",
              "</table>\n",
              "</div>"
            ],
            "text/plain": [
              "                      building_series_id  ...     renovation\n",
              "id                                        ...               \n",
              "5677548107212057955              1564812  ...           EURO\n",
              "155646401125694364               1564812  ...  COSMETIC_DONE\n",
              "9186198458182518100               663302  ...           GOOD\n",
              "10844743366553352344             1564812  ...           GOOD\n",
              "3712912186792420056              1564812  ...           EURO\n",
              "\n",
              "[5 rows x 30 columns]"
            ]
          },
          "metadata": {
            "tags": []
          },
          "execution_count": 10
        }
      ]
    },
    {
      "cell_type": "markdown",
      "metadata": {
        "id": "OZ4V81uqoJpT"
      },
      "source": [
        "### Проверка на пропуски"
      ]
    },
    {
      "cell_type": "code",
      "metadata": {
        "id": "5HwBdiq7oNhZ",
        "outputId": "37617abf-5df1-4d90-9764-ced99ae68d30",
        "colab": {
          "base_uri": "https://localhost:8080/",
          "height": 602
        }
      },
      "source": [
        "train_dataset.isna().sum()"
      ],
      "execution_count": 11,
      "outputs": [
        {
          "output_type": "execute_result",
          "data": {
            "text/plain": [
              "building_series_id       0\n",
              "site_id                  0\n",
              "target                   0\n",
              "parking                  0\n",
              "target_string            0\n",
              "build_year               0\n",
              "expect_demolition        0\n",
              "main_image            1097\n",
              "latitude                 0\n",
              "total_area               0\n",
              "ceiling_height           0\n",
              "rooms                    0\n",
              "floors_total             0\n",
              "living_area              0\n",
              "floor                    0\n",
              "is_apartment             0\n",
              "building_id              0\n",
              "has_elevator             0\n",
              "studio                   0\n",
              "unified_address          0\n",
              "area                     0\n",
              "kitchen_area             0\n",
              "day                      0\n",
              "longitude                0\n",
              "price                    0\n",
              "flats_count              0\n",
              "building_type            0\n",
              "balcony                  0\n",
              "locality_name            0\n",
              "renovation               0\n",
              "dtype: int64"
            ]
          },
          "metadata": {
            "tags": []
          },
          "execution_count": 11
        }
      ]
    },
    {
      "cell_type": "markdown",
      "metadata": {
        "id": "W2f3hsPHrdOd"
      },
      "source": [
        "### Изучение различных полей"
      ]
    },
    {
      "cell_type": "markdown",
      "metadata": {
        "id": "bj2WiZsMrH76"
      },
      "source": [
        "* building_series_id"
      ]
    },
    {
      "cell_type": "code",
      "metadata": {
        "id": "NpvMmAQWrKBG",
        "outputId": "57c5023d-27ec-439f-f54a-0c8fb1c582da",
        "colab": {
          "base_uri": "https://localhost:8080/",
          "height": 35
        }
      },
      "source": [
        "assert (train_dataset.building_series_id == 0).sum() > 0\n",
        "assert (test_dataset.building_series_id == 0).sum() > 0\n",
        "\n",
        "print('Есть объявления, для которых не указан id серии дома')"
      ],
      "execution_count": 12,
      "outputs": [
        {
          "output_type": "stream",
          "text": [
            "Есть объявления, для которых не указан id серии дома\n"
          ],
          "name": "stdout"
        }
      ]
    },
    {
      "cell_type": "markdown",
      "metadata": {
        "id": "mTFgh5zirrz-"
      },
      "source": [
        "* site_id"
      ]
    },
    {
      "cell_type": "code",
      "metadata": {
        "id": "wf1gG9FirwB8",
        "outputId": "344d4797-72b6-4091-c1fd-42ffadeaf77d",
        "colab": {
          "base_uri": "https://localhost:8080/",
          "height": 35
        }
      },
      "source": [
        "assert (train_dataset.site_id == 0).sum() > 0\n",
        "assert (test_dataset.site_id == 0).sum() > 0\n",
        "\n",
        "print('Есть объявления, для которых не указан id жилого комплекса')"
      ],
      "execution_count": 13,
      "outputs": [
        {
          "output_type": "stream",
          "text": [
            "Есть объявления, для которых не указан id жилого комплекса\n"
          ],
          "name": "stdout"
        }
      ]
    },
    {
      "cell_type": "markdown",
      "metadata": {
        "id": "i3rxblFysC5a"
      },
      "source": [
        "* build_year"
      ]
    },
    {
      "cell_type": "code",
      "metadata": {
        "id": "OmMu1G7EsD8i",
        "outputId": "51488611-ad99-41ce-b73d-99c19017023a",
        "colab": {
          "base_uri": "https://localhost:8080/",
          "height": 35
        }
      },
      "source": [
        "assert (train_dataset.build_year == 0).sum() > 0\n",
        "assert (test_dataset.build_year == 0).sum() > 0\n",
        "\n",
        "print('Есть объявления, для которых не указан год постройки')"
      ],
      "execution_count": 14,
      "outputs": [
        {
          "output_type": "stream",
          "text": [
            "Есть объявления, для которых не указан год постройки\n"
          ],
          "name": "stdout"
        }
      ]
    },
    {
      "cell_type": "markdown",
      "metadata": {
        "id": "TI-CkopQsU21"
      },
      "source": [
        "* parking"
      ]
    },
    {
      "cell_type": "code",
      "metadata": {
        "id": "2l3oWywPsgSM",
        "outputId": "7b15288a-d022-4f8a-83b6-f76906e09608",
        "colab": {
          "base_uri": "https://localhost:8080/",
          "height": 92
        }
      },
      "source": [
        "Counter(train_dataset.parking)"
      ],
      "execution_count": 15,
      "outputs": [
        {
          "output_type": "execute_result",
          "data": {
            "text/plain": [
              "Counter({'CLOSED': 2170,\n",
              "         'OPEN': 32650,\n",
              "         'UNDERGROUND': 3346,\n",
              "         'UNKNOWN': 318334})"
            ]
          },
          "metadata": {
            "tags": []
          },
          "execution_count": 15
        }
      ]
    },
    {
      "cell_type": "markdown",
      "metadata": {
        "id": "gBmxeS57squt"
      },
      "source": [
        "* expect_demolition "
      ]
    },
    {
      "cell_type": "code",
      "metadata": {
        "id": "NARBfvdlsr-z",
        "outputId": "156d4b1d-9c2c-4447-9823-63eb8a1818ca",
        "colab": {
          "base_uri": "https://localhost:8080/",
          "height": 35
        }
      },
      "source": [
        "Counter(train_dataset.expect_demolition)"
      ],
      "execution_count": 16,
      "outputs": [
        {
          "output_type": "execute_result",
          "data": {
            "text/plain": [
              "Counter({False: 341610, True: 14890})"
            ]
          },
          "metadata": {
            "tags": []
          },
          "execution_count": 16
        }
      ]
    },
    {
      "cell_type": "markdown",
      "metadata": {
        "id": "8IzgBJLzs58W"
      },
      "source": [
        "* flats_count"
      ]
    },
    {
      "cell_type": "code",
      "metadata": {
        "id": "8_NR-lSds9EC",
        "outputId": "16e741e2-a8f4-4f00-d1e4-7aafd235fc56",
        "colab": {
          "base_uri": "https://localhost:8080/",
          "height": 35
        }
      },
      "source": [
        "assert (train_dataset.flats_count == 0).sum() > 0\n",
        "assert (test_dataset.flats_count == 0).sum() > 0\n",
        "\n",
        "print('Есть объявления, для которых не указано количество квартир в доме')"
      ],
      "execution_count": 17,
      "outputs": [
        {
          "output_type": "stream",
          "text": [
            "Есть объявления, для которых не указано количество квартир в доме\n"
          ],
          "name": "stdout"
        }
      ]
    },
    {
      "cell_type": "markdown",
      "metadata": {
        "id": "zHadAp6MtqFf"
      },
      "source": [
        "* floors_total"
      ]
    },
    {
      "cell_type": "code",
      "metadata": {
        "id": "ADTSgAn4tr43",
        "outputId": "e813d949-2289-4692-cc8e-064306ebeab4",
        "colab": {
          "base_uri": "https://localhost:8080/",
          "height": 35
        }
      },
      "source": [
        "assert (train_dataset.floors_total == 0).sum() == 0\n",
        "assert (test_dataset.floors_total == 0).sum() == 0\n",
        "\n",
        "print('Для всех объявлений указано количество этажей в доме')"
      ],
      "execution_count": 18,
      "outputs": [
        {
          "output_type": "stream",
          "text": [
            "Для всех объявлений указано количество этажей в доме\n"
          ],
          "name": "stdout"
        }
      ]
    },
    {
      "cell_type": "markdown",
      "metadata": {
        "id": "9rtr_WS3t1_U"
      },
      "source": [
        "* floor"
      ]
    },
    {
      "cell_type": "code",
      "metadata": {
        "id": "2NBCVrgot5NH",
        "outputId": "9545d0e3-92a6-453b-acd6-e59c655def3d",
        "colab": {
          "base_uri": "https://localhost:8080/",
          "height": 35
        }
      },
      "source": [
        "assert (train_dataset.floor == 0).sum() == 0\n",
        "assert (test_dataset.floor == 0).sum() == 0\n",
        "\n",
        "print('Для всех объявлений указан этаж квартиры')"
      ],
      "execution_count": 19,
      "outputs": [
        {
          "output_type": "stream",
          "text": [
            "Для всех объявлений указан этаж квартиры\n"
          ],
          "name": "stdout"
        }
      ]
    },
    {
      "cell_type": "markdown",
      "metadata": {
        "id": "4Q-6J4isrgdL"
      },
      "source": [
        "* total_area и area"
      ]
    },
    {
      "cell_type": "code",
      "metadata": {
        "id": "xNiW2HMVrmw7",
        "outputId": "d291dc1c-a06f-4cde-972c-d2e424797d33",
        "colab": {
          "base_uri": "https://localhost:8080/",
          "height": 35
        }
      },
      "source": [
        "assert len(train_dataset[train_dataset.total_area != train_dataset.area]) == 0\n",
        "assert len(test_dataset[test_dataset.total_area != test_dataset.area]) == 0\n",
        "\n",
        "print(\"Поля total_area и area дубликаты\")"
      ],
      "execution_count": 20,
      "outputs": [
        {
          "output_type": "stream",
          "text": [
            "Поля total_area и area дубликаты\n"
          ],
          "name": "stdout"
        }
      ]
    },
    {
      "cell_type": "code",
      "metadata": {
        "id": "XAZabJxAnau2",
        "outputId": "a1a2b019-c56e-4a60-d8ea-f071274e2427",
        "colab": {
          "base_uri": "https://localhost:8080/",
          "height": 35
        }
      },
      "source": [
        "assert (train_dataset.total_area == 0).sum() == 0\n",
        "assert (test_dataset.total_area == 0).sum() == 0\n",
        "\n",
        "print(\"Для всех объявлений указана цена за квадратный метр\")"
      ],
      "execution_count": 21,
      "outputs": [
        {
          "output_type": "stream",
          "text": [
            "Для всех объявлений указана цена за квадратный метр\n"
          ],
          "name": "stdout"
        }
      ]
    },
    {
      "cell_type": "markdown",
      "metadata": {
        "id": "6rTZGuYipfkp"
      },
      "source": [
        "* living_area\n"
      ]
    },
    {
      "cell_type": "code",
      "metadata": {
        "id": "tvZ2IOs-pj2H",
        "outputId": "cf5ba0bb-f9f7-4589-9778-6b4895f661c3",
        "colab": {
          "base_uri": "https://localhost:8080/",
          "height": 35
        }
      },
      "source": [
        "assert (train_dataset.living_area == 0).sum() > 0\n",
        "assert (test_dataset.living_area == 0).sum() > 0\n",
        "\n",
        "print(\"Есть объявления, для которых не указана жилая площадь\")"
      ],
      "execution_count": 22,
      "outputs": [
        {
          "output_type": "stream",
          "text": [
            "Есть объявления, для которых не указана жилая площадь\n"
          ],
          "name": "stdout"
        }
      ]
    },
    {
      "cell_type": "markdown",
      "metadata": {
        "id": "L0dQ1raaq5uX"
      },
      "source": [
        "* kitchen_area"
      ]
    },
    {
      "cell_type": "code",
      "metadata": {
        "id": "QJG70rY5q82-",
        "outputId": "a0d11d49-d1ae-4d30-bfa0-8d6e7b92a4c6",
        "colab": {
          "base_uri": "https://localhost:8080/",
          "height": 35
        }
      },
      "source": [
        "assert (train_dataset.kitchen_area == 0).sum() > 0\n",
        "assert (test_dataset.kitchen_area == 0).sum() > 0\n",
        "\n",
        "print(\"Есть объявления, для которых не указана площадь кухни\")"
      ],
      "execution_count": 23,
      "outputs": [
        {
          "output_type": "stream",
          "text": [
            "Есть объявления, для которых не указана площадь кухни\n"
          ],
          "name": "stdout"
        }
      ]
    },
    {
      "cell_type": "markdown",
      "metadata": {
        "id": "t89Ho9UMpi73"
      },
      "source": [
        "* ceiling_height"
      ]
    },
    {
      "cell_type": "code",
      "metadata": {
        "id": "1IXWLtSCp8M3",
        "outputId": "f72a74a3-4f1f-45a6-aa33-4876497bf1f4",
        "colab": {
          "base_uri": "https://localhost:8080/",
          "height": 35
        }
      },
      "source": [
        "assert (train_dataset.ceiling_height == 0).sum() > 0\n",
        "assert (test_dataset.ceiling_height == 0).sum() > 0\n",
        "\n",
        "print('Есть объявления, для которых не указана высота потолка')"
      ],
      "execution_count": 24,
      "outputs": [
        {
          "output_type": "stream",
          "text": [
            "Есть объявления, для которых не указана высота потолка\n"
          ],
          "name": "stdout"
        }
      ]
    },
    {
      "cell_type": "code",
      "metadata": {
        "id": "ZtaB06r0wpm5",
        "outputId": "54c82928-e4e7-4a54-b4dd-83abdeae0587",
        "colab": {
          "base_uri": "https://localhost:8080/",
          "height": 54
        }
      },
      "source": [
        "print('Средняя высота потолков в трейне:', train_dataset[train_dataset.ceiling_height != 0].ceiling_height.mean())\n",
        "print('Средняя высота потолков в тесте:', test_dataset[test_dataset.ceiling_height != 0].ceiling_height.mean())"
      ],
      "execution_count": 25,
      "outputs": [
        {
          "output_type": "stream",
          "text": [
            "Средняя высота потолков в трейне: 2.7693942716492055\n",
            "Средняя высота потолков в тесте: 2.780900751373181\n"
          ],
          "name": "stdout"
        }
      ]
    },
    {
      "cell_type": "markdown",
      "metadata": {
        "id": "4VFZsEP1nyK0"
      },
      "source": [
        "* price"
      ]
    },
    {
      "cell_type": "code",
      "metadata": {
        "id": "1IhstJ1en0mU",
        "outputId": "32d9738a-a714-47ce-e550-0ef51c83e343",
        "colab": {
          "base_uri": "https://localhost:8080/",
          "height": 35
        }
      },
      "source": [
        "assert (train_dataset.price == 0).sum() == 0\n",
        "assert (test_dataset.price == 0).sum() == 0\n",
        "\n",
        "print(\"Для всех объявлений указана цена\")"
      ],
      "execution_count": 26,
      "outputs": [
        {
          "output_type": "stream",
          "text": [
            "Для всех объявлений указана цена\n"
          ],
          "name": "stdout"
        }
      ]
    },
    {
      "cell_type": "markdown",
      "metadata": {
        "id": "Ky5eqVCosNZj"
      },
      "source": [
        "* day"
      ]
    },
    {
      "cell_type": "code",
      "metadata": {
        "id": "m2gwylVXnbGV",
        "outputId": "c376b751-39eb-40c6-eff0-c6c063adc0a1",
        "colab": {
          "base_uri": "https://localhost:8080/",
          "height": 54
        }
      },
      "source": [
        "print(train_dataset['day'].min())\n",
        "print(train_dataset['day'].max())"
      ],
      "execution_count": 27,
      "outputs": [
        {
          "output_type": "stream",
          "text": [
            "2017-01-01\n",
            "2019-10-31\n"
          ],
          "name": "stdout"
        }
      ]
    },
    {
      "cell_type": "code",
      "metadata": {
        "id": "2IoNcUGVnfgi",
        "outputId": "6924019f-81ab-4175-f654-8268cf53da22",
        "colab": {
          "base_uri": "https://localhost:8080/",
          "height": 54
        }
      },
      "source": [
        "print(test_dataset['day'].min())\n",
        "print(test_dataset['day'].max())"
      ],
      "execution_count": 28,
      "outputs": [
        {
          "output_type": "stream",
          "text": [
            "2019-11-01\n",
            "2020-03-31\n"
          ],
          "name": "stdout"
        }
      ]
    },
    {
      "cell_type": "markdown",
      "metadata": {
        "id": "UFaiEJicPwHb"
      },
      "source": [
        "* main_image"
      ]
    },
    {
      "cell_type": "code",
      "metadata": {
        "id": "0joXKVGUPd3q",
        "outputId": "e1441ec7-98a2-4a8f-9ce8-231d122470e0",
        "colab": {
          "base_uri": "https://localhost:8080/",
          "height": 54
        }
      },
      "source": [
        "assert train_dataset['main_image'].isna().sum() > 0\n",
        "print('В тренировочном датасете есть объявления без изображения')\n",
        "assert test_dataset['main_image'].isna().sum() > 0\n",
        "print('В тестовом датасете есть объявления без изображения')"
      ],
      "execution_count": 29,
      "outputs": [
        {
          "output_type": "stream",
          "text": [
            "В тренировочном датасете есть объявления без изображения\n",
            "В тестовом датасете есть объявления без изображения\n"
          ],
          "name": "stdout"
        }
      ]
    },
    {
      "cell_type": "markdown",
      "metadata": {
        "id": "3npuEMZ5XAFB"
      },
      "source": [
        "## Финальная обработка"
      ]
    },
    {
      "cell_type": "markdown",
      "metadata": {
        "id": "F_KnTaGl-cHW"
      },
      "source": [
        "\n",
        "На выходе должны быть объявлены переменные:\n",
        "\n",
        "* **X_train_pure**: pd.DataFrame\n",
        "\n",
        "* **y_train**: pd.Series\n",
        "\n",
        "* **X_valid_pure**: pd.DataFrame\n",
        "\n",
        "* **y_valid**: pd.Series\n",
        "\n",
        "* **X_test_pure**: pd.DataFrame\n"
      ]
    },
    {
      "cell_type": "markdown",
      "metadata": {
        "id": "gp-RiW4tXbxW"
      },
      "source": [
        "### Извлечение выборки и таргета\n"
      ]
    },
    {
      "cell_type": "code",
      "metadata": {
        "id": "XTx9aq_Gql0l"
      },
      "source": [
        "train_dataset = train_dataset.sort_values(by='day')\n",
        "\n",
        "partition = int(len(train_dataset) * (1 - VALIDATE_RATIO))\n",
        "train_train_dataset = train_dataset.iloc[:partition]\n",
        "train_valid_dataset = train_dataset.iloc[partition:]\n",
        "\n",
        "X_train_train_pure = train_train_dataset.drop('target', axis=1)\n",
        "X_train_train_pure = X_train_train_pure.drop('target_string', axis=1)\n",
        "y_train_train = train_train_dataset['target']\n",
        "\n",
        "X_train_valid_pure = train_valid_dataset.drop('target', axis=1)\n",
        "X_train_valid_pure = X_train_valid_pure.drop('target_string', axis=1)\n",
        "y_train_valid = train_valid_dataset['target']\n",
        "X_test_pure = test_dataset"
      ],
      "execution_count": 30,
      "outputs": []
    },
    {
      "cell_type": "markdown",
      "metadata": {
        "id": "BD6LbHoswfKh"
      },
      "source": [
        "### Добавление дополнительных признаков и удаление ненужных"
      ]
    },
    {
      "cell_type": "code",
      "metadata": {
        "id": "zrWgxyiDwj9p"
      },
      "source": [
        "def add_time_features(X):\n",
        "    datetime_series = pd.to_datetime(X['day'], format='%Y-%m-%d')\n",
        "    X['Month'] = pd.DatetimeIndex(datetime_series).month\n",
        "    X['Day'] = pd.DatetimeIndex(datetime_series).day\n",
        "    X['DayOfWeek'] = pd.DatetimeIndex(datetime_series).dayofweek\n",
        "    X['Season'] = (X['Month'] % 12 + 3) // 3\n",
        "    return X\n",
        "\n",
        "def add_adress_features(X):\n",
        "    X['District'] = train_dataset.unified_address.map(lambda x: x.split(', ')[-2])\n",
        "    return X\n",
        "\n",
        "def add_price_per_area_features(X):\n",
        "    X['PricePerTotalArea'] = X['price'] / X['area']\n",
        "    return X\n",
        "\n",
        "def add_floor_features(X):\n",
        "    X['FloorPercantage'] = X['floor'] / X['floors_total']\n",
        "    ceiling_height = train_dataset.ceiling_height.where(train_dataset.ceiling_height != 0, 2.77)\n",
        "    X['FloorHeight'] = X['floor'] * ceiling_height\n",
        "    return X\n",
        "\n",
        "def add_missing_features(X):\n",
        "    X['MainImageNa'] = X.main_image.isna()\n",
        "    return X\n",
        "\n",
        "def drop_columns(X):\n",
        "    dropped_columns = [\n",
        "        'day', 'total_area', 'main_image', 'building_id'\n",
        "    ]\n",
        "    return X.drop(dropped_columns, axis=1)\n",
        "\n",
        "def prepare_sample(X):\n",
        "    X = X.copy()\n",
        "    X = add_time_features(X)\n",
        "    X = add_adress_features(X)\n",
        "    X = add_price_per_area_features(X)\n",
        "    X = add_floor_features(X)\n",
        "    X = add_missing_features(X)\n",
        "    X = drop_columns(X)\n",
        "    return X"
      ],
      "execution_count": 31,
      "outputs": []
    },
    {
      "cell_type": "code",
      "metadata": {
        "id": "u-m9DEy40Ykh"
      },
      "source": [
        "X_train_train = prepare_sample(X_train_train_pure)\n",
        "X_train_valid = prepare_sample(X_train_valid_pure)\n",
        "X_test = prepare_sample(X_test_pure)"
      ],
      "execution_count": 32,
      "outputs": []
    },
    {
      "cell_type": "code",
      "metadata": {
        "id": "DmtGf8Bo-mqb",
        "outputId": "4f184642-8ebd-4226-f9bc-b06463aa1dec",
        "colab": {
          "base_uri": "https://localhost:8080/",
          "height": 167
        }
      },
      "source": [
        "X_train_valid.columns"
      ],
      "execution_count": 33,
      "outputs": [
        {
          "output_type": "execute_result",
          "data": {
            "text/plain": [
              "Index(['building_series_id', 'site_id', 'parking', 'build_year',\n",
              "       'expect_demolition', 'latitude', 'ceiling_height', 'rooms',\n",
              "       'floors_total', 'living_area', 'floor', 'is_apartment', 'has_elevator',\n",
              "       'studio', 'unified_address', 'area', 'kitchen_area', 'longitude',\n",
              "       'price', 'flats_count', 'building_type', 'balcony', 'locality_name',\n",
              "       'renovation', 'Month', 'Day', 'DayOfWeek', 'Season', 'District',\n",
              "       'PricePerTotalArea', 'FloorPercantage', 'FloorHeight', 'MainImageNa'],\n",
              "      dtype='object')"
            ]
          },
          "metadata": {
            "tags": []
          },
          "execution_count": 33
        }
      ]
    },
    {
      "cell_type": "markdown",
      "metadata": {
        "id": "YV16B-nOFVRf"
      },
      "source": [
        "# Эксперименты с обучением\n",
        "\n",
        "На выходе должны быть объявлены переменные\n",
        "\n",
        "* **y_test_predicted**: pd.Series \\\n",
        "Id | Target\n",
        "* **SUBMISSTION_FILE_NAME**: string\\\n",
        "Названия файла для сохранения"
      ]
    },
    {
      "cell_type": "markdown",
      "metadata": {
        "id": "aYb4oyryFYiC"
      },
      "source": [
        "## Catboost"
      ]
    },
    {
      "cell_type": "markdown",
      "metadata": {
        "id": "IZb0IrWuGc3S"
      },
      "source": [
        "### Объявление loss функции"
      ]
    },
    {
      "cell_type": "code",
      "metadata": {
        "id": "oqavqleJGgbP"
      },
      "source": [
        "class LossFunction(object):\n",
        "    def calc_ders_range(self, approxes, targets, weights):\n",
        "        assert len(approxes) == len(targets)\n",
        "        if weights is not None:\n",
        "            assert len(weights) == len(approxes)\n",
        "        \n",
        "        result = []\n",
        "        for index in range(len(targets)):\n",
        "            der1 = targets[index] - approxes[index]\n",
        "            sign = -1 if  approxes[index] < targets[index] else 1\n",
        "            der2 = math.exp(abs(targets[index] - approxes[index]))\n",
        "            der1 = der2 * sign\n",
        "\n",
        "            if weights is not None:\n",
        "                der1 *= weights[index]\n",
        "                der2 *= weights[index]\n",
        "\n",
        "            result.append((der1, der2))\n",
        "        return result"
      ],
      "execution_count": 34,
      "outputs": []
    },
    {
      "cell_type": "code",
      "metadata": {
        "id": "jfepHgxZYf0j"
      },
      "source": [
        "class EvalMetric(LossFunction):\n",
        "    def is_max_optimal(self):\n",
        "        return True\n",
        "\n",
        "    def evaluate(self, approxes, target, weight):\n",
        "        assert len(approxes) == 1\n",
        "        assert len(target) == len(approxes[0])\n",
        "\n",
        "        approx = approxes[0]\n",
        "\n",
        "        error_sum = 0.0\n",
        "        weight_sum = 0.0\n",
        "\n",
        "        for i in range(len(approx)):\n",
        "            w = 1.0 if weight is None else weight[i]\n",
        "            weight_sum += w\n",
        "            error = -(math.exp(abs(approx[i] - target[i])) - 1)\n",
        "            error_sum += error\n",
        "\n",
        "        return error_sum, weight_sum\n",
        "    \n",
        "    def get_final_error(self, error, weight):\n",
        "        return error / (weight + 1e-38)"
      ],
      "execution_count": 35,
      "outputs": []
    },
    {
      "cell_type": "markdown",
      "metadata": {
        "id": "AYEJHFb6cGo3"
      },
      "source": [
        "### Объявление пула и параметров"
      ]
    },
    {
      "cell_type": "code",
      "metadata": {
        "id": "yBK-GPNbFa3M"
      },
      "source": [
        "cat_features = [\n",
        "    'building_series_id', 'site_id', 'parking', 'expect_demolition',\n",
        "    'is_apartment', 'unified_address', 'has_elevator', 'studio', 'building_type',\n",
        "    'balcony', 'locality_name', 'renovation', 'District'\n",
        "]\n",
        "ignored_features = [\n",
        "]\n",
        "train_train_pool = Pool(\n",
        "    X_train_train,\n",
        "    y_train_train,\n",
        "    cat_features=cat_features\n",
        ")\n",
        "train_valid_pool = Pool(\n",
        "    X_train_valid,\n",
        "    y_train_valid,\n",
        "    cat_features=cat_features\n",
        ")\n",
        "params = {\n",
        "    'iterations': 150,\n",
        "    'learning_rate': 0.03,\n",
        "    'eval_metric': EvalMetric(),\n",
        "    'loss_function': LossFunction(),\n",
        "#     'random_seed': 113,\n",
        "    # 'logging_level': 'Silent',\n",
        "    'use_best_model': False,\n",
        "    'ignored_features': ignored_features\n",
        "}"
      ],
      "execution_count": 38,
      "outputs": []
    },
    {
      "cell_type": "markdown",
      "metadata": {
        "id": "DtsY2ubtcRFh"
      },
      "source": [
        "### Обучение с валидацией"
      ]
    },
    {
      "cell_type": "code",
      "metadata": {
        "id": "P2b66TLUeWqK",
        "outputId": "1be2ef04-7851-480f-d291-81121e714659",
        "colab": {
          "base_uri": "https://localhost:8080/",
          "height": 823
        }
      },
      "source": [
        "%%time\n",
        "model = CatBoostRegressor(**params)\n",
        "model.fit(train_train_pool, eval_set=train_valid_pool)"
      ],
      "execution_count": 39,
      "outputs": [
        {
          "output_type": "stream",
          "text": [
            "0:\tlearn: -43.4781770\ttest: -42.6693065\tbest: -42.6693065 (0)\ttotal: 1.44s\tremaining: 3m 34s\n",
            "1:\tlearn: -42.1636386\ttest: -41.3786760\tbest: -41.3786760 (1)\ttotal: 2.79s\tremaining: 3m 26s\n",
            "2:\tlearn: -40.8879504\ttest: -40.1261776\tbest: -40.1261776 (2)\ttotal: 4.17s\tremaining: 3m 24s\n",
            "3:\tlearn: -39.6499606\ttest: -38.9106834\tbest: -38.9106834 (3)\ttotal: 5.57s\tremaining: 3m 23s\n",
            "4:\tlearn: -38.4485644\ttest: -37.7311338\tbest: -37.7311338 (4)\ttotal: 6.93s\tremaining: 3m 20s\n"
          ],
          "name": "stdout"
        },
        {
          "output_type": "error",
          "ename": "CatBoostError",
          "evalue": "ignored",
          "traceback": [
            "\u001b[0;31m---------------------------------------------------------------------------\u001b[0m",
            "\u001b[0;31mKeyboardInterrupt\u001b[0m                         Traceback (most recent call last)",
            "\u001b[0;32m_catboost.pyx\u001b[0m in \u001b[0;36m_catboost._ObjectiveCalcDersRange\u001b[0;34m()\u001b[0m\n",
            "\u001b[0;32m<ipython-input-36-d26c2e6466e2>\u001b[0m in \u001b[0;36mcalc_ders_range\u001b[0;34m(self, approxes, targets, weights)\u001b[0m\n\u001b[1;32m      1\u001b[0m \u001b[0;32mclass\u001b[0m \u001b[0mLossFunction\u001b[0m\u001b[0;34m(\u001b[0m\u001b[0mobject\u001b[0m\u001b[0;34m)\u001b[0m\u001b[0;34m:\u001b[0m\u001b[0;34m\u001b[0m\u001b[0;34m\u001b[0m\u001b[0m\n\u001b[0;32m----> 2\u001b[0;31m     \u001b[0;32mdef\u001b[0m \u001b[0mcalc_ders_range\u001b[0m\u001b[0;34m(\u001b[0m\u001b[0mself\u001b[0m\u001b[0;34m,\u001b[0m \u001b[0mapproxes\u001b[0m\u001b[0;34m,\u001b[0m \u001b[0mtargets\u001b[0m\u001b[0;34m,\u001b[0m \u001b[0mweights\u001b[0m\u001b[0;34m)\u001b[0m\u001b[0;34m:\u001b[0m\u001b[0;34m\u001b[0m\u001b[0;34m\u001b[0m\u001b[0m\n\u001b[0m\u001b[1;32m      3\u001b[0m         \u001b[0;32massert\u001b[0m \u001b[0mlen\u001b[0m\u001b[0;34m(\u001b[0m\u001b[0mapproxes\u001b[0m\u001b[0;34m)\u001b[0m \u001b[0;34m==\u001b[0m \u001b[0mlen\u001b[0m\u001b[0;34m(\u001b[0m\u001b[0mtargets\u001b[0m\u001b[0;34m)\u001b[0m\u001b[0;34m\u001b[0m\u001b[0;34m\u001b[0m\u001b[0m\n",
            "\u001b[0;31mKeyboardInterrupt\u001b[0m: ",
            "\nDuring handling of the above exception, another exception occurred:\n",
            "\u001b[0;31mCatBoostError\u001b[0m                             Traceback (most recent call last)",
            "\u001b[0;32m<ipython-input-39-f5c9c527f0a9>\u001b[0m in \u001b[0;36m<module>\u001b[0;34m()\u001b[0m\n\u001b[0;32m----> 1\u001b[0;31m \u001b[0mget_ipython\u001b[0m\u001b[0;34m(\u001b[0m\u001b[0;34m)\u001b[0m\u001b[0;34m.\u001b[0m\u001b[0mrun_cell_magic\u001b[0m\u001b[0;34m(\u001b[0m\u001b[0;34m'time'\u001b[0m\u001b[0;34m,\u001b[0m \u001b[0;34m''\u001b[0m\u001b[0;34m,\u001b[0m \u001b[0;34m'model = CatBoostRegressor(**params)\\nmodel.fit(train_train_pool, eval_set=train_valid_pool)'\u001b[0m\u001b[0;34m)\u001b[0m\u001b[0;34m\u001b[0m\u001b[0;34m\u001b[0m\u001b[0m\n\u001b[0m",
            "\u001b[0;32m/usr/local/lib/python3.6/dist-packages/IPython/core/interactiveshell.py\u001b[0m in \u001b[0;36mrun_cell_magic\u001b[0;34m(self, magic_name, line, cell)\u001b[0m\n\u001b[1;32m   2115\u001b[0m             \u001b[0mmagic_arg_s\u001b[0m \u001b[0;34m=\u001b[0m \u001b[0mself\u001b[0m\u001b[0;34m.\u001b[0m\u001b[0mvar_expand\u001b[0m\u001b[0;34m(\u001b[0m\u001b[0mline\u001b[0m\u001b[0;34m,\u001b[0m \u001b[0mstack_depth\u001b[0m\u001b[0;34m)\u001b[0m\u001b[0;34m\u001b[0m\u001b[0;34m\u001b[0m\u001b[0m\n\u001b[1;32m   2116\u001b[0m             \u001b[0;32mwith\u001b[0m \u001b[0mself\u001b[0m\u001b[0;34m.\u001b[0m\u001b[0mbuiltin_trap\u001b[0m\u001b[0;34m:\u001b[0m\u001b[0;34m\u001b[0m\u001b[0;34m\u001b[0m\u001b[0m\n\u001b[0;32m-> 2117\u001b[0;31m                 \u001b[0mresult\u001b[0m \u001b[0;34m=\u001b[0m \u001b[0mfn\u001b[0m\u001b[0;34m(\u001b[0m\u001b[0mmagic_arg_s\u001b[0m\u001b[0;34m,\u001b[0m \u001b[0mcell\u001b[0m\u001b[0;34m)\u001b[0m\u001b[0;34m\u001b[0m\u001b[0;34m\u001b[0m\u001b[0m\n\u001b[0m\u001b[1;32m   2118\u001b[0m             \u001b[0;32mreturn\u001b[0m \u001b[0mresult\u001b[0m\u001b[0;34m\u001b[0m\u001b[0;34m\u001b[0m\u001b[0m\n\u001b[1;32m   2119\u001b[0m \u001b[0;34m\u001b[0m\u001b[0m\n",
            "\u001b[0;32m<decorator-gen-60>\u001b[0m in \u001b[0;36mtime\u001b[0;34m(self, line, cell, local_ns)\u001b[0m\n",
            "\u001b[0;32m/usr/local/lib/python3.6/dist-packages/IPython/core/magic.py\u001b[0m in \u001b[0;36m<lambda>\u001b[0;34m(f, *a, **k)\u001b[0m\n\u001b[1;32m    186\u001b[0m     \u001b[0;31m# but it's overkill for just that one bit of state.\u001b[0m\u001b[0;34m\u001b[0m\u001b[0;34m\u001b[0m\u001b[0;34m\u001b[0m\u001b[0m\n\u001b[1;32m    187\u001b[0m     \u001b[0;32mdef\u001b[0m \u001b[0mmagic_deco\u001b[0m\u001b[0;34m(\u001b[0m\u001b[0marg\u001b[0m\u001b[0;34m)\u001b[0m\u001b[0;34m:\u001b[0m\u001b[0;34m\u001b[0m\u001b[0;34m\u001b[0m\u001b[0m\n\u001b[0;32m--> 188\u001b[0;31m         \u001b[0mcall\u001b[0m \u001b[0;34m=\u001b[0m \u001b[0;32mlambda\u001b[0m \u001b[0mf\u001b[0m\u001b[0;34m,\u001b[0m \u001b[0;34m*\u001b[0m\u001b[0ma\u001b[0m\u001b[0;34m,\u001b[0m \u001b[0;34m**\u001b[0m\u001b[0mk\u001b[0m\u001b[0;34m:\u001b[0m \u001b[0mf\u001b[0m\u001b[0;34m(\u001b[0m\u001b[0;34m*\u001b[0m\u001b[0ma\u001b[0m\u001b[0;34m,\u001b[0m \u001b[0;34m**\u001b[0m\u001b[0mk\u001b[0m\u001b[0;34m)\u001b[0m\u001b[0;34m\u001b[0m\u001b[0;34m\u001b[0m\u001b[0m\n\u001b[0m\u001b[1;32m    189\u001b[0m \u001b[0;34m\u001b[0m\u001b[0m\n\u001b[1;32m    190\u001b[0m         \u001b[0;32mif\u001b[0m \u001b[0mcallable\u001b[0m\u001b[0;34m(\u001b[0m\u001b[0marg\u001b[0m\u001b[0;34m)\u001b[0m\u001b[0;34m:\u001b[0m\u001b[0;34m\u001b[0m\u001b[0;34m\u001b[0m\u001b[0m\n",
            "\u001b[0;32m/usr/local/lib/python3.6/dist-packages/IPython/core/magics/execution.py\u001b[0m in \u001b[0;36mtime\u001b[0;34m(self, line, cell, local_ns)\u001b[0m\n\u001b[1;32m   1191\u001b[0m         \u001b[0;32melse\u001b[0m\u001b[0;34m:\u001b[0m\u001b[0;34m\u001b[0m\u001b[0;34m\u001b[0m\u001b[0m\n\u001b[1;32m   1192\u001b[0m             \u001b[0mst\u001b[0m \u001b[0;34m=\u001b[0m \u001b[0mclock2\u001b[0m\u001b[0;34m(\u001b[0m\u001b[0;34m)\u001b[0m\u001b[0;34m\u001b[0m\u001b[0;34m\u001b[0m\u001b[0m\n\u001b[0;32m-> 1193\u001b[0;31m             \u001b[0mexec\u001b[0m\u001b[0;34m(\u001b[0m\u001b[0mcode\u001b[0m\u001b[0;34m,\u001b[0m \u001b[0mglob\u001b[0m\u001b[0;34m,\u001b[0m \u001b[0mlocal_ns\u001b[0m\u001b[0;34m)\u001b[0m\u001b[0;34m\u001b[0m\u001b[0;34m\u001b[0m\u001b[0m\n\u001b[0m\u001b[1;32m   1194\u001b[0m             \u001b[0mend\u001b[0m \u001b[0;34m=\u001b[0m \u001b[0mclock2\u001b[0m\u001b[0;34m(\u001b[0m\u001b[0;34m)\u001b[0m\u001b[0;34m\u001b[0m\u001b[0;34m\u001b[0m\u001b[0m\n\u001b[1;32m   1195\u001b[0m             \u001b[0mout\u001b[0m \u001b[0;34m=\u001b[0m \u001b[0;32mNone\u001b[0m\u001b[0;34m\u001b[0m\u001b[0;34m\u001b[0m\u001b[0m\n",
            "\u001b[0;32m<timed exec>\u001b[0m in \u001b[0;36m<module>\u001b[0;34m()\u001b[0m\n",
            "\u001b[0;32m/usr/local/lib/python3.6/dist-packages/catboost/core.py\u001b[0m in \u001b[0;36mfit\u001b[0;34m(self, X, y, cat_features, sample_weight, baseline, use_best_model, eval_set, verbose, logging_level, plot, column_description, verbose_eval, metric_period, silent, early_stopping_rounds, save_snapshot, snapshot_file, snapshot_interval, init_model)\u001b[0m\n\u001b[1;32m   4838\u001b[0m                          \u001b[0muse_best_model\u001b[0m\u001b[0;34m,\u001b[0m \u001b[0meval_set\u001b[0m\u001b[0;34m,\u001b[0m \u001b[0mverbose\u001b[0m\u001b[0;34m,\u001b[0m \u001b[0mlogging_level\u001b[0m\u001b[0;34m,\u001b[0m \u001b[0mplot\u001b[0m\u001b[0;34m,\u001b[0m \u001b[0mcolumn_description\u001b[0m\u001b[0;34m,\u001b[0m\u001b[0;34m\u001b[0m\u001b[0;34m\u001b[0m\u001b[0m\n\u001b[1;32m   4839\u001b[0m                          \u001b[0mverbose_eval\u001b[0m\u001b[0;34m,\u001b[0m \u001b[0mmetric_period\u001b[0m\u001b[0;34m,\u001b[0m \u001b[0msilent\u001b[0m\u001b[0;34m,\u001b[0m \u001b[0mearly_stopping_rounds\u001b[0m\u001b[0;34m,\u001b[0m\u001b[0;34m\u001b[0m\u001b[0;34m\u001b[0m\u001b[0m\n\u001b[0;32m-> 4840\u001b[0;31m                          save_snapshot, snapshot_file, snapshot_interval, init_model)\n\u001b[0m\u001b[1;32m   4841\u001b[0m \u001b[0;34m\u001b[0m\u001b[0m\n\u001b[1;32m   4842\u001b[0m     \u001b[0;32mdef\u001b[0m \u001b[0mpredict\u001b[0m\u001b[0;34m(\u001b[0m\u001b[0mself\u001b[0m\u001b[0;34m,\u001b[0m \u001b[0mdata\u001b[0m\u001b[0;34m,\u001b[0m \u001b[0mprediction_type\u001b[0m\u001b[0;34m=\u001b[0m\u001b[0;32mNone\u001b[0m\u001b[0;34m,\u001b[0m \u001b[0mntree_start\u001b[0m\u001b[0;34m=\u001b[0m\u001b[0;36m0\u001b[0m\u001b[0;34m,\u001b[0m \u001b[0mntree_end\u001b[0m\u001b[0;34m=\u001b[0m\u001b[0;36m0\u001b[0m\u001b[0;34m,\u001b[0m \u001b[0mthread_count\u001b[0m\u001b[0;34m=\u001b[0m\u001b[0;34m-\u001b[0m\u001b[0;36m1\u001b[0m\u001b[0;34m,\u001b[0m \u001b[0mverbose\u001b[0m\u001b[0;34m=\u001b[0m\u001b[0;32mNone\u001b[0m\u001b[0;34m)\u001b[0m\u001b[0;34m:\u001b[0m\u001b[0;34m\u001b[0m\u001b[0;34m\u001b[0m\u001b[0m\n",
            "\u001b[0;32m/usr/local/lib/python3.6/dist-packages/catboost/core.py\u001b[0m in \u001b[0;36m_fit\u001b[0;34m(self, X, y, cat_features, text_features, embedding_features, pairs, sample_weight, group_id, group_weight, subgroup_id, pairs_weight, baseline, use_best_model, eval_set, verbose, logging_level, plot, column_description, verbose_eval, metric_period, silent, early_stopping_rounds, save_snapshot, snapshot_file, snapshot_interval, init_model)\u001b[0m\n\u001b[1;32m   1803\u001b[0m                 \u001b[0mparams\u001b[0m\u001b[0;34m,\u001b[0m\u001b[0;34m\u001b[0m\u001b[0;34m\u001b[0m\u001b[0m\n\u001b[1;32m   1804\u001b[0m                 \u001b[0mallow_clear_pool\u001b[0m\u001b[0;34m,\u001b[0m\u001b[0;34m\u001b[0m\u001b[0;34m\u001b[0m\u001b[0m\n\u001b[0;32m-> 1805\u001b[0;31m                 \u001b[0mtrain_params\u001b[0m\u001b[0;34m[\u001b[0m\u001b[0;34m\"init_model\"\u001b[0m\u001b[0;34m]\u001b[0m\u001b[0;34m\u001b[0m\u001b[0;34m\u001b[0m\u001b[0m\n\u001b[0m\u001b[1;32m   1806\u001b[0m             )\n\u001b[1;32m   1807\u001b[0m \u001b[0;34m\u001b[0m\u001b[0m\n",
            "\u001b[0;32m/usr/local/lib/python3.6/dist-packages/catboost/core.py\u001b[0m in \u001b[0;36m_train\u001b[0;34m(self, train_pool, test_pool, params, allow_clear_pool, init_model)\u001b[0m\n\u001b[1;32m   1256\u001b[0m \u001b[0;34m\u001b[0m\u001b[0m\n\u001b[1;32m   1257\u001b[0m     \u001b[0;32mdef\u001b[0m \u001b[0m_train\u001b[0m\u001b[0;34m(\u001b[0m\u001b[0mself\u001b[0m\u001b[0;34m,\u001b[0m \u001b[0mtrain_pool\u001b[0m\u001b[0;34m,\u001b[0m \u001b[0mtest_pool\u001b[0m\u001b[0;34m,\u001b[0m \u001b[0mparams\u001b[0m\u001b[0;34m,\u001b[0m \u001b[0mallow_clear_pool\u001b[0m\u001b[0;34m,\u001b[0m \u001b[0minit_model\u001b[0m\u001b[0;34m)\u001b[0m\u001b[0;34m:\u001b[0m\u001b[0;34m\u001b[0m\u001b[0;34m\u001b[0m\u001b[0m\n\u001b[0;32m-> 1258\u001b[0;31m         \u001b[0mself\u001b[0m\u001b[0;34m.\u001b[0m\u001b[0m_object\u001b[0m\u001b[0;34m.\u001b[0m\u001b[0m_train\u001b[0m\u001b[0;34m(\u001b[0m\u001b[0mtrain_pool\u001b[0m\u001b[0;34m,\u001b[0m \u001b[0mtest_pool\u001b[0m\u001b[0;34m,\u001b[0m \u001b[0mparams\u001b[0m\u001b[0;34m,\u001b[0m \u001b[0mallow_clear_pool\u001b[0m\u001b[0;34m,\u001b[0m \u001b[0minit_model\u001b[0m\u001b[0;34m.\u001b[0m\u001b[0m_object\u001b[0m \u001b[0;32mif\u001b[0m \u001b[0minit_model\u001b[0m \u001b[0;32melse\u001b[0m \u001b[0;32mNone\u001b[0m\u001b[0;34m)\u001b[0m\u001b[0;34m\u001b[0m\u001b[0;34m\u001b[0m\u001b[0m\n\u001b[0m\u001b[1;32m   1259\u001b[0m         \u001b[0mself\u001b[0m\u001b[0;34m.\u001b[0m\u001b[0m_set_trained_model_attributes\u001b[0m\u001b[0;34m(\u001b[0m\u001b[0;34m)\u001b[0m\u001b[0;34m\u001b[0m\u001b[0;34m\u001b[0m\u001b[0m\n\u001b[1;32m   1260\u001b[0m \u001b[0;34m\u001b[0m\u001b[0m\n",
            "\u001b[0;32m_catboost.pyx\u001b[0m in \u001b[0;36m_catboost._CatBoost._train\u001b[0;34m()\u001b[0m\n",
            "\u001b[0;32m_catboost.pyx\u001b[0m in \u001b[0;36m_catboost._CatBoost._train\u001b[0;34m()\u001b[0m\n",
            "\u001b[0;31mCatBoostError\u001b[0m: catboost/python-package/catboost/helpers.cpp:42: Traceback (most recent call last):\n  File \"_catboost.pyx\", line 1344, in _catboost._ObjectiveCalcDersRange\n  File \"<ipython-input-36-d26c2e6466e2>\", line 2, in calc_ders_range\n    def calc_ders_range(self, approxes, targets, weights):\nKeyboardInterrupt\n"
          ]
        }
      ]
    },
    {
      "cell_type": "code",
      "metadata": {
        "id": "SwV9SXbZ8AFO"
      },
      "source": [
        "model.get_feature_importance(train_valid_pool, prettified=True)"
      ],
      "execution_count": null,
      "outputs": []
    },
    {
      "cell_type": "markdown",
      "metadata": {
        "id": "tTFp7opGcaSm"
      },
      "source": [
        "### Визуализация результатов"
      ]
    },
    {
      "cell_type": "code",
      "metadata": {
        "id": "keVce6fG_uH0"
      },
      "source": [
        "def visualize_learning_results(metrics):\n",
        "    \"\"\"\n",
        "    Plot one graph for each metric\n",
        "\n",
        "    :param metrics: dic of metrics\n",
        "    \"\"\"\n",
        "\n",
        "    n = len(metrics)\n",
        "    \n",
        "    fig = make_subplots(\n",
        "        rows=n,\n",
        "        cols=1,\n",
        "        subplot_titles=list(metrics.keys())\n",
        "    )\n",
        "\n",
        "    for i, (metric_name, curves) in enumerate(metrics.items()):\n",
        "        for dataset_type, curve in curves.items():\n",
        "            m = len(curve)\n",
        "            fig.add_trace(\n",
        "                go.Scatter(\n",
        "                    x=np.arange(m),\n",
        "                    y=curve,\n",
        "                    mode='lines',\n",
        "                    name=f'{dataset_type} {metric_name}'\n",
        "                ),\n",
        "                row=i + 1,\n",
        "                col=1\n",
        "            )\n",
        "\n",
        "    fig.update_layout(\n",
        "        title_text=\"Learning results\",\n",
        "        width=297. * 3,\n",
        "        height=210. * 3 * n\n",
        "    )\n",
        "    fig.show()"
      ],
      "execution_count": null,
      "outputs": []
    },
    {
      "cell_type": "code",
      "metadata": {
        "id": "UFc3fRgidVJL"
      },
      "source": [
        "eval_results = model.get_evals_result()"
      ],
      "execution_count": null,
      "outputs": []
    },
    {
      "cell_type": "code",
      "metadata": {
        "id": "lKxIfG4ZBXCc",
        "outputId": "660fba20-b937-4d39-9ca3-6ef92dd83684",
        "colab": {
          "base_uri": "https://localhost:8080/",
          "height": 477
        }
      },
      "source": [
        "eval_results = model.get_evals_result()\n",
        "metrics = dict(\n",
        "    Loss=dict(\n",
        "        validation=eval_results['validation']['EvalMetric'],\n",
        "        learn=eval_results['learn']['EvalMetric']\n",
        "    ),\n",
        "    Metric=dict(\n",
        "        validation=eval_results['validation']['EvalMetric']\n",
        "    )\n",
        ")"
      ],
      "execution_count": null,
      "outputs": [
        {
          "output_type": "error",
          "ename": "KeyError",
          "evalue": "ignored",
          "traceback": [
            "\u001b[0;31m---------------------------------------------------------------------------\u001b[0m",
            "\u001b[0;31mKeyboardInterrupt\u001b[0m                         Traceback (most recent call last)",
            "\u001b[0;32m_catboost.pyx\u001b[0m in \u001b[0;36m_catboost._ObjectiveCalcDersRange\u001b[0;34m()\u001b[0m\n",
            "\u001b[0;32m<ipython-input-35-d26c2e6466e2>\u001b[0m in \u001b[0;36mcalc_ders_range\u001b[0;34m(self, approxes, targets, weights)\u001b[0m\n\u001b[1;32m     10\u001b[0m             \u001b[0msign\u001b[0m \u001b[0;34m=\u001b[0m \u001b[0;34m-\u001b[0m\u001b[0;36m1\u001b[0m \u001b[0;32mif\u001b[0m  \u001b[0mapproxes\u001b[0m\u001b[0;34m[\u001b[0m\u001b[0mindex\u001b[0m\u001b[0;34m]\u001b[0m \u001b[0;34m<\u001b[0m \u001b[0mtargets\u001b[0m\u001b[0;34m[\u001b[0m\u001b[0mindex\u001b[0m\u001b[0;34m]\u001b[0m \u001b[0;32melse\u001b[0m \u001b[0;36m1\u001b[0m\u001b[0;34m\u001b[0m\u001b[0;34m\u001b[0m\u001b[0m\n\u001b[0;32m---> 11\u001b[0;31m             \u001b[0mder2\u001b[0m \u001b[0;34m=\u001b[0m \u001b[0mmath\u001b[0m\u001b[0;34m.\u001b[0m\u001b[0mexp\u001b[0m\u001b[0;34m(\u001b[0m\u001b[0mabs\u001b[0m\u001b[0;34m(\u001b[0m\u001b[0mtargets\u001b[0m\u001b[0;34m[\u001b[0m\u001b[0mindex\u001b[0m\u001b[0;34m]\u001b[0m \u001b[0;34m-\u001b[0m \u001b[0mapproxes\u001b[0m\u001b[0;34m[\u001b[0m\u001b[0mindex\u001b[0m\u001b[0;34m]\u001b[0m\u001b[0;34m)\u001b[0m\u001b[0;34m)\u001b[0m\u001b[0;34m\u001b[0m\u001b[0;34m\u001b[0m\u001b[0m\n\u001b[0m\u001b[1;32m     12\u001b[0m             \u001b[0mder1\u001b[0m \u001b[0;34m=\u001b[0m \u001b[0mder2\u001b[0m \u001b[0;34m*\u001b[0m \u001b[0msign\u001b[0m\u001b[0;34m\u001b[0m\u001b[0;34m\u001b[0m\u001b[0m\n",
            "\u001b[0;31mKeyboardInterrupt\u001b[0m: ",
            "\nDuring handling of the above exception, another exception occurred:\n",
            "\u001b[0;31mKeyError\u001b[0m                                  Traceback (most recent call last)",
            "\u001b[0;32m<ipython-input-41-817c5e3e9264>\u001b[0m in \u001b[0;36m<module>\u001b[0;34m()\u001b[0m\n\u001b[1;32m      2\u001b[0m metrics = dict(\n\u001b[1;32m      3\u001b[0m     Loss=dict(\n\u001b[0;32m----> 4\u001b[0;31m         \u001b[0mvalidation\u001b[0m\u001b[0;34m=\u001b[0m\u001b[0meval_results\u001b[0m\u001b[0;34m[\u001b[0m\u001b[0;34m'validation'\u001b[0m\u001b[0;34m]\u001b[0m\u001b[0;34m[\u001b[0m\u001b[0;34m'EvalMetric'\u001b[0m\u001b[0;34m]\u001b[0m\u001b[0;34m,\u001b[0m\u001b[0;34m\u001b[0m\u001b[0;34m\u001b[0m\u001b[0m\n\u001b[0m\u001b[1;32m      5\u001b[0m         \u001b[0mlearn\u001b[0m\u001b[0;34m=\u001b[0m\u001b[0meval_results\u001b[0m\u001b[0;34m[\u001b[0m\u001b[0;34m'learn'\u001b[0m\u001b[0;34m]\u001b[0m\u001b[0;34m[\u001b[0m\u001b[0;34m'EvalMetric'\u001b[0m\u001b[0;34m]\u001b[0m\u001b[0;34m\u001b[0m\u001b[0;34m\u001b[0m\u001b[0m\n\u001b[1;32m      6\u001b[0m     ),\n",
            "\u001b[0;31mKeyError\u001b[0m: 'validation'"
          ]
        }
      ]
    },
    {
      "cell_type": "code",
      "metadata": {
        "id": "QiAI_GyDB2Tr",
        "outputId": "e2a42036-cdd8-43a9-9475-d690d0fb4c14",
        "colab": {
          "base_uri": "https://localhost:8080/",
          "height": 402
        }
      },
      "source": [
        "visualize_learning_results(metrics)"
      ],
      "execution_count": null,
      "outputs": [
        {
          "output_type": "error",
          "ename": "NameError",
          "evalue": "ignored",
          "traceback": [
            "\u001b[0;31m---------------------------------------------------------------------------\u001b[0m",
            "\u001b[0;31mKeyboardInterrupt\u001b[0m                         Traceback (most recent call last)",
            "\u001b[0;32m_catboost.pyx\u001b[0m in \u001b[0;36m_catboost._ObjectiveCalcDersRange\u001b[0;34m()\u001b[0m\n",
            "\u001b[0;32m<ipython-input-35-d26c2e6466e2>\u001b[0m in \u001b[0;36mcalc_ders_range\u001b[0;34m(self, approxes, targets, weights)\u001b[0m\n\u001b[1;32m     10\u001b[0m             \u001b[0msign\u001b[0m \u001b[0;34m=\u001b[0m \u001b[0;34m-\u001b[0m\u001b[0;36m1\u001b[0m \u001b[0;32mif\u001b[0m  \u001b[0mapproxes\u001b[0m\u001b[0;34m[\u001b[0m\u001b[0mindex\u001b[0m\u001b[0;34m]\u001b[0m \u001b[0;34m<\u001b[0m \u001b[0mtargets\u001b[0m\u001b[0;34m[\u001b[0m\u001b[0mindex\u001b[0m\u001b[0;34m]\u001b[0m \u001b[0;32melse\u001b[0m \u001b[0;36m1\u001b[0m\u001b[0;34m\u001b[0m\u001b[0;34m\u001b[0m\u001b[0m\n\u001b[0;32m---> 11\u001b[0;31m             \u001b[0mder2\u001b[0m \u001b[0;34m=\u001b[0m \u001b[0mmath\u001b[0m\u001b[0;34m.\u001b[0m\u001b[0mexp\u001b[0m\u001b[0;34m(\u001b[0m\u001b[0mabs\u001b[0m\u001b[0;34m(\u001b[0m\u001b[0mtargets\u001b[0m\u001b[0;34m[\u001b[0m\u001b[0mindex\u001b[0m\u001b[0;34m]\u001b[0m \u001b[0;34m-\u001b[0m \u001b[0mapproxes\u001b[0m\u001b[0;34m[\u001b[0m\u001b[0mindex\u001b[0m\u001b[0;34m]\u001b[0m\u001b[0;34m)\u001b[0m\u001b[0;34m)\u001b[0m\u001b[0;34m\u001b[0m\u001b[0;34m\u001b[0m\u001b[0m\n\u001b[0m\u001b[1;32m     12\u001b[0m             \u001b[0mder1\u001b[0m \u001b[0;34m=\u001b[0m \u001b[0mder2\u001b[0m \u001b[0;34m*\u001b[0m \u001b[0msign\u001b[0m\u001b[0;34m\u001b[0m\u001b[0;34m\u001b[0m\u001b[0m\n",
            "\u001b[0;31mKeyboardInterrupt\u001b[0m: ",
            "\nDuring handling of the above exception, another exception occurred:\n",
            "\u001b[0;31mNameError\u001b[0m                                 Traceback (most recent call last)",
            "\u001b[0;32m<ipython-input-42-76a27dae01fc>\u001b[0m in \u001b[0;36m<module>\u001b[0;34m()\u001b[0m\n\u001b[0;32m----> 1\u001b[0;31m \u001b[0mvisualize_learning_results\u001b[0m\u001b[0;34m(\u001b[0m\u001b[0mmetrics\u001b[0m\u001b[0;34m)\u001b[0m\u001b[0;34m\u001b[0m\u001b[0;34m\u001b[0m\u001b[0m\n\u001b[0m",
            "\u001b[0;31mNameError\u001b[0m: name 'metrics' is not defined"
          ]
        }
      ]
    },
    {
      "cell_type": "markdown",
      "metadata": {
        "id": "e01TOmuiWdTG"
      },
      "source": [
        "### Объявление финальных параметров"
      ]
    },
    {
      "cell_type": "code",
      "metadata": {
        "id": "NeVaRFJRWomK"
      },
      "source": [
        "cat_features = [\n",
        "    'building_series_id', 'site_id', 'parking', 'expect_demolition',\n",
        "    'is_apartment', 'unified_address', 'has_elevator', 'studio', 'building_type',\n",
        "    'balcony', 'locality_name', 'renovation', 'District'\n",
        "]\n",
        "ignored_features = [\n",
        "]\n",
        "train_pool = Pool(\n",
        "    pd.concat([X_train_train, X_train_valid]),\n",
        "    pd.concat([y_train_train, y_train_valid]),\n",
        "    cat_features=cat_features\n",
        ")\n",
        "params = {\n",
        "    'iterations': 200,\n",
        "    'learning_rate': 0.03,\n",
        "    'eval_metric': EvalMetric(),\n",
        "    'loss_function': LossFunction(),\n",
        "    'random_seed': 113,\n",
        "    # 'logging_level': 'Silent',\n",
        "    'use_best_model': False,\n",
        "    'ignored_features': ignored_features\n",
        "}\n",
        "n_models = 10"
      ],
      "execution_count": 36,
      "outputs": []
    },
    {
      "cell_type": "markdown",
      "metadata": {
        "id": "zkt3iCbEFhGy"
      },
      "source": [
        "### Обучение"
      ]
    },
    {
      "cell_type": "code",
      "metadata": {
        "id": "jsIALaQFFi0R",
        "outputId": "22c68545-4d04-4e0b-c923-9c874e3b6d2e",
        "colab": {
          "base_uri": "https://localhost:8080/",
          "height": 224
        }
      },
      "source": [
        "%%time\n",
        "models = []\n",
        "np.random.seed(1)\n",
        "\n",
        "for i in range(n_models):\n",
        "    params['random_seed'] = np.random.randint(100000)\n",
        "    model = CatBoostRegressor(**params)\n",
        "    model.fit(train_pool)\n",
        "    models.append(model)\n",
        "    print(\"{}/{} Finished\".format(i + 1, n_models))"
      ],
      "execution_count": null,
      "outputs": [
        {
          "output_type": "stream",
          "text": [
            "0:\tlearn: -43.3164071\ttotal: 2.42s\tremaining: 8m 1s\n",
            "1:\tlearn: -42.0066505\ttotal: 4.69s\tremaining: 7m 43s\n",
            "2:\tlearn: -40.7356094\ttotal: 7.09s\tremaining: 7m 45s\n",
            "3:\tlearn: -39.5021289\ttotal: 9.24s\tremaining: 7m 32s\n",
            "4:\tlearn: -38.3051009\ttotal: 11.5s\tremaining: 7m 27s\n",
            "5:\tlearn: -37.1434557\ttotal: 13.4s\tremaining: 7m 12s\n",
            "6:\tlearn: -36.0161345\ttotal: 15.9s\tremaining: 7m 19s\n",
            "7:\tlearn: -34.9221342\ttotal: 18.2s\tremaining: 7m 16s\n",
            "8:\tlearn: -33.8604720\ttotal: 20.4s\tremaining: 7m 12s\n",
            "9:\tlearn: -32.8301846\ttotal: 22.3s\tremaining: 7m 4s\n",
            "10:\tlearn: -31.8303441\ttotal: 24.3s\tremaining: 6m 58s\n"
          ],
          "name": "stdout"
        }
      ]
    },
    {
      "cell_type": "markdown",
      "metadata": {
        "id": "YXvaGP6UF613"
      },
      "source": [
        "### Получение предсказаний"
      ]
    },
    {
      "cell_type": "code",
      "metadata": {
        "id": "3Ol4xaCkGA1p"
      },
      "source": [
        "y_test_predicted = None\n",
        "X_test_test = X_test.drop('public', axis=1)\n",
        "for model in models:\n",
        "    predicted = model.predict(X_test_test)\n",
        "    y_test_cur_predicted = pd.Series(\n",
        "        predicted,\n",
        "        index=X_test_test.index,\n",
        "        name='target'\n",
        "    ).sort_index()\n",
        "    \n",
        "    if y_test_predicted is None:\n",
        "        y_test_predicted = y_test_cur_predicted\n",
        "    else:\n",
        "        y_test_predicted += y_test_cur_predicted\n",
        "\n",
        "y_test_predicted /= n_models\n",
        "y_test_predicted = y_test_predicted.round().astype('int64')\n",
        "SUBMISSTION_FILE_NAME = 'exposition_sample_submission.tsv'"
      ],
      "execution_count": null,
      "outputs": []
    },
    {
      "cell_type": "markdown",
      "metadata": {
        "id": "Ih6-PdgRPke5"
      },
      "source": [
        "# Отправка результатов"
      ]
    },
    {
      "cell_type": "markdown",
      "metadata": {
        "id": "SqRyENOXMsHQ"
      },
      "source": [
        "## Определение пути"
      ]
    },
    {
      "cell_type": "code",
      "metadata": {
        "id": "Saiyu_K_LR2S",
        "outputId": "e554317d-acf1-4ead-b503-cab61b909008",
        "colab": {
          "base_uri": "https://localhost:8080/",
          "height": 55
        }
      },
      "source": [
        "submission_folder_path = os.path.join(PROJECT_DIR, 'submissions')\n",
        "file_path = os.path.join(submission_folder_path, SUBMISSTION_FILE_NAME)\n",
        "print(f\"File will be saved to {file_path}\")"
      ],
      "execution_count": null,
      "outputs": [
        {
          "output_type": "stream",
          "text": [
            "File will be saved to /content/drive/My Drive/projects/hack_the_realty_exposition/submissions/exposition_sample_submission.tsv\n"
          ],
          "name": "stdout"
        }
      ]
    },
    {
      "cell_type": "markdown",
      "metadata": {
        "id": "bXNqGiZKMuJ-"
      },
      "source": [
        "## Сохранение"
      ]
    },
    {
      "cell_type": "code",
      "metadata": {
        "id": "PsyUIyS4NL1e"
      },
      "source": [
        "y_test_predicted.to_csv(file_path, sep='\\t')"
      ],
      "execution_count": null,
      "outputs": []
    },
    {
      "cell_type": "markdown",
      "metadata": {
        "id": "U7rfkVWfnF-S"
      },
      "source": [
        "# Юнит тестирование\n"
      ]
    },
    {
      "cell_type": "markdown",
      "metadata": {
        "id": "FXQBH20aoTZH"
      },
      "source": [
        "## Подключение библиотек"
      ]
    },
    {
      "cell_type": "code",
      "metadata": {
        "id": "wDe_sqoLoWYg"
      },
      "source": [
        "import unittest"
      ],
      "execution_count": null,
      "outputs": []
    },
    {
      "cell_type": "markdown",
      "metadata": {
        "id": "yQSf1SvuoYHP"
      },
      "source": [
        "## Объявление тестирующего класса"
      ]
    },
    {
      "cell_type": "code",
      "metadata": {
        "id": "Qz4myBWbomDN"
      },
      "source": [
        "class TestNotebook(unittest.TestCase):\n",
        "    def test_add(self):\n",
        "        self.assertEqual(2 + 2, 4)"
      ],
      "execution_count": null,
      "outputs": []
    },
    {
      "cell_type": "markdown",
      "metadata": {
        "id": "CO-Nl-0tor6W"
      },
      "source": [
        "## Запуск тестов"
      ]
    },
    {
      "cell_type": "code",
      "metadata": {
        "id": "PQyyW4jHowk6",
        "outputId": "beb89ea3-6f43-4aa2-936f-6e22d0ad3e9f",
        "colab": {
          "base_uri": "https://localhost:8080/",
          "height": 143
        }
      },
      "source": [
        "unittest.main(argv=[''], verbosity=2, exit=False)"
      ],
      "execution_count": null,
      "outputs": [
        {
          "output_type": "stream",
          "text": [
            "test_add (__main__.TestNotebook) ... ok\n",
            "\n",
            "----------------------------------------------------------------------\n",
            "Ran 1 test in 0.002s\n",
            "\n",
            "OK\n"
          ],
          "name": "stderr"
        },
        {
          "output_type": "execute_result",
          "data": {
            "text/plain": [
              "<unittest.main.TestProgram at 0x7f929c006dd8>"
            ]
          },
          "metadata": {
            "tags": []
          },
          "execution_count": 10
        }
      ]
    }
  ]
}