{
  "nbformat": 4,
  "nbformat_minor": 0,
  "metadata": {
    "colab": {
      "name": "solution.ipynb",
      "provenance": []
    },
    "kernelspec": {
      "display_name": "Python 3",
      "language": "python",
      "name": "python3"
    },
    "language_info": {
      "codemirror_mode": {
        "name": "ipython",
        "version": 3
      },
      "file_extension": ".py",
      "mimetype": "text/x-python",
      "name": "python",
      "nbconvert_exporter": "python",
      "pygments_lexer": "ipython3",
      "version": "3.6.10"
    }
  },
  "cells": [
    {
      "cell_type": "markdown",
      "metadata": {
        "id": "fPWzgA5pirVo"
      },
      "source": [
        "# Введение"
      ]
    },
    {
      "cell_type": "markdown",
      "metadata": {
        "id": "CybclLK6ijga"
      },
      "source": [
        "## Описание задачи\n",
        "[источник](https://contest.yandex.ru/contest/20144/problems/)"
      ]
    },
    {
      "cell_type": "markdown",
      "metadata": {
        "id": "D8sINhZyjdL7"
      },
      "source": [
        "### RUS"
      ]
    },
    {
      "cell_type": "markdown",
      "metadata": {
        "id": "CKOjPGgCjWX2"
      },
      "source": [
        "Каждый пользователь, размещая объявление об аренде квартиры, хочет понимать, сколько времени потребуется для сдачи объекта. В первую очередь такая информация нужна на форме подачи объявлений, что заметно ограничивает набор возможных признаков. Вам предлагается построить модель, прогнозирующую длительность экспозиции объявлений на Яндекс.Недвижимости.\n",
        "Для построения целевой переменной срок экспозиции разбит на несколько классов, каждому из которых соответствует целое число: \"меньше 7 дней\"(1), \"7-14 дней\"(2), \"15-30 дней\"(3), \"30-70 дней\"(4), \"более 70 дней\"(5).\n",
        "Метрика, по которой оцениваются решения, записывается следующим образом:\n",
        "$$\n",
        "metric = -\\frac{1}{l}\\sum\\limits_{i=1}^l \\left(exp^{|prediction_i - target_i|} - 1\\right)\n",
        "$$\n",
        "\n",
        "При отправке решения метрика вычисляется на публичной части тестовой выборки. Финальное значение будет определено по скрытой части тестовой выборки, чтобы исключить переобучение. Это значение будет опубликовано после окончания хакатона.\n",
        "Оценивается только последняя посылка. Убедитесь, что на момент окончания хакатона ваша последняя посылка содержит именно тот прогноз, для которого вы хотите, чтобы было посчитано финальное значение метрики на скрытой части тестовой выборки."
      ]
    },
    {
      "cell_type": "markdown",
      "metadata": {
        "id": "9Bn7vUi_jirs"
      },
      "source": [
        "## Описание датасета"
      ]
    },
    {
      "cell_type": "markdown",
      "metadata": {
        "id": "8K1Llc2PkRQw"
      },
      "source": [
        "### RUS"
      ]
    },
    {
      "cell_type": "markdown",
      "metadata": {
        "id": "cyNr9jFHj8va"
      },
      "source": [
        "* **id** - id объявления про аренду квартиры\n",
        "* **building_id** - id дома\n",
        "* **unified_address** - адрес дома\n",
        "* **building_series_id** - id серии дома\n",
        "* **build_year** - год постройки дома\n",
        "* **site_id** - id жилого комплекса, если у недавно построенных домов\n",
        "* **parking** - тип парковки дома\n",
        "* **expect_demolition** - дом входит в программу реновации и ожидает сноса\n",
        "* **flats_count** - количество квартир в доме\t\n",
        "* **building_type** - тип стен в доме\n",
        "* **main_image** - часть урла главной фотографии в объявлении, добавив \"http:\" можно получить урл (http://avatars.mds.yandex.net/get-realty/1702013/add.d352c435e10b2c47092f43a332bedb13.realty-api-vos/main/)\n",
        "* **latitude, longitude** - координаты дома\n",
        "* **total_area** - площадь квартиры в кв. м.\n",
        "* **ceiling_height** - высота потолков в квартире\n",
        "* **rooms** - количество комнат в квартире\n",
        "* **floors_total** - количество этажей в доме\n",
        "* **floor** - этаж квартиры\n",
        "* **living_area** - жилая площадь в квартире\n",
        "* **kitchen_area** - площадь кухни\n",
        "* **is_apartment** - квартира юридически оформлена как апартаменты\n",
        "* **studio** - квартиры является студией\n",
        "* **has_elevator** - наличие лифта в доме\t\n",
        "* **day** - первый день экспозиции квартиры\n",
        "* **balcony** - тип и наличие балкона\n",
        "* **renovation** - качество ремонта\n",
        "* **locality_name** - имя населенного пункта\n",
        "* **price** - цена аренды квартиры за 1 месяц\n",
        "* **target** - срок экспозиции, который надо научиться предсказывать\n",
        "* **target_string** - строковое представление срока экспозиции"
      ]
    },
    {
      "cell_type": "markdown",
      "metadata": {
        "id": "DfJMbHB1j3qT"
      },
      "source": [
        "# Подготовка ноутбука"
      ]
    },
    {
      "cell_type": "markdown",
      "metadata": {
        "id": "eBJOdy5g-7Vf"
      },
      "source": [
        "## Первичные константы "
      ]
    },
    {
      "cell_type": "code",
      "metadata": {
        "id": "04FyTcMy-_y-"
      },
      "source": [
        "PROJECT_NAME = \"hack_the_realty_exposition\"\n",
        "MOUNT_DIR = '/content/drive' # In case Colab Usage\n",
        "VALIDATE_RATIO = 0.2"
      ],
      "execution_count": 1,
      "outputs": []
    },
    {
      "cell_type": "markdown",
      "metadata": {
        "id": "dbeCUdVpLISo"
      },
      "source": [
        "## Дополнительные установки"
      ]
    },
    {
      "cell_type": "code",
      "metadata": {
        "id": "QYUv2A8ZLW9S",
        "outputId": "6fd967ca-9023-49c4-b651-ca2fdf4bd0d0",
        "colab": {
          "base_uri": "https://localhost:8080/",
          "height": 281
        }
      },
      "source": [
        "!pip install catboost"
      ],
      "execution_count": 2,
      "outputs": [
        {
          "output_type": "stream",
          "text": [
            "Requirement already satisfied: catboost in /usr/local/lib/python3.6/dist-packages (0.24.1)\n",
            "Requirement already satisfied: pandas>=0.24.0 in /usr/local/lib/python3.6/dist-packages (from catboost) (1.0.5)\n",
            "Requirement already satisfied: plotly in /usr/local/lib/python3.6/dist-packages (from catboost) (4.4.1)\n",
            "Requirement already satisfied: six in /usr/local/lib/python3.6/dist-packages (from catboost) (1.15.0)\n",
            "Requirement already satisfied: scipy in /usr/local/lib/python3.6/dist-packages (from catboost) (1.4.1)\n",
            "Requirement already satisfied: matplotlib in /usr/local/lib/python3.6/dist-packages (from catboost) (3.2.2)\n",
            "Requirement already satisfied: graphviz in /usr/local/lib/python3.6/dist-packages (from catboost) (0.10.1)\n",
            "Requirement already satisfied: numpy>=1.16.0 in /usr/local/lib/python3.6/dist-packages (from catboost) (1.18.5)\n",
            "Requirement already satisfied: python-dateutil>=2.6.1 in /usr/local/lib/python3.6/dist-packages (from pandas>=0.24.0->catboost) (2.8.1)\n",
            "Requirement already satisfied: pytz>=2017.2 in /usr/local/lib/python3.6/dist-packages (from pandas>=0.24.0->catboost) (2018.9)\n",
            "Requirement already satisfied: retrying>=1.3.3 in /usr/local/lib/python3.6/dist-packages (from plotly->catboost) (1.3.3)\n",
            "Requirement already satisfied: kiwisolver>=1.0.1 in /usr/local/lib/python3.6/dist-packages (from matplotlib->catboost) (1.2.0)\n",
            "Requirement already satisfied: pyparsing!=2.0.4,!=2.1.2,!=2.1.6,>=2.0.1 in /usr/local/lib/python3.6/dist-packages (from matplotlib->catboost) (2.4.7)\n",
            "Requirement already satisfied: cycler>=0.10 in /usr/local/lib/python3.6/dist-packages (from matplotlib->catboost) (0.10.0)\n"
          ],
          "name": "stdout"
        }
      ]
    },
    {
      "cell_type": "markdown",
      "metadata": {
        "id": "DRtEggw5mMcU"
      },
      "source": [
        "## Библиотеки"
      ]
    },
    {
      "cell_type": "code",
      "metadata": {
        "id": "PdJYo2EcmRZR"
      },
      "source": [
        "import os\n",
        "\n",
        "from tqdm import tqdm\n",
        "\n",
        "from datetime import datetime\n",
        "\n",
        "from collections import Counter\n",
        "\n",
        "import geopy.distance\n",
        "from geopy.geocoders import Nominatim\n",
        "\n",
        "import math\n",
        "\n",
        "import numpy as np\n",
        "\n",
        "import pandas as pd\n",
        "\n",
        "import catboost as ctb\n",
        "from catboost import CatBoostRegressor, Pool\n",
        "from catboost.utils import get_roc_curve\n",
        "\n",
        "from sklearn.naive_bayes import CategoricalNB\n",
        "from sklearn.metrics import roc_auc_score\n",
        "\n",
        "from plotly.subplots import make_subplots\n",
        "import plotly.graph_objects as go\n",
        "\n",
        "import matplotlib.pyplot as plt\n",
        "\n",
        "%matplotlib inline"
      ],
      "execution_count": 3,
      "outputs": []
    },
    {
      "cell_type": "markdown",
      "metadata": {
        "id": "fTALJ4H5mVr4"
      },
      "source": [
        "## Обработка случая работы в Google.Colab"
      ]
    },
    {
      "cell_type": "markdown",
      "metadata": {
        "id": "b0OMb3oiBZDv"
      },
      "source": [
        "### Подключение библиотек"
      ]
    },
    {
      "cell_type": "code",
      "metadata": {
        "id": "TeUXiI4RmxoL",
        "outputId": "d59ca742-9468-4fec-92ae-7f55e8b5958c",
        "colab": {
          "base_uri": "https://localhost:8080/",
          "height": 167
        }
      },
      "source": [
        "try:\n",
        "    from google.colab import files, drive\n",
        "    \n",
        "    USE_COLAB = True\n",
        "except:\n",
        "    USE_COLAB = False\n",
        "\n",
        "if USE_COLAB:\n",
        "    print(\"Don't forget to avoid disconnections:\")\n",
        "    print(\"\"\"\n",
        "function ClickConnect(){\n",
        "    console.log(\"Clicking\"); \n",
        "    document.querySelector(\"colab-connect-button\").click() \n",
        "}\n",
        "setInterval(ClickConnect,60000)\n",
        "    \"\"\")"
      ],
      "execution_count": 4,
      "outputs": [
        {
          "output_type": "stream",
          "text": [
            "Don't forget to avoid disconnections:\n",
            "\n",
            "function ClickConnect(){\n",
            "    console.log(\"Clicking\"); \n",
            "    document.querySelector(\"colab-connect-button\").click() \n",
            "}\n",
            "setInterval(ClickConnect,60000)\n",
            "    \n"
          ],
          "name": "stdout"
        }
      ]
    },
    {
      "cell_type": "markdown",
      "metadata": {
        "id": "7GAT7jD_Bf3t"
      },
      "source": [
        "### Подключение к Google.Drive"
      ]
    },
    {
      "cell_type": "code",
      "metadata": {
        "id": "hv47CJ8cBknH",
        "outputId": "e98be0b3-8876-40e9-a525-3c3e2a2eae3f",
        "colab": {
          "base_uri": "https://localhost:8080/",
          "height": 54
        }
      },
      "source": [
        "if USE_COLAB:\n",
        "    drive.mount(MOUNT_DIR)\n",
        "    DRIVE_DIR = os.path.join(MOUNT_DIR, 'My Drive')\n",
        "    print(f\"Drive directory is {DRIVE_DIR}\")"
      ],
      "execution_count": 5,
      "outputs": [
        {
          "output_type": "stream",
          "text": [
            "Drive already mounted at /content/drive; to attempt to forcibly remount, call drive.mount(\"/content/drive\", force_remount=True).\n",
            "Drive directory is /content/drive/My Drive\n"
          ],
          "name": "stdout"
        }
      ]
    },
    {
      "cell_type": "markdown",
      "metadata": {
        "id": "ANBUdV7E97S3"
      },
      "source": [
        "## Объявление рабочей директории"
      ]
    },
    {
      "cell_type": "markdown",
      "metadata": {
        "id": "3lMtcGAx-VTG"
      },
      "source": [
        "Подключение к Google.Drive в случае работы c Google.Colab"
      ]
    },
    {
      "cell_type": "code",
      "metadata": {
        "id": "fCs60MoO96na",
        "outputId": "b2ba9bc7-9f48-441b-f960-aa5b5fa6a3d0",
        "colab": {
          "base_uri": "https://localhost:8080/",
          "height": 54
        }
      },
      "source": [
        "PROJECT_DIR = os.path.join(DRIVE_DIR, 'projects', PROJECT_NAME) if USE_COLAB else './'\n",
        "WORK_DIR = '/content' if USE_COLAB else PROJECT_DIR\n",
        "print(f\"Project directory is {PROJECT_DIR}\")\n",
        "print(f\"Working directory is {WORK_DIR}\")"
      ],
      "execution_count": 6,
      "outputs": [
        {
          "output_type": "stream",
          "text": [
            "Project directory is /content/drive/My Drive/projects/hack_the_realty_exposition\n",
            "Working directory is /content\n"
          ],
          "name": "stdout"
        }
      ]
    },
    {
      "cell_type": "markdown",
      "metadata": {
        "id": "nBZbmTJtyro3"
      },
      "source": [
        "# Обработка данных"
      ]
    },
    {
      "cell_type": "markdown",
      "metadata": {
        "id": "8v10jmWh7ZEq"
      },
      "source": [
        "На выходе должны быть объявлены переменные:\n",
        "\n",
        "* **X_train_pure**: pd.DataFrame\\\n",
        "id | building_series_id | site_id | parking | build_year | expect_demolition | ~~main_image~~ | latitude | ~~total_area~~ | ceiling_height | rooms | floors_total | living_area | floor | is_apartment | ~~building_id~~ | has_elevator | studio | unified_address | area | kitchen_area | ~~day~~ | longitude | price | flats_count | building_type | balcony | locality_name | renovation | *Month* | *Day* | *DayOfWeek* | *Season* | *District* | *PricePerArea* | *FloorPercantage* | *FloorHeight* | *MainImageNa*\n",
        "\n",
        "* **y_train**: pd.Series\\\n",
        "id | target\n",
        "* **X_valid_pure**: pd.DataFrame\\\n",
        "id | building_series_id | site_id | parking | build_year | expect_demolition | latitude | total_area | ceiling_height | rooms | floors_total | living_area | floor | is_apartment | building_id | has_elevator | studio | unified_address | area | kitchen_area | day | longitude | price | flats_count | building_type | balcony | locality_name | renovation \n",
        "* **y_valid**: pd.Series\\\n",
        "id | target\n",
        "* **X_test_pure**: pd.DataFrame\\\n",
        "id | building_series_id | site_id | parking | build_year | expect_demolition | latitude | total_area | ceiling_height | rooms | floors_total | living_area | floor | is_apartment | building_id | has_elevator | studio | unified_address | area | kitchen_area | day | longitude | price | flats_count | building_type | balcony | locality_name | renovation "
      ]
    },
    {
      "cell_type": "markdown",
      "metadata": {
        "id": "PIApOaBJ6Jvn"
      },
      "source": [
        "## Загрузка"
      ]
    },
    {
      "cell_type": "markdown",
      "metadata": {
        "id": "VnrI6EYm7Bo2"
      },
      "source": [
        "Загрузка train/test датасета в датафреймы\n",
        "\n",
        "На выходе должны быть объявлены две переменные:\n",
        "* train_dataset: pd.Dataframe\n",
        "* test_dataset: pd.Dataframe"
      ]
    },
    {
      "cell_type": "markdown",
      "metadata": {
        "id": "nIGR2HZ6fVFi"
      },
      "source": [
        "### Объявление путей"
      ]
    },
    {
      "cell_type": "code",
      "metadata": {
        "id": "TZygSRNafVFj"
      },
      "source": [
        "src_data_dir_path = os.path.join(PROJECT_DIR, 'data')\n",
        "dist_data_dir = os.path.join(WORK_DIR, 'data')\n",
        "\n",
        "data_archive_path = os.path.join(src_data_dir_path, 'E.zip')"
      ],
      "execution_count": 7,
      "outputs": []
    },
    {
      "cell_type": "markdown",
      "metadata": {
        "id": "ahegeQtfPM3B"
      },
      "source": [
        "### Разархивация"
      ]
    },
    {
      "cell_type": "code",
      "metadata": {
        "id": "ndOKGc8lQ7YX"
      },
      "source": [
        "!unzip -o \"$data_archive_path\" -d \"$dist_data_dir\" > /dev/null"
      ],
      "execution_count": 8,
      "outputs": []
    },
    {
      "cell_type": "markdown",
      "metadata": {
        "id": "c3cEAgZrT0PZ"
      },
      "source": [
        "### Считывание"
      ]
    },
    {
      "cell_type": "code",
      "metadata": {
        "id": "SlgGaj1qT5QJ"
      },
      "source": [
        "train_file_path = os.path.join(dist_data_dir, 'E', 'exposition_train.tsv')\n",
        "test_file_path = os.path.join(dist_data_dir, 'E', 'exposition_test.tsv')\n",
        "\n",
        "train_dataset = pd.read_csv(train_file_path, index_col='id', sep='\\t')\n",
        "test_dataset = pd.read_csv(test_file_path, index_col='id', sep='\\t')"
      ],
      "execution_count": 9,
      "outputs": []
    },
    {
      "cell_type": "markdown",
      "metadata": {
        "id": "rYp375o3sABY"
      },
      "source": [
        "## Визуализация"
      ]
    },
    {
      "cell_type": "markdown",
      "metadata": {
        "id": "j2aBvQjjsB6S"
      },
      "source": [
        "### Просмотр первых строк"
      ]
    },
    {
      "cell_type": "code",
      "metadata": {
        "id": "__PnCfkPsMUE",
        "outputId": "c68267ef-19f3-4c71-dfd7-171c09362d53",
        "colab": {
          "base_uri": "https://localhost:8080/",
          "height": 464
        }
      },
      "source": [
        "train_dataset.head()"
      ],
      "execution_count": 10,
      "outputs": [
        {
          "output_type": "execute_result",
          "data": {
            "text/html": [
              "<div>\n",
              "<style scoped>\n",
              "    .dataframe tbody tr th:only-of-type {\n",
              "        vertical-align: middle;\n",
              "    }\n",
              "\n",
              "    .dataframe tbody tr th {\n",
              "        vertical-align: top;\n",
              "    }\n",
              "\n",
              "    .dataframe thead th {\n",
              "        text-align: right;\n",
              "    }\n",
              "</style>\n",
              "<table border=\"1\" class=\"dataframe\">\n",
              "  <thead>\n",
              "    <tr style=\"text-align: right;\">\n",
              "      <th></th>\n",
              "      <th>building_series_id</th>\n",
              "      <th>site_id</th>\n",
              "      <th>target</th>\n",
              "      <th>parking</th>\n",
              "      <th>target_string</th>\n",
              "      <th>build_year</th>\n",
              "      <th>expect_demolition</th>\n",
              "      <th>main_image</th>\n",
              "      <th>latitude</th>\n",
              "      <th>total_area</th>\n",
              "      <th>ceiling_height</th>\n",
              "      <th>rooms</th>\n",
              "      <th>floors_total</th>\n",
              "      <th>living_area</th>\n",
              "      <th>floor</th>\n",
              "      <th>is_apartment</th>\n",
              "      <th>building_id</th>\n",
              "      <th>has_elevator</th>\n",
              "      <th>studio</th>\n",
              "      <th>unified_address</th>\n",
              "      <th>area</th>\n",
              "      <th>kitchen_area</th>\n",
              "      <th>day</th>\n",
              "      <th>longitude</th>\n",
              "      <th>price</th>\n",
              "      <th>flats_count</th>\n",
              "      <th>building_type</th>\n",
              "      <th>balcony</th>\n",
              "      <th>locality_name</th>\n",
              "      <th>renovation</th>\n",
              "    </tr>\n",
              "    <tr>\n",
              "      <th>id</th>\n",
              "      <th></th>\n",
              "      <th></th>\n",
              "      <th></th>\n",
              "      <th></th>\n",
              "      <th></th>\n",
              "      <th></th>\n",
              "      <th></th>\n",
              "      <th></th>\n",
              "      <th></th>\n",
              "      <th></th>\n",
              "      <th></th>\n",
              "      <th></th>\n",
              "      <th></th>\n",
              "      <th></th>\n",
              "      <th></th>\n",
              "      <th></th>\n",
              "      <th></th>\n",
              "      <th></th>\n",
              "      <th></th>\n",
              "      <th></th>\n",
              "      <th></th>\n",
              "      <th></th>\n",
              "      <th></th>\n",
              "      <th></th>\n",
              "      <th></th>\n",
              "      <th></th>\n",
              "      <th></th>\n",
              "      <th></th>\n",
              "      <th></th>\n",
              "      <th></th>\n",
              "    </tr>\n",
              "  </thead>\n",
              "  <tbody>\n",
              "    <tr>\n",
              "      <th>5677548107212057955</th>\n",
              "      <td>1564812</td>\n",
              "      <td>0</td>\n",
              "      <td>1</td>\n",
              "      <td>OPEN</td>\n",
              "      <td>LESS_7</td>\n",
              "      <td>2005</td>\n",
              "      <td>False</td>\n",
              "      <td>//avatars.mds.yandex.net/get-realty/903734/add...</td>\n",
              "      <td>55.645313</td>\n",
              "      <td>105.000000</td>\n",
              "      <td>3.00</td>\n",
              "      <td>3</td>\n",
              "      <td>20</td>\n",
              "      <td>50.0</td>\n",
              "      <td>14</td>\n",
              "      <td>False</td>\n",
              "      <td>7969879732878112812</td>\n",
              "      <td>True</td>\n",
              "      <td>False</td>\n",
              "      <td>Россия, Москва, Пролетарский проспект, 7</td>\n",
              "      <td>105.000000</td>\n",
              "      <td>15.0</td>\n",
              "      <td>2018-07-15</td>\n",
              "      <td>37.657490</td>\n",
              "      <td>95000</td>\n",
              "      <td>407</td>\n",
              "      <td>MONOLIT</td>\n",
              "      <td>BALCONY</td>\n",
              "      <td>Москва</td>\n",
              "      <td>EURO</td>\n",
              "    </tr>\n",
              "    <tr>\n",
              "      <th>155646401125694364</th>\n",
              "      <td>1564812</td>\n",
              "      <td>0</td>\n",
              "      <td>2</td>\n",
              "      <td>CLOSED</td>\n",
              "      <td>7_14</td>\n",
              "      <td>2010</td>\n",
              "      <td>False</td>\n",
              "      <td>//avatars.mds.yandex.net/get-realty/1702013/ad...</td>\n",
              "      <td>55.537102</td>\n",
              "      <td>40.000000</td>\n",
              "      <td>3.00</td>\n",
              "      <td>1</td>\n",
              "      <td>3</td>\n",
              "      <td>0.0</td>\n",
              "      <td>1</td>\n",
              "      <td>False</td>\n",
              "      <td>7667415960903930340</td>\n",
              "      <td>False</td>\n",
              "      <td>False</td>\n",
              "      <td>Россия, Москва, посёлок Первомайское, Централь...</td>\n",
              "      <td>40.000000</td>\n",
              "      <td>10.0</td>\n",
              "      <td>2019-01-18</td>\n",
              "      <td>37.155632</td>\n",
              "      <td>25000</td>\n",
              "      <td>40</td>\n",
              "      <td>MONOLIT</td>\n",
              "      <td>UNKNOWN</td>\n",
              "      <td>посёлок Первомайское</td>\n",
              "      <td>COSMETIC_DONE</td>\n",
              "    </tr>\n",
              "    <tr>\n",
              "      <th>9186198458182518100</th>\n",
              "      <td>663302</td>\n",
              "      <td>0</td>\n",
              "      <td>2</td>\n",
              "      <td>OPEN</td>\n",
              "      <td>7_14</td>\n",
              "      <td>1995</td>\n",
              "      <td>False</td>\n",
              "      <td>//avatars.mds.yandex.net/get-realty/924080/add...</td>\n",
              "      <td>55.662956</td>\n",
              "      <td>37.599998</td>\n",
              "      <td>2.64</td>\n",
              "      <td>0</td>\n",
              "      <td>17</td>\n",
              "      <td>0.0</td>\n",
              "      <td>4</td>\n",
              "      <td>False</td>\n",
              "      <td>7166215405310646476</td>\n",
              "      <td>True</td>\n",
              "      <td>True</td>\n",
              "      <td>Россия, Москва, улица Намёткина, 13к1</td>\n",
              "      <td>37.599998</td>\n",
              "      <td>0.0</td>\n",
              "      <td>2018-04-24</td>\n",
              "      <td>37.555466</td>\n",
              "      <td>26000</td>\n",
              "      <td>472</td>\n",
              "      <td>PANEL</td>\n",
              "      <td>LOGGIA</td>\n",
              "      <td>Москва</td>\n",
              "      <td>GOOD</td>\n",
              "    </tr>\n",
              "    <tr>\n",
              "      <th>10844743366553352344</th>\n",
              "      <td>1564812</td>\n",
              "      <td>0</td>\n",
              "      <td>2</td>\n",
              "      <td>OPEN</td>\n",
              "      <td>7_14</td>\n",
              "      <td>2018</td>\n",
              "      <td>False</td>\n",
              "      <td>//avatars.mds.yandex.net/get-realty/1521999/ad...</td>\n",
              "      <td>55.669151</td>\n",
              "      <td>80.000000</td>\n",
              "      <td>0.00</td>\n",
              "      <td>3</td>\n",
              "      <td>27</td>\n",
              "      <td>49.0</td>\n",
              "      <td>23</td>\n",
              "      <td>False</td>\n",
              "      <td>2039402855860137453</td>\n",
              "      <td>True</td>\n",
              "      <td>False</td>\n",
              "      <td>Россия, Московская область, Одинцово, Верхне-П...</td>\n",
              "      <td>80.000000</td>\n",
              "      <td>20.0</td>\n",
              "      <td>2019-02-19</td>\n",
              "      <td>37.285000</td>\n",
              "      <td>35000</td>\n",
              "      <td>156</td>\n",
              "      <td>PANEL</td>\n",
              "      <td>UNKNOWN</td>\n",
              "      <td>Одинцово</td>\n",
              "      <td>GOOD</td>\n",
              "    </tr>\n",
              "    <tr>\n",
              "      <th>3712912186792420056</th>\n",
              "      <td>1564812</td>\n",
              "      <td>0</td>\n",
              "      <td>3</td>\n",
              "      <td>UNKNOWN</td>\n",
              "      <td>14_30</td>\n",
              "      <td>2004</td>\n",
              "      <td>False</td>\n",
              "      <td>//avatars.mds.yandex.net/get-realty/50286/f5c8...</td>\n",
              "      <td>55.828518</td>\n",
              "      <td>100.000000</td>\n",
              "      <td>3.00</td>\n",
              "      <td>3</td>\n",
              "      <td>4</td>\n",
              "      <td>0.0</td>\n",
              "      <td>3</td>\n",
              "      <td>False</td>\n",
              "      <td>4638454967482853510</td>\n",
              "      <td>True</td>\n",
              "      <td>False</td>\n",
              "      <td>Россия, Москва, улица Рословка, 12к1</td>\n",
              "      <td>100.000000</td>\n",
              "      <td>0.0</td>\n",
              "      <td>2017-08-08</td>\n",
              "      <td>37.361897</td>\n",
              "      <td>80000</td>\n",
              "      <td>31</td>\n",
              "      <td>MONOLIT</td>\n",
              "      <td>UNKNOWN</td>\n",
              "      <td>Москва</td>\n",
              "      <td>EURO</td>\n",
              "    </tr>\n",
              "  </tbody>\n",
              "</table>\n",
              "</div>"
            ],
            "text/plain": [
              "                      building_series_id  ...     renovation\n",
              "id                                        ...               \n",
              "5677548107212057955              1564812  ...           EURO\n",
              "155646401125694364               1564812  ...  COSMETIC_DONE\n",
              "9186198458182518100               663302  ...           GOOD\n",
              "10844743366553352344             1564812  ...           GOOD\n",
              "3712912186792420056              1564812  ...           EURO\n",
              "\n",
              "[5 rows x 30 columns]"
            ]
          },
          "metadata": {
            "tags": []
          },
          "execution_count": 10
        }
      ]
    },
    {
      "cell_type": "markdown",
      "metadata": {
        "id": "OZ4V81uqoJpT"
      },
      "source": [
        "### Проверка на пропуски"
      ]
    },
    {
      "cell_type": "code",
      "metadata": {
        "id": "5HwBdiq7oNhZ",
        "outputId": "3f0f9963-58e8-4770-d227-4253ac1d898b",
        "colab": {
          "base_uri": "https://localhost:8080/",
          "height": 602
        }
      },
      "source": [
        "train_dataset.isna().sum()"
      ],
      "execution_count": 11,
      "outputs": [
        {
          "output_type": "execute_result",
          "data": {
            "text/plain": [
              "building_series_id       0\n",
              "site_id                  0\n",
              "target                   0\n",
              "parking                  0\n",
              "target_string            0\n",
              "build_year               0\n",
              "expect_demolition        0\n",
              "main_image            1097\n",
              "latitude                 0\n",
              "total_area               0\n",
              "ceiling_height           0\n",
              "rooms                    0\n",
              "floors_total             0\n",
              "living_area              0\n",
              "floor                    0\n",
              "is_apartment             0\n",
              "building_id              0\n",
              "has_elevator             0\n",
              "studio                   0\n",
              "unified_address          0\n",
              "area                     0\n",
              "kitchen_area             0\n",
              "day                      0\n",
              "longitude                0\n",
              "price                    0\n",
              "flats_count              0\n",
              "building_type            0\n",
              "balcony                  0\n",
              "locality_name            0\n",
              "renovation               0\n",
              "dtype: int64"
            ]
          },
          "metadata": {
            "tags": []
          },
          "execution_count": 11
        }
      ]
    },
    {
      "cell_type": "markdown",
      "metadata": {
        "id": "W2f3hsPHrdOd"
      },
      "source": [
        "### Изучение различных полей"
      ]
    },
    {
      "cell_type": "markdown",
      "metadata": {
        "id": "bj2WiZsMrH76"
      },
      "source": [
        "* building_series_id"
      ]
    },
    {
      "cell_type": "code",
      "metadata": {
        "id": "NpvMmAQWrKBG",
        "outputId": "9033962a-d2cb-400a-b500-5573629eae57",
        "colab": {
          "base_uri": "https://localhost:8080/",
          "height": 35
        }
      },
      "source": [
        "assert (train_dataset.building_series_id == 0).sum() > 0\n",
        "assert (test_dataset.building_series_id == 0).sum() > 0\n",
        "\n",
        "print('Есть объявления, для которых не указан id серии дома')"
      ],
      "execution_count": 12,
      "outputs": [
        {
          "output_type": "stream",
          "text": [
            "Есть объявления, для которых не указан id серии дома\n"
          ],
          "name": "stdout"
        }
      ]
    },
    {
      "cell_type": "markdown",
      "metadata": {
        "id": "mTFgh5zirrz-"
      },
      "source": [
        "* site_id"
      ]
    },
    {
      "cell_type": "code",
      "metadata": {
        "id": "wf1gG9FirwB8",
        "outputId": "29989c84-1663-4150-9d21-424bf5208a3a",
        "colab": {
          "base_uri": "https://localhost:8080/",
          "height": 35
        }
      },
      "source": [
        "assert (train_dataset.site_id == 0).sum() > 0\n",
        "assert (test_dataset.site_id == 0).sum() > 0\n",
        "\n",
        "print('Есть объявления, для которых не указан id жилого комплекса')"
      ],
      "execution_count": 13,
      "outputs": [
        {
          "output_type": "stream",
          "text": [
            "Есть объявления, для которых не указан id жилого комплекса\n"
          ],
          "name": "stdout"
        }
      ]
    },
    {
      "cell_type": "markdown",
      "metadata": {
        "id": "i3rxblFysC5a"
      },
      "source": [
        "* build_year"
      ]
    },
    {
      "cell_type": "code",
      "metadata": {
        "id": "OmMu1G7EsD8i",
        "outputId": "05b79503-fc51-4720-fcb6-606dcaa40d6e",
        "colab": {
          "base_uri": "https://localhost:8080/",
          "height": 35
        }
      },
      "source": [
        "assert (train_dataset.build_year == 0).sum() > 0\n",
        "assert (test_dataset.build_year == 0).sum() > 0\n",
        "\n",
        "print('Есть объявления, для которых не указан год постройки')"
      ],
      "execution_count": 14,
      "outputs": [
        {
          "output_type": "stream",
          "text": [
            "Есть объявления, для которых не указан год постройки\n"
          ],
          "name": "stdout"
        }
      ]
    },
    {
      "cell_type": "markdown",
      "metadata": {
        "id": "TI-CkopQsU21"
      },
      "source": [
        "* parking"
      ]
    },
    {
      "cell_type": "code",
      "metadata": {
        "id": "2l3oWywPsgSM",
        "outputId": "f39f3bf9-024d-4e50-e9d2-78a496e9dccb",
        "colab": {
          "base_uri": "https://localhost:8080/",
          "height": 92
        }
      },
      "source": [
        "Counter(train_dataset.parking)"
      ],
      "execution_count": 15,
      "outputs": [
        {
          "output_type": "execute_result",
          "data": {
            "text/plain": [
              "Counter({'CLOSED': 2170,\n",
              "         'OPEN': 32650,\n",
              "         'UNDERGROUND': 3346,\n",
              "         'UNKNOWN': 318334})"
            ]
          },
          "metadata": {
            "tags": []
          },
          "execution_count": 15
        }
      ]
    },
    {
      "cell_type": "markdown",
      "metadata": {
        "id": "gBmxeS57squt"
      },
      "source": [
        "* expect_demolition "
      ]
    },
    {
      "cell_type": "code",
      "metadata": {
        "id": "NARBfvdlsr-z",
        "outputId": "4f85cd70-a2d3-4f72-ac06-ead681dc20a1",
        "colab": {
          "base_uri": "https://localhost:8080/",
          "height": 35
        }
      },
      "source": [
        "Counter(train_dataset.expect_demolition)"
      ],
      "execution_count": 16,
      "outputs": [
        {
          "output_type": "execute_result",
          "data": {
            "text/plain": [
              "Counter({False: 341610, True: 14890})"
            ]
          },
          "metadata": {
            "tags": []
          },
          "execution_count": 16
        }
      ]
    },
    {
      "cell_type": "markdown",
      "metadata": {
        "id": "8IzgBJLzs58W"
      },
      "source": [
        "* flats_count"
      ]
    },
    {
      "cell_type": "code",
      "metadata": {
        "id": "8_NR-lSds9EC",
        "outputId": "0d5afd06-c508-4ec5-85fd-f2c20e8e68aa",
        "colab": {
          "base_uri": "https://localhost:8080/",
          "height": 35
        }
      },
      "source": [
        "assert (train_dataset.flats_count == 0).sum() > 0\n",
        "assert (test_dataset.flats_count == 0).sum() > 0\n",
        "\n",
        "print('Есть объявления, для которых не указано количество квартир в доме')"
      ],
      "execution_count": 17,
      "outputs": [
        {
          "output_type": "stream",
          "text": [
            "Есть объявления, для которых не указано количество квартир в доме\n"
          ],
          "name": "stdout"
        }
      ]
    },
    {
      "cell_type": "markdown",
      "metadata": {
        "id": "zHadAp6MtqFf"
      },
      "source": [
        "* floors_total"
      ]
    },
    {
      "cell_type": "code",
      "metadata": {
        "id": "ADTSgAn4tr43",
        "outputId": "a4cbafad-cfd2-438d-cb67-bcd501e2a402",
        "colab": {
          "base_uri": "https://localhost:8080/",
          "height": 35
        }
      },
      "source": [
        "assert (train_dataset.floors_total == 0).sum() == 0\n",
        "assert (test_dataset.floors_total == 0).sum() == 0\n",
        "\n",
        "print('Для всех объявлений указано количество этажей в доме')"
      ],
      "execution_count": 18,
      "outputs": [
        {
          "output_type": "stream",
          "text": [
            "Для всех объявлений указано количество этажей в доме\n"
          ],
          "name": "stdout"
        }
      ]
    },
    {
      "cell_type": "markdown",
      "metadata": {
        "id": "9rtr_WS3t1_U"
      },
      "source": [
        "* floor"
      ]
    },
    {
      "cell_type": "code",
      "metadata": {
        "id": "2NBCVrgot5NH",
        "outputId": "3f92be1d-2b01-4b4c-d715-b7d92aa5c143",
        "colab": {
          "base_uri": "https://localhost:8080/",
          "height": 35
        }
      },
      "source": [
        "assert (train_dataset.floor == 0).sum() == 0\n",
        "assert (test_dataset.floor == 0).sum() == 0\n",
        "\n",
        "print('Для всех объявлений указан этаж квартиры')"
      ],
      "execution_count": 19,
      "outputs": [
        {
          "output_type": "stream",
          "text": [
            "Для всех объявлений указан этаж квартиры\n"
          ],
          "name": "stdout"
        }
      ]
    },
    {
      "cell_type": "markdown",
      "metadata": {
        "id": "4Q-6J4isrgdL"
      },
      "source": [
        "* total_area и area"
      ]
    },
    {
      "cell_type": "code",
      "metadata": {
        "id": "xNiW2HMVrmw7",
        "outputId": "480cbfd4-3538-41f1-c3c0-262a1fc4fc96",
        "colab": {
          "base_uri": "https://localhost:8080/",
          "height": 35
        }
      },
      "source": [
        "assert len(train_dataset[train_dataset.total_area != train_dataset.area]) == 0\n",
        "assert len(test_dataset[test_dataset.total_area != test_dataset.area]) == 0\n",
        "\n",
        "print(\"Поля total_area и area дубликаты\")"
      ],
      "execution_count": 20,
      "outputs": [
        {
          "output_type": "stream",
          "text": [
            "Поля total_area и area дубликаты\n"
          ],
          "name": "stdout"
        }
      ]
    },
    {
      "cell_type": "code",
      "metadata": {
        "id": "XAZabJxAnau2",
        "outputId": "2eb8593c-0ce6-4c41-fc50-61e5eab7f8ae",
        "colab": {
          "base_uri": "https://localhost:8080/",
          "height": 35
        }
      },
      "source": [
        "assert (train_dataset.total_area == 0).sum() == 0\n",
        "assert (test_dataset.total_area == 0).sum() == 0\n",
        "\n",
        "print(\"Для всех объявлений указана цена за квадратный метр\")"
      ],
      "execution_count": 21,
      "outputs": [
        {
          "output_type": "stream",
          "text": [
            "Для всех объявлений указана цена за квадратный метр\n"
          ],
          "name": "stdout"
        }
      ]
    },
    {
      "cell_type": "markdown",
      "metadata": {
        "id": "6rTZGuYipfkp"
      },
      "source": [
        "* living_area\n"
      ]
    },
    {
      "cell_type": "code",
      "metadata": {
        "id": "tvZ2IOs-pj2H",
        "outputId": "a2d1c0d9-ad68-4148-9a25-194aeeaa8cd3",
        "colab": {
          "base_uri": "https://localhost:8080/",
          "height": 35
        }
      },
      "source": [
        "assert (train_dataset.living_area == 0).sum() > 0\n",
        "assert (test_dataset.living_area == 0).sum() > 0\n",
        "\n",
        "print(\"Есть объявления, для которых не указана жилая площадь\")"
      ],
      "execution_count": 22,
      "outputs": [
        {
          "output_type": "stream",
          "text": [
            "Есть объявления, для которых не указана жилая площадь\n"
          ],
          "name": "stdout"
        }
      ]
    },
    {
      "cell_type": "markdown",
      "metadata": {
        "id": "L0dQ1raaq5uX"
      },
      "source": [
        "* kitchen_area"
      ]
    },
    {
      "cell_type": "code",
      "metadata": {
        "id": "QJG70rY5q82-",
        "outputId": "fc77cbcd-197a-4341-fd86-c1f3941f1034",
        "colab": {
          "base_uri": "https://localhost:8080/",
          "height": 35
        }
      },
      "source": [
        "assert (train_dataset.kitchen_area == 0).sum() > 0\n",
        "assert (test_dataset.kitchen_area == 0).sum() > 0\n",
        "\n",
        "print(\"Есть объявления, для которых не указана площадь кухни\")"
      ],
      "execution_count": 23,
      "outputs": [
        {
          "output_type": "stream",
          "text": [
            "Есть объявления, для которых не указана площадь кухни\n"
          ],
          "name": "stdout"
        }
      ]
    },
    {
      "cell_type": "markdown",
      "metadata": {
        "id": "t89Ho9UMpi73"
      },
      "source": [
        "* ceiling_height"
      ]
    },
    {
      "cell_type": "code",
      "metadata": {
        "id": "1IXWLtSCp8M3",
        "outputId": "27d7b0f3-0d70-4e9f-c41e-6b1cb234324e",
        "colab": {
          "base_uri": "https://localhost:8080/",
          "height": 35
        }
      },
      "source": [
        "assert (train_dataset.ceiling_height == 0).sum() > 0\n",
        "assert (test_dataset.ceiling_height == 0).sum() > 0\n",
        "\n",
        "print('Есть объявления, для которых не указана высота потолка')"
      ],
      "execution_count": 24,
      "outputs": [
        {
          "output_type": "stream",
          "text": [
            "Есть объявления, для которых не указана высота потолка\n"
          ],
          "name": "stdout"
        }
      ]
    },
    {
      "cell_type": "code",
      "metadata": {
        "id": "ZtaB06r0wpm5",
        "outputId": "23f8a3b2-430b-42ea-c78c-47a179855d12",
        "colab": {
          "base_uri": "https://localhost:8080/",
          "height": 54
        }
      },
      "source": [
        "print('Средняя высота потолков в трейне:', train_dataset[train_dataset.ceiling_height != 0].ceiling_height.mean())\n",
        "print('Средняя высота потолков в тесте:', test_dataset[test_dataset.ceiling_height != 0].ceiling_height.mean())"
      ],
      "execution_count": 25,
      "outputs": [
        {
          "output_type": "stream",
          "text": [
            "Средняя высота потолков в трейне: 2.7693942716492055\n",
            "Средняя высота потолков в тесте: 2.780900751373181\n"
          ],
          "name": "stdout"
        }
      ]
    },
    {
      "cell_type": "markdown",
      "metadata": {
        "id": "4VFZsEP1nyK0"
      },
      "source": [
        "* price"
      ]
    },
    {
      "cell_type": "code",
      "metadata": {
        "id": "1IhstJ1en0mU",
        "outputId": "27cb7180-bbe3-4b4a-bbcd-b211914a511b",
        "colab": {
          "base_uri": "https://localhost:8080/",
          "height": 35
        }
      },
      "source": [
        "assert (train_dataset.price == 0).sum() == 0\n",
        "assert (test_dataset.price == 0).sum() == 0\n",
        "\n",
        "print(\"Для всех объявлений указана цена\")"
      ],
      "execution_count": 26,
      "outputs": [
        {
          "output_type": "stream",
          "text": [
            "Для всех объявлений указана цена\n"
          ],
          "name": "stdout"
        }
      ]
    },
    {
      "cell_type": "markdown",
      "metadata": {
        "id": "Ky5eqVCosNZj"
      },
      "source": [
        "* day"
      ]
    },
    {
      "cell_type": "code",
      "metadata": {
        "id": "m2gwylVXnbGV",
        "outputId": "162bfd7a-4a6d-480f-9d3c-1b6a518adb17",
        "colab": {
          "base_uri": "https://localhost:8080/",
          "height": 54
        }
      },
      "source": [
        "print(train_dataset['day'].min())\n",
        "print(train_dataset['day'].max())"
      ],
      "execution_count": 27,
      "outputs": [
        {
          "output_type": "stream",
          "text": [
            "2017-01-01\n",
            "2019-10-31\n"
          ],
          "name": "stdout"
        }
      ]
    },
    {
      "cell_type": "code",
      "metadata": {
        "id": "2IoNcUGVnfgi",
        "outputId": "592c8545-acf4-4737-edb6-e57b99d9d7da",
        "colab": {
          "base_uri": "https://localhost:8080/",
          "height": 54
        }
      },
      "source": [
        "print(test_dataset['day'].min())\n",
        "print(test_dataset['day'].max())"
      ],
      "execution_count": 28,
      "outputs": [
        {
          "output_type": "stream",
          "text": [
            "2019-11-01\n",
            "2020-03-31\n"
          ],
          "name": "stdout"
        }
      ]
    },
    {
      "cell_type": "markdown",
      "metadata": {
        "id": "UFaiEJicPwHb"
      },
      "source": [
        "* main_image"
      ]
    },
    {
      "cell_type": "code",
      "metadata": {
        "id": "0joXKVGUPd3q",
        "outputId": "d9853ad1-f435-4733-9446-3ec6b84aa778",
        "colab": {
          "base_uri": "https://localhost:8080/",
          "height": 54
        }
      },
      "source": [
        "assert train_dataset['main_image'].isna().sum() > 0\n",
        "print('В тренировочном датасете есть объявления без изображения')\n",
        "assert test_dataset['main_image'].isna().sum() > 0\n",
        "print('В тестовом датасете есть объявления без изображения')"
      ],
      "execution_count": 29,
      "outputs": [
        {
          "output_type": "stream",
          "text": [
            "В тренировочном датасете есть объявления без изображения\n",
            "В тестовом датасете есть объявления без изображения\n"
          ],
          "name": "stdout"
        }
      ]
    },
    {
      "cell_type": "markdown",
      "metadata": {
        "id": "3npuEMZ5XAFB"
      },
      "source": [
        "## Финальная обработка"
      ]
    },
    {
      "cell_type": "markdown",
      "metadata": {
        "id": "F_KnTaGl-cHW"
      },
      "source": [
        "\n",
        "На выходе должны быть объявлены переменные:\n",
        "\n",
        "* **X_train_pure**: pd.DataFrame\n",
        "\n",
        "* **y_train**: pd.Series\n",
        "\n",
        "* **X_valid_pure**: pd.DataFrame\n",
        "\n",
        "* **y_valid**: pd.Series\n",
        "\n",
        "* **X_test_pure**: pd.DataFrame\n"
      ]
    },
    {
      "cell_type": "markdown",
      "metadata": {
        "id": "gp-RiW4tXbxW"
      },
      "source": [
        "### Извлечение выборки и таргета\n"
      ]
    },
    {
      "cell_type": "code",
      "metadata": {
        "id": "XTx9aq_Gql0l"
      },
      "source": [
        "train_dataset = train_dataset.sort_values(by='day')\n",
        "\n",
        "partition = int(len(train_dataset) * (1 - VALIDATE_RATIO))\n",
        "train_train_dataset = train_dataset.iloc[:partition]\n",
        "train_valid_dataset = train_dataset.iloc[partition:]\n",
        "\n",
        "X_train_train_pure = train_train_dataset.drop('target', axis=1)\n",
        "X_train_train_pure = X_train_train_pure.drop('target_string', axis=1)\n",
        "y_train_train = train_train_dataset['target']\n",
        "\n",
        "X_train_valid_pure = train_valid_dataset.drop('target', axis=1)\n",
        "X_train_valid_pure = X_train_valid_pure.drop('target_string', axis=1)\n",
        "y_train_valid = train_valid_dataset['target']\n",
        "X_test_pure = test_dataset"
      ],
      "execution_count": 30,
      "outputs": []
    },
    {
      "cell_type": "markdown",
      "metadata": {
        "id": "BD6LbHoswfKh"
      },
      "source": [
        "### Добавление дополнительных признаков и удаление ненужных"
      ]
    },
    {
      "cell_type": "code",
      "metadata": {
        "id": "zrWgxyiDwj9p"
      },
      "source": [
        "def add_time_features(X):\n",
        "    datetime_series = pd.to_datetime(X['day'], format='%Y-%m-%d')\n",
        "    X['Month'] = pd.DatetimeIndex(datetime_series).month\n",
        "    X['Day'] = pd.DatetimeIndex(datetime_series).day\n",
        "    X['DayOfWeek'] = pd.DatetimeIndex(datetime_series).dayofweek\n",
        "    X['Season'] = (X['Month'] % 12 + 3) // 3\n",
        "    return X\n",
        "\n",
        "def add_adress_features(X):\n",
        "    X['District'] = X.unified_address.map(lambda x: x.split(', ')[-2])\n",
        "    return X\n",
        "\n",
        "def add_price_per_area_features(X):\n",
        "    X['PricePerTotalArea'] = X['price'] / X['area']\n",
        "    return X\n",
        "\n",
        "def add_floor_features(X):\n",
        "    X['FloorPercantage'] = X['floor'] / X['floors_total']\n",
        "    ceiling_height = X.ceiling_height.where(X.ceiling_height != 0, 2.77)\n",
        "    X['FloorHeight'] = X['floor'] * ceiling_height\n",
        "    return X\n",
        "\n",
        "def add_missing_features(X):\n",
        "    X['MainImageNa'] = X.main_image.isna()\n",
        "    return X\n",
        "\n",
        "def drop_columns(X):\n",
        "    dropped_columns = [\n",
        "        'day', 'total_area', 'main_image', 'building_id'\n",
        "    ]\n",
        "    return X.drop(dropped_columns, axis=1)\n",
        "\n",
        "def prepare_sample(X):\n",
        "    X = X.copy()\n",
        "    X = add_time_features(X)\n",
        "    X = add_adress_features(X)\n",
        "    X = add_price_per_area_features(X)\n",
        "    X = add_floor_features(X)\n",
        "    X = add_missing_features(X)\n",
        "    X = drop_columns(X)\n",
        "    return X"
      ],
      "execution_count": 80,
      "outputs": []
    },
    {
      "cell_type": "code",
      "metadata": {
        "id": "u-m9DEy40Ykh"
      },
      "source": [
        "X_train_train = prepare_sample(X_train_train_pure)\n",
        "X_train_valid = prepare_sample(X_train_valid_pure)\n",
        "X_test = prepare_sample(X_test_pure)"
      ],
      "execution_count": 81,
      "outputs": []
    },
    {
      "cell_type": "code",
      "metadata": {
        "id": "DmtGf8Bo-mqb",
        "outputId": "ae3e4693-2bf4-40e3-ce4e-c427bc2e291b",
        "colab": {
          "base_uri": "https://localhost:8080/",
          "height": 167
        }
      },
      "source": [
        "X_train_valid.columns"
      ],
      "execution_count": 55,
      "outputs": [
        {
          "output_type": "execute_result",
          "data": {
            "text/plain": [
              "Index(['building_series_id', 'site_id', 'parking', 'build_year',\n",
              "       'expect_demolition', 'latitude', 'ceiling_height', 'rooms',\n",
              "       'floors_total', 'living_area', 'floor', 'is_apartment', 'has_elevator',\n",
              "       'studio', 'unified_address', 'area', 'kitchen_area', 'longitude',\n",
              "       'price', 'flats_count', 'building_type', 'balcony', 'locality_name',\n",
              "       'renovation', 'Month', 'Day', 'DayOfWeek', 'Season', 'District',\n",
              "       'PricePerTotalArea', 'FloorPercantage', 'FloorHeight', 'MainImageNa'],\n",
              "      dtype='object')"
            ]
          },
          "metadata": {
            "tags": []
          },
          "execution_count": 55
        }
      ]
    },
    {
      "cell_type": "markdown",
      "metadata": {
        "id": "YV16B-nOFVRf"
      },
      "source": [
        "# Эксперименты с обучением\n",
        "\n",
        "На выходе должны быть объявлены переменные\n",
        "\n",
        "* **y_test_predicted**: pd.Series \\\n",
        "Id | Target\n",
        "* **SUBMISSTION_FILE_NAME**: string\\\n",
        "Названия файла для сохранения"
      ]
    },
    {
      "cell_type": "markdown",
      "metadata": {
        "id": "aYb4oyryFYiC"
      },
      "source": [
        "## Catboost"
      ]
    },
    {
      "cell_type": "markdown",
      "metadata": {
        "id": "IZb0IrWuGc3S"
      },
      "source": [
        "### Объявление loss функции"
      ]
    },
    {
      "cell_type": "code",
      "metadata": {
        "id": "oqavqleJGgbP"
      },
      "source": [
        "class LossFunction(object):\n",
        "    def calc_ders_range(self, approxes, targets, weights):\n",
        "        assert len(approxes) == len(targets)\n",
        "        if weights is not None:\n",
        "            assert len(weights) == len(approxes)\n",
        "        \n",
        "        result = []\n",
        "        for index in range(len(targets)):\n",
        "            der1 = targets[index] - approxes[index]\n",
        "            sign = -1 if  approxes[index] < targets[index] else 1\n",
        "            der2 = math.exp(abs(targets[index] - approxes[index]))\n",
        "            der1 = der2 * sign\n",
        "\n",
        "            if weights is not None:\n",
        "                der1 *= weights[index]\n",
        "                der2 *= weights[index]\n",
        "\n",
        "            result.append((der1, der2))\n",
        "        return result\n"
      ],
      "execution_count": 82,
      "outputs": []
    },
    {
      "cell_type": "code",
      "metadata": {
        "id": "vIla8Q-Gezgj"
      },
      "source": [
        "class SmoothLossFunction(object):\n",
        "    def calc_ders_range(self, approxes, targets, weights):\n",
        "        assert len(approxes) == len(targets)\n",
        "        if weights is not None:\n",
        "            assert len(weights) == len(approxes)\n",
        "        \n",
        "        result = []\n",
        "        for index in range(len(targets)):\n",
        "            clip_approx = max(min(approxes[index], 6.), 0)\n",
        "            dist = clip_approx - targets[index]\n",
        "            der1 = math.exp(dist ** 2) * 2 * dist\n",
        "            der2 = der1*2*dist + math.exp(dist ** 2)*2\n",
        "\n",
        "            if weights is not None:\n",
        "                der1 *= weights[index]\n",
        "                der2 *= weights[index]\n",
        "\n",
        "            result.append((der1, der2))\n",
        "        return np.vstack([der1, der2]).T"
      ],
      "execution_count": 83,
      "outputs": []
    },
    {
      "cell_type": "code",
      "metadata": {
        "id": "jfepHgxZYf0j"
      },
      "source": [
        "class EvalMetric(LossFunction):\n",
        "    def is_max_optimal(self):\n",
        "        return True\n",
        "\n",
        "    def evaluate(self, approxes, target, weight):\n",
        "        assert len(approxes) == 1\n",
        "        assert len(target) == len(approxes[0])\n",
        "\n",
        "        approx = approxes[0]\n",
        "\n",
        "        error_sum = 0.0\n",
        "        weight_sum = 0.0\n",
        "\n",
        "        for i in range(len(approx)):\n",
        "            w = 1.0 if weight is None else weight[i]\n",
        "            weight_sum += w\n",
        "            clip_approx = max(min(approx[i], 6.), 0.)\n",
        "            error = -(math.exp(abs(clip_approx - target[i])) - 1)\n",
        "            error_sum += error\n",
        "\n",
        "        return error_sum, weight_sum\n",
        "    \n",
        "    def get_final_error(self, error, weight):\n",
        "        return error / (weight + 1e-38)"
      ],
      "execution_count": 84,
      "outputs": []
    },
    {
      "cell_type": "markdown",
      "metadata": {
        "id": "AYEJHFb6cGo3"
      },
      "source": [
        "### Объявление пула и параметров"
      ]
    },
    {
      "cell_type": "code",
      "metadata": {
        "id": "yBK-GPNbFa3M"
      },
      "source": [
        "cat_features = [\n",
        "    'building_series_id', 'site_id', 'parking', 'expect_demolition',\n",
        "    'is_apartment', 'unified_address', 'has_elevator', 'studio', 'building_type',\n",
        "    'balcony', 'locality_name', 'renovation', 'District', 'MainImageNa'\n",
        "]\n",
        "ignored_features = [\n",
        "]\n",
        "train_train_pool = Pool(\n",
        "    X_train_train,\n",
        "    y_train_train,\n",
        "    cat_features=cat_features\n",
        ")\n",
        "train_valid_pool = Pool(\n",
        "    X_train_valid,\n",
        "    y_train_valid,\n",
        "    cat_features=cat_features\n",
        ")\n",
        "params = {\n",
        "    'iterations': 300,\n",
        "    'learning_rate': 0.14,\n",
        "    'eval_metric': EvalMetric(),\n",
        "    'loss_function': SmoothLossFunction(),\n",
        "#     'random_seed': 113,\n",
        "    # 'logging_level': 'Silent',\n",
        "    'use_best_model': False,\n",
        "    'ignored_features': ignored_features,\n",
        "    'thread_count': 8\n",
        "}"
      ],
      "execution_count": 46,
      "outputs": []
    },
    {
      "cell_type": "markdown",
      "metadata": {
        "id": "DtsY2ubtcRFh"
      },
      "source": [
        "### Обучение с валидацией"
      ]
    },
    {
      "cell_type": "code",
      "metadata": {
        "id": "P2b66TLUeWqK",
        "outputId": "a253c79d-5d30-423e-c427-aaf5a41cf28d",
        "colab": {
          "base_uri": "https://localhost:8080/",
          "height": 1000
        }
      },
      "source": [
        "%%time\n",
        "model = CatBoostRegressor(**params)\n",
        "model.fit(train_train_pool, eval_set=train_valid_pool)"
      ],
      "execution_count": 47,
      "outputs": [
        {
          "output_type": "stream",
          "text": [
            "0:\tlearn: -44.1994023\ttest: -43.3778909\tbest: -43.3778909 (0)\ttotal: 2.71s\tremaining: 13m 29s\n",
            "1:\tlearn: -43.5695793\ttest: -42.7577052\tbest: -42.7577052 (1)\ttotal: 5.25s\tremaining: 13m 2s\n",
            "2:\tlearn: -42.9587104\ttest: -42.1579440\tbest: -42.1579440 (2)\ttotal: 7.62s\tremaining: 12m 34s\n",
            "3:\tlearn: -42.3551482\ttest: -41.5651572\tbest: -41.5651572 (3)\ttotal: 9.98s\tremaining: 12m 18s\n"
          ],
          "name": "stdout"
        },
        {
          "output_type": "error",
          "ename": "CatBoostError",
          "evalue": "ignored",
          "traceback": [
            "\u001b[0;31m---------------------------------------------------------------------------\u001b[0m",
            "\u001b[0;31mTypeError\u001b[0m                                 Traceback (most recent call last)",
            "\u001b[0;32m_catboost.pyx\u001b[0m in \u001b[0;36m_catboost._MetricEval\u001b[0;34m()\u001b[0m\n",
            "\u001b[0;32m<ipython-input-36-74427c0c03ad>\u001b[0m in \u001b[0;36mevaluate\u001b[0;34m(self, approxes, target, weight)\u001b[0m\n\u001b[1;32m     16\u001b[0m             \u001b[0mweight_sum\u001b[0m \u001b[0;34m+=\u001b[0m \u001b[0mw\u001b[0m\u001b[0;34m\u001b[0m\u001b[0;34m\u001b[0m\u001b[0m\n\u001b[0;32m---> 17\u001b[0;31m             \u001b[0mapprox\u001b[0m \u001b[0;34m=\u001b[0m \u001b[0mmax\u001b[0m\u001b[0;34m(\u001b[0m\u001b[0mmin\u001b[0m\u001b[0;34m(\u001b[0m\u001b[0mapprox\u001b[0m\u001b[0;34m[\u001b[0m\u001b[0mi\u001b[0m\u001b[0;34m]\u001b[0m\u001b[0;34m,\u001b[0m \u001b[0;36m6.\u001b[0m\u001b[0;34m)\u001b[0m\u001b[0;34m,\u001b[0m \u001b[0;36m0.\u001b[0m\u001b[0;34m)\u001b[0m\u001b[0;34m\u001b[0m\u001b[0;34m\u001b[0m\u001b[0m\n\u001b[0m\u001b[1;32m     18\u001b[0m             \u001b[0merror\u001b[0m \u001b[0;34m=\u001b[0m \u001b[0;34m-\u001b[0m\u001b[0;34m(\u001b[0m\u001b[0mmath\u001b[0m\u001b[0;34m.\u001b[0m\u001b[0mexp\u001b[0m\u001b[0;34m(\u001b[0m\u001b[0mabs\u001b[0m\u001b[0;34m(\u001b[0m\u001b[0mapprox\u001b[0m \u001b[0;34m-\u001b[0m \u001b[0mtarget\u001b[0m\u001b[0;34m[\u001b[0m\u001b[0mi\u001b[0m\u001b[0;34m]\u001b[0m\u001b[0;34m)\u001b[0m\u001b[0;34m)\u001b[0m \u001b[0;34m-\u001b[0m \u001b[0;36m1\u001b[0m\u001b[0;34m)\u001b[0m\u001b[0;34m\u001b[0m\u001b[0;34m\u001b[0m\u001b[0m\n",
            "\u001b[0;31mTypeError\u001b[0m: 'float' object is not subscriptable",
            "\nDuring handling of the above exception, another exception occurred:\n",
            "\u001b[0;31mKeyboardInterrupt\u001b[0m                         Traceback (most recent call last)",
            "\u001b[0;32m_catboost.pyx\u001b[0m in \u001b[0;36m_catboost._ObjectiveCalcDersRange\u001b[0;34m()\u001b[0m\n",
            "\u001b[0;32m<ipython-input-35-1119a65828ca>\u001b[0m in \u001b[0;36mcalc_ders_range\u001b[0;34m(self, approxes, targets, weights)\u001b[0m\n\u001b[1;32m      8\u001b[0m         \u001b[0;32mfor\u001b[0m \u001b[0mindex\u001b[0m \u001b[0;32min\u001b[0m \u001b[0mrange\u001b[0m\u001b[0;34m(\u001b[0m\u001b[0mlen\u001b[0m\u001b[0;34m(\u001b[0m\u001b[0mtargets\u001b[0m\u001b[0;34m)\u001b[0m\u001b[0;34m)\u001b[0m\u001b[0;34m:\u001b[0m\u001b[0;34m\u001b[0m\u001b[0;34m\u001b[0m\u001b[0m\n\u001b[0;32m----> 9\u001b[0;31m             \u001b[0mclip_approx\u001b[0m \u001b[0;34m=\u001b[0m \u001b[0mmax\u001b[0m\u001b[0;34m(\u001b[0m\u001b[0mmin\u001b[0m\u001b[0;34m(\u001b[0m\u001b[0mapproxes\u001b[0m\u001b[0;34m[\u001b[0m\u001b[0mindex\u001b[0m\u001b[0;34m]\u001b[0m\u001b[0;34m,\u001b[0m \u001b[0;36m6.\u001b[0m\u001b[0;34m)\u001b[0m\u001b[0;34m,\u001b[0m \u001b[0;36m0\u001b[0m\u001b[0;34m)\u001b[0m\u001b[0;34m\u001b[0m\u001b[0;34m\u001b[0m\u001b[0m\n\u001b[0m\u001b[1;32m     10\u001b[0m             \u001b[0mdist\u001b[0m \u001b[0;34m=\u001b[0m \u001b[0mclip_approx\u001b[0m \u001b[0;34m-\u001b[0m \u001b[0mtargets\u001b[0m\u001b[0;34m[\u001b[0m\u001b[0mindex\u001b[0m\u001b[0;34m]\u001b[0m\u001b[0;34m\u001b[0m\u001b[0;34m\u001b[0m\u001b[0m\n",
            "\u001b[0;31mKeyboardInterrupt\u001b[0m: ",
            "\nDuring handling of the above exception, another exception occurred:\n",
            "\u001b[0;31mKeyboardInterrupt\u001b[0m                         Traceback (most recent call last)",
            "\u001b[0;32m_catboost.pyx\u001b[0m in \u001b[0;36m_catboost._ObjectiveCalcDersRange\u001b[0;34m()\u001b[0m\n",
            "\u001b[0;32m<ipython-input-35-1119a65828ca>\u001b[0m in \u001b[0;36mcalc_ders_range\u001b[0;34m(self, approxes, targets, weights)\u001b[0m\n\u001b[1;32m      7\u001b[0m         \u001b[0mresult\u001b[0m \u001b[0;34m=\u001b[0m \u001b[0;34m[\u001b[0m\u001b[0;34m]\u001b[0m\u001b[0;34m\u001b[0m\u001b[0;34m\u001b[0m\u001b[0m\n\u001b[0;32m----> 8\u001b[0;31m         \u001b[0;32mfor\u001b[0m \u001b[0mindex\u001b[0m \u001b[0;32min\u001b[0m \u001b[0mrange\u001b[0m\u001b[0;34m(\u001b[0m\u001b[0mlen\u001b[0m\u001b[0;34m(\u001b[0m\u001b[0mtargets\u001b[0m\u001b[0;34m)\u001b[0m\u001b[0;34m)\u001b[0m\u001b[0;34m:\u001b[0m\u001b[0;34m\u001b[0m\u001b[0;34m\u001b[0m\u001b[0m\n\u001b[0m\u001b[1;32m      9\u001b[0m             \u001b[0mclip_approx\u001b[0m \u001b[0;34m=\u001b[0m \u001b[0mmax\u001b[0m\u001b[0;34m(\u001b[0m\u001b[0mmin\u001b[0m\u001b[0;34m(\u001b[0m\u001b[0mapproxes\u001b[0m\u001b[0;34m[\u001b[0m\u001b[0mindex\u001b[0m\u001b[0;34m]\u001b[0m\u001b[0;34m,\u001b[0m \u001b[0;36m6.\u001b[0m\u001b[0;34m)\u001b[0m\u001b[0;34m,\u001b[0m \u001b[0;36m0\u001b[0m\u001b[0;34m)\u001b[0m\u001b[0;34m\u001b[0m\u001b[0;34m\u001b[0m\u001b[0m\n",
            "\u001b[0;31mKeyboardInterrupt\u001b[0m: ",
            "\nDuring handling of the above exception, another exception occurred:\n",
            "\u001b[0;31mKeyboardInterrupt\u001b[0m                         Traceback (most recent call last)",
            "\u001b[0;32m_catboost.pyx\u001b[0m in \u001b[0;36m_catboost._ObjectiveCalcDersRange\u001b[0;34m()\u001b[0m\n",
            "\u001b[0;32m<ipython-input-35-1119a65828ca>\u001b[0m in \u001b[0;36mcalc_ders_range\u001b[0;34m(self, approxes, targets, weights)\u001b[0m\n\u001b[1;32m      1\u001b[0m \u001b[0;32mclass\u001b[0m \u001b[0mSmoothLossFunction\u001b[0m\u001b[0;34m(\u001b[0m\u001b[0mobject\u001b[0m\u001b[0;34m)\u001b[0m\u001b[0;34m:\u001b[0m\u001b[0;34m\u001b[0m\u001b[0;34m\u001b[0m\u001b[0m\n\u001b[0;32m----> 2\u001b[0;31m     \u001b[0;32mdef\u001b[0m \u001b[0mcalc_ders_range\u001b[0m\u001b[0;34m(\u001b[0m\u001b[0mself\u001b[0m\u001b[0;34m,\u001b[0m \u001b[0mapproxes\u001b[0m\u001b[0;34m,\u001b[0m \u001b[0mtargets\u001b[0m\u001b[0;34m,\u001b[0m \u001b[0mweights\u001b[0m\u001b[0;34m)\u001b[0m\u001b[0;34m:\u001b[0m\u001b[0;34m\u001b[0m\u001b[0;34m\u001b[0m\u001b[0m\n\u001b[0m\u001b[1;32m      3\u001b[0m         \u001b[0;32massert\u001b[0m \u001b[0mlen\u001b[0m\u001b[0;34m(\u001b[0m\u001b[0mapproxes\u001b[0m\u001b[0;34m)\u001b[0m \u001b[0;34m==\u001b[0m \u001b[0mlen\u001b[0m\u001b[0;34m(\u001b[0m\u001b[0mtargets\u001b[0m\u001b[0;34m)\u001b[0m\u001b[0;34m\u001b[0m\u001b[0;34m\u001b[0m\u001b[0m\n",
            "\u001b[0;31mKeyboardInterrupt\u001b[0m: ",
            "\nDuring handling of the above exception, another exception occurred:\n",
            "\u001b[0;31mCatBoostError\u001b[0m                             Traceback (most recent call last)",
            "\u001b[0;32m<ipython-input-47-f5c9c527f0a9>\u001b[0m in \u001b[0;36m<module>\u001b[0;34m()\u001b[0m\n\u001b[0;32m----> 1\u001b[0;31m \u001b[0mget_ipython\u001b[0m\u001b[0;34m(\u001b[0m\u001b[0;34m)\u001b[0m\u001b[0;34m.\u001b[0m\u001b[0mrun_cell_magic\u001b[0m\u001b[0;34m(\u001b[0m\u001b[0;34m'time'\u001b[0m\u001b[0;34m,\u001b[0m \u001b[0;34m''\u001b[0m\u001b[0;34m,\u001b[0m \u001b[0;34m'model = CatBoostRegressor(**params)\\nmodel.fit(train_train_pool, eval_set=train_valid_pool)'\u001b[0m\u001b[0;34m)\u001b[0m\u001b[0;34m\u001b[0m\u001b[0;34m\u001b[0m\u001b[0m\n\u001b[0m",
            "\u001b[0;32m/usr/local/lib/python3.6/dist-packages/IPython/core/interactiveshell.py\u001b[0m in \u001b[0;36mrun_cell_magic\u001b[0;34m(self, magic_name, line, cell)\u001b[0m\n\u001b[1;32m   2115\u001b[0m             \u001b[0mmagic_arg_s\u001b[0m \u001b[0;34m=\u001b[0m \u001b[0mself\u001b[0m\u001b[0;34m.\u001b[0m\u001b[0mvar_expand\u001b[0m\u001b[0;34m(\u001b[0m\u001b[0mline\u001b[0m\u001b[0;34m,\u001b[0m \u001b[0mstack_depth\u001b[0m\u001b[0;34m)\u001b[0m\u001b[0;34m\u001b[0m\u001b[0;34m\u001b[0m\u001b[0m\n\u001b[1;32m   2116\u001b[0m             \u001b[0;32mwith\u001b[0m \u001b[0mself\u001b[0m\u001b[0;34m.\u001b[0m\u001b[0mbuiltin_trap\u001b[0m\u001b[0;34m:\u001b[0m\u001b[0;34m\u001b[0m\u001b[0;34m\u001b[0m\u001b[0m\n\u001b[0;32m-> 2117\u001b[0;31m                 \u001b[0mresult\u001b[0m \u001b[0;34m=\u001b[0m \u001b[0mfn\u001b[0m\u001b[0;34m(\u001b[0m\u001b[0mmagic_arg_s\u001b[0m\u001b[0;34m,\u001b[0m \u001b[0mcell\u001b[0m\u001b[0;34m)\u001b[0m\u001b[0;34m\u001b[0m\u001b[0;34m\u001b[0m\u001b[0m\n\u001b[0m\u001b[1;32m   2118\u001b[0m             \u001b[0;32mreturn\u001b[0m \u001b[0mresult\u001b[0m\u001b[0;34m\u001b[0m\u001b[0;34m\u001b[0m\u001b[0m\n\u001b[1;32m   2119\u001b[0m \u001b[0;34m\u001b[0m\u001b[0m\n",
            "\u001b[0;32m<decorator-gen-60>\u001b[0m in \u001b[0;36mtime\u001b[0;34m(self, line, cell, local_ns)\u001b[0m\n",
            "\u001b[0;32m/usr/local/lib/python3.6/dist-packages/IPython/core/magic.py\u001b[0m in \u001b[0;36m<lambda>\u001b[0;34m(f, *a, **k)\u001b[0m\n\u001b[1;32m    186\u001b[0m     \u001b[0;31m# but it's overkill for just that one bit of state.\u001b[0m\u001b[0;34m\u001b[0m\u001b[0;34m\u001b[0m\u001b[0;34m\u001b[0m\u001b[0m\n\u001b[1;32m    187\u001b[0m     \u001b[0;32mdef\u001b[0m \u001b[0mmagic_deco\u001b[0m\u001b[0;34m(\u001b[0m\u001b[0marg\u001b[0m\u001b[0;34m)\u001b[0m\u001b[0;34m:\u001b[0m\u001b[0;34m\u001b[0m\u001b[0;34m\u001b[0m\u001b[0m\n\u001b[0;32m--> 188\u001b[0;31m         \u001b[0mcall\u001b[0m \u001b[0;34m=\u001b[0m \u001b[0;32mlambda\u001b[0m \u001b[0mf\u001b[0m\u001b[0;34m,\u001b[0m \u001b[0;34m*\u001b[0m\u001b[0ma\u001b[0m\u001b[0;34m,\u001b[0m \u001b[0;34m**\u001b[0m\u001b[0mk\u001b[0m\u001b[0;34m:\u001b[0m \u001b[0mf\u001b[0m\u001b[0;34m(\u001b[0m\u001b[0;34m*\u001b[0m\u001b[0ma\u001b[0m\u001b[0;34m,\u001b[0m \u001b[0;34m**\u001b[0m\u001b[0mk\u001b[0m\u001b[0;34m)\u001b[0m\u001b[0;34m\u001b[0m\u001b[0;34m\u001b[0m\u001b[0m\n\u001b[0m\u001b[1;32m    189\u001b[0m \u001b[0;34m\u001b[0m\u001b[0m\n\u001b[1;32m    190\u001b[0m         \u001b[0;32mif\u001b[0m \u001b[0mcallable\u001b[0m\u001b[0;34m(\u001b[0m\u001b[0marg\u001b[0m\u001b[0;34m)\u001b[0m\u001b[0;34m:\u001b[0m\u001b[0;34m\u001b[0m\u001b[0;34m\u001b[0m\u001b[0m\n",
            "\u001b[0;32m/usr/local/lib/python3.6/dist-packages/IPython/core/magics/execution.py\u001b[0m in \u001b[0;36mtime\u001b[0;34m(self, line, cell, local_ns)\u001b[0m\n\u001b[1;32m   1191\u001b[0m         \u001b[0;32melse\u001b[0m\u001b[0;34m:\u001b[0m\u001b[0;34m\u001b[0m\u001b[0;34m\u001b[0m\u001b[0m\n\u001b[1;32m   1192\u001b[0m             \u001b[0mst\u001b[0m \u001b[0;34m=\u001b[0m \u001b[0mclock2\u001b[0m\u001b[0;34m(\u001b[0m\u001b[0;34m)\u001b[0m\u001b[0;34m\u001b[0m\u001b[0;34m\u001b[0m\u001b[0m\n\u001b[0;32m-> 1193\u001b[0;31m             \u001b[0mexec\u001b[0m\u001b[0;34m(\u001b[0m\u001b[0mcode\u001b[0m\u001b[0;34m,\u001b[0m \u001b[0mglob\u001b[0m\u001b[0;34m,\u001b[0m \u001b[0mlocal_ns\u001b[0m\u001b[0;34m)\u001b[0m\u001b[0;34m\u001b[0m\u001b[0;34m\u001b[0m\u001b[0m\n\u001b[0m\u001b[1;32m   1194\u001b[0m             \u001b[0mend\u001b[0m \u001b[0;34m=\u001b[0m \u001b[0mclock2\u001b[0m\u001b[0;34m(\u001b[0m\u001b[0;34m)\u001b[0m\u001b[0;34m\u001b[0m\u001b[0;34m\u001b[0m\u001b[0m\n\u001b[1;32m   1195\u001b[0m             \u001b[0mout\u001b[0m \u001b[0;34m=\u001b[0m \u001b[0;32mNone\u001b[0m\u001b[0;34m\u001b[0m\u001b[0;34m\u001b[0m\u001b[0m\n",
            "\u001b[0;32m<timed exec>\u001b[0m in \u001b[0;36m<module>\u001b[0;34m()\u001b[0m\n",
            "\u001b[0;32m/usr/local/lib/python3.6/dist-packages/catboost/core.py\u001b[0m in \u001b[0;36mfit\u001b[0;34m(self, X, y, cat_features, sample_weight, baseline, use_best_model, eval_set, verbose, logging_level, plot, column_description, verbose_eval, metric_period, silent, early_stopping_rounds, save_snapshot, snapshot_file, snapshot_interval, init_model)\u001b[0m\n\u001b[1;32m   4838\u001b[0m                          \u001b[0muse_best_model\u001b[0m\u001b[0;34m,\u001b[0m \u001b[0meval_set\u001b[0m\u001b[0;34m,\u001b[0m \u001b[0mverbose\u001b[0m\u001b[0;34m,\u001b[0m \u001b[0mlogging_level\u001b[0m\u001b[0;34m,\u001b[0m \u001b[0mplot\u001b[0m\u001b[0;34m,\u001b[0m \u001b[0mcolumn_description\u001b[0m\u001b[0;34m,\u001b[0m\u001b[0;34m\u001b[0m\u001b[0;34m\u001b[0m\u001b[0m\n\u001b[1;32m   4839\u001b[0m                          \u001b[0mverbose_eval\u001b[0m\u001b[0;34m,\u001b[0m \u001b[0mmetric_period\u001b[0m\u001b[0;34m,\u001b[0m \u001b[0msilent\u001b[0m\u001b[0;34m,\u001b[0m \u001b[0mearly_stopping_rounds\u001b[0m\u001b[0;34m,\u001b[0m\u001b[0;34m\u001b[0m\u001b[0;34m\u001b[0m\u001b[0m\n\u001b[0;32m-> 4840\u001b[0;31m                          save_snapshot, snapshot_file, snapshot_interval, init_model)\n\u001b[0m\u001b[1;32m   4841\u001b[0m \u001b[0;34m\u001b[0m\u001b[0m\n\u001b[1;32m   4842\u001b[0m     \u001b[0;32mdef\u001b[0m \u001b[0mpredict\u001b[0m\u001b[0;34m(\u001b[0m\u001b[0mself\u001b[0m\u001b[0;34m,\u001b[0m \u001b[0mdata\u001b[0m\u001b[0;34m,\u001b[0m \u001b[0mprediction_type\u001b[0m\u001b[0;34m=\u001b[0m\u001b[0;32mNone\u001b[0m\u001b[0;34m,\u001b[0m \u001b[0mntree_start\u001b[0m\u001b[0;34m=\u001b[0m\u001b[0;36m0\u001b[0m\u001b[0;34m,\u001b[0m \u001b[0mntree_end\u001b[0m\u001b[0;34m=\u001b[0m\u001b[0;36m0\u001b[0m\u001b[0;34m,\u001b[0m \u001b[0mthread_count\u001b[0m\u001b[0;34m=\u001b[0m\u001b[0;34m-\u001b[0m\u001b[0;36m1\u001b[0m\u001b[0;34m,\u001b[0m \u001b[0mverbose\u001b[0m\u001b[0;34m=\u001b[0m\u001b[0;32mNone\u001b[0m\u001b[0;34m)\u001b[0m\u001b[0;34m:\u001b[0m\u001b[0;34m\u001b[0m\u001b[0;34m\u001b[0m\u001b[0m\n",
            "\u001b[0;32m/usr/local/lib/python3.6/dist-packages/catboost/core.py\u001b[0m in \u001b[0;36m_fit\u001b[0;34m(self, X, y, cat_features, text_features, embedding_features, pairs, sample_weight, group_id, group_weight, subgroup_id, pairs_weight, baseline, use_best_model, eval_set, verbose, logging_level, plot, column_description, verbose_eval, metric_period, silent, early_stopping_rounds, save_snapshot, snapshot_file, snapshot_interval, init_model)\u001b[0m\n\u001b[1;32m   1803\u001b[0m                 \u001b[0mparams\u001b[0m\u001b[0;34m,\u001b[0m\u001b[0;34m\u001b[0m\u001b[0;34m\u001b[0m\u001b[0m\n\u001b[1;32m   1804\u001b[0m                 \u001b[0mallow_clear_pool\u001b[0m\u001b[0;34m,\u001b[0m\u001b[0;34m\u001b[0m\u001b[0;34m\u001b[0m\u001b[0m\n\u001b[0;32m-> 1805\u001b[0;31m                 \u001b[0mtrain_params\u001b[0m\u001b[0;34m[\u001b[0m\u001b[0;34m\"init_model\"\u001b[0m\u001b[0;34m]\u001b[0m\u001b[0;34m\u001b[0m\u001b[0;34m\u001b[0m\u001b[0m\n\u001b[0m\u001b[1;32m   1806\u001b[0m             )\n\u001b[1;32m   1807\u001b[0m \u001b[0;34m\u001b[0m\u001b[0m\n",
            "\u001b[0;32m/usr/local/lib/python3.6/dist-packages/catboost/core.py\u001b[0m in \u001b[0;36m_train\u001b[0;34m(self, train_pool, test_pool, params, allow_clear_pool, init_model)\u001b[0m\n\u001b[1;32m   1256\u001b[0m \u001b[0;34m\u001b[0m\u001b[0m\n\u001b[1;32m   1257\u001b[0m     \u001b[0;32mdef\u001b[0m \u001b[0m_train\u001b[0m\u001b[0;34m(\u001b[0m\u001b[0mself\u001b[0m\u001b[0;34m,\u001b[0m \u001b[0mtrain_pool\u001b[0m\u001b[0;34m,\u001b[0m \u001b[0mtest_pool\u001b[0m\u001b[0;34m,\u001b[0m \u001b[0mparams\u001b[0m\u001b[0;34m,\u001b[0m \u001b[0mallow_clear_pool\u001b[0m\u001b[0;34m,\u001b[0m \u001b[0minit_model\u001b[0m\u001b[0;34m)\u001b[0m\u001b[0;34m:\u001b[0m\u001b[0;34m\u001b[0m\u001b[0;34m\u001b[0m\u001b[0m\n\u001b[0;32m-> 1258\u001b[0;31m         \u001b[0mself\u001b[0m\u001b[0;34m.\u001b[0m\u001b[0m_object\u001b[0m\u001b[0;34m.\u001b[0m\u001b[0m_train\u001b[0m\u001b[0;34m(\u001b[0m\u001b[0mtrain_pool\u001b[0m\u001b[0;34m,\u001b[0m \u001b[0mtest_pool\u001b[0m\u001b[0;34m,\u001b[0m \u001b[0mparams\u001b[0m\u001b[0;34m,\u001b[0m \u001b[0mallow_clear_pool\u001b[0m\u001b[0;34m,\u001b[0m \u001b[0minit_model\u001b[0m\u001b[0;34m.\u001b[0m\u001b[0m_object\u001b[0m \u001b[0;32mif\u001b[0m \u001b[0minit_model\u001b[0m \u001b[0;32melse\u001b[0m \u001b[0;32mNone\u001b[0m\u001b[0;34m)\u001b[0m\u001b[0;34m\u001b[0m\u001b[0;34m\u001b[0m\u001b[0m\n\u001b[0m\u001b[1;32m   1259\u001b[0m         \u001b[0mself\u001b[0m\u001b[0;34m.\u001b[0m\u001b[0m_set_trained_model_attributes\u001b[0m\u001b[0;34m(\u001b[0m\u001b[0;34m)\u001b[0m\u001b[0;34m\u001b[0m\u001b[0;34m\u001b[0m\u001b[0m\n\u001b[1;32m   1260\u001b[0m \u001b[0;34m\u001b[0m\u001b[0m\n",
            "\u001b[0;32m_catboost.pyx\u001b[0m in \u001b[0;36m_catboost._CatBoost._train\u001b[0;34m()\u001b[0m\n",
            "\u001b[0;32m_catboost.pyx\u001b[0m in \u001b[0;36m_catboost._CatBoost._train\u001b[0;34m()\u001b[0m\n",
            "\u001b[0;31mCatBoostError\u001b[0m: catboost/python-package/catboost/helpers.cpp:42: Traceback (most recent call last):\n  File \"_catboost.pyx\", line 1269, in _catboost._MetricEval\n  File \"<ipython-input-36-74427c0c03ad>\", line 17, in evaluate\n    approx = max(min(approx[i], 6.), 0.)\nTypeError: 'float' object is not subscriptable\n\nDuring handling of the above exception, another exception occurred:\n\nTraceback (most recent call last):\n  File \"_catboost.pyx\", line 1344, in _catboost._ObjectiveCalcDersRange\n  File \"<ipython-input-35-1119a65828ca>\", line 9, in calc_ders_range\n    clip_approx = max(min(approxes[index], 6.), 0)\nKeyboardInterrupt\n\nDuring handling of the above exception, another exception occurred:\n\nTraceback (most recent call last):\n  File \"_catboost.pyx\", line 1344, in _catboost._ObjectiveCalcDersRange\n  File \"<ipython-input-35-1119a65828ca>\", line 8, in calc_ders_range\n    for index in range(len(targets)):\nKeyboardInterrupt\n\nDuring handling of the above exception, another exception occurred:\n\nTraceback (most recent call last):\n  File \"_catboost.pyx\", line 1344, in _catboost._ObjectiveCalcDersRange\n  File \"<ipython-input-35-1119a65828ca>\", line 2, in calc_ders_range\n    def calc_ders_range(self, approxes, targets, weights):\nKeyboardInterrupt\n"
          ]
        }
      ]
    },
    {
      "cell_type": "code",
      "metadata": {
        "id": "SwV9SXbZ8AFO"
      },
      "source": [
        "model.get_feature_importance(train_valid_pool, prettified=True)"
      ],
      "execution_count": null,
      "outputs": []
    },
    {
      "cell_type": "markdown",
      "metadata": {
        "id": "tTFp7opGcaSm"
      },
      "source": [
        "**Текст, выделенный полужирным шрифтом**### Визуализация результатов"
      ]
    },
    {
      "cell_type": "code",
      "metadata": {
        "id": "keVce6fG_uH0"
      },
      "source": [
        "def visualize_learning_results(metrics):\n",
        "    \"\"\"\n",
        "    Plot one graph for each metric\n",
        "\n",
        "    :param metrics: dic of metrics\n",
        "    \"\"\"\n",
        "\n",
        "    n = len(metrics)\n",
        "    \n",
        "    fig = make_subplots(\n",
        "        rows=n,\n",
        "        cols=1,\n",
        "        subplot_titles=list(metrics.keys())\n",
        "    )\n",
        "\n",
        "    for i, (metric_name, curves) in enumerate(metrics.items()):\n",
        "        for dataset_type, curve in curves.items():\n",
        "            m = len(curve)\n",
        "            fig.add_trace(\n",
        "                go.Scatter(\n",
        "                    x=np.arange(m),\n",
        "                    y=curve,\n",
        "                    mode='lines',\n",
        "                    name=f'{dataset_type} {metric_name}'\n",
        "                ),\n",
        "                row=i + 1,\n",
        "                col=1\n",
        "            )\n",
        "\n",
        "    fig.update_layout(\n",
        "        title_text=\"Learning results\",\n",
        "        width=297. * 3,\n",
        "        height=210. * 3 * n\n",
        "    )\n",
        "    fig.show()"
      ],
      "execution_count": 43,
      "outputs": []
    },
    {
      "cell_type": "code",
      "metadata": {
        "id": "UFc3fRgidVJL"
      },
      "source": [
        "eval_results = model.get_evals_result()"
      ],
      "execution_count": null,
      "outputs": []
    },
    {
      "cell_type": "code",
      "metadata": {
        "id": "lKxIfG4ZBXCc",
        "outputId": "660fba20-b937-4d39-9ca3-6ef92dd83684",
        "colab": {
          "base_uri": "https://localhost:8080/",
          "height": 477
        }
      },
      "source": [
        "eval_results = model.get_evals_result()\n",
        "metrics = dict(\n",
        "    Loss=dict(\n",
        "        validation=eval_results['validation']['EvalMetric'],\n",
        "        learn=eval_results['learn']['EvalMetric']\n",
        "    ),\n",
        "    Metric=dict(\n",
        "        validation=eval_results['validation']['EvalMetric']\n",
        "    )\n",
        ")"
      ],
      "execution_count": null,
      "outputs": [
        {
          "output_type": "error",
          "ename": "KeyError",
          "evalue": "ignored",
          "traceback": [
            "\u001b[0;31m---------------------------------------------------------------------------\u001b[0m",
            "\u001b[0;31mKeyboardInterrupt\u001b[0m                         Traceback (most recent call last)",
            "\u001b[0;32m_catboost.pyx\u001b[0m in \u001b[0;36m_catboost._ObjectiveCalcDersRange\u001b[0;34m()\u001b[0m\n",
            "\u001b[0;32m<ipython-input-35-d26c2e6466e2>\u001b[0m in \u001b[0;36mcalc_ders_range\u001b[0;34m(self, approxes, targets, weights)\u001b[0m\n\u001b[1;32m     10\u001b[0m             \u001b[0msign\u001b[0m \u001b[0;34m=\u001b[0m \u001b[0;34m-\u001b[0m\u001b[0;36m1\u001b[0m \u001b[0;32mif\u001b[0m  \u001b[0mapproxes\u001b[0m\u001b[0;34m[\u001b[0m\u001b[0mindex\u001b[0m\u001b[0;34m]\u001b[0m \u001b[0;34m<\u001b[0m \u001b[0mtargets\u001b[0m\u001b[0;34m[\u001b[0m\u001b[0mindex\u001b[0m\u001b[0;34m]\u001b[0m \u001b[0;32melse\u001b[0m \u001b[0;36m1\u001b[0m\u001b[0;34m\u001b[0m\u001b[0;34m\u001b[0m\u001b[0m\n\u001b[0;32m---> 11\u001b[0;31m             \u001b[0mder2\u001b[0m \u001b[0;34m=\u001b[0m \u001b[0mmath\u001b[0m\u001b[0;34m.\u001b[0m\u001b[0mexp\u001b[0m\u001b[0;34m(\u001b[0m\u001b[0mabs\u001b[0m\u001b[0;34m(\u001b[0m\u001b[0mtargets\u001b[0m\u001b[0;34m[\u001b[0m\u001b[0mindex\u001b[0m\u001b[0;34m]\u001b[0m \u001b[0;34m-\u001b[0m \u001b[0mapproxes\u001b[0m\u001b[0;34m[\u001b[0m\u001b[0mindex\u001b[0m\u001b[0;34m]\u001b[0m\u001b[0;34m)\u001b[0m\u001b[0;34m)\u001b[0m\u001b[0;34m\u001b[0m\u001b[0;34m\u001b[0m\u001b[0m\n\u001b[0m\u001b[1;32m     12\u001b[0m             \u001b[0mder1\u001b[0m \u001b[0;34m=\u001b[0m \u001b[0mder2\u001b[0m \u001b[0;34m*\u001b[0m \u001b[0msign\u001b[0m\u001b[0;34m\u001b[0m\u001b[0;34m\u001b[0m\u001b[0m\n",
            "\u001b[0;31mKeyboardInterrupt\u001b[0m: ",
            "\nDuring handling of the above exception, another exception occurred:\n",
            "\u001b[0;31mKeyError\u001b[0m                                  Traceback (most recent call last)",
            "\u001b[0;32m<ipython-input-41-817c5e3e9264>\u001b[0m in \u001b[0;36m<module>\u001b[0;34m()\u001b[0m\n\u001b[1;32m      2\u001b[0m metrics = dict(\n\u001b[1;32m      3\u001b[0m     Loss=dict(\n\u001b[0;32m----> 4\u001b[0;31m         \u001b[0mvalidation\u001b[0m\u001b[0;34m=\u001b[0m\u001b[0meval_results\u001b[0m\u001b[0;34m[\u001b[0m\u001b[0;34m'validation'\u001b[0m\u001b[0;34m]\u001b[0m\u001b[0;34m[\u001b[0m\u001b[0;34m'EvalMetric'\u001b[0m\u001b[0;34m]\u001b[0m\u001b[0;34m,\u001b[0m\u001b[0;34m\u001b[0m\u001b[0;34m\u001b[0m\u001b[0m\n\u001b[0m\u001b[1;32m      5\u001b[0m         \u001b[0mlearn\u001b[0m\u001b[0;34m=\u001b[0m\u001b[0meval_results\u001b[0m\u001b[0;34m[\u001b[0m\u001b[0;34m'learn'\u001b[0m\u001b[0;34m]\u001b[0m\u001b[0;34m[\u001b[0m\u001b[0;34m'EvalMetric'\u001b[0m\u001b[0;34m]\u001b[0m\u001b[0;34m\u001b[0m\u001b[0;34m\u001b[0m\u001b[0m\n\u001b[1;32m      6\u001b[0m     ),\n",
            "\u001b[0;31mKeyError\u001b[0m: 'validation'"
          ]
        }
      ]
    },
    {
      "cell_type": "code",
      "metadata": {
        "id": "QiAI_GyDB2Tr",
        "outputId": "e2a42036-cdd8-43a9-9475-d690d0fb4c14",
        "colab": {
          "base_uri": "https://localhost:8080/",
          "height": 402
        }
      },
      "source": [
        "visualize_learning_results(metrics)"
      ],
      "execution_count": null,
      "outputs": [
        {
          "output_type": "error",
          "ename": "NameError",
          "evalue": "ignored",
          "traceback": [
            "\u001b[0;31m---------------------------------------------------------------------------\u001b[0m",
            "\u001b[0;31mKeyboardInterrupt\u001b[0m                         Traceback (most recent call last)",
            "\u001b[0;32m_catboost.pyx\u001b[0m in \u001b[0;36m_catboost._ObjectiveCalcDersRange\u001b[0;34m()\u001b[0m\n",
            "\u001b[0;32m<ipython-input-35-d26c2e6466e2>\u001b[0m in \u001b[0;36mcalc_ders_range\u001b[0;34m(self, approxes, targets, weights)\u001b[0m\n\u001b[1;32m     10\u001b[0m             \u001b[0msign\u001b[0m \u001b[0;34m=\u001b[0m \u001b[0;34m-\u001b[0m\u001b[0;36m1\u001b[0m \u001b[0;32mif\u001b[0m  \u001b[0mapproxes\u001b[0m\u001b[0;34m[\u001b[0m\u001b[0mindex\u001b[0m\u001b[0;34m]\u001b[0m \u001b[0;34m<\u001b[0m \u001b[0mtargets\u001b[0m\u001b[0;34m[\u001b[0m\u001b[0mindex\u001b[0m\u001b[0;34m]\u001b[0m \u001b[0;32melse\u001b[0m \u001b[0;36m1\u001b[0m\u001b[0;34m\u001b[0m\u001b[0;34m\u001b[0m\u001b[0m\n\u001b[0;32m---> 11\u001b[0;31m             \u001b[0mder2\u001b[0m \u001b[0;34m=\u001b[0m \u001b[0mmath\u001b[0m\u001b[0;34m.\u001b[0m\u001b[0mexp\u001b[0m\u001b[0;34m(\u001b[0m\u001b[0mabs\u001b[0m\u001b[0;34m(\u001b[0m\u001b[0mtargets\u001b[0m\u001b[0;34m[\u001b[0m\u001b[0mindex\u001b[0m\u001b[0;34m]\u001b[0m \u001b[0;34m-\u001b[0m \u001b[0mapproxes\u001b[0m\u001b[0;34m[\u001b[0m\u001b[0mindex\u001b[0m\u001b[0;34m]\u001b[0m\u001b[0;34m)\u001b[0m\u001b[0;34m)\u001b[0m\u001b[0;34m\u001b[0m\u001b[0;34m\u001b[0m\u001b[0m\n\u001b[0m\u001b[1;32m     12\u001b[0m             \u001b[0mder1\u001b[0m \u001b[0;34m=\u001b[0m \u001b[0mder2\u001b[0m \u001b[0;34m*\u001b[0m \u001b[0msign\u001b[0m\u001b[0;34m\u001b[0m\u001b[0;34m\u001b[0m\u001b[0m\n",
            "\u001b[0;31mKeyboardInterrupt\u001b[0m: ",
            "\nDuring handling of the above exception, another exception occurred:\n",
            "\u001b[0;31mNameError\u001b[0m                                 Traceback (most recent call last)",
            "\u001b[0;32m<ipython-input-42-76a27dae01fc>\u001b[0m in \u001b[0;36m<module>\u001b[0;34m()\u001b[0m\n\u001b[0;32m----> 1\u001b[0;31m \u001b[0mvisualize_learning_results\u001b[0m\u001b[0;34m(\u001b[0m\u001b[0mmetrics\u001b[0m\u001b[0;34m)\u001b[0m\u001b[0;34m\u001b[0m\u001b[0;34m\u001b[0m\u001b[0m\n\u001b[0m",
            "\u001b[0;31mNameError\u001b[0m: name 'metrics' is not defined"
          ]
        }
      ]
    },
    {
      "cell_type": "markdown",
      "metadata": {
        "id": "e01TOmuiWdTG"
      },
      "source": [
        "### Объявление финальных параметров"
      ]
    },
    {
      "cell_type": "code",
      "metadata": {
        "id": "NeVaRFJRWomK"
      },
      "source": [
        "cat_features = [\n",
        "    'building_series_id', 'site_id', 'parking', 'expect_demolition',\n",
        "    'is_apartment', 'unified_address', 'has_elevator', 'studio', 'building_type',\n",
        "    'balcony', 'locality_name', 'renovation', 'District', 'MainImageNa'\n",
        "]\n",
        "ignored_features = [\n",
        "]\n",
        "train_pool = Pool(\n",
        "    pd.concat([X_train_train, X_train_valid]),\n",
        "    pd.concat([y_train_train, y_train_valid]),\n",
        "    cat_features=cat_features\n",
        ")\n",
        "params = {\n",
        "    'iterations': 170,\n",
        "    'learning_rate': 0.14,\n",
        "    'eval_metric': EvalMetric(),\n",
        "    'loss_function': SmoothLossFunction(),\n",
        "    'random_seed': 113,\n",
        "    # 'logging_level': 'Silent',\n",
        "    'use_best_model': False,\n",
        "    'ignored_features': ignored_features,\n",
        "    'thread_count': 16,\n",
        "}\n",
        "n_models = 10"
      ],
      "execution_count": 89,
      "outputs": []
    },
    {
      "cell_type": "markdown",
      "metadata": {
        "id": "zkt3iCbEFhGy"
      },
      "source": [
        "### Обучение"
      ]
    },
    {
      "cell_type": "code",
      "metadata": {
        "id": "jsIALaQFFi0R",
        "outputId": "2b44e3f3-e597-4940-a20b-ecefe0de29ff",
        "colab": {
          "base_uri": "https://localhost:8080/",
          "height": 1000
        }
      },
      "source": [
        "%%time\n",
        "models = []\n",
        "np.random.seed(2)\n",
        "X_test_test = X_test.drop('public', axis=1)\n",
        "y_test_predicted = None\n",
        "submission_folder_path = os.path.join(PROJECT_DIR, 'submissions')\n",
        "\n",
        "\n",
        "for i in range(n_models):\n",
        "    params['random_seed'] = np.random.randint(100000)\n",
        "    model = CatBoostRegressor(**params)\n",
        "    model.fit(train_pool)\n",
        "    models.append(model)\n",
        "\n",
        "    predicted = model.predict(X_test_test)\n",
        "    y_test_cur_predicted = pd.Series(\n",
        "        np.clip(predicted, 0.51, 5.49),\n",
        "        index=X_test_test.index,\n",
        "        name='target'\n",
        "    ).sort_index()\n",
        "    \n",
        "    if y_test_predicted is None:\n",
        "        y_test_predicted = y_test_cur_predicted\n",
        "    else:\n",
        "        y_test_predicted += y_test_cur_predicted\n",
        "\n",
        "    y_test_predicted_normed = y_test_predicted / (i + 1)\n",
        "    y_test_predicted_normed = y_test_predicted_normed.round().astype('int64')\n",
        "    SUBMISSTION_FILE_NAME = 'exposition_sample_submission_epoch_{}.tsv'.format(i + 1)\n",
        "    file_path = os.path.join(submission_folder_path, SUBMISSTION_FILE_NAME)\n",
        "    y_test_predicted_normed.to_csv(file_path, sep='\\t')\n",
        "\n",
        "    print(\"{}/{} Finished\".format(i + 1, n_models))"
      ],
      "execution_count": null,
      "outputs": [
        {
          "output_type": "stream",
          "text": [
            "0:\tlearn: -44.0439971\ttotal: 2.79s\tremaining: 7m 51s\n",
            "1:\tlearn: -43.4283490\ttotal: 5.8s\tremaining: 8m 7s\n",
            "2:\tlearn: -42.8195282\ttotal: 8.34s\tremaining: 7m 44s\n",
            "3:\tlearn: -42.2174413\ttotal: 11.1s\tremaining: 7m 39s\n",
            "4:\tlearn: -41.6123126\ttotal: 13.6s\tremaining: 7m 30s\n",
            "5:\tlearn: -41.0233634\ttotal: 16.3s\tremaining: 7m 26s\n",
            "6:\tlearn: -40.4412718\ttotal: 19.3s\tremaining: 7m 29s\n",
            "7:\tlearn: -39.8656870\ttotal: 21.9s\tremaining: 7m 22s\n",
            "8:\tlearn: -39.2879374\ttotal: 24.5s\tremaining: 7m 18s\n",
            "9:\tlearn: -38.7219551\ttotal: 27.4s\tremaining: 7m 18s\n",
            "10:\tlearn: -38.1657637\ttotal: 30.5s\tremaining: 7m 20s\n",
            "11:\tlearn: -37.6126401\ttotal: 33.3s\tremaining: 7m 18s\n",
            "12:\tlearn: -37.0686030\ttotal: 36.2s\tremaining: 7m 16s\n",
            "13:\tlearn: -36.5227815\ttotal: 39.2s\tremaining: 7m 17s\n",
            "14:\tlearn: -35.9885968\ttotal: 41.8s\tremaining: 7m 11s\n",
            "15:\tlearn: -35.4637931\ttotal: 44.8s\tremaining: 7m 11s\n",
            "16:\tlearn: -34.9444716\ttotal: 47.4s\tremaining: 7m 6s\n",
            "17:\tlearn: -34.4301498\ttotal: 50.2s\tremaining: 7m 4s\n",
            "18:\tlearn: -33.9066171\ttotal: 53.3s\tremaining: 7m 3s\n",
            "19:\tlearn: -33.4054198\ttotal: 56.2s\tremaining: 7m 1s\n",
            "20:\tlearn: -32.9110544\ttotal: 58.7s\tremaining: 6m 56s\n",
            "21:\tlearn: -32.4228720\ttotal: 1m 1s\tremaining: 6m 54s\n",
            "22:\tlearn: -31.9371285\ttotal: 1m 4s\tremaining: 6m 50s\n",
            "23:\tlearn: -31.4561773\ttotal: 1m 7s\tremaining: 6m 49s\n",
            "24:\tlearn: -30.9763588\ttotal: 1m 9s\tremaining: 6m 45s\n",
            "25:\tlearn: -30.5087549\ttotal: 1m 12s\tremaining: 6m 43s\n",
            "26:\tlearn: -30.0431067\ttotal: 1m 15s\tremaining: 6m 41s\n",
            "27:\tlearn: -29.5828940\ttotal: 1m 18s\tremaining: 6m 37s\n",
            "28:\tlearn: -29.1337157\ttotal: 1m 21s\tremaining: 6m 34s\n",
            "29:\tlearn: -28.6781992\ttotal: 1m 23s\tremaining: 6m 30s\n",
            "30:\tlearn: -28.2262881\ttotal: 1m 26s\tremaining: 6m 28s\n",
            "31:\tlearn: -27.7892385\ttotal: 1m 29s\tremaining: 6m 25s\n",
            "32:\tlearn: -27.3538990\ttotal: 1m 32s\tremaining: 6m 24s\n",
            "33:\tlearn: -26.9259035\ttotal: 1m 35s\tremaining: 6m 21s\n",
            "34:\tlearn: -26.5060031\ttotal: 1m 38s\tremaining: 6m 19s\n",
            "35:\tlearn: -26.0910943\ttotal: 1m 41s\tremaining: 6m 17s\n",
            "36:\tlearn: -25.6822200\ttotal: 1m 44s\tremaining: 6m 15s\n",
            "37:\tlearn: -25.2773217\ttotal: 1m 46s\tremaining: 6m 11s\n",
            "38:\tlearn: -24.8780231\ttotal: 1m 49s\tremaining: 6m 8s\n",
            "39:\tlearn: -24.3935482\ttotal: 1m 52s\tremaining: 6m 5s\n",
            "40:\tlearn: -24.0042505\ttotal: 1m 55s\tremaining: 6m 2s\n",
            "41:\tlearn: -23.6153414\ttotal: 1m 58s\tremaining: 6m\n",
            "42:\tlearn: -23.2273461\ttotal: 2m 1s\tremaining: 5m 58s\n",
            "43:\tlearn: -22.8500913\ttotal: 2m 4s\tremaining: 5m 56s\n",
            "44:\tlearn: -22.4750544\ttotal: 2m 7s\tremaining: 5m 54s\n",
            "45:\tlearn: -22.1100807\ttotal: 2m 10s\tremaining: 5m 52s\n",
            "46:\tlearn: -21.7475296\ttotal: 2m 13s\tremaining: 5m 49s\n",
            "47:\tlearn: -21.3906230\ttotal: 2m 16s\tremaining: 5m 46s\n",
            "48:\tlearn: -21.0379352\ttotal: 2m 19s\tremaining: 5m 44s\n",
            "49:\tlearn: -20.6915148\ttotal: 2m 22s\tremaining: 5m 41s\n",
            "50:\tlearn: -20.3477281\ttotal: 2m 25s\tremaining: 5m 38s\n",
            "51:\tlearn: -20.0081720\ttotal: 2m 28s\tremaining: 5m 36s\n",
            "52:\tlearn: -19.6693549\ttotal: 2m 30s\tremaining: 5m 32s\n",
            "53:\tlearn: -19.3381769\ttotal: 2m 33s\tremaining: 5m 29s\n",
            "54:\tlearn: -19.0104006\ttotal: 2m 36s\tremaining: 5m 26s\n",
            "55:\tlearn: -18.6853590\ttotal: 2m 38s\tremaining: 5m 23s\n",
            "56:\tlearn: -18.3645463\ttotal: 2m 41s\tremaining: 5m 20s\n",
            "57:\tlearn: -18.0476699\ttotal: 2m 44s\tremaining: 5m 17s\n",
            "58:\tlearn: -17.7393465\ttotal: 2m 47s\tremaining: 5m 14s\n",
            "59:\tlearn: -17.4322116\ttotal: 2m 50s\tremaining: 5m 12s\n",
            "60:\tlearn: -17.1348840\ttotal: 2m 53s\tremaining: 5m 9s\n",
            "61:\tlearn: -16.8388016\ttotal: 2m 55s\tremaining: 5m 6s\n",
            "62:\tlearn: -16.5435391\ttotal: 2m 59s\tremaining: 5m 4s\n",
            "63:\tlearn: -16.2521026\ttotal: 3m 1s\tremaining: 5m 1s\n",
            "64:\tlearn: -15.9628535\ttotal: 3m 4s\tremaining: 4m 58s\n",
            "65:\tlearn: -15.6795008\ttotal: 3m 7s\tremaining: 4m 55s\n",
            "66:\tlearn: -15.4041289\ttotal: 3m 10s\tremaining: 4m 52s\n",
            "67:\tlearn: -15.1342216\ttotal: 3m 13s\tremaining: 4m 49s\n",
            "68:\tlearn: -14.8668157\ttotal: 3m 16s\tremaining: 4m 46s\n",
            "69:\tlearn: -14.6041482\ttotal: 3m 18s\tremaining: 4m 43s\n",
            "70:\tlearn: -14.3472288\ttotal: 3m 21s\tremaining: 4m 41s\n",
            "71:\tlearn: -14.0900129\ttotal: 3m 24s\tremaining: 4m 38s\n",
            "72:\tlearn: -13.8381218\ttotal: 3m 27s\tremaining: 4m 35s\n",
            "73:\tlearn: -13.5871986\ttotal: 3m 30s\tremaining: 4m 33s\n",
            "74:\tlearn: -13.3404598\ttotal: 3m 33s\tremaining: 4m 30s\n",
            "75:\tlearn: -13.0990963\ttotal: 3m 35s\tremaining: 4m 27s\n",
            "76:\tlearn: -12.8575149\ttotal: 3m 38s\tremaining: 4m 23s\n",
            "77:\tlearn: -12.6189343\ttotal: 3m 41s\tremaining: 4m 20s\n",
            "78:\tlearn: -12.3873081\ttotal: 3m 44s\tremaining: 4m 18s\n",
            "79:\tlearn: -12.1565093\ttotal: 3m 46s\tremaining: 4m 15s\n",
            "80:\tlearn: -11.9288173\ttotal: 3m 49s\tremaining: 4m 12s\n",
            "81:\tlearn: -11.6869943\ttotal: 3m 52s\tremaining: 4m 9s\n",
            "82:\tlearn: -11.4692588\ttotal: 3m 55s\tremaining: 4m 6s\n",
            "83:\tlearn: -11.2355811\ttotal: 3m 58s\tremaining: 4m 4s\n",
            "84:\tlearn: -11.0235283\ttotal: 4m 1s\tremaining: 4m 1s\n",
            "85:\tlearn: -10.8146477\ttotal: 4m 4s\tremaining: 3m 58s\n",
            "86:\tlearn: -10.6075193\ttotal: 4m 6s\tremaining: 3m 55s\n",
            "87:\tlearn: -10.3927767\ttotal: 4m 9s\tremaining: 3m 52s\n",
            "88:\tlearn: -10.1885826\ttotal: 4m 13s\tremaining: 3m 50s\n",
            "89:\tlearn: -9.9886733\ttotal: 4m 17s\tremaining: 3m 48s\n",
            "90:\tlearn: -9.7933461\ttotal: 4m 19s\tremaining: 3m 45s\n",
            "91:\tlearn: -9.6034939\ttotal: 4m 22s\tremaining: 3m 42s\n",
            "92:\tlearn: -9.4181979\ttotal: 4m 25s\tremaining: 3m 40s\n",
            "93:\tlearn: -9.2395019\ttotal: 4m 28s\tremaining: 3m 37s\n",
            "94:\tlearn: -9.0641304\ttotal: 4m 31s\tremaining: 3m 34s\n",
            "95:\tlearn: -8.8834689\ttotal: 4m 34s\tremaining: 3m 31s\n",
            "96:\tlearn: -8.7113783\ttotal: 4m 37s\tremaining: 3m 28s\n",
            "97:\tlearn: -8.5371371\ttotal: 4m 40s\tremaining: 3m 25s\n",
            "98:\tlearn: -8.3784839\ttotal: 4m 43s\tremaining: 3m 23s\n",
            "99:\tlearn: -8.2106428\ttotal: 4m 46s\tremaining: 3m 20s\n",
            "100:\tlearn: -8.0447702\ttotal: 4m 49s\tremaining: 3m 17s\n",
            "101:\tlearn: -7.8835260\ttotal: 4m 52s\tremaining: 3m 14s\n",
            "102:\tlearn: -7.7279843\ttotal: 4m 54s\tremaining: 3m 11s\n",
            "103:\tlearn: -7.5736753\ttotal: 4m 57s\tremaining: 3m 8s\n",
            "104:\tlearn: -7.4199770\ttotal: 5m\tremaining: 3m 6s\n",
            "105:\tlearn: -7.2691883\ttotal: 5m 3s\tremaining: 3m 3s\n",
            "106:\tlearn: -7.1213676\ttotal: 5m 6s\tremaining: 3m\n",
            "107:\tlearn: -6.9743326\ttotal: 5m 10s\tremaining: 2m 57s\n",
            "108:\tlearn: -6.8337767\ttotal: 5m 12s\tremaining: 2m 55s\n",
            "109:\tlearn: -6.6929199\ttotal: 5m 15s\tremaining: 2m 52s\n",
            "110:\tlearn: -6.5556998\ttotal: 5m 18s\tremaining: 2m 49s\n",
            "111:\tlearn: -6.4192080\ttotal: 5m 20s\tremaining: 2m 46s\n",
            "112:\tlearn: -6.2867396\ttotal: 5m 23s\tremaining: 2m 43s\n",
            "113:\tlearn: -6.1538073\ttotal: 5m 26s\tremaining: 2m 40s\n",
            "114:\tlearn: -6.0254548\ttotal: 5m 29s\tremaining: 2m 37s\n",
            "115:\tlearn: -5.8995367\ttotal: 5m 32s\tremaining: 2m 34s\n",
            "116:\tlearn: -5.7761135\ttotal: 5m 35s\tremaining: 2m 31s\n",
            "117:\tlearn: -5.6614407\ttotal: 5m 38s\tremaining: 2m 29s\n",
            "118:\tlearn: -5.5485619\ttotal: 5m 41s\tremaining: 2m 26s\n",
            "119:\tlearn: -5.4416389\ttotal: 5m 44s\tremaining: 2m 23s\n",
            "120:\tlearn: -5.3377609\ttotal: 5m 47s\tremaining: 2m 20s\n",
            "121:\tlearn: -5.2348594\ttotal: 5m 50s\tremaining: 2m 17s\n",
            "122:\tlearn: -5.1356857\ttotal: 5m 53s\tremaining: 2m 15s\n",
            "123:\tlearn: -5.0376797\ttotal: 5m 56s\tremaining: 2m 12s\n",
            "124:\tlearn: -4.9422502\ttotal: 5m 59s\tremaining: 2m 9s\n",
            "125:\tlearn: -4.8493864\ttotal: 6m 1s\tremaining: 2m 6s\n",
            "126:\tlearn: -4.7588139\ttotal: 6m 4s\tremaining: 2m 3s\n",
            "127:\tlearn: -4.6781937\ttotal: 6m 7s\tremaining: 2m\n",
            "128:\tlearn: -4.5923864\ttotal: 6m 10s\tremaining: 1m 57s\n",
            "129:\tlearn: -4.5128860\ttotal: 6m 13s\tremaining: 1m 54s\n",
            "130:\tlearn: -4.4321435\ttotal: 6m 16s\tremaining: 1m 52s\n",
            "131:\tlearn: -4.3530082\ttotal: 6m 19s\tremaining: 1m 49s\n",
            "132:\tlearn: -4.2777634\ttotal: 6m 22s\tremaining: 1m 46s\n",
            "133:\tlearn: -4.2049028\ttotal: 6m 25s\tremaining: 1m 43s\n",
            "134:\tlearn: -4.1352950\ttotal: 6m 28s\tremaining: 1m 40s\n",
            "135:\tlearn: -4.0933525\ttotal: 6m 30s\tremaining: 1m 37s\n",
            "136:\tlearn: -4.0282551\ttotal: 6m 33s\tremaining: 1m 34s\n",
            "137:\tlearn: -3.9733996\ttotal: 6m 36s\tremaining: 1m 31s\n",
            "138:\tlearn: -3.9204503\ttotal: 6m 39s\tremaining: 1m 29s\n",
            "139:\tlearn: -3.8729901\ttotal: 6m 42s\tremaining: 1m 26s\n",
            "140:\tlearn: -3.8209384\ttotal: 6m 44s\tremaining: 1m 23s\n",
            "141:\tlearn: -3.7712726\ttotal: 6m 48s\tremaining: 1m 20s\n",
            "142:\tlearn: -3.7232157\ttotal: 6m 51s\tremaining: 1m 17s\n",
            "143:\tlearn: -3.6829698\ttotal: 6m 54s\tremaining: 1m 14s\n",
            "144:\tlearn: -3.6406448\ttotal: 6m 57s\tremaining: 1m 11s\n",
            "145:\tlearn: -3.6009256\ttotal: 7m\tremaining: 1m 9s\n",
            "146:\tlearn: -3.5642378\ttotal: 7m 3s\tremaining: 1m 6s\n",
            "147:\tlearn: -3.5302836\ttotal: 7m 6s\tremaining: 1m 3s\n",
            "148:\tlearn: -3.5013844\ttotal: 7m 9s\tremaining: 1m\n",
            "149:\tlearn: -3.4747995\ttotal: 7m 12s\tremaining: 57.7s\n",
            "150:\tlearn: -3.4523711\ttotal: 7m 15s\tremaining: 54.8s\n",
            "151:\tlearn: -3.4310531\ttotal: 7m 18s\tremaining: 51.9s\n",
            "152:\tlearn: -3.4132024\ttotal: 7m 21s\tremaining: 49s\n",
            "153:\tlearn: -3.3976206\ttotal: 7m 24s\tremaining: 46.1s\n",
            "154:\tlearn: -3.3850115\ttotal: 7m 27s\tremaining: 43.3s\n",
            "155:\tlearn: -3.3746334\ttotal: 7m 30s\tremaining: 40.4s\n",
            "156:\tlearn: -3.3662166\ttotal: 7m 33s\tremaining: 37.5s\n",
            "157:\tlearn: -3.3621732\ttotal: 7m 35s\tremaining: 34.6s\n",
            "158:\tlearn: -3.3591424\ttotal: 7m 38s\tremaining: 31.7s\n",
            "159:\tlearn: -3.3564453\ttotal: 7m 41s\tremaining: 28.9s\n",
            "160:\tlearn: -3.3538803\ttotal: 7m 44s\tremaining: 26s\n",
            "161:\tlearn: -3.3524104\ttotal: 7m 47s\tremaining: 23.1s\n",
            "162:\tlearn: -3.3518280\ttotal: 7m 50s\tremaining: 20.2s\n",
            "163:\tlearn: -3.3519540\ttotal: 7m 53s\tremaining: 17.3s\n",
            "164:\tlearn: -3.3505582\ttotal: 7m 56s\tremaining: 14.4s\n",
            "165:\tlearn: -3.3523496\ttotal: 7m 59s\tremaining: 11.6s\n",
            "166:\tlearn: -3.3543986\ttotal: 8m 2s\tremaining: 8.67s\n",
            "167:\tlearn: -3.3552140\ttotal: 8m 5s\tremaining: 5.78s\n",
            "168:\tlearn: -3.3572273\ttotal: 8m 8s\tremaining: 2.89s\n",
            "169:\tlearn: -3.3590079\ttotal: 8m 11s\tremaining: 0us\n",
            "1/10 Finished\n",
            "0:\tlearn: -44.0488775\ttotal: 2.65s\tremaining: 7m 27s\n",
            "1:\tlearn: -43.4340550\ttotal: 5.32s\tremaining: 7m 27s\n",
            "2:\tlearn: -42.8251668\ttotal: 7.86s\tremaining: 7m 17s\n",
            "3:\tlearn: -42.2167229\ttotal: 10.8s\tremaining: 7m 27s\n",
            "4:\tlearn: -41.6212403\ttotal: 13.9s\tremaining: 7m 37s\n",
            "5:\tlearn: -41.0229624\ttotal: 16.9s\tremaining: 7m 43s\n",
            "6:\tlearn: -40.4395960\ttotal: 20.1s\tremaining: 7m 47s\n",
            "7:\tlearn: -39.8633889\ttotal: 22.6s\tremaining: 7m 37s\n",
            "8:\tlearn: -39.2929426\ttotal: 25.5s\tremaining: 7m 35s\n",
            "9:\tlearn: -38.7304528\ttotal: 28.2s\tremaining: 7m 30s\n",
            "10:\tlearn: -38.1761599\ttotal: 30.9s\tremaining: 7m 26s\n",
            "11:\tlearn: -37.6260476\ttotal: 33.6s\tremaining: 7m 22s\n",
            "12:\tlearn: -37.0845835\ttotal: 36.6s\tremaining: 7m 21s\n",
            "13:\tlearn: -36.5468726\ttotal: 39.4s\tremaining: 7m 19s\n",
            "14:\tlearn: -36.0131666\ttotal: 42.1s\tremaining: 7m 15s\n",
            "15:\tlearn: -35.4883516\ttotal: 45.2s\tremaining: 7m 14s\n",
            "16:\tlearn: -34.9496558\ttotal: 47.8s\tremaining: 7m 10s\n",
            "17:\tlearn: -34.4365438\ttotal: 50.9s\tremaining: 7m 9s\n",
            "18:\tlearn: -33.9276958\ttotal: 53.4s\tremaining: 7m 4s\n",
            "19:\tlearn: -33.4239737\ttotal: 56.5s\tremaining: 7m 3s\n",
            "20:\tlearn: -32.9210503\ttotal: 59.3s\tremaining: 7m\n",
            "21:\tlearn: -32.4244900\ttotal: 1m 2s\tremaining: 6m 58s\n",
            "22:\tlearn: -31.9399997\ttotal: 1m 5s\tremaining: 6m 56s\n",
            "23:\tlearn: -31.4586133\ttotal: 1m 7s\tremaining: 6m 52s\n",
            "24:\tlearn: -30.9854473\ttotal: 1m 10s\tremaining: 6m 47s\n",
            "25:\tlearn: -30.5179663\ttotal: 1m 13s\tremaining: 6m 44s\n",
            "26:\tlearn: -30.0556296\ttotal: 1m 15s\tremaining: 6m 42s\n",
            "27:\tlearn: -29.5684825\ttotal: 1m 19s\tremaining: 6m 40s\n",
            "28:\tlearn: -29.1173108\ttotal: 1m 21s\tremaining: 6m 36s\n",
            "29:\tlearn: -28.6714424\ttotal: 1m 24s\tremaining: 6m 34s\n",
            "30:\tlearn: -28.2318270\ttotal: 1m 27s\tremaining: 6m 32s\n",
            "31:\tlearn: -27.7957874\ttotal: 1m 30s\tremaining: 6m 30s\n",
            "32:\tlearn: -27.3654962\ttotal: 1m 33s\tremaining: 6m 26s\n",
            "33:\tlearn: -26.9384051\ttotal: 1m 36s\tremaining: 6m 25s\n",
            "34:\tlearn: -26.5168447\ttotal: 1m 39s\tremaining: 6m 23s\n",
            "35:\tlearn: -26.1009624\ttotal: 1m 42s\tremaining: 6m 22s\n",
            "36:\tlearn: -25.6907856\ttotal: 1m 45s\tremaining: 6m 18s\n",
            "37:\tlearn: -25.2888309\ttotal: 1m 47s\tremaining: 6m 14s\n",
            "38:\tlearn: -24.8868849\ttotal: 1m 50s\tremaining: 6m 12s\n",
            "39:\tlearn: -24.4901895\ttotal: 1m 53s\tremaining: 6m 8s\n",
            "40:\tlearn: -24.0986621\ttotal: 1m 56s\tremaining: 6m 6s\n",
            "41:\tlearn: -23.7108161\ttotal: 1m 59s\tremaining: 6m 2s\n",
            "42:\tlearn: -23.3291710\ttotal: 2m 2s\tremaining: 6m 1s\n",
            "43:\tlearn: -22.9519078\ttotal: 2m 4s\tremaining: 5m 57s\n",
            "44:\tlearn: -22.5782153\ttotal: 2m 7s\tremaining: 5m 55s\n",
            "45:\tlearn: -22.2069265\ttotal: 2m 10s\tremaining: 5m 52s\n",
            "46:\tlearn: -21.8374479\ttotal: 2m 13s\tremaining: 5m 50s\n",
            "47:\tlearn: -21.4785560\ttotal: 2m 16s\tremaining: 5m 46s\n",
            "48:\tlearn: -21.1197124\ttotal: 2m 19s\tremaining: 5m 43s\n",
            "49:\tlearn: -20.7680995\ttotal: 2m 22s\tremaining: 5m 41s\n",
            "50:\tlearn: -20.4272138\ttotal: 2m 25s\tremaining: 5m 38s\n",
            "51:\tlearn: -20.0843923\ttotal: 2m 27s\tremaining: 5m 35s\n",
            "52:\tlearn: -19.7661129\ttotal: 2m 30s\tremaining: 5m 32s\n",
            "53:\tlearn: -19.4340126\ttotal: 2m 33s\tremaining: 5m 29s\n",
            "54:\tlearn: -19.1056033\ttotal: 2m 36s\tremaining: 5m 26s\n",
            "55:\tlearn: -18.7544046\ttotal: 2m 39s\tremaining: 5m 24s\n",
            "56:\tlearn: -18.4343602\ttotal: 2m 41s\tremaining: 5m 20s\n",
            "57:\tlearn: -18.1199829\ttotal: 2m 44s\tremaining: 5m 18s\n",
            "58:\tlearn: -17.8081492\ttotal: 2m 48s\tremaining: 5m 16s\n",
            "59:\tlearn: -17.5047553\ttotal: 2m 50s\tremaining: 5m 13s\n",
            "60:\tlearn: -17.2004837\ttotal: 2m 53s\tremaining: 5m 10s\n",
            "61:\tlearn: -16.9001009\ttotal: 2m 56s\tremaining: 5m 7s\n",
            "62:\tlearn: -16.6035981\ttotal: 2m 58s\tremaining: 5m 4s\n",
            "63:\tlearn: -16.3116938\ttotal: 3m 1s\tremaining: 5m\n",
            "64:\tlearn: -16.0222499\ttotal: 3m 4s\tremaining: 4m 57s\n",
            "65:\tlearn: -15.7381670\ttotal: 3m 7s\tremaining: 4m 54s\n",
            "66:\tlearn: -15.4599006\ttotal: 3m 9s\tremaining: 4m 51s\n",
            "67:\tlearn: -15.1886958\ttotal: 3m 12s\tremaining: 4m 48s\n",
            "68:\tlearn: -14.9194909\ttotal: 3m 15s\tremaining: 4m 45s\n",
            "69:\tlearn: -14.6523863\ttotal: 3m 18s\tremaining: 4m 43s\n",
            "70:\tlearn: -14.3923650\ttotal: 3m 21s\tremaining: 4m 40s\n",
            "71:\tlearn: -14.1337406\ttotal: 3m 23s\tremaining: 4m 37s\n",
            "72:\tlearn: -13.8807004\ttotal: 3m 26s\tremaining: 4m 34s\n",
            "73:\tlearn: -13.6312822\ttotal: 3m 29s\tremaining: 4m 31s\n",
            "74:\tlearn: -13.3850472\ttotal: 3m 32s\tremaining: 4m 28s\n",
            "75:\tlearn: -13.1392105\ttotal: 3m 34s\tremaining: 4m 25s\n",
            "76:\tlearn: -12.8889553\ttotal: 3m 37s\tremaining: 4m 22s\n",
            "77:\tlearn: -12.6461610\ttotal: 3m 40s\tremaining: 4m 19s\n",
            "78:\tlearn: -12.4125778\ttotal: 3m 43s\tremaining: 4m 17s\n",
            "79:\tlearn: -12.1826577\ttotal: 3m 46s\tremaining: 4m 14s\n",
            "80:\tlearn: -11.9559968\ttotal: 3m 49s\tremaining: 4m 12s\n",
            "81:\tlearn: -11.7303161\ttotal: 3m 52s\tremaining: 4m 9s\n",
            "82:\tlearn: -11.5093101\ttotal: 3m 55s\tremaining: 4m 6s\n",
            "83:\tlearn: -11.2846975\ttotal: 3m 58s\tremaining: 4m 3s\n",
            "84:\tlearn: -11.0715725\ttotal: 4m\tremaining: 4m\n",
            "85:\tlearn: -10.8617081\ttotal: 4m 3s\tremaining: 3m 58s\n",
            "86:\tlearn: -10.6387396\ttotal: 4m 6s\tremaining: 3m 55s\n",
            "87:\tlearn: -10.4348967\ttotal: 4m 9s\tremaining: 3m 52s\n",
            "88:\tlearn: -10.2357817\ttotal: 4m 12s\tremaining: 3m 50s\n",
            "89:\tlearn: -10.0381975\ttotal: 4m 15s\tremaining: 3m 46s\n",
            "90:\tlearn: -9.8440024\ttotal: 4m 18s\tremaining: 3m 44s\n",
            "91:\tlearn: -9.6544724\ttotal: 4m 20s\tremaining: 3m 41s\n",
            "92:\tlearn: -9.4639992\ttotal: 4m 23s\tremaining: 3m 38s\n",
            "93:\tlearn: -9.2765781\ttotal: 4m 26s\tremaining: 3m 35s\n",
            "94:\tlearn: -9.0918829\ttotal: 4m 29s\tremaining: 3m 32s\n",
            "95:\tlearn: -8.9117683\ttotal: 4m 32s\tremaining: 3m 30s\n",
            "96:\tlearn: -8.7386708\ttotal: 4m 35s\tremaining: 3m 27s\n",
            "97:\tlearn: -8.5645454\ttotal: 4m 37s\tremaining: 3m 24s\n",
            "98:\tlearn: -8.3930857\ttotal: 4m 41s\tremaining: 3m 21s\n",
            "99:\tlearn: -8.2225499\ttotal: 4m 44s\tremaining: 3m 18s\n",
            "100:\tlearn: -8.0566016\ttotal: 4m 47s\tremaining: 3m 16s\n",
            "101:\tlearn: -7.8945838\ttotal: 4m 49s\tremaining: 3m 13s\n",
            "102:\tlearn: -7.7525569\ttotal: 4m 52s\tremaining: 3m 10s\n",
            "103:\tlearn: -7.5941984\ttotal: 4m 55s\tremaining: 3m 7s\n",
            "104:\tlearn: -7.4389360\ttotal: 4m 57s\tremaining: 3m 4s\n",
            "105:\tlearn: -7.2959067\ttotal: 5m 1s\tremaining: 3m 1s\n",
            "106:\tlearn: -7.1453155\ttotal: 5m 4s\tremaining: 2m 59s\n",
            "107:\tlearn: -6.9982750\ttotal: 5m 7s\tremaining: 2m 56s\n",
            "108:\tlearn: -6.8524284\ttotal: 5m 9s\tremaining: 2m 53s\n",
            "109:\tlearn: -6.7095620\ttotal: 5m 12s\tremaining: 2m 50s\n",
            "110:\tlearn: -6.5691696\ttotal: 5m 15s\tremaining: 2m 47s\n",
            "111:\tlearn: -6.4316277\ttotal: 5m 18s\tremaining: 2m 44s\n",
            "112:\tlearn: -6.2962867\ttotal: 5m 20s\tremaining: 2m 41s\n",
            "113:\tlearn: -6.1634592\ttotal: 5m 23s\tremaining: 2m 39s\n",
            "114:\tlearn: -6.0330022\ttotal: 5m 26s\tremaining: 2m 36s\n",
            "115:\tlearn: -5.9054351\ttotal: 5m 29s\tremaining: 2m 33s\n",
            "116:\tlearn: -5.7805015\ttotal: 5m 32s\tremaining: 2m 30s\n",
            "117:\tlearn: -5.6588791\ttotal: 5m 35s\tremaining: 2m 27s\n",
            "118:\tlearn: -5.5460282\ttotal: 5m 38s\tremaining: 2m 25s\n",
            "119:\tlearn: -5.4374330\ttotal: 5m 41s\tremaining: 2m 22s\n",
            "120:\tlearn: -5.3315915\ttotal: 5m 44s\tremaining: 2m 19s\n",
            "121:\tlearn: -5.2286537\ttotal: 5m 47s\tremaining: 2m 16s\n",
            "122:\tlearn: -5.1280839\ttotal: 5m 50s\tremaining: 2m 13s\n",
            "123:\tlearn: -5.0296752\ttotal: 5m 52s\tremaining: 2m 10s\n",
            "124:\tlearn: -4.9339009\ttotal: 5m 56s\tremaining: 2m 8s\n",
            "125:\tlearn: -4.8405638\ttotal: 5m 58s\tremaining: 2m 5s\n",
            "126:\tlearn: -4.7497371\ttotal: 6m 1s\tremaining: 2m 2s\n",
            "127:\tlearn: -4.6615690\ttotal: 6m 4s\tremaining: 1m 59s\n",
            "128:\tlearn: -4.5760561\ttotal: 6m 7s\tremaining: 1m 56s\n",
            "129:\tlearn: -4.4925692\ttotal: 6m 11s\tremaining: 1m 54s\n",
            "130:\tlearn: -4.4116305\ttotal: 6m 15s\tremaining: 1m 51s\n",
            "131:\tlearn: -4.3332854\ttotal: 6m 18s\tremaining: 1m 48s\n",
            "132:\tlearn: -4.2577885\ttotal: 6m 20s\tremaining: 1m 45s\n",
            "133:\tlearn: -4.1848487\ttotal: 6m 23s\tremaining: 1m 43s\n",
            "134:\tlearn: -4.1143427\ttotal: 6m 26s\tremaining: 1m 40s\n",
            "135:\tlearn: -4.0467611\ttotal: 6m 29s\tremaining: 1m 37s\n",
            "136:\tlearn: -3.9817794\ttotal: 6m 32s\tremaining: 1m 34s\n",
            "137:\tlearn: -3.9195062\ttotal: 6m 34s\tremaining: 1m 31s\n",
            "138:\tlearn: -3.8601554\ttotal: 6m 37s\tremaining: 1m 28s\n",
            "139:\tlearn: -3.8035406\ttotal: 6m 40s\tremaining: 1m 25s\n",
            "140:\tlearn: -3.7498541\ttotal: 6m 43s\tremaining: 1m 22s\n",
            "141:\tlearn: -3.6990111\ttotal: 6m 46s\tremaining: 1m 20s\n",
            "142:\tlearn: -3.6511817\ttotal: 6m 48s\tremaining: 1m 17s\n",
            "143:\tlearn: -3.6064676\ttotal: 6m 52s\tremaining: 1m 14s\n",
            "144:\tlearn: -3.5648236\ttotal: 6m 55s\tremaining: 1m 11s\n",
            "145:\tlearn: -3.5267491\ttotal: 6m 58s\tremaining: 1m 8s\n",
            "146:\tlearn: -3.4917556\ttotal: 7m 1s\tremaining: 1m 5s\n",
            "147:\tlearn: -3.4603163\ttotal: 7m 3s\tremaining: 1m 3s\n",
            "148:\tlearn: -3.4319307\ttotal: 7m 6s\tremaining: 1m\n",
            "149:\tlearn: -3.4068396\ttotal: 7m 9s\tremaining: 57.3s\n",
            "150:\tlearn: -3.3851545\ttotal: 7m 12s\tremaining: 54.4s\n",
            "151:\tlearn: -3.3666487\ttotal: 7m 15s\tremaining: 51.5s\n",
            "152:\tlearn: -3.3514879\ttotal: 7m 17s\tremaining: 48.6s\n",
            "153:\tlearn: -3.3385149\ttotal: 7m 20s\tremaining: 45.8s\n",
            "154:\tlearn: -3.3280002\ttotal: 7m 23s\tremaining: 42.9s\n",
            "155:\tlearn: -3.3203877\ttotal: 7m 26s\tremaining: 40.1s\n",
            "156:\tlearn: -3.3138822\ttotal: 7m 29s\tremaining: 37.2s\n",
            "157:\tlearn: -3.3088884\ttotal: 7m 32s\tremaining: 34.4s\n",
            "158:\tlearn: -3.3051936\ttotal: 7m 35s\tremaining: 31.5s\n",
            "159:\tlearn: -3.3026128\ttotal: 7m 38s\tremaining: 28.7s\n",
            "160:\tlearn: -3.3008547\ttotal: 7m 41s\tremaining: 25.8s\n",
            "161:\tlearn: -3.2982871\ttotal: 7m 44s\tremaining: 22.9s\n",
            "162:\tlearn: -3.2961828\ttotal: 7m 47s\tremaining: 20.1s\n",
            "163:\tlearn: -3.2956421\ttotal: 7m 50s\tremaining: 17.2s\n",
            "164:\tlearn: -3.2935155\ttotal: 7m 53s\tremaining: 14.3s\n",
            "165:\tlearn: -3.2924721\ttotal: 7m 56s\tremaining: 11.5s\n",
            "166:\tlearn: -3.2928371\ttotal: 7m 59s\tremaining: 8.61s\n",
            "167:\tlearn: -3.2964104\ttotal: 8m 2s\tremaining: 5.74s\n",
            "168:\tlearn: -3.2966786\ttotal: 8m 4s\tremaining: 2.87s\n",
            "169:\tlearn: -3.2974930\ttotal: 8m 7s\tremaining: 0us\n",
            "2/10 Finished\n",
            "0:\tlearn: -44.0435382\ttotal: 3.09s\tremaining: 8m 42s\n",
            "1:\tlearn: -43.4279194\ttotal: 6.21s\tremaining: 8m 41s\n",
            "2:\tlearn: -42.8198607\ttotal: 9.31s\tremaining: 8m 38s\n",
            "3:\tlearn: -42.2180161\ttotal: 12.4s\tremaining: 8m 34s\n",
            "4:\tlearn: -41.6162165\ttotal: 15.5s\tremaining: 8m 32s\n",
            "5:\tlearn: -41.0262963\ttotal: 18.6s\tremaining: 8m 29s\n",
            "6:\tlearn: -40.4389192\ttotal: 21.7s\tremaining: 8m 25s\n",
            "7:\tlearn: -39.8593790\ttotal: 24.2s\tremaining: 8m 10s\n",
            "8:\tlearn: -39.2894224\ttotal: 26.8s\tremaining: 7m 58s\n",
            "9:\tlearn: -38.7250212\ttotal: 29.3s\tremaining: 7m 49s\n",
            "10:\tlearn: -38.1687331\ttotal: 32.4s\tremaining: 7m 47s\n",
            "11:\tlearn: -37.6186801\ttotal: 35.4s\tremaining: 7m 46s\n",
            "12:\tlearn: -37.0670823\ttotal: 38.3s\tremaining: 7m 43s\n",
            "13:\tlearn: -36.5295217\ttotal: 41s\tremaining: 7m 37s\n",
            "14:\tlearn: -35.9977257\ttotal: 44.1s\tremaining: 7m 36s\n",
            "15:\tlearn: -35.4664425\ttotal: 47.2s\tremaining: 7m 34s\n",
            "16:\tlearn: -34.9463054\ttotal: 50.3s\tremaining: 7m 32s\n",
            "17:\tlearn: -34.4328025\ttotal: 53.1s\tremaining: 7m 27s\n",
            "18:\tlearn: -33.9241269\ttotal: 55.9s\tremaining: 7m 24s\n",
            "19:\tlearn: -33.4184991\ttotal: 59s\tremaining: 7m 22s\n",
            "20:\tlearn: -32.9226004\ttotal: 1m 1s\tremaining: 7m 18s\n",
            "21:\tlearn: -32.4287173\ttotal: 1m 4s\tremaining: 7m 16s\n",
            "22:\tlearn: -31.9414913\ttotal: 1m 8s\tremaining: 7m 14s\n",
            "23:\tlearn: -31.4620140\ttotal: 1m 11s\tremaining: 7m 12s\n",
            "24:\tlearn: -30.9886061\ttotal: 1m 13s\tremaining: 7m 8s\n",
            "25:\tlearn: -30.5175873\ttotal: 1m 17s\tremaining: 7m 6s\n",
            "26:\tlearn: -30.0559596\ttotal: 1m 19s\tremaining: 7m 2s\n",
            "27:\tlearn: -29.6001344\ttotal: 1m 22s\tremaining: 7m\n",
            "28:\tlearn: -29.1483707\ttotal: 1m 25s\tremaining: 6m 57s\n",
            "29:\tlearn: -28.7014057\ttotal: 1m 28s\tremaining: 6m 52s\n",
            "30:\tlearn: -28.2542411\ttotal: 1m 31s\tremaining: 6m 50s\n",
            "31:\tlearn: -27.8166200\ttotal: 1m 34s\tremaining: 6m 47s\n",
            "32:\tlearn: -27.3824188\ttotal: 1m 37s\tremaining: 6m 44s\n",
            "33:\tlearn: -26.9580597\ttotal: 1m 40s\tremaining: 6m 41s\n",
            "34:\tlearn: -26.5319836\ttotal: 1m 43s\tremaining: 6m 38s\n",
            "35:\tlearn: -26.1151558\ttotal: 1m 46s\tremaining: 6m 35s\n",
            "36:\tlearn: -25.6938851\ttotal: 1m 48s\tremaining: 6m 30s\n",
            "37:\tlearn: -25.2906783\ttotal: 1m 51s\tremaining: 6m 27s\n",
            "38:\tlearn: -24.8831720\ttotal: 1m 54s\tremaining: 6m 25s\n",
            "39:\tlearn: -24.4877261\ttotal: 1m 57s\tremaining: 6m 22s\n",
            "40:\tlearn: -24.0974105\ttotal: 2m\tremaining: 6m 20s\n",
            "41:\tlearn: -23.6855540\ttotal: 2m 3s\tremaining: 6m 17s\n",
            "42:\tlearn: -23.3021603\ttotal: 2m 7s\tremaining: 6m 15s\n",
            "43:\tlearn: -22.9252319\ttotal: 2m 9s\tremaining: 6m 11s\n",
            "44:\tlearn: -22.5705873\ttotal: 2m 12s\tremaining: 6m 7s\n",
            "45:\tlearn: -22.2022700\ttotal: 2m 15s\tremaining: 6m 4s\n",
            "46:\tlearn: -21.8692980\ttotal: 2m 17s\tremaining: 6m\n",
            "47:\tlearn: -21.5105976\ttotal: 2m 20s\tremaining: 5m 58s\n",
            "48:\tlearn: -21.1569362\ttotal: 2m 24s\tremaining: 5m 55s\n",
            "49:\tlearn: -20.8073468\ttotal: 2m 27s\tremaining: 5m 53s\n",
            "50:\tlearn: -20.4614821\ttotal: 2m 30s\tremaining: 5m 50s\n",
            "51:\tlearn: -20.1184345\ttotal: 2m 32s\tremaining: 5m 47s\n",
            "52:\tlearn: -19.7806925\ttotal: 2m 35s\tremaining: 5m 43s\n",
            "53:\tlearn: -19.4477129\ttotal: 2m 38s\tremaining: 5m 40s\n",
            "54:\tlearn: -19.1147300\ttotal: 2m 41s\tremaining: 5m 37s\n",
            "55:\tlearn: -18.7912132\ttotal: 2m 44s\tremaining: 5m 34s\n",
            "56:\tlearn: -18.4683456\ttotal: 2m 47s\tremaining: 5m 31s\n",
            "57:\tlearn: -18.1516587\ttotal: 2m 50s\tremaining: 5m 28s\n",
            "58:\tlearn: -17.8403811\ttotal: 2m 53s\tremaining: 5m 25s\n",
            "59:\tlearn: -17.5317256\ttotal: 2m 56s\tremaining: 5m 22s\n",
            "60:\tlearn: -17.2278101\ttotal: 2m 58s\tremaining: 5m 19s\n",
            "61:\tlearn: -16.9253780\ttotal: 3m 1s\tremaining: 5m 16s\n",
            "62:\tlearn: -16.6291782\ttotal: 3m 4s\tremaining: 5m 12s\n",
            "63:\tlearn: -16.3361355\ttotal: 3m 6s\tremaining: 5m 9s\n",
            "64:\tlearn: -16.0467823\ttotal: 3m 9s\tremaining: 5m 6s\n",
            "65:\tlearn: -15.7620335\ttotal: 3m 12s\tremaining: 5m 3s\n",
            "66:\tlearn: -15.4865846\ttotal: 3m 15s\tremaining: 5m\n",
            "67:\tlearn: -15.2146837\ttotal: 3m 18s\tremaining: 4m 57s\n",
            "68:\tlearn: -14.9475016\ttotal: 3m 21s\tremaining: 4m 54s\n",
            "69:\tlearn: -14.6835990\ttotal: 3m 24s\tremaining: 4m 51s\n",
            "70:\tlearn: -14.4199451\ttotal: 3m 26s\tremaining: 4m 48s\n",
            "71:\tlearn: -14.1628635\ttotal: 3m 29s\tremaining: 4m 45s\n",
            "72:\tlearn: -13.8970998\ttotal: 3m 32s\tremaining: 4m 42s\n",
            "73:\tlearn: -13.6470941\ttotal: 3m 35s\tremaining: 4m 39s\n",
            "74:\tlearn: -13.4005964\ttotal: 3m 38s\tremaining: 4m 36s\n",
            "75:\tlearn: -13.1545422\ttotal: 3m 41s\tremaining: 4m 33s\n",
            "76:\tlearn: -12.9147278\ttotal: 3m 44s\tremaining: 4m 30s\n",
            "77:\tlearn: -12.6753312\ttotal: 3m 47s\tremaining: 4m 28s\n",
            "78:\tlearn: -12.4398852\ttotal: 3m 50s\tremaining: 4m 24s\n",
            "79:\tlearn: -12.2008700\ttotal: 3m 52s\tremaining: 4m 21s\n",
            "80:\tlearn: -11.9662410\ttotal: 3m 55s\tremaining: 4m 18s\n",
            "81:\tlearn: -11.7408212\ttotal: 3m 58s\tremaining: 4m 15s\n",
            "82:\tlearn: -11.5107612\ttotal: 4m 1s\tremaining: 4m 12s\n",
            "83:\tlearn: -11.2927657\ttotal: 4m 4s\tremaining: 4m 10s\n",
            "84:\tlearn: -11.0784935\ttotal: 4m 7s\tremaining: 4m 7s\n",
            "85:\tlearn: -10.8690579\ttotal: 4m 9s\tremaining: 4m 4s\n",
            "86:\tlearn: -10.6542910\ttotal: 4m 12s\tremaining: 4m 1s\n",
            "87:\tlearn: -10.4501920\ttotal: 4m 15s\tremaining: 3m 58s\n",
            "88:\tlearn: -10.2510270\ttotal: 4m 18s\tremaining: 3m 55s\n",
            "89:\tlearn: -10.0505280\ttotal: 4m 21s\tremaining: 3m 52s\n",
            "90:\tlearn: -9.8554538\ttotal: 4m 24s\tremaining: 3m 49s\n",
            "91:\tlearn: -9.6638638\ttotal: 4m 27s\tremaining: 3m 46s\n",
            "92:\tlearn: -9.4750268\ttotal: 4m 30s\tremaining: 3m 43s\n",
            "93:\tlearn: -9.2898239\ttotal: 4m 32s\tremaining: 3m 40s\n",
            "94:\tlearn: -9.1060417\ttotal: 4m 35s\tremaining: 3m 37s\n",
            "95:\tlearn: -8.9193052\ttotal: 4m 38s\tremaining: 3m 34s\n",
            "96:\tlearn: -8.7419741\ttotal: 4m 41s\tremaining: 3m 31s\n",
            "97:\tlearn: -8.5673893\ttotal: 4m 43s\tremaining: 3m 28s\n",
            "98:\tlearn: -8.3908998\ttotal: 4m 46s\tremaining: 3m 25s\n",
            "99:\tlearn: -8.2179125\ttotal: 4m 49s\tremaining: 3m 22s\n",
            "100:\tlearn: -8.1081214\ttotal: 4m 53s\tremaining: 3m 20s\n",
            "101:\tlearn: -7.9767676\ttotal: 4m 55s\tremaining: 3m 17s\n",
            "102:\tlearn: -7.8155208\ttotal: 4m 58s\tremaining: 3m 14s\n",
            "103:\tlearn: -7.6578472\ttotal: 5m 1s\tremaining: 3m 11s\n",
            "104:\tlearn: -7.5106391\ttotal: 5m 4s\tremaining: 3m 8s\n",
            "105:\tlearn: -7.3641763\ttotal: 5m 7s\tremaining: 3m 5s\n",
            "106:\tlearn: -7.2159102\ttotal: 5m 10s\tremaining: 3m 2s\n",
            "107:\tlearn: -7.0674901\ttotal: 5m 12s\tremaining: 2m 59s\n",
            "108:\tlearn: -6.9209785\ttotal: 5m 15s\tremaining: 2m 56s\n",
            "109:\tlearn: -6.7786053\ttotal: 5m 17s\tremaining: 2m 53s\n",
            "110:\tlearn: -6.6375708\ttotal: 5m 20s\tremaining: 2m 50s\n",
            "111:\tlearn: -6.4993890\ttotal: 5m 23s\tremaining: 2m 47s\n",
            "112:\tlearn: -6.3634749\ttotal: 5m 26s\tremaining: 2m 44s\n",
            "113:\tlearn: -6.2297797\ttotal: 5m 29s\tremaining: 2m 41s\n",
            "114:\tlearn: -6.0988938\ttotal: 5m 32s\tremaining: 2m 38s\n",
            "115:\tlearn: -5.9714749\ttotal: 5m 35s\tremaining: 2m 36s\n",
            "116:\tlearn: -5.8459052\ttotal: 5m 38s\tremaining: 2m 33s\n",
            "117:\tlearn: -5.7238326\ttotal: 5m 41s\tremaining: 2m 30s\n",
            "118:\tlearn: -5.6122163\ttotal: 5m 44s\tremaining: 2m 27s\n",
            "119:\tlearn: -5.5035941\ttotal: 5m 47s\tremaining: 2m 24s\n",
            "120:\tlearn: -5.3995004\ttotal: 5m 50s\tremaining: 2m 21s\n",
            "121:\tlearn: -5.2960713\ttotal: 5m 53s\tremaining: 2m 19s\n",
            "122:\tlearn: -5.1950576\ttotal: 5m 56s\tremaining: 2m 16s\n",
            "123:\tlearn: -5.0986303\ttotal: 5m 59s\tremaining: 2m 13s\n",
            "124:\tlearn: -5.0026569\ttotal: 6m 2s\tremaining: 2m 10s\n",
            "125:\tlearn: -4.9118881\ttotal: 6m 4s\tremaining: 2m 7s\n",
            "126:\tlearn: -4.8207881\ttotal: 6m 7s\tremaining: 2m 4s\n",
            "127:\tlearn: -4.7322264\ttotal: 6m 10s\tremaining: 2m 1s\n",
            "128:\tlearn: -4.6437189\ttotal: 6m 14s\tremaining: 1m 58s\n",
            "129:\tlearn: -4.5690111\ttotal: 6m 17s\tremaining: 1m 56s\n",
            "130:\tlearn: -4.4879285\ttotal: 6m 20s\tremaining: 1m 53s\n",
            "131:\tlearn: -4.4095910\ttotal: 6m 23s\tremaining: 1m 50s\n",
            "132:\tlearn: -4.3338169\ttotal: 6m 26s\tremaining: 1m 47s\n",
            "133:\tlearn: -4.2605644\ttotal: 6m 29s\tremaining: 1m 44s\n",
            "134:\tlearn: -4.1900143\ttotal: 6m 32s\tremaining: 1m 41s\n",
            "135:\tlearn: -4.1220974\ttotal: 6m 35s\tremaining: 1m 38s\n",
            "136:\tlearn: -4.0821559\ttotal: 6m 38s\tremaining: 1m 36s\n",
            "137:\tlearn: -4.0279824\ttotal: 6m 41s\tremaining: 1m 33s\n",
            "138:\tlearn: -3.9675782\ttotal: 6m 44s\tremaining: 1m 30s\n",
            "139:\tlearn: -3.9182767\ttotal: 6m 47s\tremaining: 1m 27s\n",
            "140:\tlearn: -3.8633851\ttotal: 6m 50s\tremaining: 1m 24s\n",
            "141:\tlearn: -3.8114896\ttotal: 6m 53s\tremaining: 1m 21s\n",
            "142:\tlearn: -3.7626039\ttotal: 6m 56s\tremaining: 1m 18s\n",
            "143:\tlearn: -3.7167790\ttotal: 6m 59s\tremaining: 1m 15s\n",
            "144:\tlearn: -3.6741199\ttotal: 7m 2s\tremaining: 1m 12s\n",
            "145:\tlearn: -3.6348013\ttotal: 7m 5s\tremaining: 1m 9s\n",
            "146:\tlearn: -3.5988162\ttotal: 7m 7s\tremaining: 1m 6s\n",
            "147:\tlearn: -3.5662039\ttotal: 7m 10s\tremaining: 1m 4s\n",
            "148:\tlearn: -3.5406601\ttotal: 7m 13s\tremaining: 1m 1s\n",
            "149:\tlearn: -3.5147596\ttotal: 7m 16s\tremaining: 58.2s\n",
            "150:\tlearn: -3.4934297\ttotal: 7m 19s\tremaining: 55.3s\n",
            "151:\tlearn: -3.4738989\ttotal: 7m 22s\tremaining: 52.4s\n",
            "152:\tlearn: -3.4608635\ttotal: 7m 25s\tremaining: 49.5s\n",
            "153:\tlearn: -3.4506361\ttotal: 7m 28s\tremaining: 46.6s\n",
            "154:\tlearn: -3.4398628\ttotal: 7m 31s\tremaining: 43.7s\n",
            "155:\tlearn: -3.4307224\ttotal: 7m 34s\tremaining: 40.8s\n",
            "156:\tlearn: -3.4234014\ttotal: 7m 37s\tremaining: 37.9s\n",
            "157:\tlearn: -3.4176972\ttotal: 7m 40s\tremaining: 35s\n",
            "158:\tlearn: -3.4132966\ttotal: 7m 43s\tremaining: 32.1s\n",
            "159:\tlearn: -3.4100222\ttotal: 7m 46s\tremaining: 29.2s\n",
            "160:\tlearn: -3.4075310\ttotal: 7m 49s\tremaining: 26.3s\n",
            "161:\tlearn: -3.4052355\ttotal: 7m 52s\tremaining: 23.3s\n",
            "162:\tlearn: -3.4037271\ttotal: 7m 55s\tremaining: 20.4s\n",
            "163:\tlearn: -3.4029765\ttotal: 7m 58s\tremaining: 17.5s\n",
            "164:\tlearn: -3.4022554\ttotal: 8m 1s\tremaining: 14.6s\n",
            "165:\tlearn: -3.4019040\ttotal: 8m 4s\tremaining: 11.7s\n",
            "166:\tlearn: -3.4049356\ttotal: 8m 7s\tremaining: 8.76s\n",
            "167:\tlearn: -3.4046212\ttotal: 8m 11s\tremaining: 5.85s\n",
            "168:\tlearn: -3.4046008\ttotal: 8m 14s\tremaining: 2.93s\n",
            "169:\tlearn: -3.4051273\ttotal: 8m 17s\tremaining: 0us\n",
            "3/10 Finished\n",
            "0:\tlearn: -44.0435586\ttotal: 2.89s\tremaining: 8m 8s\n",
            "1:\tlearn: -43.4262493\ttotal: 5.61s\tremaining: 7m 50s\n",
            "2:\tlearn: -42.8139690\ttotal: 8.34s\tremaining: 7m 44s\n",
            "3:\tlearn: -42.2119266\ttotal: 11.3s\tremaining: 7m 48s\n",
            "4:\tlearn: -41.6148898\ttotal: 14.2s\tremaining: 7m 47s\n",
            "5:\tlearn: -41.0251766\ttotal: 17.3s\tremaining: 7m 51s\n",
            "6:\tlearn: -40.4430496\ttotal: 20.3s\tremaining: 7m 51s\n",
            "7:\tlearn: -39.8675120\ttotal: 22.9s\tremaining: 7m 44s\n",
            "8:\tlearn: -39.2984275\ttotal: 26s\tremaining: 7m 44s\n",
            "9:\tlearn: -38.7356453\ttotal: 29s\tremaining: 7m 43s\n",
            "10:\tlearn: -38.1792140\ttotal: 32.3s\tremaining: 7m 46s\n",
            "11:\tlearn: -37.6290438\ttotal: 35.1s\tremaining: 7m 42s\n",
            "12:\tlearn: -37.0852191\ttotal: 37.8s\tremaining: 7m 36s\n",
            "13:\tlearn: -36.5474283\ttotal: 40.6s\tremaining: 7m 32s\n",
            "14:\tlearn: -36.0152208\ttotal: 43.7s\tremaining: 7m 31s\n",
            "15:\tlearn: -35.4905447\ttotal: 46.6s\tremaining: 7m 28s\n",
            "16:\tlearn: -34.9709134\ttotal: 49.4s\tremaining: 7m 24s\n",
            "17:\tlearn: -34.4547195\ttotal: 51.9s\tremaining: 7m 18s\n",
            "18:\tlearn: -33.9456917\ttotal: 55s\tremaining: 7m 17s\n",
            "19:\tlearn: -33.4374044\ttotal: 58s\tremaining: 7m 15s\n",
            "20:\tlearn: -32.9412891\ttotal: 1m\tremaining: 7m 9s\n",
            "21:\tlearn: -32.4481060\ttotal: 1m 3s\tremaining: 7m 7s\n",
            "22:\tlearn: -31.9646897\ttotal: 1m 6s\tremaining: 7m 6s\n",
            "23:\tlearn: -31.4816370\ttotal: 1m 9s\tremaining: 7m 1s\n",
            "24:\tlearn: -31.0085112\ttotal: 1m 12s\tremaining: 6m 58s\n",
            "25:\tlearn: -30.5407541\ttotal: 1m 15s\tremaining: 6m 56s\n",
            "26:\tlearn: -30.0781674\ttotal: 1m 18s\tremaining: 6m 53s\n",
            "27:\tlearn: -29.6200799\ttotal: 1m 20s\tremaining: 6m 49s\n",
            "28:\tlearn: -29.1538434\ttotal: 1m 23s\tremaining: 6m 45s\n",
            "29:\tlearn: -28.7055858\ttotal: 1m 25s\tremaining: 6m 41s\n",
            "30:\tlearn: -28.2636266\ttotal: 1m 28s\tremaining: 6m 36s\n",
            "31:\tlearn: -27.8121362\ttotal: 1m 31s\tremaining: 6m 34s\n",
            "32:\tlearn: -27.3824371\ttotal: 1m 34s\tremaining: 6m 33s\n",
            "33:\tlearn: -26.9570466\ttotal: 1m 37s\tremaining: 6m 28s\n",
            "34:\tlearn: -26.5352237\ttotal: 1m 40s\tremaining: 6m 25s\n",
            "35:\tlearn: -26.1054331\ttotal: 1m 43s\tremaining: 6m 23s\n",
            "36:\tlearn: -25.6952688\ttotal: 1m 45s\tremaining: 6m 19s\n",
            "37:\tlearn: -25.2920412\ttotal: 1m 48s\tremaining: 6m 16s\n",
            "38:\tlearn: -24.8920235\ttotal: 1m 51s\tremaining: 6m 13s\n",
            "39:\tlearn: -24.4964539\ttotal: 1m 54s\tremaining: 6m 11s\n",
            "40:\tlearn: -24.1036824\ttotal: 1m 57s\tremaining: 6m 9s\n",
            "41:\tlearn: -23.7164872\ttotal: 2m\tremaining: 6m 7s\n",
            "42:\tlearn: -23.3353479\ttotal: 2m 3s\tremaining: 6m 4s\n",
            "43:\tlearn: -23.0202475\ttotal: 2m 6s\tremaining: 6m 2s\n",
            "44:\tlearn: -22.6476063\ttotal: 2m 9s\tremaining: 5m 58s\n",
            "45:\tlearn: -22.2809411\ttotal: 2m 12s\tremaining: 5m 56s\n",
            "46:\tlearn: -21.9179219\ttotal: 2m 15s\tremaining: 5m 53s\n",
            "47:\tlearn: -21.5623327\ttotal: 2m 17s\tremaining: 5m 50s\n",
            "48:\tlearn: -21.2090059\ttotal: 2m 20s\tremaining: 5m 47s\n",
            "49:\tlearn: -20.8579807\ttotal: 2m 23s\tremaining: 5m 44s\n",
            "50:\tlearn: -20.5124809\ttotal: 2m 26s\tremaining: 5m 42s\n",
            "51:\tlearn: -20.1694658\ttotal: 2m 29s\tremaining: 5m 39s\n",
            "52:\tlearn: -19.8308570\ttotal: 2m 32s\tremaining: 5m 36s\n",
            "53:\tlearn: -19.4972587\ttotal: 2m 35s\tremaining: 5m 33s\n",
            "54:\tlearn: -19.1695737\ttotal: 2m 37s\tremaining: 5m 29s\n",
            "55:\tlearn: -18.8360851\ttotal: 2m 40s\tremaining: 5m 26s\n",
            "56:\tlearn: -18.5183522\ttotal: 2m 42s\tremaining: 5m 23s\n",
            "57:\tlearn: -18.2019738\ttotal: 2m 46s\tremaining: 5m 20s\n",
            "58:\tlearn: -17.8903383\ttotal: 2m 48s\tremaining: 5m 17s\n",
            "59:\tlearn: -17.5827028\ttotal: 2m 51s\tremaining: 5m 14s\n",
            "60:\tlearn: -17.2784871\ttotal: 2m 54s\tremaining: 5m 11s\n",
            "61:\tlearn: -16.9782113\ttotal: 2m 57s\tremaining: 5m 9s\n",
            "62:\tlearn: -16.6817581\ttotal: 3m\tremaining: 5m 5s\n",
            "63:\tlearn: -16.3902857\ttotal: 3m 3s\tremaining: 5m 3s\n",
            "64:\tlearn: -16.1033282\ttotal: 3m 6s\tremaining: 5m\n",
            "65:\tlearn: -15.8198535\ttotal: 3m 9s\tremaining: 4m 58s\n",
            "66:\tlearn: -15.5455330\ttotal: 3m 12s\tremaining: 4m 56s\n",
            "67:\tlearn: -15.2752180\ttotal: 3m 16s\tremaining: 4m 54s\n",
            "68:\tlearn: -15.0079653\ttotal: 3m 19s\tremaining: 4m 51s\n",
            "69:\tlearn: -14.7435910\ttotal: 3m 22s\tremaining: 4m 48s\n",
            "70:\tlearn: -14.4839185\ttotal: 3m 24s\tremaining: 4m 45s\n",
            "71:\tlearn: -14.2277849\ttotal: 3m 27s\tremaining: 4m 42s\n",
            "72:\tlearn: -13.9749965\ttotal: 3m 30s\tremaining: 4m 39s\n",
            "73:\tlearn: -13.7252601\ttotal: 3m 33s\tremaining: 4m 36s\n",
            "74:\tlearn: -13.4799338\ttotal: 3m 35s\tremaining: 4m 33s\n",
            "75:\tlearn: -13.2375991\ttotal: 3m 38s\tremaining: 4m 30s\n",
            "76:\tlearn: -12.9980674\ttotal: 3m 41s\tremaining: 4m 27s\n",
            "77:\tlearn: -12.7618355\ttotal: 3m 44s\tremaining: 4m 24s\n",
            "78:\tlearn: -12.5278688\ttotal: 3m 47s\tremaining: 4m 21s\n",
            "79:\tlearn: -12.2973527\ttotal: 3m 49s\tremaining: 4m 18s\n",
            "80:\tlearn: -12.0697814\ttotal: 3m 52s\tremaining: 4m 15s\n",
            "81:\tlearn: -11.8475418\ttotal: 3m 55s\tremaining: 4m 12s\n",
            "82:\tlearn: -11.6268857\ttotal: 3m 58s\tremaining: 4m 9s\n",
            "83:\tlearn: -11.4107589\ttotal: 4m 1s\tremaining: 4m 7s\n",
            "84:\tlearn: -11.1977406\ttotal: 4m 4s\tremaining: 4m 4s\n",
            "85:\tlearn: -10.9878117\ttotal: 4m 7s\tremaining: 4m 1s\n",
            "86:\tlearn: -10.7816319\ttotal: 4m 10s\tremaining: 3m 59s\n",
            "87:\tlearn: -10.5777416\ttotal: 4m 13s\tremaining: 3m 56s\n",
            "88:\tlearn: -10.3757708\ttotal: 4m 16s\tremaining: 3m 53s\n",
            "89:\tlearn: -10.1773711\ttotal: 4m 19s\tremaining: 3m 50s\n",
            "90:\tlearn: -9.9900671\ttotal: 4m 21s\tremaining: 3m 47s\n",
            "91:\tlearn: -9.7988996\ttotal: 4m 24s\tremaining: 3m 44s\n",
            "92:\tlearn: -9.6099838\ttotal: 4m 27s\tremaining: 3m 41s\n",
            "93:\tlearn: -9.4191742\ttotal: 4m 30s\tremaining: 3m 38s\n",
            "94:\tlearn: -9.2361708\ttotal: 4m 33s\tremaining: 3m 35s\n",
            "95:\tlearn: -9.0557952\ttotal: 4m 36s\tremaining: 3m 33s\n",
            "96:\tlearn: -8.8777702\ttotal: 4m 39s\tremaining: 3m 30s\n",
            "97:\tlearn: -8.7097346\ttotal: 4m 42s\tremaining: 3m 27s\n",
            "98:\tlearn: -8.5366819\ttotal: 4m 45s\tremaining: 3m 24s\n",
            "99:\tlearn: -8.3669228\ttotal: 4m 47s\tremaining: 3m 21s\n",
            "100:\tlearn: -8.2004076\ttotal: 4m 50s\tremaining: 3m 18s\n",
            "101:\tlearn: -8.0351755\ttotal: 4m 53s\tremaining: 3m 15s\n",
            "102:\tlearn: -7.8742228\ttotal: 4m 56s\tremaining: 3m 13s\n",
            "103:\tlearn: -7.7157776\ttotal: 5m\tremaining: 3m 10s\n",
            "104:\tlearn: -7.5611552\ttotal: 5m 3s\tremaining: 3m 7s\n",
            "105:\tlearn: -7.4081412\ttotal: 5m 6s\tremaining: 3m 4s\n",
            "106:\tlearn: -7.2576188\ttotal: 5m 9s\tremaining: 3m 2s\n",
            "107:\tlearn: -7.1111377\ttotal: 5m 11s\tremaining: 2m 59s\n",
            "108:\tlearn: -6.9664936\ttotal: 5m 14s\tremaining: 2m 56s\n",
            "109:\tlearn: -6.8243153\ttotal: 5m 17s\tremaining: 2m 53s\n",
            "110:\tlearn: -6.6867190\ttotal: 5m 20s\tremaining: 2m 50s\n",
            "111:\tlearn: -6.5493782\ttotal: 5m 22s\tremaining: 2m 47s\n",
            "112:\tlearn: -6.4141382\ttotal: 5m 25s\tremaining: 2m 44s\n",
            "113:\tlearn: -6.2839448\ttotal: 5m 28s\tremaining: 2m 41s\n",
            "114:\tlearn: -6.1529304\ttotal: 5m 31s\tremaining: 2m 38s\n",
            "115:\tlearn: -6.0253028\ttotal: 5m 34s\tremaining: 2m 35s\n",
            "116:\tlearn: -5.9004120\ttotal: 5m 37s\tremaining: 2m 32s\n",
            "117:\tlearn: -5.7786504\ttotal: 5m 40s\tremaining: 2m 30s\n",
            "118:\tlearn: -5.6666848\ttotal: 5m 43s\tremaining: 2m 27s\n",
            "119:\tlearn: -5.5574264\ttotal: 5m 47s\tremaining: 2m 24s\n",
            "120:\tlearn: -5.4508337\ttotal: 5m 49s\tremaining: 2m 21s\n",
            "121:\tlearn: -5.3464140\ttotal: 5m 52s\tremaining: 2m 18s\n",
            "122:\tlearn: -5.2438405\ttotal: 5m 54s\tremaining: 2m 15s\n",
            "123:\tlearn: -5.1457806\ttotal: 5m 57s\tremaining: 2m 12s\n",
            "124:\tlearn: -5.0479397\ttotal: 6m\tremaining: 2m 9s\n",
            "125:\tlearn: -4.9526015\ttotal: 6m 3s\tremaining: 2m 6s\n",
            "126:\tlearn: -4.8596208\ttotal: 6m 5s\tremaining: 2m 3s\n",
            "127:\tlearn: -4.7693262\ttotal: 6m 8s\tremaining: 2m 1s\n",
            "128:\tlearn: -4.6811017\ttotal: 6m 11s\tremaining: 1m 58s\n",
            "129:\tlearn: -4.5957591\ttotal: 6m 14s\tremaining: 1m 55s\n",
            "130:\tlearn: -4.5125736\ttotal: 6m 17s\tremaining: 1m 52s\n",
            "131:\tlearn: -4.4318689\ttotal: 6m 20s\tremaining: 1m 49s\n",
            "132:\tlearn: -4.3537715\ttotal: 6m 23s\tremaining: 1m 46s\n",
            "133:\tlearn: -4.2783310\ttotal: 6m 26s\tremaining: 1m 43s\n",
            "134:\tlearn: -4.2122792\ttotal: 6m 28s\tremaining: 1m 40s\n",
            "135:\tlearn: -4.1429563\ttotal: 6m 31s\tremaining: 1m 37s\n",
            "136:\tlearn: -4.0799127\ttotal: 6m 34s\tremaining: 1m 35s\n",
            "137:\tlearn: -4.0271723\ttotal: 6m 37s\tremaining: 1m 32s\n",
            "138:\tlearn: -3.9648471\ttotal: 6m 41s\tremaining: 1m 29s\n",
            "139:\tlearn: -3.9118170\ttotal: 6m 43s\tremaining: 1m 26s\n",
            "140:\tlearn: -3.8551312\ttotal: 6m 46s\tremaining: 1m 23s\n",
            "141:\tlearn: -3.8014651\ttotal: 6m 49s\tremaining: 1m 20s\n",
            "142:\tlearn: -3.7512610\ttotal: 6m 51s\tremaining: 1m 17s\n",
            "143:\tlearn: -3.7040047\ttotal: 6m 54s\tremaining: 1m 14s\n",
            "144:\tlearn: -3.6599334\ttotal: 6m 57s\tremaining: 1m 12s\n",
            "145:\tlearn: -3.6193683\ttotal: 7m\tremaining: 1m 9s\n",
            "146:\tlearn: -3.5851440\ttotal: 7m 3s\tremaining: 1m 6s\n",
            "147:\tlearn: -3.5510314\ttotal: 7m 6s\tremaining: 1m 3s\n",
            "148:\tlearn: -3.5202679\ttotal: 7m 9s\tremaining: 1m\n",
            "149:\tlearn: -3.4930724\ttotal: 7m 12s\tremaining: 57.7s\n",
            "150:\tlearn: -3.4687369\ttotal: 7m 15s\tremaining: 54.8s\n",
            "151:\tlearn: -3.4483083\ttotal: 7m 18s\tremaining: 52s\n",
            "152:\tlearn: -3.4309294\ttotal: 7m 21s\tremaining: 49.1s\n",
            "153:\tlearn: -3.4174100\ttotal: 7m 24s\tremaining: 46.2s\n",
            "154:\tlearn: -3.4053454\ttotal: 7m 27s\tremaining: 43.3s\n",
            "155:\tlearn: -3.3952346\ttotal: 7m 30s\tremaining: 40.4s\n",
            "156:\tlearn: -3.3872716\ttotal: 7m 33s\tremaining: 37.5s\n",
            "157:\tlearn: -3.3808559\ttotal: 7m 36s\tremaining: 34.7s\n",
            "158:\tlearn: -3.3757063\ttotal: 7m 39s\tremaining: 31.8s\n",
            "159:\tlearn: -3.3718073\ttotal: 7m 41s\tremaining: 28.9s\n",
            "160:\tlearn: -3.3685754\ttotal: 7m 44s\tremaining: 25.9s\n",
            "161:\tlearn: -3.3659849\ttotal: 7m 46s\tremaining: 23.1s\n",
            "162:\tlearn: -3.3667045\ttotal: 7m 49s\tremaining: 20.2s\n",
            "163:\tlearn: -3.3649313\ttotal: 7m 52s\tremaining: 17.3s\n",
            "164:\tlearn: -3.3625640\ttotal: 7m 55s\tremaining: 14.4s\n",
            "165:\tlearn: -3.3626294\ttotal: 7m 57s\tremaining: 11.5s\n",
            "166:\tlearn: -3.3618393\ttotal: 8m 1s\tremaining: 8.64s\n",
            "167:\tlearn: -3.3616979\ttotal: 8m 3s\tremaining: 5.76s\n",
            "168:\tlearn: -3.3612999\ttotal: 8m 6s\tremaining: 2.88s\n",
            "169:\tlearn: -3.3611039\ttotal: 8m 9s\tremaining: 0us\n",
            "4/10 Finished\n",
            "0:\tlearn: -44.0437862\ttotal: 2.94s\tremaining: 8m 16s\n",
            "1:\tlearn: -43.4287444\ttotal: 5.66s\tremaining: 7m 55s\n",
            "2:\tlearn: -42.8203265\ttotal: 8.76s\tremaining: 8m 7s\n",
            "3:\tlearn: -42.2179053\ttotal: 11.5s\tremaining: 7m 55s\n",
            "4:\tlearn: -41.6212877\ttotal: 14.7s\tremaining: 8m 4s\n",
            "5:\tlearn: -41.0325396\ttotal: 17.3s\tremaining: 7m 52s\n",
            "6:\tlearn: -40.4514863\ttotal: 20.5s\tremaining: 7m 57s\n",
            "7:\tlearn: -39.8762804\ttotal: 23.4s\tremaining: 7m 54s\n",
            "8:\tlearn: -39.3037543\ttotal: 26.7s\tremaining: 7m 57s\n",
            "9:\tlearn: -38.7400883\ttotal: 29.5s\tremaining: 7m 51s\n",
            "10:\tlearn: -38.1843327\ttotal: 32.7s\tremaining: 7m 53s\n",
            "11:\tlearn: -37.6340928\ttotal: 35.4s\tremaining: 7m 46s\n",
            "12:\tlearn: -37.0895673\ttotal: 38.1s\tremaining: 7m 40s\n",
            "13:\tlearn: -36.5508808\ttotal: 41.2s\tremaining: 7m 38s\n",
            "14:\tlearn: -36.0159598\ttotal: 43.8s\tremaining: 7m 32s\n",
            "15:\tlearn: -35.4903409\ttotal: 46.8s\tremaining: 7m 30s\n",
            "16:\tlearn: -34.9707006\ttotal: 49.4s\tremaining: 7m 24s\n",
            "17:\tlearn: -34.4561416\ttotal: 52.6s\tremaining: 7m 24s\n",
            "18:\tlearn: -33.9507320\ttotal: 55.6s\tremaining: 7m 21s\n",
            "19:\tlearn: -33.4534587\ttotal: 58.7s\tremaining: 7m 20s\n",
            "20:\tlearn: -32.9596409\ttotal: 1m 1s\tremaining: 7m 16s\n",
            "21:\tlearn: -32.4684383\ttotal: 1m 4s\tremaining: 7m 14s\n",
            "22:\tlearn: -31.9675157\ttotal: 1m 7s\tremaining: 7m 12s\n",
            "23:\tlearn: -31.4876313\ttotal: 1m 10s\tremaining: 7m 9s\n",
            "24:\tlearn: -31.0132760\ttotal: 1m 13s\tremaining: 7m 7s\n",
            "25:\tlearn: -30.5418746\ttotal: 1m 16s\tremaining: 7m 5s\n",
            "26:\tlearn: -30.0793184\ttotal: 1m 19s\tremaining: 7m\n",
            "27:\tlearn: -29.6221686\ttotal: 1m 22s\tremaining: 6m 56s\n",
            "28:\tlearn: -29.1624758\ttotal: 1m 24s\tremaining: 6m 52s\n",
            "29:\tlearn: -28.7132377\ttotal: 1m 27s\tremaining: 6m 48s\n",
            "30:\tlearn: -28.2670200\ttotal: 1m 30s\tremaining: 6m 44s\n",
            "31:\tlearn: -27.8237554\ttotal: 1m 33s\tremaining: 6m 41s\n",
            "32:\tlearn: -27.3892143\ttotal: 1m 36s\tremaining: 6m 40s\n",
            "33:\tlearn: -26.9671199\ttotal: 1m 39s\tremaining: 6m 36s\n",
            "34:\tlearn: -26.5460576\ttotal: 1m 42s\tremaining: 6m 34s\n",
            "35:\tlearn: -26.1307647\ttotal: 1m 45s\tremaining: 6m 31s\n",
            "36:\tlearn: -25.7211459\ttotal: 1m 50s\tremaining: 6m 37s\n",
            "37:\tlearn: -25.3171091\ttotal: 1m 53s\tremaining: 6m 35s\n",
            "38:\tlearn: -24.9164613\ttotal: 1m 56s\tremaining: 6m 32s\n",
            "39:\tlearn: -24.5205692\ttotal: 1m 59s\tremaining: 6m 29s\n",
            "40:\tlearn: -24.1299358\ttotal: 2m 2s\tremaining: 6m 25s\n",
            "41:\tlearn: -23.7435146\ttotal: 2m 5s\tremaining: 6m 22s\n",
            "42:\tlearn: -23.3616861\ttotal: 2m 8s\tremaining: 6m 19s\n",
            "43:\tlearn: -22.9813417\ttotal: 2m 11s\tremaining: 6m 17s\n",
            "44:\tlearn: -22.6031161\ttotal: 2m 14s\tremaining: 6m 13s\n",
            "45:\tlearn: -22.2548253\ttotal: 2m 17s\tremaining: 6m 10s\n",
            "46:\tlearn: -21.9085404\ttotal: 2m 20s\tremaining: 6m 7s\n",
            "47:\tlearn: -21.5504343\ttotal: 2m 23s\tremaining: 6m 5s\n",
            "48:\tlearn: -21.2049471\ttotal: 2m 26s\tremaining: 6m 1s\n",
            "49:\tlearn: -20.8551349\ttotal: 2m 29s\tremaining: 5m 58s\n",
            "50:\tlearn: -20.5090256\ttotal: 2m 32s\tremaining: 5m 55s\n",
            "51:\tlearn: -20.1688590\ttotal: 2m 35s\tremaining: 5m 53s\n",
            "52:\tlearn: -19.8290320\ttotal: 2m 39s\tremaining: 5m 51s\n",
            "53:\tlearn: -19.5017301\ttotal: 2m 42s\tremaining: 5m 48s\n",
            "54:\tlearn: -19.1756275\ttotal: 2m 44s\tremaining: 5m 44s\n",
            "55:\tlearn: -18.8479135\ttotal: 2m 48s\tremaining: 5m 42s\n",
            "56:\tlearn: -18.5202307\ttotal: 2m 50s\tremaining: 5m 38s\n",
            "57:\tlearn: -18.2025472\ttotal: 2m 53s\tremaining: 5m 35s\n",
            "58:\tlearn: -17.8889322\ttotal: 2m 56s\tremaining: 5m 32s\n",
            "59:\tlearn: -17.5795688\ttotal: 2m 59s\tremaining: 5m 29s\n",
            "60:\tlearn: -17.2680282\ttotal: 3m 2s\tremaining: 5m 26s\n",
            "61:\tlearn: -16.9672138\ttotal: 3m 5s\tremaining: 5m 23s\n",
            "62:\tlearn: -16.6689709\ttotal: 3m 8s\tremaining: 5m 20s\n",
            "63:\tlearn: -16.3754497\ttotal: 3m 11s\tremaining: 5m 17s\n",
            "64:\tlearn: -16.0856830\ttotal: 3m 14s\tremaining: 5m 13s\n",
            "65:\tlearn: -15.8008807\ttotal: 3m 17s\tremaining: 5m 10s\n",
            "66:\tlearn: -15.5247160\ttotal: 3m 19s\tremaining: 5m 7s\n",
            "67:\tlearn: -15.2535970\ttotal: 3m 22s\tremaining: 5m 4s\n",
            "68:\tlearn: -14.9850122\ttotal: 3m 25s\tremaining: 5m 1s\n",
            "69:\tlearn: -14.7198148\ttotal: 3m 28s\tremaining: 4m 58s\n",
            "70:\tlearn: -14.4584180\ttotal: 3m 31s\tremaining: 4m 55s\n",
            "71:\tlearn: -14.1992585\ttotal: 3m 34s\tremaining: 4m 51s\n",
            "72:\tlearn: -13.9418856\ttotal: 3m 37s\tremaining: 4m 48s\n",
            "73:\tlearn: -13.6905426\ttotal: 3m 40s\tremaining: 4m 45s\n",
            "74:\tlearn: -13.4432573\ttotal: 3m 42s\tremaining: 4m 42s\n",
            "75:\tlearn: -13.1983959\ttotal: 3m 45s\tremaining: 4m 38s\n",
            "76:\tlearn: -12.9569822\ttotal: 3m 48s\tremaining: 4m 35s\n",
            "77:\tlearn: -12.7203747\ttotal: 3m 51s\tremaining: 4m 32s\n",
            "78:\tlearn: -12.4857843\ttotal: 3m 53s\tremaining: 4m 29s\n",
            "79:\tlearn: -12.2553212\ttotal: 3m 56s\tremaining: 4m 26s\n",
            "80:\tlearn: -12.0281176\ttotal: 3m 59s\tremaining: 4m 23s\n",
            "81:\tlearn: -11.8045696\ttotal: 4m 2s\tremaining: 4m 20s\n",
            "82:\tlearn: -11.5838255\ttotal: 4m 5s\tremaining: 4m 17s\n",
            "83:\tlearn: -11.3661156\ttotal: 4m 8s\tremaining: 4m 14s\n",
            "84:\tlearn: -11.1494265\ttotal: 4m 11s\tremaining: 4m 11s\n",
            "85:\tlearn: -10.9113201\ttotal: 4m 13s\tremaining: 4m 8s\n",
            "86:\tlearn: -10.7031568\ttotal: 4m 17s\tremaining: 4m 5s\n",
            "87:\tlearn: -10.5983219\ttotal: 4m 19s\tremaining: 4m 2s\n",
            "88:\tlearn: -10.3976922\ttotal: 4m 22s\tremaining: 3m 59s\n",
            "89:\tlearn: -10.2060817\ttotal: 4m 25s\tremaining: 3m 56s\n",
            "90:\tlearn: -10.0103536\ttotal: 4m 28s\tremaining: 3m 53s\n",
            "91:\tlearn: -9.8181082\ttotal: 4m 31s\tremaining: 3m 50s\n",
            "92:\tlearn: -9.6289657\ttotal: 4m 34s\tremaining: 3m 47s\n",
            "93:\tlearn: -9.4414651\ttotal: 4m 37s\tremaining: 3m 44s\n",
            "94:\tlearn: -9.2539471\ttotal: 4m 40s\tremaining: 3m 41s\n",
            "95:\tlearn: -9.0736120\ttotal: 4m 42s\tremaining: 3m 37s\n",
            "96:\tlearn: -8.8937005\ttotal: 4m 45s\tremaining: 3m 34s\n",
            "97:\tlearn: -8.7197887\ttotal: 4m 48s\tremaining: 3m 31s\n",
            "98:\tlearn: -8.5525208\ttotal: 4m 51s\tremaining: 3m 28s\n",
            "99:\tlearn: -8.3830118\ttotal: 4m 53s\tremaining: 3m 25s\n",
            "100:\tlearn: -8.2193432\ttotal: 4m 56s\tremaining: 3m 22s\n",
            "101:\tlearn: -8.0608000\ttotal: 4m 59s\tremaining: 3m 19s\n",
            "102:\tlearn: -7.9248956\ttotal: 5m 1s\tremaining: 3m 16s\n",
            "103:\tlearn: -7.7673388\ttotal: 5m 5s\tremaining: 3m 13s\n",
            "104:\tlearn: -7.6130425\ttotal: 5m 7s\tremaining: 3m 10s\n",
            "105:\tlearn: -7.4578536\ttotal: 5m 10s\tremaining: 3m 7s\n",
            "106:\tlearn: -7.3104388\ttotal: 5m 13s\tremaining: 3m 4s\n",
            "107:\tlearn: -7.1609917\ttotal: 5m 16s\tremaining: 3m 1s\n",
            "108:\tlearn: -7.0172656\ttotal: 5m 19s\tremaining: 2m 59s\n",
            "109:\tlearn: -6.8730524\ttotal: 5m 22s\tremaining: 2m 55s\n",
            "110:\tlearn: -6.7334212\ttotal: 5m 25s\tremaining: 2m 53s\n",
            "111:\tlearn: -6.5958507\ttotal: 5m 28s\tremaining: 2m 50s\n",
            "112:\tlearn: -6.4614997\ttotal: 5m 31s\tremaining: 2m 47s\n",
            "113:\tlearn: -6.3301055\ttotal: 5m 34s\tremaining: 2m 44s\n",
            "114:\tlearn: -6.2003029\ttotal: 5m 38s\tremaining: 2m 41s\n",
            "115:\tlearn: -6.0740186\ttotal: 5m 40s\tremaining: 2m 38s\n",
            "116:\tlearn: -5.9509577\ttotal: 5m 43s\tremaining: 2m 35s\n",
            "117:\tlearn: -5.8290886\ttotal: 5m 46s\tremaining: 2m 32s\n",
            "118:\tlearn: -5.7167017\ttotal: 5m 49s\tremaining: 2m 29s\n",
            "119:\tlearn: -5.6098275\ttotal: 5m 51s\tremaining: 2m 26s\n",
            "120:\tlearn: -5.5045736\ttotal: 5m 54s\tremaining: 2m 23s\n",
            "121:\tlearn: -5.4016747\ttotal: 5m 57s\tremaining: 2m 20s\n",
            "122:\tlearn: -5.3011304\ttotal: 6m\tremaining: 2m 17s\n",
            "123:\tlearn: -5.2030795\ttotal: 6m 2s\tremaining: 2m 14s\n",
            "124:\tlearn: -5.1074194\ttotal: 6m 5s\tremaining: 2m 11s\n",
            "125:\tlearn: -5.0144063\ttotal: 6m 8s\tremaining: 2m 8s\n",
            "126:\tlearn: -4.9229949\ttotal: 6m 11s\tremaining: 2m 5s\n",
            "127:\tlearn: -4.8325164\ttotal: 6m 14s\tremaining: 2m 2s\n",
            "128:\tlearn: -4.7453964\ttotal: 6m 17s\tremaining: 1m 59s\n",
            "129:\tlearn: -4.6633085\ttotal: 6m 20s\tremaining: 1m 57s\n",
            "130:\tlearn: -4.5822932\ttotal: 6m 22s\tremaining: 1m 54s\n",
            "131:\tlearn: -4.5054406\ttotal: 6m 25s\tremaining: 1m 51s\n",
            "132:\tlearn: -4.4300266\ttotal: 6m 28s\tremaining: 1m 48s\n",
            "133:\tlearn: -4.3569903\ttotal: 6m 31s\tremaining: 1m 45s\n",
            "134:\tlearn: -4.2861900\ttotal: 6m 34s\tremaining: 1m 42s\n",
            "135:\tlearn: -4.2184745\ttotal: 6m 37s\tremaining: 1m 39s\n",
            "136:\tlearn: -4.1533406\ttotal: 6m 39s\tremaining: 1m 36s\n",
            "137:\tlearn: -4.0972114\ttotal: 6m 43s\tremaining: 1m 33s\n",
            "138:\tlearn: -4.0429497\ttotal: 6m 46s\tremaining: 1m 30s\n",
            "139:\tlearn: -3.9852834\ttotal: 6m 48s\tremaining: 1m 27s\n",
            "140:\tlearn: -3.9305202\ttotal: 6m 51s\tremaining: 1m 24s\n",
            "141:\tlearn: -3.8865655\ttotal: 6m 54s\tremaining: 1m 21s\n",
            "142:\tlearn: -3.8377730\ttotal: 6m 57s\tremaining: 1m 18s\n",
            "143:\tlearn: -3.7946098\ttotal: 7m\tremaining: 1m 15s\n",
            "144:\tlearn: -3.7515228\ttotal: 7m 3s\tremaining: 1m 12s\n",
            "145:\tlearn: -3.7108387\ttotal: 7m 5s\tremaining: 1m 9s\n",
            "146:\tlearn: -3.6734403\ttotal: 7m 8s\tremaining: 1m 7s\n",
            "147:\tlearn: -3.6425834\ttotal: 7m 11s\tremaining: 1m 4s\n",
            "148:\tlearn: -3.6152420\ttotal: 7m 15s\tremaining: 1m 1s\n",
            "149:\tlearn: -3.5878253\ttotal: 7m 17s\tremaining: 58.4s\n",
            "150:\tlearn: -3.5627782\ttotal: 7m 20s\tremaining: 55.5s\n",
            "151:\tlearn: -3.5440745\ttotal: 7m 24s\tremaining: 52.6s\n",
            "152:\tlearn: -3.5264519\ttotal: 7m 26s\tremaining: 49.6s\n",
            "153:\tlearn: -3.5092972\ttotal: 7m 29s\tremaining: 46.7s\n",
            "154:\tlearn: -3.4948977\ttotal: 7m 32s\tremaining: 43.8s\n",
            "155:\tlearn: -3.4847783\ttotal: 7m 35s\tremaining: 40.9s\n",
            "156:\tlearn: -3.4750411\ttotal: 7m 37s\tremaining: 37.9s\n",
            "157:\tlearn: -3.4669535\ttotal: 7m 40s\tremaining: 35s\n",
            "158:\tlearn: -3.4610475\ttotal: 7m 44s\tremaining: 32.1s\n",
            "159:\tlearn: -3.4562011\ttotal: 7m 47s\tremaining: 29.2s\n",
            "160:\tlearn: -3.4525748\ttotal: 7m 49s\tremaining: 26.3s\n",
            "161:\tlearn: -3.4496217\ttotal: 7m 52s\tremaining: 23.3s\n",
            "162:\tlearn: -3.4513944\ttotal: 7m 55s\tremaining: 20.4s\n",
            "163:\tlearn: -3.4665643\ttotal: 7m 58s\tremaining: 17.5s\n",
            "164:\tlearn: -3.4678876\ttotal: 8m 1s\tremaining: 14.6s\n",
            "165:\tlearn: -3.4705218\ttotal: 8m 3s\tremaining: 11.7s\n",
            "166:\tlearn: -3.4730795\ttotal: 8m 6s\tremaining: 8.74s\n",
            "167:\tlearn: -3.4747707\ttotal: 8m 9s\tremaining: 5.83s\n",
            "168:\tlearn: -3.4767278\ttotal: 8m 12s\tremaining: 2.91s\n",
            "169:\tlearn: -3.4816869\ttotal: 8m 15s\tremaining: 0us\n",
            "5/10 Finished\n",
            "0:\tlearn: -44.0312431\ttotal: 2.96s\tremaining: 8m 19s\n",
            "1:\tlearn: -43.4044806\ttotal: 6.12s\tremaining: 8m 34s\n",
            "2:\tlearn: -42.7931353\ttotal: 8.8s\tremaining: 8m 9s\n",
            "3:\tlearn: -42.1915057\ttotal: 11.4s\tremaining: 7m 54s\n",
            "4:\tlearn: -41.5785079\ttotal: 14.1s\tremaining: 7m 43s\n",
            "5:\tlearn: -40.9903722\ttotal: 17.1s\tremaining: 7m 46s\n",
            "6:\tlearn: -40.4059628\ttotal: 20.1s\tremaining: 7m 47s\n",
            "7:\tlearn: -39.8316098\ttotal: 22.8s\tremaining: 7m 41s\n",
            "8:\tlearn: -39.2637769\ttotal: 25.8s\tremaining: 7m 42s\n",
            "9:\tlearn: -38.7029095\ttotal: 28.6s\tremaining: 7m 37s\n",
            "10:\tlearn: -38.1314195\ttotal: 31.3s\tremaining: 7m 33s\n",
            "11:\tlearn: -37.5851681\ttotal: 34.2s\tremaining: 7m 30s\n",
            "12:\tlearn: -37.0408984\ttotal: 37s\tremaining: 7m 27s\n",
            "13:\tlearn: -36.5004673\ttotal: 40.1s\tremaining: 7m 27s\n",
            "14:\tlearn: -35.9633951\ttotal: 42.8s\tremaining: 7m 22s\n",
            "15:\tlearn: -35.4319519\ttotal: 45.6s\tremaining: 7m 19s\n",
            "16:\tlearn: -34.9131514\ttotal: 48.1s\tremaining: 7m 12s\n",
            "17:\tlearn: -34.4002374\ttotal: 50.9s\tremaining: 7m 10s\n",
            "18:\tlearn: -33.8889425\ttotal: 53.5s\tremaining: 7m 4s\n",
            "19:\tlearn: -33.3890093\ttotal: 56.5s\tremaining: 7m 4s\n",
            "20:\tlearn: -32.8878669\ttotal: 59.6s\tremaining: 7m 2s\n",
            "21:\tlearn: -32.3989331\ttotal: 1m 2s\tremaining: 6m 58s\n",
            "22:\tlearn: -31.9188989\ttotal: 1m 4s\tremaining: 6m 54s\n",
            "23:\tlearn: -31.4404570\ttotal: 1m 7s\tremaining: 6m 53s\n",
            "24:\tlearn: -30.9688656\ttotal: 1m 10s\tremaining: 6m 48s\n",
            "25:\tlearn: -30.5067151\ttotal: 1m 13s\tremaining: 6m 47s\n",
            "26:\tlearn: -30.0318122\ttotal: 1m 16s\tremaining: 6m 43s\n",
            "27:\tlearn: -29.5739378\ttotal: 1m 19s\tremaining: 6m 41s\n",
            "28:\tlearn: -29.1190111\ttotal: 1m 22s\tremaining: 6m 39s\n",
            "29:\tlearn: -28.6694610\ttotal: 1m 24s\tremaining: 6m 35s\n",
            "30:\tlearn: -28.2275356\ttotal: 1m 27s\tremaining: 6m 31s\n",
            "31:\tlearn: -27.7923408\ttotal: 1m 29s\tremaining: 6m 27s\n",
            "32:\tlearn: -27.3631237\ttotal: 1m 32s\tremaining: 6m 25s\n",
            "33:\tlearn: -26.9340658\ttotal: 1m 35s\tremaining: 6m 23s\n",
            "34:\tlearn: -26.4851168\ttotal: 1m 38s\tremaining: 6m 21s\n",
            "35:\tlearn: -26.0533969\ttotal: 1m 41s\tremaining: 6m 18s\n",
            "36:\tlearn: -25.6330144\ttotal: 1m 44s\tremaining: 6m 14s\n",
            "37:\tlearn: -25.2285318\ttotal: 1m 46s\tremaining: 6m 11s\n",
            "38:\tlearn: -24.8288339\ttotal: 1m 49s\tremaining: 6m 9s\n",
            "39:\tlearn: -24.4359046\ttotal: 1m 52s\tremaining: 6m 6s\n",
            "40:\tlearn: -24.0442368\ttotal: 1m 55s\tremaining: 6m 3s\n",
            "41:\tlearn: -23.6603093\ttotal: 1m 58s\tremaining: 6m 1s\n",
            "42:\tlearn: -23.2797736\ttotal: 2m 1s\tremaining: 5m 58s\n",
            "43:\tlearn: -22.9038064\ttotal: 2m 3s\tremaining: 5m 54s\n",
            "44:\tlearn: -22.6829992\ttotal: 2m 6s\tremaining: 5m 52s\n",
            "45:\tlearn: -22.3181768\ttotal: 2m 9s\tremaining: 5m 50s\n",
            "46:\tlearn: -21.9638370\ttotal: 2m 13s\tremaining: 5m 48s\n",
            "47:\tlearn: -21.6072101\ttotal: 2m 15s\tremaining: 5m 45s\n",
            "48:\tlearn: -21.2566087\ttotal: 2m 19s\tremaining: 5m 43s\n",
            "49:\tlearn: -20.9131711\ttotal: 2m 21s\tremaining: 5m 39s\n",
            "50:\tlearn: -20.5656697\ttotal: 2m 24s\tremaining: 5m 36s\n",
            "51:\tlearn: -20.2241081\ttotal: 2m 26s\tremaining: 5m 33s\n",
            "52:\tlearn: -19.8860698\ttotal: 2m 29s\tremaining: 5m 30s\n",
            "53:\tlearn: -19.5670693\ttotal: 2m 33s\tremaining: 5m 28s\n",
            "54:\tlearn: -19.2432011\ttotal: 2m 35s\tremaining: 5m 25s\n",
            "55:\tlearn: -18.9204313\ttotal: 2m 38s\tremaining: 5m 23s\n",
            "56:\tlearn: -18.5879172\ttotal: 2m 41s\tremaining: 5m 20s\n",
            "57:\tlearn: -18.2690646\ttotal: 2m 44s\tremaining: 5m 17s\n",
            "58:\tlearn: -17.9534483\ttotal: 2m 47s\tremaining: 5m 14s\n",
            "59:\tlearn: -17.6412752\ttotal: 2m 50s\tremaining: 5m 11s\n",
            "60:\tlearn: -17.3349510\ttotal: 2m 52s\tremaining: 5m 9s\n",
            "61:\tlearn: -17.0323855\ttotal: 2m 56s\tremaining: 5m 6s\n",
            "62:\tlearn: -16.7349246\ttotal: 2m 59s\tremaining: 5m 4s\n",
            "63:\tlearn: -16.4405062\ttotal: 3m 1s\tremaining: 5m 1s\n",
            "64:\tlearn: -16.1476047\ttotal: 3m 4s\tremaining: 4m 58s\n",
            "65:\tlearn: -15.8637673\ttotal: 3m 7s\tremaining: 4m 56s\n"
          ],
          "name": "stdout"
        }
      ]
    },
    {
      "cell_type": "markdown",
      "metadata": {
        "id": "YXvaGP6UF613"
      },
      "source": [
        "### Получение предсказаний"
      ]
    },
    {
      "cell_type": "code",
      "metadata": {
        "id": "3Ol4xaCkGA1p"
      },
      "source": [
        "y_test_predicted = None\n",
        "X_test_test = X_test.drop('public', axis=1)\n",
        "for model in models:\n",
        "    predicted = model.predict(X_test_test)\n",
        "    y_test_cur_predicted = pd.Series(\n",
        "        predicted,\n",
        "        index=X_test_test.index,\n",
        "        name='target'\n",
        "    ).sort_index()\n",
        "    \n",
        "    if y_test_predicted is None:\n",
        "        y_test_predicted = y_test_cur_predicted\n",
        "    else:\n",
        "        y_test_predicted += y_test_cur_predicted\n",
        "\n",
        "y_test_predicted /= n_models\n",
        "y_test_predicted = y_test_predicted.round().astype('int64')\n",
        "SUBMISSTION_FILE_NAME = 'exposition_sample_submission.tsv'"
      ],
      "execution_count": null,
      "outputs": []
    },
    {
      "cell_type": "markdown",
      "metadata": {
        "id": "Ih6-PdgRPke5"
      },
      "source": [
        "# Отправка результатов"
      ]
    },
    {
      "cell_type": "markdown",
      "metadata": {
        "id": "SqRyENOXMsHQ"
      },
      "source": [
        "## Определение пути"
      ]
    },
    {
      "cell_type": "code",
      "metadata": {
        "id": "Saiyu_K_LR2S",
        "outputId": "e554317d-acf1-4ead-b503-cab61b909008",
        "colab": {
          "base_uri": "https://localhost:8080/",
          "height": 55
        }
      },
      "source": [
        "submission_folder_path = os.path.join(PROJECT_DIR, 'submissions')\n",
        "file_path = os.path.join(submission_folder_path, SUBMISSTION_FILE_NAME)\n",
        "print(f\"File will be saved to {file_path}\")"
      ],
      "execution_count": null,
      "outputs": [
        {
          "output_type": "stream",
          "text": [
            "File will be saved to /content/drive/My Drive/projects/hack_the_realty_exposition/submissions/exposition_sample_submission.tsv\n"
          ],
          "name": "stdout"
        }
      ]
    },
    {
      "cell_type": "markdown",
      "metadata": {
        "id": "bXNqGiZKMuJ-"
      },
      "source": [
        "## Сохранение"
      ]
    },
    {
      "cell_type": "code",
      "metadata": {
        "id": "PsyUIyS4NL1e"
      },
      "source": [
        "y_test_predicted.to_csv(file_path, sep='\\t')"
      ],
      "execution_count": null,
      "outputs": []
    },
    {
      "cell_type": "markdown",
      "metadata": {
        "id": "U7rfkVWfnF-S"
      },
      "source": [
        "# Юнит тестирование\n"
      ]
    },
    {
      "cell_type": "markdown",
      "metadata": {
        "id": "FXQBH20aoTZH"
      },
      "source": [
        "## Подключение библиотек"
      ]
    },
    {
      "cell_type": "code",
      "metadata": {
        "id": "wDe_sqoLoWYg"
      },
      "source": [
        "import unittest"
      ],
      "execution_count": null,
      "outputs": []
    },
    {
      "cell_type": "markdown",
      "metadata": {
        "id": "yQSf1SvuoYHP"
      },
      "source": [
        "## Объявление тестирующего класса"
      ]
    },
    {
      "cell_type": "code",
      "metadata": {
        "id": "Qz4myBWbomDN"
      },
      "source": [
        "class TestNotebook(unittest.TestCase):\n",
        "    def test_add(self):\n",
        "        self.assertEqual(2 + 2, 4)"
      ],
      "execution_count": null,
      "outputs": []
    },
    {
      "cell_type": "markdown",
      "metadata": {
        "id": "CO-Nl-0tor6W"
      },
      "source": [
        "## Запуск тестов"
      ]
    },
    {
      "cell_type": "code",
      "metadata": {
        "id": "PQyyW4jHowk6",
        "outputId": "beb89ea3-6f43-4aa2-936f-6e22d0ad3e9f",
        "colab": {
          "base_uri": "https://localhost:8080/",
          "height": 143
        }
      },
      "source": [
        "unittest.main(argv=[''], verbosity=2, exit=False)"
      ],
      "execution_count": null,
      "outputs": [
        {
          "output_type": "stream",
          "text": [
            "test_add (__main__.TestNotebook) ... ok\n",
            "\n",
            "----------------------------------------------------------------------\n",
            "Ran 1 test in 0.002s\n",
            "\n",
            "OK\n"
          ],
          "name": "stderr"
        },
        {
          "output_type": "execute_result",
          "data": {
            "text/plain": [
              "<unittest.main.TestProgram at 0x7f929c006dd8>"
            ]
          },
          "metadata": {
            "tags": []
          },
          "execution_count": 10
        }
      ]
    }
  ]
}