{
 "cells": [
  {
   "cell_type": "markdown",
   "metadata": {
    "colab_type": "text",
    "id": "fPWzgA5pirVo"
   },
   "source": [
    "# Введение"
   ]
  },
  {
   "cell_type": "markdown",
   "metadata": {
    "colab_type": "text",
    "id": "CybclLK6ijga"
   },
   "source": [
    "## Описание задачи\n",
    "[источник](https://www.kaggle.com/c/ml-posterior-gym-training-prediction)"
   ]
  },
  {
   "cell_type": "markdown",
   "metadata": {
    "colab_type": "text",
    "id": "D8sINhZyjdL7"
   },
   "source": [
    "### EN"
   ]
  },
  {
   "cell_type": "markdown",
   "metadata": {
    "colab_type": "text",
    "id": "CKOjPGgCjWX2"
   },
   "source": [
    "A network of sports clubs tracks training sessions conducted by its coaches for clients. If a client wants to sign up for a training session, he/she calls the reception or come in person. The GYM’s staff appoints the appropriate time, the coach and the club. At your disposal, you have a database of several GYMs with this data. The data contains a log of training sessions for 2017 and 2018 in a trainset, and training sessions for 2019 in a testset. There is a boolean target flag for each training session: whether a training session had been.\n",
    "\n",
    "You face the task of reducing the number of training process skips by identifying factors that affect the skip. For this purpose, you have to build a model that predicts the probability of the client going to the GYM training.\n",
    "\n",
    "Optional question:\n",
    "\n",
    "* How could we enrich the data to improve the model quality?"
   ]
  },
  {
   "cell_type": "markdown",
   "metadata": {
    "colab_type": "text",
    "id": "9Bn7vUi_jirs"
   },
   "source": [
    "## Описание датасета"
   ]
  },
  {
   "cell_type": "markdown",
   "metadata": {
    "colab_type": "text",
    "id": "8K1Llc2PkRQw"
   },
   "source": [
    "### EN"
   ]
  },
  {
   "cell_type": "markdown",
   "metadata": {
    "colab_type": "text",
    "id": "cyNr9jFHj8va"
   },
   "source": [
    "* Id: index of training session\n",
    "* ClientID: Client who signed up for a training session\n",
    "* CoachID: Сoach to whom the client signed up\n",
    "* GymID: GYM center where the training will take place. One client can have trainings in different gyms. Also one coach can have trrainings in different gyms.\n",
    "* TrainingID: Training type: strength training, cardio, swimming pool, etc\n",
    "* Time: Scheduled time\n",
    "* Target: Whether a training session had been: Yes(1) or No(0)"
   ]
  },
  {
   "cell_type": "markdown",
   "metadata": {
    "colab_type": "text",
    "id": "DfJMbHB1j3qT"
   },
   "source": [
    "# Подготовка ноутбука"
   ]
  },
  {
   "cell_type": "markdown",
   "metadata": {
    "colab_type": "text",
    "id": "eBJOdy5g-7Vf"
   },
   "source": [
    "## Первичные константы "
   ]
  },
  {
   "cell_type": "code",
   "execution_count": 1,
   "metadata": {
    "colab": {},
    "colab_type": "code",
    "id": "04FyTcMy-_y-"
   },
   "outputs": [],
   "source": [
    "PROJECT_NAME = \"Kaggle. ML Posterior. Gym training prediction\"\n",
    "MOUNT_DIR = '/content/drive' # In case Colab Usage\n",
    "VALIDATE_RATIO = 0.2"
   ]
  },
  {
   "cell_type": "markdown",
   "metadata": {
    "colab_type": "text",
    "id": "dbeCUdVpLISo"
   },
   "source": [
    "## Дополнительные установки"
   ]
  },
  {
   "cell_type": "code",
   "execution_count": 2,
   "metadata": {
    "colab": {
     "base_uri": "https://localhost:8080/",
     "height": 361
    },
    "colab_type": "code",
    "id": "QYUv2A8ZLW9S",
    "outputId": "e28fd47f-6788-425d-d6c7-cae09e8a5462"
   },
   "outputs": [
    {
     "name": "stdout",
     "output_type": "stream",
     "text": [
      "Requirement already satisfied: catboost in /Users/alex-kozinov/opt/anaconda3/lib/python3.6/site-packages (0.23)\n",
      "Requirement already satisfied: six in /Users/alex-kozinov/opt/anaconda3/lib/python3.6/site-packages (from catboost) (1.14.0)\n",
      "Requirement already satisfied: scipy in /Users/alex-kozinov/opt/anaconda3/lib/python3.6/site-packages (from catboost) (1.4.1)\n",
      "Collecting graphviz\n",
      "  Downloading graphviz-0.14.1-py2.py3-none-any.whl (18 kB)\n",
      "Collecting plotly\n",
      "  Downloading plotly-4.9.0-py2.py3-none-any.whl (12.9 MB)\n",
      "\u001b[K     |████████████████████████████████| 12.9 MB 1.6 MB/s eta 0:00:01\n",
      "\u001b[?25hRequirement already satisfied: numpy>=1.16.0 in /Users/alex-kozinov/opt/anaconda3/lib/python3.6/site-packages (from catboost) (1.18.1)\n",
      "Requirement already satisfied: matplotlib in /Users/alex-kozinov/opt/anaconda3/lib/python3.6/site-packages (from catboost) (3.1.3)\n",
      "Requirement already satisfied: pandas>=0.24.0 in /Users/alex-kozinov/opt/anaconda3/lib/python3.6/site-packages (from catboost) (1.0.1)\n",
      "Collecting retrying>=1.3.3\n",
      "  Downloading retrying-1.3.3.tar.gz (10 kB)\n",
      "Requirement already satisfied: cycler>=0.10 in /Users/alex-kozinov/opt/anaconda3/lib/python3.6/site-packages (from matplotlib->catboost) (0.10.0)\n",
      "Requirement already satisfied: pyparsing!=2.0.4,!=2.1.2,!=2.1.6,>=2.0.1 in /Users/alex-kozinov/opt/anaconda3/lib/python3.6/site-packages (from matplotlib->catboost) (2.4.6)\n",
      "Requirement already satisfied: python-dateutil>=2.1 in /Users/alex-kozinov/opt/anaconda3/lib/python3.6/site-packages (from matplotlib->catboost) (2.8.1)\n",
      "Requirement already satisfied: kiwisolver>=1.0.1 in /Users/alex-kozinov/opt/anaconda3/lib/python3.6/site-packages (from matplotlib->catboost) (1.1.0)\n",
      "Requirement already satisfied: pytz>=2017.2 in /Users/alex-kozinov/opt/anaconda3/lib/python3.6/site-packages (from pandas>=0.24.0->catboost) (2019.3)\n",
      "Requirement already satisfied: setuptools in /Users/alex-kozinov/opt/anaconda3/lib/python3.6/site-packages (from kiwisolver>=1.0.1->matplotlib->catboost) (46.0.0.post20200309)\n",
      "Building wheels for collected packages: retrying\n",
      "  Building wheel for retrying (setup.py) ... \u001b[?25ldone\n",
      "\u001b[?25h  Created wheel for retrying: filename=retrying-1.3.3-py3-none-any.whl size=11430 sha256=2e9e71c9ad66226b0d2cafe88ba0ac59b8e567e869600c36733171405e940ab3\n",
      "  Stored in directory: /Users/alex-kozinov/Library/Caches/pip/wheels/ac/cb/8a/b27bf6323e2f4c462dcbf77d70b7c5e7868a7fbe12871770cf\n",
      "Successfully built retrying\n",
      "Installing collected packages: graphviz, retrying, plotly\n",
      "Successfully installed graphviz-0.14.1 plotly-4.9.0 retrying-1.3.3\n"
     ]
    }
   ],
   "source": [
    "!pip install catboost"
   ]
  },
  {
   "cell_type": "markdown",
   "metadata": {
    "colab_type": "text",
    "id": "DRtEggw5mMcU"
   },
   "source": [
    "## Библиотеки"
   ]
  },
  {
   "cell_type": "code",
   "execution_count": 120,
   "metadata": {
    "colab": {},
    "colab_type": "code",
    "id": "PdJYo2EcmRZR"
   },
   "outputs": [],
   "source": [
    "import os\n",
    "\n",
    "from datetime import datetime\n",
    "\n",
    "from collections import Counter\n",
    "\n",
    "import numpy as np\n",
    "\n",
    "import pandas as pd\n",
    "\n",
    "import catboost as ctb\n",
    "from catboost import CatBoostClassifier, Pool\n",
    "from catboost.utils import get_roc_curve\n",
    "\n",
    "from sklearn.naive_bayes import CategoricalNB\n",
    "from sklearn.metrics import roc_auc_score\n",
    "\n",
    "from plotly.subplots import make_subplots\n",
    "import plotly.graph_objects as go\n",
    "\n",
    "import matplotlib.pyplot as plt\n",
    "\n",
    "%matplotlib inline"
   ]
  },
  {
   "cell_type": "markdown",
   "metadata": {
    "colab_type": "text",
    "id": "fTALJ4H5mVr4"
   },
   "source": [
    "## Обработка случая работы в Google.Colab"
   ]
  },
  {
   "cell_type": "markdown",
   "metadata": {
    "colab_type": "text",
    "id": "b0OMb3oiBZDv"
   },
   "source": [
    "### Подключение библиотек"
   ]
  },
  {
   "cell_type": "code",
   "execution_count": 3,
   "metadata": {
    "colab": {
     "base_uri": "https://localhost:8080/",
     "height": 161
    },
    "colab_type": "code",
    "id": "TeUXiI4RmxoL",
    "outputId": "a1f0949c-3828-418a-f33d-736aa71af7d4"
   },
   "outputs": [],
   "source": [
    "try:\n",
    "    from google.colab import files, drive\n",
    "    \n",
    "    USE_COLAB = True\n",
    "except:\n",
    "    USE_COLAB = False\n",
    "\n",
    "if USE_COLAB:\n",
    "    print(\"Don't forget to avoid disconnections:\")\n",
    "    print(\"\"\"\n",
    "function ClickConnect(){\n",
    "    console.log(\"Clicking\"); \n",
    "    document.querySelector(\"colab-connect-button\").click() \n",
    "}\n",
    "setInterval(ClickConnect,60000)\n",
    "    \"\"\")"
   ]
  },
  {
   "cell_type": "markdown",
   "metadata": {
    "colab_type": "text",
    "id": "7GAT7jD_Bf3t"
   },
   "source": [
    "### Подключение к Google.Drive"
   ]
  },
  {
   "cell_type": "code",
   "execution_count": 4,
   "metadata": {
    "colab": {
     "base_uri": "https://localhost:8080/",
     "height": 145
    },
    "colab_type": "code",
    "id": "hv47CJ8cBknH",
    "outputId": "524afc2a-73ee-4dfe-fad5-944e0840b9eb"
   },
   "outputs": [],
   "source": [
    "if USE_COLAB:\n",
    "    drive.mount(MOUNT_DIR)\n",
    "    DRIVE_DIR = os.path.join(MOUNT_DIR, 'My Drive')\n",
    "    print(f\"Drive directory is {DRIVE_DIR}\")"
   ]
  },
  {
   "cell_type": "markdown",
   "metadata": {
    "colab_type": "text",
    "id": "ninPXIH2DPCQ"
   },
   "source": [
    "### Установка соединения с Kaggle"
   ]
  },
  {
   "cell_type": "code",
   "execution_count": 5,
   "metadata": {
    "colab": {},
    "colab_type": "code",
    "id": "CvGz4ynfDvJi"
   },
   "outputs": [],
   "source": [
    "if USE_COLAB:\n",
    "    !pip install -q kaggle\n",
    "    !mkdir ~/.kaggle\n",
    "    kaggle_file = os.path.join(DRIVE_DIR, 'kaggle.json')\n",
    "    !cp \"$kaggle_file\" ~/.kaggle/\n",
    "    !chmod 600 ~/.kaggle/kaggle.json"
   ]
  },
  {
   "cell_type": "markdown",
   "metadata": {
    "colab_type": "text",
    "id": "ANBUdV7E97S3"
   },
   "source": [
    "## Объявление рабочей директории"
   ]
  },
  {
   "cell_type": "markdown",
   "metadata": {
    "colab_type": "text",
    "id": "3lMtcGAx-VTG"
   },
   "source": [
    "Подключение к Google.Drive в случае работы c Google.Colab"
   ]
  },
  {
   "cell_type": "code",
   "execution_count": 6,
   "metadata": {
    "colab": {
     "base_uri": "https://localhost:8080/",
     "height": 53
    },
    "colab_type": "code",
    "id": "fCs60MoO96na",
    "outputId": "cc6dd405-00a8-4c48-d7ad-aa7106629786"
   },
   "outputs": [
    {
     "name": "stdout",
     "output_type": "stream",
     "text": [
      "Project directory is ./\n",
      "Working directory is ./\n"
     ]
    }
   ],
   "source": [
    "PROJECT_DIR = os.path.join(DRIVE_DIR, 'projects', PROJECT_NAME) if USE_COLAB else './'\n",
    "WORK_DIR = '/content' if USE_COLAB else PROJECT_DIR\n",
    "print(f\"Project directory is {PROJECT_DIR}\")\n",
    "print(f\"Working directory is {WORK_DIR}\")"
   ]
  },
  {
   "cell_type": "markdown",
   "metadata": {
    "colab_type": "text",
    "id": "nBZbmTJtyro3"
   },
   "source": [
    "# Обработка данных"
   ]
  },
  {
   "cell_type": "markdown",
   "metadata": {
    "colab_type": "text",
    "id": "8v10jmWh7ZEq"
   },
   "source": [
    "На выходе должны быть объявлены переменные:\n",
    "\n",
    "* **X_train**: pd.DataFrame\\\n",
    "Id | ClientID | ClientType | CoachID | GymID | TrainingID | Month | Day\n",
    "* **y_train**: pd.Series\\\n",
    "Id | Target\n",
    "* **X_valid**: pd.DataFrame\\\n",
    "Id | ClientID | ClientType | CoachID | GymID | TrainingID | Month | Day\n",
    "* **y_valid**: pd.Series\\\n",
    "Id | Target\n",
    "* **X_test**: pd.DataFrame\\\n",
    "Id | ClientID | ClientType | CoachID | GymID | TrainingID | Month | Day\n",
    "\n",
    "TODO: Обновить"
   ]
  },
  {
   "cell_type": "markdown",
   "metadata": {
    "colab_type": "text",
    "id": "PIApOaBJ6Jvn"
   },
   "source": [
    "## Загрузка"
   ]
  },
  {
   "cell_type": "markdown",
   "metadata": {
    "colab_type": "text",
    "id": "VnrI6EYm7Bo2"
   },
   "source": [
    "Загрузка train/test датасета в датафреймы\n",
    "\n",
    "На выходе должны быть объявлены две переменные:\n",
    "* train_dataset: pd.Dataframe\n",
    "* test_dataset: pd.Dataframe"
   ]
  },
  {
   "cell_type": "markdown",
   "metadata": {},
   "source": [
    "### Объявление путей"
   ]
  },
  {
   "cell_type": "code",
   "execution_count": 9,
   "metadata": {},
   "outputs": [],
   "source": [
    "src_data_dir_path = os.path.join(PROJECT_DIR, 'data')\n",
    "\n",
    "src_train_file_path = os.path.join(src_data_dir_path, 'train.csv.zip')\n",
    "src_test_file_path = os.path.join(src_data_dir_path, 'test.csv.zip')\n",
    "\n",
    "dist_data_dir = os.path.join(WORK_DIR, 'data')"
   ]
  },
  {
   "cell_type": "markdown",
   "metadata": {
    "colab_type": "text",
    "id": "V-JF8VXJE_dW"
   },
   "source": [
    "### Скачивание архива\n"
   ]
  },
  {
   "cell_type": "code",
   "execution_count": 11,
   "metadata": {
    "colab": {
     "base_uri": "https://localhost:8080/",
     "height": 89
    },
    "colab_type": "code",
    "id": "Kf9z7X7BE_C4",
    "outputId": "31e15386-4e57-41de-e66c-34babaa5f259"
   },
   "outputs": [
    {
     "name": "stdout",
     "output_type": "stream",
     "text": [
      "Warning: Your Kaggle API key is readable by other users on this system! To fix this, you can run 'chmod 600 /Users/alex-kozinov/.kaggle/kaggle.json'\n",
      "Downloading ml-posterior-gym-training-prediction.zip to ./data\n",
      " 91%|██████████████████████████████████▋   | 3.00M/3.28M [00:00<00:00, 3.68MB/s]\n",
      "100%|██████████████████████████████████████| 3.28M/3.28M [00:00<00:00, 4.72MB/s]\n"
     ]
    }
   ],
   "source": [
    "!kaggle competitions download -c ml-posterior-gym-training-prediction  -p \"$src_data_dir_path\""
   ]
  },
  {
   "cell_type": "markdown",
   "metadata": {
    "colab_type": "text",
    "id": "ahegeQtfPM3B"
   },
   "source": [
    "### Разархивация"
   ]
  },
  {
   "cell_type": "code",
   "execution_count": 12,
   "metadata": {
    "colab": {},
    "colab_type": "code",
    "id": "ndOKGc8lQ7YX"
   },
   "outputs": [],
   "source": [
    "!unzip -o \"$src_train_file_path\" -d \"$dist_data_dir\" > /dev/null\n",
    "!unzip -o \"$src_test_file_path\" -d \"$dist_data_dir\" > /dev/null"
   ]
  },
  {
   "cell_type": "markdown",
   "metadata": {
    "colab_type": "text",
    "id": "c3cEAgZrT0PZ"
   },
   "source": [
    "### Считывание"
   ]
  },
  {
   "cell_type": "code",
   "execution_count": 10,
   "metadata": {
    "colab": {},
    "colab_type": "code",
    "id": "SlgGaj1qT5QJ"
   },
   "outputs": [],
   "source": [
    "train_file_path = os.path.join(dist_data_dir, 'train.csv')\n",
    "test_file_path = os.path.join(dist_data_dir, 'test.csv')\n",
    "\n",
    "train_dataset = pd.read_csv(train_file_path, index_col='Id')\n",
    "test_dataset = pd.read_csv(test_file_path, index_col='Id')"
   ]
  },
  {
   "cell_type": "markdown",
   "metadata": {
    "colab_type": "text",
    "id": "rYp375o3sABY"
   },
   "source": [
    "## Визуализация"
   ]
  },
  {
   "cell_type": "markdown",
   "metadata": {
    "colab_type": "text",
    "id": "j2aBvQjjsB6S"
   },
   "source": [
    "### Просмотр первых строк"
   ]
  },
  {
   "cell_type": "code",
   "execution_count": 11,
   "metadata": {
    "colab": {
     "base_uri": "https://localhost:8080/",
     "height": 235
    },
    "colab_type": "code",
    "id": "__PnCfkPsMUE",
    "outputId": "6e98988a-a711-4b9c-ebaf-37f1b8cf554c"
   },
   "outputs": [
    {
     "data": {
      "text/html": [
       "<div>\n",
       "<style scoped>\n",
       "    .dataframe tbody tr th:only-of-type {\n",
       "        vertical-align: middle;\n",
       "    }\n",
       "\n",
       "    .dataframe tbody tr th {\n",
       "        vertical-align: top;\n",
       "    }\n",
       "\n",
       "    .dataframe thead th {\n",
       "        text-align: right;\n",
       "    }\n",
       "</style>\n",
       "<table border=\"1\" class=\"dataframe\">\n",
       "  <thead>\n",
       "    <tr style=\"text-align: right;\">\n",
       "      <th></th>\n",
       "      <th>Time</th>\n",
       "      <th>ClientID</th>\n",
       "      <th>ClientType</th>\n",
       "      <th>CoachID</th>\n",
       "      <th>GymID</th>\n",
       "      <th>TrainingID</th>\n",
       "      <th>Target</th>\n",
       "    </tr>\n",
       "    <tr>\n",
       "      <th>Id</th>\n",
       "      <th></th>\n",
       "      <th></th>\n",
       "      <th></th>\n",
       "      <th></th>\n",
       "      <th></th>\n",
       "      <th></th>\n",
       "      <th></th>\n",
       "    </tr>\n",
       "  </thead>\n",
       "  <tbody>\n",
       "    <tr>\n",
       "      <th>0</th>\n",
       "      <td>2018-07-02 09:40:00</td>\n",
       "      <td>1</td>\n",
       "      <td>1</td>\n",
       "      <td>780</td>\n",
       "      <td>0</td>\n",
       "      <td>694</td>\n",
       "      <td>0</td>\n",
       "    </tr>\n",
       "    <tr>\n",
       "      <th>1</th>\n",
       "      <td>2018-07-20 11:50:00</td>\n",
       "      <td>1</td>\n",
       "      <td>1</td>\n",
       "      <td>567</td>\n",
       "      <td>0</td>\n",
       "      <td>655</td>\n",
       "      <td>0</td>\n",
       "    </tr>\n",
       "    <tr>\n",
       "      <th>2</th>\n",
       "      <td>2018-11-01 11:25:00</td>\n",
       "      <td>1</td>\n",
       "      <td>1</td>\n",
       "      <td>622</td>\n",
       "      <td>0</td>\n",
       "      <td>2523</td>\n",
       "      <td>0</td>\n",
       "    </tr>\n",
       "    <tr>\n",
       "      <th>3</th>\n",
       "      <td>2017-01-18 13:05:00</td>\n",
       "      <td>60</td>\n",
       "      <td>1</td>\n",
       "      <td>105</td>\n",
       "      <td>0</td>\n",
       "      <td>719</td>\n",
       "      <td>1</td>\n",
       "    </tr>\n",
       "    <tr>\n",
       "      <th>4</th>\n",
       "      <td>2017-05-17 07:40:00</td>\n",
       "      <td>60</td>\n",
       "      <td>1</td>\n",
       "      <td>622</td>\n",
       "      <td>0</td>\n",
       "      <td>2523</td>\n",
       "      <td>1</td>\n",
       "    </tr>\n",
       "  </tbody>\n",
       "</table>\n",
       "</div>"
      ],
      "text/plain": [
       "                   Time  ClientID  ClientType  CoachID  GymID  TrainingID  \\\n",
       "Id                                                                          \n",
       "0   2018-07-02 09:40:00         1           1      780      0         694   \n",
       "1   2018-07-20 11:50:00         1           1      567      0         655   \n",
       "2   2018-11-01 11:25:00         1           1      622      0        2523   \n",
       "3   2017-01-18 13:05:00        60           1      105      0         719   \n",
       "4   2017-05-17 07:40:00        60           1      622      0        2523   \n",
       "\n",
       "    Target  \n",
       "Id          \n",
       "0        0  \n",
       "1        0  \n",
       "2        0  \n",
       "3        1  \n",
       "4        1  "
      ]
     },
     "execution_count": 11,
     "metadata": {},
     "output_type": "execute_result"
    }
   ],
   "source": [
    "train_dataset.head()"
   ]
  },
  {
   "cell_type": "code",
   "execution_count": 12,
   "metadata": {
    "colab": {
     "base_uri": "https://localhost:8080/",
     "height": 235
    },
    "colab_type": "code",
    "id": "KScgn2FtsQON",
    "outputId": "d8554194-4c12-4be2-8d9e-cb7c269b4c8f"
   },
   "outputs": [
    {
     "data": {
      "text/html": [
       "<div>\n",
       "<style scoped>\n",
       "    .dataframe tbody tr th:only-of-type {\n",
       "        vertical-align: middle;\n",
       "    }\n",
       "\n",
       "    .dataframe tbody tr th {\n",
       "        vertical-align: top;\n",
       "    }\n",
       "\n",
       "    .dataframe thead th {\n",
       "        text-align: right;\n",
       "    }\n",
       "</style>\n",
       "<table border=\"1\" class=\"dataframe\">\n",
       "  <thead>\n",
       "    <tr style=\"text-align: right;\">\n",
       "      <th></th>\n",
       "      <th>Time</th>\n",
       "      <th>ClientID</th>\n",
       "      <th>ClientType</th>\n",
       "      <th>CoachID</th>\n",
       "      <th>GymID</th>\n",
       "      <th>TrainingID</th>\n",
       "    </tr>\n",
       "    <tr>\n",
       "      <th>Id</th>\n",
       "      <th></th>\n",
       "      <th></th>\n",
       "      <th></th>\n",
       "      <th></th>\n",
       "      <th></th>\n",
       "      <th></th>\n",
       "    </tr>\n",
       "  </thead>\n",
       "  <tbody>\n",
       "    <tr>\n",
       "      <th>0</th>\n",
       "      <td>2019-06-21 10:30:00</td>\n",
       "      <td>1</td>\n",
       "      <td>1</td>\n",
       "      <td>463</td>\n",
       "      <td>3</td>\n",
       "      <td>692</td>\n",
       "    </tr>\n",
       "    <tr>\n",
       "      <th>1</th>\n",
       "      <td>2019-05-19 15:25:00</td>\n",
       "      <td>1</td>\n",
       "      <td>1</td>\n",
       "      <td>728</td>\n",
       "      <td>6</td>\n",
       "      <td>2523</td>\n",
       "    </tr>\n",
       "    <tr>\n",
       "      <th>2</th>\n",
       "      <td>2019-05-24 18:20:00</td>\n",
       "      <td>1</td>\n",
       "      <td>1</td>\n",
       "      <td>622</td>\n",
       "      <td>0</td>\n",
       "      <td>434</td>\n",
       "    </tr>\n",
       "    <tr>\n",
       "      <th>3</th>\n",
       "      <td>2019-05-24 18:25:00</td>\n",
       "      <td>1</td>\n",
       "      <td>1</td>\n",
       "      <td>622</td>\n",
       "      <td>0</td>\n",
       "      <td>2523</td>\n",
       "    </tr>\n",
       "    <tr>\n",
       "      <th>4</th>\n",
       "      <td>2019-06-21 08:00:00</td>\n",
       "      <td>1</td>\n",
       "      <td>1</td>\n",
       "      <td>565</td>\n",
       "      <td>3</td>\n",
       "      <td>2523</td>\n",
       "    </tr>\n",
       "  </tbody>\n",
       "</table>\n",
       "</div>"
      ],
      "text/plain": [
       "                   Time  ClientID  ClientType  CoachID  GymID  TrainingID\n",
       "Id                                                                       \n",
       "0   2019-06-21 10:30:00         1           1      463      3         692\n",
       "1   2019-05-19 15:25:00         1           1      728      6        2523\n",
       "2   2019-05-24 18:20:00         1           1      622      0         434\n",
       "3   2019-05-24 18:25:00         1           1      622      0        2523\n",
       "4   2019-06-21 08:00:00         1           1      565      3        2523"
      ]
     },
     "execution_count": 12,
     "metadata": {},
     "output_type": "execute_result"
    }
   ],
   "source": [
    "test_dataset.head()"
   ]
  },
  {
   "cell_type": "markdown",
   "metadata": {
    "colab_type": "text",
    "id": "3npuEMZ5XAFB"
   },
   "source": [
    "## Финальная обработка"
   ]
  },
  {
   "cell_type": "markdown",
   "metadata": {
    "colab_type": "text",
    "id": "gp-RiW4tXbxW"
   },
   "source": [
    "### Извлечение выборки и таргета\n",
    "\n",
    "На выходе должны быть объявлены переменные:\n",
    "\n",
    "* **X_train_pure**: pd.DataFrame\\\n",
    "Id | Time | ClientID | ClientType | CoachID | GymID | TrainingID\n",
    "* **y_train**: pd.Series\\\n",
    "Id | Target\n",
    "* **X_valid_pure**: pd.DataFrame\\\n",
    "Id | Time | ClientID | ClientType | CoachID | GymID | TrainingID\n",
    "* **y_valid**: pd.Series\\\n",
    "Id | Target\n",
    "* **X_test_pure**: pd.DataFrame\\\n",
    "Id | Time | ClientID | ClientType | CoachID | GymID | TrainingID"
   ]
  },
  {
   "cell_type": "code",
   "execution_count": 34,
   "metadata": {
    "colab": {},
    "colab_type": "code",
    "id": "XTx9aq_Gql0l"
   },
   "outputs": [],
   "source": [
    "train_dataset = train_dataset.sort_values(by='Time')\n",
    "\n",
    "partition = int(len(train_dataset) * (1 - VALIDATE_RATIO))\n",
    "train_train_dataset = train_dataset.iloc[:partition]\n",
    "train_valid_dataset = train_dataset.iloc[partition:]\n",
    "\n",
    "X_train_train_pure = train_train_dataset.drop('Target', axis=1)\n",
    "y_train_train = train_train_dataset['Target']\n",
    "\n",
    "X_train_valid_pure = train_valid_dataset.drop('Target', axis=1)\n",
    "y_train_valid = train_valid_dataset['Target']\n",
    "X_test_pure = test_dataset"
   ]
  },
  {
   "cell_type": "markdown",
   "metadata": {
    "colab_type": "text",
    "id": "BD6LbHoswfKh"
   },
   "source": [
    "### Добавление дополнительных признаков\n",
    "\n",
    "* **X_train**: pd.DataFrame\\\n",
    "Id | ClientID | ClientType | CoachID | GymID | TrainingID | Month | Day | DayOfWeek | Season\n",
    "* **y_train**: pd.Series\\\n",
    "Id | Target\n",
    "* **X_valid**: pd.DataFrame\\\n",
    "Id | ClientID | ClientType | CoachID | GymID | TrainingID | Month | Day | DayOfWeek | Season\n",
    "* **y_valid**: pd.Series\\\n",
    "Id | Target\n",
    "* **X_test**: pd.DataFrame\\\n",
    "Id | ClientID | ClientType | CoachID | GymID | TrainingID | Month | Day | DayOfWeek | Season"
   ]
  },
  {
   "cell_type": "code",
   "execution_count": 35,
   "metadata": {
    "colab": {},
    "colab_type": "code",
    "id": "zrWgxyiDwj9p"
   },
   "outputs": [],
   "source": [
    "def add_time_features(X):\n",
    "    datetime_series = pd.to_datetime(X['Time'], format='%Y-%m-%d %H:%M:%S')\n",
    "    X['Month'] = pd.DatetimeIndex(datetime_series).month\n",
    "    X['Day'] = pd.DatetimeIndex(datetime_series).day\n",
    "    X['DayOfWeek'] = pd.DatetimeIndex(datetime_series).dayofweek\n",
    "    X['Season'] = (X['Month'] % 12 + 3) // 3\n",
    "    return X\n",
    "\n",
    "def prepare_sample(X):\n",
    "    X = X.copy()\n",
    "    X = add_time_features(X)\n",
    "    return X.drop('Time', axis=1)"
   ]
  },
  {
   "cell_type": "code",
   "execution_count": 36,
   "metadata": {
    "colab": {},
    "colab_type": "code",
    "id": "u-m9DEy40Ykh"
   },
   "outputs": [],
   "source": [
    "X_train_train = prepare_sample(X_train_train_pure)\n",
    "X_train_valid = prepare_sample(X_train_valid_pure)\n",
    "X_test = prepare_sample(X_test_pure)"
   ]
  },
  {
   "cell_type": "markdown",
   "metadata": {
    "colab_type": "text",
    "id": "YV16B-nOFVRf"
   },
   "source": [
    "# Эксперименты с обучением\n",
    "\n",
    "На выходе должны быть объявлены переменные\n",
    "\n",
    "* **y_test_predicted**: pd.Series \\\n",
    "Id | Target\n",
    "* **SUBMISSTION_FILE_NAME**: string\\\n",
    "Названия файла для сохранения"
   ]
  },
  {
   "cell_type": "markdown",
   "metadata": {
    "colab_type": "text",
    "id": "aYb4oyryFYiC"
   },
   "source": [
    "## Catboost"
   ]
  },
  {
   "cell_type": "markdown",
   "metadata": {
    "colab_type": "text",
    "id": "AYEJHFb6cGo3"
   },
   "source": [
    "### Объявление пула и параметров"
   ]
  },
  {
   "cell_type": "code",
   "execution_count": 37,
   "metadata": {
    "colab": {},
    "colab_type": "code",
    "id": "yBK-GPNbFa3M"
   },
   "outputs": [],
   "source": [
    "cat_features = [\n",
    "    'ClientID',\n",
    "    'ClientType',\n",
    "    'CoachID',\n",
    "    'GymID',\n",
    "    'TrainingID',\n",
    "    'Month',\n",
    "    'Day',\n",
    "    'DayOfWeek',\n",
    "    'Season'\n",
    "]\n",
    "ignored_features = [\n",
    "]\n",
    "train_train_pool = Pool(\n",
    "    X_train_train,\n",
    "    y_train_train,\n",
    "    cat_features=cat_features\n",
    ")\n",
    "train_valid_pool = Pool(\n",
    "    X_train_valid,\n",
    "    y_train_valid,\n",
    "    cat_features=cat_features\n",
    ")\n",
    "params = {\n",
    "    'iterations': 400,\n",
    "    'learning_rate': 0.08,\n",
    "    'eval_metric': 'AUC',\n",
    "#     'random_seed': 113,\n",
    "    'logging_level': 'Silent',\n",
    "    'use_best_model': False,\n",
    "    'ignored_features': ignored_features\n",
    "}"
   ]
  },
  {
   "cell_type": "markdown",
   "metadata": {
    "colab_type": "text",
    "id": "DtsY2ubtcRFh"
   },
   "source": [
    "### Обучение с валидацией"
   ]
  },
  {
   "cell_type": "code",
   "execution_count": 38,
   "metadata": {
    "colab": {
     "base_uri": "https://localhost:8080/",
     "height": 53
    },
    "colab_type": "code",
    "id": "P2b66TLUeWqK",
    "outputId": "36be239f-b9ea-4404-d76b-c876ce4c721b"
   },
   "outputs": [
    {
     "name": "stdout",
     "output_type": "stream",
     "text": [
      "CPU times: user 9min 6s, sys: 2min 7s, total: 11min 13s\n",
      "Wall time: 2min 6s\n"
     ]
    },
    {
     "data": {
      "text/plain": [
       "<catboost.core.CatBoostClassifier at 0x1a285f4be0>"
      ]
     },
     "execution_count": 38,
     "metadata": {},
     "output_type": "execute_result"
    }
   ],
   "source": [
    "%%time\n",
    "model = CatBoostClassifier(**params)\n",
    "model.fit(train_train_pool, eval_set=train_valid_pool)"
   ]
  },
  {
   "cell_type": "markdown",
   "metadata": {
    "colab_type": "text",
    "id": "tTFp7opGcaSm"
   },
   "source": [
    "### Визуализация результатов"
   ]
  },
  {
   "cell_type": "code",
   "execution_count": 39,
   "metadata": {
    "colab": {},
    "colab_type": "code",
    "id": "keVce6fG_uH0"
   },
   "outputs": [],
   "source": [
    "def visualize_learning_results(metrics):\n",
    "    \"\"\"\n",
    "    Plot one graph for each metric\n",
    "\n",
    "    :param metrics: dic of metrics\n",
    "    \"\"\"\n",
    "\n",
    "    n = len(metrics)\n",
    "    \n",
    "    fig = make_subplots(\n",
    "        rows=n,\n",
    "        cols=1,\n",
    "        subplot_titles=list(metrics.keys())\n",
    "    )\n",
    "\n",
    "    for i, (metric_name, curves) in enumerate(metrics.items()):\n",
    "        for dataset_type, curve in curves.items():\n",
    "            m = len(curve)\n",
    "            fig.add_trace(\n",
    "                go.Scatter(\n",
    "                    x=np.arange(m),\n",
    "                    y=curve,\n",
    "                    mode='lines',\n",
    "                    name=f'{dataset_type} {metric_name}'\n",
    "                ),\n",
    "                row=i + 1,\n",
    "                col=1\n",
    "            )\n",
    "\n",
    "    fig.update_layout(\n",
    "        title_text=\"Learning results\",\n",
    "        width=297. * 3,\n",
    "        height=210. * 3 * n\n",
    "    )\n",
    "    fig.show()"
   ]
  },
  {
   "cell_type": "code",
   "execution_count": 40,
   "metadata": {
    "colab": {},
    "colab_type": "code",
    "id": "lKxIfG4ZBXCc"
   },
   "outputs": [],
   "source": [
    "eval_results = model.get_evals_result()\n",
    "metrics = dict(\n",
    "    Logloss=dict(\n",
    "        validation=eval_results['validation']['Logloss'],\n",
    "        learn=eval_results['learn']['Logloss']\n",
    "    ),\n",
    "    AUC=dict(\n",
    "        validation=eval_results['validation']['AUC']\n",
    "    )\n",
    ")"
   ]
  },
  {
   "cell_type": "code",
   "execution_count": 41,
   "metadata": {
    "colab": {
     "base_uri": "https://localhost:8080/",
     "height": 1000
    },
    "colab_type": "code",
    "id": "QiAI_GyDB2Tr",
    "outputId": "58a7e375-543f-4e4f-d67b-fb65c05502df"
   },
   "outputs": [
    {
     "data": {
      "application/vnd.plotly.v1+json": {
       "config": {
        "plotlyServerURL": "https://plot.ly"
       },
       "data": [
        {
         "mode": "lines",
         "name": "validation Logloss",
         "type": "scatter",
         "x": [
          0,
          1,
          2,
          3,
          4,
          5,
          6,
          7,
          8,
          9,
          10,
          11,
          12,
          13,
          14,
          15,
          16,
          17,
          18,
          19,
          20,
          21,
          22,
          23,
          24,
          25,
          26,
          27,
          28,
          29,
          30,
          31,
          32,
          33,
          34,
          35,
          36,
          37,
          38,
          39,
          40,
          41,
          42,
          43,
          44,
          45,
          46,
          47,
          48,
          49,
          50,
          51,
          52,
          53,
          54,
          55,
          56,
          57,
          58,
          59,
          60,
          61,
          62,
          63,
          64,
          65,
          66,
          67,
          68,
          69,
          70,
          71,
          72,
          73,
          74,
          75,
          76,
          77,
          78,
          79,
          80,
          81,
          82,
          83,
          84,
          85,
          86,
          87,
          88,
          89,
          90,
          91,
          92,
          93,
          94,
          95,
          96,
          97,
          98,
          99,
          100,
          101,
          102,
          103,
          104,
          105,
          106,
          107,
          108,
          109,
          110,
          111,
          112,
          113,
          114,
          115,
          116,
          117,
          118,
          119,
          120,
          121,
          122,
          123,
          124,
          125,
          126,
          127,
          128,
          129,
          130,
          131,
          132,
          133,
          134,
          135,
          136,
          137,
          138,
          139,
          140,
          141,
          142,
          143,
          144,
          145,
          146,
          147,
          148,
          149,
          150,
          151,
          152,
          153,
          154,
          155,
          156,
          157,
          158,
          159,
          160,
          161,
          162,
          163,
          164,
          165,
          166,
          167,
          168,
          169,
          170,
          171,
          172,
          173,
          174,
          175,
          176,
          177,
          178,
          179,
          180,
          181,
          182,
          183,
          184,
          185,
          186,
          187,
          188,
          189,
          190,
          191,
          192,
          193,
          194,
          195,
          196,
          197,
          198,
          199,
          200,
          201,
          202,
          203,
          204,
          205,
          206,
          207,
          208,
          209,
          210,
          211,
          212,
          213,
          214,
          215,
          216,
          217,
          218,
          219,
          220,
          221,
          222,
          223,
          224,
          225,
          226,
          227,
          228,
          229,
          230,
          231,
          232,
          233,
          234,
          235,
          236,
          237,
          238,
          239,
          240,
          241,
          242,
          243,
          244,
          245,
          246,
          247,
          248,
          249,
          250,
          251,
          252,
          253,
          254,
          255,
          256,
          257,
          258,
          259,
          260,
          261,
          262,
          263,
          264,
          265,
          266,
          267,
          268,
          269,
          270,
          271,
          272,
          273,
          274,
          275,
          276,
          277,
          278,
          279,
          280,
          281,
          282,
          283,
          284,
          285,
          286,
          287,
          288,
          289,
          290,
          291,
          292,
          293,
          294,
          295,
          296,
          297,
          298,
          299,
          300,
          301,
          302,
          303,
          304,
          305,
          306,
          307,
          308,
          309,
          310,
          311,
          312,
          313,
          314,
          315,
          316,
          317,
          318,
          319,
          320,
          321,
          322,
          323,
          324,
          325,
          326,
          327,
          328,
          329,
          330,
          331,
          332,
          333,
          334,
          335,
          336,
          337,
          338,
          339,
          340,
          341,
          342,
          343,
          344,
          345,
          346,
          347,
          348,
          349,
          350,
          351,
          352,
          353,
          354,
          355,
          356,
          357,
          358,
          359,
          360,
          361,
          362,
          363,
          364,
          365,
          366,
          367,
          368,
          369,
          370,
          371,
          372,
          373,
          374,
          375,
          376,
          377,
          378,
          379,
          380,
          381,
          382,
          383,
          384,
          385,
          386,
          387,
          388,
          389,
          390,
          391,
          392,
          393,
          394,
          395,
          396,
          397,
          398,
          399
         ],
         "xaxis": "x",
         "y": [
          0.5848791077360307,
          0.4952426931757541,
          0.42619813662196515,
          0.3721641766267772,
          0.3299908182653733,
          0.2968692113616315,
          0.2698388619318256,
          0.2485469608881457,
          0.23306082586402868,
          0.21886255105484315,
          0.20737255538000182,
          0.19842163348940328,
          0.19043170554745503,
          0.1837644492622361,
          0.17850898378756264,
          0.1738109112881048,
          0.1703016513576252,
          0.1673593607447489,
          0.16590667804520465,
          0.16505485420546814,
          0.164246886118576,
          0.16311041250645983,
          0.16258099480524027,
          0.16193433875820568,
          0.16132504337182127,
          0.16082129092648992,
          0.16050886657500799,
          0.15972748146895616,
          0.15937002283296428,
          0.1591996769647118,
          0.1588650121823581,
          0.1586157982492151,
          0.15828826143336633,
          0.15819088964555042,
          0.15792647264208517,
          0.15758660661408527,
          0.15747655780837522,
          0.15731455310769568,
          0.15698533590877717,
          0.1567992758371713,
          0.15648268687526742,
          0.1563414232511435,
          0.15617427980220375,
          0.15614643681646195,
          0.15586254660452803,
          0.15568114499372177,
          0.15550316716737658,
          0.1555664120295703,
          0.1553537291153988,
          0.15521588767888655,
          0.15517056138287888,
          0.155219464790031,
          0.15528470851590198,
          0.15536288096110767,
          0.15535801730869508,
          0.15522676954106857,
          0.1553322545862397,
          0.1552391896264603,
          0.15506367729490347,
          0.15489956877785604,
          0.15501395880301305,
          0.15496426130822644,
          0.15504827018670012,
          0.1551525891231674,
          0.15527016946285338,
          0.1553566878673842,
          0.15545196747433493,
          0.1553301262024927,
          0.15528208597234655,
          0.15529096654519214,
          0.15526525345408235,
          0.1552702791282307,
          0.1552563220446154,
          0.1553298997145318,
          0.1552666163019253,
          0.15537324175141687,
          0.1555123729498416,
          0.15565141405889035,
          0.15569989371105564,
          0.15588606598826177,
          0.15588246636216985,
          0.1560710705222305,
          0.15606866355943527,
          0.1560800427791916,
          0.15608984831516243,
          0.15618971217681485,
          0.15627293070510137,
          0.15638752417645446,
          0.15642297159239846,
          0.1564737251633176,
          0.1565949630388911,
          0.15663068907141717,
          0.15659040969019175,
          0.1566205144700958,
          0.1566199117676844,
          0.15672253442458778,
          0.15680872094741363,
          0.15683326718978474,
          0.15687787754214028,
          0.1570015626916315,
          0.15702479577420234,
          0.1569870857735965,
          0.15700802235649622,
          0.1570934674446751,
          0.1570328002187823,
          0.1571864157186789,
          0.15725930512279318,
          0.15730303456113853,
          0.15734332597984296,
          0.15746103537767625,
          0.15743127572640225,
          0.15752914814354732,
          0.1574475232717043,
          0.15743381528733477,
          0.15747749528598035,
          0.1575582831873005,
          0.15766742915647253,
          0.15775079211301735,
          0.15775025987500713,
          0.1577315222553408,
          0.1577319089319113,
          0.157731854191734,
          0.157746061421803,
          0.1577027814664643,
          0.15773635231218675,
          0.15773007672883707,
          0.15774297677052077,
          0.15774527963487567,
          0.1578527635846678,
          0.15792638607716092,
          0.15791052405094524,
          0.15797930514652525,
          0.15795793799870173,
          0.1579677564458764,
          0.15797491711458597,
          0.15795330968457194,
          0.15794706901151803,
          0.15794721851699603,
          0.15794704068191845,
          0.15794145292502543,
          0.1579819131727688,
          0.1579744890253862,
          0.157974594656089,
          0.15797899849175323,
          0.1579888159937374,
          0.15803079287389657,
          0.15804783791459254,
          0.15804819266892145,
          0.15803706224710987,
          0.15800406173410864,
          0.15809735092309482,
          0.15812791773720536,
          0.1581212658125605,
          0.15812234842811554,
          0.15820301750829677,
          0.1582640730043391,
          0.1582859329290341,
          0.15832968103622133,
          0.15828549932470184,
          0.158250650432072,
          0.15823837011694936,
          0.15828594123491255,
          0.15828533542641166,
          0.15827989841009749,
          0.15823152117312875,
          0.15823079347707286,
          0.15822172593556227,
          0.158267238738914,
          0.15830922662883026,
          0.15828612574546333,
          0.15828554320712732,
          0.15830649145238845,
          0.15839847997599246,
          0.1584907021412401,
          0.15847883448064964,
          0.15854232951426772,
          0.1585683204461283,
          0.15857467748114817,
          0.15865716901138024,
          0.15863027068665767,
          0.1586179065530515,
          0.1586995060134052,
          0.15870732395809659,
          0.15867413394100527,
          0.15887403949691964,
          0.15895163169962442,
          0.15891378579530527,
          0.15893113582554994,
          0.158938328307078,
          0.15893276911482757,
          0.1589356696234202,
          0.15897511504074774,
          0.15913980937801397,
          0.15920831716151101,
          0.15920559648530835,
          0.15921616802569433,
          0.1592161384476479,
          0.15922225520207706,
          0.15921104856397325,
          0.15917626974484297,
          0.15920091585569962,
          0.15920032757364053,
          0.15929202042698498,
          0.15926799157745203,
          0.1593530553274392,
          0.15936626805381385,
          0.15938531228028216,
          0.15932484139587194,
          0.15924131939611702,
          0.1592414226731006,
          0.15925217853331292,
          0.15928200892534533,
          0.1594297977129826,
          0.15959312022857006,
          0.1595503007761038,
          0.15957361055138145,
          0.15957462648610607,
          0.15961878677789898,
          0.1596300562610624,
          0.15957700791708848,
          0.1595729725595981,
          0.1595693979050212,
          0.1595234698009233,
          0.15954119801990524,
          0.1595146941306564,
          0.15949844917105005,
          0.15948138575501578,
          0.1594948984773683,
          0.15949676199885976,
          0.15949669335181893,
          0.15949324481131996,
          0.15947282118048706,
          0.15955161950016297,
          0.15963151736345818,
          0.1595764343425875,
          0.15959380152700092,
          0.15964069038883294,
          0.1596619410317915,
          0.15968264338830027,
          0.15967852692661458,
          0.15972793666563595,
          0.15975792262046085,
          0.15977308328190018,
          0.1597626499692669,
          0.1597890843770122,
          0.1597791972660491,
          0.15977073980078096,
          0.1597707801651651,
          0.15977110180980666,
          0.15976906152599268,
          0.15977629988267886,
          0.15995576442361242,
          0.1599593347349803,
          0.16001068491750897,
          0.1599320659037064,
          0.16003627664454348,
          0.16020681271334794,
          0.160207840641635,
          0.1602079216085588,
          0.16027432647384357,
          0.16027703848649716,
          0.16027084725706536,
          0.16042051805527527,
          0.1603930109884683,
          0.16040859295918788,
          0.16043955044189506,
          0.1603724487596027,
          0.16040465316581748,
          0.16039221849406868,
          0.16041154567316557,
          0.16042053965117567,
          0.16051687026346545,
          0.16053025914414548,
          0.16053348296711964,
          0.16053140183990675,
          0.16057579920938825,
          0.1606110594766308,
          0.16061262810283805,
          0.16063488670399745,
          0.16058399443690036,
          0.16056410846168093,
          0.16056705599931123,
          0.16055224744723254,
          0.16052482462888776,
          0.16049906161700783,
          0.160551022734532,
          0.1606051287493269,
          0.16063128445217825,
          0.16063276642179025,
          0.16062984197821814,
          0.16063037009353318,
          0.1606614380747141,
          0.1606578048430034,
          0.16064391396347083,
          0.1606466717239547,
          0.16063399503024636,
          0.16061170275182146,
          0.16061171691712475,
          0.16060478259381405,
          0.16061014343805882,
          0.16064786667301906,
          0.16067955409457033,
          0.1606782683984697,
          0.16067934069649104,
          0.16068156007882278,
          0.16066977949589503,
          0.16078670496574818,
          0.16078623370568404,
          0.16078625473896443,
          0.16080003236551754,
          0.1608174949319129,
          0.16081878328616867,
          0.1607938222259577,
          0.16082920711550483,
          0.16084443023137476,
          0.1608085909414496,
          0.16080195071985232,
          0.1608612731914733,
          0.16085250590531266,
          0.16093558381415518,
          0.16089944977470397,
          0.16094264837450425,
          0.16094740354813883,
          0.160885559200776,
          0.16116382839499926,
          0.16120665956643473,
          0.16120656123738628,
          0.16120598996436983,
          0.16123528514332472,
          0.16123603014630314,
          0.16127552997337424,
          0.1612407296428123,
          0.16124776361939439,
          0.16123373681385064,
          0.1612225365938643,
          0.16124104566534525,
          0.1612281893891351,
          0.1611879989104333,
          0.16115652840736244,
          0.16115653352129072,
          0.16113406316360418,
          0.16113442432705202,
          0.16114639020772056,
          0.161153433649279,
          0.16114335640229038,
          0.16114244520789772,
          0.16114363491080907,
          0.1611686684548992,
          0.16117460424434946,
          0.1614465142273817,
          0.16144771929558568,
          0.16147290904508738,
          0.16153698404004121,
          0.16164843750254276,
          0.16164431335575072,
          0.16164816260867965,
          0.16170057574880406,
          0.16171320459470764,
          0.16176643345186037,
          0.16177227392732837,
          0.1617722973478043,
          0.16177571783183137,
          0.16181528141318458,
          0.1618049903523453,
          0.1618241017399367,
          0.16183104268685775,
          0.16187288184724133,
          0.16186979042390717,
          0.16186112345830528,
          0.1618900606137231,
          0.16185043781447334,
          0.1618504495403854,
          0.16186945028020805,
          0.161869279333608,
          0.16194694696458958,
          0.16200087304815836,
          0.1619718674018366,
          0.16215920948954618,
          0.1621637290842731,
          0.16216754656876406,
          0.16217593438030203,
          0.16216984588430744,
          0.16216989667958176,
          0.16217011313645213,
          0.16216518027547974,
          0.1621651790724093,
          0.16215900419293316,
          0.16215999913735707,
          0.1622305326987452,
          0.16218767375541038,
          0.16221602958146336,
          0.16222032695117494,
          0.16233764512772042,
          0.1623536962583725,
          0.1623576481179664,
          0.16235890769595357,
          0.162357509836961,
          0.16235871332107643,
          0.16231636717828343,
          0.162305810594532
         ],
         "yaxis": "y"
        },
        {
         "mode": "lines",
         "name": "learn Logloss",
         "type": "scatter",
         "x": [
          0,
          1,
          2,
          3,
          4,
          5,
          6,
          7,
          8,
          9,
          10,
          11,
          12,
          13,
          14,
          15,
          16,
          17,
          18,
          19,
          20,
          21,
          22,
          23,
          24,
          25,
          26,
          27,
          28,
          29,
          30,
          31,
          32,
          33,
          34,
          35,
          36,
          37,
          38,
          39,
          40,
          41,
          42,
          43,
          44,
          45,
          46,
          47,
          48,
          49,
          50,
          51,
          52,
          53,
          54,
          55,
          56,
          57,
          58,
          59,
          60,
          61,
          62,
          63,
          64,
          65,
          66,
          67,
          68,
          69,
          70,
          71,
          72,
          73,
          74,
          75,
          76,
          77,
          78,
          79,
          80,
          81,
          82,
          83,
          84,
          85,
          86,
          87,
          88,
          89,
          90,
          91,
          92,
          93,
          94,
          95,
          96,
          97,
          98,
          99,
          100,
          101,
          102,
          103,
          104,
          105,
          106,
          107,
          108,
          109,
          110,
          111,
          112,
          113,
          114,
          115,
          116,
          117,
          118,
          119,
          120,
          121,
          122,
          123,
          124,
          125,
          126,
          127,
          128,
          129,
          130,
          131,
          132,
          133,
          134,
          135,
          136,
          137,
          138,
          139,
          140,
          141,
          142,
          143,
          144,
          145,
          146,
          147,
          148,
          149,
          150,
          151,
          152,
          153,
          154,
          155,
          156,
          157,
          158,
          159,
          160,
          161,
          162,
          163,
          164,
          165,
          166,
          167,
          168,
          169,
          170,
          171,
          172,
          173,
          174,
          175,
          176,
          177,
          178,
          179,
          180,
          181,
          182,
          183,
          184,
          185,
          186,
          187,
          188,
          189,
          190,
          191,
          192,
          193,
          194,
          195,
          196,
          197,
          198,
          199,
          200,
          201,
          202,
          203,
          204,
          205,
          206,
          207,
          208,
          209,
          210,
          211,
          212,
          213,
          214,
          215,
          216,
          217,
          218,
          219,
          220,
          221,
          222,
          223,
          224,
          225,
          226,
          227,
          228,
          229,
          230,
          231,
          232,
          233,
          234,
          235,
          236,
          237,
          238,
          239,
          240,
          241,
          242,
          243,
          244,
          245,
          246,
          247,
          248,
          249,
          250,
          251,
          252,
          253,
          254,
          255,
          256,
          257,
          258,
          259,
          260,
          261,
          262,
          263,
          264,
          265,
          266,
          267,
          268,
          269,
          270,
          271,
          272,
          273,
          274,
          275,
          276,
          277,
          278,
          279,
          280,
          281,
          282,
          283,
          284,
          285,
          286,
          287,
          288,
          289,
          290,
          291,
          292,
          293,
          294,
          295,
          296,
          297,
          298,
          299,
          300,
          301,
          302,
          303,
          304,
          305,
          306,
          307,
          308,
          309,
          310,
          311,
          312,
          313,
          314,
          315,
          316,
          317,
          318,
          319,
          320,
          321,
          322,
          323,
          324,
          325,
          326,
          327,
          328,
          329,
          330,
          331,
          332,
          333,
          334,
          335,
          336,
          337,
          338,
          339,
          340,
          341,
          342,
          343,
          344,
          345,
          346,
          347,
          348,
          349,
          350,
          351,
          352,
          353,
          354,
          355,
          356,
          357,
          358,
          359,
          360,
          361,
          362,
          363,
          364,
          365,
          366,
          367,
          368,
          369,
          370,
          371,
          372,
          373,
          374,
          375,
          376,
          377,
          378,
          379,
          380,
          381,
          382,
          383,
          384,
          385,
          386,
          387,
          388,
          389,
          390,
          391,
          392,
          393,
          394,
          395,
          396,
          397,
          398,
          399
         ],
         "xaxis": "x",
         "y": [
          0.583523031726713,
          0.4931278818380076,
          0.42302968541968256,
          0.3679454929049467,
          0.32481262804810324,
          0.2911079055983956,
          0.2638800462701498,
          0.2422050139175619,
          0.22565936172280174,
          0.21102296813599292,
          0.1995766431224492,
          0.1903779023496221,
          0.1810371830541228,
          0.17382806654137384,
          0.16756382228740305,
          0.16210321361119584,
          0.15786366845175348,
          0.15455580741976985,
          0.15270939555743424,
          0.15021147224611062,
          0.1469774382841726,
          0.1439929392991903,
          0.14181093428650807,
          0.13986545097718361,
          0.13811808017126212,
          0.13675481916821303,
          0.13567165994427108,
          0.13466930618103717,
          0.13374731692749053,
          0.1330900929345851,
          0.13236921683893735,
          0.13173026475770191,
          0.1313175689491015,
          0.13072239747288542,
          0.13019189892804517,
          0.12980002283209857,
          0.1294491990702,
          0.12910977569846674,
          0.12883272350569222,
          0.1286234292539947,
          0.12834594348539022,
          0.12804276106897447,
          0.12785447619945403,
          0.12764466652328935,
          0.12745562419939388,
          0.127120141663177,
          0.12691271122373077,
          0.12655618180310493,
          0.12638351121648753,
          0.12617500102458815,
          0.12609143051278218,
          0.1257942835046539,
          0.1255825153603828,
          0.12540668344267245,
          0.12521848357781207,
          0.12510052295860308,
          0.12491194108337492,
          0.12482245800231122,
          0.12472402567021439,
          0.12461029710362401,
          0.12449662267567707,
          0.12440472686759431,
          0.12428904264051586,
          0.1241815086945069,
          0.12406508633364605,
          0.1239453407510818,
          0.12383742737137032,
          0.123768522432815,
          0.12371291617749798,
          0.12363766117539496,
          0.1234882630705806,
          0.12344700321711026,
          0.12338390463794886,
          0.12329603781890043,
          0.12321975217483995,
          0.12310704028157282,
          0.12304246588235637,
          0.12293932668911786,
          0.12285252600063767,
          0.12267424429825631,
          0.12252519641266547,
          0.12244414325116332,
          0.122375415647752,
          0.1223557482519726,
          0.12228229812718339,
          0.12218704973859673,
          0.12210360436171148,
          0.12202976903381664,
          0.1219880312225892,
          0.12192522341123373,
          0.12180380017967761,
          0.12177799569226119,
          0.12175258382466062,
          0.12170742337883744,
          0.12166431161630532,
          0.12160486658175255,
          0.12145743104675989,
          0.12140600898828381,
          0.12136141301257264,
          0.1213308029312477,
          0.1212755238821483,
          0.12124556253652805,
          0.12120617878058132,
          0.12116362751027263,
          0.12113338438615488,
          0.12098975277312815,
          0.12096059011040344,
          0.1209282297488805,
          0.12089757571007989,
          0.1208463828432401,
          0.12082009017438917,
          0.12071759292149502,
          0.12070018921518794,
          0.12066388429642627,
          0.12064871823592972,
          0.12060215007964258,
          0.12054162693049089,
          0.12050343517942998,
          0.12049614464983983,
          0.12047744806968541,
          0.12045146981897477,
          0.1204406749962368,
          0.12043034895155039,
          0.12037672697699395,
          0.12032224635580313,
          0.12027568645521511,
          0.12022616198613878,
          0.12021535193038241,
          0.12015910132926214,
          0.12003396155487311,
          0.11999033652943138,
          0.11996788912149989,
          0.11994903085593747,
          0.11991981981967056,
          0.11990432468335067,
          0.1198822032631311,
          0.11986999823953268,
          0.11986984230156725,
          0.1198596024743158,
          0.11985349087889585,
          0.1198396789510117,
          0.11980106295485726,
          0.11980100810407086,
          0.1197952249355573,
          0.11977855126769955,
          0.11973360006096817,
          0.11972576903582567,
          0.11972566376659814,
          0.11971674759262707,
          0.11968466165394388,
          0.11964984888915003,
          0.11963723353465795,
          0.11961244729482969,
          0.11961233973658768,
          0.11959095668282659,
          0.11950575629315309,
          0.11948621526609547,
          0.11945102866186987,
          0.11940532487580907,
          0.11938684428311248,
          0.11936560382606375,
          0.11928863381061011,
          0.11927171491625037,
          0.11924323914259832,
          0.11923238971924975,
          0.11923215857674993,
          0.11922369288708935,
          0.11920432033210121,
          0.11918483887232816,
          0.11916377072319122,
          0.11913557042498649,
          0.1191247192623442,
          0.11910875240434315,
          0.11902218691853857,
          0.11900480990529845,
          0.11894381246965308,
          0.11893648345497992,
          0.11889641759041779,
          0.11889095054308038,
          0.11885388179209212,
          0.11880940142626747,
          0.11874085536673641,
          0.11872814354130452,
          0.11865731936778139,
          0.11863657017428494,
          0.11861446067336137,
          0.11857690317544192,
          0.11856324527313765,
          0.1185459549069265,
          0.11852563003286634,
          0.11851650888523585,
          0.11848015256587933,
          0.11844344343233218,
          0.11842451838239952,
          0.1183564695476607,
          0.11835399820955882,
          0.11835386555127798,
          0.11833640979080795,
          0.11832207469924819,
          0.11828715055352527,
          0.11825403688909844,
          0.11824753694427188,
          0.11818483453738132,
          0.11815776525615453,
          0.11810444111062894,
          0.11807308204638754,
          0.11806539918841173,
          0.11802883905754562,
          0.1179657835819746,
          0.11795451522284367,
          0.11790763522137725,
          0.11787378538575463,
          0.1178481340048683,
          0.1178277037598228,
          0.11781820022453794,
          0.1177701893182398,
          0.11777015847630966,
          0.11775161368056385,
          0.11773866930001055,
          0.11768208019478596,
          0.11765903995150499,
          0.1176341762037625,
          0.11761679338732461,
          0.11760540071259268,
          0.11759933114792451,
          0.11759108770586976,
          0.11756781429723484,
          0.11755133367331656,
          0.11755121663045787,
          0.11755118488164959,
          0.11751419347099941,
          0.11750697180911605,
          0.11747430259037159,
          0.11745416788626119,
          0.11741120522576828,
          0.11739307143596539,
          0.11734193158039706,
          0.11729298904274187,
          0.11727982649603229,
          0.11727843023281805,
          0.11723331158371704,
          0.1172064886322163,
          0.11719400045954352,
          0.11717111261064238,
          0.1171495208496702,
          0.1171250331588985,
          0.1171197851881122,
          0.11711975341715927,
          0.11711972610650005,
          0.11709889271582632,
          0.11708327995663642,
          0.11706705709558272,
          0.11706464066435189,
          0.11705140574855884,
          0.1170282004873488,
          0.11699664628310776,
          0.11697942316811304,
          0.11697897150759697,
          0.11697896281967046,
          0.11695140590477605,
          0.11693616675110405,
          0.11693152373703004,
          0.11691690279106118,
          0.11688468083512524,
          0.11688171061335953,
          0.11686346355983496,
          0.11685274116834622,
          0.11683591170755261,
          0.11681847470489502,
          0.1168004037590683,
          0.11679586145631173,
          0.1167726756973114,
          0.11676683755724948,
          0.11675726900282843,
          0.11675521121673481,
          0.11673504275767212,
          0.11671596046195784,
          0.11670839472753752,
          0.11667584814157476,
          0.11666535875666915,
          0.116648662395492,
          0.11664127467698816,
          0.1166293849689381,
          0.11662283915678805,
          0.11659207717453793,
          0.116586685962174,
          0.11656781349970657,
          0.11655931950774387,
          0.11655757954636162,
          0.11655732176756135,
          0.11655726721590325,
          0.1165307893328735,
          0.11651446240980498,
          0.11650919906635801,
          0.116497671367694,
          0.11648896452810929,
          0.11644934378997004,
          0.11644933659754202,
          0.11641152197888177,
          0.11638017869846655,
          0.11636396565051782,
          0.11634318682197382,
          0.11633010286477476,
          0.11633000084100868,
          0.1163296282059046,
          0.11631163577696663,
          0.11629918336812889,
          0.11626384929557586,
          0.11626384208129921,
          0.11624728401447502,
          0.11623192248343281,
          0.11621403842605862,
          0.11620993139385559,
          0.11620116835694709,
          0.11617765146980626,
          0.11614086718040274,
          0.1161275496237654,
          0.11610438056348449,
          0.11608715255622937,
          0.11606642806239738,
          0.1160517685933944,
          0.11604402352824751,
          0.11603851704260053,
          0.11603007802055985,
          0.11602206637715247,
          0.115994213632615,
          0.1159915632760915,
          0.11599150950738615,
          0.11598372960834472,
          0.11598352200471485,
          0.11597835885497423,
          0.11594888410428238,
          0.11593683623779863,
          0.11592584779932855,
          0.11592498651684213,
          0.11592015106045521,
          0.11589830095074952,
          0.11588864486583084,
          0.11587976856593152,
          0.11587976460955432,
          0.11587421946492674,
          0.11587419290792533,
          0.11586959188151125,
          0.1158547773861054,
          0.11583389625319632,
          0.11582912933867456,
          0.11582136660189964,
          0.11580316384409363,
          0.11579184647769883,
          0.115772548550535,
          0.11576300968306075,
          0.11573747721978882,
          0.11569792718275532,
          0.1156741942747046,
          0.11566559546580209,
          0.11566476904345793,
          0.11566022728256983,
          0.11563792889726968,
          0.11561200518368427,
          0.11561136318051818,
          0.11561136039074817,
          0.11561022554369829,
          0.11559018951339946,
          0.1155419057824545,
          0.11553298886880516,
          0.11551706380580107,
          0.11549314367353679,
          0.11548457729530844,
          0.1154714051489236,
          0.11546712265693845,
          0.11541416926661142,
          0.11541416544799447,
          0.11539481642041062,
          0.11539477621386382,
          0.1153737681224387,
          0.11535585890133584,
          0.11530928670979952,
          0.11529763162988281,
          0.11529005918084997,
          0.11528809009022069,
          0.11528235594670641,
          0.11527443970241322,
          0.1152743872650253,
          0.11525024467105813,
          0.11523533026877288,
          0.11523532086955547,
          0.1152133004671612,
          0.11516950668691847,
          0.11514470260067323,
          0.11511794569397076,
          0.11509513286102092,
          0.115094343046623,
          0.11507769176910042,
          0.11506515021888541,
          0.11506442736242536,
          0.11504607817919417,
          0.11504334087120169,
          0.11502434231685539,
          0.1150202082516215,
          0.11500876910199903
         ],
         "yaxis": "y"
        },
        {
         "mode": "lines",
         "name": "validation AUC",
         "type": "scatter",
         "x": [
          0,
          1,
          2,
          3,
          4,
          5,
          6,
          7,
          8,
          9,
          10,
          11,
          12,
          13,
          14,
          15,
          16,
          17,
          18,
          19,
          20,
          21,
          22,
          23,
          24,
          25,
          26,
          27,
          28,
          29,
          30,
          31,
          32,
          33,
          34,
          35,
          36,
          37,
          38,
          39,
          40,
          41,
          42,
          43,
          44,
          45,
          46,
          47,
          48,
          49,
          50,
          51,
          52,
          53,
          54,
          55,
          56,
          57,
          58,
          59,
          60,
          61,
          62,
          63,
          64,
          65,
          66,
          67,
          68,
          69,
          70,
          71,
          72,
          73,
          74,
          75,
          76,
          77,
          78,
          79,
          80,
          81,
          82,
          83,
          84,
          85,
          86,
          87,
          88,
          89,
          90,
          91,
          92,
          93,
          94,
          95,
          96,
          97,
          98,
          99,
          100,
          101,
          102,
          103,
          104,
          105,
          106,
          107,
          108,
          109,
          110,
          111,
          112,
          113,
          114,
          115,
          116,
          117,
          118,
          119,
          120,
          121,
          122,
          123,
          124,
          125,
          126,
          127,
          128,
          129,
          130,
          131,
          132,
          133,
          134,
          135,
          136,
          137,
          138,
          139,
          140,
          141,
          142,
          143,
          144,
          145,
          146,
          147,
          148,
          149,
          150,
          151,
          152,
          153,
          154,
          155,
          156,
          157,
          158,
          159,
          160,
          161,
          162,
          163,
          164,
          165,
          166,
          167,
          168,
          169,
          170,
          171,
          172,
          173,
          174,
          175,
          176,
          177,
          178,
          179,
          180,
          181,
          182,
          183,
          184,
          185,
          186,
          187,
          188,
          189,
          190,
          191,
          192,
          193,
          194,
          195,
          196,
          197,
          198,
          199,
          200,
          201,
          202,
          203,
          204,
          205,
          206,
          207,
          208,
          209,
          210,
          211,
          212,
          213,
          214,
          215,
          216,
          217,
          218,
          219,
          220,
          221,
          222,
          223,
          224,
          225,
          226,
          227,
          228,
          229,
          230,
          231,
          232,
          233,
          234,
          235,
          236,
          237,
          238,
          239,
          240,
          241,
          242,
          243,
          244,
          245,
          246,
          247,
          248,
          249,
          250,
          251,
          252,
          253,
          254,
          255,
          256,
          257,
          258,
          259,
          260,
          261,
          262,
          263,
          264,
          265,
          266,
          267,
          268,
          269,
          270,
          271,
          272,
          273,
          274,
          275,
          276,
          277,
          278,
          279,
          280,
          281,
          282,
          283,
          284,
          285,
          286,
          287,
          288,
          289,
          290,
          291,
          292,
          293,
          294,
          295,
          296,
          297,
          298,
          299,
          300,
          301,
          302,
          303,
          304,
          305,
          306,
          307,
          308,
          309,
          310,
          311,
          312,
          313,
          314,
          315,
          316,
          317,
          318,
          319,
          320,
          321,
          322,
          323,
          324,
          325,
          326,
          327,
          328,
          329,
          330,
          331,
          332,
          333,
          334,
          335,
          336,
          337,
          338,
          339,
          340,
          341,
          342,
          343,
          344,
          345,
          346,
          347,
          348,
          349,
          350,
          351,
          352,
          353,
          354,
          355,
          356,
          357,
          358,
          359,
          360,
          361,
          362,
          363,
          364,
          365,
          366,
          367,
          368,
          369,
          370,
          371,
          372,
          373,
          374,
          375,
          376,
          377,
          378,
          379,
          380,
          381,
          382,
          383,
          384,
          385,
          386,
          387,
          388,
          389,
          390,
          391,
          392,
          393,
          394,
          395,
          396,
          397,
          398,
          399
         ],
         "xaxis": "x2",
         "y": [
          0.5,
          0.5745382627630504,
          0.5760391904500595,
          0.5511912755264547,
          0.5511909998630266,
          0.5511909998630266,
          0.6326332276091144,
          0.6481013760953508,
          0.6461189581816249,
          0.6731330903202015,
          0.6746526693379268,
          0.6751437793657217,
          0.7125582692097098,
          0.7156657690402336,
          0.7170386240668644,
          0.7245560737465944,
          0.7237275317894071,
          0.7273922781353732,
          0.727229270108776,
          0.7275870698710564,
          0.7272942158440892,
          0.7284933716501331,
          0.7272178002366488,
          0.7265824670818507,
          0.7290335725032813,
          0.7287886981222813,
          0.7282185295284043,
          0.732353262126268,
          0.7320755184338152,
          0.7312757165204393,
          0.7326244296829173,
          0.7338814407061977,
          0.7345787100337264,
          0.7341545805352098,
          0.7349574374814243,
          0.7362119476406135,
          0.7359392369371442,
          0.7360792597492307,
          0.7373537654535852,
          0.7378965353762089,
          0.7396908428400224,
          0.7402138843552359,
          0.7407581633219873,
          0.7401775763556577,
          0.7424889545216672,
          0.7436776891133675,
          0.7446892346423173,
          0.7442917706071727,
          0.7458112103722383,
          0.7464536624640233,
          0.7465096107723902,
          0.7461181402853915,
          0.7456644835392529,
          0.745243230034441,
          0.7456600899757473,
          0.7465966948386923,
          0.7461146220243178,
          0.7466416791315322,
          0.7478892721279965,
          0.7489582579580948,
          0.7484648062121054,
          0.7485563349959513,
          0.7482622930585409,
          0.747793585657599,
          0.747336029836991,
          0.7465703107225304,
          0.7462861869847541,
          0.7471824114182998,
          0.7473337335890528,
          0.7474278513356112,
          0.7475924735563035,
          0.7475336748312509,
          0.7479016656147028,
          0.7477295265922819,
          0.7483469728850461,
          0.7485526632727629,
          0.7482069074445944,
          0.7480535590055494,
          0.7480560342926215,
          0.7477944638019219,
          0.7482141457410038,
          0.7479260518814828,
          0.7479929499959216,
          0.7479918018719525,
          0.7478907811721242,
          0.7476924910686044,
          0.747755316753222,
          0.7476986892329031,
          0.7476554839638371,
          0.7475737170756198,
          0.7475732964757499,
          0.7473620757681224,
          0.747632853985703,
          0.7474425439121468,
          0.7477723510479521,
          0.7476818538705439,
          0.747643840736358,
          0.7478093837297386,
          0.7474784199442911,
          0.747223201080005,
          0.7473107256394139,
          0.7476723306937604,
          0.7478609896286381,
          0.7477114976356973,
          0.7481831947059845,
          0.7478357053242981,
          0.7480196438782039,
          0.7480082876817171,
          0.747909776371653,
          0.7478036772125851,
          0.7479143546580745,
          0.7476690966217879,
          0.7480305993680578,
          0.7480774621508571,
          0.7479459621699177,
          0.7475778236081332,
          0.7471908660440625,
          0.7472389906264715,
          0.7472127372372962,
          0.7473517653875283,
          0.7473569489967354,
          0.7474251259621301,
          0.7474354647616342,
          0.7477062003508497,
          0.7474902876811601,
          0.7476195255168534,
          0.7477832980121331,
          0.7477155189114802,
          0.7474383038107559,
          0.7475205651880094,
          0.7475782527336761,
          0.7473921429750366,
          0.7475710059115936,
          0.7475955655337254,
          0.7477716149981799,
          0.7481170099061898,
          0.7481769056011733,
          0.7481753311935523,
          0.7481108543702563,
          0.7481452242001638,
          0.748155557315886,
          0.7482301114847131,
          0.7482300091766366,
          0.7482605822401511,
          0.7482195652271649,
          0.7479992334169506,
          0.7479764357672468,
          0.7479777885073688,
          0.7480805200255868,
          0.7482890238854062,
          0.748235692958662,
          0.7481376136160318,
          0.7482072910998812,
          0.7482057792138623,
          0.7480437857423567,
          0.7480446269420965,
          0.7481539402798998,
          0.7481747969180419,
          0.7483001044184647,
          0.7485103816182761,
          0.7486524875364748,
          0.7485260915917943,
          0.7485294791258814,
          0.7485888291777905,
          0.7488518405072334,
          0.7488570866380428,
          0.7489058250689106,
          0.7488621224689174,
          0.7488260929746584,
          0.7489655019382861,
          0.7491075652281198,
          0.7490142204759168,
          0.7488594709846025,
          0.7487903618789558,
          0.7488513801208894,
          0.7487288860925692,
          0.7487003989770579,
          0.7487809324845757,
          0.7486054343469777,
          0.7487318018727482,
          0.7487678597859173,
          0.748566551594142,
          0.7485584635723199,
          0.7487869629773046,
          0.7480617237584288,
          0.7481745979856711,
          0.7482067511405887,
          0.7482081834536591,
          0.7481171633683045,
          0.748166973192084,
          0.7481431382521605,
          0.748154659278326,
          0.7480350781882938,
          0.7481626052055975,
          0.7480974917987147,
          0.7480880339854243,
          0.7480877497963231,
          0.7481898248377171,
          0.7482051795748587,
          0.7483880779966537,
          0.748538584544686,
          0.7485750914766351,
          0.7484653831159811,
          0.7484879193117118,
          0.7484074937960524,
          0.7484568062889048,
          0.7484058682343931,
          0.7486197887384828,
          0.7489059529540062,
          0.748947120587216,
          0.7490621376002818,
          0.7489669285675745,
          0.7487349279528621,
          0.7478981445117381,
          0.7479757167688206,
          0.748035578361112,
          0.7480340380561832,
          0.7480789285666197,
          0.7480498617053418,
          0.7481801510407099,
          0.748230992470927,
          0.7482404218653071,
          0.7482960234629705,
          0.7482486434560068,
          0.7483460350610119,
          0.7483201226987581,
          0.7484500653234226,
          0.7483571468548715,
          0.7483567262550017,
          0.7483574026250627,
          0.7484394537023812,
          0.7484851342585193,
          0.7484651699741551,
          0.7484785268619147,
          0.7486488868605619,
          0.7486438112432131,
          0.7485688819447724,
          0.7484820508067705,
          0.7484456007126417,
          0.7484546208747159,
          0.7483689776471574,
          0.7483567575158028,
          0.7483370234246106,
          0.7483351818792344,
          0.7482985669554268,
          0.7483298533335856,
          0.7483858044838435,
          0.7483859636297403,
          0.748386128459419,
          0.7483719985773039,
          0.7484191341816404,
          0.7475392165187257,
          0.7475384179473511,
          0.7474324381477057,
          0.7477175139189711,
          0.7477298477259663,
          0.7473798404288428,
          0.7473845750192699,
          0.7473846773273464,
          0.7473160058729156,
          0.7473390933955026,
          0.7473674668353735,
          0.7465197875841066,
          0.7467264498985499,
          0.7467599387422434,
          0.7467640935869041,
          0.7468967871620689,
          0.7468022203967304,
          0.7468523911406685,
          0.746822522866125,
          0.7467956101582348,
          0.7467929785671571,
          0.7467462180924342,
          0.7467442060335973,
          0.7467839584050828,
          0.7467827932297676,
          0.7467137523295052,
          0.7467235852724091,
          0.7467430976961023,
          0.7470114176779569,
          0.7470622250054819,
          0.747045923918633,
          0.7471415364998641,
          0.7471912582250223,
          0.7472573435586315,
          0.7471337610860534,
          0.7471732463197838,
          0.7471535349637197,
          0.7471527562855823,
          0.7471589175052978,
          0.7471593324213857,
          0.7471549928538093,
          0.7471760001121751,
          0.7472024467499393,
          0.7472012304205858,
          0.7472311470072764,
          0.7474713265843234,
          0.7474713265843234,
          0.7476523266229219,
          0.7476990984652089,
          0.7477035659178809,
          0.7475856103895079,
          0.74759726214266,
          0.7475977793668243,
          0.7475980408207975,
          0.7476164278556496,
          0.7473869792590666,
          0.7473066503677017,
          0.7473067214149771,
          0.7473118083998898,
          0.7473409889368081,
          0.7473421484283413,
          0.7473996341997461,
          0.7473666796315629,
          0.7473269727303335,
          0.7473999354401935,
          0.7473693851118071,
          0.7473415516312287,
          0.7473598590931324,
          0.7471113129889442,
          0.7472965531289336,
          0.7472390559899648,
          0.7472266369262394,
          0.7473314060803133,
          0.7466103217060981,
          0.7465750424710665,
          0.7465699753793908,
          0.7465713622222051,
          0.7464589029110507,
          0.7464599316755973,
          0.7462421120970383,
          0.7463155124581141,
          0.7463339733821326,
          0.74632846579735,
          0.7463503199392376,
          0.7463167231036856,
          0.7463689002226787,
          0.7464204805445591,
          0.7464205089634692,
          0.7464205032796871,
          0.7464662577249915,
          0.7464661383655691,
          0.746457626901986,
          0.7464570244210913,
          0.7464796060870782,
          0.7464900074081846,
          0.7465037280579939,
          0.7464437300549339,
          0.7464210062943964,
          0.7450809637413982,
          0.7450481967380218,
          0.745102636002261,
          0.7450185614985414,
          0.7448611690485853,
          0.7448954934082367,
          0.7448957889649019,
          0.7447810731922835,
          0.7446854151407962,
          0.7446311407062357,
          0.7446273325722788,
          0.744627389410099,
          0.7446269744940112,
          0.7446300664714329,
          0.7448235139926671,
          0.7447748721860938,
          0.7447687450690704,
          0.7446933497005036,
          0.7447168805580887,
          0.7448543144074626,
          0.7447826305485584,
          0.7448696265162391,
          0.7448696435675851,
          0.7448960788377853,
          0.7448972099104083,
          0.744898034058802,
          0.7448492899441522,
          0.7449095607687495,
          0.7441216464854797,
          0.7441498550956718,
          0.7441462458940856,
          0.7441198276752315,
          0.7441550784913531,
          0.744155061440007,
          0.7441208393884321,
          0.7441798825161119,
          0.7441802462781615,
          0.7441694470923133,
          0.7441589320955663,
          0.7438455567735963,
          0.7439808989911849,
          0.7439424254706551,
          0.7439413796547624,
          0.7438083336851121,
          0.7438026271679585,
          0.7438017632330908,
          0.743851968079721,
          0.7438277182237096,
          0.7438288322449866,
          0.7440161412816334,
          0.7440965156432544
         ],
         "yaxis": "y2"
        }
       ],
       "layout": {
        "annotations": [
         {
          "font": {
           "size": 16
          },
          "showarrow": false,
          "text": "Logloss",
          "x": 0.5,
          "xanchor": "center",
          "xref": "paper",
          "y": 1,
          "yanchor": "bottom",
          "yref": "paper"
         },
         {
          "font": {
           "size": 16
          },
          "showarrow": false,
          "text": "AUC",
          "x": 0.5,
          "xanchor": "center",
          "xref": "paper",
          "y": 0.375,
          "yanchor": "bottom",
          "yref": "paper"
         }
        ],
        "height": 1260,
        "template": {
         "data": {
          "bar": [
           {
            "error_x": {
             "color": "#2a3f5f"
            },
            "error_y": {
             "color": "#2a3f5f"
            },
            "marker": {
             "line": {
              "color": "#E5ECF6",
              "width": 0.5
             }
            },
            "type": "bar"
           }
          ],
          "barpolar": [
           {
            "marker": {
             "line": {
              "color": "#E5ECF6",
              "width": 0.5
             }
            },
            "type": "barpolar"
           }
          ],
          "carpet": [
           {
            "aaxis": {
             "endlinecolor": "#2a3f5f",
             "gridcolor": "white",
             "linecolor": "white",
             "minorgridcolor": "white",
             "startlinecolor": "#2a3f5f"
            },
            "baxis": {
             "endlinecolor": "#2a3f5f",
             "gridcolor": "white",
             "linecolor": "white",
             "minorgridcolor": "white",
             "startlinecolor": "#2a3f5f"
            },
            "type": "carpet"
           }
          ],
          "choropleth": [
           {
            "colorbar": {
             "outlinewidth": 0,
             "ticks": ""
            },
            "type": "choropleth"
           }
          ],
          "contour": [
           {
            "colorbar": {
             "outlinewidth": 0,
             "ticks": ""
            },
            "colorscale": [
             [
              0,
              "#0d0887"
             ],
             [
              0.1111111111111111,
              "#46039f"
             ],
             [
              0.2222222222222222,
              "#7201a8"
             ],
             [
              0.3333333333333333,
              "#9c179e"
             ],
             [
              0.4444444444444444,
              "#bd3786"
             ],
             [
              0.5555555555555556,
              "#d8576b"
             ],
             [
              0.6666666666666666,
              "#ed7953"
             ],
             [
              0.7777777777777778,
              "#fb9f3a"
             ],
             [
              0.8888888888888888,
              "#fdca26"
             ],
             [
              1,
              "#f0f921"
             ]
            ],
            "type": "contour"
           }
          ],
          "contourcarpet": [
           {
            "colorbar": {
             "outlinewidth": 0,
             "ticks": ""
            },
            "type": "contourcarpet"
           }
          ],
          "heatmap": [
           {
            "colorbar": {
             "outlinewidth": 0,
             "ticks": ""
            },
            "colorscale": [
             [
              0,
              "#0d0887"
             ],
             [
              0.1111111111111111,
              "#46039f"
             ],
             [
              0.2222222222222222,
              "#7201a8"
             ],
             [
              0.3333333333333333,
              "#9c179e"
             ],
             [
              0.4444444444444444,
              "#bd3786"
             ],
             [
              0.5555555555555556,
              "#d8576b"
             ],
             [
              0.6666666666666666,
              "#ed7953"
             ],
             [
              0.7777777777777778,
              "#fb9f3a"
             ],
             [
              0.8888888888888888,
              "#fdca26"
             ],
             [
              1,
              "#f0f921"
             ]
            ],
            "type": "heatmap"
           }
          ],
          "heatmapgl": [
           {
            "colorbar": {
             "outlinewidth": 0,
             "ticks": ""
            },
            "colorscale": [
             [
              0,
              "#0d0887"
             ],
             [
              0.1111111111111111,
              "#46039f"
             ],
             [
              0.2222222222222222,
              "#7201a8"
             ],
             [
              0.3333333333333333,
              "#9c179e"
             ],
             [
              0.4444444444444444,
              "#bd3786"
             ],
             [
              0.5555555555555556,
              "#d8576b"
             ],
             [
              0.6666666666666666,
              "#ed7953"
             ],
             [
              0.7777777777777778,
              "#fb9f3a"
             ],
             [
              0.8888888888888888,
              "#fdca26"
             ],
             [
              1,
              "#f0f921"
             ]
            ],
            "type": "heatmapgl"
           }
          ],
          "histogram": [
           {
            "marker": {
             "colorbar": {
              "outlinewidth": 0,
              "ticks": ""
             }
            },
            "type": "histogram"
           }
          ],
          "histogram2d": [
           {
            "colorbar": {
             "outlinewidth": 0,
             "ticks": ""
            },
            "colorscale": [
             [
              0,
              "#0d0887"
             ],
             [
              0.1111111111111111,
              "#46039f"
             ],
             [
              0.2222222222222222,
              "#7201a8"
             ],
             [
              0.3333333333333333,
              "#9c179e"
             ],
             [
              0.4444444444444444,
              "#bd3786"
             ],
             [
              0.5555555555555556,
              "#d8576b"
             ],
             [
              0.6666666666666666,
              "#ed7953"
             ],
             [
              0.7777777777777778,
              "#fb9f3a"
             ],
             [
              0.8888888888888888,
              "#fdca26"
             ],
             [
              1,
              "#f0f921"
             ]
            ],
            "type": "histogram2d"
           }
          ],
          "histogram2dcontour": [
           {
            "colorbar": {
             "outlinewidth": 0,
             "ticks": ""
            },
            "colorscale": [
             [
              0,
              "#0d0887"
             ],
             [
              0.1111111111111111,
              "#46039f"
             ],
             [
              0.2222222222222222,
              "#7201a8"
             ],
             [
              0.3333333333333333,
              "#9c179e"
             ],
             [
              0.4444444444444444,
              "#bd3786"
             ],
             [
              0.5555555555555556,
              "#d8576b"
             ],
             [
              0.6666666666666666,
              "#ed7953"
             ],
             [
              0.7777777777777778,
              "#fb9f3a"
             ],
             [
              0.8888888888888888,
              "#fdca26"
             ],
             [
              1,
              "#f0f921"
             ]
            ],
            "type": "histogram2dcontour"
           }
          ],
          "mesh3d": [
           {
            "colorbar": {
             "outlinewidth": 0,
             "ticks": ""
            },
            "type": "mesh3d"
           }
          ],
          "parcoords": [
           {
            "line": {
             "colorbar": {
              "outlinewidth": 0,
              "ticks": ""
             }
            },
            "type": "parcoords"
           }
          ],
          "pie": [
           {
            "automargin": true,
            "type": "pie"
           }
          ],
          "scatter": [
           {
            "marker": {
             "colorbar": {
              "outlinewidth": 0,
              "ticks": ""
             }
            },
            "type": "scatter"
           }
          ],
          "scatter3d": [
           {
            "line": {
             "colorbar": {
              "outlinewidth": 0,
              "ticks": ""
             }
            },
            "marker": {
             "colorbar": {
              "outlinewidth": 0,
              "ticks": ""
             }
            },
            "type": "scatter3d"
           }
          ],
          "scattercarpet": [
           {
            "marker": {
             "colorbar": {
              "outlinewidth": 0,
              "ticks": ""
             }
            },
            "type": "scattercarpet"
           }
          ],
          "scattergeo": [
           {
            "marker": {
             "colorbar": {
              "outlinewidth": 0,
              "ticks": ""
             }
            },
            "type": "scattergeo"
           }
          ],
          "scattergl": [
           {
            "marker": {
             "colorbar": {
              "outlinewidth": 0,
              "ticks": ""
             }
            },
            "type": "scattergl"
           }
          ],
          "scattermapbox": [
           {
            "marker": {
             "colorbar": {
              "outlinewidth": 0,
              "ticks": ""
             }
            },
            "type": "scattermapbox"
           }
          ],
          "scatterpolar": [
           {
            "marker": {
             "colorbar": {
              "outlinewidth": 0,
              "ticks": ""
             }
            },
            "type": "scatterpolar"
           }
          ],
          "scatterpolargl": [
           {
            "marker": {
             "colorbar": {
              "outlinewidth": 0,
              "ticks": ""
             }
            },
            "type": "scatterpolargl"
           }
          ],
          "scatterternary": [
           {
            "marker": {
             "colorbar": {
              "outlinewidth": 0,
              "ticks": ""
             }
            },
            "type": "scatterternary"
           }
          ],
          "surface": [
           {
            "colorbar": {
             "outlinewidth": 0,
             "ticks": ""
            },
            "colorscale": [
             [
              0,
              "#0d0887"
             ],
             [
              0.1111111111111111,
              "#46039f"
             ],
             [
              0.2222222222222222,
              "#7201a8"
             ],
             [
              0.3333333333333333,
              "#9c179e"
             ],
             [
              0.4444444444444444,
              "#bd3786"
             ],
             [
              0.5555555555555556,
              "#d8576b"
             ],
             [
              0.6666666666666666,
              "#ed7953"
             ],
             [
              0.7777777777777778,
              "#fb9f3a"
             ],
             [
              0.8888888888888888,
              "#fdca26"
             ],
             [
              1,
              "#f0f921"
             ]
            ],
            "type": "surface"
           }
          ],
          "table": [
           {
            "cells": {
             "fill": {
              "color": "#EBF0F8"
             },
             "line": {
              "color": "white"
             }
            },
            "header": {
             "fill": {
              "color": "#C8D4E3"
             },
             "line": {
              "color": "white"
             }
            },
            "type": "table"
           }
          ]
         },
         "layout": {
          "annotationdefaults": {
           "arrowcolor": "#2a3f5f",
           "arrowhead": 0,
           "arrowwidth": 1
          },
          "coloraxis": {
           "colorbar": {
            "outlinewidth": 0,
            "ticks": ""
           }
          },
          "colorscale": {
           "diverging": [
            [
             0,
             "#8e0152"
            ],
            [
             0.1,
             "#c51b7d"
            ],
            [
             0.2,
             "#de77ae"
            ],
            [
             0.3,
             "#f1b6da"
            ],
            [
             0.4,
             "#fde0ef"
            ],
            [
             0.5,
             "#f7f7f7"
            ],
            [
             0.6,
             "#e6f5d0"
            ],
            [
             0.7,
             "#b8e186"
            ],
            [
             0.8,
             "#7fbc41"
            ],
            [
             0.9,
             "#4d9221"
            ],
            [
             1,
             "#276419"
            ]
           ],
           "sequential": [
            [
             0,
             "#0d0887"
            ],
            [
             0.1111111111111111,
             "#46039f"
            ],
            [
             0.2222222222222222,
             "#7201a8"
            ],
            [
             0.3333333333333333,
             "#9c179e"
            ],
            [
             0.4444444444444444,
             "#bd3786"
            ],
            [
             0.5555555555555556,
             "#d8576b"
            ],
            [
             0.6666666666666666,
             "#ed7953"
            ],
            [
             0.7777777777777778,
             "#fb9f3a"
            ],
            [
             0.8888888888888888,
             "#fdca26"
            ],
            [
             1,
             "#f0f921"
            ]
           ],
           "sequentialminus": [
            [
             0,
             "#0d0887"
            ],
            [
             0.1111111111111111,
             "#46039f"
            ],
            [
             0.2222222222222222,
             "#7201a8"
            ],
            [
             0.3333333333333333,
             "#9c179e"
            ],
            [
             0.4444444444444444,
             "#bd3786"
            ],
            [
             0.5555555555555556,
             "#d8576b"
            ],
            [
             0.6666666666666666,
             "#ed7953"
            ],
            [
             0.7777777777777778,
             "#fb9f3a"
            ],
            [
             0.8888888888888888,
             "#fdca26"
            ],
            [
             1,
             "#f0f921"
            ]
           ]
          },
          "colorway": [
           "#636efa",
           "#EF553B",
           "#00cc96",
           "#ab63fa",
           "#FFA15A",
           "#19d3f3",
           "#FF6692",
           "#B6E880",
           "#FF97FF",
           "#FECB52"
          ],
          "font": {
           "color": "#2a3f5f"
          },
          "geo": {
           "bgcolor": "white",
           "lakecolor": "white",
           "landcolor": "#E5ECF6",
           "showlakes": true,
           "showland": true,
           "subunitcolor": "white"
          },
          "hoverlabel": {
           "align": "left"
          },
          "hovermode": "closest",
          "mapbox": {
           "style": "light"
          },
          "paper_bgcolor": "white",
          "plot_bgcolor": "#E5ECF6",
          "polar": {
           "angularaxis": {
            "gridcolor": "white",
            "linecolor": "white",
            "ticks": ""
           },
           "bgcolor": "#E5ECF6",
           "radialaxis": {
            "gridcolor": "white",
            "linecolor": "white",
            "ticks": ""
           }
          },
          "scene": {
           "xaxis": {
            "backgroundcolor": "#E5ECF6",
            "gridcolor": "white",
            "gridwidth": 2,
            "linecolor": "white",
            "showbackground": true,
            "ticks": "",
            "zerolinecolor": "white"
           },
           "yaxis": {
            "backgroundcolor": "#E5ECF6",
            "gridcolor": "white",
            "gridwidth": 2,
            "linecolor": "white",
            "showbackground": true,
            "ticks": "",
            "zerolinecolor": "white"
           },
           "zaxis": {
            "backgroundcolor": "#E5ECF6",
            "gridcolor": "white",
            "gridwidth": 2,
            "linecolor": "white",
            "showbackground": true,
            "ticks": "",
            "zerolinecolor": "white"
           }
          },
          "shapedefaults": {
           "line": {
            "color": "#2a3f5f"
           }
          },
          "ternary": {
           "aaxis": {
            "gridcolor": "white",
            "linecolor": "white",
            "ticks": ""
           },
           "baxis": {
            "gridcolor": "white",
            "linecolor": "white",
            "ticks": ""
           },
           "bgcolor": "#E5ECF6",
           "caxis": {
            "gridcolor": "white",
            "linecolor": "white",
            "ticks": ""
           }
          },
          "title": {
           "x": 0.05
          },
          "xaxis": {
           "automargin": true,
           "gridcolor": "white",
           "linecolor": "white",
           "ticks": "",
           "title": {
            "standoff": 15
           },
           "zerolinecolor": "white",
           "zerolinewidth": 2
          },
          "yaxis": {
           "automargin": true,
           "gridcolor": "white",
           "linecolor": "white",
           "ticks": "",
           "title": {
            "standoff": 15
           },
           "zerolinecolor": "white",
           "zerolinewidth": 2
          }
         }
        },
        "title": {
         "text": "Learning results"
        },
        "width": 891,
        "xaxis": {
         "anchor": "y",
         "domain": [
          0,
          1
         ]
        },
        "xaxis2": {
         "anchor": "y2",
         "domain": [
          0,
          1
         ]
        },
        "yaxis": {
         "anchor": "x",
         "domain": [
          0.625,
          1
         ]
        },
        "yaxis2": {
         "anchor": "x2",
         "domain": [
          0,
          0.375
         ]
        }
       }
      },
      "text/html": [
       "<div>\n",
       "        \n",
       "        \n",
       "            <div id=\"74794081-3dcf-402c-84fb-7bb14f816646\" class=\"plotly-graph-div\" style=\"height:1260.0px; width:891.0px;\"></div>\n",
       "            <script type=\"text/javascript\">\n",
       "                require([\"plotly\"], function(Plotly) {\n",
       "                    window.PLOTLYENV=window.PLOTLYENV || {};\n",
       "                    \n",
       "                if (document.getElementById(\"74794081-3dcf-402c-84fb-7bb14f816646\")) {\n",
       "                    Plotly.newPlot(\n",
       "                        '74794081-3dcf-402c-84fb-7bb14f816646',\n",
       "                        [{\"mode\": \"lines\", \"name\": \"validation Logloss\", \"type\": \"scatter\", \"x\": [0, 1, 2, 3, 4, 5, 6, 7, 8, 9, 10, 11, 12, 13, 14, 15, 16, 17, 18, 19, 20, 21, 22, 23, 24, 25, 26, 27, 28, 29, 30, 31, 32, 33, 34, 35, 36, 37, 38, 39, 40, 41, 42, 43, 44, 45, 46, 47, 48, 49, 50, 51, 52, 53, 54, 55, 56, 57, 58, 59, 60, 61, 62, 63, 64, 65, 66, 67, 68, 69, 70, 71, 72, 73, 74, 75, 76, 77, 78, 79, 80, 81, 82, 83, 84, 85, 86, 87, 88, 89, 90, 91, 92, 93, 94, 95, 96, 97, 98, 99, 100, 101, 102, 103, 104, 105, 106, 107, 108, 109, 110, 111, 112, 113, 114, 115, 116, 117, 118, 119, 120, 121, 122, 123, 124, 125, 126, 127, 128, 129, 130, 131, 132, 133, 134, 135, 136, 137, 138, 139, 140, 141, 142, 143, 144, 145, 146, 147, 148, 149, 150, 151, 152, 153, 154, 155, 156, 157, 158, 159, 160, 161, 162, 163, 164, 165, 166, 167, 168, 169, 170, 171, 172, 173, 174, 175, 176, 177, 178, 179, 180, 181, 182, 183, 184, 185, 186, 187, 188, 189, 190, 191, 192, 193, 194, 195, 196, 197, 198, 199, 200, 201, 202, 203, 204, 205, 206, 207, 208, 209, 210, 211, 212, 213, 214, 215, 216, 217, 218, 219, 220, 221, 222, 223, 224, 225, 226, 227, 228, 229, 230, 231, 232, 233, 234, 235, 236, 237, 238, 239, 240, 241, 242, 243, 244, 245, 246, 247, 248, 249, 250, 251, 252, 253, 254, 255, 256, 257, 258, 259, 260, 261, 262, 263, 264, 265, 266, 267, 268, 269, 270, 271, 272, 273, 274, 275, 276, 277, 278, 279, 280, 281, 282, 283, 284, 285, 286, 287, 288, 289, 290, 291, 292, 293, 294, 295, 296, 297, 298, 299, 300, 301, 302, 303, 304, 305, 306, 307, 308, 309, 310, 311, 312, 313, 314, 315, 316, 317, 318, 319, 320, 321, 322, 323, 324, 325, 326, 327, 328, 329, 330, 331, 332, 333, 334, 335, 336, 337, 338, 339, 340, 341, 342, 343, 344, 345, 346, 347, 348, 349, 350, 351, 352, 353, 354, 355, 356, 357, 358, 359, 360, 361, 362, 363, 364, 365, 366, 367, 368, 369, 370, 371, 372, 373, 374, 375, 376, 377, 378, 379, 380, 381, 382, 383, 384, 385, 386, 387, 388, 389, 390, 391, 392, 393, 394, 395, 396, 397, 398, 399], \"xaxis\": \"x\", \"y\": [0.5848791077360307, 0.4952426931757541, 0.42619813662196515, 0.3721641766267772, 0.3299908182653733, 0.2968692113616315, 0.2698388619318256, 0.2485469608881457, 0.23306082586402868, 0.21886255105484315, 0.20737255538000182, 0.19842163348940328, 0.19043170554745503, 0.1837644492622361, 0.17850898378756264, 0.1738109112881048, 0.1703016513576252, 0.1673593607447489, 0.16590667804520465, 0.16505485420546814, 0.164246886118576, 0.16311041250645983, 0.16258099480524027, 0.16193433875820568, 0.16132504337182127, 0.16082129092648992, 0.16050886657500799, 0.15972748146895616, 0.15937002283296428, 0.1591996769647118, 0.1588650121823581, 0.1586157982492151, 0.15828826143336633, 0.15819088964555042, 0.15792647264208517, 0.15758660661408527, 0.15747655780837522, 0.15731455310769568, 0.15698533590877717, 0.1567992758371713, 0.15648268687526742, 0.1563414232511435, 0.15617427980220375, 0.15614643681646195, 0.15586254660452803, 0.15568114499372177, 0.15550316716737658, 0.1555664120295703, 0.1553537291153988, 0.15521588767888655, 0.15517056138287888, 0.155219464790031, 0.15528470851590198, 0.15536288096110767, 0.15535801730869508, 0.15522676954106857, 0.1553322545862397, 0.1552391896264603, 0.15506367729490347, 0.15489956877785604, 0.15501395880301305, 0.15496426130822644, 0.15504827018670012, 0.1551525891231674, 0.15527016946285338, 0.1553566878673842, 0.15545196747433493, 0.1553301262024927, 0.15528208597234655, 0.15529096654519214, 0.15526525345408235, 0.1552702791282307, 0.1552563220446154, 0.1553298997145318, 0.1552666163019253, 0.15537324175141687, 0.1555123729498416, 0.15565141405889035, 0.15569989371105564, 0.15588606598826177, 0.15588246636216985, 0.1560710705222305, 0.15606866355943527, 0.1560800427791916, 0.15608984831516243, 0.15618971217681485, 0.15627293070510137, 0.15638752417645446, 0.15642297159239846, 0.1564737251633176, 0.1565949630388911, 0.15663068907141717, 0.15659040969019175, 0.1566205144700958, 0.1566199117676844, 0.15672253442458778, 0.15680872094741363, 0.15683326718978474, 0.15687787754214028, 0.1570015626916315, 0.15702479577420234, 0.1569870857735965, 0.15700802235649622, 0.1570934674446751, 0.1570328002187823, 0.1571864157186789, 0.15725930512279318, 0.15730303456113853, 0.15734332597984296, 0.15746103537767625, 0.15743127572640225, 0.15752914814354732, 0.1574475232717043, 0.15743381528733477, 0.15747749528598035, 0.1575582831873005, 0.15766742915647253, 0.15775079211301735, 0.15775025987500713, 0.1577315222553408, 0.1577319089319113, 0.157731854191734, 0.157746061421803, 0.1577027814664643, 0.15773635231218675, 0.15773007672883707, 0.15774297677052077, 0.15774527963487567, 0.1578527635846678, 0.15792638607716092, 0.15791052405094524, 0.15797930514652525, 0.15795793799870173, 0.1579677564458764, 0.15797491711458597, 0.15795330968457194, 0.15794706901151803, 0.15794721851699603, 0.15794704068191845, 0.15794145292502543, 0.1579819131727688, 0.1579744890253862, 0.157974594656089, 0.15797899849175323, 0.1579888159937374, 0.15803079287389657, 0.15804783791459254, 0.15804819266892145, 0.15803706224710987, 0.15800406173410864, 0.15809735092309482, 0.15812791773720536, 0.1581212658125605, 0.15812234842811554, 0.15820301750829677, 0.1582640730043391, 0.1582859329290341, 0.15832968103622133, 0.15828549932470184, 0.158250650432072, 0.15823837011694936, 0.15828594123491255, 0.15828533542641166, 0.15827989841009749, 0.15823152117312875, 0.15823079347707286, 0.15822172593556227, 0.158267238738914, 0.15830922662883026, 0.15828612574546333, 0.15828554320712732, 0.15830649145238845, 0.15839847997599246, 0.1584907021412401, 0.15847883448064964, 0.15854232951426772, 0.1585683204461283, 0.15857467748114817, 0.15865716901138024, 0.15863027068665767, 0.1586179065530515, 0.1586995060134052, 0.15870732395809659, 0.15867413394100527, 0.15887403949691964, 0.15895163169962442, 0.15891378579530527, 0.15893113582554994, 0.158938328307078, 0.15893276911482757, 0.1589356696234202, 0.15897511504074774, 0.15913980937801397, 0.15920831716151101, 0.15920559648530835, 0.15921616802569433, 0.1592161384476479, 0.15922225520207706, 0.15921104856397325, 0.15917626974484297, 0.15920091585569962, 0.15920032757364053, 0.15929202042698498, 0.15926799157745203, 0.1593530553274392, 0.15936626805381385, 0.15938531228028216, 0.15932484139587194, 0.15924131939611702, 0.1592414226731006, 0.15925217853331292, 0.15928200892534533, 0.1594297977129826, 0.15959312022857006, 0.1595503007761038, 0.15957361055138145, 0.15957462648610607, 0.15961878677789898, 0.1596300562610624, 0.15957700791708848, 0.1595729725595981, 0.1595693979050212, 0.1595234698009233, 0.15954119801990524, 0.1595146941306564, 0.15949844917105005, 0.15948138575501578, 0.1594948984773683, 0.15949676199885976, 0.15949669335181893, 0.15949324481131996, 0.15947282118048706, 0.15955161950016297, 0.15963151736345818, 0.1595764343425875, 0.15959380152700092, 0.15964069038883294, 0.1596619410317915, 0.15968264338830027, 0.15967852692661458, 0.15972793666563595, 0.15975792262046085, 0.15977308328190018, 0.1597626499692669, 0.1597890843770122, 0.1597791972660491, 0.15977073980078096, 0.1597707801651651, 0.15977110180980666, 0.15976906152599268, 0.15977629988267886, 0.15995576442361242, 0.1599593347349803, 0.16001068491750897, 0.1599320659037064, 0.16003627664454348, 0.16020681271334794, 0.160207840641635, 0.1602079216085588, 0.16027432647384357, 0.16027703848649716, 0.16027084725706536, 0.16042051805527527, 0.1603930109884683, 0.16040859295918788, 0.16043955044189506, 0.1603724487596027, 0.16040465316581748, 0.16039221849406868, 0.16041154567316557, 0.16042053965117567, 0.16051687026346545, 0.16053025914414548, 0.16053348296711964, 0.16053140183990675, 0.16057579920938825, 0.1606110594766308, 0.16061262810283805, 0.16063488670399745, 0.16058399443690036, 0.16056410846168093, 0.16056705599931123, 0.16055224744723254, 0.16052482462888776, 0.16049906161700783, 0.160551022734532, 0.1606051287493269, 0.16063128445217825, 0.16063276642179025, 0.16062984197821814, 0.16063037009353318, 0.1606614380747141, 0.1606578048430034, 0.16064391396347083, 0.1606466717239547, 0.16063399503024636, 0.16061170275182146, 0.16061171691712475, 0.16060478259381405, 0.16061014343805882, 0.16064786667301906, 0.16067955409457033, 0.1606782683984697, 0.16067934069649104, 0.16068156007882278, 0.16066977949589503, 0.16078670496574818, 0.16078623370568404, 0.16078625473896443, 0.16080003236551754, 0.1608174949319129, 0.16081878328616867, 0.1607938222259577, 0.16082920711550483, 0.16084443023137476, 0.1608085909414496, 0.16080195071985232, 0.1608612731914733, 0.16085250590531266, 0.16093558381415518, 0.16089944977470397, 0.16094264837450425, 0.16094740354813883, 0.160885559200776, 0.16116382839499926, 0.16120665956643473, 0.16120656123738628, 0.16120598996436983, 0.16123528514332472, 0.16123603014630314, 0.16127552997337424, 0.1612407296428123, 0.16124776361939439, 0.16123373681385064, 0.1612225365938643, 0.16124104566534525, 0.1612281893891351, 0.1611879989104333, 0.16115652840736244, 0.16115653352129072, 0.16113406316360418, 0.16113442432705202, 0.16114639020772056, 0.161153433649279, 0.16114335640229038, 0.16114244520789772, 0.16114363491080907, 0.1611686684548992, 0.16117460424434946, 0.1614465142273817, 0.16144771929558568, 0.16147290904508738, 0.16153698404004121, 0.16164843750254276, 0.16164431335575072, 0.16164816260867965, 0.16170057574880406, 0.16171320459470764, 0.16176643345186037, 0.16177227392732837, 0.1617722973478043, 0.16177571783183137, 0.16181528141318458, 0.1618049903523453, 0.1618241017399367, 0.16183104268685775, 0.16187288184724133, 0.16186979042390717, 0.16186112345830528, 0.1618900606137231, 0.16185043781447334, 0.1618504495403854, 0.16186945028020805, 0.161869279333608, 0.16194694696458958, 0.16200087304815836, 0.1619718674018366, 0.16215920948954618, 0.1621637290842731, 0.16216754656876406, 0.16217593438030203, 0.16216984588430744, 0.16216989667958176, 0.16217011313645213, 0.16216518027547974, 0.1621651790724093, 0.16215900419293316, 0.16215999913735707, 0.1622305326987452, 0.16218767375541038, 0.16221602958146336, 0.16222032695117494, 0.16233764512772042, 0.1623536962583725, 0.1623576481179664, 0.16235890769595357, 0.162357509836961, 0.16235871332107643, 0.16231636717828343, 0.162305810594532], \"yaxis\": \"y\"}, {\"mode\": \"lines\", \"name\": \"learn Logloss\", \"type\": \"scatter\", \"x\": [0, 1, 2, 3, 4, 5, 6, 7, 8, 9, 10, 11, 12, 13, 14, 15, 16, 17, 18, 19, 20, 21, 22, 23, 24, 25, 26, 27, 28, 29, 30, 31, 32, 33, 34, 35, 36, 37, 38, 39, 40, 41, 42, 43, 44, 45, 46, 47, 48, 49, 50, 51, 52, 53, 54, 55, 56, 57, 58, 59, 60, 61, 62, 63, 64, 65, 66, 67, 68, 69, 70, 71, 72, 73, 74, 75, 76, 77, 78, 79, 80, 81, 82, 83, 84, 85, 86, 87, 88, 89, 90, 91, 92, 93, 94, 95, 96, 97, 98, 99, 100, 101, 102, 103, 104, 105, 106, 107, 108, 109, 110, 111, 112, 113, 114, 115, 116, 117, 118, 119, 120, 121, 122, 123, 124, 125, 126, 127, 128, 129, 130, 131, 132, 133, 134, 135, 136, 137, 138, 139, 140, 141, 142, 143, 144, 145, 146, 147, 148, 149, 150, 151, 152, 153, 154, 155, 156, 157, 158, 159, 160, 161, 162, 163, 164, 165, 166, 167, 168, 169, 170, 171, 172, 173, 174, 175, 176, 177, 178, 179, 180, 181, 182, 183, 184, 185, 186, 187, 188, 189, 190, 191, 192, 193, 194, 195, 196, 197, 198, 199, 200, 201, 202, 203, 204, 205, 206, 207, 208, 209, 210, 211, 212, 213, 214, 215, 216, 217, 218, 219, 220, 221, 222, 223, 224, 225, 226, 227, 228, 229, 230, 231, 232, 233, 234, 235, 236, 237, 238, 239, 240, 241, 242, 243, 244, 245, 246, 247, 248, 249, 250, 251, 252, 253, 254, 255, 256, 257, 258, 259, 260, 261, 262, 263, 264, 265, 266, 267, 268, 269, 270, 271, 272, 273, 274, 275, 276, 277, 278, 279, 280, 281, 282, 283, 284, 285, 286, 287, 288, 289, 290, 291, 292, 293, 294, 295, 296, 297, 298, 299, 300, 301, 302, 303, 304, 305, 306, 307, 308, 309, 310, 311, 312, 313, 314, 315, 316, 317, 318, 319, 320, 321, 322, 323, 324, 325, 326, 327, 328, 329, 330, 331, 332, 333, 334, 335, 336, 337, 338, 339, 340, 341, 342, 343, 344, 345, 346, 347, 348, 349, 350, 351, 352, 353, 354, 355, 356, 357, 358, 359, 360, 361, 362, 363, 364, 365, 366, 367, 368, 369, 370, 371, 372, 373, 374, 375, 376, 377, 378, 379, 380, 381, 382, 383, 384, 385, 386, 387, 388, 389, 390, 391, 392, 393, 394, 395, 396, 397, 398, 399], \"xaxis\": \"x\", \"y\": [0.583523031726713, 0.4931278818380076, 0.42302968541968256, 0.3679454929049467, 0.32481262804810324, 0.2911079055983956, 0.2638800462701498, 0.2422050139175619, 0.22565936172280174, 0.21102296813599292, 0.1995766431224492, 0.1903779023496221, 0.1810371830541228, 0.17382806654137384, 0.16756382228740305, 0.16210321361119584, 0.15786366845175348, 0.15455580741976985, 0.15270939555743424, 0.15021147224611062, 0.1469774382841726, 0.1439929392991903, 0.14181093428650807, 0.13986545097718361, 0.13811808017126212, 0.13675481916821303, 0.13567165994427108, 0.13466930618103717, 0.13374731692749053, 0.1330900929345851, 0.13236921683893735, 0.13173026475770191, 0.1313175689491015, 0.13072239747288542, 0.13019189892804517, 0.12980002283209857, 0.1294491990702, 0.12910977569846674, 0.12883272350569222, 0.1286234292539947, 0.12834594348539022, 0.12804276106897447, 0.12785447619945403, 0.12764466652328935, 0.12745562419939388, 0.127120141663177, 0.12691271122373077, 0.12655618180310493, 0.12638351121648753, 0.12617500102458815, 0.12609143051278218, 0.1257942835046539, 0.1255825153603828, 0.12540668344267245, 0.12521848357781207, 0.12510052295860308, 0.12491194108337492, 0.12482245800231122, 0.12472402567021439, 0.12461029710362401, 0.12449662267567707, 0.12440472686759431, 0.12428904264051586, 0.1241815086945069, 0.12406508633364605, 0.1239453407510818, 0.12383742737137032, 0.123768522432815, 0.12371291617749798, 0.12363766117539496, 0.1234882630705806, 0.12344700321711026, 0.12338390463794886, 0.12329603781890043, 0.12321975217483995, 0.12310704028157282, 0.12304246588235637, 0.12293932668911786, 0.12285252600063767, 0.12267424429825631, 0.12252519641266547, 0.12244414325116332, 0.122375415647752, 0.1223557482519726, 0.12228229812718339, 0.12218704973859673, 0.12210360436171148, 0.12202976903381664, 0.1219880312225892, 0.12192522341123373, 0.12180380017967761, 0.12177799569226119, 0.12175258382466062, 0.12170742337883744, 0.12166431161630532, 0.12160486658175255, 0.12145743104675989, 0.12140600898828381, 0.12136141301257264, 0.1213308029312477, 0.1212755238821483, 0.12124556253652805, 0.12120617878058132, 0.12116362751027263, 0.12113338438615488, 0.12098975277312815, 0.12096059011040344, 0.1209282297488805, 0.12089757571007989, 0.1208463828432401, 0.12082009017438917, 0.12071759292149502, 0.12070018921518794, 0.12066388429642627, 0.12064871823592972, 0.12060215007964258, 0.12054162693049089, 0.12050343517942998, 0.12049614464983983, 0.12047744806968541, 0.12045146981897477, 0.1204406749962368, 0.12043034895155039, 0.12037672697699395, 0.12032224635580313, 0.12027568645521511, 0.12022616198613878, 0.12021535193038241, 0.12015910132926214, 0.12003396155487311, 0.11999033652943138, 0.11996788912149989, 0.11994903085593747, 0.11991981981967056, 0.11990432468335067, 0.1198822032631311, 0.11986999823953268, 0.11986984230156725, 0.1198596024743158, 0.11985349087889585, 0.1198396789510117, 0.11980106295485726, 0.11980100810407086, 0.1197952249355573, 0.11977855126769955, 0.11973360006096817, 0.11972576903582567, 0.11972566376659814, 0.11971674759262707, 0.11968466165394388, 0.11964984888915003, 0.11963723353465795, 0.11961244729482969, 0.11961233973658768, 0.11959095668282659, 0.11950575629315309, 0.11948621526609547, 0.11945102866186987, 0.11940532487580907, 0.11938684428311248, 0.11936560382606375, 0.11928863381061011, 0.11927171491625037, 0.11924323914259832, 0.11923238971924975, 0.11923215857674993, 0.11922369288708935, 0.11920432033210121, 0.11918483887232816, 0.11916377072319122, 0.11913557042498649, 0.1191247192623442, 0.11910875240434315, 0.11902218691853857, 0.11900480990529845, 0.11894381246965308, 0.11893648345497992, 0.11889641759041779, 0.11889095054308038, 0.11885388179209212, 0.11880940142626747, 0.11874085536673641, 0.11872814354130452, 0.11865731936778139, 0.11863657017428494, 0.11861446067336137, 0.11857690317544192, 0.11856324527313765, 0.1185459549069265, 0.11852563003286634, 0.11851650888523585, 0.11848015256587933, 0.11844344343233218, 0.11842451838239952, 0.1183564695476607, 0.11835399820955882, 0.11835386555127798, 0.11833640979080795, 0.11832207469924819, 0.11828715055352527, 0.11825403688909844, 0.11824753694427188, 0.11818483453738132, 0.11815776525615453, 0.11810444111062894, 0.11807308204638754, 0.11806539918841173, 0.11802883905754562, 0.1179657835819746, 0.11795451522284367, 0.11790763522137725, 0.11787378538575463, 0.1178481340048683, 0.1178277037598228, 0.11781820022453794, 0.1177701893182398, 0.11777015847630966, 0.11775161368056385, 0.11773866930001055, 0.11768208019478596, 0.11765903995150499, 0.1176341762037625, 0.11761679338732461, 0.11760540071259268, 0.11759933114792451, 0.11759108770586976, 0.11756781429723484, 0.11755133367331656, 0.11755121663045787, 0.11755118488164959, 0.11751419347099941, 0.11750697180911605, 0.11747430259037159, 0.11745416788626119, 0.11741120522576828, 0.11739307143596539, 0.11734193158039706, 0.11729298904274187, 0.11727982649603229, 0.11727843023281805, 0.11723331158371704, 0.1172064886322163, 0.11719400045954352, 0.11717111261064238, 0.1171495208496702, 0.1171250331588985, 0.1171197851881122, 0.11711975341715927, 0.11711972610650005, 0.11709889271582632, 0.11708327995663642, 0.11706705709558272, 0.11706464066435189, 0.11705140574855884, 0.1170282004873488, 0.11699664628310776, 0.11697942316811304, 0.11697897150759697, 0.11697896281967046, 0.11695140590477605, 0.11693616675110405, 0.11693152373703004, 0.11691690279106118, 0.11688468083512524, 0.11688171061335953, 0.11686346355983496, 0.11685274116834622, 0.11683591170755261, 0.11681847470489502, 0.1168004037590683, 0.11679586145631173, 0.1167726756973114, 0.11676683755724948, 0.11675726900282843, 0.11675521121673481, 0.11673504275767212, 0.11671596046195784, 0.11670839472753752, 0.11667584814157476, 0.11666535875666915, 0.116648662395492, 0.11664127467698816, 0.1166293849689381, 0.11662283915678805, 0.11659207717453793, 0.116586685962174, 0.11656781349970657, 0.11655931950774387, 0.11655757954636162, 0.11655732176756135, 0.11655726721590325, 0.1165307893328735, 0.11651446240980498, 0.11650919906635801, 0.116497671367694, 0.11648896452810929, 0.11644934378997004, 0.11644933659754202, 0.11641152197888177, 0.11638017869846655, 0.11636396565051782, 0.11634318682197382, 0.11633010286477476, 0.11633000084100868, 0.1163296282059046, 0.11631163577696663, 0.11629918336812889, 0.11626384929557586, 0.11626384208129921, 0.11624728401447502, 0.11623192248343281, 0.11621403842605862, 0.11620993139385559, 0.11620116835694709, 0.11617765146980626, 0.11614086718040274, 0.1161275496237654, 0.11610438056348449, 0.11608715255622937, 0.11606642806239738, 0.1160517685933944, 0.11604402352824751, 0.11603851704260053, 0.11603007802055985, 0.11602206637715247, 0.115994213632615, 0.1159915632760915, 0.11599150950738615, 0.11598372960834472, 0.11598352200471485, 0.11597835885497423, 0.11594888410428238, 0.11593683623779863, 0.11592584779932855, 0.11592498651684213, 0.11592015106045521, 0.11589830095074952, 0.11588864486583084, 0.11587976856593152, 0.11587976460955432, 0.11587421946492674, 0.11587419290792533, 0.11586959188151125, 0.1158547773861054, 0.11583389625319632, 0.11582912933867456, 0.11582136660189964, 0.11580316384409363, 0.11579184647769883, 0.115772548550535, 0.11576300968306075, 0.11573747721978882, 0.11569792718275532, 0.1156741942747046, 0.11566559546580209, 0.11566476904345793, 0.11566022728256983, 0.11563792889726968, 0.11561200518368427, 0.11561136318051818, 0.11561136039074817, 0.11561022554369829, 0.11559018951339946, 0.1155419057824545, 0.11553298886880516, 0.11551706380580107, 0.11549314367353679, 0.11548457729530844, 0.1154714051489236, 0.11546712265693845, 0.11541416926661142, 0.11541416544799447, 0.11539481642041062, 0.11539477621386382, 0.1153737681224387, 0.11535585890133584, 0.11530928670979952, 0.11529763162988281, 0.11529005918084997, 0.11528809009022069, 0.11528235594670641, 0.11527443970241322, 0.1152743872650253, 0.11525024467105813, 0.11523533026877288, 0.11523532086955547, 0.1152133004671612, 0.11516950668691847, 0.11514470260067323, 0.11511794569397076, 0.11509513286102092, 0.115094343046623, 0.11507769176910042, 0.11506515021888541, 0.11506442736242536, 0.11504607817919417, 0.11504334087120169, 0.11502434231685539, 0.1150202082516215, 0.11500876910199903], \"yaxis\": \"y\"}, {\"mode\": \"lines\", \"name\": \"validation AUC\", \"type\": \"scatter\", \"x\": [0, 1, 2, 3, 4, 5, 6, 7, 8, 9, 10, 11, 12, 13, 14, 15, 16, 17, 18, 19, 20, 21, 22, 23, 24, 25, 26, 27, 28, 29, 30, 31, 32, 33, 34, 35, 36, 37, 38, 39, 40, 41, 42, 43, 44, 45, 46, 47, 48, 49, 50, 51, 52, 53, 54, 55, 56, 57, 58, 59, 60, 61, 62, 63, 64, 65, 66, 67, 68, 69, 70, 71, 72, 73, 74, 75, 76, 77, 78, 79, 80, 81, 82, 83, 84, 85, 86, 87, 88, 89, 90, 91, 92, 93, 94, 95, 96, 97, 98, 99, 100, 101, 102, 103, 104, 105, 106, 107, 108, 109, 110, 111, 112, 113, 114, 115, 116, 117, 118, 119, 120, 121, 122, 123, 124, 125, 126, 127, 128, 129, 130, 131, 132, 133, 134, 135, 136, 137, 138, 139, 140, 141, 142, 143, 144, 145, 146, 147, 148, 149, 150, 151, 152, 153, 154, 155, 156, 157, 158, 159, 160, 161, 162, 163, 164, 165, 166, 167, 168, 169, 170, 171, 172, 173, 174, 175, 176, 177, 178, 179, 180, 181, 182, 183, 184, 185, 186, 187, 188, 189, 190, 191, 192, 193, 194, 195, 196, 197, 198, 199, 200, 201, 202, 203, 204, 205, 206, 207, 208, 209, 210, 211, 212, 213, 214, 215, 216, 217, 218, 219, 220, 221, 222, 223, 224, 225, 226, 227, 228, 229, 230, 231, 232, 233, 234, 235, 236, 237, 238, 239, 240, 241, 242, 243, 244, 245, 246, 247, 248, 249, 250, 251, 252, 253, 254, 255, 256, 257, 258, 259, 260, 261, 262, 263, 264, 265, 266, 267, 268, 269, 270, 271, 272, 273, 274, 275, 276, 277, 278, 279, 280, 281, 282, 283, 284, 285, 286, 287, 288, 289, 290, 291, 292, 293, 294, 295, 296, 297, 298, 299, 300, 301, 302, 303, 304, 305, 306, 307, 308, 309, 310, 311, 312, 313, 314, 315, 316, 317, 318, 319, 320, 321, 322, 323, 324, 325, 326, 327, 328, 329, 330, 331, 332, 333, 334, 335, 336, 337, 338, 339, 340, 341, 342, 343, 344, 345, 346, 347, 348, 349, 350, 351, 352, 353, 354, 355, 356, 357, 358, 359, 360, 361, 362, 363, 364, 365, 366, 367, 368, 369, 370, 371, 372, 373, 374, 375, 376, 377, 378, 379, 380, 381, 382, 383, 384, 385, 386, 387, 388, 389, 390, 391, 392, 393, 394, 395, 396, 397, 398, 399], \"xaxis\": \"x2\", \"y\": [0.5, 0.5745382627630504, 0.5760391904500595, 0.5511912755264547, 0.5511909998630266, 0.5511909998630266, 0.6326332276091144, 0.6481013760953508, 0.6461189581816249, 0.6731330903202015, 0.6746526693379268, 0.6751437793657217, 0.7125582692097098, 0.7156657690402336, 0.7170386240668644, 0.7245560737465944, 0.7237275317894071, 0.7273922781353732, 0.727229270108776, 0.7275870698710564, 0.7272942158440892, 0.7284933716501331, 0.7272178002366488, 0.7265824670818507, 0.7290335725032813, 0.7287886981222813, 0.7282185295284043, 0.732353262126268, 0.7320755184338152, 0.7312757165204393, 0.7326244296829173, 0.7338814407061977, 0.7345787100337264, 0.7341545805352098, 0.7349574374814243, 0.7362119476406135, 0.7359392369371442, 0.7360792597492307, 0.7373537654535852, 0.7378965353762089, 0.7396908428400224, 0.7402138843552359, 0.7407581633219873, 0.7401775763556577, 0.7424889545216672, 0.7436776891133675, 0.7446892346423173, 0.7442917706071727, 0.7458112103722383, 0.7464536624640233, 0.7465096107723902, 0.7461181402853915, 0.7456644835392529, 0.745243230034441, 0.7456600899757473, 0.7465966948386923, 0.7461146220243178, 0.7466416791315322, 0.7478892721279965, 0.7489582579580948, 0.7484648062121054, 0.7485563349959513, 0.7482622930585409, 0.747793585657599, 0.747336029836991, 0.7465703107225304, 0.7462861869847541, 0.7471824114182998, 0.7473337335890528, 0.7474278513356112, 0.7475924735563035, 0.7475336748312509, 0.7479016656147028, 0.7477295265922819, 0.7483469728850461, 0.7485526632727629, 0.7482069074445944, 0.7480535590055494, 0.7480560342926215, 0.7477944638019219, 0.7482141457410038, 0.7479260518814828, 0.7479929499959216, 0.7479918018719525, 0.7478907811721242, 0.7476924910686044, 0.747755316753222, 0.7476986892329031, 0.7476554839638371, 0.7475737170756198, 0.7475732964757499, 0.7473620757681224, 0.747632853985703, 0.7474425439121468, 0.7477723510479521, 0.7476818538705439, 0.747643840736358, 0.7478093837297386, 0.7474784199442911, 0.747223201080005, 0.7473107256394139, 0.7476723306937604, 0.7478609896286381, 0.7477114976356973, 0.7481831947059845, 0.7478357053242981, 0.7480196438782039, 0.7480082876817171, 0.747909776371653, 0.7478036772125851, 0.7479143546580745, 0.7476690966217879, 0.7480305993680578, 0.7480774621508571, 0.7479459621699177, 0.7475778236081332, 0.7471908660440625, 0.7472389906264715, 0.7472127372372962, 0.7473517653875283, 0.7473569489967354, 0.7474251259621301, 0.7474354647616342, 0.7477062003508497, 0.7474902876811601, 0.7476195255168534, 0.7477832980121331, 0.7477155189114802, 0.7474383038107559, 0.7475205651880094, 0.7475782527336761, 0.7473921429750366, 0.7475710059115936, 0.7475955655337254, 0.7477716149981799, 0.7481170099061898, 0.7481769056011733, 0.7481753311935523, 0.7481108543702563, 0.7481452242001638, 0.748155557315886, 0.7482301114847131, 0.7482300091766366, 0.7482605822401511, 0.7482195652271649, 0.7479992334169506, 0.7479764357672468, 0.7479777885073688, 0.7480805200255868, 0.7482890238854062, 0.748235692958662, 0.7481376136160318, 0.7482072910998812, 0.7482057792138623, 0.7480437857423567, 0.7480446269420965, 0.7481539402798998, 0.7481747969180419, 0.7483001044184647, 0.7485103816182761, 0.7486524875364748, 0.7485260915917943, 0.7485294791258814, 0.7485888291777905, 0.7488518405072334, 0.7488570866380428, 0.7489058250689106, 0.7488621224689174, 0.7488260929746584, 0.7489655019382861, 0.7491075652281198, 0.7490142204759168, 0.7488594709846025, 0.7487903618789558, 0.7488513801208894, 0.7487288860925692, 0.7487003989770579, 0.7487809324845757, 0.7486054343469777, 0.7487318018727482, 0.7487678597859173, 0.748566551594142, 0.7485584635723199, 0.7487869629773046, 0.7480617237584288, 0.7481745979856711, 0.7482067511405887, 0.7482081834536591, 0.7481171633683045, 0.748166973192084, 0.7481431382521605, 0.748154659278326, 0.7480350781882938, 0.7481626052055975, 0.7480974917987147, 0.7480880339854243, 0.7480877497963231, 0.7481898248377171, 0.7482051795748587, 0.7483880779966537, 0.748538584544686, 0.7485750914766351, 0.7484653831159811, 0.7484879193117118, 0.7484074937960524, 0.7484568062889048, 0.7484058682343931, 0.7486197887384828, 0.7489059529540062, 0.748947120587216, 0.7490621376002818, 0.7489669285675745, 0.7487349279528621, 0.7478981445117381, 0.7479757167688206, 0.748035578361112, 0.7480340380561832, 0.7480789285666197, 0.7480498617053418, 0.7481801510407099, 0.748230992470927, 0.7482404218653071, 0.7482960234629705, 0.7482486434560068, 0.7483460350610119, 0.7483201226987581, 0.7484500653234226, 0.7483571468548715, 0.7483567262550017, 0.7483574026250627, 0.7484394537023812, 0.7484851342585193, 0.7484651699741551, 0.7484785268619147, 0.7486488868605619, 0.7486438112432131, 0.7485688819447724, 0.7484820508067705, 0.7484456007126417, 0.7484546208747159, 0.7483689776471574, 0.7483567575158028, 0.7483370234246106, 0.7483351818792344, 0.7482985669554268, 0.7483298533335856, 0.7483858044838435, 0.7483859636297403, 0.748386128459419, 0.7483719985773039, 0.7484191341816404, 0.7475392165187257, 0.7475384179473511, 0.7474324381477057, 0.7477175139189711, 0.7477298477259663, 0.7473798404288428, 0.7473845750192699, 0.7473846773273464, 0.7473160058729156, 0.7473390933955026, 0.7473674668353735, 0.7465197875841066, 0.7467264498985499, 0.7467599387422434, 0.7467640935869041, 0.7468967871620689, 0.7468022203967304, 0.7468523911406685, 0.746822522866125, 0.7467956101582348, 0.7467929785671571, 0.7467462180924342, 0.7467442060335973, 0.7467839584050828, 0.7467827932297676, 0.7467137523295052, 0.7467235852724091, 0.7467430976961023, 0.7470114176779569, 0.7470622250054819, 0.747045923918633, 0.7471415364998641, 0.7471912582250223, 0.7472573435586315, 0.7471337610860534, 0.7471732463197838, 0.7471535349637197, 0.7471527562855823, 0.7471589175052978, 0.7471593324213857, 0.7471549928538093, 0.7471760001121751, 0.7472024467499393, 0.7472012304205858, 0.7472311470072764, 0.7474713265843234, 0.7474713265843234, 0.7476523266229219, 0.7476990984652089, 0.7477035659178809, 0.7475856103895079, 0.74759726214266, 0.7475977793668243, 0.7475980408207975, 0.7476164278556496, 0.7473869792590666, 0.7473066503677017, 0.7473067214149771, 0.7473118083998898, 0.7473409889368081, 0.7473421484283413, 0.7473996341997461, 0.7473666796315629, 0.7473269727303335, 0.7473999354401935, 0.7473693851118071, 0.7473415516312287, 0.7473598590931324, 0.7471113129889442, 0.7472965531289336, 0.7472390559899648, 0.7472266369262394, 0.7473314060803133, 0.7466103217060981, 0.7465750424710665, 0.7465699753793908, 0.7465713622222051, 0.7464589029110507, 0.7464599316755973, 0.7462421120970383, 0.7463155124581141, 0.7463339733821326, 0.74632846579735, 0.7463503199392376, 0.7463167231036856, 0.7463689002226787, 0.7464204805445591, 0.7464205089634692, 0.7464205032796871, 0.7464662577249915, 0.7464661383655691, 0.746457626901986, 0.7464570244210913, 0.7464796060870782, 0.7464900074081846, 0.7465037280579939, 0.7464437300549339, 0.7464210062943964, 0.7450809637413982, 0.7450481967380218, 0.745102636002261, 0.7450185614985414, 0.7448611690485853, 0.7448954934082367, 0.7448957889649019, 0.7447810731922835, 0.7446854151407962, 0.7446311407062357, 0.7446273325722788, 0.744627389410099, 0.7446269744940112, 0.7446300664714329, 0.7448235139926671, 0.7447748721860938, 0.7447687450690704, 0.7446933497005036, 0.7447168805580887, 0.7448543144074626, 0.7447826305485584, 0.7448696265162391, 0.7448696435675851, 0.7448960788377853, 0.7448972099104083, 0.744898034058802, 0.7448492899441522, 0.7449095607687495, 0.7441216464854797, 0.7441498550956718, 0.7441462458940856, 0.7441198276752315, 0.7441550784913531, 0.744155061440007, 0.7441208393884321, 0.7441798825161119, 0.7441802462781615, 0.7441694470923133, 0.7441589320955663, 0.7438455567735963, 0.7439808989911849, 0.7439424254706551, 0.7439413796547624, 0.7438083336851121, 0.7438026271679585, 0.7438017632330908, 0.743851968079721, 0.7438277182237096, 0.7438288322449866, 0.7440161412816334, 0.7440965156432544], \"yaxis\": \"y2\"}],\n",
       "                        {\"annotations\": [{\"font\": {\"size\": 16}, \"showarrow\": false, \"text\": \"Logloss\", \"x\": 0.5, \"xanchor\": \"center\", \"xref\": \"paper\", \"y\": 1.0, \"yanchor\": \"bottom\", \"yref\": \"paper\"}, {\"font\": {\"size\": 16}, \"showarrow\": false, \"text\": \"AUC\", \"x\": 0.5, \"xanchor\": \"center\", \"xref\": \"paper\", \"y\": 0.375, \"yanchor\": \"bottom\", \"yref\": \"paper\"}], \"height\": 1260.0, \"template\": {\"data\": {\"bar\": [{\"error_x\": {\"color\": \"#2a3f5f\"}, \"error_y\": {\"color\": \"#2a3f5f\"}, \"marker\": {\"line\": {\"color\": \"#E5ECF6\", \"width\": 0.5}}, \"type\": \"bar\"}], \"barpolar\": [{\"marker\": {\"line\": {\"color\": \"#E5ECF6\", \"width\": 0.5}}, \"type\": \"barpolar\"}], \"carpet\": [{\"aaxis\": {\"endlinecolor\": \"#2a3f5f\", \"gridcolor\": \"white\", \"linecolor\": \"white\", \"minorgridcolor\": \"white\", \"startlinecolor\": \"#2a3f5f\"}, \"baxis\": {\"endlinecolor\": \"#2a3f5f\", \"gridcolor\": \"white\", \"linecolor\": \"white\", \"minorgridcolor\": \"white\", \"startlinecolor\": \"#2a3f5f\"}, \"type\": \"carpet\"}], \"choropleth\": [{\"colorbar\": {\"outlinewidth\": 0, \"ticks\": \"\"}, \"type\": \"choropleth\"}], \"contour\": [{\"colorbar\": {\"outlinewidth\": 0, \"ticks\": \"\"}, \"colorscale\": [[0.0, \"#0d0887\"], [0.1111111111111111, \"#46039f\"], [0.2222222222222222, \"#7201a8\"], [0.3333333333333333, \"#9c179e\"], [0.4444444444444444, \"#bd3786\"], [0.5555555555555556, \"#d8576b\"], [0.6666666666666666, \"#ed7953\"], [0.7777777777777778, \"#fb9f3a\"], [0.8888888888888888, \"#fdca26\"], [1.0, \"#f0f921\"]], \"type\": \"contour\"}], \"contourcarpet\": [{\"colorbar\": {\"outlinewidth\": 0, \"ticks\": \"\"}, \"type\": \"contourcarpet\"}], \"heatmap\": [{\"colorbar\": {\"outlinewidth\": 0, \"ticks\": \"\"}, \"colorscale\": [[0.0, \"#0d0887\"], [0.1111111111111111, \"#46039f\"], [0.2222222222222222, \"#7201a8\"], [0.3333333333333333, \"#9c179e\"], [0.4444444444444444, \"#bd3786\"], [0.5555555555555556, \"#d8576b\"], [0.6666666666666666, \"#ed7953\"], [0.7777777777777778, \"#fb9f3a\"], [0.8888888888888888, \"#fdca26\"], [1.0, \"#f0f921\"]], \"type\": \"heatmap\"}], \"heatmapgl\": [{\"colorbar\": {\"outlinewidth\": 0, \"ticks\": \"\"}, \"colorscale\": [[0.0, \"#0d0887\"], [0.1111111111111111, \"#46039f\"], [0.2222222222222222, \"#7201a8\"], [0.3333333333333333, \"#9c179e\"], [0.4444444444444444, \"#bd3786\"], [0.5555555555555556, \"#d8576b\"], [0.6666666666666666, \"#ed7953\"], [0.7777777777777778, \"#fb9f3a\"], [0.8888888888888888, \"#fdca26\"], [1.0, \"#f0f921\"]], \"type\": \"heatmapgl\"}], \"histogram\": [{\"marker\": {\"colorbar\": {\"outlinewidth\": 0, \"ticks\": \"\"}}, \"type\": \"histogram\"}], \"histogram2d\": [{\"colorbar\": {\"outlinewidth\": 0, \"ticks\": \"\"}, \"colorscale\": [[0.0, \"#0d0887\"], [0.1111111111111111, \"#46039f\"], [0.2222222222222222, \"#7201a8\"], [0.3333333333333333, \"#9c179e\"], [0.4444444444444444, \"#bd3786\"], [0.5555555555555556, \"#d8576b\"], [0.6666666666666666, \"#ed7953\"], [0.7777777777777778, \"#fb9f3a\"], [0.8888888888888888, \"#fdca26\"], [1.0, \"#f0f921\"]], \"type\": \"histogram2d\"}], \"histogram2dcontour\": [{\"colorbar\": {\"outlinewidth\": 0, \"ticks\": \"\"}, \"colorscale\": [[0.0, \"#0d0887\"], [0.1111111111111111, \"#46039f\"], [0.2222222222222222, \"#7201a8\"], [0.3333333333333333, \"#9c179e\"], [0.4444444444444444, \"#bd3786\"], [0.5555555555555556, \"#d8576b\"], [0.6666666666666666, \"#ed7953\"], [0.7777777777777778, \"#fb9f3a\"], [0.8888888888888888, \"#fdca26\"], [1.0, \"#f0f921\"]], \"type\": \"histogram2dcontour\"}], \"mesh3d\": [{\"colorbar\": {\"outlinewidth\": 0, \"ticks\": \"\"}, \"type\": \"mesh3d\"}], \"parcoords\": [{\"line\": {\"colorbar\": {\"outlinewidth\": 0, \"ticks\": \"\"}}, \"type\": \"parcoords\"}], \"pie\": [{\"automargin\": true, \"type\": \"pie\"}], \"scatter\": [{\"marker\": {\"colorbar\": {\"outlinewidth\": 0, \"ticks\": \"\"}}, \"type\": \"scatter\"}], \"scatter3d\": [{\"line\": {\"colorbar\": {\"outlinewidth\": 0, \"ticks\": \"\"}}, \"marker\": {\"colorbar\": {\"outlinewidth\": 0, \"ticks\": \"\"}}, \"type\": \"scatter3d\"}], \"scattercarpet\": [{\"marker\": {\"colorbar\": {\"outlinewidth\": 0, \"ticks\": \"\"}}, \"type\": \"scattercarpet\"}], \"scattergeo\": [{\"marker\": {\"colorbar\": {\"outlinewidth\": 0, \"ticks\": \"\"}}, \"type\": \"scattergeo\"}], \"scattergl\": [{\"marker\": {\"colorbar\": {\"outlinewidth\": 0, \"ticks\": \"\"}}, \"type\": \"scattergl\"}], \"scattermapbox\": [{\"marker\": {\"colorbar\": {\"outlinewidth\": 0, \"ticks\": \"\"}}, \"type\": \"scattermapbox\"}], \"scatterpolar\": [{\"marker\": {\"colorbar\": {\"outlinewidth\": 0, \"ticks\": \"\"}}, \"type\": \"scatterpolar\"}], \"scatterpolargl\": [{\"marker\": {\"colorbar\": {\"outlinewidth\": 0, \"ticks\": \"\"}}, \"type\": \"scatterpolargl\"}], \"scatterternary\": [{\"marker\": {\"colorbar\": {\"outlinewidth\": 0, \"ticks\": \"\"}}, \"type\": \"scatterternary\"}], \"surface\": [{\"colorbar\": {\"outlinewidth\": 0, \"ticks\": \"\"}, \"colorscale\": [[0.0, \"#0d0887\"], [0.1111111111111111, \"#46039f\"], [0.2222222222222222, \"#7201a8\"], [0.3333333333333333, \"#9c179e\"], [0.4444444444444444, \"#bd3786\"], [0.5555555555555556, \"#d8576b\"], [0.6666666666666666, \"#ed7953\"], [0.7777777777777778, \"#fb9f3a\"], [0.8888888888888888, \"#fdca26\"], [1.0, \"#f0f921\"]], \"type\": \"surface\"}], \"table\": [{\"cells\": {\"fill\": {\"color\": \"#EBF0F8\"}, \"line\": {\"color\": \"white\"}}, \"header\": {\"fill\": {\"color\": \"#C8D4E3\"}, \"line\": {\"color\": \"white\"}}, \"type\": \"table\"}]}, \"layout\": {\"annotationdefaults\": {\"arrowcolor\": \"#2a3f5f\", \"arrowhead\": 0, \"arrowwidth\": 1}, \"coloraxis\": {\"colorbar\": {\"outlinewidth\": 0, \"ticks\": \"\"}}, \"colorscale\": {\"diverging\": [[0, \"#8e0152\"], [0.1, \"#c51b7d\"], [0.2, \"#de77ae\"], [0.3, \"#f1b6da\"], [0.4, \"#fde0ef\"], [0.5, \"#f7f7f7\"], [0.6, \"#e6f5d0\"], [0.7, \"#b8e186\"], [0.8, \"#7fbc41\"], [0.9, \"#4d9221\"], [1, \"#276419\"]], \"sequential\": [[0.0, \"#0d0887\"], [0.1111111111111111, \"#46039f\"], [0.2222222222222222, \"#7201a8\"], [0.3333333333333333, \"#9c179e\"], [0.4444444444444444, \"#bd3786\"], [0.5555555555555556, \"#d8576b\"], [0.6666666666666666, \"#ed7953\"], [0.7777777777777778, \"#fb9f3a\"], [0.8888888888888888, \"#fdca26\"], [1.0, \"#f0f921\"]], \"sequentialminus\": [[0.0, \"#0d0887\"], [0.1111111111111111, \"#46039f\"], [0.2222222222222222, \"#7201a8\"], [0.3333333333333333, \"#9c179e\"], [0.4444444444444444, \"#bd3786\"], [0.5555555555555556, \"#d8576b\"], [0.6666666666666666, \"#ed7953\"], [0.7777777777777778, \"#fb9f3a\"], [0.8888888888888888, \"#fdca26\"], [1.0, \"#f0f921\"]]}, \"colorway\": [\"#636efa\", \"#EF553B\", \"#00cc96\", \"#ab63fa\", \"#FFA15A\", \"#19d3f3\", \"#FF6692\", \"#B6E880\", \"#FF97FF\", \"#FECB52\"], \"font\": {\"color\": \"#2a3f5f\"}, \"geo\": {\"bgcolor\": \"white\", \"lakecolor\": \"white\", \"landcolor\": \"#E5ECF6\", \"showlakes\": true, \"showland\": true, \"subunitcolor\": \"white\"}, \"hoverlabel\": {\"align\": \"left\"}, \"hovermode\": \"closest\", \"mapbox\": {\"style\": \"light\"}, \"paper_bgcolor\": \"white\", \"plot_bgcolor\": \"#E5ECF6\", \"polar\": {\"angularaxis\": {\"gridcolor\": \"white\", \"linecolor\": \"white\", \"ticks\": \"\"}, \"bgcolor\": \"#E5ECF6\", \"radialaxis\": {\"gridcolor\": \"white\", \"linecolor\": \"white\", \"ticks\": \"\"}}, \"scene\": {\"xaxis\": {\"backgroundcolor\": \"#E5ECF6\", \"gridcolor\": \"white\", \"gridwidth\": 2, \"linecolor\": \"white\", \"showbackground\": true, \"ticks\": \"\", \"zerolinecolor\": \"white\"}, \"yaxis\": {\"backgroundcolor\": \"#E5ECF6\", \"gridcolor\": \"white\", \"gridwidth\": 2, \"linecolor\": \"white\", \"showbackground\": true, \"ticks\": \"\", \"zerolinecolor\": \"white\"}, \"zaxis\": {\"backgroundcolor\": \"#E5ECF6\", \"gridcolor\": \"white\", \"gridwidth\": 2, \"linecolor\": \"white\", \"showbackground\": true, \"ticks\": \"\", \"zerolinecolor\": \"white\"}}, \"shapedefaults\": {\"line\": {\"color\": \"#2a3f5f\"}}, \"ternary\": {\"aaxis\": {\"gridcolor\": \"white\", \"linecolor\": \"white\", \"ticks\": \"\"}, \"baxis\": {\"gridcolor\": \"white\", \"linecolor\": \"white\", \"ticks\": \"\"}, \"bgcolor\": \"#E5ECF6\", \"caxis\": {\"gridcolor\": \"white\", \"linecolor\": \"white\", \"ticks\": \"\"}}, \"title\": {\"x\": 0.05}, \"xaxis\": {\"automargin\": true, \"gridcolor\": \"white\", \"linecolor\": \"white\", \"ticks\": \"\", \"title\": {\"standoff\": 15}, \"zerolinecolor\": \"white\", \"zerolinewidth\": 2}, \"yaxis\": {\"automargin\": true, \"gridcolor\": \"white\", \"linecolor\": \"white\", \"ticks\": \"\", \"title\": {\"standoff\": 15}, \"zerolinecolor\": \"white\", \"zerolinewidth\": 2}}}, \"title\": {\"text\": \"Learning results\"}, \"width\": 891.0, \"xaxis\": {\"anchor\": \"y\", \"domain\": [0.0, 1.0]}, \"xaxis2\": {\"anchor\": \"y2\", \"domain\": [0.0, 1.0]}, \"yaxis\": {\"anchor\": \"x\", \"domain\": [0.625, 1.0]}, \"yaxis2\": {\"anchor\": \"x2\", \"domain\": [0.0, 0.375]}},\n",
       "                        {\"responsive\": true}\n",
       "                    ).then(function(){\n",
       "                            \n",
       "var gd = document.getElementById('74794081-3dcf-402c-84fb-7bb14f816646');\n",
       "var x = new MutationObserver(function (mutations, observer) {{\n",
       "        var display = window.getComputedStyle(gd).display;\n",
       "        if (!display || display === 'none') {{\n",
       "            console.log([gd, 'removed!']);\n",
       "            Plotly.purge(gd);\n",
       "            observer.disconnect();\n",
       "        }}\n",
       "}});\n",
       "\n",
       "// Listen for the removal of the full notebook cells\n",
       "var notebookContainer = gd.closest('#notebook-container');\n",
       "if (notebookContainer) {{\n",
       "    x.observe(notebookContainer, {childList: true});\n",
       "}}\n",
       "\n",
       "// Listen for the clearing of the current output cell\n",
       "var outputEl = gd.closest('.output');\n",
       "if (outputEl) {{\n",
       "    x.observe(outputEl, {childList: true});\n",
       "}}\n",
       "\n",
       "                        })\n",
       "                };\n",
       "                });\n",
       "            </script>\n",
       "        </div>"
      ]
     },
     "metadata": {},
     "output_type": "display_data"
    }
   ],
   "source": [
    "visualize_learning_results(metrics)"
   ]
  },
  {
   "cell_type": "markdown",
   "metadata": {
    "colab_type": "text",
    "id": "e01TOmuiWdTG"
   },
   "source": [
    "### Объявление финальных параметров"
   ]
  },
  {
   "cell_type": "code",
   "execution_count": 42,
   "metadata": {
    "colab": {},
    "colab_type": "code",
    "id": "NeVaRFJRWomK"
   },
   "outputs": [],
   "source": [
    "cat_features = [\n",
    "    'ClientID',\n",
    "    'ClientType',\n",
    "    'CoachID',\n",
    "    'GymID',\n",
    "    'TrainingID',\n",
    "    'Month',\n",
    "    'Day',\n",
    "    'DayOfWeek',\n",
    "    'Season'\n",
    "]\n",
    "ignored_features = [\n",
    "]\n",
    "train_pool = Pool(\n",
    "    pd.concat([X_train_train, X_train_valid]),\n",
    "    pd.concat([y_train_train, y_train_valid]),\n",
    "    cat_features=cat_features\n",
    ")\n",
    "params = {\n",
    "    'iterations': 300,\n",
    "    'learning_rate': 0.08,\n",
    "    'logging_level': 'Silent',\n",
    "    'use_best_model': False,\n",
    "    'ignored_features': ignored_features\n",
    "}\n",
    "n_models = 10"
   ]
  },
  {
   "cell_type": "markdown",
   "metadata": {
    "colab_type": "text",
    "id": "zkt3iCbEFhGy"
   },
   "source": [
    "### Обучение"
   ]
  },
  {
   "cell_type": "code",
   "execution_count": 43,
   "metadata": {
    "colab": {
     "base_uri": "https://localhost:8080/",
     "height": 53
    },
    "colab_type": "code",
    "id": "jsIALaQFFi0R",
    "outputId": "72680b9b-0377-41fe-a0eb-361b0e1b127c"
   },
   "outputs": [
    {
     "name": "stdout",
     "output_type": "stream",
     "text": [
      "CPU times: user 1h 12min 12s, sys: 18min 23s, total: 1h 30min 35s\n",
      "Wall time: 14min 53s\n"
     ]
    }
   ],
   "source": [
    "%%time\n",
    "models = []\n",
    "for i in range(n_models):\n",
    "    model = CatBoostClassifier(**params)\n",
    "    model.fit(train_pool)\n",
    "    models.append(model)"
   ]
  },
  {
   "cell_type": "markdown",
   "metadata": {
    "colab_type": "text",
    "id": "YXvaGP6UF613"
   },
   "source": [
    "### Получение предсказаний"
   ]
  },
  {
   "cell_type": "code",
   "execution_count": 44,
   "metadata": {
    "colab": {},
    "colab_type": "code",
    "id": "3Ol4xaCkGA1p"
   },
   "outputs": [],
   "source": [
    "y_test_predicted = None\n",
    "for model in models:\n",
    "    predicted_probas = model.predict_proba(X_test)\n",
    "    y_test_cur_predicted = pd.Series(\n",
    "        predicted_probas[:, 1],\n",
    "        index=X_test.index,\n",
    "        name='Target'\n",
    "    ).sort_index()\n",
    "    \n",
    "    if y_test_predicted is None:\n",
    "        y_test_predicted = y_test_cur_predicted\n",
    "    else:\n",
    "        y_test_predicted += y_test_cur_predicted\n",
    "\n",
    "y_test_predicted /= n_models\n",
    "\n",
    "SUBMISSTION_FILE_NAME = 'Catboost_3_attemp_10_models_300_iters_0.8_lr.csv'"
   ]
  },
  {
   "cell_type": "markdown",
   "metadata": {},
   "source": [
    "## Naive Bayes"
   ]
  },
  {
   "cell_type": "code",
   "execution_count": 81,
   "metadata": {},
   "outputs": [],
   "source": [
    "model = CategoricalNB()"
   ]
  },
  {
   "cell_type": "code",
   "execution_count": 111,
   "metadata": {},
   "outputs": [
    {
     "data": {
      "text/plain": [
       "count     64234\n",
       "unique        2\n",
       "top        True\n",
       "freq      63939\n",
       "Name: TrainingID, dtype: object"
      ]
     },
     "execution_count": 111,
     "metadata": {},
     "output_type": "execute_result"
    }
   ],
   "source": [
    "X_train_valid.TrainingID.isin(list(X_train_train.TrainingID.values)).describe()"
   ]
  },
  {
   "cell_type": "code",
   "execution_count": 124,
   "metadata": {},
   "outputs": [],
   "source": [
    "existed_in_train_mask = X_train_valid.ClientID.isin(list(X_train_train.ClientID.values))\n",
    "existed_in_train_mask &= X_train_valid.CoachID.isin(list(X_train_train.CoachID.values))\n",
    "existed_in_train_mask &= X_train_valid.TrainingID.isin(list(X_train_train.TrainingID.values))\n",
    "\n",
    "X_train_valid_existed = X_train_valid[existed_in_train_mask]\n",
    "y_train_valid_existed = y_train_valid[existed_in_train_mask]"
   ]
  },
  {
   "cell_type": "code",
   "execution_count": 125,
   "metadata": {},
   "outputs": [],
   "source": [
    "model = model.fit(X_train_train.values, y_train_train.values)"
   ]
  },
  {
   "cell_type": "code",
   "execution_count": 126,
   "metadata": {},
   "outputs": [],
   "source": [
    "y_train_valid_probas = model.predict_proba(X_train_valid_existed.values)"
   ]
  },
  {
   "cell_type": "code",
   "execution_count": 129,
   "metadata": {},
   "outputs": [
    {
     "data": {
      "text/plain": [
       "array([[0.00107237, 0.99892763],\n",
       "       [0.00139774, 0.99860226],\n",
       "       [0.00981249, 0.99018751],\n",
       "       ...,\n",
       "       [0.13281903, 0.86718097],\n",
       "       [0.00404909, 0.99595091],\n",
       "       [0.00374611, 0.99625389]])"
      ]
     },
     "execution_count": 129,
     "metadata": {},
     "output_type": "execute_result"
    }
   ],
   "source": [
    "y_train_valid_probas"
   ]
  },
  {
   "cell_type": "code",
   "execution_count": 130,
   "metadata": {},
   "outputs": [
    {
     "data": {
      "text/plain": [
       "0.7764905616335358"
      ]
     },
     "execution_count": 130,
     "metadata": {},
     "output_type": "execute_result"
    }
   ],
   "source": [
    "roc_auc_score(y_train_valid_existed.values, y_train_valid_probas[:,1])"
   ]
  },
  {
   "cell_type": "code",
   "execution_count": null,
   "metadata": {},
   "outputs": [],
   "source": []
  },
  {
   "cell_type": "markdown",
   "metadata": {
    "colab_type": "text",
    "id": "Ih6-PdgRPke5"
   },
   "source": [
    "# Отправка результатов"
   ]
  },
  {
   "cell_type": "markdown",
   "metadata": {
    "colab_type": "text",
    "id": "SqRyENOXMsHQ"
   },
   "source": [
    "## Определение пути"
   ]
  },
  {
   "cell_type": "code",
   "execution_count": 46,
   "metadata": {
    "colab": {
     "base_uri": "https://localhost:8080/",
     "height": 55
    },
    "colab_type": "code",
    "id": "Saiyu_K_LR2S",
    "outputId": "aad6f7c0-a20c-48be-a796-05d70ed92e87"
   },
   "outputs": [
    {
     "name": "stdout",
     "output_type": "stream",
     "text": [
      "File will be saved to ./submissions/Catboost_3_attemp_10_models_300_iters_0.8_lr.csv\n"
     ]
    }
   ],
   "source": [
    "submission_folder_path = os.path.join(PROJECT_DIR, 'submissions')\n",
    "file_path = os.path.join(submission_folder_path, SUBMISSTION_FILE_NAME)\n",
    "print(f\"File will be saved to {file_path}\")"
   ]
  },
  {
   "cell_type": "markdown",
   "metadata": {
    "colab_type": "text",
    "id": "bXNqGiZKMuJ-"
   },
   "source": [
    "## Сохранение"
   ]
  },
  {
   "cell_type": "code",
   "execution_count": 47,
   "metadata": {
    "colab": {},
    "colab_type": "code",
    "id": "PsyUIyS4NL1e"
   },
   "outputs": [],
   "source": [
    "y_test_predicted.to_csv(file_path)"
   ]
  },
  {
   "cell_type": "markdown",
   "metadata": {
    "colab_type": "text",
    "id": "D8wDwY_NN5tL"
   },
   "source": [
    "## Отправка на кагл"
   ]
  },
  {
   "cell_type": "code",
   "execution_count": 48,
   "metadata": {
    "colab": {
     "base_uri": "https://localhost:8080/",
     "height": 71
    },
    "colab_type": "code",
    "id": "84xj5IdMN8-H",
    "outputId": "0d4f5d8d-575a-4938-d3b6-5cfe27f28cb7"
   },
   "outputs": [
    {
     "name": "stdout",
     "output_type": "stream",
     "text": [
      "Warning: Your Kaggle API key is readable by other users on this system! To fix this, you can run 'chmod 600 /Users/alex-kozinov/.kaggle/kaggle.json'\n",
      "100%|███████████████████████████████████████| 1.09M/1.09M [00:06<00:00, 185kB/s]\n",
      "Successfully submitted to ML Posterior. Gym training prediction"
     ]
    }
   ],
   "source": [
    "!kaggle competitions submit -c ml-posterior-gym-training-prediction -f \"$file_path\" -m \"send $SUBMISSTION_FILE_NAME\""
   ]
  },
  {
   "cell_type": "markdown",
   "metadata": {
    "colab_type": "text",
    "id": "U7rfkVWfnF-S"
   },
   "source": [
    "# Юнит тестирование\n"
   ]
  },
  {
   "cell_type": "markdown",
   "metadata": {
    "colab_type": "text",
    "id": "FXQBH20aoTZH"
   },
   "source": [
    "## Подключение библиотек"
   ]
  },
  {
   "cell_type": "code",
   "execution_count": null,
   "metadata": {
    "colab": {},
    "colab_type": "code",
    "id": "wDe_sqoLoWYg"
   },
   "outputs": [],
   "source": [
    "import unittest"
   ]
  },
  {
   "cell_type": "markdown",
   "metadata": {
    "colab_type": "text",
    "id": "yQSf1SvuoYHP"
   },
   "source": [
    "## Объявление тестирующего класса"
   ]
  },
  {
   "cell_type": "code",
   "execution_count": null,
   "metadata": {
    "colab": {},
    "colab_type": "code",
    "id": "Qz4myBWbomDN"
   },
   "outputs": [],
   "source": [
    "class TestNotebook(unittest.TestCase):\n",
    "    def test_add(self):\n",
    "        self.assertEqual(2 + 2, 4)"
   ]
  },
  {
   "cell_type": "markdown",
   "metadata": {
    "colab_type": "text",
    "id": "CO-Nl-0tor6W"
   },
   "source": [
    "## Запуск тестов"
   ]
  },
  {
   "cell_type": "code",
   "execution_count": null,
   "metadata": {
    "colab": {
     "base_uri": "https://localhost:8080/",
     "height": 143
    },
    "colab_type": "code",
    "id": "PQyyW4jHowk6",
    "outputId": "beb89ea3-6f43-4aa2-936f-6e22d0ad3e9f"
   },
   "outputs": [
    {
     "name": "stderr",
     "output_type": "stream",
     "text": [
      "test_add (__main__.TestNotebook) ... ok\n",
      "\n",
      "----------------------------------------------------------------------\n",
      "Ran 1 test in 0.002s\n",
      "\n",
      "OK\n"
     ]
    },
    {
     "data": {
      "text/plain": [
       "<unittest.main.TestProgram at 0x7f929c006dd8>"
      ]
     },
     "execution_count": 10,
     "metadata": {
      "tags": []
     },
     "output_type": "execute_result"
    }
   ],
   "source": [
    "unittest.main(argv=[''], verbosity=2, exit=False)"
   ]
  }
 ],
 "metadata": {
  "colab": {
   "name": "solution.ipynb",
   "provenance": [],
   "toc_visible": true
  },
  "kernelspec": {
   "display_name": "Python 3",
   "language": "python",
   "name": "python3"
  },
  "language_info": {
   "codemirror_mode": {
    "name": "ipython",
    "version": 3
   },
   "file_extension": ".py",
   "mimetype": "text/x-python",
   "name": "python",
   "nbconvert_exporter": "python",
   "pygments_lexer": "ipython3",
   "version": "3.6.10"
  }
 },
 "nbformat": 4,
 "nbformat_minor": 1
}
